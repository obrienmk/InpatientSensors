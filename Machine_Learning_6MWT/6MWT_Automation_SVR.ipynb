{
 "cells": [
  {
   "cell_type": "code",
   "execution_count": null,
   "metadata": {},
   "outputs": [],
   "source": [
    "import numpy as np\n",
    "import pandas as pd\n",
    "import matplotlib.pyplot as plt\n",
    "import seaborn as seabornInstance\n",
    "from sklearn.model_selection import train_test_split\n",
    "from sklearn.model_selection import KFold\n",
    "from sklearn.model_selection import LeaveOneOut\n",
    "from sklearn import preprocessing\n",
    "from sklearn import svm\n",
    "from sklearn import metrics\n",
    "%matplotlib inline"
   ]
  },
  {
   "cell_type": "code",
   "execution_count": null,
   "metadata": {},
   "outputs": [],
   "source": [
    "data = pd.read_csv(r\"C:\\Users\\sshin\\Desktop\\SYSHIN0228\\RERC_STARTS_Sensor_Analysis\\Machine_Learning_6MWT\\MWT6_AoM_Feature_Matrix360.csv\", sep=',')\n",
    "\n",
    "# data.head()\n",
    "# data.shape\n",
    "data.describe()\n",
    "# print(data)"
   ]
  },
  {
   "cell_type": "code",
   "execution_count": null,
   "metadata": {},
   "outputs": [],
   "source": [
    "X = data[['AoM_Pel_tilt', 'AoM_Pel_ro', 'AoM_Pel_oblq', 'AoM_Pel_Norm',\n",
    "        'AoM_Ankle_US_x', 'AoM_Ankle_US_y', 'AoM_Ankle_US_z', 'AoM_Ankle_US_Norm',\n",
    "        'AoM_Ankle_AS_x', 'AoM_Ankle_AS_y', 'AoM_Ankle_AS_z', 'AoM_Ankle_US_Norm']].values\n",
    "\n",
    "y = data['MWT6'].values.reshape(-1,1)\n",
    "\n",
    "min_max_scaler = preprocessing.MinMaxScaler()\n",
    "X_scale = min_max_scaler.fit_transform(X)\n",
    "y_scale = min_max_scaler.fit_transform(y)\n",
    "\n",
    "# X_scale = preprocessing.scale(X)\n",
    "# y_scale = preprocessing.scale(y)\n",
    "\n",
    "print(X_scale)\n",
    "print(y_scale)"
   ]
  },
  {
   "cell_type": "markdown",
   "metadata": {},
   "source": [
    "# k-Fold Cross Validation"
   ]
  },
  {
   "cell_type": "code",
   "execution_count": null,
   "metadata": {},
   "outputs": [],
   "source": [
    "kf = KFold(n_splits=10, random_state=12, shuffle=False)\n",
    "kf.get_n_splits(X)\n",
    "print(kf)"
   ]
  },
  {
   "cell_type": "code",
   "execution_count": null,
   "metadata": {},
   "outputs": [],
   "source": [
    "i = 1\n",
    "RMSE = np.zeros((10))\n",
    "\n",
    "for train_index, test_index in kf.split(X):\n",
    "    print(\"TRAIN:\", train_index, \"TEST:\", test_index)\n",
    "    X_train, X_test = X_scale[train_index], X_scale[test_index]\n",
    "    y_train, y_test = y_scale[train_index], y_scale[test_index]\n",
    "    \n",
    "    regressor = svm.SVR(kernel = 'linear', C = 1, gamma='auto')\n",
    "    regressor.fit(X_train,y_train)\n",
    "    \n",
    "    y_pred = regressor.predict(X_test)\n",
    "    \n",
    "    y_pred_ = y_pred*(max(y)-min(y))+min(y)\n",
    "    y_test_ = y_test*(max(y)-min(y))+min(y)\n",
    "    \n",
    "    \n",
    "    df = pd.DataFrame({'Actual': y_test_.flatten(), 'Predicted': y_pred_.flatten()})\n",
    "    print(df)\n",
    "    \n",
    "    df1 = df.head(25)\n",
    "    df1.plot(kind='bar', figsize=(16,10))\n",
    "    plt.grid(which='major', linestyle='-', linewidth='0.5', color='red')\n",
    "    # plt.grid(which='minor', linestyle=':', linewidth='0.5', color='black')\n",
    "    plt.show()\n",
    "    \n",
    "    print('Mean Absolute Error:', metrics.mean_absolute_error(y_test_, y_pred_))\n",
    "    print('Mean Squared Error:', metrics.mean_squared_error(y_test_, y_pred_))\n",
    "    print('RMS:', np.sqrt(metrics.mean_squared_error(y_test_, y_pred_)))\n",
    "    \n",
    "    RMSE[i-1] = np.sqrt(metrics.mean_squared_error(y_test_, y_pred_))\n",
    "    \n",
    "    i = i+1\n",
    "    print(\"Iteration: \", i)\n",
    "    \n",
    "\n",
    "print(\"RMSE:\", RMSE)\n",
    "RMSE_mean = np.mean(RMSE)\n",
    "RMSE_std = np.std(RMSE)\n",
    "\n",
    "print(\"Average RMSE:\",RMSE_mean, \"+-\", RMSE_std)    \n"
   ]
  },
  {
   "cell_type": "markdown",
   "metadata": {},
   "source": [
    "# Leave-one-out Cross Validation"
   ]
  },
  {
   "cell_type": "code",
   "execution_count": null,
   "metadata": {},
   "outputs": [],
   "source": [
    "loo = LeaveOneOut()\n",
    "loo.get_n_splits(X)\n",
    "i = 1\n",
    "RMSE = np.zeros((141))\n",
    "for train_index, test_index in loo.split(X):\n",
    "    print(\"TRAIN:\", train_index, \"TEST:\", test_index)\n",
    "    X_train, X_test = X_scale[train_index], X_scale[test_index]\n",
    "    y_train, y_test = y_scale[train_index], y_scale[test_index]\n",
    "    \n",
    "    regressor = svm.SVR(kernel = 'linear', C = 1, gamma='auto')\n",
    "    regressor.fit(X_train,y_train)\n",
    "    \n",
    "    y_pred = regressor.predict(X_test)\n",
    "    \n",
    "    y_pred_ = y_pred*(max(y)-min(y))+min(y)\n",
    "    y_test_ = y_test*(max(y)-min(y))+min(y)\n",
    "    \n",
    "    \n",
    "    df = pd.DataFrame({'Actual': y_test_.flatten(), 'Predicted': y_pred_.flatten()})\n",
    "    df\n",
    "    \n",
    "#     df1 = df.head(25)\n",
    "#     df1.plot(kind='bar', figsize=(16,10))\n",
    "#     plt.grid(which='major', linestyle='-', linewidth='0.5', color='red')\n",
    "#     # plt.grid(which='minor', linestyle=':', linewidth='0.5', color='black')\n",
    "#     plt.show()\n",
    "    \n",
    "    print('Mean Absolute Error:', metrics.mean_absolute_error(y_test_, y_pred_))\n",
    "    print('Mean Squared Error:', metrics.mean_squared_error(y_test_, y_pred_))\n",
    "    print('RMSE:', np.sqrt(metrics.mean_squared_error(y_test_, y_pred_)))\n",
    "    \n",
    "    RMSE[i-1] = np.sqrt(metrics.mean_squared_error(y_test_, y_pred_))\n",
    "    \n",
    "    i = i+1\n",
    "    print(\"Iteration: \", i)\n",
    "    \n",
    "\n",
    "print(\"RMSE:\", RMSE)\n",
    "RMSE_mean = np.mean(RMSE)\n",
    "RMSE_std = np.std(RMSE)\n",
    "\n",
    "print(\"Average RMSE:\",RMSE_mean, \"+-\", RMSE_std)\n",
    "    "
   ]
  }
 ],
 "metadata": {
  "kernelspec": {
   "display_name": "Python 3",
   "language": "python",
   "name": "python3"
  },
  "language_info": {
   "codemirror_mode": {
    "name": "ipython",
    "version": 3
   },
   "file_extension": ".py",
   "mimetype": "text/x-python",
   "name": "python",
   "nbconvert_exporter": "python",
   "pygments_lexer": "ipython3",
   "version": "3.7.4"
  }
 },
 "nbformat": 4,
 "nbformat_minor": 2
}
