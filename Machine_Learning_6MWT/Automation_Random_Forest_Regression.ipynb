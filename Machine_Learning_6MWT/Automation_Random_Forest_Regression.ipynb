{
 "cells": [
  {
   "cell_type": "code",
   "execution_count": 4,
   "metadata": {},
   "outputs": [],
   "source": [
    "import numpy as np\n",
    "import pandas as pd\n",
    "import matplotlib.pyplot as plt\n",
    "import seaborn as seabornInstance\n",
    "from sklearn.model_selection import train_test_split\n",
    "from sklearn.model_selection import KFold\n",
    "from sklearn.model_selection import LeaveOneOut\n",
    "# from sklearn.linear_model import LinearRegression\n",
    "# from sklearn.linear_model import Ridge\n",
    "# from sklearn.linear_model import Lasso\n",
    "# from sklearn.linear_model import ElasticNet\n",
    "\n",
    "\n",
    "from sklearn.ensemble import RandomForestRegressor\n",
    "\n",
    "from sklearn import metrics\n",
    "from sklearn import preprocessing\n",
    "from pathlib import Path\n",
    "%matplotlib inline"
   ]
  },
  {
   "cell_type": "code",
   "execution_count": 53,
   "metadata": {},
   "outputs": [
    {
     "name": "stdout",
     "output_type": "stream",
     "text": [
      "    Sub_ID Sub_Type  Cut_Off_Time  FIM  FIM_M  BBS  MWT10_SSV  MWT10_FV  \\\n",
      "139   CVA2   CVA_AD            10   85     56   38      0.595     0.771   \n",
      "140   CVA4   CVA_AD            10   44     24    3      0.000     0.000   \n",
      "141   CVA5   CVA_AD            10   62     34    6      0.000     0.000   \n",
      "142   CVA6   CVA_AD            10   57     35   16      0.783     0.000   \n",
      "143   CVA9   CVA_AD            10   71     49   37      0.917     1.166   \n",
      "..     ...      ...           ...  ...    ...  ...        ...       ...   \n",
      "225  CVA51   CVA_DC            10   89     59   37      1.270     2.149   \n",
      "226  CVA52   CVA_DC            10   61     40    4      0.097     0.000   \n",
      "227  CVA53   CVA_DC            10   90     64   38      1.132     1.591   \n",
      "228  CVA54   CVA_DC            10   94     66   44      1.567     2.258   \n",
      "229  CVA55   CVA_DC            10  120     89   51      1.593     2.992   \n",
      "\n",
      "         MWT6      TUG  ...  DLS_L_Acc_z_PSD_mean  DLS_L_Acc_z_PSD_std  \\\n",
      "139  193.1210  26.9930  ...              0.002632             0.002837   \n",
      "140  233.0196   0.0000  ...              0.001878             0.005541   \n",
      "141   23.0000   0.0000  ...              0.000922             0.004190   \n",
      "142  124.9700  47.5180  ...              0.001891             0.002734   \n",
      "143  152.4600  26.3015  ...              0.002023             0.002391   \n",
      "..        ...      ...  ...                   ...                  ...   \n",
      "225  273.7600  16.6300  ...              0.002799             0.002565   \n",
      "226   10.5500   0.0000  ...              0.000494             0.001826   \n",
      "227  228.8800  19.7830  ...              0.002717             0.003530   \n",
      "228  345.3400  12.1980  ...              0.001778             0.003660   \n",
      "229  295.8850   8.5103  ...              0.002046             0.004230   \n",
      "\n",
      "     DLS_L_Acc_z_PSD_skew  DLS_L_Acc_z_PSD_kurtosis  DLS_L_Acc_norm_DAmp  \\\n",
      "139             38.482202               2389.123896             1.299154   \n",
      "140             65.206423               4978.423068             1.320701   \n",
      "141             56.011452               3766.428967             1.235059   \n",
      "142             52.247620               3675.391060             1.286425   \n",
      "143             16.746425                635.773186             1.302883   \n",
      "..                    ...                       ...                  ...   \n",
      "225             21.016757               1035.520523             1.306340   \n",
      "226             62.694025               4709.090140             1.213804   \n",
      "227             44.863545               3011.513622             1.383742   \n",
      "228             50.851446               3526.410255             1.435941   \n",
      "229             50.617479               3537.372605             1.620439   \n",
      "\n",
      "     DLS_L_Acc_norm_DFreq  DLS_L_Acc_norm_PSD_mean  DLS_L_Acc_norm_PSD_std  \\\n",
      "139                     0                 0.023102                0.091355   \n",
      "140                     0                 0.023779                0.093129   \n",
      "141                     0                 0.023805                0.086444   \n",
      "142                     0                 0.036194                0.089694   \n",
      "143                     0                 0.025013                0.092476   \n",
      "..                    ...                      ...                     ...   \n",
      "225                     0                 0.026859                0.091782   \n",
      "226                     0                 0.015939                0.085755   \n",
      "227                     0                 0.029741                0.098771   \n",
      "228                     0                 0.027740                0.104010   \n",
      "229                     0                 0.038145                0.118350   \n",
      "\n",
      "     DLS_L_Acc_norm_PSD_skew  DLS_L_Acc_norm_PSD_kurtosis  \n",
      "139                11.945794                   157.718682  \n",
      "140                11.796944                   155.360323  \n",
      "141                12.072233                   159.883619  \n",
      "142                11.788482                   155.730249  \n",
      "143                11.583812                   151.172339  \n",
      "..                       ...                          ...  \n",
      "225                11.807414                   155.776227  \n",
      "226                11.949668                   157.692577  \n",
      "227                11.292776                   146.183661  \n",
      "228                11.009330                   139.968044  \n",
      "229                10.650521                   133.413903  \n",
      "\n",
      "[91 rows x 352 columns]\n",
      "TRAIN: [ 1  2  3  4  5  6  7  8  9 10 11 12 13 14 15 16 17 18 19 20 21 22 23 24\n",
      " 25 26 27 28 29 30 31 32 33 34 35 36 37 38 39 40 41 42 43 44 45 46 47 48\n",
      " 49 50 51 52 53 54 55 56 57 58 59 60 61 62 63 64 65 66 67 68 69 70 71 72\n",
      " 73 74 75 76 77 78 79 80 81 82 83 84 85 86 87 88 89 90] TEST: [0]\n",
      "Mean Absolute Error: 0.31933189999999967\n",
      "RMSE: 0.31933189999999967\n",
      "MAE Percent:  42.596953457374056\n",
      "Iteration:  1\n",
      "y_pred:  [0.9143319] y_test:  [[0.595]]\n",
      "TRAIN: [ 0  2  3  4  5  6  7  8  9 10 11 12 13 14 15 16 17 18 19 20 21 22 23 24\n",
      " 25 26 27 28 29 30 31 32 33 34 35 36 37 38 39 40 41 42 43 44 45 46 47 48\n",
      " 49 50 51 52 53 54 55 56 57 58 59 60 61 62 63 64 65 66 67 68 69 70 71 72\n",
      " 73 74 75 76 77 78 79 80 81 82 83 84 85 86 87 88 89 90] TEST: [1]\n"
     ]
    },
    {
     "name": "stderr",
     "output_type": "stream",
     "text": [
      "C:\\ProgramData\\Anaconda3\\lib\\site-packages\\ipykernel_launcher.py:209: DataConversionWarning: A column-vector y was passed when a 1d array was expected. Please change the shape of y to (n_samples,), for example using ravel().\n",
      "C:\\ProgramData\\Anaconda3\\lib\\site-packages\\ipykernel_launcher.py:209: DataConversionWarning: A column-vector y was passed when a 1d array was expected. Please change the shape of y to (n_samples,), for example using ravel().\n"
     ]
    },
    {
     "name": "stdout",
     "output_type": "stream",
     "text": [
      "Mean Absolute Error: 0.7182367999999999\n",
      "RMSE: 0.7182367999999999\n",
      "MAE Percent:  95.80846617883559\n",
      "Iteration:  2\n",
      "y_pred:  [0.7182368] y_test:  [[0.]]\n",
      "TRAIN: [ 0  1  3  4  5  6  7  8  9 10 11 12 13 14 15 16 17 18 19 20 21 22 23 24\n",
      " 25 26 27 28 29 30 31 32 33 34 35 36 37 38 39 40 41 42 43 44 45 46 47 48\n",
      " 49 50 51 52 53 54 55 56 57 58 59 60 61 62 63 64 65 66 67 68 69 70 71 72\n",
      " 73 74 75 76 77 78 79 80 81 82 83 84 85 86 87 88 89 90] TEST: [2]\n",
      "Mean Absolute Error: 0.11316399999999993\n",
      "RMSE: 0.11316399999999993\n",
      "MAE Percent:  15.095396485757545\n",
      "Iteration:  3\n",
      "y_pred:  [0.113164] y_test:  [[0.]]\n",
      "TRAIN: [ 0  1  2  4  5  6  7  8  9 10 11 12 13 14 15 16 17 18 19 20 21 22 23 24\n",
      " 25 26 27 28 29 30 31 32 33 34 35 36 37 38 39 40 41 42 43 44 45 46 47 48\n",
      " 49 50 51 52 53 54 55 56 57 58 59 60 61 62 63 64 65 66 67 68 69 70 71 72\n",
      " 73 74 75 76 77 78 79 80 81 82 83 84 85 86 87 88 89 90] TEST: [3]\n"
     ]
    },
    {
     "name": "stderr",
     "output_type": "stream",
     "text": [
      "C:\\ProgramData\\Anaconda3\\lib\\site-packages\\ipykernel_launcher.py:209: DataConversionWarning: A column-vector y was passed when a 1d array was expected. Please change the shape of y to (n_samples,), for example using ravel().\n",
      "C:\\ProgramData\\Anaconda3\\lib\\site-packages\\ipykernel_launcher.py:209: DataConversionWarning: A column-vector y was passed when a 1d array was expected. Please change the shape of y to (n_samples,), for example using ravel().\n"
     ]
    },
    {
     "name": "stdout",
     "output_type": "stream",
     "text": [
      "Mean Absolute Error: 0.16394409999999993\n",
      "RMSE: 0.16394409999999993\n",
      "MAE Percent:  21.86915618925351\n",
      "Iteration:  4\n",
      "y_pred:  [0.6190559] y_test:  [[0.783]]\n",
      "TRAIN: [ 0  1  2  3  5  6  7  8  9 10 11 12 13 14 15 16 17 18 19 20 21 22 23 24\n",
      " 25 26 27 28 29 30 31 32 33 34 35 36 37 38 39 40 41 42 43 44 45 46 47 48\n",
      " 49 50 51 52 53 54 55 56 57 58 59 60 61 62 63 64 65 66 67 68 69 70 71 72\n",
      " 73 74 75 76 77 78 79 80 81 82 83 84 85 86 87 88 89 90] TEST: [4]\n",
      "Mean Absolute Error: 0.025533600000000045\n",
      "RMSE: 0.025533600000000045\n",
      "MAE Percent:  3.4060285577457474\n",
      "Iteration:  5\n",
      "y_pred:  [0.8914664] y_test:  [[0.917]]\n",
      "TRAIN: [ 0  1  2  3  4  6  7  8  9 10 11 12 13 14 15 16 17 18 19 20 21 22 23 24\n",
      " 25 26 27 28 29 30 31 32 33 34 35 36 37 38 39 40 41 42 43 44 45 46 47 48\n",
      " 49 50 51 52 53 54 55 56 57 58 59 60 61 62 63 64 65 66 67 68 69 70 71 72\n",
      " 73 74 75 76 77 78 79 80 81 82 83 84 85 86 87 88 89 90] TEST: [5]\n"
     ]
    },
    {
     "name": "stderr",
     "output_type": "stream",
     "text": [
      "C:\\ProgramData\\Anaconda3\\lib\\site-packages\\ipykernel_launcher.py:209: DataConversionWarning: A column-vector y was passed when a 1d array was expected. Please change the shape of y to (n_samples,), for example using ravel().\n",
      "C:\\ProgramData\\Anaconda3\\lib\\site-packages\\ipykernel_launcher.py:209: DataConversionWarning: A column-vector y was passed when a 1d array was expected. Please change the shape of y to (n_samples,), for example using ravel().\n"
     ]
    },
    {
     "name": "stdout",
     "output_type": "stream",
     "text": [
      "Mean Absolute Error: 0.12005699999999994\n",
      "RMSE: 0.12005699999999994\n",
      "MAE Percent:  16.014881198001078\n",
      "Iteration:  6\n",
      "y_pred:  [0.206457] y_test:  [[0.0864]]\n",
      "TRAIN: [ 0  1  2  3  4  5  7  8  9 10 11 12 13 14 15 16 17 18 19 20 21 22 23 24\n",
      " 25 26 27 28 29 30 31 32 33 34 35 36 37 38 39 40 41 42 43 44 45 46 47 48\n",
      " 49 50 51 52 53 54 55 56 57 58 59 60 61 62 63 64 65 66 67 68 69 70 71 72\n",
      " 73 74 75 76 77 78 79 80 81 82 83 84 85 86 87 88 89 90] TEST: [6]\n",
      "Mean Absolute Error: 0.10125000000000028\n",
      "RMSE: 0.10125000000000028\n",
      "MAE Percent:  13.506140594031288\n",
      "Iteration:  7\n",
      "y_pred:  [1.20025] y_test:  [[1.099]]\n",
      "TRAIN: [ 0  1  2  3  4  5  6  8  9 10 11 12 13 14 15 16 17 18 19 20 21 22 23 24\n",
      " 25 26 27 28 29 30 31 32 33 34 35 36 37 38 39 40 41 42 43 44 45 46 47 48\n",
      " 49 50 51 52 53 54 55 56 57 58 59 60 61 62 63 64 65 66 67 68 69 70 71 72\n",
      " 73 74 75 76 77 78 79 80 81 82 83 84 85 86 87 88 89 90] TEST: [7]\n"
     ]
    },
    {
     "name": "stderr",
     "output_type": "stream",
     "text": [
      "C:\\ProgramData\\Anaconda3\\lib\\site-packages\\ipykernel_launcher.py:209: DataConversionWarning: A column-vector y was passed when a 1d array was expected. Please change the shape of y to (n_samples,), for example using ravel().\n",
      "C:\\ProgramData\\Anaconda3\\lib\\site-packages\\ipykernel_launcher.py:209: DataConversionWarning: A column-vector y was passed when a 1d array was expected. Please change the shape of y to (n_samples,), for example using ravel().\n"
     ]
    },
    {
     "name": "stdout",
     "output_type": "stream",
     "text": [
      "Mean Absolute Error: 0.09988099999999944\n",
      "RMSE: 0.09988099999999944\n",
      "MAE Percent:  13.323524233801756\n",
      "Iteration:  8\n",
      "y_pred:  [1.266881] y_test:  [[1.167]]\n",
      "TRAIN: [ 0  1  2  3  4  5  6  7  9 10 11 12 13 14 15 16 17 18 19 20 21 22 23 24\n",
      " 25 26 27 28 29 30 31 32 33 34 35 36 37 38 39 40 41 42 43 44 45 46 47 48\n",
      " 49 50 51 52 53 54 55 56 57 58 59 60 61 62 63 64 65 66 67 68 69 70 71 72\n",
      " 73 74 75 76 77 78 79 80 81 82 83 84 85 86 87 88 89 90] TEST: [8]\n",
      "Mean Absolute Error: 0.22218500000000005\n",
      "RMSE: 0.22218500000000005\n",
      "MAE Percent:  29.638141707504534\n",
      "Iteration:  9\n",
      "y_pred:  [0.208315] y_test:  [[0.4305]]\n",
      "TRAIN: [ 0  1  2  3  4  5  6  7  8 10 11 12 13 14 15 16 17 18 19 20 21 22 23 24\n",
      " 25 26 27 28 29 30 31 32 33 34 35 36 37 38 39 40 41 42 43 44 45 46 47 48\n",
      " 49 50 51 52 53 54 55 56 57 58 59 60 61 62 63 64 65 66 67 68 69 70 71 72\n",
      " 73 74 75 76 77 78 79 80 81 82 83 84 85 86 87 88 89 90] TEST: [9]\n"
     ]
    },
    {
     "name": "stderr",
     "output_type": "stream",
     "text": [
      "C:\\ProgramData\\Anaconda3\\lib\\site-packages\\ipykernel_launcher.py:209: DataConversionWarning: A column-vector y was passed when a 1d array was expected. Please change the shape of y to (n_samples,), for example using ravel().\n",
      "C:\\ProgramData\\Anaconda3\\lib\\site-packages\\ipykernel_launcher.py:209: DataConversionWarning: A column-vector y was passed when a 1d array was expected. Please change the shape of y to (n_samples,), for example using ravel().\n"
     ]
    },
    {
     "name": "stdout",
     "output_type": "stream",
     "text": [
      "Mean Absolute Error: 0.18591109999999966\n",
      "RMSE: 0.18591109999999966\n",
      "MAE Percent:  24.799421773738256\n",
      "Iteration:  10\n",
      "y_pred:  [0.7229111] y_test:  [[0.537]]\n",
      "TRAIN: [ 0  1  2  3  4  5  6  7  8  9 11 12 13 14 15 16 17 18 19 20 21 22 23 24\n",
      " 25 26 27 28 29 30 31 32 33 34 35 36 37 38 39 40 41 42 43 44 45 46 47 48\n",
      " 49 50 51 52 53 54 55 56 57 58 59 60 61 62 63 64 65 66 67 68 69 70 71 72\n",
      " 73 74 75 76 77 78 79 80 81 82 83 84 85 86 87 88 89 90] TEST: [10]\n",
      "Mean Absolute Error: 0.2513959999999998\n",
      "RMSE: 0.2513959999999998\n",
      "MAE Percent:  33.53471329162545\n",
      "Iteration:  11\n",
      "y_pred:  [0.354396] y_test:  [[0.103]]\n",
      "TRAIN: [ 0  1  2  3  4  5  6  7  8  9 10 12 13 14 15 16 17 18 19 20 21 22 23 24\n",
      " 25 26 27 28 29 30 31 32 33 34 35 36 37 38 39 40 41 42 43 44 45 46 47 48\n",
      " 49 50 51 52 53 54 55 56 57 58 59 60 61 62 63 64 65 66 67 68 69 70 71 72\n",
      " 73 74 75 76 77 78 79 80 81 82 83 84 85 86 87 88 89 90] TEST: [11]\n"
     ]
    },
    {
     "name": "stderr",
     "output_type": "stream",
     "text": [
      "C:\\ProgramData\\Anaconda3\\lib\\site-packages\\ipykernel_launcher.py:209: DataConversionWarning: A column-vector y was passed when a 1d array was expected. Please change the shape of y to (n_samples,), for example using ravel().\n",
      "C:\\ProgramData\\Anaconda3\\lib\\site-packages\\ipykernel_launcher.py:209: DataConversionWarning: A column-vector y was passed when a 1d array was expected. Please change the shape of y to (n_samples,), for example using ravel().\n"
     ]
    },
    {
     "name": "stdout",
     "output_type": "stream",
     "text": [
      "Mean Absolute Error: 0.1288519999999994\n",
      "RMSE: 0.1288519999999994\n",
      "MAE Percent:  17.188081262440562\n",
      "Iteration:  12\n",
      "y_pred:  [0.942148] y_test:  [[1.071]]\n",
      "TRAIN: [ 0  1  2  3  4  5  6  7  8  9 10 11 13 14 15 16 17 18 19 20 21 22 23 24\n",
      " 25 26 27 28 29 30 31 32 33 34 35 36 37 38 39 40 41 42 43 44 45 46 47 48\n",
      " 49 50 51 52 53 54 55 56 57 58 59 60 61 62 63 64 65 66 67 68 69 70 71 72\n",
      " 73 74 75 76 77 78 79 80 81 82 83 84 85 86 87 88 89 90] TEST: [12]\n",
      "Mean Absolute Error: 0.047679700000000436\n",
      "RMSE: 0.047679700000000436\n",
      "MAE Percent:  6.3601850042591375\n",
      "Iteration:  13\n",
      "y_pred:  [1.2776797] y_test:  [[1.23]]\n",
      "TRAIN: [ 0  1  2  3  4  5  6  7  8  9 10 11 12 14 15 16 17 18 19 20 21 22 23 24\n",
      " 25 26 27 28 29 30 31 32 33 34 35 36 37 38 39 40 41 42 43 44 45 46 47 48\n",
      " 49 50 51 52 53 54 55 56 57 58 59 60 61 62 63 64 65 66 67 68 69 70 71 72\n",
      " 73 74 75 76 77 78 79 80 81 82 83 84 85 86 87 88 89 90] TEST: [13]\n"
     ]
    },
    {
     "name": "stderr",
     "output_type": "stream",
     "text": [
      "C:\\ProgramData\\Anaconda3\\lib\\site-packages\\ipykernel_launcher.py:209: DataConversionWarning: A column-vector y was passed when a 1d array was expected. Please change the shape of y to (n_samples,), for example using ravel().\n",
      "C:\\ProgramData\\Anaconda3\\lib\\site-packages\\ipykernel_launcher.py:209: DataConversionWarning: A column-vector y was passed when a 1d array was expected. Please change the shape of y to (n_samples,), for example using ravel().\n"
     ]
    },
    {
     "name": "stdout",
     "output_type": "stream",
     "text": [
      "Mean Absolute Error: 0.018154000000000448\n",
      "RMSE: 0.018154000000000448\n",
      "MAE Percent:  2.4216343342622157\n",
      "Iteration:  14\n",
      "y_pred:  [1.034154] y_test:  [[1.016]]\n",
      "TRAIN: [ 0  1  2  3  4  5  6  7  8  9 10 11 12 13 15 16 17 18 19 20 21 22 23 24\n",
      " 25 26 27 28 29 30 31 32 33 34 35 36 37 38 39 40 41 42 43 44 45 46 47 48\n",
      " 49 50 51 52 53 54 55 56 57 58 59 60 61 62 63 64 65 66 67 68 69 70 71 72\n",
      " 73 74 75 76 77 78 79 80 81 82 83 84 85 86 87 88 89 90] TEST: [14]\n",
      "Mean Absolute Error: 0.00787700000000019\n",
      "RMSE: 0.00787700000000019\n",
      "MAE Percent:  1.0507443897203625\n",
      "Iteration:  15\n",
      "y_pred:  [0.318123] y_test:  [[0.326]]\n",
      "TRAIN: [ 0  1  2  3  4  5  6  7  8  9 10 11 12 13 14 16 17 18 19 20 21 22 23 24\n",
      " 25 26 27 28 29 30 31 32 33 34 35 36 37 38 39 40 41 42 43 44 45 46 47 48\n",
      " 49 50 51 52 53 54 55 56 57 58 59 60 61 62 63 64 65 66 67 68 69 70 71 72\n",
      " 73 74 75 76 77 78 79 80 81 82 83 84 85 86 87 88 89 90] TEST: [15]\n"
     ]
    },
    {
     "name": "stderr",
     "output_type": "stream",
     "text": [
      "C:\\ProgramData\\Anaconda3\\lib\\site-packages\\ipykernel_launcher.py:209: DataConversionWarning: A column-vector y was passed when a 1d array was expected. Please change the shape of y to (n_samples,), for example using ravel().\n",
      "C:\\ProgramData\\Anaconda3\\lib\\site-packages\\ipykernel_launcher.py:209: DataConversionWarning: A column-vector y was passed when a 1d array was expected. Please change the shape of y to (n_samples,), for example using ravel().\n"
     ]
    },
    {
     "name": "stdout",
     "output_type": "stream",
     "text": [
      "Mean Absolute Error: 0.22534699999999863\n",
      "RMSE: 0.22534699999999863\n",
      "MAE Percent:  30.059933475981644\n",
      "Iteration:  16\n",
      "y_pred:  [1.406347] y_test:  [[1.181]]\n",
      "TRAIN: [ 0  1  2  3  4  5  6  7  8  9 10 11 12 13 14 15 17 18 19 20 21 22 23 24\n",
      " 25 26 27 28 29 30 31 32 33 34 35 36 37 38 39 40 41 42 43 44 45 46 47 48\n",
      " 49 50 51 52 53 54 55 56 57 58 59 60 61 62 63 64 65 66 67 68 69 70 71 72\n",
      " 73 74 75 76 77 78 79 80 81 82 83 84 85 86 87 88 89 90] TEST: [16]\n",
      "Mean Absolute Error: 0.14697869999999996\n",
      "RMSE: 0.14697869999999996\n",
      "MAE Percent:  19.606073941016692\n",
      "Iteration:  17\n",
      "y_pred:  [0.1469787] y_test:  [[0.]]\n",
      "TRAIN: [ 0  1  2  3  4  5  6  7  8  9 10 11 12 13 14 15 16 18 19 20 21 22 23 24\n",
      " 25 26 27 28 29 30 31 32 33 34 35 36 37 38 39 40 41 42 43 44 45 46 47 48\n",
      " 49 50 51 52 53 54 55 56 57 58 59 60 61 62 63 64 65 66 67 68 69 70 71 72\n",
      " 73 74 75 76 77 78 79 80 81 82 83 84 85 86 87 88 89 90] TEST: [17]\n"
     ]
    },
    {
     "name": "stderr",
     "output_type": "stream",
     "text": [
      "C:\\ProgramData\\Anaconda3\\lib\\site-packages\\ipykernel_launcher.py:209: DataConversionWarning: A column-vector y was passed when a 1d array was expected. Please change the shape of y to (n_samples,), for example using ravel().\n",
      "C:\\ProgramData\\Anaconda3\\lib\\site-packages\\ipykernel_launcher.py:209: DataConversionWarning: A column-vector y was passed when a 1d array was expected. Please change the shape of y to (n_samples,), for example using ravel().\n"
     ]
    },
    {
     "name": "stdout",
     "output_type": "stream",
     "text": [
      "Mean Absolute Error: 0.19708039999999954\n",
      "RMSE: 0.19708039999999954\n",
      "MAE Percent:  26.289339167683064\n",
      "Iteration:  18\n",
      "y_pred:  [0.4050804] y_test:  [[0.208]]\n",
      "TRAIN: [ 0  1  2  3  4  5  6  7  8  9 10 11 12 13 14 15 16 17 19 20 21 22 23 24\n",
      " 25 26 27 28 29 30 31 32 33 34 35 36 37 38 39 40 41 42 43 44 45 46 47 48\n",
      " 49 50 51 52 53 54 55 56 57 58 59 60 61 62 63 64 65 66 67 68 69 70 71 72\n",
      " 73 74 75 76 77 78 79 80 81 82 83 84 85 86 87 88 89 90] TEST: [18]\n",
      "Mean Absolute Error: 0.1470849999999999\n",
      "RMSE: 0.1470849999999999\n",
      "MAE Percent:  19.620253721215654\n",
      "Iteration:  19\n",
      "y_pred:  [0.147085] y_test:  [[0.]]\n",
      "TRAIN: [ 0  1  2  3  4  5  6  7  8  9 10 11 12 13 14 15 16 17 18 20 21 22 23 24\n",
      " 25 26 27 28 29 30 31 32 33 34 35 36 37 38 39 40 41 42 43 44 45 46 47 48\n",
      " 49 50 51 52 53 54 55 56 57 58 59 60 61 62 63 64 65 66 67 68 69 70 71 72\n",
      " 73 74 75 76 77 78 79 80 81 82 83 84 85 86 87 88 89 90] TEST: [19]\n"
     ]
    },
    {
     "name": "stderr",
     "output_type": "stream",
     "text": [
      "C:\\ProgramData\\Anaconda3\\lib\\site-packages\\ipykernel_launcher.py:209: DataConversionWarning: A column-vector y was passed when a 1d array was expected. Please change the shape of y to (n_samples,), for example using ravel().\n",
      "C:\\ProgramData\\Anaconda3\\lib\\site-packages\\ipykernel_launcher.py:209: DataConversionWarning: A column-vector y was passed when a 1d array was expected. Please change the shape of y to (n_samples,), for example using ravel().\n"
     ]
    },
    {
     "name": "stdout",
     "output_type": "stream",
     "text": [
      "Mean Absolute Error: 0.3332560000000002\n",
      "RMSE: 0.3332560000000002\n",
      "MAE Percent:  44.45434459066154\n",
      "Iteration:  20\n",
      "y_pred:  [1.880256] y_test:  [[1.547]]\n",
      "TRAIN: [ 0  1  2  3  4  5  6  7  8  9 10 11 12 13 14 15 16 17 18 19 21 22 23 24\n",
      " 25 26 27 28 29 30 31 32 33 34 35 36 37 38 39 40 41 42 43 44 45 46 47 48\n",
      " 49 50 51 52 53 54 55 56 57 58 59 60 61 62 63 64 65 66 67 68 69 70 71 72\n",
      " 73 74 75 76 77 78 79 80 81 82 83 84 85 86 87 88 89 90] TEST: [20]\n",
      "Mean Absolute Error: 0.41793599999999986\n",
      "RMSE: 0.41793599999999986\n",
      "MAE Percent:  55.75014691661276\n",
      "Iteration:  21\n",
      "y_pred:  [0.253064] y_test:  [[0.671]]\n",
      "TRAIN: [ 0  1  2  3  4  5  6  7  8  9 10 11 12 13 14 15 16 17 18 19 20 22 23 24\n",
      " 25 26 27 28 29 30 31 32 33 34 35 36 37 38 39 40 41 42 43 44 45 46 47 48\n",
      " 49 50 51 52 53 54 55 56 57 58 59 60 61 62 63 64 65 66 67 68 69 70 71 72\n",
      " 73 74 75 76 77 78 79 80 81 82 83 84 85 86 87 88 89 90] TEST: [21]\n"
     ]
    },
    {
     "name": "stderr",
     "output_type": "stream",
     "text": [
      "C:\\ProgramData\\Anaconda3\\lib\\site-packages\\ipykernel_launcher.py:209: DataConversionWarning: A column-vector y was passed when a 1d array was expected. Please change the shape of y to (n_samples,), for example using ravel().\n",
      "C:\\ProgramData\\Anaconda3\\lib\\site-packages\\ipykernel_launcher.py:209: DataConversionWarning: A column-vector y was passed when a 1d array was expected. Please change the shape of y to (n_samples,), for example using ravel().\n"
     ]
    },
    {
     "name": "stdout",
     "output_type": "stream",
     "text": [
      "Mean Absolute Error: 0.19303269999999997\n",
      "RMSE: 0.19303269999999997\n",
      "MAE Percent:  25.74940035007857\n",
      "Iteration:  22\n",
      "y_pred:  [0.3590327] y_test:  [[0.166]]\n",
      "TRAIN: [ 0  1  2  3  4  5  6  7  8  9 10 11 12 13 14 15 16 17 18 19 20 21 23 24\n",
      " 25 26 27 28 29 30 31 32 33 34 35 36 37 38 39 40 41 42 43 44 45 46 47 48\n",
      " 49 50 51 52 53 54 55 56 57 58 59 60 61 62 63 64 65 66 67 68 69 70 71 72\n",
      " 73 74 75 76 77 78 79 80 81 82 83 84 85 86 87 88 89 90] TEST: [22]\n",
      "Mean Absolute Error: 0.029155999999999405\n",
      "RMSE: 0.029155999999999405\n",
      "MAE Percent:  3.889234915156218\n",
      "Iteration:  23\n",
      "y_pred:  [0.940844] y_test:  [[0.97]]\n",
      "TRAIN: [ 0  1  2  3  4  5  6  7  8  9 10 11 12 13 14 15 16 17 18 19 20 21 22 24\n",
      " 25 26 27 28 29 30 31 32 33 34 35 36 37 38 39 40 41 42 43 44 45 46 47 48\n",
      " 49 50 51 52 53 54 55 56 57 58 59 60 61 62 63 64 65 66 67 68 69 70 71 72\n",
      " 73 74 75 76 77 78 79 80 81 82 83 84 85 86 87 88 89 90] TEST: [23]\n"
     ]
    },
    {
     "name": "stderr",
     "output_type": "stream",
     "text": [
      "C:\\ProgramData\\Anaconda3\\lib\\site-packages\\ipykernel_launcher.py:209: DataConversionWarning: A column-vector y was passed when a 1d array was expected. Please change the shape of y to (n_samples,), for example using ravel().\n",
      "C:\\ProgramData\\Anaconda3\\lib\\site-packages\\ipykernel_launcher.py:209: DataConversionWarning: A column-vector y was passed when a 1d array was expected. Please change the shape of y to (n_samples,), for example using ravel().\n"
     ]
    },
    {
     "name": "stdout",
     "output_type": "stream",
     "text": [
      "Mean Absolute Error: 0.16788299999999992\n",
      "RMSE: 0.16788299999999992\n",
      "MAE Percent:  22.394581741706148\n",
      "Iteration:  24\n",
      "y_pred:  [0.167883] y_test:  [[0.]]\n",
      "TRAIN: [ 0  1  2  3  4  5  6  7  8  9 10 11 12 13 14 15 16 17 18 19 20 21 22 23\n",
      " 25 26 27 28 29 30 31 32 33 34 35 36 37 38 39 40 41 42 43 44 45 46 47 48\n",
      " 49 50 51 52 53 54 55 56 57 58 59 60 61 62 63 64 65 66 67 68 69 70 71 72\n",
      " 73 74 75 76 77 78 79 80 81 82 83 84 85 86 87 88 89 90] TEST: [24]\n",
      "Mean Absolute Error: 0.002678999999999626\n",
      "RMSE: 0.002678999999999626\n",
      "MAE Percent:  0.3573624755694288\n",
      "Iteration:  25\n",
      "y_pred:  [0.198679] y_test:  [[0.196]]\n",
      "TRAIN: [ 0  1  2  3  4  5  6  7  8  9 10 11 12 13 14 15 16 17 18 19 20 21 22 23\n",
      " 24 26 27 28 29 30 31 32 33 34 35 36 37 38 39 40 41 42 43 44 45 46 47 48\n",
      " 49 50 51 52 53 54 55 56 57 58 59 60 61 62 63 64 65 66 67 68 69 70 71 72\n",
      " 73 74 75 76 77 78 79 80 81 82 83 84 85 86 87 88 89 90] TEST: [25]\n"
     ]
    },
    {
     "name": "stderr",
     "output_type": "stream",
     "text": [
      "C:\\ProgramData\\Anaconda3\\lib\\site-packages\\ipykernel_launcher.py:209: DataConversionWarning: A column-vector y was passed when a 1d array was expected. Please change the shape of y to (n_samples,), for example using ravel().\n",
      "C:\\ProgramData\\Anaconda3\\lib\\site-packages\\ipykernel_launcher.py:209: DataConversionWarning: A column-vector y was passed when a 1d array was expected. Please change the shape of y to (n_samples,), for example using ravel().\n"
     ]
    },
    {
     "name": "stdout",
     "output_type": "stream",
     "text": [
      "Mean Absolute Error: 0.07364070000000045\n",
      "RMSE: 0.07364070000000045\n",
      "MAE Percent:  9.82322614955934\n",
      "Iteration:  26\n",
      "y_pred:  [1.0376407] y_test:  [[0.964]]\n",
      "TRAIN: [ 0  1  2  3  4  5  6  7  8  9 10 11 12 13 14 15 16 17 18 19 20 21 22 23\n",
      " 24 25 27 28 29 30 31 32 33 34 35 36 37 38 39 40 41 42 43 44 45 46 47 48\n",
      " 49 50 51 52 53 54 55 56 57 58 59 60 61 62 63 64 65 66 67 68 69 70 71 72\n",
      " 73 74 75 76 77 78 79 80 81 82 83 84 85 86 87 88 89 90] TEST: [26]\n",
      "Mean Absolute Error: 0.025100000000000122\n",
      "RMSE: 0.025100000000000122\n",
      "MAE Percent:  3.34818892750801\n",
      "Iteration:  27\n",
      "y_pred:  [0.2801] y_test:  [[0.255]]\n",
      "TRAIN: [ 0  1  2  3  4  5  6  7  8  9 10 11 12 13 14 15 16 17 18 19 20 21 22 23\n",
      " 24 25 26 28 29 30 31 32 33 34 35 36 37 38 39 40 41 42 43 44 45 46 47 48\n",
      " 49 50 51 52 53 54 55 56 57 58 59 60 61 62 63 64 65 66 67 68 69 70 71 72\n",
      " 73 74 75 76 77 78 79 80 81 82 83 84 85 86 87 88 89 90] TEST: [27]\n"
     ]
    },
    {
     "name": "stderr",
     "output_type": "stream",
     "text": [
      "C:\\ProgramData\\Anaconda3\\lib\\site-packages\\ipykernel_launcher.py:209: DataConversionWarning: A column-vector y was passed when a 1d array was expected. Please change the shape of y to (n_samples,), for example using ravel().\n",
      "C:\\ProgramData\\Anaconda3\\lib\\site-packages\\ipykernel_launcher.py:209: DataConversionWarning: A column-vector y was passed when a 1d array was expected. Please change the shape of y to (n_samples,), for example using ravel().\n"
     ]
    },
    {
     "name": "stdout",
     "output_type": "stream",
     "text": [
      "Mean Absolute Error: 0.051564900000000136\n",
      "RMSE: 0.051564900000000136\n",
      "MAE Percent:  6.8784472999226045\n",
      "Iteration:  28\n",
      "y_pred:  [0.7364351] y_test:  [[0.788]]\n",
      "TRAIN: [ 0  1  2  3  4  5  6  7  8  9 10 11 12 13 14 15 16 17 18 19 20 21 22 23\n",
      " 24 25 26 27 29 30 31 32 33 34 35 36 37 38 39 40 41 42 43 44 45 46 47 48\n",
      " 49 50 51 52 53 54 55 56 57 58 59 60 61 62 63 64 65 66 67 68 69 70 71 72\n",
      " 73 74 75 76 77 78 79 80 81 82 83 84 85 86 87 88 89 90] TEST: [28]\n",
      "Mean Absolute Error: 0.0548623000000007\n",
      "RMSE: 0.0548623000000007\n",
      "MAE Percent:  7.318300613451161\n",
      "Iteration:  29\n",
      "y_pred:  [0.6051377] y_test:  [[0.66]]\n",
      "TRAIN: [ 0  1  2  3  4  5  6  7  8  9 10 11 12 13 14 15 16 17 18 19 20 21 22 23\n",
      " 24 25 26 27 28 30 31 32 33 34 35 36 37 38 39 40 41 42 43 44 45 46 47 48\n",
      " 49 50 51 52 53 54 55 56 57 58 59 60 61 62 63 64 65 66 67 68 69 70 71 72\n",
      " 73 74 75 76 77 78 79 80 81 82 83 84 85 86 87 88 89 90] TEST: [29]\n"
     ]
    },
    {
     "name": "stderr",
     "output_type": "stream",
     "text": [
      "C:\\ProgramData\\Anaconda3\\lib\\site-packages\\ipykernel_launcher.py:209: DataConversionWarning: A column-vector y was passed when a 1d array was expected. Please change the shape of y to (n_samples,), for example using ravel().\n",
      "C:\\ProgramData\\Anaconda3\\lib\\site-packages\\ipykernel_launcher.py:209: DataConversionWarning: A column-vector y was passed when a 1d array was expected. Please change the shape of y to (n_samples,), for example using ravel().\n"
     ]
    },
    {
     "name": "stdout",
     "output_type": "stream",
     "text": [
      "Mean Absolute Error: 0.021405999999999148\n",
      "RMSE: 0.021405999999999148\n",
      "MAE Percent:  2.8554315610451497\n",
      "Iteration:  30\n",
      "y_pred:  [1.456406] y_test:  [[1.435]]\n",
      "TRAIN: [ 0  1  2  3  4  5  6  7  8  9 10 11 12 13 14 15 16 17 18 19 20 21 22 23\n",
      " 24 25 26 27 28 29 31 32 33 34 35 36 37 38 39 40 41 42 43 44 45 46 47 48\n",
      " 49 50 51 52 53 54 55 56 57 58 59 60 61 62 63 64 65 66 67 68 69 70 71 72\n",
      " 73 74 75 76 77 78 79 80 81 82 83 84 85 86 87 88 89 90] TEST: [30]\n",
      "Mean Absolute Error: 0.1614725999999993\n",
      "RMSE: 0.1614725999999993\n",
      "MAE Percent:  21.539472964777886\n",
      "Iteration:  31\n",
      "y_pred:  [0.9475274] y_test:  [[1.109]]\n",
      "TRAIN: [ 0  1  2  3  4  5  6  7  8  9 10 11 12 13 14 15 16 17 18 19 20 21 22 23\n",
      " 24 25 26 27 28 29 30 32 33 34 35 36 37 38 39 40 41 42 43 44 45 46 47 48\n",
      " 49 50 51 52 53 54 55 56 57 58 59 60 61 62 63 64 65 66 67 68 69 70 71 72\n",
      " 73 74 75 76 77 78 79 80 81 82 83 84 85 86 87 88 89 90] TEST: [31]\n"
     ]
    },
    {
     "name": "stderr",
     "output_type": "stream",
     "text": [
      "C:\\ProgramData\\Anaconda3\\lib\\site-packages\\ipykernel_launcher.py:209: DataConversionWarning: A column-vector y was passed when a 1d array was expected. Please change the shape of y to (n_samples,), for example using ravel().\n",
      "C:\\ProgramData\\Anaconda3\\lib\\site-packages\\ipykernel_launcher.py:209: DataConversionWarning: A column-vector y was passed when a 1d array was expected. Please change the shape of y to (n_samples,), for example using ravel().\n"
     ]
    },
    {
     "name": "stdout",
     "output_type": "stream",
     "text": [
      "Mean Absolute Error: 0.3382212999999996\n",
      "RMSE: 0.3382212999999996\n",
      "MAE Percent:  45.11668572539275\n",
      "Iteration:  32\n",
      "y_pred:  [1.0617787] y_test:  [[1.4]]\n",
      "TRAIN: [ 0  1  2  3  4  5  6  7  8  9 10 11 12 13 14 15 16 17 18 19 20 21 22 23\n",
      " 24 25 26 27 28 29 30 31 33 34 35 36 37 38 39 40 41 42 43 44 45 46 47 48\n",
      " 49 50 51 52 53 54 55 56 57 58 59 60 61 62 63 64 65 66 67 68 69 70 71 72\n",
      " 73 74 75 76 77 78 79 80 81 82 83 84 85 86 87 88 89 90] TEST: [32]\n",
      "Mean Absolute Error: 0.7488979999999996\n",
      "RMSE: 0.7488979999999996\n",
      "MAE Percent:  99.89848571445738\n",
      "Iteration:  33\n",
      "y_pred:  [1.423102] y_test:  [[2.172]]\n",
      "TRAIN: [ 0  1  2  3  4  5  6  7  8  9 10 11 12 13 14 15 16 17 18 19 20 21 22 23\n",
      " 24 25 26 27 28 29 30 31 32 34 35 36 37 38 39 40 41 42 43 44 45 46 47 48\n",
      " 49 50 51 52 53 54 55 56 57 58 59 60 61 62 63 64 65 66 67 68 69 70 71 72\n",
      " 73 74 75 76 77 78 79 80 81 82 83 84 85 86 87 88 89 90] TEST: [33]\n"
     ]
    },
    {
     "name": "stderr",
     "output_type": "stream",
     "text": [
      "C:\\ProgramData\\Anaconda3\\lib\\site-packages\\ipykernel_launcher.py:209: DataConversionWarning: A column-vector y was passed when a 1d array was expected. Please change the shape of y to (n_samples,), for example using ravel().\n",
      "C:\\ProgramData\\Anaconda3\\lib\\site-packages\\ipykernel_launcher.py:209: DataConversionWarning: A column-vector y was passed when a 1d array was expected. Please change the shape of y to (n_samples,), for example using ravel().\n"
     ]
    },
    {
     "name": "stdout",
     "output_type": "stream",
     "text": [
      "Mean Absolute Error: 0.6290413000000001\n",
      "RMSE: 0.6290413000000001\n",
      "MAE Percent:  83.91032333088584\n",
      "Iteration:  34\n",
      "y_pred:  [0.2959587] y_test:  [[0.925]]\n",
      "TRAIN: [ 0  1  2  3  4  5  6  7  8  9 10 11 12 13 14 15 16 17 18 19 20 21 22 23\n",
      " 24 25 26 27 28 29 30 31 32 33 35 36 37 38 39 40 41 42 43 44 45 46 47 48\n",
      " 49 50 51 52 53 54 55 56 57 58 59 60 61 62 63 64 65 66 67 68 69 70 71 72\n",
      " 73 74 75 76 77 78 79 80 81 82 83 84 85 86 87 88 89 90] TEST: [34]\n",
      "Mean Absolute Error: 0.11715299999999987\n",
      "RMSE: 0.11715299999999987\n",
      "MAE Percent:  15.627505076667072\n",
      "Iteration:  35\n",
      "y_pred:  [0.263153] y_test:  [[0.146]]\n",
      "TRAIN: [ 0  1  2  3  4  5  6  7  8  9 10 11 12 13 14 15 16 17 18 19 20 21 22 23\n",
      " 24 25 26 27 28 29 30 31 32 33 34 36 37 38 39 40 41 42 43 44 45 46 47 48\n",
      " 49 50 51 52 53 54 55 56 57 58 59 60 61 62 63 64 65 66 67 68 69 70 71 72\n",
      " 73 74 75 76 77 78 79 80 81 82 83 84 85 86 87 88 89 90] TEST: [35]\n"
     ]
    },
    {
     "name": "stderr",
     "output_type": "stream",
     "text": [
      "C:\\ProgramData\\Anaconda3\\lib\\site-packages\\ipykernel_launcher.py:209: DataConversionWarning: A column-vector y was passed when a 1d array was expected. Please change the shape of y to (n_samples,), for example using ravel().\n",
      "C:\\ProgramData\\Anaconda3\\lib\\site-packages\\ipykernel_launcher.py:209: DataConversionWarning: A column-vector y was passed when a 1d array was expected. Please change the shape of y to (n_samples,), for example using ravel().\n"
     ]
    },
    {
     "name": "stdout",
     "output_type": "stream",
     "text": [
      "Mean Absolute Error: 0.0016989999999999505\n",
      "RMSE: 0.0016989999999999505\n",
      "MAE Percent:  0.22663637401736714\n",
      "Iteration:  36\n",
      "y_pred:  [0.138199] y_test:  [[0.1365]]\n",
      "TRAIN: [ 0  1  2  3  4  5  6  7  8  9 10 11 12 13 14 15 16 17 18 19 20 21 22 23\n",
      " 24 25 26 27 28 29 30 31 32 33 34 35 37 38 39 40 41 42 43 44 45 46 47 48\n",
      " 49 50 51 52 53 54 55 56 57 58 59 60 61 62 63 64 65 66 67 68 69 70 71 72\n",
      " 73 74 75 76 77 78 79 80 81 82 83 84 85 86 87 88 89 90] TEST: [36]\n",
      "Mean Absolute Error: 0.19091219999999953\n",
      "RMSE: 0.19091219999999953\n",
      "MAE Percent:  25.46653841299562\n",
      "Iteration:  37\n",
      "y_pred:  [0.4547122] y_test:  [[0.2638]]\n",
      "TRAIN: [ 0  1  2  3  4  5  6  7  8  9 10 11 12 13 14 15 16 17 18 19 20 21 22 23\n",
      " 24 25 26 27 28 29 30 31 32 33 34 35 36 38 39 40 41 42 43 44 45 46 47 48\n",
      " 49 50 51 52 53 54 55 56 57 58 59 60 61 62 63 64 65 66 67 68 69 70 71 72\n",
      " 73 74 75 76 77 78 79 80 81 82 83 84 85 86 87 88 89 90] TEST: [37]\n"
     ]
    },
    {
     "name": "stderr",
     "output_type": "stream",
     "text": [
      "C:\\ProgramData\\Anaconda3\\lib\\site-packages\\ipykernel_launcher.py:209: DataConversionWarning: A column-vector y was passed when a 1d array was expected. Please change the shape of y to (n_samples,), for example using ravel().\n",
      "C:\\ProgramData\\Anaconda3\\lib\\site-packages\\ipykernel_launcher.py:209: DataConversionWarning: A column-vector y was passed when a 1d array was expected. Please change the shape of y to (n_samples,), for example using ravel().\n"
     ]
    },
    {
     "name": "stdout",
     "output_type": "stream",
     "text": [
      "Mean Absolute Error: 0.011964000000000058\n",
      "RMSE: 0.011964000000000058\n",
      "MAE Percent:  1.5959255907850929\n",
      "Iteration:  38\n",
      "y_pred:  [0.147636] y_test:  [[0.1596]]\n",
      "TRAIN: [ 0  1  2  3  4  5  6  7  8  9 10 11 12 13 14 15 16 17 18 19 20 21 22 23\n",
      " 24 25 26 27 28 29 30 31 32 33 34 35 36 37 39 40 41 42 43 44 45 46 47 48\n",
      " 49 50 51 52 53 54 55 56 57 58 59 60 61 62 63 64 65 66 67 68 69 70 71 72\n",
      " 73 74 75 76 77 78 79 80 81 82 83 84 85 86 87 88 89 90] TEST: [38]\n",
      "Mean Absolute Error: 0.19229109999999994\n",
      "RMSE: 0.19229109999999994\n",
      "MAE Percent:  25.65047537363873\n",
      "Iteration:  39\n",
      "y_pred:  [0.8492911] y_test:  [[0.657]]\n",
      "TRAIN: [ 0  1  2  3  4  5  6  7  8  9 10 11 12 13 14 15 16 17 18 19 20 21 22 23\n",
      " 24 25 26 27 28 29 30 31 32 33 34 35 36 37 38 40 41 42 43 44 45 46 47 48\n",
      " 49 50 51 52 53 54 55 56 57 58 59 60 61 62 63 64 65 66 67 68 69 70 71 72\n",
      " 73 74 75 76 77 78 79 80 81 82 83 84 85 86 87 88 89 90] TEST: [39]\n"
     ]
    },
    {
     "name": "stderr",
     "output_type": "stream",
     "text": [
      "C:\\ProgramData\\Anaconda3\\lib\\site-packages\\ipykernel_launcher.py:209: DataConversionWarning: A column-vector y was passed when a 1d array was expected. Please change the shape of y to (n_samples,), for example using ravel().\n",
      "C:\\ProgramData\\Anaconda3\\lib\\site-packages\\ipykernel_launcher.py:209: DataConversionWarning: A column-vector y was passed when a 1d array was expected. Please change the shape of y to (n_samples,), for example using ravel().\n"
     ]
    },
    {
     "name": "stdout",
     "output_type": "stream",
     "text": [
      "Mean Absolute Error: 0.18536599999999903\n",
      "RMSE: 0.18536599999999903\n",
      "MAE Percent:  24.726708714599344\n",
      "Iteration:  40\n",
      "y_pred:  [1.154634] y_test:  [[1.34]]\n",
      "TRAIN: [ 0  1  2  3  4  5  6  7  8  9 10 11 12 13 14 15 16 17 18 19 20 21 22 23\n",
      " 24 25 26 27 28 29 30 31 32 33 34 35 36 37 38 39 41 42 43 44 45 46 47 48\n",
      " 49 50 51 52 53 54 55 56 57 58 59 60 61 62 63 64 65 66 67 68 69 70 71 72\n",
      " 73 74 75 76 77 78 79 80 81 82 83 84 85 86 87 88 89 90] TEST: [40]\n",
      "Mean Absolute Error: 0.17331270000000043\n",
      "RMSE: 0.17331270000000043\n",
      "MAE Percent:  23.118871041295463\n",
      "Iteration:  41\n",
      "y_pred:  [1.1503127] y_test:  [[0.977]]\n",
      "TRAIN: [ 0  1  2  3  4  5  6  7  8  9 10 11 12 13 14 15 16 17 18 19 20 21 22 23\n",
      " 24 25 26 27 28 29 30 31 32 33 34 35 36 37 38 39 40 42 43 44 45 46 47 48\n",
      " 49 50 51 52 53 54 55 56 57 58 59 60 61 62 63 64 65 66 67 68 69 70 71 72\n",
      " 73 74 75 76 77 78 79 80 81 82 83 84 85 86 87 88 89 90] TEST: [41]\n"
     ]
    },
    {
     "name": "stderr",
     "output_type": "stream",
     "text": [
      "C:\\ProgramData\\Anaconda3\\lib\\site-packages\\ipykernel_launcher.py:209: DataConversionWarning: A column-vector y was passed when a 1d array was expected. Please change the shape of y to (n_samples,), for example using ravel().\n",
      "C:\\ProgramData\\Anaconda3\\lib\\site-packages\\ipykernel_launcher.py:209: DataConversionWarning: A column-vector y was passed when a 1d array was expected. Please change the shape of y to (n_samples,), for example using ravel().\n"
     ]
    },
    {
     "name": "stdout",
     "output_type": "stream",
     "text": [
      "Mean Absolute Error: 0.27708570000000016\n",
      "RMSE: 0.27708570000000016\n",
      "MAE Percent:  36.96156464983276\n",
      "Iteration:  42\n",
      "y_pred:  [0.5930857] y_test:  [[0.316]]\n",
      "TRAIN: [ 0  1  2  3  4  5  6  7  8  9 10 11 12 13 14 15 16 17 18 19 20 21 22 23\n",
      " 24 25 26 27 28 29 30 31 32 33 34 35 36 37 38 39 40 41 43 44 45 46 47 48\n",
      " 49 50 51 52 53 54 55 56 57 58 59 60 61 62 63 64 65 66 67 68 69 70 71 72\n",
      " 73 74 75 76 77 78 79 80 81 82 83 84 85 86 87 88 89 90] TEST: [42]\n",
      "Mean Absolute Error: 0.8663679999999999\n",
      "RMSE: 0.8663679999999999\n",
      "MAE Percent:  115.5682766831572\n",
      "Iteration:  43\n",
      "y_pred:  [0.261632] y_test:  [[1.128]]\n",
      "TRAIN: [ 0  1  2  3  4  5  6  7  8  9 10 11 12 13 14 15 16 17 18 19 20 21 22 23\n",
      " 24 25 26 27 28 29 30 31 32 33 34 35 36 37 38 39 40 41 42 44 45 46 47 48\n",
      " 49 50 51 52 53 54 55 56 57 58 59 60 61 62 63 64 65 66 67 68 69 70 71 72\n",
      " 73 74 75 76 77 78 79 80 81 82 83 84 85 86 87 88 89 90] TEST: [43]\n"
     ]
    },
    {
     "name": "stderr",
     "output_type": "stream",
     "text": [
      "C:\\ProgramData\\Anaconda3\\lib\\site-packages\\ipykernel_launcher.py:209: DataConversionWarning: A column-vector y was passed when a 1d array was expected. Please change the shape of y to (n_samples,), for example using ravel().\n",
      "C:\\ProgramData\\Anaconda3\\lib\\site-packages\\ipykernel_launcher.py:209: DataConversionWarning: A column-vector y was passed when a 1d array was expected. Please change the shape of y to (n_samples,), for example using ravel().\n"
     ]
    },
    {
     "name": "stdout",
     "output_type": "stream",
     "text": [
      "Mean Absolute Error: 0.05305839999999995\n",
      "RMSE: 0.05305839999999995\n",
      "MAE Percent:  7.077671210808364\n",
      "Iteration:  44\n",
      "y_pred:  [0.9010584] y_test:  [[0.848]]\n",
      "TRAIN: [ 0  1  2  3  4  5  6  7  8  9 10 11 12 13 14 15 16 17 18 19 20 21 22 23\n",
      " 24 25 26 27 28 29 30 31 32 33 34 35 36 37 38 39 40 41 42 43 45 46 47 48\n",
      " 49 50 51 52 53 54 55 56 57 58 59 60 61 62 63 64 65 66 67 68 69 70 71 72\n",
      " 73 74 75 76 77 78 79 80 81 82 83 84 85 86 87 88 89 90] TEST: [44]\n",
      "Mean Absolute Error: 0.012606600000000467\n",
      "RMSE: 0.012606600000000467\n",
      "MAE Percent:  1.6816445630885992\n",
      "Iteration:  45\n",
      "y_pred:  [0.9793934] y_test:  [[0.992]]\n",
      "TRAIN: [ 0  1  2  3  4  5  6  7  8  9 10 11 12 13 14 15 16 17 18 19 20 21 22 23\n",
      " 24 25 26 27 28 29 30 31 32 33 34 35 36 37 38 39 40 41 42 43 44 46 47 48\n",
      " 49 50 51 52 53 54 55 56 57 58 59 60 61 62 63 64 65 66 67 68 69 70 71 72\n",
      " 73 74 75 76 77 78 79 80 81 82 83 84 85 86 87 88 89 90] TEST: [45]\n"
     ]
    },
    {
     "name": "stderr",
     "output_type": "stream",
     "text": [
      "C:\\ProgramData\\Anaconda3\\lib\\site-packages\\ipykernel_launcher.py:209: DataConversionWarning: A column-vector y was passed when a 1d array was expected. Please change the shape of y to (n_samples,), for example using ravel().\n",
      "C:\\ProgramData\\Anaconda3\\lib\\site-packages\\ipykernel_launcher.py:209: DataConversionWarning: A column-vector y was passed when a 1d array was expected. Please change the shape of y to (n_samples,), for example using ravel().\n"
     ]
    },
    {
     "name": "stdout",
     "output_type": "stream",
     "text": [
      "Mean Absolute Error: 0.027064999999999895\n",
      "RMSE: 0.027064999999999895\n",
      "MAE Percent:  3.610308100518068\n",
      "Iteration:  46\n",
      "y_pred:  [0.737035] y_test:  [[0.70997]]\n",
      "TRAIN: [ 0  1  2  3  4  5  6  7  8  9 10 11 12 13 14 15 16 17 18 19 20 21 22 23\n",
      " 24 25 26 27 28 29 30 31 32 33 34 35 36 37 38 39 40 41 42 43 44 45 47 48\n",
      " 49 50 51 52 53 54 55 56 57 58 59 60 61 62 63 64 65 66 67 68 69 70 71 72\n",
      " 73 74 75 76 77 78 79 80 81 82 83 84 85 86 87 88 89 90] TEST: [46]\n",
      "Mean Absolute Error: 0.017849000000000115\n",
      "RMSE: 0.017849000000000115\n",
      "MAE Percent:  2.380949170003608\n",
      "Iteration:  47\n",
      "y_pred:  [0.899151] y_test:  [[0.917]]\n",
      "TRAIN: [ 0  1  2  3  4  5  6  7  8  9 10 11 12 13 14 15 16 17 18 19 20 21 22 23\n",
      " 24 25 26 27 28 29 30 31 32 33 34 35 36 37 38 39 40 41 42 43 44 45 46 48\n",
      " 49 50 51 52 53 54 55 56 57 58 59 60 61 62 63 64 65 66 67 68 69 70 71 72\n",
      " 73 74 75 76 77 78 79 80 81 82 83 84 85 86 87 88 89 90] TEST: [47]\n"
     ]
    },
    {
     "name": "stderr",
     "output_type": "stream",
     "text": [
      "C:\\ProgramData\\Anaconda3\\lib\\site-packages\\ipykernel_launcher.py:209: DataConversionWarning: A column-vector y was passed when a 1d array was expected. Please change the shape of y to (n_samples,), for example using ravel().\n",
      "C:\\ProgramData\\Anaconda3\\lib\\site-packages\\ipykernel_launcher.py:209: DataConversionWarning: A column-vector y was passed when a 1d array was expected. Please change the shape of y to (n_samples,), for example using ravel().\n"
     ]
    },
    {
     "name": "stdout",
     "output_type": "stream",
     "text": [
      "Mean Absolute Error: 0.07527500000000004\n",
      "RMSE: 0.07527500000000004\n",
      "MAE Percent:  10.041231932994595\n",
      "Iteration:  48\n",
      "y_pred:  [0.207275] y_test:  [[0.132]]\n",
      "TRAIN: [ 0  1  2  3  4  5  6  7  8  9 10 11 12 13 14 15 16 17 18 19 20 21 22 23\n",
      " 24 25 26 27 28 29 30 31 32 33 34 35 36 37 38 39 40 41 42 43 44 45 46 47\n",
      " 49 50 51 52 53 54 55 56 57 58 59 60 61 62 63 64 65 66 67 68 69 70 71 72\n",
      " 73 74 75 76 77 78 79 80 81 82 83 84 85 86 87 88 89 90] TEST: [48]\n",
      "Mean Absolute Error: 0.49387199999999876\n",
      "RMSE: 0.49387199999999876\n",
      "MAE Percent:  65.87955227116429\n",
      "Iteration:  49\n",
      "y_pred:  [1.732872] y_test:  [[1.239]]\n",
      "TRAIN: [ 0  1  2  3  4  5  6  7  8  9 10 11 12 13 14 15 16 17 18 19 20 21 22 23\n",
      " 24 25 26 27 28 29 30 31 32 33 34 35 36 37 38 39 40 41 42 43 44 45 46 47\n",
      " 48 50 51 52 53 54 55 56 57 58 59 60 61 62 63 64 65 66 67 68 69 70 71 72\n",
      " 73 74 75 76 77 78 79 80 81 82 83 84 85 86 87 88 89 90] TEST: [49]\n"
     ]
    },
    {
     "name": "stderr",
     "output_type": "stream",
     "text": [
      "C:\\ProgramData\\Anaconda3\\lib\\site-packages\\ipykernel_launcher.py:209: DataConversionWarning: A column-vector y was passed when a 1d array was expected. Please change the shape of y to (n_samples,), for example using ravel().\n",
      "C:\\ProgramData\\Anaconda3\\lib\\site-packages\\ipykernel_launcher.py:209: DataConversionWarning: A column-vector y was passed when a 1d array was expected. Please change the shape of y to (n_samples,), for example using ravel().\n"
     ]
    },
    {
     "name": "stdout",
     "output_type": "stream",
     "text": [
      "Mean Absolute Error: 0.755361999999999\n",
      "RMSE: 0.755361999999999\n",
      "MAE Percent:  100.76074440877649\n",
      "Iteration:  50\n",
      "y_pred:  [1.639362] y_test:  [[0.884]]\n",
      "TRAIN: [ 0  1  2  3  4  5  6  7  8  9 10 11 12 13 14 15 16 17 18 19 20 21 22 23\n",
      " 24 25 26 27 28 29 30 31 32 33 34 35 36 37 38 39 40 41 42 43 44 45 46 47\n",
      " 48 49 51 52 53 54 55 56 57 58 59 60 61 62 63 64 65 66 67 68 69 70 71 72\n",
      " 73 74 75 76 77 78 79 80 81 82 83 84 85 86 87 88 89 90] TEST: [50]\n",
      "Mean Absolute Error: 0.027229000000001502\n",
      "RMSE: 0.027229000000001502\n",
      "MAE Percent:  3.632184713431083\n",
      "Iteration:  51\n",
      "y_pred:  [1.643771] y_test:  [[1.671]]\n",
      "TRAIN: [ 0  1  2  3  4  5  6  7  8  9 10 11 12 13 14 15 16 17 18 19 20 21 22 23\n",
      " 24 25 26 27 28 29 30 31 32 33 34 35 36 37 38 39 40 41 42 43 44 45 46 47\n",
      " 48 49 50 52 53 54 55 56 57 58 59 60 61 62 63 64 65 66 67 68 69 70 71 72\n",
      " 73 74 75 76 77 78 79 80 81 82 83 84 85 86 87 88 89 90] TEST: [51]\n"
     ]
    },
    {
     "name": "stderr",
     "output_type": "stream",
     "text": [
      "C:\\ProgramData\\Anaconda3\\lib\\site-packages\\ipykernel_launcher.py:209: DataConversionWarning: A column-vector y was passed when a 1d array was expected. Please change the shape of y to (n_samples,), for example using ravel().\n",
      "C:\\ProgramData\\Anaconda3\\lib\\site-packages\\ipykernel_launcher.py:209: DataConversionWarning: A column-vector y was passed when a 1d array was expected. Please change the shape of y to (n_samples,), for example using ravel().\n"
     ]
    },
    {
     "name": "stdout",
     "output_type": "stream",
     "text": [
      "Mean Absolute Error: 0.6704459999999999\n",
      "RMSE: 0.6704459999999999\n",
      "MAE Percent:  89.43346110326789\n",
      "Iteration:  52\n",
      "y_pred:  [1.154446] y_test:  [[0.484]]\n",
      "TRAIN: [ 0  1  2  3  4  5  6  7  8  9 10 11 12 13 14 15 16 17 18 19 20 21 22 23\n",
      " 24 25 26 27 28 29 30 31 32 33 34 35 36 37 38 39 40 41 42 43 44 45 46 47\n",
      " 48 49 50 51 53 54 55 56 57 58 59 60 61 62 63 64 65 66 67 68 69 70 71 72\n",
      " 73 74 75 76 77 78 79 80 81 82 83 84 85 86 87 88 89 90] TEST: [52]\n",
      "Mean Absolute Error: 0.05705500000000008\n",
      "RMSE: 0.05705500000000008\n",
      "MAE Percent:  7.6107935959748545\n",
      "Iteration:  53\n",
      "y_pred:  [0.207855] y_test:  [[0.1508]]\n",
      "TRAIN: [ 0  1  2  3  4  5  6  7  8  9 10 11 12 13 14 15 16 17 18 19 20 21 22 23\n",
      " 24 25 26 27 28 29 30 31 32 33 34 35 36 37 38 39 40 41 42 43 44 45 46 47\n",
      " 48 49 50 51 52 54 55 56 57 58 59 60 61 62 63 64 65 66 67 68 69 70 71 72\n",
      " 73 74 75 76 77 78 79 80 81 82 83 84 85 86 87 88 89 90] TEST: [53]\n"
     ]
    },
    {
     "name": "stderr",
     "output_type": "stream",
     "text": [
      "C:\\ProgramData\\Anaconda3\\lib\\site-packages\\ipykernel_launcher.py:209: DataConversionWarning: A column-vector y was passed when a 1d array was expected. Please change the shape of y to (n_samples,), for example using ravel().\n",
      "C:\\ProgramData\\Anaconda3\\lib\\site-packages\\ipykernel_launcher.py:209: DataConversionWarning: A column-vector y was passed when a 1d array was expected. Please change the shape of y to (n_samples,), for example using ravel().\n"
     ]
    },
    {
     "name": "stdout",
     "output_type": "stream",
     "text": [
      "Mean Absolute Error: 0.9105394000000002\n",
      "RMSE: 0.9105394000000002\n",
      "MAE Percent:  121.46047558325787\n",
      "Iteration:  54\n",
      "y_pred:  [1.9043394] y_test:  [[0.9938]]\n",
      "TRAIN: [ 0  1  2  3  4  5  6  7  8  9 10 11 12 13 14 15 16 17 18 19 20 21 22 23\n",
      " 24 25 26 27 28 29 30 31 32 33 34 35 36 37 38 39 40 41 42 43 44 45 46 47\n",
      " 48 49 50 51 52 53 55 56 57 58 59 60 61 62 63 64 65 66 67 68 69 70 71 72\n",
      " 73 74 75 76 77 78 79 80 81 82 83 84 85 86 87 88 89 90] TEST: [54]\n",
      "Mean Absolute Error: 0.02948800000000018\n",
      "RMSE: 0.02948800000000018\n",
      "MAE Percent:  3.9335217169066268\n",
      "Iteration:  55\n",
      "y_pred:  [1.259488] y_test:  [[1.23]]\n",
      "TRAIN: [ 0  1  2  3  4  5  6  7  8  9 10 11 12 13 14 15 16 17 18 19 20 21 22 23\n",
      " 24 25 26 27 28 29 30 31 32 33 34 35 36 37 38 39 40 41 42 43 44 45 46 47\n",
      " 48 49 50 51 52 53 54 56 57 58 59 60 61 62 63 64 65 66 67 68 69 70 71 72\n",
      " 73 74 75 76 77 78 79 80 81 82 83 84 85 86 87 88 89 90] TEST: [55]\n"
     ]
    },
    {
     "name": "stderr",
     "output_type": "stream",
     "text": [
      "C:\\ProgramData\\Anaconda3\\lib\\site-packages\\ipykernel_launcher.py:209: DataConversionWarning: A column-vector y was passed when a 1d array was expected. Please change the shape of y to (n_samples,), for example using ravel().\n",
      "C:\\ProgramData\\Anaconda3\\lib\\site-packages\\ipykernel_launcher.py:209: DataConversionWarning: A column-vector y was passed when a 1d array was expected. Please change the shape of y to (n_samples,), for example using ravel().\n"
     ]
    },
    {
     "name": "stdout",
     "output_type": "stream",
     "text": [
      "Mean Absolute Error: 0.35488099999999967\n",
      "RMSE: 0.35488099999999967\n",
      "MAE Percent:  47.33898943358419\n",
      "Iteration:  56\n",
      "y_pred:  [1.276881] y_test:  [[0.922]]\n",
      "TRAIN: [ 0  1  2  3  4  5  6  7  8  9 10 11 12 13 14 15 16 17 18 19 20 21 22 23\n",
      " 24 25 26 27 28 29 30 31 32 33 34 35 36 37 38 39 40 41 42 43 44 45 46 47\n",
      " 48 49 50 51 52 53 54 55 57 58 59 60 61 62 63 64 65 66 67 68 69 70 71 72\n",
      " 73 74 75 76 77 78 79 80 81 82 83 84 85 86 87 88 89 90] TEST: [56]\n",
      "Mean Absolute Error: 0.015201000000000242\n",
      "RMSE: 0.015201000000000242\n",
      "MAE Percent:  2.0277219078505904\n",
      "Iteration:  57\n",
      "y_pred:  [0.310799] y_test:  [[0.326]]\n",
      "TRAIN: [ 0  1  2  3  4  5  6  7  8  9 10 11 12 13 14 15 16 17 18 19 20 21 22 23\n",
      " 24 25 26 27 28 29 30 31 32 33 34 35 36 37 38 39 40 41 42 43 44 45 46 47\n",
      " 48 49 50 51 52 53 54 55 56 58 59 60 61 62 63 64 65 66 67 68 69 70 71 72\n",
      " 73 74 75 76 77 78 79 80 81 82 83 84 85 86 87 88 89 90] TEST: [57]\n"
     ]
    },
    {
     "name": "stderr",
     "output_type": "stream",
     "text": [
      "C:\\ProgramData\\Anaconda3\\lib\\site-packages\\ipykernel_launcher.py:209: DataConversionWarning: A column-vector y was passed when a 1d array was expected. Please change the shape of y to (n_samples,), for example using ravel().\n",
      "C:\\ProgramData\\Anaconda3\\lib\\site-packages\\ipykernel_launcher.py:209: DataConversionWarning: A column-vector y was passed when a 1d array was expected. Please change the shape of y to (n_samples,), for example using ravel().\n"
     ]
    },
    {
     "name": "stdout",
     "output_type": "stream",
     "text": [
      "Mean Absolute Error: 0.02550600000000003\n",
      "RMSE: 0.02550600000000003\n",
      "MAE Percent:  3.402346883865298\n",
      "Iteration:  58\n",
      "y_pred:  [1.340494] y_test:  [[1.366]]\n",
      "TRAIN: [ 0  1  2  3  4  5  6  7  8  9 10 11 12 13 14 15 16 17 18 19 20 21 22 23\n",
      " 24 25 26 27 28 29 30 31 32 33 34 35 36 37 38 39 40 41 42 43 44 45 46 47\n",
      " 48 49 50 51 52 53 54 55 56 57 59 60 61 62 63 64 65 66 67 68 69 70 71 72\n",
      " 73 74 75 76 77 78 79 80 81 82 83 84 85 86 87 88 89 90] TEST: [58]\n",
      "Mean Absolute Error: 0.14705899999999994\n",
      "RMSE: 0.14705899999999994\n",
      "MAE Percent:  19.616785477705093\n",
      "Iteration:  59\n",
      "y_pred:  [0.147059] y_test:  [[0.]]\n",
      "TRAIN: [ 0  1  2  3  4  5  6  7  8  9 10 11 12 13 14 15 16 17 18 19 20 21 22 23\n",
      " 24 25 26 27 28 29 30 31 32 33 34 35 36 37 38 39 40 41 42 43 44 45 46 47\n",
      " 48 49 50 51 52 53 54 55 56 57 58 60 61 62 63 64 65 66 67 68 69 70 71 72\n",
      " 73 74 75 76 77 78 79 80 81 82 83 84 85 86 87 88 89 90] TEST: [59]\n"
     ]
    },
    {
     "name": "stderr",
     "output_type": "stream",
     "text": [
      "C:\\ProgramData\\Anaconda3\\lib\\site-packages\\ipykernel_launcher.py:209: DataConversionWarning: A column-vector y was passed when a 1d array was expected. Please change the shape of y to (n_samples,), for example using ravel().\n",
      "C:\\ProgramData\\Anaconda3\\lib\\site-packages\\ipykernel_launcher.py:209: DataConversionWarning: A column-vector y was passed when a 1d array was expected. Please change the shape of y to (n_samples,), for example using ravel().\n"
     ]
    },
    {
     "name": "stdout",
     "output_type": "stream",
     "text": [
      "Mean Absolute Error: 0.40044349999999984\n",
      "RMSE: 0.40044349999999984\n",
      "MAE Percent:  53.41675270089827\n",
      "Iteration:  60\n",
      "y_pred:  [0.9724435] y_test:  [[0.572]]\n",
      "TRAIN: [ 0  1  2  3  4  5  6  7  8  9 10 11 12 13 14 15 16 17 18 19 20 21 22 23\n",
      " 24 25 26 27 28 29 30 31 32 33 34 35 36 37 38 39 40 41 42 43 44 45 46 47\n",
      " 48 49 50 51 52 53 54 55 56 57 58 59 61 62 63 64 65 66 67 68 69 70 71 72\n",
      " 73 74 75 76 77 78 79 80 81 82 83 84 85 86 87 88 89 90] TEST: [60]\n",
      "Mean Absolute Error: 0.29024119999999987\n",
      "RMSE: 0.29024119999999987\n",
      "MAE Percent:  38.71642916918855\n",
      "Iteration:  61\n",
      "y_pred:  [0.6712412] y_test:  [[0.381]]\n",
      "TRAIN: [ 0  1  2  3  4  5  6  7  8  9 10 11 12 13 14 15 16 17 18 19 20 21 22 23\n",
      " 24 25 26 27 28 29 30 31 32 33 34 35 36 37 38 39 40 41 42 43 44 45 46 47\n",
      " 48 49 50 51 52 53 54 55 56 57 58 59 60 62 63 64 65 66 67 68 69 70 71 72\n",
      " 73 74 75 76 77 78 79 80 81 82 83 84 85 86 87 88 89 90] TEST: [61]\n"
     ]
    },
    {
     "name": "stderr",
     "output_type": "stream",
     "text": [
      "C:\\ProgramData\\Anaconda3\\lib\\site-packages\\ipykernel_launcher.py:209: DataConversionWarning: A column-vector y was passed when a 1d array was expected. Please change the shape of y to (n_samples,), for example using ravel().\n",
      "C:\\ProgramData\\Anaconda3\\lib\\site-packages\\ipykernel_launcher.py:209: DataConversionWarning: A column-vector y was passed when a 1d array was expected. Please change the shape of y to (n_samples,), for example using ravel().\n"
     ]
    },
    {
     "name": "stdout",
     "output_type": "stream",
     "text": [
      "Mean Absolute Error: 0.09747969999999992\n",
      "RMSE: 0.09747969999999992\n",
      "MAE Percent:  13.00320526680481\n",
      "Iteration:  62\n",
      "y_pred:  [0.2224797] y_test:  [[0.125]]\n",
      "TRAIN: [ 0  1  2  3  4  5  6  7  8  9 10 11 12 13 14 15 16 17 18 19 20 21 22 23\n",
      " 24 25 26 27 28 29 30 31 32 33 34 35 36 37 38 39 40 41 42 43 44 45 46 47\n",
      " 48 49 50 51 52 53 54 55 56 57 58 59 60 61 63 64 65 66 67 68 69 70 71 72\n",
      " 73 74 75 76 77 78 79 80 81 82 83 84 85 86 87 88 89 90] TEST: [62]\n",
      "Mean Absolute Error: 0.47802400000000134\n",
      "RMSE: 0.47802400000000134\n",
      "MAE Percent:  63.76552445749345\n",
      "Iteration:  63\n",
      "y_pred:  [1.542976] y_test:  [[2.021]]\n",
      "TRAIN: [ 0  1  2  3  4  5  6  7  8  9 10 11 12 13 14 15 16 17 18 19 20 21 22 23\n",
      " 24 25 26 27 28 29 30 31 32 33 34 35 36 37 38 39 40 41 42 43 44 45 46 47\n",
      " 48 49 50 51 52 53 54 55 56 57 58 59 60 61 62 64 65 66 67 68 69 70 71 72\n",
      " 73 74 75 76 77 78 79 80 81 82 83 84 85 86 87 88 89 90] TEST: [63]\n"
     ]
    },
    {
     "name": "stderr",
     "output_type": "stream",
     "text": [
      "C:\\ProgramData\\Anaconda3\\lib\\site-packages\\ipykernel_launcher.py:209: DataConversionWarning: A column-vector y was passed when a 1d array was expected. Please change the shape of y to (n_samples,), for example using ravel().\n",
      "C:\\ProgramData\\Anaconda3\\lib\\site-packages\\ipykernel_launcher.py:209: DataConversionWarning: A column-vector y was passed when a 1d array was expected. Please change the shape of y to (n_samples,), for example using ravel().\n"
     ]
    },
    {
     "name": "stdout",
     "output_type": "stream",
     "text": [
      "Mean Absolute Error: 0.5496468000000001\n",
      "RMSE: 0.5496468000000001\n",
      "MAE Percent:  73.31957489243828\n",
      "Iteration:  64\n",
      "y_pred:  [0.7173532] y_test:  [[1.267]]\n",
      "TRAIN: [ 0  1  2  3  4  5  6  7  8  9 10 11 12 13 14 15 16 17 18 19 20 21 22 23\n",
      " 24 25 26 27 28 29 30 31 32 33 34 35 36 37 38 39 40 41 42 43 44 45 46 47\n",
      " 48 49 50 51 52 53 54 55 56 57 58 59 60 61 62 63 65 66 67 68 69 70 71 72\n",
      " 73 74 75 76 77 78 79 80 81 82 83 84 85 86 87 88 89 90] TEST: [64]\n",
      "Mean Absolute Error: 0.23168700000000053\n",
      "RMSE: 0.23168700000000053\n",
      "MAE Percent:  30.905651316635314\n",
      "Iteration:  65\n",
      "y_pred:  [0.459013] y_test:  [[0.6907]]\n",
      "TRAIN: [ 0  1  2  3  4  5  6  7  8  9 10 11 12 13 14 15 16 17 18 19 20 21 22 23\n",
      " 24 25 26 27 28 29 30 31 32 33 34 35 36 37 38 39 40 41 42 43 44 45 46 47\n",
      " 48 49 50 51 52 53 54 55 56 57 58 59 60 61 62 63 64 66 67 68 69 70 71 72\n",
      " 73 74 75 76 77 78 79 80 81 82 83 84 85 86 87 88 89 90] TEST: [65]\n"
     ]
    },
    {
     "name": "stderr",
     "output_type": "stream",
     "text": [
      "C:\\ProgramData\\Anaconda3\\lib\\site-packages\\ipykernel_launcher.py:209: DataConversionWarning: A column-vector y was passed when a 1d array was expected. Please change the shape of y to (n_samples,), for example using ravel().\n",
      "C:\\ProgramData\\Anaconda3\\lib\\site-packages\\ipykernel_launcher.py:209: DataConversionWarning: A column-vector y was passed when a 1d array was expected. Please change the shape of y to (n_samples,), for example using ravel().\n"
     ]
    },
    {
     "name": "stdout",
     "output_type": "stream",
     "text": [
      "Mean Absolute Error: 0.08110169999999994\n",
      "RMSE: 0.08110169999999994\n",
      "MAE Percent:  10.818478643110552\n",
      "Iteration:  66\n",
      "y_pred:  [1.0218017] y_test:  [[0.9407]]\n",
      "TRAIN: [ 0  1  2  3  4  5  6  7  8  9 10 11 12 13 14 15 16 17 18 19 20 21 22 23\n",
      " 24 25 26 27 28 29 30 31 32 33 34 35 36 37 38 39 40 41 42 43 44 45 46 47\n",
      " 48 49 50 51 52 53 54 55 56 57 58 59 60 61 62 63 64 65 67 68 69 70 71 72\n",
      " 73 74 75 76 77 78 79 80 81 82 83 84 85 86 87 88 89 90] TEST: [66]\n",
      "Mean Absolute Error: 0.015570999999999988\n",
      "RMSE: 0.015570999999999988\n",
      "MAE Percent:  2.0770776808855347\n",
      "Iteration:  67\n",
      "y_pred:  [0.114171] y_test:  [[0.0986]]\n",
      "TRAIN: [ 0  1  2  3  4  5  6  7  8  9 10 11 12 13 14 15 16 17 18 19 20 21 22 23\n",
      " 24 25 26 27 28 29 30 31 32 33 34 35 36 37 38 39 40 41 42 43 44 45 46 47\n",
      " 48 49 50 51 52 53 54 55 56 57 58 59 60 61 62 63 64 65 66 68 69 70 71 72\n",
      " 73 74 75 76 77 78 79 80 81 82 83 84 85 86 87 88 89 90] TEST: [67]\n"
     ]
    },
    {
     "name": "stderr",
     "output_type": "stream",
     "text": [
      "C:\\ProgramData\\Anaconda3\\lib\\site-packages\\ipykernel_launcher.py:209: DataConversionWarning: A column-vector y was passed when a 1d array was expected. Please change the shape of y to (n_samples,), for example using ravel().\n",
      "C:\\ProgramData\\Anaconda3\\lib\\site-packages\\ipykernel_launcher.py:209: DataConversionWarning: A column-vector y was passed when a 1d array was expected. Please change the shape of y to (n_samples,), for example using ravel().\n"
     ]
    },
    {
     "name": "stdout",
     "output_type": "stream",
     "text": [
      "Mean Absolute Error: 0.16331769999999998\n",
      "RMSE: 0.16331769999999998\n",
      "MAE Percent:  21.785598199445108\n",
      "Iteration:  68\n",
      "y_pred:  [0.1633177] y_test:  [[0.]]\n",
      "TRAIN: [ 0  1  2  3  4  5  6  7  8  9 10 11 12 13 14 15 16 17 18 19 20 21 22 23\n",
      " 24 25 26 27 28 29 30 31 32 33 34 35 36 37 38 39 40 41 42 43 44 45 46 47\n",
      " 48 49 50 51 52 53 54 55 56 57 58 59 60 61 62 63 64 65 66 67 69 70 71 72\n",
      " 73 74 75 76 77 78 79 80 81 82 83 84 85 86 87 88 89 90] TEST: [68]\n",
      "Mean Absolute Error: 0.012578600000000245\n",
      "RMSE: 0.012578600000000245\n",
      "MAE Percent:  1.6779095316156523\n",
      "Iteration:  69\n",
      "y_pred:  [0.1834214] y_test:  [[0.196]]\n",
      "TRAIN: [ 0  1  2  3  4  5  6  7  8  9 10 11 12 13 14 15 16 17 18 19 20 21 22 23\n",
      " 24 25 26 27 28 29 30 31 32 33 34 35 36 37 38 39 40 41 42 43 44 45 46 47\n",
      " 48 49 50 51 52 53 54 55 56 57 58 59 60 61 62 63 64 65 66 67 68 70 71 72\n",
      " 73 74 75 76 77 78 79 80 81 82 83 84 85 86 87 88 89 90] TEST: [69]\n"
     ]
    },
    {
     "name": "stderr",
     "output_type": "stream",
     "text": [
      "C:\\ProgramData\\Anaconda3\\lib\\site-packages\\ipykernel_launcher.py:209: DataConversionWarning: A column-vector y was passed when a 1d array was expected. Please change the shape of y to (n_samples,), for example using ravel().\n",
      "C:\\ProgramData\\Anaconda3\\lib\\site-packages\\ipykernel_launcher.py:209: DataConversionWarning: A column-vector y was passed when a 1d array was expected. Please change the shape of y to (n_samples,), for example using ravel().\n"
     ]
    },
    {
     "name": "stdout",
     "output_type": "stream",
     "text": [
      "Mean Absolute Error: 0.03918999999999995\n",
      "RMSE: 0.03918999999999995\n",
      "MAE Percent:  5.227710122272434\n",
      "Iteration:  70\n",
      "y_pred:  [0.96419] y_test:  [[0.925]]\n",
      "TRAIN: [ 0  1  2  3  4  5  6  7  8  9 10 11 12 13 14 15 16 17 18 19 20 21 22 23\n",
      " 24 25 26 27 28 29 30 31 32 33 34 35 36 37 38 39 40 41 42 43 44 45 46 47\n",
      " 48 49 50 51 52 53 54 55 56 57 58 59 60 61 62 63 64 65 66 67 68 69 71 72\n",
      " 73 74 75 76 77 78 79 80 81 82 83 84 85 86 87 88 89 90] TEST: [70]\n",
      "Mean Absolute Error: 0.014687700000000081\n",
      "RMSE: 0.014687700000000081\n",
      "MAE Percent:  1.959250777313125\n",
      "Iteration:  71\n",
      "y_pred:  [0.3586877] y_test:  [[0.344]]\n",
      "TRAIN: [ 0  1  2  3  4  5  6  7  8  9 10 11 12 13 14 15 16 17 18 19 20 21 22 23\n",
      " 24 25 26 27 28 29 30 31 32 33 34 35 36 37 38 39 40 41 42 43 44 45 46 47\n",
      " 48 49 50 51 52 53 54 55 56 57 58 59 60 61 62 63 64 65 66 67 68 69 70 72\n",
      " 73 74 75 76 77 78 79 80 81 82 83 84 85 86 87 88 89 90] TEST: [71]\n"
     ]
    },
    {
     "name": "stderr",
     "output_type": "stream",
     "text": [
      "C:\\ProgramData\\Anaconda3\\lib\\site-packages\\ipykernel_launcher.py:209: DataConversionWarning: A column-vector y was passed when a 1d array was expected. Please change the shape of y to (n_samples,), for example using ravel().\n",
      "C:\\ProgramData\\Anaconda3\\lib\\site-packages\\ipykernel_launcher.py:209: DataConversionWarning: A column-vector y was passed when a 1d array was expected. Please change the shape of y to (n_samples,), for example using ravel().\n"
     ]
    },
    {
     "name": "stdout",
     "output_type": "stream",
     "text": [
      "Mean Absolute Error: 0.04676899999999995\n",
      "RMSE: 0.04676899999999995\n",
      "MAE Percent:  6.238703105602437\n",
      "Iteration:  72\n",
      "y_pred:  [0.209231] y_test:  [[0.256]]\n",
      "TRAIN: [ 0  1  2  3  4  5  6  7  8  9 10 11 12 13 14 15 16 17 18 19 20 21 22 23\n",
      " 24 25 26 27 28 29 30 31 32 33 34 35 36 37 38 39 40 41 42 43 44 45 46 47\n",
      " 48 49 50 51 52 53 54 55 56 57 58 59 60 61 62 63 64 65 66 67 68 69 70 71\n",
      " 73 74 75 76 77 78 79 80 81 82 83 84 85 86 87 88 89 90] TEST: [72]\n",
      "Mean Absolute Error: 0.22354070000000048\n",
      "RMSE: 0.22354070000000048\n",
      "MAE Percent:  29.818983927784377\n",
      "Iteration:  73\n",
      "y_pred:  [0.9932407] y_test:  [[0.7697]]\n",
      "TRAIN: [ 0  1  2  3  4  5  6  7  8  9 10 11 12 13 14 15 16 17 18 19 20 21 22 23\n",
      " 24 25 26 27 28 29 30 31 32 33 34 35 36 37 38 39 40 41 42 43 44 45 46 47\n",
      " 48 49 50 51 52 53 54 55 56 57 58 59 60 61 62 63 64 65 66 67 68 69 70 71\n",
      " 72 74 75 76 77 78 79 80 81 82 83 84 85 86 87 88 89 90] TEST: [73]\n"
     ]
    },
    {
     "name": "stderr",
     "output_type": "stream",
     "text": [
      "C:\\ProgramData\\Anaconda3\\lib\\site-packages\\ipykernel_launcher.py:209: DataConversionWarning: A column-vector y was passed when a 1d array was expected. Please change the shape of y to (n_samples,), for example using ravel().\n",
      "C:\\ProgramData\\Anaconda3\\lib\\site-packages\\ipykernel_launcher.py:209: DataConversionWarning: A column-vector y was passed when a 1d array was expected. Please change the shape of y to (n_samples,), for example using ravel().\n"
     ]
    },
    {
     "name": "stdout",
     "output_type": "stream",
     "text": [
      "Mean Absolute Error: 0.09239270000000022\n",
      "RMSE: 0.09239270000000022\n",
      "MAE Percent:  12.324630084564484\n",
      "Iteration:  74\n",
      "y_pred:  [1.0413927] y_test:  [[0.949]]\n",
      "TRAIN: [ 0  1  2  3  4  5  6  7  8  9 10 11 12 13 14 15 16 17 18 19 20 21 22 23\n",
      " 24 25 26 27 28 29 30 31 32 33 34 35 36 37 38 39 40 41 42 43 44 45 46 47\n",
      " 48 49 50 51 52 53 54 55 56 57 58 59 60 61 62 63 64 65 66 67 68 69 70 71\n",
      " 72 73 75 76 77 78 79 80 81 82 83 84 85 86 87 88 89 90] TEST: [74]\n",
      "Mean Absolute Error: 0.2541080000000009\n",
      "RMSE: 0.2541080000000009\n",
      "MAE Percent:  33.896477768573874\n",
      "Iteration:  75\n",
      "y_pred:  [1.765892] y_test:  [[2.02]]\n",
      "TRAIN: [ 0  1  2  3  4  5  6  7  8  9 10 11 12 13 14 15 16 17 18 19 20 21 22 23\n",
      " 24 25 26 27 28 29 30 31 32 33 34 35 36 37 38 39 40 41 42 43 44 45 46 47\n",
      " 48 49 50 51 52 53 54 55 56 57 58 59 60 61 62 63 64 65 66 67 68 69 70 71\n",
      " 72 73 74 76 77 78 79 80 81 82 83 84 85 86 87 88 89 90] TEST: [75]\n"
     ]
    },
    {
     "name": "stderr",
     "output_type": "stream",
     "text": [
      "C:\\ProgramData\\Anaconda3\\lib\\site-packages\\ipykernel_launcher.py:209: DataConversionWarning: A column-vector y was passed when a 1d array was expected. Please change the shape of y to (n_samples,), for example using ravel().\n",
      "C:\\ProgramData\\Anaconda3\\lib\\site-packages\\ipykernel_launcher.py:209: DataConversionWarning: A column-vector y was passed when a 1d array was expected. Please change the shape of y to (n_samples,), for example using ravel().\n"
     ]
    },
    {
     "name": "stdout",
     "output_type": "stream",
     "text": [
      "Mean Absolute Error: 0.018991099999999816\n",
      "RMSE: 0.018991099999999816\n",
      "MAE Percent:  2.533298435904241\n",
      "Iteration:  76\n",
      "y_pred:  [0.5659911] y_test:  [[0.547]]\n",
      "TRAIN: [ 0  1  2  3  4  5  6  7  8  9 10 11 12 13 14 15 16 17 18 19 20 21 22 23\n",
      " 24 25 26 27 28 29 30 31 32 33 34 35 36 37 38 39 40 41 42 43 44 45 46 47\n",
      " 48 49 50 51 52 53 54 55 56 57 58 59 60 61 62 63 64 65 66 67 68 69 70 71\n",
      " 72 73 74 75 77 78 79 80 81 82 83 84 85 86 87 88 89 90] TEST: [76]\n",
      "Mean Absolute Error: 0.06664999999999988\n",
      "RMSE: 0.06664999999999988\n",
      "MAE Percent:  8.890708845354874\n",
      "Iteration:  77\n",
      "y_pred:  [1.37665] y_test:  [[1.31]]\n",
      "TRAIN: [ 0  1  2  3  4  5  6  7  8  9 10 11 12 13 14 15 16 17 18 19 20 21 22 23\n",
      " 24 25 26 27 28 29 30 31 32 33 34 35 36 37 38 39 40 41 42 43 44 45 46 47\n",
      " 48 49 50 51 52 53 54 55 56 57 58 59 60 61 62 63 64 65 66 67 68 69 70 71\n",
      " 72 73 74 75 76 78 79 80 81 82 83 84 85 86 87 88 89 90] TEST: [77]\n"
     ]
    },
    {
     "name": "stderr",
     "output_type": "stream",
     "text": [
      "C:\\ProgramData\\Anaconda3\\lib\\site-packages\\ipykernel_launcher.py:209: DataConversionWarning: A column-vector y was passed when a 1d array was expected. Please change the shape of y to (n_samples,), for example using ravel().\n",
      "C:\\ProgramData\\Anaconda3\\lib\\site-packages\\ipykernel_launcher.py:209: DataConversionWarning: A column-vector y was passed when a 1d array was expected. Please change the shape of y to (n_samples,), for example using ravel().\n"
     ]
    },
    {
     "name": "stdout",
     "output_type": "stream",
     "text": [
      "Mean Absolute Error: 0.17700529999999998\n",
      "RMSE: 0.17700529999999998\n",
      "MAE Percent:  23.611441656184486\n",
      "Iteration:  78\n",
      "y_pred:  [0.2528947] y_test:  [[0.4299]]\n",
      "TRAIN: [ 0  1  2  3  4  5  6  7  8  9 10 11 12 13 14 15 16 17 18 19 20 21 22 23\n",
      " 24 25 26 27 28 29 30 31 32 33 34 35 36 37 38 39 40 41 42 43 44 45 46 47\n",
      " 48 49 50 51 52 53 54 55 56 57 58 59 60 61 62 63 64 65 66 67 68 69 70 71\n",
      " 72 73 74 75 76 77 79 80 81 82 83 84 85 86 87 88 89 90] TEST: [78]\n",
      "Mean Absolute Error: 0.21701600000000004\n",
      "RMSE: 0.21701600000000004\n",
      "MAE Percent:  28.948628218807766\n",
      "Iteration:  79\n",
      "y_pred:  [0.217016] y_test:  [[0.]]\n",
      "TRAIN: [ 0  1  2  3  4  5  6  7  8  9 10 11 12 13 14 15 16 17 18 19 20 21 22 23\n",
      " 24 25 26 27 28 29 30 31 32 33 34 35 36 37 38 39 40 41 42 43 44 45 46 47\n",
      " 48 49 50 51 52 53 54 55 56 57 58 59 60 61 62 63 64 65 66 67 68 69 70 71\n",
      " 72 73 74 75 76 77 78 80 81 82 83 84 85 86 87 88 89 90] TEST: [79]\n"
     ]
    },
    {
     "name": "stderr",
     "output_type": "stream",
     "text": [
      "C:\\ProgramData\\Anaconda3\\lib\\site-packages\\ipykernel_launcher.py:209: DataConversionWarning: A column-vector y was passed when a 1d array was expected. Please change the shape of y to (n_samples,), for example using ravel().\n",
      "C:\\ProgramData\\Anaconda3\\lib\\site-packages\\ipykernel_launcher.py:209: DataConversionWarning: A column-vector y was passed when a 1d array was expected. Please change the shape of y to (n_samples,), for example using ravel().\n"
     ]
    },
    {
     "name": "stdout",
     "output_type": "stream",
     "text": [
      "Mean Absolute Error: 0.03810800000000017\n",
      "RMSE: 0.03810800000000017\n",
      "MAE Percent:  5.083377834640446\n",
      "Iteration:  80\n",
      "y_pred:  [0.237892] y_test:  [[0.276]]\n",
      "TRAIN: [ 0  1  2  3  4  5  6  7  8  9 10 11 12 13 14 15 16 17 18 19 20 21 22 23\n",
      " 24 25 26 27 28 29 30 31 32 33 34 35 36 37 38 39 40 41 42 43 44 45 46 47\n",
      " 48 49 50 51 52 53 54 55 56 57 58 59 60 61 62 63 64 65 66 67 68 69 70 71\n",
      " 72 73 74 75 76 77 78 79 81 82 83 84 85 86 87 88 89 90] TEST: [80]\n",
      "Mean Absolute Error: 0.07403800000000027\n",
      "RMSE: 0.07403800000000027\n",
      "MAE Percent:  9.876223578280388\n",
      "Iteration:  81\n",
      "y_pred:  [1.281038] y_test:  [[1.207]]\n",
      "TRAIN: [ 0  1  2  3  4  5  6  7  8  9 10 11 12 13 14 15 16 17 18 19 20 21 22 23\n",
      " 24 25 26 27 28 29 30 31 32 33 34 35 36 37 38 39 40 41 42 43 44 45 46 47\n",
      " 48 49 50 51 52 53 54 55 56 57 58 59 60 61 62 63 64 65 66 67 68 69 70 71\n",
      " 72 73 74 75 76 77 78 79 80 82 83 84 85 86 87 88 89 90] TEST: [81]\n"
     ]
    },
    {
     "name": "stderr",
     "output_type": "stream",
     "text": [
      "C:\\ProgramData\\Anaconda3\\lib\\site-packages\\ipykernel_launcher.py:209: DataConversionWarning: A column-vector y was passed when a 1d array was expected. Please change the shape of y to (n_samples,), for example using ravel().\n",
      "C:\\ProgramData\\Anaconda3\\lib\\site-packages\\ipykernel_launcher.py:209: DataConversionWarning: A column-vector y was passed when a 1d array was expected. Please change the shape of y to (n_samples,), for example using ravel().\n"
     ]
    },
    {
     "name": "stdout",
     "output_type": "stream",
     "text": [
      "Mean Absolute Error: 0.9882660000000019\n",
      "RMSE: 0.9882660000000019\n",
      "MAE Percent:  131.82873620050285\n",
      "Iteration:  82\n",
      "y_pred:  [1.535734] y_test:  [[2.524]]\n",
      "TRAIN: [ 0  1  2  3  4  5  6  7  8  9 10 11 12 13 14 15 16 17 18 19 20 21 22 23\n",
      " 24 25 26 27 28 29 30 31 32 33 34 35 36 37 38 39 40 41 42 43 44 45 46 47\n",
      " 48 49 50 51 52 53 54 55 56 57 58 59 60 61 62 63 64 65 66 67 68 69 70 71\n",
      " 72 73 74 75 76 77 78 79 80 81 83 84 85 86 87 88 89 90] TEST: [82]\n",
      "Mean Absolute Error: 0.6387950000000009\n",
      "RMSE: 0.6387950000000009\n",
      "MAE Percent:  85.21140820507856\n",
      "Iteration:  83\n",
      "y_pred:  [1.424205] y_test:  [[2.063]]\n",
      "TRAIN: [ 0  1  2  3  4  5  6  7  8  9 10 11 12 13 14 15 16 17 18 19 20 21 22 23\n",
      " 24 25 26 27 28 29 30 31 32 33 34 35 36 37 38 39 40 41 42 43 44 45 46 47\n",
      " 48 49 50 51 52 53 54 55 56 57 58 59 60 61 62 63 64 65 66 67 68 69 70 71\n",
      " 72 73 74 75 76 77 78 79 80 81 82 84 85 86 87 88 89 90] TEST: [83]\n"
     ]
    },
    {
     "name": "stderr",
     "output_type": "stream",
     "text": [
      "C:\\ProgramData\\Anaconda3\\lib\\site-packages\\ipykernel_launcher.py:209: DataConversionWarning: A column-vector y was passed when a 1d array was expected. Please change the shape of y to (n_samples,), for example using ravel().\n",
      "C:\\ProgramData\\Anaconda3\\lib\\site-packages\\ipykernel_launcher.py:209: DataConversionWarning: A column-vector y was passed when a 1d array was expected. Please change the shape of y to (n_samples,), for example using ravel().\n"
     ]
    },
    {
     "name": "stdout",
     "output_type": "stream",
     "text": [
      "Mean Absolute Error: 0.3300644000000001\n",
      "RMSE: 0.3300644000000001\n",
      "MAE Percent:  44.028604360341426\n",
      "Iteration:  84\n",
      "y_pred:  [0.7130644] y_test:  [[0.383]]\n",
      "TRAIN: [ 0  1  2  3  4  5  6  7  8  9 10 11 12 13 14 15 16 17 18 19 20 21 22 23\n",
      " 24 25 26 27 28 29 30 31 32 33 34 35 36 37 38 39 40 41 42 43 44 45 46 47\n",
      " 48 49 50 51 52 53 54 55 56 57 58 59 60 61 62 63 64 65 66 67 68 69 70 71\n",
      " 72 73 74 75 76 77 78 79 80 81 82 83 85 86 87 88 89 90] TEST: [84]\n",
      "Mean Absolute Error: 0.10670799999999996\n",
      "RMSE: 0.10670799999999996\n",
      "MAE Percent:  14.234204943287763\n",
      "Iteration:  85\n",
      "y_pred:  [0.106708] y_test:  [[0.]]\n",
      "TRAIN: [ 0  1  2  3  4  5  6  7  8  9 10 11 12 13 14 15 16 17 18 19 20 21 22 23\n",
      " 24 25 26 27 28 29 30 31 32 33 34 35 36 37 38 39 40 41 42 43 44 45 46 47\n",
      " 48 49 50 51 52 53 54 55 56 57 58 59 60 61 62 63 64 65 66 67 68 69 70 71\n",
      " 72 73 74 75 76 77 78 79 80 81 82 83 84 86 87 88 89 90] TEST: [85]\n"
     ]
    },
    {
     "name": "stderr",
     "output_type": "stream",
     "text": [
      "C:\\ProgramData\\Anaconda3\\lib\\site-packages\\ipykernel_launcher.py:209: DataConversionWarning: A column-vector y was passed when a 1d array was expected. Please change the shape of y to (n_samples,), for example using ravel().\n",
      "C:\\ProgramData\\Anaconda3\\lib\\site-packages\\ipykernel_launcher.py:209: DataConversionWarning: A column-vector y was passed when a 1d array was expected. Please change the shape of y to (n_samples,), for example using ravel().\n"
     ]
    },
    {
     "name": "stdout",
     "output_type": "stream",
     "text": [
      "Mean Absolute Error: 0.07828739999999995\n",
      "RMSE: 0.07828739999999995\n",
      "MAE Percent:  10.443067961888014\n",
      "Iteration:  86\n",
      "y_pred:  [0.3452874] y_test:  [[0.267]]\n",
      "TRAIN: [ 0  1  2  3  4  5  6  7  8  9 10 11 12 13 14 15 16 17 18 19 20 21 22 23\n",
      " 24 25 26 27 28 29 30 31 32 33 34 35 36 37 38 39 40 41 42 43 44 45 46 47\n",
      " 48 49 50 51 52 53 54 55 56 57 58 59 60 61 62 63 64 65 66 67 68 69 70 71\n",
      " 72 73 74 75 76 77 78 79 80 81 82 83 84 85 87 88 89 90] TEST: [86]\n",
      "Mean Absolute Error: 0.6564645\n",
      "RMSE: 0.6564645\n",
      "MAE Percent:  87.56841315546102\n",
      "Iteration:  87\n",
      "y_pred:  [0.6135355] y_test:  [[1.27]]\n",
      "TRAIN: [ 0  1  2  3  4  5  6  7  8  9 10 11 12 13 14 15 16 17 18 19 20 21 22 23\n",
      " 24 25 26 27 28 29 30 31 32 33 34 35 36 37 38 39 40 41 42 43 44 45 46 47\n",
      " 48 49 50 51 52 53 54 55 56 57 58 59 60 61 62 63 64 65 66 67 68 69 70 71\n",
      " 72 73 74 75 76 77 78 79 80 81 82 83 84 85 86 88 89 90] TEST: [87]\n"
     ]
    },
    {
     "name": "stderr",
     "output_type": "stream",
     "text": [
      "C:\\ProgramData\\Anaconda3\\lib\\site-packages\\ipykernel_launcher.py:209: DataConversionWarning: A column-vector y was passed when a 1d array was expected. Please change the shape of y to (n_samples,), for example using ravel().\n",
      "C:\\ProgramData\\Anaconda3\\lib\\site-packages\\ipykernel_launcher.py:209: DataConversionWarning: A column-vector y was passed when a 1d array was expected. Please change the shape of y to (n_samples,), for example using ravel().\n"
     ]
    },
    {
     "name": "stdout",
     "output_type": "stream",
     "text": [
      "Mean Absolute Error: 0.04141999999999999\n",
      "RMSE: 0.04141999999999999\n",
      "MAE Percent:  5.525178700294067\n",
      "Iteration:  88\n",
      "y_pred:  [0.05558] y_test:  [[0.097]]\n",
      "TRAIN: [ 0  1  2  3  4  5  6  7  8  9 10 11 12 13 14 15 16 17 18 19 20 21 22 23\n",
      " 24 25 26 27 28 29 30 31 32 33 34 35 36 37 38 39 40 41 42 43 44 45 46 47\n",
      " 48 49 50 51 52 53 54 55 56 57 58 59 60 61 62 63 64 65 66 67 68 69 70 71\n",
      " 72 73 74 75 76 77 78 79 80 81 82 83 84 85 86 87 89 90] TEST: [88]\n",
      "Mean Absolute Error: 0.09444770000000102\n",
      "RMSE: 0.09444770000000102\n",
      "MAE Percent:  12.598754715880483\n",
      "Iteration:  89\n",
      "y_pred:  [1.2264477] y_test:  [[1.132]]\n",
      "TRAIN: [ 0  1  2  3  4  5  6  7  8  9 10 11 12 13 14 15 16 17 18 19 20 21 22 23\n",
      " 24 25 26 27 28 29 30 31 32 33 34 35 36 37 38 39 40 41 42 43 44 45 46 47\n",
      " 48 49 50 51 52 53 54 55 56 57 58 59 60 61 62 63 64 65 66 67 68 69 70 71\n",
      " 72 73 74 75 76 77 78 79 80 81 82 83 84 85 86 87 88 90] TEST: [89]\n"
     ]
    },
    {
     "name": "stderr",
     "output_type": "stream",
     "text": [
      "C:\\ProgramData\\Anaconda3\\lib\\site-packages\\ipykernel_launcher.py:209: DataConversionWarning: A column-vector y was passed when a 1d array was expected. Please change the shape of y to (n_samples,), for example using ravel().\n",
      "C:\\ProgramData\\Anaconda3\\lib\\site-packages\\ipykernel_launcher.py:209: DataConversionWarning: A column-vector y was passed when a 1d array was expected. Please change the shape of y to (n_samples,), for example using ravel().\n"
     ]
    },
    {
     "name": "stdout",
     "output_type": "stream",
     "text": [
      "Mean Absolute Error: 0.34904199999999963\n",
      "RMSE: 0.34904199999999963\n",
      "MAE Percent:  46.560101977499755\n",
      "Iteration:  90\n",
      "y_pred:  [1.217958] y_test:  [[1.567]]\n",
      "TRAIN: [ 0  1  2  3  4  5  6  7  8  9 10 11 12 13 14 15 16 17 18 19 20 21 22 23\n",
      " 24 25 26 27 28 29 30 31 32 33 34 35 36 37 38 39 40 41 42 43 44 45 46 47\n",
      " 48 49 50 51 52 53 54 55 56 57 58 59 60 61 62 63 64 65 66 67 68 69 70 71\n",
      " 72 73 74 75 76 77 78 79 80 81 82 83 84 85 86 87 88 89] TEST: [90]\n",
      "Mean Absolute Error: 0.4325519999999996\n",
      "RMSE: 0.4325519999999996\n",
      "MAE Percent:  57.69983334547555\n",
      "Iteration:  91\n",
      "y_pred:  [1.160448] y_test:  [[1.593]]\n",
      "RMSE: [0.3193319 0.7182368 0.113164  0.1639441 0.0255336 0.120057  0.10125\n",
      " 0.099881  0.222185  0.1859111 0.251396  0.128852  0.0476797 0.018154\n",
      " 0.007877  0.225347  0.1469787 0.1970804 0.147085  0.333256  0.417936\n",
      " 0.1930327 0.029156  0.167883  0.002679  0.0736407 0.0251    0.0515649\n",
      " 0.0548623 0.021406  0.1614726 0.3382213 0.748898  0.6290413 0.117153\n",
      " 0.001699  0.1909122 0.011964  0.1922911 0.185366  0.1733127 0.2770857\n",
      " 0.866368  0.0530584 0.0126066 0.027065  0.017849  0.075275  0.493872\n",
      " 0.755362  0.027229  0.670446  0.057055  0.9105394 0.029488  0.354881\n",
      " 0.015201  0.025506  0.147059  0.4004435 0.2902412 0.0974797 0.478024\n",
      " 0.5496468 0.231687  0.0811017 0.015571  0.1633177 0.0125786 0.03919\n",
      " 0.0146877 0.046769  0.2235407 0.0923927 0.254108  0.0189911 0.06665\n",
      " 0.1770053 0.217016  0.038108  0.074038  0.988266  0.638795  0.3300644\n",
      " 0.106708  0.0782874 0.6564645 0.04142   0.0944477 0.349042  0.432552 ]\n",
      "MAE: [0.3193319 0.7182368 0.113164  0.1639441 0.0255336 0.120057  0.10125\n",
      " 0.099881  0.222185  0.1859111 0.251396  0.128852  0.0476797 0.018154\n",
      " 0.007877  0.225347  0.1469787 0.1970804 0.147085  0.333256  0.417936\n",
      " 0.1930327 0.029156  0.167883  0.002679  0.0736407 0.0251    0.0515649\n",
      " 0.0548623 0.021406  0.1614726 0.3382213 0.748898  0.6290413 0.117153\n",
      " 0.001699  0.1909122 0.011964  0.1922911 0.185366  0.1733127 0.2770857\n",
      " 0.866368  0.0530584 0.0126066 0.027065  0.017849  0.075275  0.493872\n",
      " 0.755362  0.027229  0.670446  0.057055  0.9105394 0.029488  0.354881\n",
      " 0.015201  0.025506  0.147059  0.4004435 0.2902412 0.0974797 0.478024\n",
      " 0.5496468 0.231687  0.0811017 0.015571  0.1633177 0.0125786 0.03919\n",
      " 0.0146877 0.046769  0.2235407 0.0923927 0.254108  0.0189911 0.06665\n",
      " 0.1770053 0.217016  0.038108  0.074038  0.988266  0.638795  0.3300644\n",
      " 0.106708  0.0782874 0.6564645 0.04142   0.0944477 0.349042  0.432552 ]\n",
      "MAE Percent: [ 42.59695346  95.80846618  15.09539649  21.86915619   3.40602856\n",
      "  16.0148812   13.50614059  13.32352423  29.63814171  24.79942177\n",
      "  33.53471329  17.18808126   6.360185     2.42163433   1.05074439\n",
      "  30.05993348  19.60607394  26.28933917  19.62025372  44.45434459\n",
      "  55.75014692  25.74940035   3.88923492  22.39458174   0.35736248\n",
      "   9.82322615   3.34818893   6.8784473    7.31830061   2.85543156\n",
      "  21.53947296  45.11668573  99.89848571  83.91032333  15.62750508\n",
      "   0.22663637  25.46653841   1.59592559  25.65047537  24.72670871\n",
      "  23.11887104  36.96156465 115.56827668   7.07767121   1.68164456\n",
      "   3.6103081    2.38094917  10.04123193  65.87955227 100.76074441\n",
      "   3.63218471  89.4334611    7.6107936  121.46047558   3.93352172\n",
      "  47.33898943   2.02772191   3.40234688  19.61678548  53.4167527\n",
      "  38.71642917  13.00320527  63.76552446  73.31957489  30.90565132\n",
      "  10.81847864   2.07707768  21.7855982    1.67790953   5.22771012\n",
      "   1.95925078   6.23870311  29.81898393  12.32463008  33.89647777\n",
      "   2.53329844   8.89070885  23.61144166  28.94862822   5.08337783\n",
      "   9.87622358 131.8287362   85.21140821  44.02860436  14.23420494\n",
      "  10.44306796  87.56841316   5.5251787   12.59875472  46.56010198\n",
      "  57.69983335]\n",
      "Average RMSE: 0.21401508681318684 +- 0.23136772049015622\n",
      "Average MAE: 0.21401508681318684 +- 0.23136772049015622\n",
      "Average MAE Percent: 28.54832446165634 +- 30.863061351709376\n",
      "1\n",
      "    Sub_ID Sub_Type  Cut_Off_Time  FIM  FIM_M  BBS  MWT10_SSV  MWT10_FV  \\\n",
      "278   CVA2   CVA_AD            20   85     56   38      0.595     0.771   \n",
      "279   CVA4   CVA_AD            20   44     24    3      0.000     0.000   \n",
      "280   CVA5   CVA_AD            20   62     34    6      0.000     0.000   \n",
      "281   CVA6   CVA_AD            20   57     35   16      0.783     0.000   \n",
      "282   CVA9   CVA_AD            20   71     49   37      0.917     1.166   \n",
      "..     ...      ...           ...  ...    ...  ...        ...       ...   \n",
      "364  CVA51   CVA_DC            20   89     59   37      1.270     2.149   \n",
      "365  CVA52   CVA_DC            20   61     40    4      0.097     0.000   \n",
      "366  CVA53   CVA_DC            20   90     64   38      1.132     1.591   \n",
      "367  CVA54   CVA_DC            20   94     66   44      1.567     2.258   \n",
      "368  CVA55   CVA_DC            20  120     89   51      1.593     2.992   \n",
      "\n",
      "         MWT6      TUG  ...  DLS_L_Acc_z_PSD_mean  DLS_L_Acc_z_PSD_std  \\\n",
      "278  193.1210  26.9930  ...              0.002632             0.002837   \n",
      "279  233.0196   0.0000  ...              0.001878             0.005541   \n",
      "280   23.0000   0.0000  ...              0.000922             0.004190   \n",
      "281  124.9700  47.5180  ...              0.001891             0.002734   \n",
      "282  152.4600  26.3015  ...              0.002023             0.002391   \n",
      "..        ...      ...  ...                   ...                  ...   \n",
      "364  273.7600  16.6300  ...              0.002799             0.002565   \n",
      "365   10.5500   0.0000  ...              0.000494             0.001826   \n",
      "366  228.8800  19.7830  ...              0.002717             0.003530   \n",
      "367  345.3400  12.1980  ...              0.001778             0.003660   \n",
      "368  295.8850   8.5103  ...              0.002046             0.004230   \n",
      "\n",
      "     DLS_L_Acc_z_PSD_skew  DLS_L_Acc_z_PSD_kurtosis  DLS_L_Acc_norm_DAmp  \\\n",
      "278             38.482202               2389.123896             1.324615   \n",
      "279             65.206423               4978.423068             1.338382   \n",
      "280             56.011452               3766.428967             1.241889   \n",
      "281             52.247620               3675.391060             1.287889   \n",
      "282             16.746425                635.773186             1.314524   \n",
      "..                    ...                       ...                  ...   \n",
      "364             21.016757               1035.520523             1.345064   \n",
      "365             62.694025               4709.090140             1.216641   \n",
      "366             44.863545               3011.513622             1.363693   \n",
      "367             50.851446               3526.410255             1.443370   \n",
      "368             50.617479               3537.372605             1.650769   \n",
      "\n",
      "     DLS_L_Acc_norm_DFreq  DLS_L_Acc_norm_PSD_mean  DLS_L_Acc_norm_PSD_std  \\\n",
      "278                     0                 0.016249                0.066250   \n",
      "279                     0                 0.014980                0.067290   \n",
      "280                     0                 0.015786                0.061983   \n",
      "281                     0                 0.024675                0.064238   \n",
      "282                     0                 0.015119                0.066540   \n",
      "..                    ...                      ...                     ...   \n",
      "364                     0                 0.017630                0.067283   \n",
      "365                     0                 0.009028                0.061153   \n",
      "366                     0                 0.017397                0.069465   \n",
      "367                     0                 0.017341                0.074459   \n",
      "368                     0                 0.023664                0.086513   \n",
      "\n",
      "     DLS_L_Acc_norm_PSD_skew  DLS_L_Acc_norm_PSD_kurtosis  \n",
      "278                16.860022                   314.203778  \n",
      "279                16.638770                   308.790005  \n",
      "280                16.934347                   316.216582  \n",
      "281                16.599201                   308.455987  \n",
      "282                16.337222                   300.770459  \n",
      "..                       ...                          ...  \n",
      "364                16.822186                   313.154694  \n",
      "365                16.883302                   314.353799  \n",
      "366                16.002223                   291.978164  \n",
      "367                15.528767                   278.812540  \n",
      "368                14.865044                   260.728072  \n",
      "\n",
      "[91 rows x 352 columns]\n",
      "TRAIN: [ 1  2  3  4  5  6  7  8  9 10 11 12 13 14 15 16 17 18 19 20 21 22 23 24\n",
      " 25 26 27 28 29 30 31 32 33 34 35 36 37 38 39 40 41 42 43 44 45 46 47 48\n",
      " 49 50 51 52 53 54 55 56 57 58 59 60 61 62 63 64 65 66 67 68 69 70 71 72\n",
      " 73 74 75 76 77 78 79 80 81 82 83 84 85 86 87 88 89 90] TEST: [0]\n"
     ]
    },
    {
     "name": "stderr",
     "output_type": "stream",
     "text": [
      "C:\\ProgramData\\Anaconda3\\lib\\site-packages\\ipykernel_launcher.py:209: DataConversionWarning: A column-vector y was passed when a 1d array was expected. Please change the shape of y to (n_samples,), for example using ravel().\n",
      "C:\\ProgramData\\Anaconda3\\lib\\site-packages\\ipykernel_launcher.py:209: DataConversionWarning: A column-vector y was passed when a 1d array was expected. Please change the shape of y to (n_samples,), for example using ravel().\n"
     ]
    },
    {
     "name": "stdout",
     "output_type": "stream",
     "text": [
      "Mean Absolute Error: 0.14925759999999988\n",
      "RMSE: 0.14925759999999988\n",
      "MAE Percent:  19.910065484717798\n",
      "Iteration:  1\n",
      "y_pred:  [0.7442576] y_test:  [[0.595]]\n",
      "TRAIN: [ 0  2  3  4  5  6  7  8  9 10 11 12 13 14 15 16 17 18 19 20 21 22 23 24\n",
      " 25 26 27 28 29 30 31 32 33 34 35 36 37 38 39 40 41 42 43 44 45 46 47 48\n",
      " 49 50 51 52 53 54 55 56 57 58 59 60 61 62 63 64 65 66 67 68 69 70 71 72\n",
      " 73 74 75 76 77 78 79 80 81 82 83 84 85 86 87 88 89 90] TEST: [1]\n",
      "Mean Absolute Error: 0.7595583999999997\n",
      "RMSE: 0.7595583999999997\n",
      "MAE Percent:  101.32051891138194\n",
      "Iteration:  2\n",
      "y_pred:  [0.7595584] y_test:  [[0.]]\n",
      "TRAIN: [ 0  1  3  4  5  6  7  8  9 10 11 12 13 14 15 16 17 18 19 20 21 22 23 24\n",
      " 25 26 27 28 29 30 31 32 33 34 35 36 37 38 39 40 41 42 43 44 45 46 47 48\n",
      " 49 50 51 52 53 54 55 56 57 58 59 60 61 62 63 64 65 66 67 68 69 70 71 72\n",
      " 73 74 75 76 77 78 79 80 81 82 83 84 85 86 87 88 89 90] TEST: [2]\n"
     ]
    },
    {
     "name": "stderr",
     "output_type": "stream",
     "text": [
      "C:\\ProgramData\\Anaconda3\\lib\\site-packages\\ipykernel_launcher.py:209: DataConversionWarning: A column-vector y was passed when a 1d array was expected. Please change the shape of y to (n_samples,), for example using ravel().\n",
      "C:\\ProgramData\\Anaconda3\\lib\\site-packages\\ipykernel_launcher.py:209: DataConversionWarning: A column-vector y was passed when a 1d array was expected. Please change the shape of y to (n_samples,), for example using ravel().\n"
     ]
    },
    {
     "name": "stdout",
     "output_type": "stream",
     "text": [
      "Mean Absolute Error: 0.053946\n",
      "RMSE: 0.053946\n",
      "MAE Percent:  7.19607170849985\n",
      "Iteration:  3\n",
      "y_pred:  [0.053946] y_test:  [[0.]]\n",
      "TRAIN: [ 0  1  2  4  5  6  7  8  9 10 11 12 13 14 15 16 17 18 19 20 21 22 23 24\n",
      " 25 26 27 28 29 30 31 32 33 34 35 36 37 38 39 40 41 42 43 44 45 46 47 48\n",
      " 49 50 51 52 53 54 55 56 57 58 59 60 61 62 63 64 65 66 67 68 69 70 71 72\n",
      " 73 74 75 76 77 78 79 80 81 82 83 84 85 86 87 88 89 90] TEST: [3]\n",
      "Mean Absolute Error: 0.2788583000000002\n",
      "RMSE: 0.2788583000000002\n",
      "MAE Percent:  37.19801882086466\n",
      "Iteration:  4\n",
      "y_pred:  [0.5041417] y_test:  [[0.783]]\n",
      "TRAIN: [ 0  1  2  3  5  6  7  8  9 10 11 12 13 14 15 16 17 18 19 20 21 22 23 24\n",
      " 25 26 27 28 29 30 31 32 33 34 35 36 37 38 39 40 41 42 43 44 45 46 47 48\n",
      " 49 50 51 52 53 54 55 56 57 58 59 60 61 62 63 64 65 66 67 68 69 70 71 72\n",
      " 73 74 75 76 77 78 79 80 81 82 83 84 85 86 87 88 89 90] TEST: [4]\n"
     ]
    },
    {
     "name": "stderr",
     "output_type": "stream",
     "text": [
      "C:\\ProgramData\\Anaconda3\\lib\\site-packages\\ipykernel_launcher.py:209: DataConversionWarning: A column-vector y was passed when a 1d array was expected. Please change the shape of y to (n_samples,), for example using ravel().\n",
      "C:\\ProgramData\\Anaconda3\\lib\\site-packages\\ipykernel_launcher.py:209: DataConversionWarning: A column-vector y was passed when a 1d array was expected. Please change the shape of y to (n_samples,), for example using ravel().\n"
     ]
    },
    {
     "name": "stdout",
     "output_type": "stream",
     "text": [
      "Mean Absolute Error: 0.0628329999999997\n",
      "RMSE: 0.0628329999999997\n",
      "MAE Percent:  8.381544019207519\n",
      "Iteration:  5\n",
      "y_pred:  [0.854167] y_test:  [[0.917]]\n",
      "TRAIN: [ 0  1  2  3  4  6  7  8  9 10 11 12 13 14 15 16 17 18 19 20 21 22 23 24\n",
      " 25 26 27 28 29 30 31 32 33 34 35 36 37 38 39 40 41 42 43 44 45 46 47 48\n",
      " 49 50 51 52 53 54 55 56 57 58 59 60 61 62 63 64 65 66 67 68 69 70 71 72\n",
      " 73 74 75 76 77 78 79 80 81 82 83 84 85 86 87 88 89 90] TEST: [5]\n",
      "Mean Absolute Error: 0.024809999999999846\n",
      "RMSE: 0.024809999999999846\n",
      "MAE Percent:  3.309504672967044\n",
      "Iteration:  6\n",
      "y_pred:  [0.11121] y_test:  [[0.0864]]\n",
      "TRAIN: [ 0  1  2  3  4  5  7  8  9 10 11 12 13 14 15 16 17 18 19 20 21 22 23 24\n",
      " 25 26 27 28 29 30 31 32 33 34 35 36 37 38 39 40 41 42 43 44 45 46 47 48\n",
      " 49 50 51 52 53 54 55 56 57 58 59 60 61 62 63 64 65 66 67 68 69 70 71 72\n",
      " 73 74 75 76 77 78 79 80 81 82 83 84 85 86 87 88 89 90] TEST: [6]\n"
     ]
    },
    {
     "name": "stderr",
     "output_type": "stream",
     "text": [
      "C:\\ProgramData\\Anaconda3\\lib\\site-packages\\ipykernel_launcher.py:209: DataConversionWarning: A column-vector y was passed when a 1d array was expected. Please change the shape of y to (n_samples,), for example using ravel().\n",
      "C:\\ProgramData\\Anaconda3\\lib\\site-packages\\ipykernel_launcher.py:209: DataConversionWarning: A column-vector y was passed when a 1d array was expected. Please change the shape of y to (n_samples,), for example using ravel().\n"
     ]
    },
    {
     "name": "stdout",
     "output_type": "stream",
     "text": [
      "Mean Absolute Error: 0.14115399999999956\n",
      "RMSE: 0.14115399999999956\n",
      "MAE Percent:  18.82909401886302\n",
      "Iteration:  7\n",
      "y_pred:  [1.240154] y_test:  [[1.099]]\n",
      "TRAIN: [ 0  1  2  3  4  5  6  8  9 10 11 12 13 14 15 16 17 18 19 20 21 22 23 24\n",
      " 25 26 27 28 29 30 31 32 33 34 35 36 37 38 39 40 41 42 43 44 45 46 47 48\n",
      " 49 50 51 52 53 54 55 56 57 58 59 60 61 62 63 64 65 66 67 68 69 70 71 72\n",
      " 73 74 75 76 77 78 79 80 81 82 83 84 85 86 87 88 89 90] TEST: [7]\n",
      "Mean Absolute Error: 0.17214700000000005\n",
      "RMSE: 0.17214700000000005\n",
      "MAE Percent:  22.963373677438994\n",
      "Iteration:  8\n",
      "y_pred:  [1.339147] y_test:  [[1.167]]\n",
      "TRAIN: [ 0  1  2  3  4  5  6  7  9 10 11 12 13 14 15 16 17 18 19 20 21 22 23 24\n",
      " 25 26 27 28 29 30 31 32 33 34 35 36 37 38 39 40 41 42 43 44 45 46 47 48\n",
      " 49 50 51 52 53 54 55 56 57 58 59 60 61 62 63 64 65 66 67 68 69 70 71 72\n",
      " 73 74 75 76 77 78 79 80 81 82 83 84 85 86 87 88 89 90] TEST: [8]\n"
     ]
    },
    {
     "name": "stderr",
     "output_type": "stream",
     "text": [
      "C:\\ProgramData\\Anaconda3\\lib\\site-packages\\ipykernel_launcher.py:209: DataConversionWarning: A column-vector y was passed when a 1d array was expected. Please change the shape of y to (n_samples,), for example using ravel().\n",
      "C:\\ProgramData\\Anaconda3\\lib\\site-packages\\ipykernel_launcher.py:209: DataConversionWarning: A column-vector y was passed when a 1d array was expected. Please change the shape of y to (n_samples,), for example using ravel().\n"
     ]
    },
    {
     "name": "stdout",
     "output_type": "stream",
     "text": [
      "Mean Absolute Error: 0.13385799999999998\n",
      "RMSE: 0.13385799999999998\n",
      "MAE Percent:  17.855851532205776\n",
      "Iteration:  9\n",
      "y_pred:  [0.296642] y_test:  [[0.4305]]\n",
      "TRAIN: [ 0  1  2  3  4  5  6  7  8 10 11 12 13 14 15 16 17 18 19 20 21 22 23 24\n",
      " 25 26 27 28 29 30 31 32 33 34 35 36 37 38 39 40 41 42 43 44 45 46 47 48\n",
      " 49 50 51 52 53 54 55 56 57 58 59 60 61 62 63 64 65 66 67 68 69 70 71 72\n",
      " 73 74 75 76 77 78 79 80 81 82 83 84 85 86 87 88 89 90] TEST: [9]\n",
      "Mean Absolute Error: 0.3034918000000001\n",
      "RMSE: 0.3034918000000001\n",
      "MAE Percent:  40.483979456154216\n",
      "Iteration:  10\n",
      "y_pred:  [0.8404918] y_test:  [[0.537]]\n",
      "TRAIN: [ 0  1  2  3  4  5  6  7  8  9 11 12 13 14 15 16 17 18 19 20 21 22 23 24\n",
      " 25 26 27 28 29 30 31 32 33 34 35 36 37 38 39 40 41 42 43 44 45 46 47 48\n",
      " 49 50 51 52 53 54 55 56 57 58 59 60 61 62 63 64 65 66 67 68 69 70 71 72\n",
      " 73 74 75 76 77 78 79 80 81 82 83 84 85 86 87 88 89 90] TEST: [10]\n"
     ]
    },
    {
     "name": "stderr",
     "output_type": "stream",
     "text": [
      "C:\\ProgramData\\Anaconda3\\lib\\site-packages\\ipykernel_launcher.py:209: DataConversionWarning: A column-vector y was passed when a 1d array was expected. Please change the shape of y to (n_samples,), for example using ravel().\n",
      "C:\\ProgramData\\Anaconda3\\lib\\site-packages\\ipykernel_launcher.py:209: DataConversionWarning: A column-vector y was passed when a 1d array was expected. Please change the shape of y to (n_samples,), for example using ravel().\n"
     ]
    },
    {
     "name": "stdout",
     "output_type": "stream",
     "text": [
      "Mean Absolute Error: 0.04664299999999992\n",
      "RMSE: 0.04664299999999992\n",
      "MAE Percent:  6.221895463974306\n",
      "Iteration:  11\n",
      "y_pred:  [0.149643] y_test:  [[0.103]]\n",
      "TRAIN: [ 0  1  2  3  4  5  6  7  8  9 10 12 13 14 15 16 17 18 19 20 21 22 23 24\n",
      " 25 26 27 28 29 30 31 32 33 34 35 36 37 38 39 40 41 42 43 44 45 46 47 48\n",
      " 49 50 51 52 53 54 55 56 57 58 59 60 61 62 63 64 65 66 67 68 69 70 71 72\n",
      " 73 74 75 76 77 78 79 80 81 82 83 84 85 86 87 88 89 90] TEST: [11]\n",
      "Mean Absolute Error: 0.009357999999999533\n",
      "RMSE: 0.009357999999999533\n",
      "MAE Percent:  1.2483008758413643\n",
      "Iteration:  12\n",
      "y_pred:  [1.061642] y_test:  [[1.071]]\n",
      "TRAIN: [ 0  1  2  3  4  5  6  7  8  9 10 11 13 14 15 16 17 18 19 20 21 22 23 24\n",
      " 25 26 27 28 29 30 31 32 33 34 35 36 37 38 39 40 41 42 43 44 45 46 47 48\n",
      " 49 50 51 52 53 54 55 56 57 58 59 60 61 62 63 64 65 66 67 68 69 70 71 72\n",
      " 73 74 75 76 77 78 79 80 81 82 83 84 85 86 87 88 89 90] TEST: [12]\n"
     ]
    },
    {
     "name": "stderr",
     "output_type": "stream",
     "text": [
      "C:\\ProgramData\\Anaconda3\\lib\\site-packages\\ipykernel_launcher.py:209: DataConversionWarning: A column-vector y was passed when a 1d array was expected. Please change the shape of y to (n_samples,), for example using ravel().\n",
      "C:\\ProgramData\\Anaconda3\\lib\\site-packages\\ipykernel_launcher.py:209: DataConversionWarning: A column-vector y was passed when a 1d array was expected. Please change the shape of y to (n_samples,), for example using ravel().\n"
     ]
    },
    {
     "name": "stdout",
     "output_type": "stream",
     "text": [
      "Mean Absolute Error: 0.017570000000000308\n",
      "RMSE: 0.017570000000000308\n",
      "MAE Percent:  2.3437322492556367\n",
      "Iteration:  13\n",
      "y_pred:  [1.24757] y_test:  [[1.23]]\n",
      "TRAIN: [ 0  1  2  3  4  5  6  7  8  9 10 11 12 14 15 16 17 18 19 20 21 22 23 24\n",
      " 25 26 27 28 29 30 31 32 33 34 35 36 37 38 39 40 41 42 43 44 45 46 47 48\n",
      " 49 50 51 52 53 54 55 56 57 58 59 60 61 62 63 64 65 66 67 68 69 70 71 72\n",
      " 73 74 75 76 77 78 79 80 81 82 83 84 85 86 87 88 89 90] TEST: [13]\n",
      "Mean Absolute Error: 0.022764999999999702\n",
      "RMSE: 0.022764999999999702\n",
      "MAE Percent:  3.0367139814628876\n",
      "Iteration:  14\n",
      "y_pred:  [0.993235] y_test:  [[1.016]]\n",
      "TRAIN: [ 0  1  2  3  4  5  6  7  8  9 10 11 12 13 15 16 17 18 19 20 21 22 23 24\n",
      " 25 26 27 28 29 30 31 32 33 34 35 36 37 38 39 40 41 42 43 44 45 46 47 48\n",
      " 49 50 51 52 53 54 55 56 57 58 59 60 61 62 63 64 65 66 67 68 69 70 71 72\n",
      " 73 74 75 76 77 78 79 80 81 82 83 84 85 86 87 88 89 90] TEST: [14]\n"
     ]
    },
    {
     "name": "stderr",
     "output_type": "stream",
     "text": [
      "C:\\ProgramData\\Anaconda3\\lib\\site-packages\\ipykernel_launcher.py:209: DataConversionWarning: A column-vector y was passed when a 1d array was expected. Please change the shape of y to (n_samples,), for example using ravel().\n",
      "C:\\ProgramData\\Anaconda3\\lib\\site-packages\\ipykernel_launcher.py:209: DataConversionWarning: A column-vector y was passed when a 1d array was expected. Please change the shape of y to (n_samples,), for example using ravel().\n"
     ]
    },
    {
     "name": "stdout",
     "output_type": "stream",
     "text": [
      "Mean Absolute Error: 0.006174000000000235\n",
      "RMSE: 0.006174000000000235\n",
      "MAE Percent:  0.8235744397782925\n",
      "Iteration:  15\n",
      "y_pred:  [0.319826] y_test:  [[0.326]]\n",
      "TRAIN: [ 0  1  2  3  4  5  6  7  8  9 10 11 12 13 14 16 17 18 19 20 21 22 23 24\n",
      " 25 26 27 28 29 30 31 32 33 34 35 36 37 38 39 40 41 42 43 44 45 46 47 48\n",
      " 49 50 51 52 53 54 55 56 57 58 59 60 61 62 63 64 65 66 67 68 69 70 71 72\n",
      " 73 74 75 76 77 78 79 80 81 82 83 84 85 86 87 88 89 90] TEST: [15]\n",
      "Mean Absolute Error: 0.42099599999999837\n",
      "RMSE: 0.42099599999999837\n",
      "MAE Percent:  56.15833249900996\n",
      "Iteration:  16\n",
      "y_pred:  [1.601996] y_test:  [[1.181]]\n",
      "TRAIN: [ 0  1  2  3  4  5  6  7  8  9 10 11 12 13 14 15 17 18 19 20 21 22 23 24\n",
      " 25 26 27 28 29 30 31 32 33 34 35 36 37 38 39 40 41 42 43 44 45 46 47 48\n",
      " 49 50 51 52 53 54 55 56 57 58 59 60 61 62 63 64 65 66 67 68 69 70 71 72\n",
      " 73 74 75 76 77 78 79 80 81 82 83 84 85 86 87 88 89 90] TEST: [16]\n"
     ]
    },
    {
     "name": "stderr",
     "output_type": "stream",
     "text": [
      "C:\\ProgramData\\Anaconda3\\lib\\site-packages\\ipykernel_launcher.py:209: DataConversionWarning: A column-vector y was passed when a 1d array was expected. Please change the shape of y to (n_samples,), for example using ravel().\n",
      "C:\\ProgramData\\Anaconda3\\lib\\site-packages\\ipykernel_launcher.py:209: DataConversionWarning: A column-vector y was passed when a 1d array was expected. Please change the shape of y to (n_samples,), for example using ravel().\n"
     ]
    },
    {
     "name": "stdout",
     "output_type": "stream",
     "text": [
      "Mean Absolute Error: 0.12370599999999995\n",
      "RMSE: 0.12370599999999995\n",
      "MAE Percent:  16.501635835310903\n",
      "Iteration:  17\n",
      "y_pred:  [0.123706] y_test:  [[0.]]\n",
      "TRAIN: [ 0  1  2  3  4  5  6  7  8  9 10 11 12 13 14 15 16 18 19 20 21 22 23 24\n",
      " 25 26 27 28 29 30 31 32 33 34 35 36 37 38 39 40 41 42 43 44 45 46 47 48\n",
      " 49 50 51 52 53 54 55 56 57 58 59 60 61 62 63 64 65 66 67 68 69 70 71 72\n",
      " 73 74 75 76 77 78 79 80 81 82 83 84 85 86 87 88 89 90] TEST: [17]\n",
      "Mean Absolute Error: 0.2999684999999999\n",
      "RMSE: 0.2999684999999999\n",
      "MAE Percent:  40.01399244227814\n",
      "Iteration:  18\n",
      "y_pred:  [0.5079685] y_test:  [[0.208]]\n",
      "TRAIN: [ 0  1  2  3  4  5  6  7  8  9 10 11 12 13 14 15 16 17 19 20 21 22 23 24\n",
      " 25 26 27 28 29 30 31 32 33 34 35 36 37 38 39 40 41 42 43 44 45 46 47 48\n",
      " 49 50 51 52 53 54 55 56 57 58 59 60 61 62 63 64 65 66 67 68 69 70 71 72\n",
      " 73 74 75 76 77 78 79 80 81 82 83 84 85 86 87 88 89 90] TEST: [18]\n"
     ]
    },
    {
     "name": "stderr",
     "output_type": "stream",
     "text": [
      "C:\\ProgramData\\Anaconda3\\lib\\site-packages\\ipykernel_launcher.py:209: DataConversionWarning: A column-vector y was passed when a 1d array was expected. Please change the shape of y to (n_samples,), for example using ravel().\n",
      "C:\\ProgramData\\Anaconda3\\lib\\site-packages\\ipykernel_launcher.py:209: DataConversionWarning: A column-vector y was passed when a 1d array was expected. Please change the shape of y to (n_samples,), for example using ravel().\n"
     ]
    },
    {
     "name": "stdout",
     "output_type": "stream",
     "text": [
      "Mean Absolute Error: 0.11874399999999997\n",
      "RMSE: 0.11874399999999997\n",
      "MAE Percent:  15.839734900717495\n",
      "Iteration:  19\n",
      "y_pred:  [0.118744] y_test:  [[0.]]\n",
      "TRAIN: [ 0  1  2  3  4  5  6  7  8  9 10 11 12 13 14 15 16 17 18 20 21 22 23 24\n",
      " 25 26 27 28 29 30 31 32 33 34 35 36 37 38 39 40 41 42 43 44 45 46 47 48\n",
      " 49 50 51 52 53 54 55 56 57 58 59 60 61 62 63 64 65 66 67 68 69 70 71 72\n",
      " 73 74 75 76 77 78 79 80 81 82 83 84 85 86 87 88 89 90] TEST: [19]\n",
      "Mean Absolute Error: 0.10541799999999935\n",
      "RMSE: 0.10541799999999935\n",
      "MAE Percent:  14.062126707571135\n",
      "Iteration:  20\n",
      "y_pred:  [1.652418] y_test:  [[1.547]]\n",
      "TRAIN: [ 0  1  2  3  4  5  6  7  8  9 10 11 12 13 14 15 16 17 18 19 21 22 23 24\n",
      " 25 26 27 28 29 30 31 32 33 34 35 36 37 38 39 40 41 42 43 44 45 46 47 48\n",
      " 49 50 51 52 53 54 55 56 57 58 59 60 61 62 63 64 65 66 67 68 69 70 71 72\n",
      " 73 74 75 76 77 78 79 80 81 82 83 84 85 86 87 88 89 90] TEST: [20]\n"
     ]
    },
    {
     "name": "stderr",
     "output_type": "stream",
     "text": [
      "C:\\ProgramData\\Anaconda3\\lib\\site-packages\\ipykernel_launcher.py:209: DataConversionWarning: A column-vector y was passed when a 1d array was expected. Please change the shape of y to (n_samples,), for example using ravel().\n",
      "C:\\ProgramData\\Anaconda3\\lib\\site-packages\\ipykernel_launcher.py:209: DataConversionWarning: A column-vector y was passed when a 1d array was expected. Please change the shape of y to (n_samples,), for example using ravel().\n"
     ]
    },
    {
     "name": "stdout",
     "output_type": "stream",
     "text": [
      "Mean Absolute Error: 0.33060600000000007\n",
      "RMSE: 0.33060600000000007\n",
      "MAE Percent:  44.10085054054613\n",
      "Iteration:  21\n",
      "y_pred:  [0.340394] y_test:  [[0.671]]\n",
      "TRAIN: [ 0  1  2  3  4  5  6  7  8  9 10 11 12 13 14 15 16 17 18 19 20 22 23 24\n",
      " 25 26 27 28 29 30 31 32 33 34 35 36 37 38 39 40 41 42 43 44 45 46 47 48\n",
      " 49 50 51 52 53 54 55 56 57 58 59 60 61 62 63 64 65 66 67 68 69 70 71 72\n",
      " 73 74 75 76 77 78 79 80 81 82 83 84 85 86 87 88 89 90] TEST: [21]\n",
      "Mean Absolute Error: 0.1417416999999999\n",
      "RMSE: 0.1417416999999999\n",
      "MAE Percent:  18.90748966159998\n",
      "Iteration:  22\n",
      "y_pred:  [0.3077417] y_test:  [[0.166]]\n",
      "TRAIN: [ 0  1  2  3  4  5  6  7  8  9 10 11 12 13 14 15 16 17 18 19 20 21 23 24\n",
      " 25 26 27 28 29 30 31 32 33 34 35 36 37 38 39 40 41 42 43 44 45 46 47 48\n",
      " 49 50 51 52 53 54 55 56 57 58 59 60 61 62 63 64 65 66 67 68 69 70 71 72\n",
      " 73 74 75 76 77 78 79 80 81 82 83 84 85 86 87 88 89 90] TEST: [22]\n"
     ]
    },
    {
     "name": "stderr",
     "output_type": "stream",
     "text": [
      "C:\\ProgramData\\Anaconda3\\lib\\site-packages\\ipykernel_launcher.py:209: DataConversionWarning: A column-vector y was passed when a 1d array was expected. Please change the shape of y to (n_samples,), for example using ravel().\n",
      "C:\\ProgramData\\Anaconda3\\lib\\site-packages\\ipykernel_launcher.py:209: DataConversionWarning: A column-vector y was passed when a 1d array was expected. Please change the shape of y to (n_samples,), for example using ravel().\n"
     ]
    },
    {
     "name": "stdout",
     "output_type": "stream",
     "text": [
      "Mean Absolute Error: 0.014702000000000326\n",
      "RMSE: 0.014702000000000326\n",
      "MAE Percent:  1.9611583112439688\n",
      "Iteration:  23\n",
      "y_pred:  [0.984702] y_test:  [[0.97]]\n",
      "TRAIN: [ 0  1  2  3  4  5  6  7  8  9 10 11 12 13 14 15 16 17 18 19 20 21 22 24\n",
      " 25 26 27 28 29 30 31 32 33 34 35 36 37 38 39 40 41 42 43 44 45 46 47 48\n",
      " 49 50 51 52 53 54 55 56 57 58 59 60 61 62 63 64 65 66 67 68 69 70 71 72\n",
      " 73 74 75 76 77 78 79 80 81 82 83 84 85 86 87 88 89 90] TEST: [23]\n",
      "Mean Absolute Error: 0.17410299999999995\n",
      "RMSE: 0.17410299999999995\n",
      "MAE Percent:  23.224292304618487\n",
      "Iteration:  24\n",
      "y_pred:  [0.174103] y_test:  [[0.]]\n",
      "TRAIN: [ 0  1  2  3  4  5  6  7  8  9 10 11 12 13 14 15 16 17 18 19 20 21 22 23\n",
      " 25 26 27 28 29 30 31 32 33 34 35 36 37 38 39 40 41 42 43 44 45 46 47 48\n",
      " 49 50 51 52 53 54 55 56 57 58 59 60 61 62 63 64 65 66 67 68 69 70 71 72\n",
      " 73 74 75 76 77 78 79 80 81 82 83 84 85 86 87 88 89 90] TEST: [24]\n"
     ]
    },
    {
     "name": "stderr",
     "output_type": "stream",
     "text": [
      "C:\\ProgramData\\Anaconda3\\lib\\site-packages\\ipykernel_launcher.py:209: DataConversionWarning: A column-vector y was passed when a 1d array was expected. Please change the shape of y to (n_samples,), for example using ravel().\n",
      "C:\\ProgramData\\Anaconda3\\lib\\site-packages\\ipykernel_launcher.py:209: DataConversionWarning: A column-vector y was passed when a 1d array was expected. Please change the shape of y to (n_samples,), for example using ravel().\n"
     ]
    },
    {
     "name": "stdout",
     "output_type": "stream",
     "text": [
      "Mean Absolute Error: 0.019240000000000312\n",
      "RMSE: 0.019240000000000312\n",
      "MAE Percent:  2.566500197818918\n",
      "Iteration:  25\n",
      "y_pred:  [0.17676] y_test:  [[0.196]]\n",
      "TRAIN: [ 0  1  2  3  4  5  6  7  8  9 10 11 12 13 14 15 16 17 18 19 20 21 22 23\n",
      " 24 26 27 28 29 30 31 32 33 34 35 36 37 38 39 40 41 42 43 44 45 46 47 48\n",
      " 49 50 51 52 53 54 55 56 57 58 59 60 61 62 63 64 65 66 67 68 69 70 71 72\n",
      " 73 74 75 76 77 78 79 80 81 82 83 84 85 86 87 88 89 90] TEST: [25]\n",
      "Mean Absolute Error: 0.009673999999999627\n",
      "RMSE: 0.009673999999999627\n",
      "MAE Percent:  1.2904533738928718\n",
      "Iteration:  26\n",
      "y_pred:  [0.973674] y_test:  [[0.964]]\n",
      "TRAIN: [ 0  1  2  3  4  5  6  7  8  9 10 11 12 13 14 15 16 17 18 19 20 21 22 23\n",
      " 24 25 27 28 29 30 31 32 33 34 35 36 37 38 39 40 41 42 43 44 45 46 47 48\n",
      " 49 50 51 52 53 54 55 56 57 58 59 60 61 62 63 64 65 66 67 68 69 70 71 72\n",
      " 73 74 75 76 77 78 79 80 81 82 83 84 85 86 87 88 89 90] TEST: [26]\n"
     ]
    },
    {
     "name": "stderr",
     "output_type": "stream",
     "text": [
      "C:\\ProgramData\\Anaconda3\\lib\\site-packages\\ipykernel_launcher.py:209: DataConversionWarning: A column-vector y was passed when a 1d array was expected. Please change the shape of y to (n_samples,), for example using ravel().\n",
      "C:\\ProgramData\\Anaconda3\\lib\\site-packages\\ipykernel_launcher.py:209: DataConversionWarning: A column-vector y was passed when a 1d array was expected. Please change the shape of y to (n_samples,), for example using ravel().\n"
     ]
    },
    {
     "name": "stdout",
     "output_type": "stream",
     "text": [
      "Mean Absolute Error: 0.03397799999999995\n",
      "RMSE: 0.03397799999999995\n",
      "MAE Percent:  4.532460692385118\n",
      "Iteration:  27\n",
      "y_pred:  [0.221022] y_test:  [[0.255]]\n",
      "TRAIN: [ 0  1  2  3  4  5  6  7  8  9 10 11 12 13 14 15 16 17 18 19 20 21 22 23\n",
      " 24 25 26 28 29 30 31 32 33 34 35 36 37 38 39 40 41 42 43 44 45 46 47 48\n",
      " 49 50 51 52 53 54 55 56 57 58 59 60 61 62 63 64 65 66 67 68 69 70 71 72\n",
      " 73 74 75 76 77 78 79 80 81 82 83 84 85 86 87 88 89 90] TEST: [27]\n",
      "Mean Absolute Error: 0.012720799999999977\n",
      "RMSE: 0.012720799999999977\n",
      "MAE Percent:  1.696878155738789\n",
      "Iteration:  28\n",
      "y_pred:  [0.8007208] y_test:  [[0.788]]\n",
      "TRAIN: [ 0  1  2  3  4  5  6  7  8  9 10 11 12 13 14 15 16 17 18 19 20 21 22 23\n",
      " 24 25 26 27 29 30 31 32 33 34 35 36 37 38 39 40 41 42 43 44 45 46 47 48\n",
      " 49 50 51 52 53 54 55 56 57 58 59 60 61 62 63 64 65 66 67 68 69 70 71 72\n",
      " 73 74 75 76 77 78 79 80 81 82 83 84 85 86 87 88 89 90] TEST: [28]\n"
     ]
    },
    {
     "name": "stderr",
     "output_type": "stream",
     "text": [
      "C:\\ProgramData\\Anaconda3\\lib\\site-packages\\ipykernel_launcher.py:209: DataConversionWarning: A column-vector y was passed when a 1d array was expected. Please change the shape of y to (n_samples,), for example using ravel().\n",
      "C:\\ProgramData\\Anaconda3\\lib\\site-packages\\ipykernel_launcher.py:209: DataConversionWarning: A column-vector y was passed when a 1d array was expected. Please change the shape of y to (n_samples,), for example using ravel().\n"
     ]
    },
    {
     "name": "stdout",
     "output_type": "stream",
     "text": [
      "Mean Absolute Error: 0.06942660000000023\n",
      "RMSE: 0.06942660000000023\n",
      "MAE Percent:  9.261090573487142\n",
      "Iteration:  29\n",
      "y_pred:  [0.5905734] y_test:  [[0.66]]\n",
      "TRAIN: [ 0  1  2  3  4  5  6  7  8  9 10 11 12 13 14 15 16 17 18 19 20 21 22 23\n",
      " 24 25 26 27 28 30 31 32 33 34 35 36 37 38 39 40 41 42 43 44 45 46 47 48\n",
      " 49 50 51 52 53 54 55 56 57 58 59 60 61 62 63 64 65 66 67 68 69 70 71 72\n",
      " 73 74 75 76 77 78 79 80 81 82 83 84 85 86 87 88 89 90] TEST: [29]\n",
      "Mean Absolute Error: 0.036876999999999605\n",
      "RMSE: 0.036876999999999605\n",
      "MAE Percent:  4.919169843813186\n",
      "Iteration:  30\n",
      "y_pred:  [1.471877] y_test:  [[1.435]]\n",
      "TRAIN: [ 0  1  2  3  4  5  6  7  8  9 10 11 12 13 14 15 16 17 18 19 20 21 22 23\n",
      " 24 25 26 27 28 29 31 32 33 34 35 36 37 38 39 40 41 42 43 44 45 46 47 48\n",
      " 49 50 51 52 53 54 55 56 57 58 59 60 61 62 63 64 65 66 67 68 69 70 71 72\n",
      " 73 74 75 76 77 78 79 80 81 82 83 84 85 86 87 88 89 90] TEST: [30]\n"
     ]
    },
    {
     "name": "stderr",
     "output_type": "stream",
     "text": [
      "C:\\ProgramData\\Anaconda3\\lib\\site-packages\\ipykernel_launcher.py:209: DataConversionWarning: A column-vector y was passed when a 1d array was expected. Please change the shape of y to (n_samples,), for example using ravel().\n",
      "C:\\ProgramData\\Anaconda3\\lib\\site-packages\\ipykernel_launcher.py:209: DataConversionWarning: A column-vector y was passed when a 1d array was expected. Please change the shape of y to (n_samples,), for example using ravel().\n"
     ]
    },
    {
     "name": "stdout",
     "output_type": "stream",
     "text": [
      "Mean Absolute Error: 0.010874599999999512\n",
      "RMSE: 0.010874599999999512\n",
      "MAE Percent:  1.4506061876923027\n",
      "Iteration:  31\n",
      "y_pred:  [1.0981254] y_test:  [[1.109]]\n",
      "TRAIN: [ 0  1  2  3  4  5  6  7  8  9 10 11 12 13 14 15 16 17 18 19 20 21 22 23\n",
      " 24 25 26 27 28 29 30 32 33 34 35 36 37 38 39 40 41 42 43 44 45 46 47 48\n",
      " 49 50 51 52 53 54 55 56 57 58 59 60 61 62 63 64 65 66 67 68 69 70 71 72\n",
      " 73 74 75 76 77 78 79 80 81 82 83 84 85 86 87 88 89 90] TEST: [31]\n",
      "Mean Absolute Error: 0.26460499999999887\n",
      "RMSE: 0.26460499999999887\n",
      "MAE Percent:  35.29671438897406\n",
      "Iteration:  32\n",
      "y_pred:  [1.135395] y_test:  [[1.4]]\n",
      "TRAIN: [ 0  1  2  3  4  5  6  7  8  9 10 11 12 13 14 15 16 17 18 19 20 21 22 23\n",
      " 24 25 26 27 28 29 30 31 33 34 35 36 37 38 39 40 41 42 43 44 45 46 47 48\n",
      " 49 50 51 52 53 54 55 56 57 58 59 60 61 62 63 64 65 66 67 68 69 70 71 72\n",
      " 73 74 75 76 77 78 79 80 81 82 83 84 85 86 87 88 89 90] TEST: [32]\n"
     ]
    },
    {
     "name": "stderr",
     "output_type": "stream",
     "text": [
      "C:\\ProgramData\\Anaconda3\\lib\\site-packages\\ipykernel_launcher.py:209: DataConversionWarning: A column-vector y was passed when a 1d array was expected. Please change the shape of y to (n_samples,), for example using ravel().\n",
      "C:\\ProgramData\\Anaconda3\\lib\\site-packages\\ipykernel_launcher.py:209: DataConversionWarning: A column-vector y was passed when a 1d array was expected. Please change the shape of y to (n_samples,), for example using ravel().\n"
     ]
    },
    {
     "name": "stdout",
     "output_type": "stream",
     "text": [
      "Mean Absolute Error: 0.8731319999999998\n",
      "RMSE: 0.8731319999999998\n",
      "MAE Percent:  116.47055357182904\n",
      "Iteration:  33\n",
      "y_pred:  [1.298868] y_test:  [[2.172]]\n",
      "TRAIN: [ 0  1  2  3  4  5  6  7  8  9 10 11 12 13 14 15 16 17 18 19 20 21 22 23\n",
      " 24 25 26 27 28 29 30 31 32 34 35 36 37 38 39 40 41 42 43 44 45 46 47 48\n",
      " 49 50 51 52 53 54 55 56 57 58 59 60 61 62 63 64 65 66 67 68 69 70 71 72\n",
      " 73 74 75 76 77 78 79 80 81 82 83 84 85 86 87 88 89 90] TEST: [33]\n",
      "Mean Absolute Error: 0.5655410000000003\n",
      "RMSE: 0.5655410000000003\n",
      "MAE Percent:  75.43976550803981\n",
      "Iteration:  34\n",
      "y_pred:  [0.359459] y_test:  [[0.925]]\n",
      "TRAIN: [ 0  1  2  3  4  5  6  7  8  9 10 11 12 13 14 15 16 17 18 19 20 21 22 23\n",
      " 24 25 26 27 28 29 30 31 32 33 35 36 37 38 39 40 41 42 43 44 45 46 47 48\n",
      " 49 50 51 52 53 54 55 56 57 58 59 60 61 62 63 64 65 66 67 68 69 70 71 72\n",
      " 73 74 75 76 77 78 79 80 81 82 83 84 85 86 87 88 89 90] TEST: [34]\n"
     ]
    },
    {
     "name": "stderr",
     "output_type": "stream",
     "text": [
      "C:\\ProgramData\\Anaconda3\\lib\\site-packages\\ipykernel_launcher.py:209: DataConversionWarning: A column-vector y was passed when a 1d array was expected. Please change the shape of y to (n_samples,), for example using ravel().\n",
      "C:\\ProgramData\\Anaconda3\\lib\\site-packages\\ipykernel_launcher.py:209: DataConversionWarning: A column-vector y was passed when a 1d array was expected. Please change the shape of y to (n_samples,), for example using ravel().\n"
     ]
    },
    {
     "name": "stdout",
     "output_type": "stream",
     "text": [
      "Mean Absolute Error: 0.15220799999999993\n",
      "RMSE: 0.15220799999999993\n",
      "MAE Percent:  20.303631086778346\n",
      "Iteration:  35\n",
      "y_pred:  [0.298208] y_test:  [[0.146]]\n",
      "TRAIN: [ 0  1  2  3  4  5  6  7  8  9 10 11 12 13 14 15 16 17 18 19 20 21 22 23\n",
      " 24 25 26 27 28 29 30 31 32 33 34 36 37 38 39 40 41 42 43 44 45 46 47 48\n",
      " 49 50 51 52 53 54 55 56 57 58 59 60 61 62 63 64 65 66 67 68 69 70 71 72\n",
      " 73 74 75 76 77 78 79 80 81 82 83 84 85 86 87 88 89 90] TEST: [35]\n",
      "Mean Absolute Error: 0.06803800000000004\n",
      "RMSE: 0.06803800000000004\n",
      "MAE Percent:  9.075859691226654\n",
      "Iteration:  36\n",
      "y_pred:  [0.068462] y_test:  [[0.1365]]\n",
      "TRAIN: [ 0  1  2  3  4  5  6  7  8  9 10 11 12 13 14 15 16 17 18 19 20 21 22 23\n",
      " 24 25 26 27 28 29 30 31 32 33 34 35 37 38 39 40 41 42 43 44 45 46 47 48\n",
      " 49 50 51 52 53 54 55 56 57 58 59 60 61 62 63 64 65 66 67 68 69 70 71 72\n",
      " 73 74 75 76 77 78 79 80 81 82 83 84 85 86 87 88 89 90] TEST: [36]\n"
     ]
    },
    {
     "name": "stderr",
     "output_type": "stream",
     "text": [
      "C:\\ProgramData\\Anaconda3\\lib\\site-packages\\ipykernel_launcher.py:209: DataConversionWarning: A column-vector y was passed when a 1d array was expected. Please change the shape of y to (n_samples,), for example using ravel().\n",
      "C:\\ProgramData\\Anaconda3\\lib\\site-packages\\ipykernel_launcher.py:209: DataConversionWarning: A column-vector y was passed when a 1d array was expected. Please change the shape of y to (n_samples,), for example using ravel().\n"
     ]
    },
    {
     "name": "stdout",
     "output_type": "stream",
     "text": [
      "Mean Absolute Error: 0.25433739999999977\n",
      "RMSE: 0.25433739999999977\n",
      "MAE Percent:  33.927078347855414\n",
      "Iteration:  37\n",
      "y_pred:  [0.5181374] y_test:  [[0.2638]]\n",
      "TRAIN: [ 0  1  2  3  4  5  6  7  8  9 10 11 12 13 14 15 16 17 18 19 20 21 22 23\n",
      " 24 25 26 27 28 29 30 31 32 33 34 35 36 38 39 40 41 42 43 44 45 46 47 48\n",
      " 49 50 51 52 53 54 55 56 57 58 59 60 61 62 63 64 65 66 67 68 69 70 71 72\n",
      " 73 74 75 76 77 78 79 80 81 82 83 84 85 86 87 88 89 90] TEST: [37]\n",
      "Mean Absolute Error: 0.014364999999999933\n",
      "RMSE: 0.014364999999999933\n",
      "MAE Percent:  1.9162045395877334\n",
      "Iteration:  38\n",
      "y_pred:  [0.173965] y_test:  [[0.1596]]\n",
      "TRAIN: [ 0  1  2  3  4  5  6  7  8  9 10 11 12 13 14 15 16 17 18 19 20 21 22 23\n",
      " 24 25 26 27 28 29 30 31 32 33 34 35 36 37 39 40 41 42 43 44 45 46 47 48\n",
      " 49 50 51 52 53 54 55 56 57 58 59 60 61 62 63 64 65 66 67 68 69 70 71 72\n",
      " 73 74 75 76 77 78 79 80 81 82 83 84 85 86 87 88 89 90] TEST: [38]\n"
     ]
    },
    {
     "name": "stderr",
     "output_type": "stream",
     "text": [
      "C:\\ProgramData\\Anaconda3\\lib\\site-packages\\ipykernel_launcher.py:209: DataConversionWarning: A column-vector y was passed when a 1d array was expected. Please change the shape of y to (n_samples,), for example using ravel().\n",
      "C:\\ProgramData\\Anaconda3\\lib\\site-packages\\ipykernel_launcher.py:209: DataConversionWarning: A column-vector y was passed when a 1d array was expected. Please change the shape of y to (n_samples,), for example using ravel().\n"
     ]
    },
    {
     "name": "stdout",
     "output_type": "stream",
     "text": [
      "Mean Absolute Error: 0.12298039999999999\n",
      "RMSE: 0.12298039999999999\n",
      "MAE Percent:  16.40484516256988\n",
      "Iteration:  39\n",
      "y_pred:  [0.7799804] y_test:  [[0.657]]\n",
      "TRAIN: [ 0  1  2  3  4  5  6  7  8  9 10 11 12 13 14 15 16 17 18 19 20 21 22 23\n",
      " 24 25 26 27 28 29 30 31 32 33 34 35 36 37 38 40 41 42 43 44 45 46 47 48\n",
      " 49 50 51 52 53 54 55 56 57 58 59 60 61 62 63 64 65 66 67 68 69 70 71 72\n",
      " 73 74 75 76 77 78 79 80 81 82 83 84 85 86 87 88 89 90] TEST: [39]\n",
      "Mean Absolute Error: 0.2484029999999997\n",
      "RMSE: 0.2484029999999997\n",
      "MAE Percent:  33.13546510596682\n",
      "Iteration:  40\n",
      "y_pred:  [1.091597] y_test:  [[1.34]]\n",
      "TRAIN: [ 0  1  2  3  4  5  6  7  8  9 10 11 12 13 14 15 16 17 18 19 20 21 22 23\n",
      " 24 25 26 27 28 29 30 31 32 33 34 35 36 37 38 39 41 42 43 44 45 46 47 48\n",
      " 49 50 51 52 53 54 55 56 57 58 59 60 61 62 63 64 65 66 67 68 69 70 71 72\n",
      " 73 74 75 76 77 78 79 80 81 82 83 84 85 86 87 88 89 90] TEST: [40]\n"
     ]
    },
    {
     "name": "stderr",
     "output_type": "stream",
     "text": [
      "C:\\ProgramData\\Anaconda3\\lib\\site-packages\\ipykernel_launcher.py:209: DataConversionWarning: A column-vector y was passed when a 1d array was expected. Please change the shape of y to (n_samples,), for example using ravel().\n",
      "C:\\ProgramData\\Anaconda3\\lib\\site-packages\\ipykernel_launcher.py:209: DataConversionWarning: A column-vector y was passed when a 1d array was expected. Please change the shape of y to (n_samples,), for example using ravel().\n"
     ]
    },
    {
     "name": "stdout",
     "output_type": "stream",
     "text": [
      "Mean Absolute Error: 0.1483580000000001\n",
      "RMSE: 0.1483580000000001\n",
      "MAE Percent:  19.79006425925224\n",
      "Iteration:  41\n",
      "y_pred:  [1.125358] y_test:  [[0.977]]\n",
      "TRAIN: [ 0  1  2  3  4  5  6  7  8  9 10 11 12 13 14 15 16 17 18 19 20 21 22 23\n",
      " 24 25 26 27 28 29 30 31 32 33 34 35 36 37 38 39 40 42 43 44 45 46 47 48\n",
      " 49 50 51 52 53 54 55 56 57 58 59 60 61 62 63 64 65 66 67 68 69 70 71 72\n",
      " 73 74 75 76 77 78 79 80 81 82 83 84 85 86 87 88 89 90] TEST: [41]\n",
      "Mean Absolute Error: 0.1887910000000002\n",
      "RMSE: 0.1887910000000002\n",
      "MAE Percent:  25.18358310012599\n",
      "Iteration:  42\n",
      "y_pred:  [0.504791] y_test:  [[0.316]]\n",
      "TRAIN: [ 0  1  2  3  4  5  6  7  8  9 10 11 12 13 14 15 16 17 18 19 20 21 22 23\n",
      " 24 25 26 27 28 29 30 31 32 33 34 35 36 37 38 39 40 41 43 44 45 46 47 48\n",
      " 49 50 51 52 53 54 55 56 57 58 59 60 61 62 63 64 65 66 67 68 69 70 71 72\n",
      " 73 74 75 76 77 78 79 80 81 82 83 84 85 86 87 88 89 90] TEST: [42]\n"
     ]
    },
    {
     "name": "stderr",
     "output_type": "stream",
     "text": [
      "C:\\ProgramData\\Anaconda3\\lib\\site-packages\\ipykernel_launcher.py:209: DataConversionWarning: A column-vector y was passed when a 1d array was expected. Please change the shape of y to (n_samples,), for example using ravel().\n",
      "C:\\ProgramData\\Anaconda3\\lib\\site-packages\\ipykernel_launcher.py:209: DataConversionWarning: A column-vector y was passed when a 1d array was expected. Please change the shape of y to (n_samples,), for example using ravel().\n"
     ]
    },
    {
     "name": "stdout",
     "output_type": "stream",
     "text": [
      "Mean Absolute Error: 0.876625\n",
      "RMSE: 0.876625\n",
      "MAE Percent:  116.93649874807551\n",
      "Iteration:  43\n",
      "y_pred:  [0.251375] y_test:  [[1.128]]\n",
      "TRAIN: [ 0  1  2  3  4  5  6  7  8  9 10 11 12 13 14 15 16 17 18 19 20 21 22 23\n",
      " 24 25 26 27 28 29 30 31 32 33 34 35 36 37 38 39 40 41 42 44 45 46 47 48\n",
      " 49 50 51 52 53 54 55 56 57 58 59 60 61 62 63 64 65 66 67 68 69 70 71 72\n",
      " 73 74 75 76 77 78 79 80 81 82 83 84 85 86 87 88 89 90] TEST: [43]\n",
      "Mean Absolute Error: 0.0031245000000005296\n",
      "RMSE: 0.0031245000000005296\n",
      "MAE Percent:  0.41678949418328687\n",
      "Iteration:  44\n",
      "y_pred:  [0.8511245] y_test:  [[0.848]]\n",
      "TRAIN: [ 0  1  2  3  4  5  6  7  8  9 10 11 12 13 14 15 16 17 18 19 20 21 22 23\n",
      " 24 25 26 27 28 29 30 31 32 33 34 35 36 37 38 39 40 41 42 43 45 46 47 48\n",
      " 49 50 51 52 53 54 55 56 57 58 59 60 61 62 63 64 65 66 67 68 69 70 71 72\n",
      " 73 74 75 76 77 78 79 80 81 82 83 84 85 86 87 88 89 90] TEST: [44]\n"
     ]
    },
    {
     "name": "stderr",
     "output_type": "stream",
     "text": [
      "C:\\ProgramData\\Anaconda3\\lib\\site-packages\\ipykernel_launcher.py:209: DataConversionWarning: A column-vector y was passed when a 1d array was expected. Please change the shape of y to (n_samples,), for example using ravel().\n",
      "C:\\ProgramData\\Anaconda3\\lib\\site-packages\\ipykernel_launcher.py:209: DataConversionWarning: A column-vector y was passed when a 1d array was expected. Please change the shape of y to (n_samples,), for example using ravel().\n"
     ]
    },
    {
     "name": "stdout",
     "output_type": "stream",
     "text": [
      "Mean Absolute Error: 0.10349279999999961\n",
      "RMSE: 0.10349279999999961\n",
      "MAE Percent:  13.805316615011872\n",
      "Iteration:  45\n",
      "y_pred:  [0.8885072] y_test:  [[0.992]]\n",
      "TRAIN: [ 0  1  2  3  4  5  6  7  8  9 10 11 12 13 14 15 16 17 18 19 20 21 22 23\n",
      " 24 25 26 27 28 29 30 31 32 33 34 35 36 37 38 39 40 41 42 43 44 46 47 48\n",
      " 49 50 51 52 53 54 55 56 57 58 59 60 61 62 63 64 65 66 67 68 69 70 71 72\n",
      " 73 74 75 76 77 78 79 80 81 82 83 84 85 86 87 88 89 90] TEST: [45]\n",
      "Mean Absolute Error: 0.13345399999999996\n",
      "RMSE: 0.13345399999999996\n",
      "MAE Percent:  17.801960363810824\n",
      "Iteration:  46\n",
      "y_pred:  [0.576516] y_test:  [[0.70997]]\n",
      "TRAIN: [ 0  1  2  3  4  5  6  7  8  9 10 11 12 13 14 15 16 17 18 19 20 21 22 23\n",
      " 24 25 26 27 28 29 30 31 32 33 34 35 36 37 38 39 40 41 42 43 44 45 47 48\n",
      " 49 50 51 52 53 54 55 56 57 58 59 60 61 62 63 64 65 66 67 68 69 70 71 72\n",
      " 73 74 75 76 77 78 79 80 81 82 83 84 85 86 87 88 89 90] TEST: [46]\n"
     ]
    },
    {
     "name": "stderr",
     "output_type": "stream",
     "text": [
      "C:\\ProgramData\\Anaconda3\\lib\\site-packages\\ipykernel_launcher.py:209: DataConversionWarning: A column-vector y was passed when a 1d array was expected. Please change the shape of y to (n_samples,), for example using ravel().\n",
      "C:\\ProgramData\\Anaconda3\\lib\\site-packages\\ipykernel_launcher.py:209: DataConversionWarning: A column-vector y was passed when a 1d array was expected. Please change the shape of y to (n_samples,), for example using ravel().\n"
     ]
    },
    {
     "name": "stdout",
     "output_type": "stream",
     "text": [
      "Mean Absolute Error: 0.04233129999999985\n",
      "RMSE: 0.04233129999999985\n",
      "MAE Percent:  5.646740635339388\n",
      "Iteration:  47\n",
      "y_pred:  [0.8746687] y_test:  [[0.917]]\n",
      "TRAIN: [ 0  1  2  3  4  5  6  7  8  9 10 11 12 13 14 15 16 17 18 19 20 21 22 23\n",
      " 24 25 26 27 28 29 30 31 32 33 34 35 36 37 38 39 40 41 42 43 44 45 46 48\n",
      " 49 50 51 52 53 54 55 56 57 58 59 60 61 62 63 64 65 66 67 68 69 70 71 72\n",
      " 73 74 75 76 77 78 79 80 81 82 83 84 85 86 87 88 89 90] TEST: [47]\n",
      "Mean Absolute Error: 0.027678999999999954\n",
      "RMSE: 0.027678999999999954\n",
      "MAE Percent:  3.692212004959904\n",
      "Iteration:  48\n",
      "y_pred:  [0.159679] y_test:  [[0.132]]\n",
      "TRAIN: [ 0  1  2  3  4  5  6  7  8  9 10 11 12 13 14 15 16 17 18 19 20 21 22 23\n",
      " 24 25 26 27 28 29 30 31 32 33 34 35 36 37 38 39 40 41 42 43 44 45 46 47\n",
      " 49 50 51 52 53 54 55 56 57 58 59 60 61 62 63 64 65 66 67 68 69 70 71 72\n",
      " 73 74 75 76 77 78 79 80 81 82 83 84 85 86 87 88 89 90] TEST: [48]\n"
     ]
    },
    {
     "name": "stderr",
     "output_type": "stream",
     "text": [
      "C:\\ProgramData\\Anaconda3\\lib\\site-packages\\ipykernel_launcher.py:209: DataConversionWarning: A column-vector y was passed when a 1d array was expected. Please change the shape of y to (n_samples,), for example using ravel().\n",
      "C:\\ProgramData\\Anaconda3\\lib\\site-packages\\ipykernel_launcher.py:209: DataConversionWarning: A column-vector y was passed when a 1d array was expected. Please change the shape of y to (n_samples,), for example using ravel().\n"
     ]
    },
    {
     "name": "stdout",
     "output_type": "stream",
     "text": [
      "Mean Absolute Error: 0.49000999999999917\n",
      "RMSE: 0.49000999999999917\n",
      "MAE Percent:  65.3643847158641\n",
      "Iteration:  49\n",
      "y_pred:  [1.72901] y_test:  [[1.239]]\n",
      "TRAIN: [ 0  1  2  3  4  5  6  7  8  9 10 11 12 13 14 15 16 17 18 19 20 21 22 23\n",
      " 24 25 26 27 28 29 30 31 32 33 34 35 36 37 38 39 40 41 42 43 44 45 46 47\n",
      " 48 50 51 52 53 54 55 56 57 58 59 60 61 62 63 64 65 66 67 68 69 70 71 72\n",
      " 73 74 75 76 77 78 79 80 81 82 83 84 85 86 87 88 89 90] TEST: [49]\n",
      "Mean Absolute Error: 0.8947659999999995\n",
      "RMSE: 0.8947659999999995\n",
      "MAE Percent:  119.3563989605823\n",
      "Iteration:  50\n",
      "y_pred:  [1.778766] y_test:  [[0.884]]\n",
      "TRAIN: [ 0  1  2  3  4  5  6  7  8  9 10 11 12 13 14 15 16 17 18 19 20 21 22 23\n",
      " 24 25 26 27 28 29 30 31 32 33 34 35 36 37 38 39 40 41 42 43 44 45 46 47\n",
      " 48 49 51 52 53 54 55 56 57 58 59 60 61 62 63 64 65 66 67 68 69 70 71 72\n",
      " 73 74 75 76 77 78 79 80 81 82 83 84 85 86 87 88 89 90] TEST: [50]\n"
     ]
    },
    {
     "name": "stderr",
     "output_type": "stream",
     "text": [
      "C:\\ProgramData\\Anaconda3\\lib\\site-packages\\ipykernel_launcher.py:209: DataConversionWarning: A column-vector y was passed when a 1d array was expected. Please change the shape of y to (n_samples,), for example using ravel().\n",
      "C:\\ProgramData\\Anaconda3\\lib\\site-packages\\ipykernel_launcher.py:209: DataConversionWarning: A column-vector y was passed when a 1d array was expected. Please change the shape of y to (n_samples,), for example using ravel().\n"
     ]
    },
    {
     "name": "stdout",
     "output_type": "stream",
     "text": [
      "Mean Absolute Error: 0.022716000000001513\n",
      "RMSE: 0.022716000000001513\n",
      "MAE Percent:  3.0301776763855237\n",
      "Iteration:  51\n",
      "y_pred:  [1.648284] y_test:  [[1.671]]\n",
      "TRAIN: [ 0  1  2  3  4  5  6  7  8  9 10 11 12 13 14 15 16 17 18 19 20 21 22 23\n",
      " 24 25 26 27 28 29 30 31 32 33 34 35 36 37 38 39 40 41 42 43 44 45 46 47\n",
      " 48 49 50 52 53 54 55 56 57 58 59 60 61 62 63 64 65 66 67 68 69 70 71 72\n",
      " 73 74 75 76 77 78 79 80 81 82 83 84 85 86 87 88 89 90] TEST: [51]\n",
      "Mean Absolute Error: 0.7270390000000004\n",
      "RMSE: 0.7270390000000004\n",
      "MAE Percent:  96.98262667993967\n",
      "Iteration:  52\n",
      "y_pred:  [1.211039] y_test:  [[0.484]]\n",
      "TRAIN: [ 0  1  2  3  4  5  6  7  8  9 10 11 12 13 14 15 16 17 18 19 20 21 22 23\n",
      " 24 25 26 27 28 29 30 31 32 33 34 35 36 37 38 39 40 41 42 43 44 45 46 47\n",
      " 48 49 50 51 53 54 55 56 57 58 59 60 61 62 63 64 65 66 67 68 69 70 71 72\n",
      " 73 74 75 76 77 78 79 80 81 82 83 84 85 86 87 88 89 90] TEST: [52]\n"
     ]
    },
    {
     "name": "stderr",
     "output_type": "stream",
     "text": [
      "C:\\ProgramData\\Anaconda3\\lib\\site-packages\\ipykernel_launcher.py:209: DataConversionWarning: A column-vector y was passed when a 1d array was expected. Please change the shape of y to (n_samples,), for example using ravel().\n",
      "C:\\ProgramData\\Anaconda3\\lib\\site-packages\\ipykernel_launcher.py:209: DataConversionWarning: A column-vector y was passed when a 1d array was expected. Please change the shape of y to (n_samples,), for example using ravel().\n"
     ]
    },
    {
     "name": "stdout",
     "output_type": "stream",
     "text": [
      "Mean Absolute Error: 0.0727259999999999\n",
      "RMSE: 0.0727259999999999\n",
      "MAE Percent:  9.70121067497793\n",
      "Iteration:  53\n",
      "y_pred:  [0.223526] y_test:  [[0.1508]]\n",
      "TRAIN: [ 0  1  2  3  4  5  6  7  8  9 10 11 12 13 14 15 16 17 18 19 20 21 22 23\n",
      " 24 25 26 27 28 29 30 31 32 33 34 35 36 37 38 39 40 41 42 43 44 45 46 47\n",
      " 48 49 50 51 52 54 55 56 57 58 59 60 61 62 63 64 65 66 67 68 69 70 71 72\n",
      " 73 74 75 76 77 78 79 80 81 82 83 84 85 86 87 88 89 90] TEST: [53]\n",
      "Mean Absolute Error: 0.8606999999999989\n",
      "RMSE: 0.8606999999999989\n",
      "MAE Percent:  114.81219959785365\n",
      "Iteration:  54\n",
      "y_pred:  [1.8545] y_test:  [[0.9938]]\n",
      "TRAIN: [ 0  1  2  3  4  5  6  7  8  9 10 11 12 13 14 15 16 17 18 19 20 21 22 23\n",
      " 24 25 26 27 28 29 30 31 32 33 34 35 36 37 38 39 40 41 42 43 44 45 46 47\n",
      " 48 49 50 51 52 53 55 56 57 58 59 60 61 62 63 64 65 66 67 68 69 70 71 72\n",
      " 73 74 75 76 77 78 79 80 81 82 83 84 85 86 87 88 89 90] TEST: [54]\n"
     ]
    },
    {
     "name": "stderr",
     "output_type": "stream",
     "text": [
      "C:\\ProgramData\\Anaconda3\\lib\\site-packages\\ipykernel_launcher.py:209: DataConversionWarning: A column-vector y was passed when a 1d array was expected. Please change the shape of y to (n_samples,), for example using ravel().\n",
      "C:\\ProgramData\\Anaconda3\\lib\\site-packages\\ipykernel_launcher.py:209: DataConversionWarning: A column-vector y was passed when a 1d array was expected. Please change the shape of y to (n_samples,), for example using ravel().\n"
     ]
    },
    {
     "name": "stdout",
     "output_type": "stream",
     "text": [
      "Mean Absolute Error: 0.024163000000000157\n",
      "RMSE: 0.024163000000000157\n",
      "MAE Percent:  3.223198767146461\n",
      "Iteration:  55\n",
      "y_pred:  [1.254163] y_test:  [[1.23]]\n",
      "TRAIN: [ 0  1  2  3  4  5  6  7  8  9 10 11 12 13 14 15 16 17 18 19 20 21 22 23\n",
      " 24 25 26 27 28 29 30 31 32 33 34 35 36 37 38 39 40 41 42 43 44 45 46 47\n",
      " 48 49 50 51 52 53 54 56 57 58 59 60 61 62 63 64 65 66 67 68 69 70 71 72\n",
      " 73 74 75 76 77 78 79 80 81 82 83 84 85 86 87 88 89 90] TEST: [55]\n",
      "Mean Absolute Error: 0.4031910000000002\n",
      "RMSE: 0.4031910000000002\n",
      "MAE Percent:  53.78325266417833\n",
      "Iteration:  56\n",
      "y_pred:  [1.325191] y_test:  [[0.922]]\n",
      "TRAIN: [ 0  1  2  3  4  5  6  7  8  9 10 11 12 13 14 15 16 17 18 19 20 21 22 23\n",
      " 24 25 26 27 28 29 30 31 32 33 34 35 36 37 38 39 40 41 42 43 44 45 46 47\n",
      " 48 49 50 51 52 53 54 55 57 58 59 60 61 62 63 64 65 66 67 68 69 70 71 72\n",
      " 73 74 75 76 77 78 79 80 81 82 83 84 85 86 87 88 89 90] TEST: [56]\n"
     ]
    },
    {
     "name": "stderr",
     "output_type": "stream",
     "text": [
      "C:\\ProgramData\\Anaconda3\\lib\\site-packages\\ipykernel_launcher.py:209: DataConversionWarning: A column-vector y was passed when a 1d array was expected. Please change the shape of y to (n_samples,), for example using ravel().\n",
      "C:\\ProgramData\\Anaconda3\\lib\\site-packages\\ipykernel_launcher.py:209: DataConversionWarning: A column-vector y was passed when a 1d array was expected. Please change the shape of y to (n_samples,), for example using ravel().\n"
     ]
    },
    {
     "name": "stdout",
     "output_type": "stream",
     "text": [
      "Mean Absolute Error: 0.008173999999999737\n",
      "RMSE: 0.008173999999999737\n",
      "MAE Percent:  1.0903624021294607\n",
      "Iteration:  57\n",
      "y_pred:  [0.334174] y_test:  [[0.326]]\n",
      "TRAIN: [ 0  1  2  3  4  5  6  7  8  9 10 11 12 13 14 15 16 17 18 19 20 21 22 23\n",
      " 24 25 26 27 28 29 30 31 32 33 34 35 36 37 38 39 40 41 42 43 44 45 46 47\n",
      " 48 49 50 51 52 53 54 55 56 58 59 60 61 62 63 64 65 66 67 68 69 70 71 72\n",
      " 73 74 75 76 77 78 79 80 81 82 83 84 85 86 87 88 89 90] TEST: [57]\n",
      "Mean Absolute Error: 0.1656759999999995\n",
      "RMSE: 0.1656759999999995\n",
      "MAE Percent:  22.1001812252515\n",
      "Iteration:  58\n",
      "y_pred:  [1.531676] y_test:  [[1.366]]\n",
      "TRAIN: [ 0  1  2  3  4  5  6  7  8  9 10 11 12 13 14 15 16 17 18 19 20 21 22 23\n",
      " 24 25 26 27 28 29 30 31 32 33 34 35 36 37 38 39 40 41 42 43 44 45 46 47\n",
      " 48 49 50 51 52 53 54 55 56 57 59 60 61 62 63 64 65 66 67 68 69 70 71 72\n",
      " 73 74 75 76 77 78 79 80 81 82 83 84 85 86 87 88 89 90] TEST: [58]\n"
     ]
    },
    {
     "name": "stderr",
     "output_type": "stream",
     "text": [
      "C:\\ProgramData\\Anaconda3\\lib\\site-packages\\ipykernel_launcher.py:209: DataConversionWarning: A column-vector y was passed when a 1d array was expected. Please change the shape of y to (n_samples,), for example using ravel().\n",
      "C:\\ProgramData\\Anaconda3\\lib\\site-packages\\ipykernel_launcher.py:209: DataConversionWarning: A column-vector y was passed when a 1d array was expected. Please change the shape of y to (n_samples,), for example using ravel().\n"
     ]
    },
    {
     "name": "stdout",
     "output_type": "stream",
     "text": [
      "Mean Absolute Error: 0.04880500000000001\n",
      "RMSE: 0.04880500000000001\n",
      "MAE Percent:  6.510293251276002\n",
      "Iteration:  59\n",
      "y_pred:  [0.048805] y_test:  [[0.]]\n",
      "TRAIN: [ 0  1  2  3  4  5  6  7  8  9 10 11 12 13 14 15 16 17 18 19 20 21 22 23\n",
      " 24 25 26 27 28 29 30 31 32 33 34 35 36 37 38 39 40 41 42 43 44 45 46 47\n",
      " 48 49 50 51 52 53 54 55 56 57 58 60 61 62 63 64 65 66 67 68 69 70 71 72\n",
      " 73 74 75 76 77 78 79 80 81 82 83 84 85 86 87 88 89 90] TEST: [59]\n",
      "Mean Absolute Error: 0.6733694000000003\n",
      "RMSE: 0.6733694000000003\n",
      "MAE Percent:  89.82342506783675\n",
      "Iteration:  60\n",
      "y_pred:  [1.2453694] y_test:  [[0.572]]\n",
      "TRAIN: [ 0  1  2  3  4  5  6  7  8  9 10 11 12 13 14 15 16 17 18 19 20 21 22 23\n",
      " 24 25 26 27 28 29 30 31 32 33 34 35 36 37 38 39 40 41 42 43 44 45 46 47\n",
      " 48 49 50 51 52 53 54 55 56 57 58 59 61 62 63 64 65 66 67 68 69 70 71 72\n",
      " 73 74 75 76 77 78 79 80 81 82 83 84 85 86 87 88 89 90] TEST: [60]\n"
     ]
    },
    {
     "name": "stderr",
     "output_type": "stream",
     "text": [
      "C:\\ProgramData\\Anaconda3\\lib\\site-packages\\ipykernel_launcher.py:209: DataConversionWarning: A column-vector y was passed when a 1d array was expected. Please change the shape of y to (n_samples,), for example using ravel().\n",
      "C:\\ProgramData\\Anaconda3\\lib\\site-packages\\ipykernel_launcher.py:209: DataConversionWarning: A column-vector y was passed when a 1d array was expected. Please change the shape of y to (n_samples,), for example using ravel().\n"
     ]
    },
    {
     "name": "stdout",
     "output_type": "stream",
     "text": [
      "Mean Absolute Error: 0.3879733999999997\n",
      "RMSE: 0.3879733999999997\n",
      "MAE Percent:  51.75331641624019\n",
      "Iteration:  61\n",
      "y_pred:  [0.7689734] y_test:  [[0.381]]\n",
      "TRAIN: [ 0  1  2  3  4  5  6  7  8  9 10 11 12 13 14 15 16 17 18 19 20 21 22 23\n",
      " 24 25 26 27 28 29 30 31 32 33 34 35 36 37 38 39 40 41 42 43 44 45 46 47\n",
      " 48 49 50 51 52 53 54 55 56 57 58 59 60 62 63 64 65 66 67 68 69 70 71 72\n",
      " 73 74 75 76 77 78 79 80 81 82 83 84 85 86 87 88 89 90] TEST: [61]\n",
      "Mean Absolute Error: 0.1350187\n",
      "RMSE: 0.1350187\n",
      "MAE Percent:  18.010681926156316\n",
      "Iteration:  62\n",
      "y_pred:  [0.2600187] y_test:  [[0.125]]\n",
      "TRAIN: [ 0  1  2  3  4  5  6  7  8  9 10 11 12 13 14 15 16 17 18 19 20 21 22 23\n",
      " 24 25 26 27 28 29 30 31 32 33 34 35 36 37 38 39 40 41 42 43 44 45 46 47\n",
      " 48 49 50 51 52 53 54 55 56 57 58 59 60 61 63 64 65 66 67 68 69 70 71 72\n",
      " 73 74 75 76 77 78 79 80 81 82 83 84 85 86 87 88 89 90] TEST: [62]\n"
     ]
    },
    {
     "name": "stderr",
     "output_type": "stream",
     "text": [
      "C:\\ProgramData\\Anaconda3\\lib\\site-packages\\ipykernel_launcher.py:209: DataConversionWarning: A column-vector y was passed when a 1d array was expected. Please change the shape of y to (n_samples,), for example using ravel().\n",
      "C:\\ProgramData\\Anaconda3\\lib\\site-packages\\ipykernel_launcher.py:209: DataConversionWarning: A column-vector y was passed when a 1d array was expected. Please change the shape of y to (n_samples,), for example using ravel().\n"
     ]
    },
    {
     "name": "stdout",
     "output_type": "stream",
     "text": [
      "Mean Absolute Error: 0.5929420000000007\n",
      "RMSE: 0.5929420000000007\n",
      "MAE Percent:  79.09489398623296\n",
      "Iteration:  63\n",
      "y_pred:  [1.428058] y_test:  [[2.021]]\n",
      "TRAIN: [ 0  1  2  3  4  5  6  7  8  9 10 11 12 13 14 15 16 17 18 19 20 21 22 23\n",
      " 24 25 26 27 28 29 30 31 32 33 34 35 36 37 38 39 40 41 42 43 44 45 46 47\n",
      " 48 49 50 51 52 53 54 55 56 57 58 59 60 61 62 64 65 66 67 68 69 70 71 72\n",
      " 73 74 75 76 77 78 79 80 81 82 83 84 85 86 87 88 89 90] TEST: [63]\n",
      "Mean Absolute Error: 0.42069930000000033\n",
      "RMSE: 0.42069930000000033\n",
      "MAE Percent:  56.11875450479541\n",
      "Iteration:  64\n",
      "y_pred:  [0.8463007] y_test:  [[1.267]]\n",
      "TRAIN: [ 0  1  2  3  4  5  6  7  8  9 10 11 12 13 14 15 16 17 18 19 20 21 22 23\n",
      " 24 25 26 27 28 29 30 31 32 33 34 35 36 37 38 39 40 41 42 43 44 45 46 47\n",
      " 48 49 50 51 52 53 54 55 56 57 58 59 60 61 62 63 65 66 67 68 69 70 71 72\n",
      " 73 74 75 76 77 78 79 80 81 82 83 84 85 86 87 88 89 90] TEST: [64]\n"
     ]
    },
    {
     "name": "stderr",
     "output_type": "stream",
     "text": [
      "C:\\ProgramData\\Anaconda3\\lib\\site-packages\\ipykernel_launcher.py:209: DataConversionWarning: A column-vector y was passed when a 1d array was expected. Please change the shape of y to (n_samples,), for example using ravel().\n",
      "C:\\ProgramData\\Anaconda3\\lib\\site-packages\\ipykernel_launcher.py:209: DataConversionWarning: A column-vector y was passed when a 1d array was expected. Please change the shape of y to (n_samples,), for example using ravel().\n"
     ]
    },
    {
     "name": "stdout",
     "output_type": "stream",
     "text": [
      "Mean Absolute Error: 0.1886116000000001\n",
      "RMSE: 0.1886116000000001\n",
      "MAE Percent:  25.159652219903066\n",
      "Iteration:  65\n",
      "y_pred:  [0.5020884] y_test:  [[0.6907]]\n",
      "TRAIN: [ 0  1  2  3  4  5  6  7  8  9 10 11 12 13 14 15 16 17 18 19 20 21 22 23\n",
      " 24 25 26 27 28 29 30 31 32 33 34 35 36 37 38 39 40 41 42 43 44 45 46 47\n",
      " 48 49 50 51 52 53 54 55 56 57 58 59 60 61 62 63 64 66 67 68 69 70 71 72\n",
      " 73 74 75 76 77 78 79 80 81 82 83 84 85 86 87 88 89 90] TEST: [65]\n",
      "Mean Absolute Error: 0.04026200000000035\n",
      "RMSE: 0.04026200000000035\n",
      "MAE Percent:  5.37070847009275\n",
      "Iteration:  66\n",
      "y_pred:  [0.980962] y_test:  [[0.9407]]\n",
      "TRAIN: [ 0  1  2  3  4  5  6  7  8  9 10 11 12 13 14 15 16 17 18 19 20 21 22 23\n",
      " 24 25 26 27 28 29 30 31 32 33 34 35 36 37 38 39 40 41 42 43 44 45 46 47\n",
      " 48 49 50 51 52 53 54 55 56 57 58 59 60 61 62 63 64 65 67 68 69 70 71 72\n",
      " 73 74 75 76 77 78 79 80 81 82 83 84 85 86 87 88 89 90] TEST: [66]\n"
     ]
    },
    {
     "name": "stderr",
     "output_type": "stream",
     "text": [
      "C:\\ProgramData\\Anaconda3\\lib\\site-packages\\ipykernel_launcher.py:209: DataConversionWarning: A column-vector y was passed when a 1d array was expected. Please change the shape of y to (n_samples,), for example using ravel().\n",
      "C:\\ProgramData\\Anaconda3\\lib\\site-packages\\ipykernel_launcher.py:209: DataConversionWarning: A column-vector y was passed when a 1d array was expected. Please change the shape of y to (n_samples,), for example using ravel().\n"
     ]
    },
    {
     "name": "stdout",
     "output_type": "stream",
     "text": [
      "Mean Absolute Error: 0.01279700000000003\n",
      "RMSE: 0.01279700000000003\n",
      "MAE Percent:  1.7070427771043784\n",
      "Iteration:  67\n",
      "y_pred:  [0.085803] y_test:  [[0.0986]]\n",
      "TRAIN: [ 0  1  2  3  4  5  6  7  8  9 10 11 12 13 14 15 16 17 18 19 20 21 22 23\n",
      " 24 25 26 27 28 29 30 31 32 33 34 35 36 37 38 39 40 41 42 43 44 45 46 47\n",
      " 48 49 50 51 52 53 54 55 56 57 58 59 60 61 62 63 64 65 66 68 69 70 71 72\n",
      " 73 74 75 76 77 78 79 80 81 82 83 84 85 86 87 88 89 90] TEST: [67]\n",
      "Mean Absolute Error: 0.2578749999999999\n",
      "RMSE: 0.2578749999999999\n",
      "MAE Percent:  34.3989728956623\n",
      "Iteration:  68\n",
      "y_pred:  [0.257875] y_test:  [[0.]]\n",
      "TRAIN: [ 0  1  2  3  4  5  6  7  8  9 10 11 12 13 14 15 16 17 18 19 20 21 22 23\n",
      " 24 25 26 27 28 29 30 31 32 33 34 35 36 37 38 39 40 41 42 43 44 45 46 47\n",
      " 48 49 50 51 52 53 54 55 56 57 58 59 60 61 62 63 64 65 66 67 69 70 71 72\n",
      " 73 74 75 76 77 78 79 80 81 82 83 84 85 86 87 88 89 90] TEST: [68]\n"
     ]
    },
    {
     "name": "stderr",
     "output_type": "stream",
     "text": [
      "C:\\ProgramData\\Anaconda3\\lib\\site-packages\\ipykernel_launcher.py:209: DataConversionWarning: A column-vector y was passed when a 1d array was expected. Please change the shape of y to (n_samples,), for example using ravel().\n",
      "C:\\ProgramData\\Anaconda3\\lib\\site-packages\\ipykernel_launcher.py:209: DataConversionWarning: A column-vector y was passed when a 1d array was expected. Please change the shape of y to (n_samples,), for example using ravel().\n"
     ]
    },
    {
     "name": "stdout",
     "output_type": "stream",
     "text": [
      "Mean Absolute Error: 0.030626000000000292\n",
      "RMSE: 0.030626000000000292\n",
      "MAE Percent:  4.0853240674844935\n",
      "Iteration:  69\n",
      "y_pred:  [0.165374] y_test:  [[0.196]]\n",
      "TRAIN: [ 0  1  2  3  4  5  6  7  8  9 10 11 12 13 14 15 16 17 18 19 20 21 22 23\n",
      " 24 25 26 27 28 29 30 31 32 33 34 35 36 37 38 39 40 41 42 43 44 45 46 47\n",
      " 48 49 50 51 52 53 54 55 56 57 58 59 60 61 62 63 64 65 66 67 68 70 71 72\n",
      " 73 74 75 76 77 78 79 80 81 82 83 84 85 86 87 88 89 90] TEST: [69]\n",
      "Mean Absolute Error: 0.07506060000000025\n",
      "RMSE: 0.07506060000000025\n",
      "MAE Percent:  10.012632263430572\n",
      "Iteration:  70\n",
      "y_pred:  [0.8499394] y_test:  [[0.925]]\n",
      "TRAIN: [ 0  1  2  3  4  5  6  7  8  9 10 11 12 13 14 15 16 17 18 19 20 21 22 23\n",
      " 24 25 26 27 28 29 30 31 32 33 34 35 36 37 38 39 40 41 42 43 44 45 46 47\n",
      " 48 49 50 51 52 53 54 55 56 57 58 59 60 61 62 63 64 65 66 67 68 69 71 72\n",
      " 73 74 75 76 77 78 79 80 81 82 83 84 85 86 87 88 89 90] TEST: [70]\n"
     ]
    },
    {
     "name": "stderr",
     "output_type": "stream",
     "text": [
      "C:\\ProgramData\\Anaconda3\\lib\\site-packages\\ipykernel_launcher.py:209: DataConversionWarning: A column-vector y was passed when a 1d array was expected. Please change the shape of y to (n_samples,), for example using ravel().\n",
      "C:\\ProgramData\\Anaconda3\\lib\\site-packages\\ipykernel_launcher.py:209: DataConversionWarning: A column-vector y was passed when a 1d array was expected. Please change the shape of y to (n_samples,), for example using ravel().\n"
     ]
    },
    {
     "name": "stdout",
     "output_type": "stream",
     "text": [
      "Mean Absolute Error: 0.0022650000000000725\n",
      "RMSE: 0.0022650000000000725\n",
      "MAE Percent:  0.3021373673627828\n",
      "Iteration:  71\n",
      "y_pred:  [0.341735] y_test:  [[0.344]]\n",
      "TRAIN: [ 0  1  2  3  4  5  6  7  8  9 10 11 12 13 14 15 16 17 18 19 20 21 22 23\n",
      " 24 25 26 27 28 29 30 31 32 33 34 35 36 37 38 39 40 41 42 43 44 45 46 47\n",
      " 48 49 50 51 52 53 54 55 56 57 58 59 60 61 62 63 64 65 66 67 68 69 70 72\n",
      " 73 74 75 76 77 78 79 80 81 82 83 84 85 86 87 88 89 90] TEST: [71]\n",
      "Mean Absolute Error: 0.10664200000000001\n",
      "RMSE: 0.10664200000000001\n",
      "MAE Percent:  14.22540094053018\n",
      "Iteration:  72\n",
      "y_pred:  [0.149358] y_test:  [[0.256]]\n",
      "TRAIN: [ 0  1  2  3  4  5  6  7  8  9 10 11 12 13 14 15 16 17 18 19 20 21 22 23\n",
      " 24 25 26 27 28 29 30 31 32 33 34 35 36 37 38 39 40 41 42 43 44 45 46 47\n",
      " 48 49 50 51 52 53 54 55 56 57 58 59 60 61 62 63 64 65 66 67 68 69 70 71\n",
      " 73 74 75 76 77 78 79 80 81 82 83 84 85 86 87 88 89 90] TEST: [72]\n"
     ]
    },
    {
     "name": "stderr",
     "output_type": "stream",
     "text": [
      "C:\\ProgramData\\Anaconda3\\lib\\site-packages\\ipykernel_launcher.py:209: DataConversionWarning: A column-vector y was passed when a 1d array was expected. Please change the shape of y to (n_samples,), for example using ravel().\n",
      "C:\\ProgramData\\Anaconda3\\lib\\site-packages\\ipykernel_launcher.py:209: DataConversionWarning: A column-vector y was passed when a 1d array was expected. Please change the shape of y to (n_samples,), for example using ravel().\n"
     ]
    },
    {
     "name": "stdout",
     "output_type": "stream",
     "text": [
      "Mean Absolute Error: 0.2496623999999994\n",
      "RMSE: 0.2496623999999994\n",
      "MAE Percent:  33.30346148585935\n",
      "Iteration:  73\n",
      "y_pred:  [1.0193624] y_test:  [[0.7697]]\n",
      "TRAIN: [ 0  1  2  3  4  5  6  7  8  9 10 11 12 13 14 15 16 17 18 19 20 21 22 23\n",
      " 24 25 26 27 28 29 30 31 32 33 34 35 36 37 38 39 40 41 42 43 44 45 46 47\n",
      " 48 49 50 51 52 53 54 55 56 57 58 59 60 61 62 63 64 65 66 67 68 69 70 71\n",
      " 72 74 75 76 77 78 79 80 81 82 83 84 85 86 87 88 89 90] TEST: [73]\n",
      "Mean Absolute Error: 0.0493120000000008\n",
      "RMSE: 0.0493120000000008\n",
      "MAE Percent:  6.577923999732146\n",
      "Iteration:  74\n",
      "y_pred:  [0.998312] y_test:  [[0.949]]\n",
      "TRAIN: [ 0  1  2  3  4  5  6  7  8  9 10 11 12 13 14 15 16 17 18 19 20 21 22 23\n",
      " 24 25 26 27 28 29 30 31 32 33 34 35 36 37 38 39 40 41 42 43 44 45 46 47\n",
      " 48 49 50 51 52 53 54 55 56 57 58 59 60 61 62 63 64 65 66 67 68 69 70 71\n",
      " 72 73 75 76 77 78 79 80 81 82 83 84 85 86 87 88 89 90] TEST: [74]\n"
     ]
    },
    {
     "name": "stderr",
     "output_type": "stream",
     "text": [
      "C:\\ProgramData\\Anaconda3\\lib\\site-packages\\ipykernel_launcher.py:209: DataConversionWarning: A column-vector y was passed when a 1d array was expected. Please change the shape of y to (n_samples,), for example using ravel().\n",
      "C:\\ProgramData\\Anaconda3\\lib\\site-packages\\ipykernel_launcher.py:209: DataConversionWarning: A column-vector y was passed when a 1d array was expected. Please change the shape of y to (n_samples,), for example using ravel().\n"
     ]
    },
    {
     "name": "stdout",
     "output_type": "stream",
     "text": [
      "Mean Absolute Error: 0.33774000000000126\n",
      "RMSE: 0.33774000000000126\n",
      "MAE Percent:  45.05248320225314\n",
      "Iteration:  75\n",
      "y_pred:  [1.68226] y_test:  [[2.02]]\n",
      "TRAIN: [ 0  1  2  3  4  5  6  7  8  9 10 11 12 13 14 15 16 17 18 19 20 21 22 23\n",
      " 24 25 26 27 28 29 30 31 32 33 34 35 36 37 38 39 40 41 42 43 44 45 46 47\n",
      " 48 49 50 51 52 53 54 55 56 57 58 59 60 61 62 63 64 65 66 67 68 69 70 71\n",
      " 72 73 74 76 77 78 79 80 81 82 83 84 85 86 87 88 89 90] TEST: [75]\n",
      "Mean Absolute Error: 0.0436358\n",
      "RMSE: 0.0436358\n",
      "MAE Percent:  5.820753083783001\n",
      "Iteration:  76\n",
      "y_pred:  [0.5906358] y_test:  [[0.547]]\n",
      "TRAIN: [ 0  1  2  3  4  5  6  7  8  9 10 11 12 13 14 15 16 17 18 19 20 21 22 23\n",
      " 24 25 26 27 28 29 30 31 32 33 34 35 36 37 38 39 40 41 42 43 44 45 46 47\n",
      " 48 49 50 51 52 53 54 55 56 57 58 59 60 61 62 63 64 65 66 67 68 69 70 71\n",
      " 72 73 74 75 77 78 79 80 81 82 83 84 85 86 87 88 89 90] TEST: [76]\n"
     ]
    },
    {
     "name": "stderr",
     "output_type": "stream",
     "text": [
      "C:\\ProgramData\\Anaconda3\\lib\\site-packages\\ipykernel_launcher.py:209: DataConversionWarning: A column-vector y was passed when a 1d array was expected. Please change the shape of y to (n_samples,), for example using ravel().\n",
      "C:\\ProgramData\\Anaconda3\\lib\\site-packages\\ipykernel_launcher.py:209: DataConversionWarning: A column-vector y was passed when a 1d array was expected. Please change the shape of y to (n_samples,), for example using ravel().\n"
     ]
    },
    {
     "name": "stdout",
     "output_type": "stream",
     "text": [
      "Mean Absolute Error: 0.029437000000000157\n",
      "RMSE: 0.029437000000000157\n",
      "MAE Percent:  3.9267186238666665\n",
      "Iteration:  77\n",
      "y_pred:  [1.280563] y_test:  [[1.31]]\n",
      "TRAIN: [ 0  1  2  3  4  5  6  7  8  9 10 11 12 13 14 15 16 17 18 19 20 21 22 23\n",
      " 24 25 26 27 28 29 30 31 32 33 34 35 36 37 38 39 40 41 42 43 44 45 46 47\n",
      " 48 49 50 51 52 53 54 55 56 57 58 59 60 61 62 63 64 65 66 67 68 69 70 71\n",
      " 72 73 74 75 76 78 79 80 81 82 83 84 85 86 87 88 89 90] TEST: [77]\n",
      "Mean Absolute Error: 0.07412599999999997\n",
      "RMSE: 0.07412599999999997\n",
      "MAE Percent:  9.887962248623802\n",
      "Iteration:  78\n",
      "y_pred:  [0.355774] y_test:  [[0.4299]]\n",
      "TRAIN: [ 0  1  2  3  4  5  6  7  8  9 10 11 12 13 14 15 16 17 18 19 20 21 22 23\n",
      " 24 25 26 27 28 29 30 31 32 33 34 35 36 37 38 39 40 41 42 43 44 45 46 47\n",
      " 48 49 50 51 52 53 54 55 56 57 58 59 60 61 62 63 64 65 66 67 68 69 70 71\n",
      " 72 73 74 75 76 77 79 80 81 82 83 84 85 86 87 88 89 90] TEST: [78]\n"
     ]
    },
    {
     "name": "stderr",
     "output_type": "stream",
     "text": [
      "C:\\ProgramData\\Anaconda3\\lib\\site-packages\\ipykernel_launcher.py:209: DataConversionWarning: A column-vector y was passed when a 1d array was expected. Please change the shape of y to (n_samples,), for example using ravel().\n",
      "C:\\ProgramData\\Anaconda3\\lib\\site-packages\\ipykernel_launcher.py:209: DataConversionWarning: A column-vector y was passed when a 1d array was expected. Please change the shape of y to (n_samples,), for example using ravel().\n"
     ]
    },
    {
     "name": "stdout",
     "output_type": "stream",
     "text": [
      "Mean Absolute Error: 0.08792199999999996\n",
      "RMSE: 0.08792199999999996\n",
      "MAE Percent:  11.728265612922616\n",
      "Iteration:  79\n",
      "y_pred:  [0.087922] y_test:  [[0.]]\n",
      "TRAIN: [ 0  1  2  3  4  5  6  7  8  9 10 11 12 13 14 15 16 17 18 19 20 21 22 23\n",
      " 24 25 26 27 28 29 30 31 32 33 34 35 36 37 38 39 40 41 42 43 44 45 46 47\n",
      " 48 49 50 51 52 53 54 55 56 57 58 59 60 61 62 63 64 65 66 67 68 69 70 71\n",
      " 72 73 74 75 76 77 78 80 81 82 83 84 85 86 87 88 89 90] TEST: [79]\n",
      "Mean Absolute Error: 0.0629606999999997\n",
      "RMSE: 0.0629606999999997\n",
      "MAE Percent:  8.398578430603648\n",
      "Iteration:  80\n",
      "y_pred:  [0.3389607] y_test:  [[0.276]]\n",
      "TRAIN: [ 0  1  2  3  4  5  6  7  8  9 10 11 12 13 14 15 16 17 18 19 20 21 22 23\n",
      " 24 25 26 27 28 29 30 31 32 33 34 35 36 37 38 39 40 41 42 43 44 45 46 47\n",
      " 48 49 50 51 52 53 54 55 56 57 58 59 60 61 62 63 64 65 66 67 68 69 70 71\n",
      " 72 73 74 75 76 77 78 79 81 82 83 84 85 86 87 88 89 90] TEST: [80]\n"
     ]
    },
    {
     "name": "stderr",
     "output_type": "stream",
     "text": [
      "C:\\ProgramData\\Anaconda3\\lib\\site-packages\\ipykernel_launcher.py:209: DataConversionWarning: A column-vector y was passed when a 1d array was expected. Please change the shape of y to (n_samples,), for example using ravel().\n",
      "C:\\ProgramData\\Anaconda3\\lib\\site-packages\\ipykernel_launcher.py:209: DataConversionWarning: A column-vector y was passed when a 1d array was expected. Please change the shape of y to (n_samples,), for example using ravel().\n"
     ]
    },
    {
     "name": "stdout",
     "output_type": "stream",
     "text": [
      "Mean Absolute Error: 0.15439699999999967\n",
      "RMSE: 0.15439699999999967\n",
      "MAE Percent:  20.595630511571738\n",
      "Iteration:  81\n",
      "y_pred:  [1.361397] y_test:  [[1.207]]\n",
      "TRAIN: [ 0  1  2  3  4  5  6  7  8  9 10 11 12 13 14 15 16 17 18 19 20 21 22 23\n",
      " 24 25 26 27 28 29 30 31 32 33 34 35 36 37 38 39 40 41 42 43 44 45 46 47\n",
      " 48 49 50 51 52 53 54 55 56 57 58 59 60 61 62 63 64 65 66 67 68 69 70 71\n",
      " 72 73 74 75 76 77 78 79 80 82 83 84 85 86 87 88 89 90] TEST: [81]\n",
      "Mean Absolute Error: 1.0125840000000013\n",
      "RMSE: 1.0125840000000013\n",
      "MAE Percent:  135.0726110347314\n",
      "Iteration:  82\n",
      "y_pred:  [1.511416] y_test:  [[2.524]]\n",
      "TRAIN: [ 0  1  2  3  4  5  6  7  8  9 10 11 12 13 14 15 16 17 18 19 20 21 22 23\n",
      " 24 25 26 27 28 29 30 31 32 33 34 35 36 37 38 39 40 41 42 43 44 45 46 47\n",
      " 48 49 50 51 52 53 54 55 56 57 58 59 60 61 62 63 64 65 66 67 68 69 70 71\n",
      " 72 73 74 75 76 77 78 79 80 81 83 84 85 86 87 88 89 90] TEST: [82]\n"
     ]
    },
    {
     "name": "stderr",
     "output_type": "stream",
     "text": [
      "C:\\ProgramData\\Anaconda3\\lib\\site-packages\\ipykernel_launcher.py:209: DataConversionWarning: A column-vector y was passed when a 1d array was expected. Please change the shape of y to (n_samples,), for example using ravel().\n",
      "C:\\ProgramData\\Anaconda3\\lib\\site-packages\\ipykernel_launcher.py:209: DataConversionWarning: A column-vector y was passed when a 1d array was expected. Please change the shape of y to (n_samples,), for example using ravel().\n"
     ]
    },
    {
     "name": "stdout",
     "output_type": "stream",
     "text": [
      "Mean Absolute Error: 0.616402000000001\n",
      "RMSE: 0.616402000000001\n",
      "MAE Percent:  82.22431678461297\n",
      "Iteration:  83\n",
      "y_pred:  [1.446598] y_test:  [[2.063]]\n",
      "TRAIN: [ 0  1  2  3  4  5  6  7  8  9 10 11 12 13 14 15 16 17 18 19 20 21 22 23\n",
      " 24 25 26 27 28 29 30 31 32 33 34 35 36 37 38 39 40 41 42 43 44 45 46 47\n",
      " 48 49 50 51 52 53 54 55 56 57 58 59 60 61 62 63 64 65 66 67 68 69 70 71\n",
      " 72 73 74 75 76 77 78 79 80 81 82 84 85 86 87 88 89 90] TEST: [83]\n",
      "Mean Absolute Error: 0.26634629999999976\n",
      "RMSE: 0.26634629999999976\n",
      "MAE Percent:  35.52899332839528\n",
      "Iteration:  84\n",
      "y_pred:  [0.6493463] y_test:  [[0.383]]\n",
      "TRAIN: [ 0  1  2  3  4  5  6  7  8  9 10 11 12 13 14 15 16 17 18 19 20 21 22 23\n",
      " 24 25 26 27 28 29 30 31 32 33 34 35 36 37 38 39 40 41 42 43 44 45 46 47\n",
      " 48 49 50 51 52 53 54 55 56 57 58 59 60 61 62 63 64 65 66 67 68 69 70 71\n",
      " 72 73 74 75 76 77 78 79 80 81 82 83 85 86 87 88 89 90] TEST: [84]\n"
     ]
    },
    {
     "name": "stderr",
     "output_type": "stream",
     "text": [
      "C:\\ProgramData\\Anaconda3\\lib\\site-packages\\ipykernel_launcher.py:209: DataConversionWarning: A column-vector y was passed when a 1d array was expected. Please change the shape of y to (n_samples,), for example using ravel().\n",
      "C:\\ProgramData\\Anaconda3\\lib\\site-packages\\ipykernel_launcher.py:209: DataConversionWarning: A column-vector y was passed when a 1d array was expected. Please change the shape of y to (n_samples,), for example using ravel().\n"
     ]
    },
    {
     "name": "stdout",
     "output_type": "stream",
     "text": [
      "Mean Absolute Error: 0.07758999999999998\n",
      "RMSE: 0.07758999999999998\n",
      "MAE Percent:  10.350038999416142\n",
      "Iteration:  85\n",
      "y_pred:  [0.07759] y_test:  [[0.]]\n",
      "TRAIN: [ 0  1  2  3  4  5  6  7  8  9 10 11 12 13 14 15 16 17 18 19 20 21 22 23\n",
      " 24 25 26 27 28 29 30 31 32 33 34 35 36 37 38 39 40 41 42 43 44 45 46 47\n",
      " 48 49 50 51 52 53 54 55 56 57 58 59 60 61 62 63 64 65 66 67 68 69 70 71\n",
      " 72 73 74 75 76 77 78 79 80 81 82 83 84 86 87 88 89 90] TEST: [85]\n",
      "Mean Absolute Error: 0.009380999999999973\n",
      "RMSE: 0.009380999999999973\n",
      "MAE Percent:  1.251368937408462\n",
      "Iteration:  86\n",
      "y_pred:  [0.276381] y_test:  [[0.267]]\n",
      "TRAIN: [ 0  1  2  3  4  5  6  7  8  9 10 11 12 13 14 15 16 17 18 19 20 21 22 23\n",
      " 24 25 26 27 28 29 30 31 32 33 34 35 36 37 38 39 40 41 42 43 44 45 46 47\n",
      " 48 49 50 51 52 53 54 55 56 57 58 59 60 61 62 63 64 65 66 67 68 69 70 71\n",
      " 72 73 74 75 76 77 78 79 80 81 82 83 84 85 87 88 89 90] TEST: [86]\n"
     ]
    },
    {
     "name": "stderr",
     "output_type": "stream",
     "text": [
      "C:\\ProgramData\\Anaconda3\\lib\\site-packages\\ipykernel_launcher.py:209: DataConversionWarning: A column-vector y was passed when a 1d array was expected. Please change the shape of y to (n_samples,), for example using ravel().\n",
      "C:\\ProgramData\\Anaconda3\\lib\\site-packages\\ipykernel_launcher.py:209: DataConversionWarning: A column-vector y was passed when a 1d array was expected. Please change the shape of y to (n_samples,), for example using ravel().\n"
     ]
    },
    {
     "name": "stdout",
     "output_type": "stream",
     "text": [
      "Mean Absolute Error: 0.5088141999999996\n",
      "RMSE: 0.5088141999999996\n",
      "MAE Percent:  67.8727518166867\n",
      "Iteration:  87\n",
      "y_pred:  [0.7611858] y_test:  [[1.27]]\n",
      "TRAIN: [ 0  1  2  3  4  5  6  7  8  9 10 11 12 13 14 15 16 17 18 19 20 21 22 23\n",
      " 24 25 26 27 28 29 30 31 32 33 34 35 36 37 38 39 40 41 42 43 44 45 46 47\n",
      " 48 49 50 51 52 53 54 55 56 57 58 59 60 61 62 63 64 65 66 67 68 69 70 71\n",
      " 72 73 74 75 76 77 78 79 80 81 82 83 84 85 86 88 89 90] TEST: [87]\n",
      "Mean Absolute Error: 0.025636000000000034\n",
      "RMSE: 0.025636000000000034\n",
      "MAE Percent:  3.4196881014181293\n",
      "Iteration:  88\n",
      "y_pred:  [0.071364] y_test:  [[0.097]]\n",
      "TRAIN: [ 0  1  2  3  4  5  6  7  8  9 10 11 12 13 14 15 16 17 18 19 20 21 22 23\n",
      " 24 25 26 27 28 29 30 31 32 33 34 35 36 37 38 39 40 41 42 43 44 45 46 47\n",
      " 48 49 50 51 52 53 54 55 56 57 58 59 60 61 62 63 64 65 66 67 68 69 70 71\n",
      " 72 73 74 75 76 77 78 79 80 81 82 83 84 85 86 87 89 90] TEST: [88]\n"
     ]
    },
    {
     "name": "stderr",
     "output_type": "stream",
     "text": [
      "C:\\ProgramData\\Anaconda3\\lib\\site-packages\\ipykernel_launcher.py:209: DataConversionWarning: A column-vector y was passed when a 1d array was expected. Please change the shape of y to (n_samples,), for example using ravel().\n",
      "C:\\ProgramData\\Anaconda3\\lib\\site-packages\\ipykernel_launcher.py:209: DataConversionWarning: A column-vector y was passed when a 1d array was expected. Please change the shape of y to (n_samples,), for example using ravel().\n"
     ]
    },
    {
     "name": "stdout",
     "output_type": "stream",
     "text": [
      "Mean Absolute Error: 0.1503109999999992\n",
      "RMSE: 0.1503109999999992\n",
      "MAE Percent:  20.0505827044881\n",
      "Iteration:  89\n",
      "y_pred:  [1.282311] y_test:  [[1.132]]\n",
      "TRAIN: [ 0  1  2  3  4  5  6  7  8  9 10 11 12 13 14 15 16 17 18 19 20 21 22 23\n",
      " 24 25 26 27 28 29 30 31 32 33 34 35 36 37 38 39 40 41 42 43 44 45 46 47\n",
      " 48 49 50 51 52 53 54 55 56 57 58 59 60 61 62 63 64 65 66 67 68 69 70 71\n",
      " 72 73 74 75 76 77 78 79 80 81 82 83 84 85 86 87 88 90] TEST: [89]\n",
      "Mean Absolute Error: 0.259128\n",
      "RMSE: 0.259128\n",
      "MAE Percent:  34.56611555407535\n",
      "Iteration:  90\n",
      "y_pred:  [1.307872] y_test:  [[1.567]]\n",
      "TRAIN: [ 0  1  2  3  4  5  6  7  8  9 10 11 12 13 14 15 16 17 18 19 20 21 22 23\n",
      " 24 25 26 27 28 29 30 31 32 33 34 35 36 37 38 39 40 41 42 43 44 45 46 47\n",
      " 48 49 50 51 52 53 54 55 56 57 58 59 60 61 62 63 64 65 66 67 68 69 70 71\n",
      " 72 73 74 75 76 77 78 79 80 81 82 83 84 85 86 87 88 89] TEST: [90]\n"
     ]
    },
    {
     "name": "stderr",
     "output_type": "stream",
     "text": [
      "C:\\ProgramData\\Anaconda3\\lib\\site-packages\\ipykernel_launcher.py:209: DataConversionWarning: A column-vector y was passed when a 1d array was expected. Please change the shape of y to (n_samples,), for example using ravel().\n",
      "C:\\ProgramData\\Anaconda3\\lib\\site-packages\\ipykernel_launcher.py:209: DataConversionWarning: A column-vector y was passed when a 1d array was expected. Please change the shape of y to (n_samples,), for example using ravel().\n"
     ]
    },
    {
     "name": "stdout",
     "output_type": "stream",
     "text": [
      "Mean Absolute Error: 0.34611599999999965\n",
      "RMSE: 0.34611599999999965\n",
      "MAE Percent:  46.1697911885799\n",
      "Iteration:  91\n",
      "y_pred:  [1.246884] y_test:  [[1.593]]\n",
      "RMSE: [0.1492576 0.7595584 0.053946  0.2788583 0.062833  0.02481   0.141154\n",
      " 0.172147  0.133858  0.3034918 0.046643  0.009358  0.01757   0.022765\n",
      " 0.006174  0.420996  0.123706  0.2999685 0.118744  0.105418  0.330606\n",
      " 0.1417417 0.014702  0.174103  0.01924   0.009674  0.033978  0.0127208\n",
      " 0.0694266 0.036877  0.0108746 0.264605  0.873132  0.565541  0.152208\n",
      " 0.068038  0.2543374 0.014365  0.1229804 0.248403  0.148358  0.188791\n",
      " 0.876625  0.0031245 0.1034928 0.133454  0.0423313 0.027679  0.49001\n",
      " 0.894766  0.022716  0.727039  0.072726  0.8607    0.024163  0.403191\n",
      " 0.008174  0.165676  0.048805  0.6733694 0.3879734 0.1350187 0.592942\n",
      " 0.4206993 0.1886116 0.040262  0.012797  0.257875  0.030626  0.0750606\n",
      " 0.002265  0.106642  0.2496624 0.049312  0.33774   0.0436358 0.029437\n",
      " 0.074126  0.087922  0.0629607 0.154397  1.012584  0.616402  0.2663463\n",
      " 0.07759   0.009381  0.5088142 0.025636  0.150311  0.259128  0.346116 ]\n",
      "MAE: [0.1492576 0.7595584 0.053946  0.2788583 0.062833  0.02481   0.141154\n",
      " 0.172147  0.133858  0.3034918 0.046643  0.009358  0.01757   0.022765\n",
      " 0.006174  0.420996  0.123706  0.2999685 0.118744  0.105418  0.330606\n",
      " 0.1417417 0.014702  0.174103  0.01924   0.009674  0.033978  0.0127208\n",
      " 0.0694266 0.036877  0.0108746 0.264605  0.873132  0.565541  0.152208\n",
      " 0.068038  0.2543374 0.014365  0.1229804 0.248403  0.148358  0.188791\n",
      " 0.876625  0.0031245 0.1034928 0.133454  0.0423313 0.027679  0.49001\n",
      " 0.894766  0.022716  0.727039  0.072726  0.8607    0.024163  0.403191\n",
      " 0.008174  0.165676  0.048805  0.6733694 0.3879734 0.1350187 0.592942\n",
      " 0.4206993 0.1886116 0.040262  0.012797  0.257875  0.030626  0.0750606\n",
      " 0.002265  0.106642  0.2496624 0.049312  0.33774   0.0436358 0.029437\n",
      " 0.074126  0.087922  0.0629607 0.154397  1.012584  0.616402  0.2663463\n",
      " 0.07759   0.009381  0.5088142 0.025636  0.150311  0.259128  0.346116 ]\n",
      "MAE Percent: [ 19.91006548 101.32051891   7.19607171  37.19801882   8.38154402\n",
      "   3.30950467  18.82909402  22.96337368  17.85585153  40.48397946\n",
      "   6.22189546   1.24830088   2.34373225   3.03671398   0.82357444\n",
      "  56.1583325   16.50163584  40.01399244  15.8397349   14.06212671\n",
      "  44.10085054  18.90748966   1.96115831  23.2242923    2.5665002\n",
      "   1.29045337   4.53246069   1.69687816   9.26109057   4.91916984\n",
      "   1.45060619  35.29671439 116.47055357  75.43976551  20.30363109\n",
      "   9.07585969  33.92707835   1.91620454  16.40484516  33.13546511\n",
      "  19.79006426  25.1835831  116.93649875   0.41678949  13.80531662\n",
      "  17.80196036   5.64674064   3.692212    65.36438472 119.35639896\n",
      "   3.03017768  96.98262668   9.70121067 114.8121996    3.22319877\n",
      "  53.78325266   1.0903624   22.10018123   6.51029325  89.82342507\n",
      "  51.75331642  18.01068193  79.09489399  56.1187545   25.15965222\n",
      "   5.37070847   1.70704278  34.3989729    4.08532407  10.01263226\n",
      "   0.30213737  14.22540094  33.30346149   6.577924    45.0524832\n",
      "   5.82075308   3.92671862   9.88796225  11.72826561   8.39857843\n",
      "  20.59563051 135.07261103  82.22431678  35.52899333  10.350039\n",
      "   1.25136894  67.87275182   3.4196881   20.0505827   34.56611555\n",
      "  46.16979119]\n",
      "Average RMSE: 0.21094807802197796 +- 0.24377899079500281\n",
      "Average MAE: 0.21094807802197796 +- 0.24377899079500281\n",
      "Average MAE Percent: 28.139203948696377 +- 32.518650109119584\n",
      "2\n",
      "    Sub_ID Sub_Type  Cut_Off_Time  FIM  FIM_M  BBS  MWT10_SSV  MWT10_FV  \\\n",
      "417   CVA2   CVA_AD            30   85     56   38      0.595     0.771   \n",
      "418   CVA4   CVA_AD            30   44     24    3      0.000     0.000   \n",
      "419   CVA5   CVA_AD            30   62     34    6      0.000     0.000   \n",
      "420   CVA6   CVA_AD            30   57     35   16      0.783     0.000   \n",
      "421   CVA9   CVA_AD            30   71     49   37      0.917     1.166   \n",
      "..     ...      ...           ...  ...    ...  ...        ...       ...   \n",
      "503  CVA51   CVA_DC            30   89     59   37      1.270     2.149   \n",
      "504  CVA52   CVA_DC            30   61     40    4      0.097     0.000   \n",
      "505  CVA53   CVA_DC            30   90     64   38      1.132     1.591   \n",
      "506  CVA54   CVA_DC            30   94     66   44      1.567     2.258   \n",
      "507  CVA55   CVA_DC            30  120     89   51      1.593     2.992   \n",
      "\n",
      "         MWT6      TUG  ...  DLS_L_Acc_z_PSD_mean  DLS_L_Acc_z_PSD_std  \\\n",
      "417  193.1210  26.9930  ...              0.002632             0.002837   \n",
      "418  233.0196   0.0000  ...              0.001878             0.005541   \n",
      "419   23.0000   0.0000  ...              0.000922             0.004190   \n",
      "420  124.9700  47.5180  ...              0.001891             0.002734   \n",
      "421  152.4600  26.3015  ...              0.002023             0.002391   \n",
      "..        ...      ...  ...                   ...                  ...   \n",
      "503  273.7600  16.6300  ...              0.002799             0.002565   \n",
      "504   10.5500   0.0000  ...              0.000494             0.001826   \n",
      "505  228.8800  19.7830  ...              0.002717             0.003530   \n",
      "506  345.3400  12.1980  ...              0.001778             0.003660   \n",
      "507  295.8850   8.5103  ...              0.002046             0.004230   \n",
      "\n",
      "     DLS_L_Acc_z_PSD_skew  DLS_L_Acc_z_PSD_kurtosis  DLS_L_Acc_norm_DAmp  \\\n",
      "417             38.482202               2389.123896             2.010859   \n",
      "418             65.206423               4978.423068             2.020581   \n",
      "419             56.011452               3766.428967             1.863408   \n",
      "420             52.247620               3675.391060             1.943991   \n",
      "421             16.746425                635.773186             1.972596   \n",
      "..                    ...                       ...                  ...   \n",
      "503             21.016757               1035.520523             2.017458   \n",
      "504             62.694025               4709.090140             1.824438   \n",
      "505             44.863545               3011.513622             2.053195   \n",
      "506             50.851446               3526.410255             2.141537   \n",
      "507             50.617479               3537.372605             2.478837   \n",
      "\n",
      "     DLS_L_Acc_norm_DFreq  DLS_L_Acc_norm_PSD_mean  DLS_L_Acc_norm_PSD_std  \\\n",
      "417                     0                 0.020828                0.090056   \n",
      "418                     0                 0.017267                0.090939   \n",
      "419                     0                 0.019597                0.083253   \n",
      "420                     0                 0.030899                0.086848   \n",
      "421                     0                 0.017046                0.089211   \n",
      "..                    ...                      ...                     ...   \n",
      "503                     0                 0.020626                0.090343   \n",
      "504                     0                 0.009833                0.081964   \n",
      "505                     0                 0.021072                0.093177   \n",
      "506                     0                 0.020166                0.098305   \n",
      "507                     0                 0.027257                0.115435   \n",
      "\n",
      "     DLS_L_Acc_norm_PSD_skew  DLS_L_Acc_norm_PSD_kurtosis  \n",
      "417                21.144777                   466.703610  \n",
      "418                20.952986                   460.958728  \n",
      "419                21.283697                   470.887334  \n",
      "420                20.930911                   460.815090  \n",
      "421                20.651985                   451.924856  \n",
      "..                       ...                          ...  \n",
      "503                21.158531                   467.132929  \n",
      "504                21.269024                   470.216266  \n",
      "505                20.348014                   442.840541  \n",
      "506                19.776105                   424.643132  \n",
      "507                18.911292                   398.509014  \n",
      "\n",
      "[91 rows x 352 columns]\n",
      "TRAIN: [ 1  2  3  4  5  6  7  8  9 10 11 12 13 14 15 16 17 18 19 20 21 22 23 24\n",
      " 25 26 27 28 29 30 31 32 33 34 35 36 37 38 39 40 41 42 43 44 45 46 47 48\n",
      " 49 50 51 52 53 54 55 56 57 58 59 60 61 62 63 64 65 66 67 68 69 70 71 72\n",
      " 73 74 75 76 77 78 79 80 81 82 83 84 85 86 87 88 89 90] TEST: [0]\n",
      "Mean Absolute Error: 0.29186720000000044\n",
      "RMSE: 0.29186720000000044\n",
      "MAE Percent:  38.93332778258018\n",
      "Iteration:  1\n",
      "y_pred:  [0.8868672] y_test:  [[0.595]]\n",
      "TRAIN: [ 0  2  3  4  5  6  7  8  9 10 11 12 13 14 15 16 17 18 19 20 21 22 23 24\n",
      " 25 26 27 28 29 30 31 32 33 34 35 36 37 38 39 40 41 42 43 44 45 46 47 48\n",
      " 49 50 51 52 53 54 55 56 57 58 59 60 61 62 63 64 65 66 67 68 69 70 71 72\n",
      " 73 74 75 76 77 78 79 80 81 82 83 84 85 86 87 88 89 90] TEST: [1]\n"
     ]
    },
    {
     "name": "stderr",
     "output_type": "stream",
     "text": [
      "C:\\ProgramData\\Anaconda3\\lib\\site-packages\\ipykernel_launcher.py:209: DataConversionWarning: A column-vector y was passed when a 1d array was expected. Please change the shape of y to (n_samples,), for example using ravel().\n",
      "C:\\ProgramData\\Anaconda3\\lib\\site-packages\\ipykernel_launcher.py:209: DataConversionWarning: A column-vector y was passed when a 1d array was expected. Please change the shape of y to (n_samples,), for example using ravel().\n"
     ]
    },
    {
     "name": "stdout",
     "output_type": "stream",
     "text": [
      "Mean Absolute Error: 0.7973448\n",
      "RMSE: 0.7973448\n",
      "MAE Percent:  106.36099724167632\n",
      "Iteration:  2\n",
      "y_pred:  [0.7973448] y_test:  [[0.]]\n",
      "TRAIN: [ 0  1  3  4  5  6  7  8  9 10 11 12 13 14 15 16 17 18 19 20 21 22 23 24\n",
      " 25 26 27 28 29 30 31 32 33 34 35 36 37 38 39 40 41 42 43 44 45 46 47 48\n",
      " 49 50 51 52 53 54 55 56 57 58 59 60 61 62 63 64 65 66 67 68 69 70 71 72\n",
      " 73 74 75 76 77 78 79 80 81 82 83 84 85 86 87 88 89 90] TEST: [2]\n",
      "Mean Absolute Error: 0.10215100000000002\n",
      "RMSE: 0.10215100000000002\n",
      "MAE Percent:  13.626328571070484\n",
      "Iteration:  3\n",
      "y_pred:  [0.102151] y_test:  [[0.]]\n",
      "TRAIN: [ 0  1  2  4  5  6  7  8  9 10 11 12 13 14 15 16 17 18 19 20 21 22 23 24\n",
      " 25 26 27 28 29 30 31 32 33 34 35 36 37 38 39 40 41 42 43 44 45 46 47 48\n",
      " 49 50 51 52 53 54 55 56 57 58 59 60 61 62 63 64 65 66 67 68 69 70 71 72\n",
      " 73 74 75 76 77 78 79 80 81 82 83 84 85 86 87 88 89 90] TEST: [3]\n"
     ]
    },
    {
     "name": "stderr",
     "output_type": "stream",
     "text": [
      "C:\\ProgramData\\Anaconda3\\lib\\site-packages\\ipykernel_launcher.py:209: DataConversionWarning: A column-vector y was passed when a 1d array was expected. Please change the shape of y to (n_samples,), for example using ravel().\n",
      "C:\\ProgramData\\Anaconda3\\lib\\site-packages\\ipykernel_launcher.py:209: DataConversionWarning: A column-vector y was passed when a 1d array was expected. Please change the shape of y to (n_samples,), for example using ravel().\n"
     ]
    },
    {
     "name": "stdout",
     "output_type": "stream",
     "text": [
      "Mean Absolute Error: 0.29384550000000015\n",
      "RMSE: 0.29384550000000015\n",
      "MAE Percent:  39.19722109553987\n",
      "Iteration:  4\n",
      "y_pred:  [0.4891545] y_test:  [[0.783]]\n",
      "TRAIN: [ 0  1  2  3  5  6  7  8  9 10 11 12 13 14 15 16 17 18 19 20 21 22 23 24\n",
      " 25 26 27 28 29 30 31 32 33 34 35 36 37 38 39 40 41 42 43 44 45 46 47 48\n",
      " 49 50 51 52 53 54 55 56 57 58 59 60 61 62 63 64 65 66 67 68 69 70 71 72\n",
      " 73 74 75 76 77 78 79 80 81 82 83 84 85 86 87 88 89 90] TEST: [4]\n",
      "Mean Absolute Error: 0.02324190000000048\n",
      "RMSE: 0.02324190000000048\n",
      "MAE Percent:  3.1003295710856436\n",
      "Iteration:  5\n",
      "y_pred:  [0.8937581] y_test:  [[0.917]]\n",
      "TRAIN: [ 0  1  2  3  4  6  7  8  9 10 11 12 13 14 15 16 17 18 19 20 21 22 23 24\n",
      " 25 26 27 28 29 30 31 32 33 34 35 36 37 38 39 40 41 42 43 44 45 46 47 48\n",
      " 49 50 51 52 53 54 55 56 57 58 59 60 61 62 63 64 65 66 67 68 69 70 71 72\n",
      " 73 74 75 76 77 78 79 80 81 82 83 84 85 86 87 88 89 90] TEST: [5]\n"
     ]
    },
    {
     "name": "stderr",
     "output_type": "stream",
     "text": [
      "C:\\ProgramData\\Anaconda3\\lib\\site-packages\\ipykernel_launcher.py:209: DataConversionWarning: A column-vector y was passed when a 1d array was expected. Please change the shape of y to (n_samples,), for example using ravel().\n",
      "C:\\ProgramData\\Anaconda3\\lib\\site-packages\\ipykernel_launcher.py:209: DataConversionWarning: A column-vector y was passed when a 1d array was expected. Please change the shape of y to (n_samples,), for example using ravel().\n"
     ]
    },
    {
     "name": "stdout",
     "output_type": "stream",
     "text": [
      "Mean Absolute Error: 0.029655999999999905\n",
      "RMSE: 0.029655999999999905\n",
      "MAE Percent:  3.9559319057440936\n",
      "Iteration:  6\n",
      "y_pred:  [0.116056] y_test:  [[0.0864]]\n",
      "TRAIN: [ 0  1  2  3  4  5  7  8  9 10 11 12 13 14 15 16 17 18 19 20 21 22 23 24\n",
      " 25 26 27 28 29 30 31 32 33 34 35 36 37 38 39 40 41 42 43 44 45 46 47 48\n",
      " 49 50 51 52 53 54 55 56 57 58 59 60 61 62 63 64 65 66 67 68 69 70 71 72\n",
      " 73 74 75 76 77 78 79 80 81 82 83 84 85 86 87 88 89 90] TEST: [6]\n",
      "Mean Absolute Error: 0.23688100000000012\n",
      "RMSE: 0.23688100000000012\n",
      "MAE Percent:  31.598499654861413\n",
      "Iteration:  7\n",
      "y_pred:  [1.335881] y_test:  [[1.099]]\n",
      "TRAIN: [ 0  1  2  3  4  5  6  8  9 10 11 12 13 14 15 16 17 18 19 20 21 22 23 24\n",
      " 25 26 27 28 29 30 31 32 33 34 35 36 37 38 39 40 41 42 43 44 45 46 47 48\n",
      " 49 50 51 52 53 54 55 56 57 58 59 60 61 62 63 64 65 66 67 68 69 70 71 72\n",
      " 73 74 75 76 77 78 79 80 81 82 83 84 85 86 87 88 89 90] TEST: [7]\n"
     ]
    },
    {
     "name": "stderr",
     "output_type": "stream",
     "text": [
      "C:\\ProgramData\\Anaconda3\\lib\\site-packages\\ipykernel_launcher.py:209: DataConversionWarning: A column-vector y was passed when a 1d array was expected. Please change the shape of y to (n_samples,), for example using ravel().\n",
      "C:\\ProgramData\\Anaconda3\\lib\\site-packages\\ipykernel_launcher.py:209: DataConversionWarning: A column-vector y was passed when a 1d array was expected. Please change the shape of y to (n_samples,), for example using ravel().\n"
     ]
    },
    {
     "name": "stdout",
     "output_type": "stream",
     "text": [
      "Mean Absolute Error: 0.12642799999999932\n",
      "RMSE: 0.12642799999999932\n",
      "MAE Percent:  16.86473425207085\n",
      "Iteration:  8\n",
      "y_pred:  [1.293428] y_test:  [[1.167]]\n",
      "TRAIN: [ 0  1  2  3  4  5  6  7  9 10 11 12 13 14 15 16 17 18 19 20 21 22 23 24\n",
      " 25 26 27 28 29 30 31 32 33 34 35 36 37 38 39 40 41 42 43 44 45 46 47 48\n",
      " 49 50 51 52 53 54 55 56 57 58 59 60 61 62 63 64 65 66 67 68 69 70 71 72\n",
      " 73 74 75 76 77 78 79 80 81 82 83 84 85 86 87 88 89 90] TEST: [8]\n",
      "Mean Absolute Error: 0.10792459999999998\n",
      "RMSE: 0.10792459999999998\n",
      "MAE Percent:  14.396492060786024\n",
      "Iteration:  9\n",
      "y_pred:  [0.3225754] y_test:  [[0.4305]]\n",
      "TRAIN: [ 0  1  2  3  4  5  6  7  8 10 11 12 13 14 15 16 17 18 19 20 21 22 23 24\n",
      " 25 26 27 28 29 30 31 32 33 34 35 36 37 38 39 40 41 42 43 44 45 46 47 48\n",
      " 49 50 51 52 53 54 55 56 57 58 59 60 61 62 63 64 65 66 67 68 69 70 71 72\n",
      " 73 74 75 76 77 78 79 80 81 82 83 84 85 86 87 88 89 90] TEST: [9]\n"
     ]
    },
    {
     "name": "stderr",
     "output_type": "stream",
     "text": [
      "C:\\ProgramData\\Anaconda3\\lib\\site-packages\\ipykernel_launcher.py:209: DataConversionWarning: A column-vector y was passed when a 1d array was expected. Please change the shape of y to (n_samples,), for example using ravel().\n",
      "C:\\ProgramData\\Anaconda3\\lib\\site-packages\\ipykernel_launcher.py:209: DataConversionWarning: A column-vector y was passed when a 1d array was expected. Please change the shape of y to (n_samples,), for example using ravel().\n"
     ]
    },
    {
     "name": "stdout",
     "output_type": "stream",
     "text": [
      "Mean Absolute Error: 0.33572909999999967\n",
      "RMSE: 0.33572909999999967\n",
      "MAE Percent:  44.78424124550689\n",
      "Iteration:  10\n",
      "y_pred:  [0.8727291] y_test:  [[0.537]]\n",
      "TRAIN: [ 0  1  2  3  4  5  6  7  8  9 11 12 13 14 15 16 17 18 19 20 21 22 23 24\n",
      " 25 26 27 28 29 30 31 32 33 34 35 36 37 38 39 40 41 42 43 44 45 46 47 48\n",
      " 49 50 51 52 53 54 55 56 57 58 59 60 61 62 63 64 65 66 67 68 69 70 71 72\n",
      " 73 74 75 76 77 78 79 80 81 82 83 84 85 86 87 88 89 90] TEST: [10]\n",
      "Mean Absolute Error: 0.05474999999999987\n",
      "RMSE: 0.05474999999999987\n",
      "MAE Percent:  7.303320469365028\n",
      "Iteration:  11\n",
      "y_pred:  [0.15775] y_test:  [[0.103]]\n",
      "TRAIN: [ 0  1  2  3  4  5  6  7  8  9 10 12 13 14 15 16 17 18 19 20 21 22 23 24\n",
      " 25 26 27 28 29 30 31 32 33 34 35 36 37 38 39 40 41 42 43 44 45 46 47 48\n",
      " 49 50 51 52 53 54 55 56 57 58 59 60 61 62 63 64 65 66 67 68 69 70 71 72\n",
      " 73 74 75 76 77 78 79 80 81 82 83 84 85 86 87 88 89 90] TEST: [11]\n"
     ]
    },
    {
     "name": "stderr",
     "output_type": "stream",
     "text": [
      "C:\\ProgramData\\Anaconda3\\lib\\site-packages\\ipykernel_launcher.py:209: DataConversionWarning: A column-vector y was passed when a 1d array was expected. Please change the shape of y to (n_samples,), for example using ravel().\n",
      "C:\\ProgramData\\Anaconda3\\lib\\site-packages\\ipykernel_launcher.py:209: DataConversionWarning: A column-vector y was passed when a 1d array was expected. Please change the shape of y to (n_samples,), for example using ravel().\n"
     ]
    },
    {
     "name": "stdout",
     "output_type": "stream",
     "text": [
      "Mean Absolute Error: 0.022759299999998817\n",
      "RMSE: 0.022759299999998817\n",
      "MAE Percent:  3.0359536357700683\n",
      "Iteration:  12\n",
      "y_pred:  [1.0482407] y_test:  [[1.071]]\n",
      "TRAIN: [ 0  1  2  3  4  5  6  7  8  9 10 11 13 14 15 16 17 18 19 20 21 22 23 24\n",
      " 25 26 27 28 29 30 31 32 33 34 35 36 37 38 39 40 41 42 43 44 45 46 47 48\n",
      " 49 50 51 52 53 54 55 56 57 58 59 60 61 62 63 64 65 66 67 68 69 70 71 72\n",
      " 73 74 75 76 77 78 79 80 81 82 83 84 85 86 87 88 89 90] TEST: [12]\n",
      "Mean Absolute Error: 0.048407000000000755\n",
      "RMSE: 0.048407000000000755\n",
      "MAE Percent:  6.457202446768207\n",
      "Iteration:  13\n",
      "y_pred:  [1.278407] y_test:  [[1.23]]\n",
      "TRAIN: [ 0  1  2  3  4  5  6  7  8  9 10 11 12 14 15 16 17 18 19 20 21 22 23 24\n",
      " 25 26 27 28 29 30 31 32 33 34 35 36 37 38 39 40 41 42 43 44 45 46 47 48\n",
      " 49 50 51 52 53 54 55 56 57 58 59 60 61 62 63 64 65 66 67 68 69 70 71 72\n",
      " 73 74 75 76 77 78 79 80 81 82 83 84 85 86 87 88 89 90] TEST: [13]\n"
     ]
    },
    {
     "name": "stderr",
     "output_type": "stream",
     "text": [
      "C:\\ProgramData\\Anaconda3\\lib\\site-packages\\ipykernel_launcher.py:209: DataConversionWarning: A column-vector y was passed when a 1d array was expected. Please change the shape of y to (n_samples,), for example using ravel().\n",
      "C:\\ProgramData\\Anaconda3\\lib\\site-packages\\ipykernel_launcher.py:209: DataConversionWarning: A column-vector y was passed when a 1d array was expected. Please change the shape of y to (n_samples,), for example using ravel().\n"
     ]
    },
    {
     "name": "stdout",
     "output_type": "stream",
     "text": [
      "Mean Absolute Error: 0.04670699999999983\n",
      "RMSE: 0.04670699999999983\n",
      "MAE Percent:  6.230432678769534\n",
      "Iteration:  14\n",
      "y_pred:  [0.969293] y_test:  [[1.016]]\n",
      "TRAIN: [ 0  1  2  3  4  5  6  7  8  9 10 11 12 13 15 16 17 18 19 20 21 22 23 24\n",
      " 25 26 27 28 29 30 31 32 33 34 35 36 37 38 39 40 41 42 43 44 45 46 47 48\n",
      " 49 50 51 52 53 54 55 56 57 58 59 60 61 62 63 64 65 66 67 68 69 70 71 72\n",
      " 73 74 75 76 77 78 79 80 81 82 83 84 85 86 87 88 89 90] TEST: [14]\n",
      "Mean Absolute Error: 0.02468800000000021\n",
      "RMSE: 0.02468800000000021\n",
      "MAE Percent:  3.2932306072636677\n",
      "Iteration:  15\n",
      "y_pred:  [0.301312] y_test:  [[0.326]]\n",
      "TRAIN: [ 0  1  2  3  4  5  6  7  8  9 10 11 12 13 14 16 17 18 19 20 21 22 23 24\n",
      " 25 26 27 28 29 30 31 32 33 34 35 36 37 38 39 40 41 42 43 44 45 46 47 48\n",
      " 49 50 51 52 53 54 55 56 57 58 59 60 61 62 63 64 65 66 67 68 69 70 71 72\n",
      " 73 74 75 76 77 78 79 80 81 82 83 84 85 86 87 88 89 90] TEST: [15]\n"
     ]
    },
    {
     "name": "stderr",
     "output_type": "stream",
     "text": [
      "C:\\ProgramData\\Anaconda3\\lib\\site-packages\\ipykernel_launcher.py:209: DataConversionWarning: A column-vector y was passed when a 1d array was expected. Please change the shape of y to (n_samples,), for example using ravel().\n",
      "C:\\ProgramData\\Anaconda3\\lib\\site-packages\\ipykernel_launcher.py:209: DataConversionWarning: A column-vector y was passed when a 1d array was expected. Please change the shape of y to (n_samples,), for example using ravel().\n"
     ]
    },
    {
     "name": "stdout",
     "output_type": "stream",
     "text": [
      "Mean Absolute Error: 0.27319699999999925\n",
      "RMSE: 0.27319699999999925\n",
      "MAE Percent:  36.442835475235015\n",
      "Iteration:  16\n",
      "y_pred:  [1.454197] y_test:  [[1.181]]\n",
      "TRAIN: [ 0  1  2  3  4  5  6  7  8  9 10 11 12 13 14 15 17 18 19 20 21 22 23 24\n",
      " 25 26 27 28 29 30 31 32 33 34 35 36 37 38 39 40 41 42 43 44 45 46 47 48\n",
      " 49 50 51 52 53 54 55 56 57 58 59 60 61 62 63 64 65 66 67 68 69 70 71 72\n",
      " 73 74 75 76 77 78 79 80 81 82 83 84 85 86 87 88 89 90] TEST: [16]\n",
      "Mean Absolute Error: 0.071102\n",
      "RMSE: 0.071102\n",
      "MAE Percent:  9.48457884954874\n",
      "Iteration:  17\n",
      "y_pred:  [0.071102] y_test:  [[0.]]\n",
      "TRAIN: [ 0  1  2  3  4  5  6  7  8  9 10 11 12 13 14 15 16 18 19 20 21 22 23 24\n",
      " 25 26 27 28 29 30 31 32 33 34 35 36 37 38 39 40 41 42 43 44 45 46 47 48\n",
      " 49 50 51 52 53 54 55 56 57 58 59 60 61 62 63 64 65 66 67 68 69 70 71 72\n",
      " 73 74 75 76 77 78 79 80 81 82 83 84 85 86 87 88 89 90] TEST: [17]\n"
     ]
    },
    {
     "name": "stderr",
     "output_type": "stream",
     "text": [
      "C:\\ProgramData\\Anaconda3\\lib\\site-packages\\ipykernel_launcher.py:209: DataConversionWarning: A column-vector y was passed when a 1d array was expected. Please change the shape of y to (n_samples,), for example using ravel().\n",
      "C:\\ProgramData\\Anaconda3\\lib\\site-packages\\ipykernel_launcher.py:209: DataConversionWarning: A column-vector y was passed when a 1d array was expected. Please change the shape of y to (n_samples,), for example using ravel().\n"
     ]
    },
    {
     "name": "stdout",
     "output_type": "stream",
     "text": [
      "Mean Absolute Error: 0.2988663999999997\n",
      "RMSE: 0.2988663999999997\n",
      "MAE Percent:  39.866978935624466\n",
      "Iteration:  18\n",
      "y_pred:  [0.5068664] y_test:  [[0.208]]\n",
      "TRAIN: [ 0  1  2  3  4  5  6  7  8  9 10 11 12 13 14 15 16 17 19 20 21 22 23 24\n",
      " 25 26 27 28 29 30 31 32 33 34 35 36 37 38 39 40 41 42 43 44 45 46 47 48\n",
      " 49 50 51 52 53 54 55 56 57 58 59 60 61 62 63 64 65 66 67 68 69 70 71 72\n",
      " 73 74 75 76 77 78 79 80 81 82 83 84 85 86 87 88 89 90] TEST: [18]\n",
      "Mean Absolute Error: 0.12709099999999995\n",
      "RMSE: 0.12709099999999995\n",
      "MAE Percent:  16.953174461590372\n",
      "Iteration:  19\n",
      "y_pred:  [0.127091] y_test:  [[0.]]\n",
      "TRAIN: [ 0  1  2  3  4  5  6  7  8  9 10 11 12 13 14 15 16 17 18 20 21 22 23 24\n",
      " 25 26 27 28 29 30 31 32 33 34 35 36 37 38 39 40 41 42 43 44 45 46 47 48\n",
      " 49 50 51 52 53 54 55 56 57 58 59 60 61 62 63 64 65 66 67 68 69 70 71 72\n",
      " 73 74 75 76 77 78 79 80 81 82 83 84 85 86 87 88 89 90] TEST: [19]\n"
     ]
    },
    {
     "name": "stderr",
     "output_type": "stream",
     "text": [
      "C:\\ProgramData\\Anaconda3\\lib\\site-packages\\ipykernel_launcher.py:209: DataConversionWarning: A column-vector y was passed when a 1d array was expected. Please change the shape of y to (n_samples,), for example using ravel().\n",
      "C:\\ProgramData\\Anaconda3\\lib\\site-packages\\ipykernel_launcher.py:209: DataConversionWarning: A column-vector y was passed when a 1d array was expected. Please change the shape of y to (n_samples,), for example using ravel().\n"
     ]
    },
    {
     "name": "stdout",
     "output_type": "stream",
     "text": [
      "Mean Absolute Error: 0.03131599999999923\n",
      "RMSE: 0.03131599999999923\n",
      "MAE Percent:  4.177365914495528\n",
      "Iteration:  20\n",
      "y_pred:  [1.578316] y_test:  [[1.547]]\n",
      "TRAIN: [ 0  1  2  3  4  5  6  7  8  9 10 11 12 13 14 15 16 17 18 19 21 22 23 24\n",
      " 25 26 27 28 29 30 31 32 33 34 35 36 37 38 39 40 41 42 43 44 45 46 47 48\n",
      " 49 50 51 52 53 54 55 56 57 58 59 60 61 62 63 64 65 66 67 68 69 70 71 72\n",
      " 73 74 75 76 77 78 79 80 81 82 83 84 85 86 87 88 89 90] TEST: [20]\n",
      "Mean Absolute Error: 0.1999779000000002\n",
      "RMSE: 0.1999779000000002\n",
      "MAE Percent:  26.675848228139504\n",
      "Iteration:  21\n",
      "y_pred:  [0.4710221] y_test:  [[0.671]]\n",
      "TRAIN: [ 0  1  2  3  4  5  6  7  8  9 10 11 12 13 14 15 16 17 18 19 20 22 23 24\n",
      " 25 26 27 28 29 30 31 32 33 34 35 36 37 38 39 40 41 42 43 44 45 46 47 48\n",
      " 49 50 51 52 53 54 55 56 57 58 59 60 61 62 63 64 65 66 67 68 69 70 71 72\n",
      " 73 74 75 76 77 78 79 80 81 82 83 84 85 86 87 88 89 90] TEST: [21]\n"
     ]
    },
    {
     "name": "stderr",
     "output_type": "stream",
     "text": [
      "C:\\ProgramData\\Anaconda3\\lib\\site-packages\\ipykernel_launcher.py:209: DataConversionWarning: A column-vector y was passed when a 1d array was expected. Please change the shape of y to (n_samples,), for example using ravel().\n",
      "C:\\ProgramData\\Anaconda3\\lib\\site-packages\\ipykernel_launcher.py:209: DataConversionWarning: A column-vector y was passed when a 1d array was expected. Please change the shape of y to (n_samples,), for example using ravel().\n"
     ]
    },
    {
     "name": "stdout",
     "output_type": "stream",
     "text": [
      "Mean Absolute Error: 0.076269\n",
      "RMSE: 0.076269\n",
      "MAE Percent:  10.173825550283155\n",
      "Iteration:  22\n",
      "y_pred:  [0.242269] y_test:  [[0.166]]\n",
      "TRAIN: [ 0  1  2  3  4  5  6  7  8  9 10 11 12 13 14 15 16 17 18 19 20 21 23 24\n",
      " 25 26 27 28 29 30 31 32 33 34 35 36 37 38 39 40 41 42 43 44 45 46 47 48\n",
      " 49 50 51 52 53 54 55 56 57 58 59 60 61 62 63 64 65 66 67 68 69 70 71 72\n",
      " 73 74 75 76 77 78 79 80 81 82 83 84 85 86 87 88 89 90] TEST: [22]\n",
      "Mean Absolute Error: 0.045242699999999636\n",
      "RMSE: 0.045242699999999636\n",
      "MAE Percent:  6.0351038721340515\n",
      "Iteration:  23\n",
      "y_pred:  [1.0152427] y_test:  [[0.97]]\n",
      "TRAIN: [ 0  1  2  3  4  5  6  7  8  9 10 11 12 13 14 15 16 17 18 19 20 21 22 24\n",
      " 25 26 27 28 29 30 31 32 33 34 35 36 37 38 39 40 41 42 43 44 45 46 47 48\n",
      " 49 50 51 52 53 54 55 56 57 58 59 60 61 62 63 64 65 66 67 68 69 70 71 72\n",
      " 73 74 75 76 77 78 79 80 81 82 83 84 85 86 87 88 89 90] TEST: [23]\n"
     ]
    },
    {
     "name": "stderr",
     "output_type": "stream",
     "text": [
      "C:\\ProgramData\\Anaconda3\\lib\\site-packages\\ipykernel_launcher.py:209: DataConversionWarning: A column-vector y was passed when a 1d array was expected. Please change the shape of y to (n_samples,), for example using ravel().\n",
      "C:\\ProgramData\\Anaconda3\\lib\\site-packages\\ipykernel_launcher.py:209: DataConversionWarning: A column-vector y was passed when a 1d array was expected. Please change the shape of y to (n_samples,), for example using ravel().\n"
     ]
    },
    {
     "name": "stdout",
     "output_type": "stream",
     "text": [
      "Mean Absolute Error: 0.14726300000000003\n",
      "RMSE: 0.14726300000000003\n",
      "MAE Percent:  19.64399784986493\n",
      "Iteration:  24\n",
      "y_pred:  [0.147263] y_test:  [[0.]]\n",
      "TRAIN: [ 0  1  2  3  4  5  6  7  8  9 10 11 12 13 14 15 16 17 18 19 20 21 22 23\n",
      " 25 26 27 28 29 30 31 32 33 34 35 36 37 38 39 40 41 42 43 44 45 46 47 48\n",
      " 49 50 51 52 53 54 55 56 57 58 59 60 61 62 63 64 65 66 67 68 69 70 71 72\n",
      " 73 74 75 76 77 78 79 80 81 82 83 84 85 86 87 88 89 90] TEST: [24]\n",
      "Mean Absolute Error: 0.04372100000000029\n",
      "RMSE: 0.04372100000000029\n",
      "MAE Percent:  5.832118250979201\n",
      "Iteration:  25\n",
      "y_pred:  [0.152279] y_test:  [[0.196]]\n",
      "TRAIN: [ 0  1  2  3  4  5  6  7  8  9 10 11 12 13 14 15 16 17 18 19 20 21 22 23\n",
      " 24 26 27 28 29 30 31 32 33 34 35 36 37 38 39 40 41 42 43 44 45 46 47 48\n",
      " 49 50 51 52 53 54 55 56 57 58 59 60 61 62 63 64 65 66 67 68 69 70 71 72\n",
      " 73 74 75 76 77 78 79 80 81 82 83 84 85 86 87 88 89 90] TEST: [25]\n"
     ]
    },
    {
     "name": "stderr",
     "output_type": "stream",
     "text": [
      "C:\\ProgramData\\Anaconda3\\lib\\site-packages\\ipykernel_launcher.py:209: DataConversionWarning: A column-vector y was passed when a 1d array was expected. Please change the shape of y to (n_samples,), for example using ravel().\n",
      "C:\\ProgramData\\Anaconda3\\lib\\site-packages\\ipykernel_launcher.py:209: DataConversionWarning: A column-vector y was passed when a 1d array was expected. Please change the shape of y to (n_samples,), for example using ravel().\n"
     ]
    },
    {
     "name": "stdout",
     "output_type": "stream",
     "text": [
      "Mean Absolute Error: 0.032586699999999635\n",
      "RMSE: 0.032586699999999635\n",
      "MAE Percent:  4.346869646375439\n",
      "Iteration:  26\n",
      "y_pred:  [0.9965867] y_test:  [[0.964]]\n",
      "TRAIN: [ 0  1  2  3  4  5  6  7  8  9 10 11 12 13 14 15 16 17 18 19 20 21 22 23\n",
      " 24 25 27 28 29 30 31 32 33 34 35 36 37 38 39 40 41 42 43 44 45 46 47 48\n",
      " 49 50 51 52 53 54 55 56 57 58 59 60 61 62 63 64 65 66 67 68 69 70 71 72\n",
      " 73 74 75 76 77 78 79 80 81 82 83 84 85 86 87 88 89 90] TEST: [26]\n",
      "Mean Absolute Error: 0.023409699999999978\n",
      "RMSE: 0.023409699999999978\n",
      "MAE Percent:  3.122713081126845\n",
      "Iteration:  27\n",
      "y_pred:  [0.2784097] y_test:  [[0.255]]\n",
      "TRAIN: [ 0  1  2  3  4  5  6  7  8  9 10 11 12 13 14 15 16 17 18 19 20 21 22 23\n",
      " 24 25 26 28 29 30 31 32 33 34 35 36 37 38 39 40 41 42 43 44 45 46 47 48\n",
      " 49 50 51 52 53 54 55 56 57 58 59 60 61 62 63 64 65 66 67 68 69 70 71 72\n",
      " 73 74 75 76 77 78 79 80 81 82 83 84 85 86 87 88 89 90] TEST: [27]\n"
     ]
    },
    {
     "name": "stderr",
     "output_type": "stream",
     "text": [
      "C:\\ProgramData\\Anaconda3\\lib\\site-packages\\ipykernel_launcher.py:209: DataConversionWarning: A column-vector y was passed when a 1d array was expected. Please change the shape of y to (n_samples,), for example using ravel().\n",
      "C:\\ProgramData\\Anaconda3\\lib\\site-packages\\ipykernel_launcher.py:209: DataConversionWarning: A column-vector y was passed when a 1d array was expected. Please change the shape of y to (n_samples,), for example using ravel().\n"
     ]
    },
    {
     "name": "stdout",
     "output_type": "stream",
     "text": [
      "Mean Absolute Error: 0.14248070000000013\n",
      "RMSE: 0.14248070000000013\n",
      "MAE Percent:  19.00606781368879\n",
      "Iteration:  28\n",
      "y_pred:  [0.9304807] y_test:  [[0.788]]\n",
      "TRAIN: [ 0  1  2  3  4  5  6  7  8  9 10 11 12 13 14 15 16 17 18 19 20 21 22 23\n",
      " 24 25 26 27 29 30 31 32 33 34 35 36 37 38 39 40 41 42 43 44 45 46 47 48\n",
      " 49 50 51 52 53 54 55 56 57 58 59 60 61 62 63 64 65 66 67 68 69 70 71 72\n",
      " 73 74 75 76 77 78 79 80 81 82 83 84 85 86 87 88 89 90] TEST: [28]\n",
      "Mean Absolute Error: 0.0916146000000001\n",
      "RMSE: 0.0916146000000001\n",
      "MAE Percent:  12.22083622781172\n",
      "Iteration:  29\n",
      "y_pred:  [0.5683854] y_test:  [[0.66]]\n",
      "TRAIN: [ 0  1  2  3  4  5  6  7  8  9 10 11 12 13 14 15 16 17 18 19 20 21 22 23\n",
      " 24 25 26 27 28 30 31 32 33 34 35 36 37 38 39 40 41 42 43 44 45 46 47 48\n",
      " 49 50 51 52 53 54 55 56 57 58 59 60 61 62 63 64 65 66 67 68 69 70 71 72\n",
      " 73 74 75 76 77 78 79 80 81 82 83 84 85 86 87 88 89 90] TEST: [29]\n"
     ]
    },
    {
     "name": "stderr",
     "output_type": "stream",
     "text": [
      "C:\\ProgramData\\Anaconda3\\lib\\site-packages\\ipykernel_launcher.py:209: DataConversionWarning: A column-vector y was passed when a 1d array was expected. Please change the shape of y to (n_samples,), for example using ravel().\n",
      "C:\\ProgramData\\Anaconda3\\lib\\site-packages\\ipykernel_launcher.py:209: DataConversionWarning: A column-vector y was passed when a 1d array was expected. Please change the shape of y to (n_samples,), for example using ravel().\n"
     ]
    },
    {
     "name": "stdout",
     "output_type": "stream",
     "text": [
      "Mean Absolute Error: 0.08235999999999932\n",
      "RMSE: 0.08235999999999932\n",
      "MAE Percent:  10.98632828962375\n",
      "Iteration:  30\n",
      "y_pred:  [1.51736] y_test:  [[1.435]]\n",
      "TRAIN: [ 0  1  2  3  4  5  6  7  8  9 10 11 12 13 14 15 16 17 18 19 20 21 22 23\n",
      " 24 25 26 27 28 29 31 32 33 34 35 36 37 38 39 40 41 42 43 44 45 46 47 48\n",
      " 49 50 51 52 53 54 55 56 57 58 59 60 61 62 63 64 65 66 67 68 69 70 71 72\n",
      " 73 74 75 76 77 78 79 80 81 82 83 84 85 86 87 88 89 90] TEST: [30]\n",
      "Mean Absolute Error: 0.05641229999999964\n",
      "RMSE: 0.05641229999999964\n",
      "MAE Percent:  7.525061284273226\n",
      "Iteration:  31\n",
      "y_pred:  [1.0525877] y_test:  [[1.109]]\n",
      "TRAIN: [ 0  1  2  3  4  5  6  7  8  9 10 11 12 13 14 15 16 17 18 19 20 21 22 23\n",
      " 24 25 26 27 28 29 30 32 33 34 35 36 37 38 39 40 41 42 43 44 45 46 47 48\n",
      " 49 50 51 52 53 54 55 56 57 58 59 60 61 62 63 64 65 66 67 68 69 70 71 72\n",
      " 73 74 75 76 77 78 79 80 81 82 83 84 85 86 87 88 89 90] TEST: [31]\n"
     ]
    },
    {
     "name": "stderr",
     "output_type": "stream",
     "text": [
      "C:\\ProgramData\\Anaconda3\\lib\\site-packages\\ipykernel_launcher.py:209: DataConversionWarning: A column-vector y was passed when a 1d array was expected. Please change the shape of y to (n_samples,), for example using ravel().\n",
      "C:\\ProgramData\\Anaconda3\\lib\\site-packages\\ipykernel_launcher.py:209: DataConversionWarning: A column-vector y was passed when a 1d array was expected. Please change the shape of y to (n_samples,), for example using ravel().\n"
     ]
    },
    {
     "name": "stdout",
     "output_type": "stream",
     "text": [
      "Mean Absolute Error: 0.27179600000000015\n",
      "RMSE: 0.27179600000000015\n",
      "MAE Percent:  36.25595050760809\n",
      "Iteration:  32\n",
      "y_pred:  [1.128204] y_test:  [[1.4]]\n",
      "TRAIN: [ 0  1  2  3  4  5  6  7  8  9 10 11 12 13 14 15 16 17 18 19 20 21 22 23\n",
      " 24 25 26 27 28 29 30 31 33 34 35 36 37 38 39 40 41 42 43 44 45 46 47 48\n",
      " 49 50 51 52 53 54 55 56 57 58 59 60 61 62 63 64 65 66 67 68 69 70 71 72\n",
      " 73 74 75 76 77 78 79 80 81 82 83 84 85 86 87 88 89 90] TEST: [32]\n",
      "Mean Absolute Error: 0.7943809999999998\n",
      "RMSE: 0.7943809999999998\n",
      "MAE Percent:  105.96564416026798\n",
      "Iteration:  33\n",
      "y_pred:  [1.377619] y_test:  [[2.172]]\n",
      "TRAIN: [ 0  1  2  3  4  5  6  7  8  9 10 11 12 13 14 15 16 17 18 19 20 21 22 23\n",
      " 24 25 26 27 28 29 30 31 32 34 35 36 37 38 39 40 41 42 43 44 45 46 47 48\n",
      " 49 50 51 52 53 54 55 56 57 58 59 60 61 62 63 64 65 66 67 68 69 70 71 72\n",
      " 73 74 75 76 77 78 79 80 81 82 83 84 85 86 87 88 89 90] TEST: [33]\n"
     ]
    },
    {
     "name": "stderr",
     "output_type": "stream",
     "text": [
      "C:\\ProgramData\\Anaconda3\\lib\\site-packages\\ipykernel_launcher.py:209: DataConversionWarning: A column-vector y was passed when a 1d array was expected. Please change the shape of y to (n_samples,), for example using ravel().\n",
      "C:\\ProgramData\\Anaconda3\\lib\\site-packages\\ipykernel_launcher.py:209: DataConversionWarning: A column-vector y was passed when a 1d array was expected. Please change the shape of y to (n_samples,), for example using ravel().\n"
     ]
    },
    {
     "name": "stdout",
     "output_type": "stream",
     "text": [
      "Mean Absolute Error: 0.5250579000000004\n",
      "RMSE: 0.5250579000000004\n",
      "MAE Percent:  70.03956362870919\n",
      "Iteration:  34\n",
      "y_pred:  [0.3999421] y_test:  [[0.925]]\n",
      "TRAIN: [ 0  1  2  3  4  5  6  7  8  9 10 11 12 13 14 15 16 17 18 19 20 21 22 23\n",
      " 24 25 26 27 28 29 30 31 32 33 35 36 37 38 39 40 41 42 43 44 45 46 47 48\n",
      " 49 50 51 52 53 54 55 56 57 58 59 60 61 62 63 64 65 66 67 68 69 70 71 72\n",
      " 73 74 75 76 77 78 79 80 81 82 83 84 85 86 87 88 89 90] TEST: [34]\n",
      "Mean Absolute Error: 0.08185100000000001\n",
      "RMSE: 0.08185100000000001\n",
      "MAE Percent:  10.91843075320545\n",
      "Iteration:  35\n",
      "y_pred:  [0.227851] y_test:  [[0.146]]\n",
      "TRAIN: [ 0  1  2  3  4  5  6  7  8  9 10 11 12 13 14 15 16 17 18 19 20 21 22 23\n",
      " 24 25 26 27 28 29 30 31 32 33 34 36 37 38 39 40 41 42 43 44 45 46 47 48\n",
      " 49 50 51 52 53 54 55 56 57 58 59 60 61 62 63 64 65 66 67 68 69 70 71 72\n",
      " 73 74 75 76 77 78 79 80 81 82 83 84 85 86 87 88 89 90] TEST: [35]\n"
     ]
    },
    {
     "name": "stderr",
     "output_type": "stream",
     "text": [
      "C:\\ProgramData\\Anaconda3\\lib\\site-packages\\ipykernel_launcher.py:209: DataConversionWarning: A column-vector y was passed when a 1d array was expected. Please change the shape of y to (n_samples,), for example using ravel().\n",
      "C:\\ProgramData\\Anaconda3\\lib\\site-packages\\ipykernel_launcher.py:209: DataConversionWarning: A column-vector y was passed when a 1d array was expected. Please change the shape of y to (n_samples,), for example using ravel().\n"
     ]
    },
    {
     "name": "stdout",
     "output_type": "stream",
     "text": [
      "Mean Absolute Error: 0.06299100000000003\n",
      "RMSE: 0.06299100000000003\n",
      "MAE Percent:  8.402620268233314\n",
      "Iteration:  36\n",
      "y_pred:  [0.073509] y_test:  [[0.1365]]\n",
      "TRAIN: [ 0  1  2  3  4  5  6  7  8  9 10 11 12 13 14 15 16 17 18 19 20 21 22 23\n",
      " 24 25 26 27 28 29 30 31 32 33 34 35 37 38 39 40 41 42 43 44 45 46 47 48\n",
      " 49 50 51 52 53 54 55 56 57 58 59 60 61 62 63 64 65 66 67 68 69 70 71 72\n",
      " 73 74 75 76 77 78 79 80 81 82 83 84 85 86 87 88 89 90] TEST: [36]\n",
      "Mean Absolute Error: 0.31813509999999995\n",
      "RMSE: 0.31813509999999995\n",
      "MAE Percent:  42.43730754070311\n",
      "Iteration:  37\n",
      "y_pred:  [0.5819351] y_test:  [[0.2638]]\n",
      "TRAIN: [ 0  1  2  3  4  5  6  7  8  9 10 11 12 13 14 15 16 17 18 19 20 21 22 23\n",
      " 24 25 26 27 28 29 30 31 32 33 34 35 36 38 39 40 41 42 43 44 45 46 47 48\n",
      " 49 50 51 52 53 54 55 56 57 58 59 60 61 62 63 64 65 66 67 68 69 70 71 72\n",
      " 73 74 75 76 77 78 79 80 81 82 83 84 85 86 87 88 89 90] TEST: [37]\n"
     ]
    },
    {
     "name": "stderr",
     "output_type": "stream",
     "text": [
      "C:\\ProgramData\\Anaconda3\\lib\\site-packages\\ipykernel_launcher.py:209: DataConversionWarning: A column-vector y was passed when a 1d array was expected. Please change the shape of y to (n_samples,), for example using ravel().\n",
      "C:\\ProgramData\\Anaconda3\\lib\\site-packages\\ipykernel_launcher.py:209: DataConversionWarning: A column-vector y was passed when a 1d array was expected. Please change the shape of y to (n_samples,), for example using ravel().\n"
     ]
    },
    {
     "name": "stdout",
     "output_type": "stream",
     "text": [
      "Mean Absolute Error: 0.004241999999999996\n",
      "RMSE: 0.004241999999999996\n",
      "MAE Percent:  0.5658572681469679\n",
      "Iteration:  38\n",
      "y_pred:  [0.163842] y_test:  [[0.1596]]\n",
      "TRAIN: [ 0  1  2  3  4  5  6  7  8  9 10 11 12 13 14 15 16 17 18 19 20 21 22 23\n",
      " 24 25 26 27 28 29 30 31 32 33 34 35 36 37 39 40 41 42 43 44 45 46 47 48\n",
      " 49 50 51 52 53 54 55 56 57 58 59 60 61 62 63 64 65 66 67 68 69 70 71 72\n",
      " 73 74 75 76 77 78 79 80 81 82 83 84 85 86 87 88 89 90] TEST: [38]\n",
      "Mean Absolute Error: 0.04061039999999949\n",
      "RMSE: 0.04061039999999949\n",
      "MAE Percent:  5.41718293313422\n",
      "Iteration:  39\n",
      "y_pred:  [0.6976104] y_test:  [[0.657]]\n",
      "TRAIN: [ 0  1  2  3  4  5  6  7  8  9 10 11 12 13 14 15 16 17 18 19 20 21 22 23\n",
      " 24 25 26 27 28 29 30 31 32 33 34 35 36 37 38 40 41 42 43 44 45 46 47 48\n",
      " 49 50 51 52 53 54 55 56 57 58 59 60 61 62 63 64 65 66 67 68 69 70 71 72\n",
      " 73 74 75 76 77 78 79 80 81 82 83 84 85 86 87 88 89 90] TEST: [39]\n"
     ]
    },
    {
     "name": "stderr",
     "output_type": "stream",
     "text": [
      "C:\\ProgramData\\Anaconda3\\lib\\site-packages\\ipykernel_launcher.py:209: DataConversionWarning: A column-vector y was passed when a 1d array was expected. Please change the shape of y to (n_samples,), for example using ravel().\n",
      "C:\\ProgramData\\Anaconda3\\lib\\site-packages\\ipykernel_launcher.py:209: DataConversionWarning: A column-vector y was passed when a 1d array was expected. Please change the shape of y to (n_samples,), for example using ravel().\n"
     ]
    },
    {
     "name": "stdout",
     "output_type": "stream",
     "text": [
      "Mean Absolute Error: 0.27998930000000044\n",
      "RMSE: 0.27998930000000044\n",
      "MAE Percent:  37.34888741357432\n",
      "Iteration:  40\n",
      "y_pred:  [1.0600107] y_test:  [[1.34]]\n",
      "TRAIN: [ 0  1  2  3  4  5  6  7  8  9 10 11 12 13 14 15 16 17 18 19 20 21 22 23\n",
      " 24 25 26 27 28 29 30 31 32 33 34 35 36 37 38 39 41 42 43 44 45 46 47 48\n",
      " 49 50 51 52 53 54 55 56 57 58 59 60 61 62 63 64 65 66 67 68 69 70 71 72\n",
      " 73 74 75 76 77 78 79 80 81 82 83 84 85 86 87 88 89 90] TEST: [40]\n",
      "Mean Absolute Error: 0.24706899999999987\n",
      "RMSE: 0.24706899999999987\n",
      "MAE Percent:  32.957517535078566\n",
      "Iteration:  41\n",
      "y_pred:  [1.224069] y_test:  [[0.977]]\n",
      "TRAIN: [ 0  1  2  3  4  5  6  7  8  9 10 11 12 13 14 15 16 17 18 19 20 21 22 23\n",
      " 24 25 26 27 28 29 30 31 32 33 34 35 36 37 38 39 40 42 43 44 45 46 47 48\n",
      " 49 50 51 52 53 54 55 56 57 58 59 60 61 62 63 64 65 66 67 68 69 70 71 72\n",
      " 73 74 75 76 77 78 79 80 81 82 83 84 85 86 87 88 89 90] TEST: [41]\n"
     ]
    },
    {
     "name": "stderr",
     "output_type": "stream",
     "text": [
      "C:\\ProgramData\\Anaconda3\\lib\\site-packages\\ipykernel_launcher.py:209: DataConversionWarning: A column-vector y was passed when a 1d array was expected. Please change the shape of y to (n_samples,), for example using ravel().\n",
      "C:\\ProgramData\\Anaconda3\\lib\\site-packages\\ipykernel_launcher.py:209: DataConversionWarning: A column-vector y was passed when a 1d array was expected. Please change the shape of y to (n_samples,), for example using ravel().\n"
     ]
    },
    {
     "name": "stdout",
     "output_type": "stream",
     "text": [
      "Mean Absolute Error: 0.09611249999999977\n",
      "RMSE: 0.09611249999999977\n",
      "MAE Percent:  12.820829015741483\n",
      "Iteration:  42\n",
      "y_pred:  [0.4121125] y_test:  [[0.316]]\n",
      "TRAIN: [ 0  1  2  3  4  5  6  7  8  9 10 11 12 13 14 15 16 17 18 19 20 21 22 23\n",
      " 24 25 26 27 28 29 30 31 32 33 34 35 36 37 38 39 40 41 43 44 45 46 47 48\n",
      " 49 50 51 52 53 54 55 56 57 58 59 60 61 62 63 64 65 66 67 68 69 70 71 72\n",
      " 73 74 75 76 77 78 79 80 81 82 83 84 85 86 87 88 89 90] TEST: [42]\n",
      "Mean Absolute Error: 0.793409\n",
      "RMSE: 0.793409\n",
      "MAE Percent:  105.83598521056534\n",
      "Iteration:  43\n",
      "y_pred:  [0.334591] y_test:  [[1.128]]\n",
      "TRAIN: [ 0  1  2  3  4  5  6  7  8  9 10 11 12 13 14 15 16 17 18 19 20 21 22 23\n",
      " 24 25 26 27 28 29 30 31 32 33 34 35 36 37 38 39 40 41 42 44 45 46 47 48\n",
      " 49 50 51 52 53 54 55 56 57 58 59 60 61 62 63 64 65 66 67 68 69 70 71 72\n",
      " 73 74 75 76 77 78 79 80 81 82 83 84 85 86 87 88 89 90] TEST: [43]\n"
     ]
    },
    {
     "name": "stderr",
     "output_type": "stream",
     "text": [
      "C:\\ProgramData\\Anaconda3\\lib\\site-packages\\ipykernel_launcher.py:209: DataConversionWarning: A column-vector y was passed when a 1d array was expected. Please change the shape of y to (n_samples,), for example using ravel().\n",
      "C:\\ProgramData\\Anaconda3\\lib\\site-packages\\ipykernel_launcher.py:209: DataConversionWarning: A column-vector y was passed when a 1d array was expected. Please change the shape of y to (n_samples,), for example using ravel().\n"
     ]
    },
    {
     "name": "stdout",
     "output_type": "stream",
     "text": [
      "Mean Absolute Error: 0.047484800000000105\n",
      "RMSE: 0.047484800000000105\n",
      "MAE Percent:  6.334186517327965\n",
      "Iteration:  44\n",
      "y_pred:  [0.8005152] y_test:  [[0.848]]\n",
      "TRAIN: [ 0  1  2  3  4  5  6  7  8  9 10 11 12 13 14 15 16 17 18 19 20 21 22 23\n",
      " 24 25 26 27 28 29 30 31 32 33 34 35 36 37 38 39 40 41 42 43 45 46 47 48\n",
      " 49 50 51 52 53 54 55 56 57 58 59 60 61 62 63 64 65 66 67 68 69 70 71 72\n",
      " 73 74 75 76 77 78 79 80 81 82 83 84 85 86 87 88 89 90] TEST: [44]\n",
      "Mean Absolute Error: 0.05217559999999988\n",
      "RMSE: 0.05217559999999988\n",
      "MAE Percent:  6.959911004226521\n",
      "Iteration:  45\n",
      "y_pred:  [0.9398244] y_test:  [[0.992]]\n",
      "TRAIN: [ 0  1  2  3  4  5  6  7  8  9 10 11 12 13 14 15 16 17 18 19 20 21 22 23\n",
      " 24 25 26 27 28 29 30 31 32 33 34 35 36 37 38 39 40 41 42 43 44 46 47 48\n",
      " 49 50 51 52 53 54 55 56 57 58 59 60 61 62 63 64 65 66 67 68 69 70 71 72\n",
      " 73 74 75 76 77 78 79 80 81 82 83 84 85 86 87 88 89 90] TEST: [45]\n"
     ]
    },
    {
     "name": "stderr",
     "output_type": "stream",
     "text": [
      "C:\\ProgramData\\Anaconda3\\lib\\site-packages\\ipykernel_launcher.py:209: DataConversionWarning: A column-vector y was passed when a 1d array was expected. Please change the shape of y to (n_samples,), for example using ravel().\n",
      "C:\\ProgramData\\Anaconda3\\lib\\site-packages\\ipykernel_launcher.py:209: DataConversionWarning: A column-vector y was passed when a 1d array was expected. Please change the shape of y to (n_samples,), for example using ravel().\n"
     ]
    },
    {
     "name": "stdout",
     "output_type": "stream",
     "text": [
      "Mean Absolute Error: 0.02964599999999995\n",
      "RMSE: 0.02964599999999995\n",
      "MAE Percent:  3.954597965932343\n",
      "Iteration:  46\n",
      "y_pred:  [0.680324] y_test:  [[0.70997]]\n",
      "TRAIN: [ 0  1  2  3  4  5  6  7  8  9 10 11 12 13 14 15 16 17 18 19 20 21 22 23\n",
      " 24 25 26 27 28 29 30 31 32 33 34 35 36 37 38 39 40 41 42 43 44 45 47 48\n",
      " 49 50 51 52 53 54 55 56 57 58 59 60 61 62 63 64 65 66 67 68 69 70 71 72\n",
      " 73 74 75 76 77 78 79 80 81 82 83 84 85 86 87 88 89 90] TEST: [46]\n",
      "Mean Absolute Error: 0.05203659999999988\n",
      "RMSE: 0.05203659999999988\n",
      "MAE Percent:  6.941369240843109\n",
      "Iteration:  47\n",
      "y_pred:  [0.8649634] y_test:  [[0.917]]\n",
      "TRAIN: [ 0  1  2  3  4  5  6  7  8  9 10 11 12 13 14 15 16 17 18 19 20 21 22 23\n",
      " 24 25 26 27 28 29 30 31 32 33 34 35 36 37 38 39 40 41 42 43 44 45 46 48\n",
      " 49 50 51 52 53 54 55 56 57 58 59 60 61 62 63 64 65 66 67 68 69 70 71 72\n",
      " 73 74 75 76 77 78 79 80 81 82 83 84 85 86 87 88 89 90] TEST: [47]\n"
     ]
    },
    {
     "name": "stderr",
     "output_type": "stream",
     "text": [
      "C:\\ProgramData\\Anaconda3\\lib\\site-packages\\ipykernel_launcher.py:209: DataConversionWarning: A column-vector y was passed when a 1d array was expected. Please change the shape of y to (n_samples,), for example using ravel().\n",
      "C:\\ProgramData\\Anaconda3\\lib\\site-packages\\ipykernel_launcher.py:209: DataConversionWarning: A column-vector y was passed when a 1d array was expected. Please change the shape of y to (n_samples,), for example using ravel().\n"
     ]
    },
    {
     "name": "stdout",
     "output_type": "stream",
     "text": [
      "Mean Absolute Error: 0.029495999999999994\n",
      "RMSE: 0.029495999999999994\n",
      "MAE Percent:  3.934588868756007\n",
      "Iteration:  48\n",
      "y_pred:  [0.161496] y_test:  [[0.132]]\n",
      "TRAIN: [ 0  1  2  3  4  5  6  7  8  9 10 11 12 13 14 15 16 17 18 19 20 21 22 23\n",
      " 24 25 26 27 28 29 30 31 32 33 34 35 36 37 38 39 40 41 42 43 44 45 46 47\n",
      " 49 50 51 52 53 54 55 56 57 58 59 60 61 62 63 64 65 66 67 68 69 70 71 72\n",
      " 73 74 75 76 77 78 79 80 81 82 83 84 85 86 87 88 89 90] TEST: [48]\n",
      "Mean Absolute Error: 0.4628839999999992\n",
      "RMSE: 0.4628839999999992\n",
      "MAE Percent:  61.74593958249432\n",
      "Iteration:  49\n",
      "y_pred:  [1.701884] y_test:  [[1.239]]\n",
      "TRAIN: [ 0  1  2  3  4  5  6  7  8  9 10 11 12 13 14 15 16 17 18 19 20 21 22 23\n",
      " 24 25 26 27 28 29 30 31 32 33 34 35 36 37 38 39 40 41 42 43 44 45 46 47\n",
      " 48 50 51 52 53 54 55 56 57 58 59 60 61 62 63 64 65 66 67 68 69 70 71 72\n",
      " 73 74 75 76 77 78 79 80 81 82 83 84 85 86 87 88 89 90] TEST: [49]\n"
     ]
    },
    {
     "name": "stderr",
     "output_type": "stream",
     "text": [
      "C:\\ProgramData\\Anaconda3\\lib\\site-packages\\ipykernel_launcher.py:209: DataConversionWarning: A column-vector y was passed when a 1d array was expected. Please change the shape of y to (n_samples,), for example using ravel().\n",
      "C:\\ProgramData\\Anaconda3\\lib\\site-packages\\ipykernel_launcher.py:209: DataConversionWarning: A column-vector y was passed when a 1d array was expected. Please change the shape of y to (n_samples,), for example using ravel().\n"
     ]
    },
    {
     "name": "stdout",
     "output_type": "stream",
     "text": [
      "Mean Absolute Error: 0.8637079999999993\n",
      "RMSE: 0.8637079999999993\n",
      "MAE Percent:  115.21344869322996\n",
      "Iteration:  50\n",
      "y_pred:  [1.747708] y_test:  [[0.884]]\n",
      "TRAIN: [ 0  1  2  3  4  5  6  7  8  9 10 11 12 13 14 15 16 17 18 19 20 21 22 23\n",
      " 24 25 26 27 28 29 30 31 32 33 34 35 36 37 38 39 40 41 42 43 44 45 46 47\n",
      " 48 49 51 52 53 54 55 56 57 58 59 60 61 62 63 64 65 66 67 68 69 70 71 72\n",
      " 73 74 75 76 77 78 79 80 81 82 83 84 85 86 87 88 89 90] TEST: [50]\n",
      "Mean Absolute Error: 0.14031900000000208\n",
      "RMSE: 0.14031900000000208\n",
      "MAE Percent:  18.717710044581718\n",
      "Iteration:  51\n",
      "y_pred:  [1.530681] y_test:  [[1.671]]\n",
      "TRAIN: [ 0  1  2  3  4  5  6  7  8  9 10 11 12 13 14 15 16 17 18 19 20 21 22 23\n",
      " 24 25 26 27 28 29 30 31 32 33 34 35 36 37 38 39 40 41 42 43 44 45 46 47\n",
      " 48 49 50 52 53 54 55 56 57 58 59 60 61 62 63 64 65 66 67 68 69 70 71 72\n",
      " 73 74 75 76 77 78 79 80 81 82 83 84 85 86 87 88 89 90] TEST: [51]\n"
     ]
    },
    {
     "name": "stderr",
     "output_type": "stream",
     "text": [
      "C:\\ProgramData\\Anaconda3\\lib\\site-packages\\ipykernel_launcher.py:209: DataConversionWarning: A column-vector y was passed when a 1d array was expected. Please change the shape of y to (n_samples,), for example using ravel().\n",
      "C:\\ProgramData\\Anaconda3\\lib\\site-packages\\ipykernel_launcher.py:209: DataConversionWarning: A column-vector y was passed when a 1d array was expected. Please change the shape of y to (n_samples,), for example using ravel().\n"
     ]
    },
    {
     "name": "stdout",
     "output_type": "stream",
     "text": [
      "Mean Absolute Error: 0.70878\n",
      "RMSE: 0.70878\n",
      "MAE Percent:  94.546985977654\n",
      "Iteration:  52\n",
      "y_pred:  [1.19278] y_test:  [[0.484]]\n",
      "TRAIN: [ 0  1  2  3  4  5  6  7  8  9 10 11 12 13 14 15 16 17 18 19 20 21 22 23\n",
      " 24 25 26 27 28 29 30 31 32 33 34 35 36 37 38 39 40 41 42 43 44 45 46 47\n",
      " 48 49 50 51 53 54 55 56 57 58 59 60 61 62 63 64 65 66 67 68 69 70 71 72\n",
      " 73 74 75 76 77 78 79 80 81 82 83 84 85 86 87 88 89 90] TEST: [52]\n",
      "Mean Absolute Error: 0.12551439999999997\n",
      "RMSE: 0.12551439999999997\n",
      "MAE Percent:  16.742865510868892\n",
      "Iteration:  53\n",
      "y_pred:  [0.2763144] y_test:  [[0.1508]]\n",
      "TRAIN: [ 0  1  2  3  4  5  6  7  8  9 10 11 12 13 14 15 16 17 18 19 20 21 22 23\n",
      " 24 25 26 27 28 29 30 31 32 33 34 35 36 37 38 39 40 41 42 43 44 45 46 47\n",
      " 48 49 50 51 52 54 55 56 57 58 59 60 61 62 63 64 65 66 67 68 69 70 71 72\n",
      " 73 74 75 76 77 78 79 80 81 82 83 84 85 86 87 88 89 90] TEST: [53]\n"
     ]
    },
    {
     "name": "stderr",
     "output_type": "stream",
     "text": [
      "C:\\ProgramData\\Anaconda3\\lib\\site-packages\\ipykernel_launcher.py:209: DataConversionWarning: A column-vector y was passed when a 1d array was expected. Please change the shape of y to (n_samples,), for example using ravel().\n",
      "C:\\ProgramData\\Anaconda3\\lib\\site-packages\\ipykernel_launcher.py:209: DataConversionWarning: A column-vector y was passed when a 1d array was expected. Please change the shape of y to (n_samples,), for example using ravel().\n"
     ]
    },
    {
     "name": "stdout",
     "output_type": "stream",
     "text": [
      "Mean Absolute Error: 0.8284399999999987\n",
      "RMSE: 0.8284399999999987\n",
      "MAE Percent:  110.50890976512821\n",
      "Iteration:  54\n",
      "y_pred:  [1.82224] y_test:  [[0.9938]]\n",
      "TRAIN: [ 0  1  2  3  4  5  6  7  8  9 10 11 12 13 14 15 16 17 18 19 20 21 22 23\n",
      " 24 25 26 27 28 29 30 31 32 33 34 35 36 37 38 39 40 41 42 43 44 45 46 47\n",
      " 48 49 50 51 52 53 55 56 57 58 59 60 61 62 63 64 65 66 67 68 69 70 71 72\n",
      " 73 74 75 76 77 78 79 80 81 82 83 84 85 86 87 88 89 90] TEST: [54]\n",
      "Mean Absolute Error: 0.03116800000000053\n",
      "RMSE: 0.03116800000000053\n",
      "MAE Percent:  4.15762360528171\n",
      "Iteration:  55\n",
      "y_pred:  [1.261168] y_test:  [[1.23]]\n",
      "TRAIN: [ 0  1  2  3  4  5  6  7  8  9 10 11 12 13 14 15 16 17 18 19 20 21 22 23\n",
      " 24 25 26 27 28 29 30 31 32 33 34 35 36 37 38 39 40 41 42 43 44 45 46 47\n",
      " 48 49 50 51 52 53 54 56 57 58 59 60 61 62 63 64 65 66 67 68 69 70 71 72\n",
      " 73 74 75 76 77 78 79 80 81 82 83 84 85 86 87 88 89 90] TEST: [55]\n"
     ]
    },
    {
     "name": "stderr",
     "output_type": "stream",
     "text": [
      "C:\\ProgramData\\Anaconda3\\lib\\site-packages\\ipykernel_launcher.py:209: DataConversionWarning: A column-vector y was passed when a 1d array was expected. Please change the shape of y to (n_samples,), for example using ravel().\n",
      "C:\\ProgramData\\Anaconda3\\lib\\site-packages\\ipykernel_launcher.py:209: DataConversionWarning: A column-vector y was passed when a 1d array was expected. Please change the shape of y to (n_samples,), for example using ravel().\n"
     ]
    },
    {
     "name": "stdout",
     "output_type": "stream",
     "text": [
      "Mean Absolute Error: 0.5226199999999995\n",
      "RMSE: 0.5226199999999995\n",
      "MAE Percent:  69.71436244200105\n",
      "Iteration:  56\n",
      "y_pred:  [1.44462] y_test:  [[0.922]]\n",
      "TRAIN: [ 0  1  2  3  4  5  6  7  8  9 10 11 12 13 14 15 16 17 18 19 20 21 22 23\n",
      " 24 25 26 27 28 29 30 31 32 33 34 35 36 37 38 39 40 41 42 43 44 45 46 47\n",
      " 48 49 50 51 52 53 54 55 57 58 59 60 61 62 63 64 65 66 67 68 69 70 71 72\n",
      " 73 74 75 76 77 78 79 80 81 82 83 84 85 86 87 88 89 90] TEST: [56]\n",
      "Mean Absolute Error: 0.00509300000000007\n",
      "RMSE: 0.00509300000000007\n",
      "MAE Percent:  0.6793755461274281\n",
      "Iteration:  57\n",
      "y_pred:  [0.320907] y_test:  [[0.326]]\n",
      "TRAIN: [ 0  1  2  3  4  5  6  7  8  9 10 11 12 13 14 15 16 17 18 19 20 21 22 23\n",
      " 24 25 26 27 28 29 30 31 32 33 34 35 36 37 38 39 40 41 42 43 44 45 46 47\n",
      " 48 49 50 51 52 53 54 55 56 58 59 60 61 62 63 64 65 66 67 68 69 70 71 72\n",
      " 73 74 75 76 77 78 79 80 81 82 83 84 85 86 87 88 89 90] TEST: [57]\n"
     ]
    },
    {
     "name": "stderr",
     "output_type": "stream",
     "text": [
      "C:\\ProgramData\\Anaconda3\\lib\\site-packages\\ipykernel_launcher.py:209: DataConversionWarning: A column-vector y was passed when a 1d array was expected. Please change the shape of y to (n_samples,), for example using ravel().\n",
      "C:\\ProgramData\\Anaconda3\\lib\\site-packages\\ipykernel_launcher.py:209: DataConversionWarning: A column-vector y was passed when a 1d array was expected. Please change the shape of y to (n_samples,), for example using ravel().\n"
     ]
    },
    {
     "name": "stdout",
     "output_type": "stream",
     "text": [
      "Mean Absolute Error: 0.0032639999999999336\n",
      "RMSE: 0.0032639999999999336\n",
      "MAE Percent:  0.435397954557206\n",
      "Iteration:  58\n",
      "y_pred:  [1.362736] y_test:  [[1.366]]\n",
      "TRAIN: [ 0  1  2  3  4  5  6  7  8  9 10 11 12 13 14 15 16 17 18 19 20 21 22 23\n",
      " 24 25 26 27 28 29 30 31 32 33 34 35 36 37 38 39 40 41 42 43 44 45 46 47\n",
      " 48 49 50 51 52 53 54 55 56 57 59 60 61 62 63 64 65 66 67 68 69 70 71 72\n",
      " 73 74 75 76 77 78 79 80 81 82 83 84 85 86 87 88 89 90] TEST: [58]\n",
      "Mean Absolute Error: 0.045652000000000005\n",
      "RMSE: 0.045652000000000005\n",
      "MAE Percent:  6.08970202862928\n",
      "Iteration:  59\n",
      "y_pred:  [0.045652] y_test:  [[0.]]\n",
      "TRAIN: [ 0  1  2  3  4  5  6  7  8  9 10 11 12 13 14 15 16 17 18 19 20 21 22 23\n",
      " 24 25 26 27 28 29 30 31 32 33 34 35 36 37 38 39 40 41 42 43 44 45 46 47\n",
      " 48 49 50 51 52 53 54 55 56 57 58 60 61 62 63 64 65 66 67 68 69 70 71 72\n",
      " 73 74 75 76 77 78 79 80 81 82 83 84 85 86 87 88 89 90] TEST: [59]\n"
     ]
    },
    {
     "name": "stderr",
     "output_type": "stream",
     "text": [
      "C:\\ProgramData\\Anaconda3\\lib\\site-packages\\ipykernel_launcher.py:209: DataConversionWarning: A column-vector y was passed when a 1d array was expected. Please change the shape of y to (n_samples,), for example using ravel().\n",
      "C:\\ProgramData\\Anaconda3\\lib\\site-packages\\ipykernel_launcher.py:209: DataConversionWarning: A column-vector y was passed when a 1d array was expected. Please change the shape of y to (n_samples,), for example using ravel().\n"
     ]
    },
    {
     "name": "stdout",
     "output_type": "stream",
     "text": [
      "Mean Absolute Error: 0.7605199999999999\n",
      "RMSE: 0.7605199999999999\n",
      "MAE Percent:  101.44879056368043\n",
      "Iteration:  60\n",
      "y_pred:  [1.33252] y_test:  [[0.572]]\n",
      "TRAIN: [ 0  1  2  3  4  5  6  7  8  9 10 11 12 13 14 15 16 17 18 19 20 21 22 23\n",
      " 24 25 26 27 28 29 30 31 32 33 34 35 36 37 38 39 40 41 42 43 44 45 46 47\n",
      " 48 49 50 51 52 53 54 55 56 57 58 59 61 62 63 64 65 66 67 68 69 70 71 72\n",
      " 73 74 75 76 77 78 79 80 81 82 83 84 85 86 87 88 89 90] TEST: [60]\n",
      "Mean Absolute Error: 0.4327430999999998\n",
      "RMSE: 0.4327430999999998\n",
      "MAE Percent:  57.725324935278245\n",
      "Iteration:  61\n",
      "y_pred:  [0.8137431] y_test:  [[0.381]]\n",
      "TRAIN: [ 0  1  2  3  4  5  6  7  8  9 10 11 12 13 14 15 16 17 18 19 20 21 22 23\n",
      " 24 25 26 27 28 29 30 31 32 33 34 35 36 37 38 39 40 41 42 43 44 45 46 47\n",
      " 48 49 50 51 52 53 54 55 56 57 58 59 60 62 63 64 65 66 67 68 69 70 71 72\n",
      " 73 74 75 76 77 78 79 80 81 82 83 84 85 86 87 88 89 90] TEST: [61]\n"
     ]
    },
    {
     "name": "stderr",
     "output_type": "stream",
     "text": [
      "C:\\ProgramData\\Anaconda3\\lib\\site-packages\\ipykernel_launcher.py:209: DataConversionWarning: A column-vector y was passed when a 1d array was expected. Please change the shape of y to (n_samples,), for example using ravel().\n",
      "C:\\ProgramData\\Anaconda3\\lib\\site-packages\\ipykernel_launcher.py:209: DataConversionWarning: A column-vector y was passed when a 1d array was expected. Please change the shape of y to (n_samples,), for example using ravel().\n"
     ]
    },
    {
     "name": "stdout",
     "output_type": "stream",
     "text": [
      "Mean Absolute Error: 0.09379399999999993\n",
      "RMSE: 0.09379399999999993\n",
      "MAE Percent:  12.511555070385839\n",
      "Iteration:  62\n",
      "y_pred:  [0.218794] y_test:  [[0.125]]\n",
      "TRAIN: [ 0  1  2  3  4  5  6  7  8  9 10 11 12 13 14 15 16 17 18 19 20 21 22 23\n",
      " 24 25 26 27 28 29 30 31 32 33 34 35 36 37 38 39 40 41 42 43 44 45 46 47\n",
      " 48 49 50 51 52 53 54 55 56 57 58 59 60 61 63 64 65 66 67 68 69 70 71 72\n",
      " 73 74 75 76 77 78 79 80 81 82 83 84 85 86 87 88 89 90] TEST: [62]\n",
      "Mean Absolute Error: 0.6977100000000005\n",
      "RMSE: 0.6977100000000005\n",
      "MAE Percent:  93.07031460604\n",
      "Iteration:  63\n",
      "y_pred:  [1.32329] y_test:  [[2.021]]\n",
      "TRAIN: [ 0  1  2  3  4  5  6  7  8  9 10 11 12 13 14 15 16 17 18 19 20 21 22 23\n",
      " 24 25 26 27 28 29 30 31 32 33 34 35 36 37 38 39 40 41 42 43 44 45 46 47\n",
      " 48 49 50 51 52 53 54 55 56 57 58 59 60 61 62 64 65 66 67 68 69 70 71 72\n",
      " 73 74 75 76 77 78 79 80 81 82 83 84 85 86 87 88 89 90] TEST: [63]\n"
     ]
    },
    {
     "name": "stderr",
     "output_type": "stream",
     "text": [
      "C:\\ProgramData\\Anaconda3\\lib\\site-packages\\ipykernel_launcher.py:209: DataConversionWarning: A column-vector y was passed when a 1d array was expected. Please change the shape of y to (n_samples,), for example using ravel().\n",
      "C:\\ProgramData\\Anaconda3\\lib\\site-packages\\ipykernel_launcher.py:209: DataConversionWarning: A column-vector y was passed when a 1d array was expected. Please change the shape of y to (n_samples,), for example using ravel().\n"
     ]
    },
    {
     "name": "stdout",
     "output_type": "stream",
     "text": [
      "Mean Absolute Error: 0.4073866000000005\n",
      "RMSE: 0.4073866000000005\n",
      "MAE Percent:  54.342920451598786\n",
      "Iteration:  64\n",
      "y_pred:  [0.8596134] y_test:  [[1.267]]\n",
      "TRAIN: [ 0  1  2  3  4  5  6  7  8  9 10 11 12 13 14 15 16 17 18 19 20 21 22 23\n",
      " 24 25 26 27 28 29 30 31 32 33 34 35 36 37 38 39 40 41 42 43 44 45 46 47\n",
      " 48 49 50 51 52 53 54 55 56 57 58 59 60 61 62 63 65 66 67 68 69 70 71 72\n",
      " 73 74 75 76 77 78 79 80 81 82 83 84 85 86 87 88 89 90] TEST: [64]\n",
      "Mean Absolute Error: 0.14983330000000006\n",
      "RMSE: 0.14983330000000006\n",
      "MAE Percent:  19.986860399680626\n",
      "Iteration:  65\n",
      "y_pred:  [0.5408667] y_test:  [[0.6907]]\n",
      "TRAIN: [ 0  1  2  3  4  5  6  7  8  9 10 11 12 13 14 15 16 17 18 19 20 21 22 23\n",
      " 24 25 26 27 28 29 30 31 32 33 34 35 36 37 38 39 40 41 42 43 44 45 46 47\n",
      " 48 49 50 51 52 53 54 55 56 57 58 59 60 61 62 63 64 66 67 68 69 70 71 72\n",
      " 73 74 75 76 77 78 79 80 81 82 83 84 85 86 87 88 89 90] TEST: [65]\n"
     ]
    },
    {
     "name": "stderr",
     "output_type": "stream",
     "text": [
      "C:\\ProgramData\\Anaconda3\\lib\\site-packages\\ipykernel_launcher.py:209: DataConversionWarning: A column-vector y was passed when a 1d array was expected. Please change the shape of y to (n_samples,), for example using ravel().\n",
      "C:\\ProgramData\\Anaconda3\\lib\\site-packages\\ipykernel_launcher.py:209: DataConversionWarning: A column-vector y was passed when a 1d array was expected. Please change the shape of y to (n_samples,), for example using ravel().\n"
     ]
    },
    {
     "name": "stdout",
     "output_type": "stream",
     "text": [
      "Mean Absolute Error: 0.031098000000000292\n",
      "RMSE: 0.031098000000000292\n",
      "MAE Percent:  4.148286026599385\n",
      "Iteration:  66\n",
      "y_pred:  [0.971798] y_test:  [[0.9407]]\n",
      "TRAIN: [ 0  1  2  3  4  5  6  7  8  9 10 11 12 13 14 15 16 17 18 19 20 21 22 23\n",
      " 24 25 26 27 28 29 30 31 32 33 34 35 36 37 38 39 40 41 42 43 44 45 46 47\n",
      " 48 49 50 51 52 53 54 55 56 57 58 59 60 61 62 63 64 65 67 68 69 70 71 72\n",
      " 73 74 75 76 77 78 79 80 81 82 83 84 85 86 87 88 89 90] TEST: [66]\n",
      "Mean Absolute Error: 0.01153899999999998\n",
      "RMSE: 0.01153899999999998\n",
      "MAE Percent:  1.5392331487854451\n",
      "Iteration:  67\n",
      "y_pred:  [0.110139] y_test:  [[0.0986]]\n",
      "TRAIN: [ 0  1  2  3  4  5  6  7  8  9 10 11 12 13 14 15 16 17 18 19 20 21 22 23\n",
      " 24 25 26 27 28 29 30 31 32 33 34 35 36 37 38 39 40 41 42 43 44 45 46 47\n",
      " 48 49 50 51 52 53 54 55 56 57 58 59 60 61 62 63 64 65 66 68 69 70 71 72\n",
      " 73 74 75 76 77 78 79 80 81 82 83 84 85 86 87 88 89 90] TEST: [67]\n"
     ]
    },
    {
     "name": "stderr",
     "output_type": "stream",
     "text": [
      "C:\\ProgramData\\Anaconda3\\lib\\site-packages\\ipykernel_launcher.py:209: DataConversionWarning: A column-vector y was passed when a 1d array was expected. Please change the shape of y to (n_samples,), for example using ravel().\n",
      "C:\\ProgramData\\Anaconda3\\lib\\site-packages\\ipykernel_launcher.py:209: DataConversionWarning: A column-vector y was passed when a 1d array was expected. Please change the shape of y to (n_samples,), for example using ravel().\n"
     ]
    },
    {
     "name": "stdout",
     "output_type": "stream",
     "text": [
      "Mean Absolute Error: 0.2538048\n",
      "RMSE: 0.2538048\n",
      "MAE Percent:  33.85603271348131\n",
      "Iteration:  68\n",
      "y_pred:  [0.2538048] y_test:  [[0.]]\n",
      "TRAIN: [ 0  1  2  3  4  5  6  7  8  9 10 11 12 13 14 15 16 17 18 19 20 21 22 23\n",
      " 24 25 26 27 28 29 30 31 32 33 34 35 36 37 38 39 40 41 42 43 44 45 46 47\n",
      " 48 49 50 51 52 53 54 55 56 57 58 59 60 61 62 63 64 65 66 67 69 70 71 72\n",
      " 73 74 75 76 77 78 79 80 81 82 83 84 85 86 87 88 89 90] TEST: [68]\n",
      "Mean Absolute Error: 0.03188400000000027\n",
      "RMSE: 0.03188400000000027\n",
      "MAE Percent:  4.253133695803418\n",
      "Iteration:  69\n",
      "y_pred:  [0.164116] y_test:  [[0.196]]\n",
      "TRAIN: [ 0  1  2  3  4  5  6  7  8  9 10 11 12 13 14 15 16 17 18 19 20 21 22 23\n",
      " 24 25 26 27 28 29 30 31 32 33 34 35 36 37 38 39 40 41 42 43 44 45 46 47\n",
      " 48 49 50 51 52 53 54 55 56 57 58 59 60 61 62 63 64 65 66 67 68 70 71 72\n",
      " 73 74 75 76 77 78 79 80 81 82 83 84 85 86 87 88 89 90] TEST: [69]\n"
     ]
    },
    {
     "name": "stderr",
     "output_type": "stream",
     "text": [
      "C:\\ProgramData\\Anaconda3\\lib\\site-packages\\ipykernel_launcher.py:209: DataConversionWarning: A column-vector y was passed when a 1d array was expected. Please change the shape of y to (n_samples,), for example using ravel().\n",
      "C:\\ProgramData\\Anaconda3\\lib\\site-packages\\ipykernel_launcher.py:209: DataConversionWarning: A column-vector y was passed when a 1d array was expected. Please change the shape of y to (n_samples,), for example using ravel().\n"
     ]
    },
    {
     "name": "stdout",
     "output_type": "stream",
     "text": [
      "Mean Absolute Error: 0.14425060000000023\n",
      "RMSE: 0.14425060000000023\n",
      "MAE Percent:  19.24216182097153\n",
      "Iteration:  70\n",
      "y_pred:  [0.7807494] y_test:  [[0.925]]\n",
      "TRAIN: [ 0  1  2  3  4  5  6  7  8  9 10 11 12 13 14 15 16 17 18 19 20 21 22 23\n",
      " 24 25 26 27 28 29 30 31 32 33 34 35 36 37 38 39 40 41 42 43 44 45 46 47\n",
      " 48 49 50 51 52 53 54 55 56 57 58 59 60 61 62 63 64 65 66 67 68 69 71 72\n",
      " 73 74 75 76 77 78 79 80 81 82 83 84 85 86 87 88 89 90] TEST: [70]\n",
      "Mean Absolute Error: 0.029572300000000107\n",
      "RMSE: 0.029572300000000107\n",
      "MAE Percent:  3.9447668295197214\n",
      "Iteration:  71\n",
      "y_pred:  [0.3144277] y_test:  [[0.344]]\n",
      "TRAIN: [ 0  1  2  3  4  5  6  7  8  9 10 11 12 13 14 15 16 17 18 19 20 21 22 23\n",
      " 24 25 26 27 28 29 30 31 32 33 34 35 36 37 38 39 40 41 42 43 44 45 46 47\n",
      " 48 49 50 51 52 53 54 55 56 57 58 59 60 61 62 63 64 65 66 67 68 69 70 72\n",
      " 73 74 75 76 77 78 79 80 81 82 83 84 85 86 87 88 89 90] TEST: [71]\n"
     ]
    },
    {
     "name": "stderr",
     "output_type": "stream",
     "text": [
      "C:\\ProgramData\\Anaconda3\\lib\\site-packages\\ipykernel_launcher.py:209: DataConversionWarning: A column-vector y was passed when a 1d array was expected. Please change the shape of y to (n_samples,), for example using ravel().\n",
      "C:\\ProgramData\\Anaconda3\\lib\\site-packages\\ipykernel_launcher.py:209: DataConversionWarning: A column-vector y was passed when a 1d array was expected. Please change the shape of y to (n_samples,), for example using ravel().\n"
     ]
    },
    {
     "name": "stdout",
     "output_type": "stream",
     "text": [
      "Mean Absolute Error: 0.10314599999999993\n",
      "RMSE: 0.10314599999999993\n",
      "MAE Percent:  13.75905558234021\n",
      "Iteration:  72\n",
      "y_pred:  [0.152854] y_test:  [[0.256]]\n",
      "TRAIN: [ 0  1  2  3  4  5  6  7  8  9 10 11 12 13 14 15 16 17 18 19 20 21 22 23\n",
      " 24 25 26 27 28 29 30 31 32 33 34 35 36 37 38 39 40 41 42 43 44 45 46 47\n",
      " 48 49 50 51 52 53 54 55 56 57 58 59 60 61 62 63 64 65 66 67 68 69 70 71\n",
      " 73 74 75 76 77 78 79 80 81 82 83 84 85 86 87 88 89 90] TEST: [72]\n",
      "Mean Absolute Error: 0.2176420000000001\n",
      "RMSE: 0.2176420000000001\n",
      "MAE Percent:  29.03213285102371\n",
      "Iteration:  73\n",
      "y_pred:  [0.987342] y_test:  [[0.7697]]\n",
      "TRAIN: [ 0  1  2  3  4  5  6  7  8  9 10 11 12 13 14 15 16 17 18 19 20 21 22 23\n",
      " 24 25 26 27 28 29 30 31 32 33 34 35 36 37 38 39 40 41 42 43 44 45 46 47\n",
      " 48 49 50 51 52 53 54 55 56 57 58 59 60 61 62 63 64 65 66 67 68 69 70 71\n",
      " 72 74 75 76 77 78 79 80 81 82 83 84 85 86 87 88 89 90] TEST: [73]\n"
     ]
    },
    {
     "name": "stderr",
     "output_type": "stream",
     "text": [
      "C:\\ProgramData\\Anaconda3\\lib\\site-packages\\ipykernel_launcher.py:209: DataConversionWarning: A column-vector y was passed when a 1d array was expected. Please change the shape of y to (n_samples,), for example using ravel().\n",
      "C:\\ProgramData\\Anaconda3\\lib\\site-packages\\ipykernel_launcher.py:209: DataConversionWarning: A column-vector y was passed when a 1d array was expected. Please change the shape of y to (n_samples,), for example using ravel().\n"
     ]
    },
    {
     "name": "stdout",
     "output_type": "stream",
     "text": [
      "Mean Absolute Error: 0.06318400000000013\n",
      "RMSE: 0.06318400000000013\n",
      "MAE Percent:  8.428365306600218\n",
      "Iteration:  74\n",
      "y_pred:  [1.012184] y_test:  [[0.949]]\n",
      "TRAIN: [ 0  1  2  3  4  5  6  7  8  9 10 11 12 13 14 15 16 17 18 19 20 21 22 23\n",
      " 24 25 26 27 28 29 30 31 32 33 34 35 36 37 38 39 40 41 42 43 44 45 46 47\n",
      " 48 49 50 51 52 53 54 55 56 57 58 59 60 61 62 63 64 65 66 67 68 69 70 71\n",
      " 72 73 75 76 77 78 79 80 81 82 83 84 85 86 87 88 89 90] TEST: [74]\n",
      "Mean Absolute Error: 0.38301800000000075\n",
      "RMSE: 0.38301800000000075\n",
      "MAE Percent:  51.09229588192268\n",
      "Iteration:  75\n",
      "y_pred:  [1.636982] y_test:  [[2.02]]\n",
      "TRAIN: [ 0  1  2  3  4  5  6  7  8  9 10 11 12 13 14 15 16 17 18 19 20 21 22 23\n",
      " 24 25 26 27 28 29 30 31 32 33 34 35 36 37 38 39 40 41 42 43 44 45 46 47\n",
      " 48 49 50 51 52 53 54 55 56 57 58 59 60 61 62 63 64 65 66 67 68 69 70 71\n",
      " 72 73 74 76 77 78 79 80 81 82 83 84 85 86 87 88 89 90] TEST: [75]\n"
     ]
    },
    {
     "name": "stderr",
     "output_type": "stream",
     "text": [
      "C:\\ProgramData\\Anaconda3\\lib\\site-packages\\ipykernel_launcher.py:209: DataConversionWarning: A column-vector y was passed when a 1d array was expected. Please change the shape of y to (n_samples,), for example using ravel().\n",
      "C:\\ProgramData\\Anaconda3\\lib\\site-packages\\ipykernel_launcher.py:209: DataConversionWarning: A column-vector y was passed when a 1d array was expected. Please change the shape of y to (n_samples,), for example using ravel().\n"
     ]
    },
    {
     "name": "stdout",
     "output_type": "stream",
     "text": [
      "Mean Absolute Error: 0.03051809999999988\n",
      "RMSE: 0.03051809999999988\n",
      "MAE Percent:  4.07093085691559\n",
      "Iteration:  76\n",
      "y_pred:  [0.5775181] y_test:  [[0.547]]\n",
      "TRAIN: [ 0  1  2  3  4  5  6  7  8  9 10 11 12 13 14 15 16 17 18 19 20 21 22 23\n",
      " 24 25 26 27 28 29 30 31 32 33 34 35 36 37 38 39 40 41 42 43 44 45 46 47\n",
      " 48 49 50 51 52 53 54 55 56 57 58 59 60 61 62 63 64 65 66 67 68 69 70 71\n",
      " 72 73 74 75 77 78 79 80 81 82 83 84 85 86 87 88 89 90] TEST: [76]\n",
      "Mean Absolute Error: 0.13737299999999886\n",
      "RMSE: 0.13737299999999886\n",
      "MAE Percent:  18.32473137603792\n",
      "Iteration:  77\n",
      "y_pred:  [1.447373] y_test:  [[1.31]]\n",
      "TRAIN: [ 0  1  2  3  4  5  6  7  8  9 10 11 12 13 14 15 16 17 18 19 20 21 22 23\n",
      " 24 25 26 27 28 29 30 31 32 33 34 35 36 37 38 39 40 41 42 43 44 45 46 47\n",
      " 48 49 50 51 52 53 54 55 56 57 58 59 60 61 62 63 64 65 66 67 68 69 70 71\n",
      " 72 73 74 75 76 78 79 80 81 82 83 84 85 86 87 88 89 90] TEST: [77]\n"
     ]
    },
    {
     "name": "stderr",
     "output_type": "stream",
     "text": [
      "C:\\ProgramData\\Anaconda3\\lib\\site-packages\\ipykernel_launcher.py:209: DataConversionWarning: A column-vector y was passed when a 1d array was expected. Please change the shape of y to (n_samples,), for example using ravel().\n",
      "C:\\ProgramData\\Anaconda3\\lib\\site-packages\\ipykernel_launcher.py:209: DataConversionWarning: A column-vector y was passed when a 1d array was expected. Please change the shape of y to (n_samples,), for example using ravel().\n"
     ]
    },
    {
     "name": "stdout",
     "output_type": "stream",
     "text": [
      "Mean Absolute Error: 0.15063500000000002\n",
      "RMSE: 0.15063500000000002\n",
      "MAE Percent:  20.093802354389112\n",
      "Iteration:  78\n",
      "y_pred:  [0.279265] y_test:  [[0.4299]]\n",
      "TRAIN: [ 0  1  2  3  4  5  6  7  8  9 10 11 12 13 14 15 16 17 18 19 20 21 22 23\n",
      " 24 25 26 27 28 29 30 31 32 33 34 35 36 37 38 39 40 41 42 43 44 45 46 47\n",
      " 48 49 50 51 52 53 54 55 56 57 58 59 60 61 62 63 64 65 66 67 68 69 70 71\n",
      " 72 73 74 75 76 77 79 80 81 82 83 84 85 86 87 88 89 90] TEST: [78]\n",
      "Mean Absolute Error: 0.16164499999999996\n",
      "RMSE: 0.16164499999999996\n",
      "MAE Percent:  21.56247008713265\n",
      "Iteration:  79\n",
      "y_pred:  [0.161645] y_test:  [[0.]]\n",
      "TRAIN: [ 0  1  2  3  4  5  6  7  8  9 10 11 12 13 14 15 16 17 18 19 20 21 22 23\n",
      " 24 25 26 27 28 29 30 31 32 33 34 35 36 37 38 39 40 41 42 43 44 45 46 47\n",
      " 48 49 50 51 52 53 54 55 56 57 58 59 60 61 62 63 64 65 66 67 68 69 70 71\n",
      " 72 73 74 75 76 77 78 80 81 82 83 84 85 86 87 88 89 90] TEST: [79]\n"
     ]
    },
    {
     "name": "stderr",
     "output_type": "stream",
     "text": [
      "C:\\ProgramData\\Anaconda3\\lib\\site-packages\\ipykernel_launcher.py:209: DataConversionWarning: A column-vector y was passed when a 1d array was expected. Please change the shape of y to (n_samples,), for example using ravel().\n",
      "C:\\ProgramData\\Anaconda3\\lib\\site-packages\\ipykernel_launcher.py:209: DataConversionWarning: A column-vector y was passed when a 1d array was expected. Please change the shape of y to (n_samples,), for example using ravel().\n"
     ]
    },
    {
     "name": "stdout",
     "output_type": "stream",
     "text": [
      "Mean Absolute Error: 0.02189000000000002\n",
      "RMSE: 0.02189000000000002\n",
      "MAE Percent:  2.9199942479342647\n",
      "Iteration:  80\n",
      "y_pred:  [0.25411] y_test:  [[0.276]]\n",
      "TRAIN: [ 0  1  2  3  4  5  6  7  8  9 10 11 12 13 14 15 16 17 18 19 20 21 22 23\n",
      " 24 25 26 27 28 29 30 31 32 33 34 35 36 37 38 39 40 41 42 43 44 45 46 47\n",
      " 48 49 50 51 52 53 54 55 56 57 58 59 60 61 62 63 64 65 66 67 68 69 70 71\n",
      " 72 73 74 75 76 77 78 79 81 82 83 84 85 86 87 88 89 90] TEST: [80]\n",
      "Mean Absolute Error: 0.10127199999999936\n",
      "RMSE: 0.10127199999999936\n",
      "MAE Percent:  13.50907526161703\n",
      "Iteration:  81\n",
      "y_pred:  [1.308272] y_test:  [[1.207]]\n",
      "TRAIN: [ 0  1  2  3  4  5  6  7  8  9 10 11 12 13 14 15 16 17 18 19 20 21 22 23\n",
      " 24 25 26 27 28 29 30 31 32 33 34 35 36 37 38 39 40 41 42 43 44 45 46 47\n",
      " 48 49 50 51 52 53 54 55 56 57 58 59 60 61 62 63 64 65 66 67 68 69 70 71\n",
      " 72 73 74 75 76 77 78 79 80 82 83 84 85 86 87 88 89 90] TEST: [81]\n"
     ]
    },
    {
     "name": "stderr",
     "output_type": "stream",
     "text": [
      "C:\\ProgramData\\Anaconda3\\lib\\site-packages\\ipykernel_launcher.py:209: DataConversionWarning: A column-vector y was passed when a 1d array was expected. Please change the shape of y to (n_samples,), for example using ravel().\n",
      "C:\\ProgramData\\Anaconda3\\lib\\site-packages\\ipykernel_launcher.py:209: DataConversionWarning: A column-vector y was passed when a 1d array was expected. Please change the shape of y to (n_samples,), for example using ravel().\n"
     ]
    },
    {
     "name": "stdout",
     "output_type": "stream",
     "text": [
      "Mean Absolute Error: 0.8838780000000013\n",
      "RMSE: 0.8838780000000013\n",
      "MAE Percent:  117.90400529354241\n",
      "Iteration:  82\n",
      "y_pred:  [1.640122] y_test:  [[2.524]]\n",
      "TRAIN: [ 0  1  2  3  4  5  6  7  8  9 10 11 12 13 14 15 16 17 18 19 20 21 22 23\n",
      " 24 25 26 27 28 29 30 31 32 33 34 35 36 37 38 39 40 41 42 43 44 45 46 47\n",
      " 48 49 50 51 52 53 54 55 56 57 58 59 60 61 62 63 64 65 66 67 68 69 70 71\n",
      " 72 73 74 75 76 77 78 79 80 81 83 84 85 86 87 88 89 90] TEST: [82]\n",
      "Mean Absolute Error: 0.6580680000000003\n",
      "RMSE: 0.6580680000000003\n",
      "MAE Percent:  87.78231040427616\n",
      "Iteration:  83\n",
      "y_pred:  [1.404932] y_test:  [[2.063]]\n",
      "TRAIN: [ 0  1  2  3  4  5  6  7  8  9 10 11 12 13 14 15 16 17 18 19 20 21 22 23\n",
      " 24 25 26 27 28 29 30 31 32 33 34 35 36 37 38 39 40 41 42 43 44 45 46 47\n",
      " 48 49 50 51 52 53 54 55 56 57 58 59 60 61 62 63 64 65 66 67 68 69 70 71\n",
      " 72 73 74 75 76 77 78 79 80 81 82 84 85 86 87 88 89 90] TEST: [83]\n"
     ]
    },
    {
     "name": "stderr",
     "output_type": "stream",
     "text": [
      "C:\\ProgramData\\Anaconda3\\lib\\site-packages\\ipykernel_launcher.py:209: DataConversionWarning: A column-vector y was passed when a 1d array was expected. Please change the shape of y to (n_samples,), for example using ravel().\n",
      "C:\\ProgramData\\Anaconda3\\lib\\site-packages\\ipykernel_launcher.py:209: DataConversionWarning: A column-vector y was passed when a 1d array was expected. Please change the shape of y to (n_samples,), for example using ravel().\n"
     ]
    },
    {
     "name": "stdout",
     "output_type": "stream",
     "text": [
      "Mean Absolute Error: 0.2819975999999998\n",
      "RMSE: 0.2819975999999998\n",
      "MAE Percent:  37.61678254596922\n",
      "Iteration:  84\n",
      "y_pred:  [0.6649976] y_test:  [[0.383]]\n",
      "TRAIN: [ 0  1  2  3  4  5  6  7  8  9 10 11 12 13 14 15 16 17 18 19 20 21 22 23\n",
      " 24 25 26 27 28 29 30 31 32 33 34 35 36 37 38 39 40 41 42 43 44 45 46 47\n",
      " 48 49 50 51 52 53 54 55 56 57 58 59 60 61 62 63 64 65 66 67 68 69 70 71\n",
      " 72 73 74 75 76 77 78 79 80 81 82 83 85 86 87 88 89 90] TEST: [84]\n",
      "Mean Absolute Error: 0.11653770000000004\n",
      "RMSE: 0.11653770000000004\n",
      "MAE Percent:  15.545427760049737\n",
      "Iteration:  85\n",
      "y_pred:  [0.1165377] y_test:  [[0.]]\n",
      "TRAIN: [ 0  1  2  3  4  5  6  7  8  9 10 11 12 13 14 15 16 17 18 19 20 21 22 23\n",
      " 24 25 26 27 28 29 30 31 32 33 34 35 36 37 38 39 40 41 42 43 44 45 46 47\n",
      " 48 49 50 51 52 53 54 55 56 57 58 59 60 61 62 63 64 65 66 67 68 69 70 71\n",
      " 72 73 74 75 76 77 78 79 80 81 82 83 84 86 87 88 89 90] TEST: [85]\n"
     ]
    },
    {
     "name": "stderr",
     "output_type": "stream",
     "text": [
      "C:\\ProgramData\\Anaconda3\\lib\\site-packages\\ipykernel_launcher.py:209: DataConversionWarning: A column-vector y was passed when a 1d array was expected. Please change the shape of y to (n_samples,), for example using ravel().\n",
      "C:\\ProgramData\\Anaconda3\\lib\\site-packages\\ipykernel_launcher.py:209: DataConversionWarning: A column-vector y was passed when a 1d array was expected. Please change the shape of y to (n_samples,), for example using ravel().\n"
     ]
    },
    {
     "name": "stdout",
     "output_type": "stream",
     "text": [
      "Mean Absolute Error: 0.042683000000000026\n",
      "RMSE: 0.042683000000000026\n",
      "MAE Percent:  5.693655298518876\n",
      "Iteration:  86\n",
      "y_pred:  [0.224317] y_test:  [[0.267]]\n",
      "TRAIN: [ 0  1  2  3  4  5  6  7  8  9 10 11 12 13 14 15 16 17 18 19 20 21 22 23\n",
      " 24 25 26 27 28 29 30 31 32 33 34 35 36 37 38 39 40 41 42 43 44 45 46 47\n",
      " 48 49 50 51 52 53 54 55 56 57 58 59 60 61 62 63 64 65 66 67 68 69 70 71\n",
      " 72 73 74 75 76 77 78 79 80 81 82 83 84 85 87 88 89 90] TEST: [86]\n",
      "Mean Absolute Error: 0.4755971999999996\n",
      "RMSE: 0.4755971999999996\n",
      "MAE Percent:  63.44180394397624\n",
      "Iteration:  87\n",
      "y_pred:  [0.7944028] y_test:  [[1.27]]\n",
      "TRAIN: [ 0  1  2  3  4  5  6  7  8  9 10 11 12 13 14 15 16 17 18 19 20 21 22 23\n",
      " 24 25 26 27 28 29 30 31 32 33 34 35 36 37 38 39 40 41 42 43 44 45 46 47\n",
      " 48 49 50 51 52 53 54 55 56 57 58 59 60 61 62 63 64 65 66 67 68 69 70 71\n",
      " 72 73 74 75 76 77 78 79 80 81 82 83 84 85 86 88 89 90] TEST: [87]\n"
     ]
    },
    {
     "name": "stderr",
     "output_type": "stream",
     "text": [
      "C:\\ProgramData\\Anaconda3\\lib\\site-packages\\ipykernel_launcher.py:209: DataConversionWarning: A column-vector y was passed when a 1d array was expected. Please change the shape of y to (n_samples,), for example using ravel().\n",
      "C:\\ProgramData\\Anaconda3\\lib\\site-packages\\ipykernel_launcher.py:209: DataConversionWarning: A column-vector y was passed when a 1d array was expected. Please change the shape of y to (n_samples,), for example using ravel().\n"
     ]
    },
    {
     "name": "stdout",
     "output_type": "stream",
     "text": [
      "Mean Absolute Error: 0.017447000000000018\n",
      "RMSE: 0.017447000000000018\n",
      "MAE Percent:  2.327324789570997\n",
      "Iteration:  88\n",
      "y_pred:  [0.079553] y_test:  [[0.097]]\n",
      "TRAIN: [ 0  1  2  3  4  5  6  7  8  9 10 11 12 13 14 15 16 17 18 19 20 21 22 23\n",
      " 24 25 26 27 28 29 30 31 32 33 34 35 36 37 38 39 40 41 42 43 44 45 46 47\n",
      " 48 49 50 51 52 53 54 55 56 57 58 59 60 61 62 63 64 65 66 67 68 69 70 71\n",
      " 72 73 74 75 76 77 78 79 80 81 82 83 84 85 86 87 89 90] TEST: [88]\n",
      "Mean Absolute Error: 0.01033900000000032\n",
      "RMSE: 0.01033900000000032\n",
      "MAE Percent:  1.3791603713747498\n",
      "Iteration:  89\n",
      "y_pred:  [1.121661] y_test:  [[1.132]]\n",
      "TRAIN: [ 0  1  2  3  4  5  6  7  8  9 10 11 12 13 14 15 16 17 18 19 20 21 22 23\n",
      " 24 25 26 27 28 29 30 31 32 33 34 35 36 37 38 39 40 41 42 43 44 45 46 47\n",
      " 48 49 50 51 52 53 54 55 56 57 58 59 60 61 62 63 64 65 66 67 68 69 70 71\n",
      " 72 73 74 75 76 77 78 79 80 81 82 83 84 85 86 87 88 90] TEST: [89]\n"
     ]
    },
    {
     "name": "stderr",
     "output_type": "stream",
     "text": [
      "C:\\ProgramData\\Anaconda3\\lib\\site-packages\\ipykernel_launcher.py:209: DataConversionWarning: A column-vector y was passed when a 1d array was expected. Please change the shape of y to (n_samples,), for example using ravel().\n",
      "C:\\ProgramData\\Anaconda3\\lib\\site-packages\\ipykernel_launcher.py:209: DataConversionWarning: A column-vector y was passed when a 1d array was expected. Please change the shape of y to (n_samples,), for example using ravel().\n"
     ]
    },
    {
     "name": "stdout",
     "output_type": "stream",
     "text": [
      "Mean Absolute Error: 0.09591400000000028\n",
      "RMSE: 0.09591400000000028\n",
      "MAE Percent:  12.794350310478192\n",
      "Iteration:  90\n",
      "y_pred:  [1.471086] y_test:  [[1.567]]\n",
      "TRAIN: [ 0  1  2  3  4  5  6  7  8  9 10 11 12 13 14 15 16 17 18 19 20 21 22 23\n",
      " 24 25 26 27 28 29 30 31 32 33 34 35 36 37 38 39 40 41 42 43 44 45 46 47\n",
      " 48 49 50 51 52 53 54 55 56 57 58 59 60 61 62 63 64 65 66 67 68 69 70 71\n",
      " 72 73 74 75 76 77 78 79 80 81 82 83 84 85 86 87 88 89] TEST: [90]\n",
      "Mean Absolute Error: 0.3912739999999999\n",
      "RMSE: 0.3912739999999999\n",
      "MAE Percent:  52.19359659050846\n",
      "Iteration:  91\n",
      "y_pred:  [1.201726] y_test:  [[1.593]]\n",
      "RMSE: [0.2918672 0.7973448 0.102151  0.2938455 0.0232419 0.029656  0.236881\n",
      " 0.126428  0.1079246 0.3357291 0.05475   0.0227593 0.048407  0.046707\n",
      " 0.024688  0.273197  0.071102  0.2988664 0.127091  0.031316  0.1999779\n",
      " 0.076269  0.0452427 0.147263  0.043721  0.0325867 0.0234097 0.1424807\n",
      " 0.0916146 0.08236   0.0564123 0.271796  0.794381  0.5250579 0.081851\n",
      " 0.062991  0.3181351 0.004242  0.0406104 0.2799893 0.247069  0.0961125\n",
      " 0.793409  0.0474848 0.0521756 0.029646  0.0520366 0.029496  0.462884\n",
      " 0.863708  0.140319  0.70878   0.1255144 0.82844   0.031168  0.52262\n",
      " 0.005093  0.003264  0.045652  0.76052   0.4327431 0.093794  0.69771\n",
      " 0.4073866 0.1498333 0.031098  0.011539  0.2538048 0.031884  0.1442506\n",
      " 0.0295723 0.103146  0.217642  0.063184  0.383018  0.0305181 0.137373\n",
      " 0.150635  0.161645  0.02189   0.101272  0.883878  0.658068  0.2819976\n",
      " 0.1165377 0.042683  0.4755972 0.017447  0.010339  0.095914  0.391274 ]\n",
      "MAE: [0.2918672 0.7973448 0.102151  0.2938455 0.0232419 0.029656  0.236881\n",
      " 0.126428  0.1079246 0.3357291 0.05475   0.0227593 0.048407  0.046707\n",
      " 0.024688  0.273197  0.071102  0.2988664 0.127091  0.031316  0.1999779\n",
      " 0.076269  0.0452427 0.147263  0.043721  0.0325867 0.0234097 0.1424807\n",
      " 0.0916146 0.08236   0.0564123 0.271796  0.794381  0.5250579 0.081851\n",
      " 0.062991  0.3181351 0.004242  0.0406104 0.2799893 0.247069  0.0961125\n",
      " 0.793409  0.0474848 0.0521756 0.029646  0.0520366 0.029496  0.462884\n",
      " 0.863708  0.140319  0.70878   0.1255144 0.82844   0.031168  0.52262\n",
      " 0.005093  0.003264  0.045652  0.76052   0.4327431 0.093794  0.69771\n",
      " 0.4073866 0.1498333 0.031098  0.011539  0.2538048 0.031884  0.1442506\n",
      " 0.0295723 0.103146  0.217642  0.063184  0.383018  0.0305181 0.137373\n",
      " 0.150635  0.161645  0.02189   0.101272  0.883878  0.658068  0.2819976\n",
      " 0.1165377 0.042683  0.4755972 0.017447  0.010339  0.095914  0.391274 ]\n",
      "MAE Percent: [ 38.93332778 106.36099724  13.62632857  39.1972211    3.10032957\n",
      "   3.95593191  31.59849965  16.86473425  14.39649206  44.78424125\n",
      "   7.30332047   3.03595364   6.45720245   6.23043268   3.29323061\n",
      "  36.44283548   9.48457885  39.86697894  16.95317446   4.17736591\n",
      "  26.67584823  10.17382555   6.03510387  19.64399785   5.83211825\n",
      "   4.34686965   3.12271308  19.00606781  12.22083623  10.98632829\n",
      "   7.52506128  36.25595051 105.96564416  70.03956363  10.91843075\n",
      "   8.40262027  42.43730754   0.56585727   5.41718293  37.34888741\n",
      "  32.95751754  12.82082902 105.83598521   6.33418652   6.959911\n",
      "   3.95459797   6.94136924   3.93458887  61.74593958 115.21344869\n",
      "  18.71771004  94.54698598  16.74286551 110.50890977   4.15762361\n",
      "  69.71436244   0.67937555   0.43539795   6.08970203 101.44879056\n",
      "  57.72532494  12.51155507  93.07031461  54.34292045  19.9868604\n",
      "   4.14828603   1.53923315  33.85603271   4.2531337   19.24216182\n",
      "   3.94476683  13.75905558  29.03213285   8.42836531  51.09229588\n",
      "   4.07093086  18.32473138  20.09380235  21.56247009   2.91999425\n",
      "  13.50907526 117.90400529  87.7823104   37.61678255  15.54542776\n",
      "   5.6936553   63.44180394   2.32732479   1.37916037  12.79435031\n",
      "  52.19359659]\n",
      "Average RMSE: 0.21030121208791203 +- 0.23821488889958012\n",
      "Average MAE: 0.21030121208791203 +- 0.23821488889958012\n",
      "Average MAE Percent: 28.05291592646444 +- 31.77643240562235\n",
      "3\n",
      "    Sub_ID Sub_Type  Cut_Off_Time  FIM  FIM_M  BBS  MWT10_SSV  MWT10_FV  \\\n",
      "556   CVA2   CVA_AD            60   85     56   38      0.595     0.771   \n",
      "557   CVA4   CVA_AD            60   44     24    3      0.000     0.000   \n",
      "558   CVA5   CVA_AD            60   62     34    6      0.000     0.000   \n",
      "559   CVA6   CVA_AD            60   57     35   16      0.783     0.000   \n",
      "560   CVA9   CVA_AD            60   71     49   37      0.917     1.166   \n",
      "..     ...      ...           ...  ...    ...  ...        ...       ...   \n",
      "642  CVA51   CVA_DC            60   89     59   37      1.270     2.149   \n",
      "643  CVA52   CVA_DC            60   61     40    4      0.097     0.000   \n",
      "644  CVA53   CVA_DC            60   90     64   38      1.132     1.591   \n",
      "645  CVA54   CVA_DC            60   94     66   44      1.567     2.258   \n",
      "646  CVA55   CVA_DC            60  120     89   51      1.593     2.992   \n",
      "\n",
      "         MWT6      TUG  ...  DLS_L_Acc_z_PSD_mean  DLS_L_Acc_z_PSD_std  \\\n",
      "556  193.1210  26.9930  ...              0.002632             0.002837   \n",
      "557  233.0196   0.0000  ...              0.001878             0.005541   \n",
      "558   23.0000   0.0000  ...              0.000922             0.004190   \n",
      "559  124.9700  47.5180  ...              0.001891             0.002734   \n",
      "560  152.4600  26.3015  ...              0.002023             0.002391   \n",
      "..        ...      ...  ...                   ...                  ...   \n",
      "642  273.7600  16.6300  ...              0.002799             0.002565   \n",
      "643   10.5500   0.0000  ...              0.000494             0.001826   \n",
      "644  228.8800  19.7830  ...              0.002717             0.003530   \n",
      "645  345.3400  12.1980  ...              0.001778             0.003660   \n",
      "646  295.8850   8.5103  ...              0.002046             0.004230   \n",
      "\n",
      "     DLS_L_Acc_z_PSD_skew  DLS_L_Acc_z_PSD_kurtosis  DLS_L_Acc_norm_DAmp  \\\n",
      "556             38.482202               2389.123896             2.013804   \n",
      "557             65.206423               4978.423068             2.083472   \n",
      "558             56.011452               3766.428967             1.864244   \n",
      "559             52.247620               3675.391060             1.925899   \n",
      "560             16.746425                635.773186             1.965702   \n",
      "..                    ...                       ...                  ...   \n",
      "642             21.016757               1035.520523             2.034716   \n",
      "643             62.694025               4709.090140             1.825397   \n",
      "644             44.863545               3011.513622             2.040907   \n",
      "645             50.851446               3526.410255             2.142695   \n",
      "646             50.617479               3537.372605             2.447730   \n",
      "\n",
      "     DLS_L_Acc_norm_DFreq  DLS_L_Acc_norm_PSD_mean  DLS_L_Acc_norm_PSD_std  \\\n",
      "556                     0                 0.013421                0.064053   \n",
      "557                     0                 0.012172                0.066704   \n",
      "558                     0                 0.014044                0.059153   \n",
      "559                     0                 0.018295                0.061243   \n",
      "560                     0                 0.010020                0.063061   \n",
      "..                    ...                      ...                     ...   \n",
      "642                     0                 0.013349                0.064714   \n",
      "643                     0                 0.005448                0.058140   \n",
      "644                     0                 0.013643                0.065673   \n",
      "645                     0                 0.012389                0.069790   \n",
      "646                     0                 0.017778                0.080728   \n",
      "\n",
      "     DLS_L_Acc_norm_PSD_skew  DLS_L_Acc_norm_PSD_kurtosis  \n",
      "556                29.835776                   930.027705  \n",
      "557                29.337780                   909.035970  \n",
      "558                29.970304                   935.797364  \n",
      "559                29.591453                   920.259857  \n",
      "560                29.231042                   904.405172  \n",
      "..                       ...                          ...  \n",
      "642                29.849691                   930.669641  \n",
      "643                30.051831                   938.728004  \n",
      "644                28.829712                   887.775291  \n",
      "645                27.940964                   848.988271  \n",
      "646                26.833337                   802.858276  \n",
      "\n",
      "[91 rows x 352 columns]\n",
      "TRAIN: [ 1  2  3  4  5  6  7  8  9 10 11 12 13 14 15 16 17 18 19 20 21 22 23 24\n",
      " 25 26 27 28 29 30 31 32 33 34 35 36 37 38 39 40 41 42 43 44 45 46 47 48\n",
      " 49 50 51 52 53 54 55 56 57 58 59 60 61 62 63 64 65 66 67 68 69 70 71 72\n",
      " 73 74 75 76 77 78 79 80 81 82 83 84 85 86 87 88 89 90] TEST: [0]\n"
     ]
    },
    {
     "name": "stderr",
     "output_type": "stream",
     "text": [
      "C:\\ProgramData\\Anaconda3\\lib\\site-packages\\ipykernel_launcher.py:209: DataConversionWarning: A column-vector y was passed when a 1d array was expected. Please change the shape of y to (n_samples,), for example using ravel().\n",
      "C:\\ProgramData\\Anaconda3\\lib\\site-packages\\ipykernel_launcher.py:209: DataConversionWarning: A column-vector y was passed when a 1d array was expected. Please change the shape of y to (n_samples,), for example using ravel().\n"
     ]
    },
    {
     "name": "stdout",
     "output_type": "stream",
     "text": [
      "Mean Absolute Error: 0.34280080000000035\n",
      "RMSE: 0.34280080000000035\n",
      "MAE Percent:  45.72756346218659\n",
      "Iteration:  1\n",
      "y_pred:  [0.9378008] y_test:  [[0.595]]\n",
      "TRAIN: [ 0  2  3  4  5  6  7  8  9 10 11 12 13 14 15 16 17 18 19 20 21 22 23 24\n",
      " 25 26 27 28 29 30 31 32 33 34 35 36 37 38 39 40 41 42 43 44 45 46 47 48\n",
      " 49 50 51 52 53 54 55 56 57 58 59 60 61 62 63 64 65 66 67 68 69 70 71 72\n",
      " 73 74 75 76 77 78 79 80 81 82 83 84 85 86 87 88 89 90] TEST: [1]\n",
      "Mean Absolute Error: 0.8775951999999999\n",
      "RMSE: 0.8775951999999999\n",
      "MAE Percent:  117.06591758861207\n",
      "Iteration:  2\n",
      "y_pred:  [0.8775952] y_test:  [[0.]]\n",
      "TRAIN: [ 0  1  3  4  5  6  7  8  9 10 11 12 13 14 15 16 17 18 19 20 21 22 23 24\n",
      " 25 26 27 28 29 30 31 32 33 34 35 36 37 38 39 40 41 42 43 44 45 46 47 48\n",
      " 49 50 51 52 53 54 55 56 57 58 59 60 61 62 63 64 65 66 67 68 69 70 71 72\n",
      " 73 74 75 76 77 78 79 80 81 82 83 84 85 86 87 88 89 90] TEST: [2]\n"
     ]
    },
    {
     "name": "stderr",
     "output_type": "stream",
     "text": [
      "C:\\ProgramData\\Anaconda3\\lib\\site-packages\\ipykernel_launcher.py:209: DataConversionWarning: A column-vector y was passed when a 1d array was expected. Please change the shape of y to (n_samples,), for example using ravel().\n",
      "C:\\ProgramData\\Anaconda3\\lib\\site-packages\\ipykernel_launcher.py:209: DataConversionWarning: A column-vector y was passed when a 1d array was expected. Please change the shape of y to (n_samples,), for example using ravel().\n"
     ]
    },
    {
     "name": "stdout",
     "output_type": "stream",
     "text": [
      "Mean Absolute Error: 0.11282799999999998\n",
      "RMSE: 0.11282799999999998\n",
      "MAE Percent:  15.050576108082545\n",
      "Iteration:  3\n",
      "y_pred:  [0.112828] y_test:  [[0.]]\n",
      "TRAIN: [ 0  1  2  4  5  6  7  8  9 10 11 12 13 14 15 16 17 18 19 20 21 22 23 24\n",
      " 25 26 27 28 29 30 31 32 33 34 35 36 37 38 39 40 41 42 43 44 45 46 47 48\n",
      " 49 50 51 52 53 54 55 56 57 58 59 60 61 62 63 64 65 66 67 68 69 70 71 72\n",
      " 73 74 75 76 77 78 79 80 81 82 83 84 85 86 87 88 89 90] TEST: [3]\n",
      "Mean Absolute Error: 0.2582903\n",
      "RMSE: 0.2582903\n",
      "MAE Percent:  34.45437141604454\n",
      "Iteration:  4\n",
      "y_pred:  [0.5247097] y_test:  [[0.783]]\n",
      "TRAIN: [ 0  1  2  3  5  6  7  8  9 10 11 12 13 14 15 16 17 18 19 20 21 22 23 24\n",
      " 25 26 27 28 29 30 31 32 33 34 35 36 37 38 39 40 41 42 43 44 45 46 47 48\n",
      " 49 50 51 52 53 54 55 56 57 58 59 60 61 62 63 64 65 66 67 68 69 70 71 72\n",
      " 73 74 75 76 77 78 79 80 81 82 83 84 85 86 87 88 89 90] TEST: [4]\n"
     ]
    },
    {
     "name": "stderr",
     "output_type": "stream",
     "text": [
      "C:\\ProgramData\\Anaconda3\\lib\\site-packages\\ipykernel_launcher.py:209: DataConversionWarning: A column-vector y was passed when a 1d array was expected. Please change the shape of y to (n_samples,), for example using ravel().\n",
      "C:\\ProgramData\\Anaconda3\\lib\\site-packages\\ipykernel_launcher.py:209: DataConversionWarning: A column-vector y was passed when a 1d array was expected. Please change the shape of y to (n_samples,), for example using ravel().\n"
     ]
    },
    {
     "name": "stdout",
     "output_type": "stream",
     "text": [
      "Mean Absolute Error: 0.06736489999999995\n",
      "RMSE: 0.06736489999999995\n",
      "MAE Percent:  8.986072202497333\n",
      "Iteration:  5\n",
      "y_pred:  [0.8496351] y_test:  [[0.917]]\n",
      "TRAIN: [ 0  1  2  3  4  6  7  8  9 10 11 12 13 14 15 16 17 18 19 20 21 22 23 24\n",
      " 25 26 27 28 29 30 31 32 33 34 35 36 37 38 39 40 41 42 43 44 45 46 47 48\n",
      " 49 50 51 52 53 54 55 56 57 58 59 60 61 62 63 64 65 66 67 68 69 70 71 72\n",
      " 73 74 75 76 77 78 79 80 81 82 83 84 85 86 87 88 89 90] TEST: [5]\n",
      "Mean Absolute Error: 0.030861999999999876\n",
      "RMSE: 0.030861999999999876\n",
      "MAE Percent:  4.116805047041884\n",
      "Iteration:  6\n",
      "y_pred:  [0.117262] y_test:  [[0.0864]]\n",
      "TRAIN: [ 0  1  2  3  4  5  7  8  9 10 11 12 13 14 15 16 17 18 19 20 21 22 23 24\n",
      " 25 26 27 28 29 30 31 32 33 34 35 36 37 38 39 40 41 42 43 44 45 46 47 48\n",
      " 49 50 51 52 53 54 55 56 57 58 59 60 61 62 63 64 65 66 67 68 69 70 71 72\n",
      " 73 74 75 76 77 78 79 80 81 82 83 84 85 86 87 88 89 90] TEST: [6]\n"
     ]
    },
    {
     "name": "stderr",
     "output_type": "stream",
     "text": [
      "C:\\ProgramData\\Anaconda3\\lib\\site-packages\\ipykernel_launcher.py:209: DataConversionWarning: A column-vector y was passed when a 1d array was expected. Please change the shape of y to (n_samples,), for example using ravel().\n",
      "C:\\ProgramData\\Anaconda3\\lib\\site-packages\\ipykernel_launcher.py:209: DataConversionWarning: A column-vector y was passed when a 1d array was expected. Please change the shape of y to (n_samples,), for example using ravel().\n"
     ]
    },
    {
     "name": "stdout",
     "output_type": "stream",
     "text": [
      "Mean Absolute Error: 0.18366099999999963\n",
      "RMSE: 0.18366099999999963\n",
      "MAE Percent:  24.499271976694995\n",
      "Iteration:  7\n",
      "y_pred:  [1.282661] y_test:  [[1.099]]\n",
      "TRAIN: [ 0  1  2  3  4  5  6  8  9 10 11 12 13 14 15 16 17 18 19 20 21 22 23 24\n",
      " 25 26 27 28 29 30 31 32 33 34 35 36 37 38 39 40 41 42 43 44 45 46 47 48\n",
      " 49 50 51 52 53 54 55 56 57 58 59 60 61 62 63 64 65 66 67 68 69 70 71 72\n",
      " 73 74 75 76 77 78 79 80 81 82 83 84 85 86 87 88 89 90] TEST: [7]\n",
      "Mean Absolute Error: 0.17966000000000037\n",
      "RMSE: 0.17966000000000037\n",
      "MAE Percent:  23.96556265801145\n",
      "Iteration:  8\n",
      "y_pred:  [1.34666] y_test:  [[1.167]]\n",
      "TRAIN: [ 0  1  2  3  4  5  6  7  9 10 11 12 13 14 15 16 17 18 19 20 21 22 23 24\n",
      " 25 26 27 28 29 30 31 32 33 34 35 36 37 38 39 40 41 42 43 44 45 46 47 48\n",
      " 49 50 51 52 53 54 55 56 57 58 59 60 61 62 63 64 65 66 67 68 69 70 71 72\n",
      " 73 74 75 76 77 78 79 80 81 82 83 84 85 86 87 88 89 90] TEST: [8]\n"
     ]
    },
    {
     "name": "stderr",
     "output_type": "stream",
     "text": [
      "C:\\ProgramData\\Anaconda3\\lib\\site-packages\\ipykernel_launcher.py:209: DataConversionWarning: A column-vector y was passed when a 1d array was expected. Please change the shape of y to (n_samples,), for example using ravel().\n",
      "C:\\ProgramData\\Anaconda3\\lib\\site-packages\\ipykernel_launcher.py:209: DataConversionWarning: A column-vector y was passed when a 1d array was expected. Please change the shape of y to (n_samples,), for example using ravel().\n"
     ]
    },
    {
     "name": "stdout",
     "output_type": "stream",
     "text": [
      "Mean Absolute Error: 0.13532300000000003\n",
      "RMSE: 0.13532300000000003\n",
      "MAE Percent:  18.05127371462806\n",
      "Iteration:  9\n",
      "y_pred:  [0.295177] y_test:  [[0.4305]]\n",
      "TRAIN: [ 0  1  2  3  4  5  6  7  8 10 11 12 13 14 15 16 17 18 19 20 21 22 23 24\n",
      " 25 26 27 28 29 30 31 32 33 34 35 36 37 38 39 40 41 42 43 44 45 46 47 48\n",
      " 49 50 51 52 53 54 55 56 57 58 59 60 61 62 63 64 65 66 67 68 69 70 71 72\n",
      " 73 74 75 76 77 78 79 80 81 82 83 84 85 86 87 88 89 90] TEST: [9]\n",
      "Mean Absolute Error: 0.4205791000000004\n",
      "RMSE: 0.4205791000000004\n",
      "MAE Percent:  56.10272054825811\n",
      "Iteration:  10\n",
      "y_pred:  [0.9575791] y_test:  [[0.537]]\n",
      "TRAIN: [ 0  1  2  3  4  5  6  7  8  9 11 12 13 14 15 16 17 18 19 20 21 22 23 24\n",
      " 25 26 27 28 29 30 31 32 33 34 35 36 37 38 39 40 41 42 43 44 45 46 47 48\n",
      " 49 50 51 52 53 54 55 56 57 58 59 60 61 62 63 64 65 66 67 68 69 70 71 72\n",
      " 73 74 75 76 77 78 79 80 81 82 83 84 85 86 87 88 89 90] TEST: [10]\n"
     ]
    },
    {
     "name": "stderr",
     "output_type": "stream",
     "text": [
      "C:\\ProgramData\\Anaconda3\\lib\\site-packages\\ipykernel_launcher.py:209: DataConversionWarning: A column-vector y was passed when a 1d array was expected. Please change the shape of y to (n_samples,), for example using ravel().\n",
      "C:\\ProgramData\\Anaconda3\\lib\\site-packages\\ipykernel_launcher.py:209: DataConversionWarning: A column-vector y was passed when a 1d array was expected. Please change the shape of y to (n_samples,), for example using ravel().\n"
     ]
    },
    {
     "name": "stdout",
     "output_type": "stream",
     "text": [
      "Mean Absolute Error: 0.07890599999999985\n",
      "RMSE: 0.07890599999999985\n",
      "MAE Percent:  10.525585478643237\n",
      "Iteration:  11\n",
      "y_pred:  [0.181906] y_test:  [[0.103]]\n",
      "TRAIN: [ 0  1  2  3  4  5  6  7  8  9 10 12 13 14 15 16 17 18 19 20 21 22 23 24\n",
      " 25 26 27 28 29 30 31 32 33 34 35 36 37 38 39 40 41 42 43 44 45 46 47 48\n",
      " 49 50 51 52 53 54 55 56 57 58 59 60 61 62 63 64 65 66 67 68 69 70 71 72\n",
      " 73 74 75 76 77 78 79 80 81 82 83 84 85 86 87 88 89 90] TEST: [11]\n",
      "Mean Absolute Error: 0.0959978999999993\n",
      "RMSE: 0.0959978999999993\n",
      "MAE Percent:  12.805542065498695\n",
      "Iteration:  12\n",
      "y_pred:  [0.9750021] y_test:  [[1.071]]\n",
      "TRAIN: [ 0  1  2  3  4  5  6  7  8  9 10 11 13 14 15 16 17 18 19 20 21 22 23 24\n",
      " 25 26 27 28 29 30 31 32 33 34 35 36 37 38 39 40 41 42 43 44 45 46 47 48\n",
      " 49 50 51 52 53 54 55 56 57 58 59 60 61 62 63 64 65 66 67 68 69 70 71 72\n",
      " 73 74 75 76 77 78 79 80 81 82 83 84 85 86 87 88 89 90] TEST: [12]\n"
     ]
    },
    {
     "name": "stderr",
     "output_type": "stream",
     "text": [
      "C:\\ProgramData\\Anaconda3\\lib\\site-packages\\ipykernel_launcher.py:209: DataConversionWarning: A column-vector y was passed when a 1d array was expected. Please change the shape of y to (n_samples,), for example using ravel().\n",
      "C:\\ProgramData\\Anaconda3\\lib\\site-packages\\ipykernel_launcher.py:209: DataConversionWarning: A column-vector y was passed when a 1d array was expected. Please change the shape of y to (n_samples,), for example using ravel().\n"
     ]
    },
    {
     "name": "stdout",
     "output_type": "stream",
     "text": [
      "Mean Absolute Error: 0.07424800000000009\n",
      "RMSE: 0.07424800000000009\n",
      "MAE Percent:  9.904236314327244\n",
      "Iteration:  13\n",
      "y_pred:  [1.304248] y_test:  [[1.23]]\n",
      "TRAIN: [ 0  1  2  3  4  5  6  7  8  9 10 11 12 14 15 16 17 18 19 20 21 22 23 24\n",
      " 25 26 27 28 29 30 31 32 33 34 35 36 37 38 39 40 41 42 43 44 45 46 47 48\n",
      " 49 50 51 52 53 54 55 56 57 58 59 60 61 62 63 64 65 66 67 68 69 70 71 72\n",
      " 73 74 75 76 77 78 79 80 81 82 83 84 85 86 87 88 89 90] TEST: [13]\n",
      "Mean Absolute Error: 0.021452700000000435\n",
      "RMSE: 0.021452700000000435\n",
      "MAE Percent:  2.861661059966223\n",
      "Iteration:  14\n",
      "y_pred:  [1.0374527] y_test:  [[1.016]]\n",
      "TRAIN: [ 0  1  2  3  4  5  6  7  8  9 10 11 12 13 15 16 17 18 19 20 21 22 23 24\n",
      " 25 26 27 28 29 30 31 32 33 34 35 36 37 38 39 40 41 42 43 44 45 46 47 48\n",
      " 49 50 51 52 53 54 55 56 57 58 59 60 61 62 63 64 65 66 67 68 69 70 71 72\n",
      " 73 74 75 76 77 78 79 80 81 82 83 84 85 86 87 88 89 90] TEST: [14]\n"
     ]
    },
    {
     "name": "stderr",
     "output_type": "stream",
     "text": [
      "C:\\ProgramData\\Anaconda3\\lib\\site-packages\\ipykernel_launcher.py:209: DataConversionWarning: A column-vector y was passed when a 1d array was expected. Please change the shape of y to (n_samples,), for example using ravel().\n",
      "C:\\ProgramData\\Anaconda3\\lib\\site-packages\\ipykernel_launcher.py:209: DataConversionWarning: A column-vector y was passed when a 1d array was expected. Please change the shape of y to (n_samples,), for example using ravel().\n"
     ]
    },
    {
     "name": "stdout",
     "output_type": "stream",
     "text": [
      "Mean Absolute Error: 0.030312000000000283\n",
      "RMSE: 0.030312000000000283\n",
      "MAE Percent:  4.043438357395349\n",
      "Iteration:  15\n",
      "y_pred:  [0.295688] y_test:  [[0.326]]\n",
      "TRAIN: [ 0  1  2  3  4  5  6  7  8  9 10 11 12 13 14 16 17 18 19 20 21 22 23 24\n",
      " 25 26 27 28 29 30 31 32 33 34 35 36 37 38 39 40 41 42 43 44 45 46 47 48\n",
      " 49 50 51 52 53 54 55 56 57 58 59 60 61 62 63 64 65 66 67 68 69 70 71 72\n",
      " 73 74 75 76 77 78 79 80 81 82 83 84 85 86 87 88 89 90] TEST: [15]\n",
      "Mean Absolute Error: 0.22059599999999935\n",
      "RMSE: 0.22059599999999935\n",
      "MAE Percent:  29.42617867141638\n",
      "Iteration:  16\n",
      "y_pred:  [1.401596] y_test:  [[1.181]]\n",
      "TRAIN: [ 0  1  2  3  4  5  6  7  8  9 10 11 12 13 14 15 17 18 19 20 21 22 23 24\n",
      " 25 26 27 28 29 30 31 32 33 34 35 36 37 38 39 40 41 42 43 44 45 46 47 48\n",
      " 49 50 51 52 53 54 55 56 57 58 59 60 61 62 63 64 65 66 67 68 69 70 71 72\n",
      " 73 74 75 76 77 78 79 80 81 82 83 84 85 86 87 88 89 90] TEST: [16]\n"
     ]
    },
    {
     "name": "stderr",
     "output_type": "stream",
     "text": [
      "C:\\ProgramData\\Anaconda3\\lib\\site-packages\\ipykernel_launcher.py:209: DataConversionWarning: A column-vector y was passed when a 1d array was expected. Please change the shape of y to (n_samples,), for example using ravel().\n",
      "C:\\ProgramData\\Anaconda3\\lib\\site-packages\\ipykernel_launcher.py:209: DataConversionWarning: A column-vector y was passed when a 1d array was expected. Please change the shape of y to (n_samples,), for example using ravel().\n"
     ]
    },
    {
     "name": "stdout",
     "output_type": "stream",
     "text": [
      "Mean Absolute Error: 0.06560899999999997\n",
      "RMSE: 0.06560899999999997\n",
      "MAE Percent:  8.75184571095107\n",
      "Iteration:  17\n",
      "y_pred:  [0.065609] y_test:  [[0.]]\n",
      "TRAIN: [ 0  1  2  3  4  5  6  7  8  9 10 11 12 13 14 15 16 18 19 20 21 22 23 24\n",
      " 25 26 27 28 29 30 31 32 33 34 35 36 37 38 39 40 41 42 43 44 45 46 47 48\n",
      " 49 50 51 52 53 54 55 56 57 58 59 60 61 62 63 64 65 66 67 68 69 70 71 72\n",
      " 73 74 75 76 77 78 79 80 81 82 83 84 85 86 87 88 89 90] TEST: [17]\n",
      "Mean Absolute Error: 0.29847909999999994\n",
      "RMSE: 0.29847909999999994\n",
      "MAE Percent:  39.815315446715175\n",
      "Iteration:  18\n",
      "y_pred:  [0.5064791] y_test:  [[0.208]]\n",
      "TRAIN: [ 0  1  2  3  4  5  6  7  8  9 10 11 12 13 14 15 16 17 19 20 21 22 23 24\n",
      " 25 26 27 28 29 30 31 32 33 34 35 36 37 38 39 40 41 42 43 44 45 46 47 48\n",
      " 49 50 51 52 53 54 55 56 57 58 59 60 61 62 63 64 65 66 67 68 69 70 71 72\n",
      " 73 74 75 76 77 78 79 80 81 82 83 84 85 86 87 88 89 90] TEST: [18]\n"
     ]
    },
    {
     "name": "stderr",
     "output_type": "stream",
     "text": [
      "C:\\ProgramData\\Anaconda3\\lib\\site-packages\\ipykernel_launcher.py:209: DataConversionWarning: A column-vector y was passed when a 1d array was expected. Please change the shape of y to (n_samples,), for example using ravel().\n",
      "C:\\ProgramData\\Anaconda3\\lib\\site-packages\\ipykernel_launcher.py:209: DataConversionWarning: A column-vector y was passed when a 1d array was expected. Please change the shape of y to (n_samples,), for example using ravel().\n"
     ]
    },
    {
     "name": "stdout",
     "output_type": "stream",
     "text": [
      "Mean Absolute Error: 0.12480099999999994\n",
      "RMSE: 0.12480099999999994\n",
      "MAE Percent:  16.647702244698202\n",
      "Iteration:  19\n",
      "y_pred:  [0.124801] y_test:  [[0.]]\n",
      "TRAIN: [ 0  1  2  3  4  5  6  7  8  9 10 11 12 13 14 15 16 17 18 20 21 22 23 24\n",
      " 25 26 27 28 29 30 31 32 33 34 35 36 37 38 39 40 41 42 43 44 45 46 47 48\n",
      " 49 50 51 52 53 54 55 56 57 58 59 60 61 62 63 64 65 66 67 68 69 70 71 72\n",
      " 73 74 75 76 77 78 79 80 81 82 83 84 85 86 87 88 89 90] TEST: [19]\n",
      "Mean Absolute Error: 0.06124599999999969\n",
      "RMSE: 0.06124599999999969\n",
      "MAE Percent:  8.169847771081814\n",
      "Iteration:  20\n",
      "y_pred:  [1.608246] y_test:  [[1.547]]\n",
      "TRAIN: [ 0  1  2  3  4  5  6  7  8  9 10 11 12 13 14 15 16 17 18 19 21 22 23 24\n",
      " 25 26 27 28 29 30 31 32 33 34 35 36 37 38 39 40 41 42 43 44 45 46 47 48\n",
      " 49 50 51 52 53 54 55 56 57 58 59 60 61 62 63 64 65 66 67 68 69 70 71 72\n",
      " 73 74 75 76 77 78 79 80 81 82 83 84 85 86 87 88 89 90] TEST: [20]\n"
     ]
    },
    {
     "name": "stderr",
     "output_type": "stream",
     "text": [
      "C:\\ProgramData\\Anaconda3\\lib\\site-packages\\ipykernel_launcher.py:209: DataConversionWarning: A column-vector y was passed when a 1d array was expected. Please change the shape of y to (n_samples,), for example using ravel().\n",
      "C:\\ProgramData\\Anaconda3\\lib\\site-packages\\ipykernel_launcher.py:209: DataConversionWarning: A column-vector y was passed when a 1d array was expected. Please change the shape of y to (n_samples,), for example using ravel().\n"
     ]
    },
    {
     "name": "stdout",
     "output_type": "stream",
     "text": [
      "Mean Absolute Error: 0.1216489999999999\n",
      "RMSE: 0.1216489999999999\n",
      "MAE Percent:  16.22724441603265\n",
      "Iteration:  21\n",
      "y_pred:  [0.549351] y_test:  [[0.671]]\n",
      "TRAIN: [ 0  1  2  3  4  5  6  7  8  9 10 11 12 13 14 15 16 17 18 19 20 22 23 24\n",
      " 25 26 27 28 29 30 31 32 33 34 35 36 37 38 39 40 41 42 43 44 45 46 47 48\n",
      " 49 50 51 52 53 54 55 56 57 58 59 60 61 62 63 64 65 66 67 68 69 70 71 72\n",
      " 73 74 75 76 77 78 79 80 81 82 83 84 85 86 87 88 89 90] TEST: [21]\n",
      "Mean Absolute Error: 0.0743129999999999\n",
      "RMSE: 0.0743129999999999\n",
      "MAE Percent:  9.912906923103634\n",
      "Iteration:  22\n",
      "y_pred:  [0.240313] y_test:  [[0.166]]\n",
      "TRAIN: [ 0  1  2  3  4  5  6  7  8  9 10 11 12 13 14 15 16 17 18 19 20 21 23 24\n",
      " 25 26 27 28 29 30 31 32 33 34 35 36 37 38 39 40 41 42 43 44 45 46 47 48\n",
      " 49 50 51 52 53 54 55 56 57 58 59 60 61 62 63 64 65 66 67 68 69 70 71 72\n",
      " 73 74 75 76 77 78 79 80 81 82 83 84 85 86 87 88 89 90] TEST: [22]\n"
     ]
    },
    {
     "name": "stderr",
     "output_type": "stream",
     "text": [
      "C:\\ProgramData\\Anaconda3\\lib\\site-packages\\ipykernel_launcher.py:209: DataConversionWarning: A column-vector y was passed when a 1d array was expected. Please change the shape of y to (n_samples,), for example using ravel().\n",
      "C:\\ProgramData\\Anaconda3\\lib\\site-packages\\ipykernel_launcher.py:209: DataConversionWarning: A column-vector y was passed when a 1d array was expected. Please change the shape of y to (n_samples,), for example using ravel().\n"
     ]
    },
    {
     "name": "stdout",
     "output_type": "stream",
     "text": [
      "Mean Absolute Error: 0.005406599999999928\n",
      "RMSE: 0.005406599999999928\n",
      "MAE Percent:  0.7212078986240827\n",
      "Iteration:  23\n",
      "y_pred:  [0.9645934] y_test:  [[0.97]]\n",
      "TRAIN: [ 0  1  2  3  4  5  6  7  8  9 10 11 12 13 14 15 16 17 18 19 20 21 22 24\n",
      " 25 26 27 28 29 30 31 32 33 34 35 36 37 38 39 40 41 42 43 44 45 46 47 48\n",
      " 49 50 51 52 53 54 55 56 57 58 59 60 61 62 63 64 65 66 67 68 69 70 71 72\n",
      " 73 74 75 76 77 78 79 80 81 82 83 84 85 86 87 88 89 90] TEST: [23]\n",
      "Mean Absolute Error: 0.07525699999999996\n",
      "RMSE: 0.07525699999999996\n",
      "MAE Percent:  10.038830841333425\n",
      "Iteration:  24\n",
      "y_pred:  [0.075257] y_test:  [[0.]]\n",
      "TRAIN: [ 0  1  2  3  4  5  6  7  8  9 10 11 12 13 14 15 16 17 18 19 20 21 22 23\n",
      " 25 26 27 28 29 30 31 32 33 34 35 36 37 38 39 40 41 42 43 44 45 46 47 48\n",
      " 49 50 51 52 53 54 55 56 57 58 59 60 61 62 63 64 65 66 67 68 69 70 71 72\n",
      " 73 74 75 76 77 78 79 80 81 82 83 84 85 86 87 88 89 90] TEST: [24]\n"
     ]
    },
    {
     "name": "stderr",
     "output_type": "stream",
     "text": [
      "C:\\ProgramData\\Anaconda3\\lib\\site-packages\\ipykernel_launcher.py:209: DataConversionWarning: A column-vector y was passed when a 1d array was expected. Please change the shape of y to (n_samples,), for example using ravel().\n",
      "C:\\ProgramData\\Anaconda3\\lib\\site-packages\\ipykernel_launcher.py:209: DataConversionWarning: A column-vector y was passed when a 1d array was expected. Please change the shape of y to (n_samples,), for example using ravel().\n"
     ]
    },
    {
     "name": "stdout",
     "output_type": "stream",
     "text": [
      "Mean Absolute Error: 0.04109400000000024\n",
      "RMSE: 0.04109400000000024\n",
      "MAE Percent:  5.481692262430848\n",
      "Iteration:  25\n",
      "y_pred:  [0.154906] y_test:  [[0.196]]\n",
      "TRAIN: [ 0  1  2  3  4  5  6  7  8  9 10 11 12 13 14 15 16 17 18 19 20 21 22 23\n",
      " 24 26 27 28 29 30 31 32 33 34 35 36 37 38 39 40 41 42 43 44 45 46 47 48\n",
      " 49 50 51 52 53 54 55 56 57 58 59 60 61 62 63 64 65 66 67 68 69 70 71 72\n",
      " 73 74 75 76 77 78 79 80 81 82 83 84 85 86 87 88 89 90] TEST: [25]\n",
      "Mean Absolute Error: 0.030664799999999715\n",
      "RMSE: 0.030664799999999715\n",
      "MAE Percent:  4.090499753954031\n",
      "Iteration:  26\n",
      "y_pred:  [0.9946648] y_test:  [[0.964]]\n",
      "TRAIN: [ 0  1  2  3  4  5  6  7  8  9 10 11 12 13 14 15 16 17 18 19 20 21 22 23\n",
      " 24 25 27 28 29 30 31 32 33 34 35 36 37 38 39 40 41 42 43 44 45 46 47 48\n",
      " 49 50 51 52 53 54 55 56 57 58 59 60 61 62 63 64 65 66 67 68 69 70 71 72\n",
      " 73 74 75 76 77 78 79 80 81 82 83 84 85 86 87 88 89 90] TEST: [26]\n"
     ]
    },
    {
     "name": "stderr",
     "output_type": "stream",
     "text": [
      "C:\\ProgramData\\Anaconda3\\lib\\site-packages\\ipykernel_launcher.py:209: DataConversionWarning: A column-vector y was passed when a 1d array was expected. Please change the shape of y to (n_samples,), for example using ravel().\n",
      "C:\\ProgramData\\Anaconda3\\lib\\site-packages\\ipykernel_launcher.py:209: DataConversionWarning: A column-vector y was passed when a 1d array was expected. Please change the shape of y to (n_samples,), for example using ravel().\n"
     ]
    },
    {
     "name": "stdout",
     "output_type": "stream",
     "text": [
      "Mean Absolute Error: 0.02615100000000009\n",
      "RMSE: 0.02615100000000009\n",
      "MAE Percent:  3.4883860017235797\n",
      "Iteration:  27\n",
      "y_pred:  [0.281151] y_test:  [[0.255]]\n",
      "TRAIN: [ 0  1  2  3  4  5  6  7  8  9 10 11 12 13 14 15 16 17 18 19 20 21 22 23\n",
      " 24 25 26 28 29 30 31 32 33 34 35 36 37 38 39 40 41 42 43 44 45 46 47 48\n",
      " 49 50 51 52 53 54 55 56 57 58 59 60 61 62 63 64 65 66 67 68 69 70 71 72\n",
      " 73 74 75 76 77 78 79 80 81 82 83 84 85 86 87 88 89 90] TEST: [27]\n",
      "Mean Absolute Error: 0.07949570000000039\n",
      "RMSE: 0.07949570000000039\n",
      "MAE Percent:  10.60424790934257\n",
      "Iteration:  28\n",
      "y_pred:  [0.8674957] y_test:  [[0.788]]\n",
      "TRAIN: [ 0  1  2  3  4  5  6  7  8  9 10 11 12 13 14 15 16 17 18 19 20 21 22 23\n",
      " 24 25 26 27 29 30 31 32 33 34 35 36 37 38 39 40 41 42 43 44 45 46 47 48\n",
      " 49 50 51 52 53 54 55 56 57 58 59 60 61 62 63 64 65 66 67 68 69 70 71 72\n",
      " 73 74 75 76 77 78 79 80 81 82 83 84 85 86 87 88 89 90] TEST: [28]\n"
     ]
    },
    {
     "name": "stderr",
     "output_type": "stream",
     "text": [
      "C:\\ProgramData\\Anaconda3\\lib\\site-packages\\ipykernel_launcher.py:209: DataConversionWarning: A column-vector y was passed when a 1d array was expected. Please change the shape of y to (n_samples,), for example using ravel().\n",
      "C:\\ProgramData\\Anaconda3\\lib\\site-packages\\ipykernel_launcher.py:209: DataConversionWarning: A column-vector y was passed when a 1d array was expected. Please change the shape of y to (n_samples,), for example using ravel().\n"
     ]
    },
    {
     "name": "stdout",
     "output_type": "stream",
     "text": [
      "Mean Absolute Error: 0.13162260000000037\n",
      "RMSE: 0.13162260000000037\n",
      "MAE Percent:  17.55766262668585\n",
      "Iteration:  29\n",
      "y_pred:  [0.5283774] y_test:  [[0.66]]\n",
      "TRAIN: [ 0  1  2  3  4  5  6  7  8  9 10 11 12 13 14 15 16 17 18 19 20 21 22 23\n",
      " 24 25 26 27 28 30 31 32 33 34 35 36 37 38 39 40 41 42 43 44 45 46 47 48\n",
      " 49 50 51 52 53 54 55 56 57 58 59 60 61 62 63 64 65 66 67 68 69 70 71 72\n",
      " 73 74 75 76 77 78 79 80 81 82 83 84 85 86 87 88 89 90] TEST: [29]\n",
      "Mean Absolute Error: 0.07827569999999984\n",
      "RMSE: 0.07827569999999984\n",
      "MAE Percent:  10.441507252308243\n",
      "Iteration:  30\n",
      "y_pred:  [1.5132757] y_test:  [[1.435]]\n",
      "TRAIN: [ 0  1  2  3  4  5  6  7  8  9 10 11 12 13 14 15 16 17 18 19 20 21 22 23\n",
      " 24 25 26 27 28 29 31 32 33 34 35 36 37 38 39 40 41 42 43 44 45 46 47 48\n",
      " 49 50 51 52 53 54 55 56 57 58 59 60 61 62 63 64 65 66 67 68 69 70 71 72\n",
      " 73 74 75 76 77 78 79 80 81 82 83 84 85 86 87 88 89 90] TEST: [30]\n"
     ]
    },
    {
     "name": "stderr",
     "output_type": "stream",
     "text": [
      "C:\\ProgramData\\Anaconda3\\lib\\site-packages\\ipykernel_launcher.py:209: DataConversionWarning: A column-vector y was passed when a 1d array was expected. Please change the shape of y to (n_samples,), for example using ravel().\n",
      "C:\\ProgramData\\Anaconda3\\lib\\site-packages\\ipykernel_launcher.py:209: DataConversionWarning: A column-vector y was passed when a 1d array was expected. Please change the shape of y to (n_samples,), for example using ravel().\n"
     ]
    },
    {
     "name": "stdout",
     "output_type": "stream",
     "text": [
      "Mean Absolute Error: 0.13141749999999952\n",
      "RMSE: 0.13141749999999952\n",
      "MAE Percent:  17.53030352114662\n",
      "Iteration:  31\n",
      "y_pred:  [0.9775825] y_test:  [[1.109]]\n",
      "TRAIN: [ 0  1  2  3  4  5  6  7  8  9 10 11 12 13 14 15 16 17 18 19 20 21 22 23\n",
      " 24 25 26 27 28 29 30 32 33 34 35 36 37 38 39 40 41 42 43 44 45 46 47 48\n",
      " 49 50 51 52 53 54 55 56 57 58 59 60 61 62 63 64 65 66 67 68 69 70 71 72\n",
      " 73 74 75 76 77 78 79 80 81 82 83 84 85 86 87 88 89 90] TEST: [31]\n",
      "Mean Absolute Error: 0.33049989999999996\n",
      "RMSE: 0.33049989999999996\n",
      "MAE Percent:  44.086697439143386\n",
      "Iteration:  32\n",
      "y_pred:  [1.0695001] y_test:  [[1.4]]\n",
      "TRAIN: [ 0  1  2  3  4  5  6  7  8  9 10 11 12 13 14 15 16 17 18 19 20 21 22 23\n",
      " 24 25 26 27 28 29 30 31 33 34 35 36 37 38 39 40 41 42 43 44 45 46 47 48\n",
      " 49 50 51 52 53 54 55 56 57 58 59 60 61 62 63 64 65 66 67 68 69 70 71 72\n",
      " 73 74 75 76 77 78 79 80 81 82 83 84 85 86 87 88 89 90] TEST: [32]\n"
     ]
    },
    {
     "name": "stderr",
     "output_type": "stream",
     "text": [
      "C:\\ProgramData\\Anaconda3\\lib\\site-packages\\ipykernel_launcher.py:209: DataConversionWarning: A column-vector y was passed when a 1d array was expected. Please change the shape of y to (n_samples,), for example using ravel().\n",
      "C:\\ProgramData\\Anaconda3\\lib\\site-packages\\ipykernel_launcher.py:209: DataConversionWarning: A column-vector y was passed when a 1d array was expected. Please change the shape of y to (n_samples,), for example using ravel().\n"
     ]
    },
    {
     "name": "stdout",
     "output_type": "stream",
     "text": [
      "Mean Absolute Error: 0.7708149999999996\n",
      "RMSE: 0.7708149999999996\n",
      "MAE Percent:  102.82208159988338\n",
      "Iteration:  33\n",
      "y_pred:  [1.401185] y_test:  [[2.172]]\n",
      "TRAIN: [ 0  1  2  3  4  5  6  7  8  9 10 11 12 13 14 15 16 17 18 19 20 21 22 23\n",
      " 24 25 26 27 28 29 30 31 32 34 35 36 37 38 39 40 41 42 43 44 45 46 47 48\n",
      " 49 50 51 52 53 54 55 56 57 58 59 60 61 62 63 64 65 66 67 68 69 70 71 72\n",
      " 73 74 75 76 77 78 79 80 81 82 83 84 85 86 87 88 89 90] TEST: [33]\n",
      "Mean Absolute Error: 0.40566000000000035\n",
      "RMSE: 0.40566000000000035\n",
      "MAE Percent:  54.11260240370095\n",
      "Iteration:  34\n",
      "y_pred:  [0.51934] y_test:  [[0.925]]\n",
      "TRAIN: [ 0  1  2  3  4  5  6  7  8  9 10 11 12 13 14 15 16 17 18 19 20 21 22 23\n",
      " 24 25 26 27 28 29 30 31 32 33 35 36 37 38 39 40 41 42 43 44 45 46 47 48\n",
      " 49 50 51 52 53 54 55 56 57 58 59 60 61 62 63 64 65 66 67 68 69 70 71 72\n",
      " 73 74 75 76 77 78 79 80 81 82 83 84 85 86 87 88 89 90] TEST: [34]\n"
     ]
    },
    {
     "name": "stderr",
     "output_type": "stream",
     "text": [
      "C:\\ProgramData\\Anaconda3\\lib\\site-packages\\ipykernel_launcher.py:209: DataConversionWarning: A column-vector y was passed when a 1d array was expected. Please change the shape of y to (n_samples,), for example using ravel().\n",
      "C:\\ProgramData\\Anaconda3\\lib\\site-packages\\ipykernel_launcher.py:209: DataConversionWarning: A column-vector y was passed when a 1d array was expected. Please change the shape of y to (n_samples,), for example using ravel().\n"
     ]
    },
    {
     "name": "stdout",
     "output_type": "stream",
     "text": [
      "Mean Absolute Error: 0.06817599999999982\n",
      "RMSE: 0.06817599999999982\n",
      "MAE Percent:  9.09426806062886\n",
      "Iteration:  35\n",
      "y_pred:  [0.214176] y_test:  [[0.146]]\n",
      "TRAIN: [ 0  1  2  3  4  5  6  7  8  9 10 11 12 13 14 15 16 17 18 19 20 21 22 23\n",
      " 24 25 26 27 28 29 30 31 32 33 34 36 37 38 39 40 41 42 43 44 45 46 47 48\n",
      " 49 50 51 52 53 54 55 56 57 58 59 60 61 62 63 64 65 66 67 68 69 70 71 72\n",
      " 73 74 75 76 77 78 79 80 81 82 83 84 85 86 87 88 89 90] TEST: [35]\n",
      "Mean Absolute Error: 0.07007800000000004\n",
      "RMSE: 0.07007800000000004\n",
      "MAE Percent:  9.347983412824913\n",
      "Iteration:  36\n",
      "y_pred:  [0.066422] y_test:  [[0.1365]]\n",
      "TRAIN: [ 0  1  2  3  4  5  6  7  8  9 10 11 12 13 14 15 16 17 18 19 20 21 22 23\n",
      " 24 25 26 27 28 29 30 31 32 33 34 35 37 38 39 40 41 42 43 44 45 46 47 48\n",
      " 49 50 51 52 53 54 55 56 57 58 59 60 61 62 63 64 65 66 67 68 69 70 71 72\n",
      " 73 74 75 76 77 78 79 80 81 82 83 84 85 86 87 88 89 90] TEST: [36]\n"
     ]
    },
    {
     "name": "stderr",
     "output_type": "stream",
     "text": [
      "C:\\ProgramData\\Anaconda3\\lib\\site-packages\\ipykernel_launcher.py:209: DataConversionWarning: A column-vector y was passed when a 1d array was expected. Please change the shape of y to (n_samples,), for example using ravel().\n",
      "C:\\ProgramData\\Anaconda3\\lib\\site-packages\\ipykernel_launcher.py:209: DataConversionWarning: A column-vector y was passed when a 1d array was expected. Please change the shape of y to (n_samples,), for example using ravel().\n"
     ]
    },
    {
     "name": "stdout",
     "output_type": "stream",
     "text": [
      "Mean Absolute Error: 0.27508589999999983\n",
      "RMSE: 0.27508589999999983\n",
      "MAE Percent:  36.69480336627771\n",
      "Iteration:  37\n",
      "y_pred:  [0.5388859] y_test:  [[0.2638]]\n",
      "TRAIN: [ 0  1  2  3  4  5  6  7  8  9 10 11 12 13 14 15 16 17 18 19 20 21 22 23\n",
      " 24 25 26 27 28 29 30 31 32 33 34 35 36 38 39 40 41 42 43 44 45 46 47 48\n",
      " 49 50 51 52 53 54 55 56 57 58 59 60 61 62 63 64 65 66 67 68 69 70 71 72\n",
      " 73 74 75 76 77 78 79 80 81 82 83 84 85 86 87 88 89 90] TEST: [37]\n",
      "Mean Absolute Error: 0.08858600000000007\n",
      "RMSE: 0.08858600000000007\n",
      "MAE Percent:  11.816839216423242\n",
      "Iteration:  38\n",
      "y_pred:  [0.071014] y_test:  [[0.1596]]\n",
      "TRAIN: [ 0  1  2  3  4  5  6  7  8  9 10 11 12 13 14 15 16 17 18 19 20 21 22 23\n",
      " 24 25 26 27 28 29 30 31 32 33 34 35 36 37 39 40 41 42 43 44 45 46 47 48\n",
      " 49 50 51 52 53 54 55 56 57 58 59 60 61 62 63 64 65 66 67 68 69 70 71 72\n",
      " 73 74 75 76 77 78 79 80 81 82 83 84 85 86 87 88 89 90] TEST: [38]\n"
     ]
    },
    {
     "name": "stderr",
     "output_type": "stream",
     "text": [
      "C:\\ProgramData\\Anaconda3\\lib\\site-packages\\ipykernel_launcher.py:209: DataConversionWarning: A column-vector y was passed when a 1d array was expected. Please change the shape of y to (n_samples,), for example using ravel().\n",
      "C:\\ProgramData\\Anaconda3\\lib\\site-packages\\ipykernel_launcher.py:209: DataConversionWarning: A column-vector y was passed when a 1d array was expected. Please change the shape of y to (n_samples,), for example using ravel().\n"
     ]
    },
    {
     "name": "stdout",
     "output_type": "stream",
     "text": [
      "Mean Absolute Error: 0.1409874999999997\n",
      "RMSE: 0.1409874999999997\n",
      "MAE Percent:  18.806883920997304\n",
      "Iteration:  39\n",
      "y_pred:  [0.7979875] y_test:  [[0.657]]\n",
      "TRAIN: [ 0  1  2  3  4  5  6  7  8  9 10 11 12 13 14 15 16 17 18 19 20 21 22 23\n",
      " 24 25 26 27 28 29 30 31 32 33 34 35 36 37 38 40 41 42 43 44 45 46 47 48\n",
      " 49 50 51 52 53 54 55 56 57 58 59 60 61 62 63 64 65 66 67 68 69 70 71 72\n",
      " 73 74 75 76 77 78 79 80 81 82 83 84 85 86 87 88 89 90] TEST: [39]\n",
      "Mean Absolute Error: 0.18641329999999967\n",
      "RMSE: 0.18641329999999967\n",
      "MAE Percent:  24.866412231084652\n",
      "Iteration:  40\n",
      "y_pred:  [1.1535867] y_test:  [[1.34]]\n",
      "TRAIN: [ 0  1  2  3  4  5  6  7  8  9 10 11 12 13 14 15 16 17 18 19 20 21 22 23\n",
      " 24 25 26 27 28 29 30 31 32 33 34 35 36 37 38 39 41 42 43 44 45 46 47 48\n",
      " 49 50 51 52 53 54 55 56 57 58 59 60 61 62 63 64 65 66 67 68 69 70 71 72\n",
      " 73 74 75 76 77 78 79 80 81 82 83 84 85 86 87 88 89 90] TEST: [40]\n"
     ]
    },
    {
     "name": "stderr",
     "output_type": "stream",
     "text": [
      "C:\\ProgramData\\Anaconda3\\lib\\site-packages\\ipykernel_launcher.py:209: DataConversionWarning: A column-vector y was passed when a 1d array was expected. Please change the shape of y to (n_samples,), for example using ravel().\n",
      "C:\\ProgramData\\Anaconda3\\lib\\site-packages\\ipykernel_launcher.py:209: DataConversionWarning: A column-vector y was passed when a 1d array was expected. Please change the shape of y to (n_samples,), for example using ravel().\n"
     ]
    },
    {
     "name": "stdout",
     "output_type": "stream",
     "text": [
      "Mean Absolute Error: 0.2901459999999999\n",
      "RMSE: 0.2901459999999999\n",
      "MAE Percent:  38.70373006218063\n",
      "Iteration:  41\n",
      "y_pred:  [1.267146] y_test:  [[0.977]]\n",
      "TRAIN: [ 0  1  2  3  4  5  6  7  8  9 10 11 12 13 14 15 16 17 18 19 20 21 22 23\n",
      " 24 25 26 27 28 29 30 31 32 33 34 35 36 37 38 39 40 42 43 44 45 46 47 48\n",
      " 49 50 51 52 53 54 55 56 57 58 59 60 61 62 63 64 65 66 67 68 69 70 71 72\n",
      " 73 74 75 76 77 78 79 80 81 82 83 84 85 86 87 88 89 90] TEST: [41]\n",
      "Mean Absolute Error: 0.06549879999999975\n",
      "RMSE: 0.06549879999999975\n",
      "MAE Percent:  8.737145694225488\n",
      "Iteration:  42\n",
      "y_pred:  [0.3814988] y_test:  [[0.316]]\n",
      "TRAIN: [ 0  1  2  3  4  5  6  7  8  9 10 11 12 13 14 15 16 17 18 19 20 21 22 23\n",
      " 24 25 26 27 28 29 30 31 32 33 34 35 36 37 38 39 40 41 43 44 45 46 47 48\n",
      " 49 50 51 52 53 54 55 56 57 58 59 60 61 62 63 64 65 66 67 68 69 70 71 72\n",
      " 73 74 75 76 77 78 79 80 81 82 83 84 85 86 87 88 89 90] TEST: [42]\n"
     ]
    },
    {
     "name": "stderr",
     "output_type": "stream",
     "text": [
      "C:\\ProgramData\\Anaconda3\\lib\\site-packages\\ipykernel_launcher.py:209: DataConversionWarning: A column-vector y was passed when a 1d array was expected. Please change the shape of y to (n_samples,), for example using ravel().\n",
      "C:\\ProgramData\\Anaconda3\\lib\\site-packages\\ipykernel_launcher.py:209: DataConversionWarning: A column-vector y was passed when a 1d array was expected. Please change the shape of y to (n_samples,), for example using ravel().\n"
     ]
    },
    {
     "name": "stdout",
     "output_type": "stream",
     "text": [
      "Mean Absolute Error: 0.7458100000000001\n",
      "RMSE: 0.7458100000000001\n",
      "MAE Percent:  99.48656510058713\n",
      "Iteration:  43\n",
      "y_pred:  [0.38219] y_test:  [[1.128]]\n",
      "TRAIN: [ 0  1  2  3  4  5  6  7  8  9 10 11 12 13 14 15 16 17 18 19 20 21 22 23\n",
      " 24 25 26 27 28 29 30 31 32 33 34 35 36 37 38 39 40 41 42 44 45 46 47 48\n",
      " 49 50 51 52 53 54 55 56 57 58 59 60 61 62 63 64 65 66 67 68 69 70 71 72\n",
      " 73 74 75 76 77 78 79 80 81 82 83 84 85 86 87 88 89 90] TEST: [43]\n",
      "Mean Absolute Error: 0.003959100000000437\n",
      "RMSE: 0.003959100000000437\n",
      "MAE Percent:  0.5281201108724447\n",
      "Iteration:  44\n",
      "y_pred:  [0.8519591] y_test:  [[0.848]]\n",
      "TRAIN: [ 0  1  2  3  4  5  6  7  8  9 10 11 12 13 14 15 16 17 18 19 20 21 22 23\n",
      " 24 25 26 27 28 29 30 31 32 33 34 35 36 37 38 39 40 41 42 43 45 46 47 48\n",
      " 49 50 51 52 53 54 55 56 57 58 59 60 61 62 63 64 65 66 67 68 69 70 71 72\n",
      " 73 74 75 76 77 78 79 80 81 82 83 84 85 86 87 88 89 90] TEST: [44]\n"
     ]
    },
    {
     "name": "stderr",
     "output_type": "stream",
     "text": [
      "C:\\ProgramData\\Anaconda3\\lib\\site-packages\\ipykernel_launcher.py:209: DataConversionWarning: A column-vector y was passed when a 1d array was expected. Please change the shape of y to (n_samples,), for example using ravel().\n",
      "C:\\ProgramData\\Anaconda3\\lib\\site-packages\\ipykernel_launcher.py:209: DataConversionWarning: A column-vector y was passed when a 1d array was expected. Please change the shape of y to (n_samples,), for example using ravel().\n"
     ]
    },
    {
     "name": "stdout",
     "output_type": "stream",
     "text": [
      "Mean Absolute Error: 0.12071630000000011\n",
      "RMSE: 0.12071630000000011\n",
      "MAE Percent:  16.102827849790184\n",
      "Iteration:  45\n",
      "y_pred:  [0.8712837] y_test:  [[0.992]]\n",
      "TRAIN: [ 0  1  2  3  4  5  6  7  8  9 10 11 12 13 14 15 16 17 18 19 20 21 22 23\n",
      " 24 25 26 27 28 29 30 31 32 33 34 35 36 37 38 39 40 41 42 43 44 46 47 48\n",
      " 49 50 51 52 53 54 55 56 57 58 59 60 61 62 63 64 65 66 67 68 69 70 71 72\n",
      " 73 74 75 76 77 78 79 80 81 82 83 84 85 86 87 88 89 90] TEST: [45]\n",
      "Mean Absolute Error: 0.015181\n",
      "RMSE: 0.015181\n",
      "MAE Percent:  2.025054028227046\n",
      "Iteration:  46\n",
      "y_pred:  [0.694789] y_test:  [[0.70997]]\n",
      "TRAIN: [ 0  1  2  3  4  5  6  7  8  9 10 11 12 13 14 15 16 17 18 19 20 21 22 23\n",
      " 24 25 26 27 28 29 30 31 32 33 34 35 36 37 38 39 40 41 42 43 44 45 47 48\n",
      " 49 50 51 52 53 54 55 56 57 58 59 60 61 62 63 64 65 66 67 68 69 70 71 72\n",
      " 73 74 75 76 77 78 79 80 81 82 83 84 85 86 87 88 89 90] TEST: [46]\n"
     ]
    },
    {
     "name": "stderr",
     "output_type": "stream",
     "text": [
      "C:\\ProgramData\\Anaconda3\\lib\\site-packages\\ipykernel_launcher.py:209: DataConversionWarning: A column-vector y was passed when a 1d array was expected. Please change the shape of y to (n_samples,), for example using ravel().\n",
      "C:\\ProgramData\\Anaconda3\\lib\\site-packages\\ipykernel_launcher.py:209: DataConversionWarning: A column-vector y was passed when a 1d array was expected. Please change the shape of y to (n_samples,), for example using ravel().\n"
     ]
    },
    {
     "name": "stdout",
     "output_type": "stream",
     "text": [
      "Mean Absolute Error: 0.06310859999999996\n",
      "RMSE: 0.06310859999999996\n",
      "MAE Percent:  8.418307400419556\n",
      "Iteration:  47\n",
      "y_pred:  [0.8538914] y_test:  [[0.917]]\n",
      "TRAIN: [ 0  1  2  3  4  5  6  7  8  9 10 11 12 13 14 15 16 17 18 19 20 21 22 23\n",
      " 24 25 26 27 28 29 30 31 32 33 34 35 36 37 38 39 40 41 42 43 44 45 46 48\n",
      " 49 50 51 52 53 54 55 56 57 58 59 60 61 62 63 64 65 66 67 68 69 70 71 72\n",
      " 73 74 75 76 77 78 79 80 81 82 83 84 85 86 87 88 89 90] TEST: [47]\n",
      "Mean Absolute Error: 0.016516000000000003\n",
      "RMSE: 0.016516000000000003\n",
      "MAE Percent:  2.203134993096495\n",
      "Iteration:  48\n",
      "y_pred:  [0.148516] y_test:  [[0.132]]\n",
      "TRAIN: [ 0  1  2  3  4  5  6  7  8  9 10 11 12 13 14 15 16 17 18 19 20 21 22 23\n",
      " 24 25 26 27 28 29 30 31 32 33 34 35 36 37 38 39 40 41 42 43 44 45 46 47\n",
      " 49 50 51 52 53 54 55 56 57 58 59 60 61 62 63 64 65 66 67 68 69 70 71 72\n",
      " 73 74 75 76 77 78 79 80 81 82 83 84 85 86 87 88 89 90] TEST: [48]\n"
     ]
    },
    {
     "name": "stderr",
     "output_type": "stream",
     "text": [
      "C:\\ProgramData\\Anaconda3\\lib\\site-packages\\ipykernel_launcher.py:209: DataConversionWarning: A column-vector y was passed when a 1d array was expected. Please change the shape of y to (n_samples,), for example using ravel().\n",
      "C:\\ProgramData\\Anaconda3\\lib\\site-packages\\ipykernel_launcher.py:209: DataConversionWarning: A column-vector y was passed when a 1d array was expected. Please change the shape of y to (n_samples,), for example using ravel().\n"
     ]
    },
    {
     "name": "stdout",
     "output_type": "stream",
     "text": [
      "Mean Absolute Error: 0.635081999999999\n",
      "RMSE: 0.635081999999999\n",
      "MAE Percent:  84.71611635297324\n",
      "Iteration:  49\n",
      "y_pred:  [1.874082] y_test:  [[1.239]]\n",
      "TRAIN: [ 0  1  2  3  4  5  6  7  8  9 10 11 12 13 14 15 16 17 18 19 20 21 22 23\n",
      " 24 25 26 27 28 29 30 31 32 33 34 35 36 37 38 39 40 41 42 43 44 45 46 47\n",
      " 48 50 51 52 53 54 55 56 57 58 59 60 61 62 63 64 65 66 67 68 69 70 71 72\n",
      " 73 74 75 76 77 78 79 80 81 82 83 84 85 86 87 88 89 90] TEST: [49]\n",
      "Mean Absolute Error: 0.8428699999999996\n",
      "RMSE: 0.8428699999999996\n",
      "MAE Percent:  112.43378491349247\n",
      "Iteration:  50\n",
      "y_pred:  [1.72687] y_test:  [[0.884]]\n",
      "TRAIN: [ 0  1  2  3  4  5  6  7  8  9 10 11 12 13 14 15 16 17 18 19 20 21 22 23\n",
      " 24 25 26 27 28 29 30 31 32 33 34 35 36 37 38 39 40 41 42 43 44 45 46 47\n",
      " 48 49 51 52 53 54 55 56 57 58 59 60 61 62 63 64 65 66 67 68 69 70 71 72\n",
      " 73 74 75 76 77 78 79 80 81 82 83 84 85 86 87 88 89 90] TEST: [50]\n"
     ]
    },
    {
     "name": "stderr",
     "output_type": "stream",
     "text": [
      "C:\\ProgramData\\Anaconda3\\lib\\site-packages\\ipykernel_launcher.py:209: DataConversionWarning: A column-vector y was passed when a 1d array was expected. Please change the shape of y to (n_samples,), for example using ravel().\n",
      "C:\\ProgramData\\Anaconda3\\lib\\site-packages\\ipykernel_launcher.py:209: DataConversionWarning: A column-vector y was passed when a 1d array was expected. Please change the shape of y to (n_samples,), for example using ravel().\n"
     ]
    },
    {
     "name": "stdout",
     "output_type": "stream",
     "text": [
      "Mean Absolute Error: 0.13730600000000148\n",
      "RMSE: 0.13730600000000148\n",
      "MAE Percent:  18.315793979299507\n",
      "Iteration:  51\n",
      "y_pred:  [1.533694] y_test:  [[1.671]]\n",
      "TRAIN: [ 0  1  2  3  4  5  6  7  8  9 10 11 12 13 14 15 16 17 18 19 20 21 22 23\n",
      " 24 25 26 27 28 29 30 31 32 33 34 35 36 37 38 39 40 41 42 43 44 45 46 47\n",
      " 48 49 50 52 53 54 55 56 57 58 59 60 61 62 63 64 65 66 67 68 69 70 71 72\n",
      " 73 74 75 76 77 78 79 80 81 82 83 84 85 86 87 88 89 90] TEST: [51]\n",
      "Mean Absolute Error: 0.6928080000000005\n",
      "RMSE: 0.6928080000000005\n",
      "MAE Percent:  92.41641731031713\n",
      "Iteration:  52\n",
      "y_pred:  [1.176808] y_test:  [[0.484]]\n",
      "TRAIN: [ 0  1  2  3  4  5  6  7  8  9 10 11 12 13 14 15 16 17 18 19 20 21 22 23\n",
      " 24 25 26 27 28 29 30 31 32 33 34 35 36 37 38 39 40 41 42 43 44 45 46 47\n",
      " 48 49 50 51 53 54 55 56 57 58 59 60 61 62 63 64 65 66 67 68 69 70 71 72\n",
      " 73 74 75 76 77 78 79 80 81 82 83 84 85 86 87 88 89 90] TEST: [52]\n"
     ]
    },
    {
     "name": "stderr",
     "output_type": "stream",
     "text": [
      "C:\\ProgramData\\Anaconda3\\lib\\site-packages\\ipykernel_launcher.py:209: DataConversionWarning: A column-vector y was passed when a 1d array was expected. Please change the shape of y to (n_samples,), for example using ravel().\n",
      "C:\\ProgramData\\Anaconda3\\lib\\site-packages\\ipykernel_launcher.py:209: DataConversionWarning: A column-vector y was passed when a 1d array was expected. Please change the shape of y to (n_samples,), for example using ravel().\n"
     ]
    },
    {
     "name": "stdout",
     "output_type": "stream",
     "text": [
      "Mean Absolute Error: 0.09993239999999998\n",
      "RMSE: 0.09993239999999998\n",
      "MAE Percent:  13.330380684434253\n",
      "Iteration:  53\n",
      "y_pred:  [0.2507324] y_test:  [[0.1508]]\n",
      "TRAIN: [ 0  1  2  3  4  5  6  7  8  9 10 11 12 13 14 15 16 17 18 19 20 21 22 23\n",
      " 24 25 26 27 28 29 30 31 32 33 34 35 36 37 38 39 40 41 42 43 44 45 46 47\n",
      " 48 49 50 51 52 54 55 56 57 58 59 60 61 62 63 64 65 66 67 68 69 70 71 72\n",
      " 73 74 75 76 77 78 79 80 81 82 83 84 85 86 87 88 89 90] TEST: [53]\n",
      "Mean Absolute Error: 0.8249299999999988\n",
      "RMSE: 0.8249299999999988\n",
      "MAE Percent:  110.04069689120182\n",
      "Iteration:  54\n",
      "y_pred:  [1.81873] y_test:  [[0.9938]]\n",
      "TRAIN: [ 0  1  2  3  4  5  6  7  8  9 10 11 12 13 14 15 16 17 18 19 20 21 22 23\n",
      " 24 25 26 27 28 29 30 31 32 33 34 35 36 37 38 39 40 41 42 43 44 45 46 47\n",
      " 48 49 50 51 52 53 55 56 57 58 59 60 61 62 63 64 65 66 67 68 69 70 71 72\n",
      " 73 74 75 76 77 78 79 80 81 82 83 84 85 86 87 88 89 90] TEST: [54]\n"
     ]
    },
    {
     "name": "stderr",
     "output_type": "stream",
     "text": [
      "C:\\ProgramData\\Anaconda3\\lib\\site-packages\\ipykernel_launcher.py:209: DataConversionWarning: A column-vector y was passed when a 1d array was expected. Please change the shape of y to (n_samples,), for example using ravel().\n",
      "C:\\ProgramData\\Anaconda3\\lib\\site-packages\\ipykernel_launcher.py:209: DataConversionWarning: A column-vector y was passed when a 1d array was expected. Please change the shape of y to (n_samples,), for example using ravel().\n"
     ]
    },
    {
     "name": "stdout",
     "output_type": "stream",
     "text": [
      "Mean Absolute Error: 0.08886000000000038\n",
      "RMSE: 0.08886000000000038\n",
      "MAE Percent:  11.853389167265403\n",
      "Iteration:  55\n",
      "y_pred:  [1.31886] y_test:  [[1.23]]\n",
      "TRAIN: [ 0  1  2  3  4  5  6  7  8  9 10 11 12 13 14 15 16 17 18 19 20 21 22 23\n",
      " 24 25 26 27 28 29 30 31 32 33 34 35 36 37 38 39 40 41 42 43 44 45 46 47\n",
      " 48 49 50 51 52 53 54 56 57 58 59 60 61 62 63 64 65 66 67 68 69 70 71 72\n",
      " 73 74 75 76 77 78 79 80 81 82 83 84 85 86 87 88 89 90] TEST: [55]\n",
      "Mean Absolute Error: 0.46939600000000026\n",
      "RMSE: 0.46939600000000026\n",
      "MAE Percent:  62.61460118791008\n",
      "Iteration:  56\n",
      "y_pred:  [1.391396] y_test:  [[0.922]]\n",
      "TRAIN: [ 0  1  2  3  4  5  6  7  8  9 10 11 12 13 14 15 16 17 18 19 20 21 22 23\n",
      " 24 25 26 27 28 29 30 31 32 33 34 35 36 37 38 39 40 41 42 43 44 45 46 47\n",
      " 48 49 50 51 52 53 54 55 57 58 59 60 61 62 63 64 65 66 67 68 69 70 71 72\n",
      " 73 74 75 76 77 78 79 80 81 82 83 84 85 86 87 88 89 90] TEST: [56]\n"
     ]
    },
    {
     "name": "stderr",
     "output_type": "stream",
     "text": [
      "C:\\ProgramData\\Anaconda3\\lib\\site-packages\\ipykernel_launcher.py:209: DataConversionWarning: A column-vector y was passed when a 1d array was expected. Please change the shape of y to (n_samples,), for example using ravel().\n",
      "C:\\ProgramData\\Anaconda3\\lib\\site-packages\\ipykernel_launcher.py:209: DataConversionWarning: A column-vector y was passed when a 1d array was expected. Please change the shape of y to (n_samples,), for example using ravel().\n"
     ]
    },
    {
     "name": "stdout",
     "output_type": "stream",
     "text": [
      "Mean Absolute Error: 0.022809000000000135\n",
      "RMSE: 0.022809000000000135\n",
      "MAE Percent:  3.0425833166346723\n",
      "Iteration:  57\n",
      "y_pred:  [0.303191] y_test:  [[0.326]]\n",
      "TRAIN: [ 0  1  2  3  4  5  6  7  8  9 10 11 12 13 14 15 16 17 18 19 20 21 22 23\n",
      " 24 25 26 27 28 29 30 31 32 33 34 35 36 37 38 39 40 41 42 43 44 45 46 47\n",
      " 48 49 50 51 52 53 54 55 56 58 59 60 61 62 63 64 65 66 67 68 69 70 71 72\n",
      " 73 74 75 76 77 78 79 80 81 82 83 84 85 86 87 88 89 90] TEST: [57]\n",
      "Mean Absolute Error: 0.11501999999999946\n",
      "RMSE: 0.11501999999999946\n",
      "MAE Percent:  15.342975714819426\n",
      "Iteration:  58\n",
      "y_pred:  [1.48102] y_test:  [[1.366]]\n",
      "TRAIN: [ 0  1  2  3  4  5  6  7  8  9 10 11 12 13 14 15 16 17 18 19 20 21 22 23\n",
      " 24 25 26 27 28 29 30 31 32 33 34 35 36 37 38 39 40 41 42 43 44 45 46 47\n",
      " 48 49 50 51 52 53 54 55 56 57 59 60 61 62 63 64 65 66 67 68 69 70 71 72\n",
      " 73 74 75 76 77 78 79 80 81 82 83 84 85 86 87 88 89 90] TEST: [58]\n"
     ]
    },
    {
     "name": "stderr",
     "output_type": "stream",
     "text": [
      "C:\\ProgramData\\Anaconda3\\lib\\site-packages\\ipykernel_launcher.py:209: DataConversionWarning: A column-vector y was passed when a 1d array was expected. Please change the shape of y to (n_samples,), for example using ravel().\n",
      "C:\\ProgramData\\Anaconda3\\lib\\site-packages\\ipykernel_launcher.py:209: DataConversionWarning: A column-vector y was passed when a 1d array was expected. Please change the shape of y to (n_samples,), for example using ravel().\n"
     ]
    },
    {
     "name": "stdout",
     "output_type": "stream",
     "text": [
      "Mean Absolute Error: 0.064982\n",
      "RMSE: 0.064982\n",
      "MAE Percent:  8.668207684753963\n",
      "Iteration:  59\n",
      "y_pred:  [0.064982] y_test:  [[0.]]\n",
      "TRAIN: [ 0  1  2  3  4  5  6  7  8  9 10 11 12 13 14 15 16 17 18 19 20 21 22 23\n",
      " 24 25 26 27 28 29 30 31 32 33 34 35 36 37 38 39 40 41 42 43 44 45 46 47\n",
      " 48 49 50 51 52 53 54 55 56 57 58 60 61 62 63 64 65 66 67 68 69 70 71 72\n",
      " 73 74 75 76 77 78 79 80 81 82 83 84 85 86 87 88 89 90] TEST: [59]\n",
      "Mean Absolute Error: 0.7124696999999993\n",
      "RMSE: 0.7124696999999993\n",
      "MAE Percent:  95.0391697499976\n",
      "Iteration:  60\n",
      "y_pred:  [1.2844697] y_test:  [[0.572]]\n",
      "TRAIN: [ 0  1  2  3  4  5  6  7  8  9 10 11 12 13 14 15 16 17 18 19 20 21 22 23\n",
      " 24 25 26 27 28 29 30 31 32 33 34 35 36 37 38 39 40 41 42 43 44 45 46 47\n",
      " 48 49 50 51 52 53 54 55 56 57 58 59 61 62 63 64 65 66 67 68 69 70 71 72\n",
      " 73 74 75 76 77 78 79 80 81 82 83 84 85 86 87 88 89 90] TEST: [60]\n"
     ]
    },
    {
     "name": "stderr",
     "output_type": "stream",
     "text": [
      "C:\\ProgramData\\Anaconda3\\lib\\site-packages\\ipykernel_launcher.py:209: DataConversionWarning: A column-vector y was passed when a 1d array was expected. Please change the shape of y to (n_samples,), for example using ravel().\n",
      "C:\\ProgramData\\Anaconda3\\lib\\site-packages\\ipykernel_launcher.py:209: DataConversionWarning: A column-vector y was passed when a 1d array was expected. Please change the shape of y to (n_samples,), for example using ravel().\n"
     ]
    },
    {
     "name": "stdout",
     "output_type": "stream",
     "text": [
      "Mean Absolute Error: 0.4043273999999999\n",
      "RMSE: 0.4043273999999999\n",
      "MAE Percent:  53.93484158438626\n",
      "Iteration:  61\n",
      "y_pred:  [0.7853274] y_test:  [[0.381]]\n",
      "TRAIN: [ 0  1  2  3  4  5  6  7  8  9 10 11 12 13 14 15 16 17 18 19 20 21 22 23\n",
      " 24 25 26 27 28 29 30 31 32 33 34 35 36 37 38 39 40 41 42 43 44 45 46 47\n",
      " 48 49 50 51 52 53 54 55 56 57 58 59 60 62 63 64 65 66 67 68 69 70 71 72\n",
      " 73 74 75 76 77 78 79 80 81 82 83 84 85 86 87 88 89 90] TEST: [61]\n",
      "Mean Absolute Error: 0.048567\n",
      "RMSE: 0.048567\n",
      "MAE Percent:  6.4785454837562035\n",
      "Iteration:  62\n",
      "y_pred:  [0.173567] y_test:  [[0.125]]\n",
      "TRAIN: [ 0  1  2  3  4  5  6  7  8  9 10 11 12 13 14 15 16 17 18 19 20 21 22 23\n",
      " 24 25 26 27 28 29 30 31 32 33 34 35 36 37 38 39 40 41 42 43 44 45 46 47\n",
      " 48 49 50 51 52 53 54 55 56 57 58 59 60 61 63 64 65 66 67 68 69 70 71 72\n",
      " 73 74 75 76 77 78 79 80 81 82 83 84 85 86 87 88 89 90] TEST: [62]\n"
     ]
    },
    {
     "name": "stderr",
     "output_type": "stream",
     "text": [
      "C:\\ProgramData\\Anaconda3\\lib\\site-packages\\ipykernel_launcher.py:209: DataConversionWarning: A column-vector y was passed when a 1d array was expected. Please change the shape of y to (n_samples,), for example using ravel().\n",
      "C:\\ProgramData\\Anaconda3\\lib\\site-packages\\ipykernel_launcher.py:209: DataConversionWarning: A column-vector y was passed when a 1d array was expected. Please change the shape of y to (n_samples,), for example using ravel().\n"
     ]
    },
    {
     "name": "stdout",
     "output_type": "stream",
     "text": [
      "Mean Absolute Error: 0.6554149999999999\n",
      "RMSE: 0.6554149999999999\n",
      "MAE Percent:  87.42841617221718\n",
      "Iteration:  63\n",
      "y_pred:  [1.365585] y_test:  [[2.021]]\n",
      "TRAIN: [ 0  1  2  3  4  5  6  7  8  9 10 11 12 13 14 15 16 17 18 19 20 21 22 23\n",
      " 24 25 26 27 28 29 30 31 32 33 34 35 36 37 38 39 40 41 42 43 44 45 46 47\n",
      " 48 49 50 51 52 53 54 55 56 57 58 59 60 61 62 64 65 66 67 68 69 70 71 72\n",
      " 73 74 75 76 77 78 79 80 81 82 83 84 85 86 87 88 89 90] TEST: [63]\n",
      "Mean Absolute Error: 0.4390759000000004\n",
      "RMSE: 0.4390759000000004\n",
      "MAE Percent:  58.57008233926727\n",
      "Iteration:  64\n",
      "y_pred:  [0.8279241] y_test:  [[1.267]]\n",
      "TRAIN: [ 0  1  2  3  4  5  6  7  8  9 10 11 12 13 14 15 16 17 18 19 20 21 22 23\n",
      " 24 25 26 27 28 29 30 31 32 33 34 35 36 37 38 39 40 41 42 43 44 45 46 47\n",
      " 48 49 50 51 52 53 54 55 56 57 58 59 60 61 62 63 65 66 67 68 69 70 71 72\n",
      " 73 74 75 76 77 78 79 80 81 82 83 84 85 86 87 88 89 90] TEST: [64]\n"
     ]
    },
    {
     "name": "stderr",
     "output_type": "stream",
     "text": [
      "C:\\ProgramData\\Anaconda3\\lib\\site-packages\\ipykernel_launcher.py:209: DataConversionWarning: A column-vector y was passed when a 1d array was expected. Please change the shape of y to (n_samples,), for example using ravel().\n",
      "C:\\ProgramData\\Anaconda3\\lib\\site-packages\\ipykernel_launcher.py:209: DataConversionWarning: A column-vector y was passed when a 1d array was expected. Please change the shape of y to (n_samples,), for example using ravel().\n"
     ]
    },
    {
     "name": "stdout",
     "output_type": "stream",
     "text": [
      "Mean Absolute Error: 0.09947090000000036\n",
      "RMSE: 0.09947090000000036\n",
      "MAE Percent:  13.268819362121755\n",
      "Iteration:  65\n",
      "y_pred:  [0.5912291] y_test:  [[0.6907]]\n",
      "TRAIN: [ 0  1  2  3  4  5  6  7  8  9 10 11 12 13 14 15 16 17 18 19 20 21 22 23\n",
      " 24 25 26 27 28 29 30 31 32 33 34 35 36 37 38 39 40 41 42 43 44 45 46 47\n",
      " 48 49 50 51 52 53 54 55 56 57 58 59 60 61 62 63 64 66 67 68 69 70 71 72\n",
      " 73 74 75 76 77 78 79 80 81 82 83 84 85 86 87 88 89 90] TEST: [65]\n",
      "Mean Absolute Error: 0.010212600000000238\n",
      "RMSE: 0.010212600000000238\n",
      "MAE Percent:  1.3622993721541408\n",
      "Iteration:  66\n",
      "y_pred:  [0.9304874] y_test:  [[0.9407]]\n",
      "TRAIN: [ 0  1  2  3  4  5  6  7  8  9 10 11 12 13 14 15 16 17 18 19 20 21 22 23\n",
      " 24 25 26 27 28 29 30 31 32 33 34 35 36 37 38 39 40 41 42 43 44 45 46 47\n",
      " 48 49 50 51 52 53 54 55 56 57 58 59 60 61 62 63 64 65 67 68 69 70 71 72\n",
      " 73 74 75 76 77 78 79 80 81 82 83 84 85 86 87 88 89 90] TEST: [66]\n"
     ]
    },
    {
     "name": "stderr",
     "output_type": "stream",
     "text": [
      "C:\\ProgramData\\Anaconda3\\lib\\site-packages\\ipykernel_launcher.py:209: DataConversionWarning: A column-vector y was passed when a 1d array was expected. Please change the shape of y to (n_samples,), for example using ravel().\n",
      "C:\\ProgramData\\Anaconda3\\lib\\site-packages\\ipykernel_launcher.py:209: DataConversionWarning: A column-vector y was passed when a 1d array was expected. Please change the shape of y to (n_samples,), for example using ravel().\n"
     ]
    },
    {
     "name": "stdout",
     "output_type": "stream",
     "text": [
      "Mean Absolute Error: 0.020154000000000005\n",
      "RMSE: 0.020154000000000005\n",
      "MAE Percent:  2.6884222966133913\n",
      "Iteration:  67\n",
      "y_pred:  [0.078446] y_test:  [[0.0986]]\n",
      "TRAIN: [ 0  1  2  3  4  5  6  7  8  9 10 11 12 13 14 15 16 17 18 19 20 21 22 23\n",
      " 24 25 26 27 28 29 30 31 32 33 34 35 36 37 38 39 40 41 42 43 44 45 46 47\n",
      " 48 49 50 51 52 53 54 55 56 57 58 59 60 61 62 63 64 65 66 68 69 70 71 72\n",
      " 73 74 75 76 77 78 79 80 81 82 83 84 85 86 87 88 89 90] TEST: [67]\n",
      "Mean Absolute Error: 0.18077669999999996\n",
      "RMSE: 0.18077669999999996\n",
      "MAE Percent:  24.114523716790206\n",
      "Iteration:  68\n",
      "y_pred:  [0.1807767] y_test:  [[0.]]\n",
      "TRAIN: [ 0  1  2  3  4  5  6  7  8  9 10 11 12 13 14 15 16 17 18 19 20 21 22 23\n",
      " 24 25 26 27 28 29 30 31 32 33 34 35 36 37 38 39 40 41 42 43 44 45 46 47\n",
      " 48 49 50 51 52 53 54 55 56 57 58 59 60 61 62 63 64 65 66 67 69 70 71 72\n",
      " 73 74 75 76 77 78 79 80 81 82 83 84 85 86 87 88 89 90] TEST: [68]\n"
     ]
    },
    {
     "name": "stderr",
     "output_type": "stream",
     "text": [
      "C:\\ProgramData\\Anaconda3\\lib\\site-packages\\ipykernel_launcher.py:209: DataConversionWarning: A column-vector y was passed when a 1d array was expected. Please change the shape of y to (n_samples,), for example using ravel().\n",
      "C:\\ProgramData\\Anaconda3\\lib\\site-packages\\ipykernel_launcher.py:209: DataConversionWarning: A column-vector y was passed when a 1d array was expected. Please change the shape of y to (n_samples,), for example using ravel().\n"
     ]
    },
    {
     "name": "stdout",
     "output_type": "stream",
     "text": [
      "Mean Absolute Error: 0.04114900000000027\n",
      "RMSE: 0.04114900000000027\n",
      "MAE Percent:  5.489028931395511\n",
      "Iteration:  69\n",
      "y_pred:  [0.154851] y_test:  [[0.196]]\n",
      "TRAIN: [ 0  1  2  3  4  5  6  7  8  9 10 11 12 13 14 15 16 17 18 19 20 21 22 23\n",
      " 24 25 26 27 28 29 30 31 32 33 34 35 36 37 38 39 40 41 42 43 44 45 46 47\n",
      " 48 49 50 51 52 53 54 55 56 57 58 59 60 61 62 63 64 65 66 67 68 70 71 72\n",
      " 73 74 75 76 77 78 79 80 81 82 83 84 85 86 87 88 89 90] TEST: [69]\n",
      "Mean Absolute Error: 0.2458866000000003\n",
      "RMSE: 0.2458866000000003\n",
      "MAE Percent:  32.799792491736575\n",
      "Iteration:  70\n",
      "y_pred:  [0.6791134] y_test:  [[0.925]]\n",
      "TRAIN: [ 0  1  2  3  4  5  6  7  8  9 10 11 12 13 14 15 16 17 18 19 20 21 22 23\n",
      " 24 25 26 27 28 29 30 31 32 33 34 35 36 37 38 39 40 41 42 43 44 45 46 47\n",
      " 48 49 50 51 52 53 54 55 56 57 58 59 60 61 62 63 64 65 66 67 68 69 71 72\n",
      " 73 74 75 76 77 78 79 80 81 82 83 84 85 86 87 88 89 90] TEST: [70]\n"
     ]
    },
    {
     "name": "stderr",
     "output_type": "stream",
     "text": [
      "C:\\ProgramData\\Anaconda3\\lib\\site-packages\\ipykernel_launcher.py:209: DataConversionWarning: A column-vector y was passed when a 1d array was expected. Please change the shape of y to (n_samples,), for example using ravel().\n",
      "C:\\ProgramData\\Anaconda3\\lib\\site-packages\\ipykernel_launcher.py:209: DataConversionWarning: A column-vector y was passed when a 1d array was expected. Please change the shape of y to (n_samples,), for example using ravel().\n"
     ]
    },
    {
     "name": "stdout",
     "output_type": "stream",
     "text": [
      "Mean Absolute Error: 0.02642499999999981\n",
      "RMSE: 0.02642499999999981\n",
      "MAE Percent:  3.524935952565661\n",
      "Iteration:  71\n",
      "y_pred:  [0.317575] y_test:  [[0.344]]\n",
      "TRAIN: [ 0  1  2  3  4  5  6  7  8  9 10 11 12 13 14 15 16 17 18 19 20 21 22 23\n",
      " 24 25 26 27 28 29 30 31 32 33 34 35 36 37 38 39 40 41 42 43 44 45 46 47\n",
      " 48 49 50 51 52 53 54 55 56 57 58 59 60 61 62 63 64 65 66 67 68 69 70 72\n",
      " 73 74 75 76 77 78 79 80 81 82 83 84 85 86 87 88 89 90] TEST: [71]\n",
      "Mean Absolute Error: 0.021623999999999977\n",
      "RMSE: 0.021623999999999977\n",
      "MAE Percent:  2.884511448941545\n",
      "Iteration:  72\n",
      "y_pred:  [0.234376] y_test:  [[0.256]]\n",
      "TRAIN: [ 0  1  2  3  4  5  6  7  8  9 10 11 12 13 14 15 16 17 18 19 20 21 22 23\n",
      " 24 25 26 27 28 29 30 31 32 33 34 35 36 37 38 39 40 41 42 43 44 45 46 47\n",
      " 48 49 50 51 52 53 54 55 56 57 58 59 60 61 62 63 64 65 66 67 68 69 70 71\n",
      " 73 74 75 76 77 78 79 80 81 82 83 84 85 86 87 88 89 90] TEST: [72]\n"
     ]
    },
    {
     "name": "stderr",
     "output_type": "stream",
     "text": [
      "C:\\ProgramData\\Anaconda3\\lib\\site-packages\\ipykernel_launcher.py:209: DataConversionWarning: A column-vector y was passed when a 1d array was expected. Please change the shape of y to (n_samples,), for example using ravel().\n",
      "C:\\ProgramData\\Anaconda3\\lib\\site-packages\\ipykernel_launcher.py:209: DataConversionWarning: A column-vector y was passed when a 1d array was expected. Please change the shape of y to (n_samples,), for example using ravel().\n"
     ]
    },
    {
     "name": "stdout",
     "output_type": "stream",
     "text": [
      "Mean Absolute Error: 0.09304869999999987\n",
      "RMSE: 0.09304869999999987\n",
      "MAE Percent:  12.412136536215643\n",
      "Iteration:  73\n",
      "y_pred:  [0.8627487] y_test:  [[0.7697]]\n",
      "TRAIN: [ 0  1  2  3  4  5  6  7  8  9 10 11 12 13 14 15 16 17 18 19 20 21 22 23\n",
      " 24 25 26 27 28 29 30 31 32 33 34 35 36 37 38 39 40 41 42 43 44 45 46 47\n",
      " 48 49 50 51 52 53 54 55 56 57 58 59 60 61 62 63 64 65 66 67 68 69 70 71\n",
      " 72 74 75 76 77 78 79 80 81 82 83 84 85 86 87 88 89 90] TEST: [73]\n",
      "Mean Absolute Error: 0.2036646999999998\n",
      "RMSE: 0.2036646999999998\n",
      "MAE Percent:  27.167645157937713\n",
      "Iteration:  74\n",
      "y_pred:  [1.1526647] y_test:  [[0.949]]\n",
      "TRAIN: [ 0  1  2  3  4  5  6  7  8  9 10 11 12 13 14 15 16 17 18 19 20 21 22 23\n",
      " 24 25 26 27 28 29 30 31 32 33 34 35 36 37 38 39 40 41 42 43 44 45 46 47\n",
      " 48 49 50 51 52 53 54 55 56 57 58 59 60 61 62 63 64 65 66 67 68 69 70 71\n",
      " 72 73 75 76 77 78 79 80 81 82 83 84 85 86 87 88 89 90] TEST: [74]\n"
     ]
    },
    {
     "name": "stderr",
     "output_type": "stream",
     "text": [
      "C:\\ProgramData\\Anaconda3\\lib\\site-packages\\ipykernel_launcher.py:209: DataConversionWarning: A column-vector y was passed when a 1d array was expected. Please change the shape of y to (n_samples,), for example using ravel().\n",
      "C:\\ProgramData\\Anaconda3\\lib\\site-packages\\ipykernel_launcher.py:209: DataConversionWarning: A column-vector y was passed when a 1d array was expected. Please change the shape of y to (n_samples,), for example using ravel().\n"
     ]
    },
    {
     "name": "stdout",
     "output_type": "stream",
     "text": [
      "Mean Absolute Error: 0.41509200000000046\n",
      "RMSE: 0.41509200000000046\n",
      "MAE Percent:  55.37077443414938\n",
      "Iteration:  75\n",
      "y_pred:  [1.604908] y_test:  [[2.02]]\n",
      "TRAIN: [ 0  1  2  3  4  5  6  7  8  9 10 11 12 13 14 15 16 17 18 19 20 21 22 23\n",
      " 24 25 26 27 28 29 30 31 32 33 34 35 36 37 38 39 40 41 42 43 44 45 46 47\n",
      " 48 49 50 51 52 53 54 55 56 57 58 59 60 61 62 63 64 65 66 67 68 69 70 71\n",
      " 72 73 74 76 77 78 79 80 81 82 83 84 85 86 87 88 89 90] TEST: [75]\n",
      "Mean Absolute Error: 0.17639359999999993\n",
      "RMSE: 0.17639359999999993\n",
      "MAE Percent:  23.529844557899356\n",
      "Iteration:  76\n",
      "y_pred:  [0.7233936] y_test:  [[0.547]]\n",
      "TRAIN: [ 0  1  2  3  4  5  6  7  8  9 10 11 12 13 14 15 16 17 18 19 20 21 22 23\n",
      " 24 25 26 27 28 29 30 31 32 33 34 35 36 37 38 39 40 41 42 43 44 45 46 47\n",
      " 48 49 50 51 52 53 54 55 56 57 58 59 60 61 62 63 64 65 66 67 68 69 70 71\n",
      " 72 73 74 75 77 78 79 80 81 82 83 84 85 86 87 88 89 90] TEST: [76]\n"
     ]
    },
    {
     "name": "stderr",
     "output_type": "stream",
     "text": [
      "C:\\ProgramData\\Anaconda3\\lib\\site-packages\\ipykernel_launcher.py:209: DataConversionWarning: A column-vector y was passed when a 1d array was expected. Please change the shape of y to (n_samples,), for example using ravel().\n",
      "C:\\ProgramData\\Anaconda3\\lib\\site-packages\\ipykernel_launcher.py:209: DataConversionWarning: A column-vector y was passed when a 1d array was expected. Please change the shape of y to (n_samples,), for example using ravel().\n"
     ]
    },
    {
     "name": "stdout",
     "output_type": "stream",
     "text": [
      "Mean Absolute Error: 0.15492199999999934\n",
      "RMSE: 0.15492199999999934\n",
      "MAE Percent:  20.66566235168889\n",
      "Iteration:  77\n",
      "y_pred:  [1.464922] y_test:  [[1.31]]\n",
      "TRAIN: [ 0  1  2  3  4  5  6  7  8  9 10 11 12 13 14 15 16 17 18 19 20 21 22 23\n",
      " 24 25 26 27 28 29 30 31 32 33 34 35 36 37 38 39 40 41 42 43 44 45 46 47\n",
      " 48 49 50 51 52 53 54 55 56 57 58 59 60 61 62 63 64 65 66 67 68 69 70 71\n",
      " 72 73 74 75 76 78 79 80 81 82 83 84 85 86 87 88 89 90] TEST: [77]\n",
      "Mean Absolute Error: 0.1453879999999999\n",
      "RMSE: 0.1453879999999999\n",
      "MAE Percent:  19.393884135160633\n",
      "Iteration:  78\n",
      "y_pred:  [0.284512] y_test:  [[0.4299]]\n",
      "TRAIN: [ 0  1  2  3  4  5  6  7  8  9 10 11 12 13 14 15 16 17 18 19 20 21 22 23\n",
      " 24 25 26 27 28 29 30 31 32 33 34 35 36 37 38 39 40 41 42 43 44 45 46 47\n",
      " 48 49 50 51 52 53 54 55 56 57 58 59 60 61 62 63 64 65 66 67 68 69 70 71\n",
      " 72 73 74 75 76 77 79 80 81 82 83 84 85 86 87 88 89 90] TEST: [78]\n"
     ]
    },
    {
     "name": "stderr",
     "output_type": "stream",
     "text": [
      "C:\\ProgramData\\Anaconda3\\lib\\site-packages\\ipykernel_launcher.py:209: DataConversionWarning: A column-vector y was passed when a 1d array was expected. Please change the shape of y to (n_samples,), for example using ravel().\n",
      "C:\\ProgramData\\Anaconda3\\lib\\site-packages\\ipykernel_launcher.py:209: DataConversionWarning: A column-vector y was passed when a 1d array was expected. Please change the shape of y to (n_samples,), for example using ravel().\n"
     ]
    },
    {
     "name": "stdout",
     "output_type": "stream",
     "text": [
      "Mean Absolute Error: 0.07773500000000001\n",
      "RMSE: 0.07773500000000001\n",
      "MAE Percent:  10.36938112668661\n",
      "Iteration:  79\n",
      "y_pred:  [0.077735] y_test:  [[0.]]\n",
      "TRAIN: [ 0  1  2  3  4  5  6  7  8  9 10 11 12 13 14 15 16 17 18 19 20 21 22 23\n",
      " 24 25 26 27 28 29 30 31 32 33 34 35 36 37 38 39 40 41 42 43 44 45 46 47\n",
      " 48 49 50 51 52 53 54 55 56 57 58 59 60 61 62 63 64 65 66 67 68 69 70 71\n",
      " 72 73 74 75 76 77 78 80 81 82 83 84 85 86 87 88 89 90] TEST: [79]\n",
      "Mean Absolute Error: 0.05671500000000004\n",
      "RMSE: 0.05671500000000004\n",
      "MAE Percent:  7.565439642375139\n",
      "Iteration:  80\n",
      "y_pred:  [0.219285] y_test:  [[0.276]]\n",
      "TRAIN: [ 0  1  2  3  4  5  6  7  8  9 10 11 12 13 14 15 16 17 18 19 20 21 22 23\n",
      " 24 25 26 27 28 29 30 31 32 33 34 35 36 37 38 39 40 41 42 43 44 45 46 47\n",
      " 48 49 50 51 52 53 54 55 56 57 58 59 60 61 62 63 64 65 66 67 68 69 70 71\n",
      " 72 73 74 75 76 77 78 79 81 82 83 84 85 86 87 88 89 90] TEST: [80]\n"
     ]
    },
    {
     "name": "stderr",
     "output_type": "stream",
     "text": [
      "C:\\ProgramData\\Anaconda3\\lib\\site-packages\\ipykernel_launcher.py:209: DataConversionWarning: A column-vector y was passed when a 1d array was expected. Please change the shape of y to (n_samples,), for example using ravel().\n",
      "C:\\ProgramData\\Anaconda3\\lib\\site-packages\\ipykernel_launcher.py:209: DataConversionWarning: A column-vector y was passed when a 1d array was expected. Please change the shape of y to (n_samples,), for example using ravel().\n"
     ]
    },
    {
     "name": "stdout",
     "output_type": "stream",
     "text": [
      "Mean Absolute Error: 0.1816479999999998\n",
      "RMSE: 0.1816479999999998\n",
      "MAE Percent:  24.230749892588502\n",
      "Iteration:  81\n",
      "y_pred:  [1.388648] y_test:  [[1.207]]\n",
      "TRAIN: [ 0  1  2  3  4  5  6  7  8  9 10 11 12 13 14 15 16 17 18 19 20 21 22 23\n",
      " 24 25 26 27 28 29 30 31 32 33 34 35 36 37 38 39 40 41 42 43 44 45 46 47\n",
      " 48 49 50 51 52 53 54 55 56 57 58 59 60 61 62 63 64 65 66 67 68 69 70 71\n",
      " 72 73 74 75 76 77 78 79 80 82 83 84 85 86 87 88 89 90] TEST: [81]\n",
      "Mean Absolute Error: 0.9187580000000017\n",
      "RMSE: 0.9187580000000017\n",
      "MAE Percent:  122.55678735694802\n",
      "Iteration:  82\n",
      "y_pred:  [1.605242] y_test:  [[2.524]]\n",
      "TRAIN: [ 0  1  2  3  4  5  6  7  8  9 10 11 12 13 14 15 16 17 18 19 20 21 22 23\n",
      " 24 25 26 27 28 29 30 31 32 33 34 35 36 37 38 39 40 41 42 43 44 45 46 47\n",
      " 48 49 50 51 52 53 54 55 56 57 58 59 60 61 62 63 64 65 66 67 68 69 70 71\n",
      " 72 73 74 75 76 77 78 79 80 81 83 84 85 86 87 88 89 90] TEST: [82]\n"
     ]
    },
    {
     "name": "stderr",
     "output_type": "stream",
     "text": [
      "C:\\ProgramData\\Anaconda3\\lib\\site-packages\\ipykernel_launcher.py:209: DataConversionWarning: A column-vector y was passed when a 1d array was expected. Please change the shape of y to (n_samples,), for example using ravel().\n",
      "C:\\ProgramData\\Anaconda3\\lib\\site-packages\\ipykernel_launcher.py:209: DataConversionWarning: A column-vector y was passed when a 1d array was expected. Please change the shape of y to (n_samples,), for example using ravel().\n"
     ]
    },
    {
     "name": "stdout",
     "output_type": "stream",
     "text": [
      "Mean Absolute Error: 0.7561200000000001\n",
      "RMSE: 0.7561200000000001\n",
      "MAE Percent:  100.86185704650777\n",
      "Iteration:  83\n",
      "y_pred:  [1.30688] y_test:  [[2.063]]\n",
      "TRAIN: [ 0  1  2  3  4  5  6  7  8  9 10 11 12 13 14 15 16 17 18 19 20 21 22 23\n",
      " 24 25 26 27 28 29 30 31 32 33 34 35 36 37 38 39 40 41 42 43 44 45 46 47\n",
      " 48 49 50 51 52 53 54 55 56 57 58 59 60 61 62 63 64 65 66 67 68 69 70 71\n",
      " 72 73 74 75 76 77 78 79 80 81 82 84 85 86 87 88 89 90] TEST: [83]\n",
      "Mean Absolute Error: 0.2929452000000003\n",
      "RMSE: 0.2929452000000003\n",
      "MAE Percent:  39.07712649428748\n",
      "Iteration:  84\n",
      "y_pred:  [0.6759452] y_test:  [[0.383]]\n",
      "TRAIN: [ 0  1  2  3  4  5  6  7  8  9 10 11 12 13 14 15 16 17 18 19 20 21 22 23\n",
      " 24 25 26 27 28 29 30 31 32 33 34 35 36 37 38 39 40 41 42 43 44 45 46 47\n",
      " 48 49 50 51 52 53 54 55 56 57 58 59 60 61 62 63 64 65 66 67 68 69 70 71\n",
      " 72 73 74 75 76 77 78 79 80 81 82 83 85 86 87 88 89 90] TEST: [84]\n"
     ]
    },
    {
     "name": "stderr",
     "output_type": "stream",
     "text": [
      "C:\\ProgramData\\Anaconda3\\lib\\site-packages\\ipykernel_launcher.py:209: DataConversionWarning: A column-vector y was passed when a 1d array was expected. Please change the shape of y to (n_samples,), for example using ravel().\n",
      "C:\\ProgramData\\Anaconda3\\lib\\site-packages\\ipykernel_launcher.py:209: DataConversionWarning: A column-vector y was passed when a 1d array was expected. Please change the shape of y to (n_samples,), for example using ravel().\n"
     ]
    },
    {
     "name": "stdout",
     "output_type": "stream",
     "text": [
      "Mean Absolute Error: 0.06423699999999997\n",
      "RMSE: 0.06423699999999997\n",
      "MAE Percent:  8.568829168778123\n",
      "Iteration:  85\n",
      "y_pred:  [0.064237] y_test:  [[0.]]\n",
      "TRAIN: [ 0  1  2  3  4  5  6  7  8  9 10 11 12 13 14 15 16 17 18 19 20 21 22 23\n",
      " 24 25 26 27 28 29 30 31 32 33 34 35 36 37 38 39 40 41 42 43 44 45 46 47\n",
      " 48 49 50 51 52 53 54 55 56 57 58 59 60 61 62 63 64 65 66 67 68 69 70 71\n",
      " 72 73 74 75 76 77 78 79 80 81 82 83 84 86 87 88 89 90] TEST: [85]\n",
      "Mean Absolute Error: 0.08644699999999997\n",
      "RMSE: 0.08644699999999997\n",
      "MAE Percent:  11.531509490688583\n",
      "Iteration:  86\n",
      "y_pred:  [0.180553] y_test:  [[0.267]]\n",
      "TRAIN: [ 0  1  2  3  4  5  6  7  8  9 10 11 12 13 14 15 16 17 18 19 20 21 22 23\n",
      " 24 25 26 27 28 29 30 31 32 33 34 35 36 37 38 39 40 41 42 43 44 45 46 47\n",
      " 48 49 50 51 52 53 54 55 56 57 58 59 60 61 62 63 64 65 66 67 68 69 70 71\n",
      " 72 73 74 75 76 77 78 79 80 81 82 83 84 85 87 88 89 90] TEST: [86]\n"
     ]
    },
    {
     "name": "stderr",
     "output_type": "stream",
     "text": [
      "C:\\ProgramData\\Anaconda3\\lib\\site-packages\\ipykernel_launcher.py:209: DataConversionWarning: A column-vector y was passed when a 1d array was expected. Please change the shape of y to (n_samples,), for example using ravel().\n",
      "C:\\ProgramData\\Anaconda3\\lib\\site-packages\\ipykernel_launcher.py:209: DataConversionWarning: A column-vector y was passed when a 1d array was expected. Please change the shape of y to (n_samples,), for example using ravel().\n"
     ]
    },
    {
     "name": "stdout",
     "output_type": "stream",
     "text": [
      "Mean Absolute Error: 0.44324899999999956\n",
      "RMSE: 0.44324899999999956\n",
      "MAE Percent:  59.12674876211113\n",
      "Iteration:  87\n",
      "y_pred:  [0.826751] y_test:  [[1.27]]\n",
      "TRAIN: [ 0  1  2  3  4  5  6  7  8  9 10 11 12 13 14 15 16 17 18 19 20 21 22 23\n",
      " 24 25 26 27 28 29 30 31 32 33 34 35 36 37 38 39 40 41 42 43 44 45 46 47\n",
      " 48 49 50 51 52 53 54 55 56 57 58 59 60 61 62 63 64 65 66 67 68 69 70 71\n",
      " 72 73 74 75 76 77 78 79 80 81 82 83 84 85 86 88 89 90] TEST: [87]\n",
      "Mean Absolute Error: 0.03490499999999999\n",
      "RMSE: 0.03490499999999999\n",
      "MAE Percent:  4.65611691293492\n",
      "Iteration:  88\n",
      "y_pred:  [0.062095] y_test:  [[0.097]]\n",
      "TRAIN: [ 0  1  2  3  4  5  6  7  8  9 10 11 12 13 14 15 16 17 18 19 20 21 22 23\n",
      " 24 25 26 27 28 29 30 31 32 33 34 35 36 37 38 39 40 41 42 43 44 45 46 47\n",
      " 48 49 50 51 52 53 54 55 56 57 58 59 60 61 62 63 64 65 66 67 68 69 70 71\n",
      " 72 73 74 75 76 77 78 79 80 81 82 83 84 85 86 87 89 90] TEST: [88]\n"
     ]
    },
    {
     "name": "stderr",
     "output_type": "stream",
     "text": [
      "C:\\ProgramData\\Anaconda3\\lib\\site-packages\\ipykernel_launcher.py:209: DataConversionWarning: A column-vector y was passed when a 1d array was expected. Please change the shape of y to (n_samples,), for example using ravel().\n",
      "C:\\ProgramData\\Anaconda3\\lib\\site-packages\\ipykernel_launcher.py:209: DataConversionWarning: A column-vector y was passed when a 1d array was expected. Please change the shape of y to (n_samples,), for example using ravel().\n"
     ]
    },
    {
     "name": "stdout",
     "output_type": "stream",
     "text": [
      "Mean Absolute Error: 0.12046629999999992\n",
      "RMSE: 0.12046629999999992\n",
      "MAE Percent:  16.069479354496252\n",
      "Iteration:  89\n",
      "y_pred:  [1.0115337] y_test:  [[1.132]]\n",
      "TRAIN: [ 0  1  2  3  4  5  6  7  8  9 10 11 12 13 14 15 16 17 18 19 20 21 22 23\n",
      " 24 25 26 27 28 29 30 31 32 33 34 35 36 37 38 39 40 41 42 43 44 45 46 47\n",
      " 48 49 50 51 52 53 54 55 56 57 58 59 60 61 62 63 64 65 66 67 68 69 70 71\n",
      " 72 73 74 75 76 77 78 79 80 81 82 83 84 85 86 87 88 90] TEST: [89]\n",
      "Mean Absolute Error: 0.13433600000000068\n",
      "RMSE: 0.13433600000000068\n",
      "MAE Percent:  17.919613855207814\n",
      "Iteration:  90\n",
      "y_pred:  [1.432664] y_test:  [[1.567]]\n",
      "TRAIN: [ 0  1  2  3  4  5  6  7  8  9 10 11 12 13 14 15 16 17 18 19 20 21 22 23\n",
      " 24 25 26 27 28 29 30 31 32 33 34 35 36 37 38 39 40 41 42 43 44 45 46 47\n",
      " 48 49 50 51 52 53 54 55 56 57 58 59 60 61 62 63 64 65 66 67 68 69 70 71\n",
      " 72 73 74 75 76 77 78 79 80 81 82 83 84 85 86 87 88 89] TEST: [90]\n"
     ]
    },
    {
     "name": "stderr",
     "output_type": "stream",
     "text": [
      "C:\\ProgramData\\Anaconda3\\lib\\site-packages\\ipykernel_launcher.py:209: DataConversionWarning: A column-vector y was passed when a 1d array was expected. Please change the shape of y to (n_samples,), for example using ravel().\n",
      "C:\\ProgramData\\Anaconda3\\lib\\site-packages\\ipykernel_launcher.py:209: DataConversionWarning: A column-vector y was passed when a 1d array was expected. Please change the shape of y to (n_samples,), for example using ravel().\n"
     ]
    },
    {
     "name": "stdout",
     "output_type": "stream",
     "text": [
      "Mean Absolute Error: 0.5376042999999997\n",
      "RMSE: 0.5376042999999997\n",
      "MAE Percent:  71.71317787413086\n",
      "Iteration:  91\n",
      "y_pred:  [1.0553957] y_test:  [[1.593]]\n",
      "RMSE: [0.3428008 0.8775952 0.112828  0.2582903 0.0673649 0.030862  0.183661\n",
      " 0.17966   0.135323  0.4205791 0.078906  0.0959979 0.074248  0.0214527\n",
      " 0.030312  0.220596  0.065609  0.2984791 0.124801  0.061246  0.121649\n",
      " 0.074313  0.0054066 0.075257  0.041094  0.0306648 0.026151  0.0794957\n",
      " 0.1316226 0.0782757 0.1314175 0.3304999 0.770815  0.40566   0.068176\n",
      " 0.070078  0.2750859 0.088586  0.1409875 0.1864133 0.290146  0.0654988\n",
      " 0.74581   0.0039591 0.1207163 0.015181  0.0631086 0.016516  0.635082\n",
      " 0.84287   0.137306  0.692808  0.0999324 0.82493   0.08886   0.469396\n",
      " 0.022809  0.11502   0.064982  0.7124697 0.4043274 0.048567  0.655415\n",
      " 0.4390759 0.0994709 0.0102126 0.020154  0.1807767 0.041149  0.2458866\n",
      " 0.026425  0.021624  0.0930487 0.2036647 0.415092  0.1763936 0.154922\n",
      " 0.145388  0.077735  0.056715  0.181648  0.918758  0.75612   0.2929452\n",
      " 0.064237  0.086447  0.443249  0.034905  0.1204663 0.134336  0.5376043]\n",
      "MAE: [0.3428008 0.8775952 0.112828  0.2582903 0.0673649 0.030862  0.183661\n",
      " 0.17966   0.135323  0.4205791 0.078906  0.0959979 0.074248  0.0214527\n",
      " 0.030312  0.220596  0.065609  0.2984791 0.124801  0.061246  0.121649\n",
      " 0.074313  0.0054066 0.075257  0.041094  0.0306648 0.026151  0.0794957\n",
      " 0.1316226 0.0782757 0.1314175 0.3304999 0.770815  0.40566   0.068176\n",
      " 0.070078  0.2750859 0.088586  0.1409875 0.1864133 0.290146  0.0654988\n",
      " 0.74581   0.0039591 0.1207163 0.015181  0.0631086 0.016516  0.635082\n",
      " 0.84287   0.137306  0.692808  0.0999324 0.82493   0.08886   0.469396\n",
      " 0.022809  0.11502   0.064982  0.7124697 0.4043274 0.048567  0.655415\n",
      " 0.4390759 0.0994709 0.0102126 0.020154  0.1807767 0.041149  0.2458866\n",
      " 0.026425  0.021624  0.0930487 0.2036647 0.415092  0.1763936 0.154922\n",
      " 0.145388  0.077735  0.056715  0.181648  0.918758  0.75612   0.2929452\n",
      " 0.064237  0.086447  0.443249  0.034905  0.1204663 0.134336  0.5376043]\n",
      "MAE Percent: [ 45.72756346 117.06591759  15.05057611  34.45437142   8.9860722\n",
      "   4.11680505  24.49927198  23.96556266  18.05127371  56.10272055\n",
      "  10.52558548  12.80554207   9.90423631   2.86166106   4.04343836\n",
      "  29.42617867   8.75184571  39.81531545  16.64770224   8.16984777\n",
      "  16.22724442   9.91290692   0.7212079   10.03883084   5.48169226\n",
      "   4.09049975   3.488386    10.60424791  17.55766263  10.44150725\n",
      "  17.53030352  44.08669744 102.8220816   54.1126024    9.09426806\n",
      "   9.34798341  36.69480337  11.81683922  18.80688392  24.86641223\n",
      "  38.70373006   8.73714569  99.4865651    0.52812011  16.10282785\n",
      "   2.02505403   8.4183074    2.20313499  84.71611635 112.43378491\n",
      "  18.31579398  92.41641731  13.33038068 110.04069689  11.85338917\n",
      "  62.61460119   3.04258332  15.34297571   8.66820768  95.03916975\n",
      "  53.93484158   6.47854548  87.42841617  58.57008234  13.26881936\n",
      "   1.36229937   2.6884223   24.11452372   5.48902893  32.79979249\n",
      "   3.52493595   2.88451145  12.41213654  27.16764516  55.37077443\n",
      "  23.52984456  20.66566235  19.39388414  10.36938113   7.56543964\n",
      "  24.23074989 122.55678736 100.86185705  39.07712649   8.56882917\n",
      "  11.53150949  59.12674876   4.65611691  16.06947935  17.91961386\n",
      "  71.71317787]\n",
      "Average RMSE: 0.2189716516483516 +- 0.23754683515313668\n",
      "Average MAE: 0.2189716516483516 +- 0.23754683515313668\n",
      "Average MAE Percent: 29.20950037797405 +- 31.687318056744974\n",
      "4\n",
      "    Sub_ID Sub_Type  Cut_Off_Time  FIM  FIM_M  BBS  MWT10_SSV  MWT10_FV  \\\n",
      "695   CVA2   CVA_AD            90   85     56   38      0.595     0.771   \n",
      "696   CVA4   CVA_AD            90   44     24    3      0.000     0.000   \n",
      "697   CVA5   CVA_AD            90   62     34    6      0.000     0.000   \n",
      "698   CVA6   CVA_AD            90   57     35   16      0.783     0.000   \n",
      "699   CVA9   CVA_AD            90   71     49   37      0.917     1.166   \n",
      "..     ...      ...           ...  ...    ...  ...        ...       ...   \n",
      "781  CVA51   CVA_DC            90   89     59   37      1.270     2.149   \n",
      "782  CVA52   CVA_DC            90   61     40    4      0.097     0.000   \n",
      "783  CVA53   CVA_DC            90   90     64   38      1.132     1.591   \n",
      "784  CVA54   CVA_DC            90   94     66   44      1.567     2.258   \n",
      "785  CVA55   CVA_DC            90  120     89   51      1.593     2.992   \n",
      "\n",
      "         MWT6      TUG  ...  DLS_L_Acc_z_PSD_mean  DLS_L_Acc_z_PSD_std  \\\n",
      "695  193.1210  26.9930  ...              0.002632             0.002837   \n",
      "696  233.0196   0.0000  ...              0.001878             0.005541   \n",
      "697   23.0000   0.0000  ...              0.000922             0.004190   \n",
      "698  124.9700  47.5180  ...              0.001891             0.002734   \n",
      "699  152.4600  26.3015  ...              0.002023             0.002391   \n",
      "..        ...      ...  ...                   ...                  ...   \n",
      "781  273.7600  16.6300  ...              0.002799             0.002565   \n",
      "782   10.5500   0.0000  ...              0.000494             0.001826   \n",
      "783  228.8800  19.7830  ...              0.002717             0.003530   \n",
      "784  345.3400  12.1980  ...              0.001778             0.003660   \n",
      "785  295.8850   8.5103  ...              0.002046             0.004230   \n",
      "\n",
      "     DLS_L_Acc_z_PSD_skew  DLS_L_Acc_z_PSD_kurtosis  DLS_L_Acc_norm_DAmp  \\\n",
      "695             38.482202               2389.123896             1.529941   \n",
      "696             65.206423               4978.423068             1.581738   \n",
      "697             56.011452               3766.428967             1.388509   \n",
      "698             52.247620               3675.391060             1.441684   \n",
      "699             16.746425                635.773186             1.476122   \n",
      "..                    ...                       ...                  ...   \n",
      "781             21.016757               1035.520523             1.549709   \n",
      "782             62.694025               4709.090140             1.368772   \n",
      "783             44.863545               3011.513622             1.533531   \n",
      "784             50.851446               3526.410255             1.599264   \n",
      "785             50.617479               3537.372605             1.832155   \n",
      "\n",
      "     DLS_L_Acc_norm_DFreq  DLS_L_Acc_norm_PSD_mean  DLS_L_Acc_norm_PSD_std  \\\n",
      "695                     0                 0.008626                0.037369   \n",
      "696                     0                 0.007237                0.038971   \n",
      "697                     0                 0.007155                0.033806   \n",
      "698                     0                 0.010025                0.035207   \n",
      "699                     0                 0.005690                0.036380   \n",
      "..                    ...                      ...                     ...   \n",
      "781                     0                 0.007912                0.037836   \n",
      "782                     0                 0.002939                0.033425   \n",
      "783                     0                 0.008077                0.037989   \n",
      "784                     0                 0.007081                0.040032   \n",
      "785                     0                 0.010590                0.046610   \n",
      "\n",
      "     DLS_L_Acc_norm_PSD_skew  DLS_L_Acc_norm_PSD_kurtosis  \n",
      "695                35.171293                  1373.715929  \n",
      "696                34.445239                  1334.044525  \n",
      "697                35.580815                  1394.782018  \n",
      "698                34.997131                  1366.334895  \n",
      "699                34.440086                  1334.648815  \n",
      "..                       ...                          ...  \n",
      "781                35.299693                  1379.448944  \n",
      "782                35.597212                  1394.840222  \n",
      "783                33.749504                  1299.552059  \n",
      "784                32.888736                  1251.703925  \n",
      "785                31.246295                  1166.471442  \n",
      "\n",
      "[91 rows x 352 columns]\n",
      "TRAIN: [ 1  2  3  4  5  6  7  8  9 10 11 12 13 14 15 16 17 18 19 20 21 22 23 24\n",
      " 25 26 27 28 29 30 31 32 33 34 35 36 37 38 39 40 41 42 43 44 45 46 47 48\n",
      " 49 50 51 52 53 54 55 56 57 58 59 60 61 62 63 64 65 66 67 68 69 70 71 72\n",
      " 73 74 75 76 77 78 79 80 81 82 83 84 85 86 87 88 89 90] TEST: [0]\n",
      "Mean Absolute Error: 0.3856466000000002\n",
      "RMSE: 0.3856466000000002\n",
      "MAE Percent:  51.44293530084083\n",
      "Iteration:  1\n",
      "y_pred:  [0.9806466] y_test:  [[0.595]]\n",
      "TRAIN: [ 0  2  3  4  5  6  7  8  9 10 11 12 13 14 15 16 17 18 19 20 21 22 23 24\n",
      " 25 26 27 28 29 30 31 32 33 34 35 36 37 38 39 40 41 42 43 44 45 46 47 48\n",
      " 49 50 51 52 53 54 55 56 57 58 59 60 61 62 63 64 65 66 67 68 69 70 71 72\n",
      " 73 74 75 76 77 78 79 80 81 82 83 84 85 86 87 88 89 90] TEST: [1]\n"
     ]
    },
    {
     "name": "stderr",
     "output_type": "stream",
     "text": [
      "C:\\ProgramData\\Anaconda3\\lib\\site-packages\\ipykernel_launcher.py:209: DataConversionWarning: A column-vector y was passed when a 1d array was expected. Please change the shape of y to (n_samples,), for example using ravel().\n",
      "C:\\ProgramData\\Anaconda3\\lib\\site-packages\\ipykernel_launcher.py:209: DataConversionWarning: A column-vector y was passed when a 1d array was expected. Please change the shape of y to (n_samples,), for example using ravel().\n"
     ]
    },
    {
     "name": "stdout",
     "output_type": "stream",
     "text": [
      "Mean Absolute Error: 0.9063567000000001\n",
      "RMSE: 0.9063567000000001\n",
      "MAE Percent:  120.90252857819462\n",
      "Iteration:  2\n",
      "y_pred:  [0.9063567] y_test:  [[0.]]\n",
      "TRAIN: [ 0  1  3  4  5  6  7  8  9 10 11 12 13 14 15 16 17 18 19 20 21 22 23 24\n",
      " 25 26 27 28 29 30 31 32 33 34 35 36 37 38 39 40 41 42 43 44 45 46 47 48\n",
      " 49 50 51 52 53 54 55 56 57 58 59 60 61 62 63 64 65 66 67 68 69 70 71 72\n",
      " 73 74 75 76 77 78 79 80 81 82 83 84 85 86 87 88 89 90] TEST: [2]\n",
      "Mean Absolute Error: 0.121205\n",
      "RMSE: 0.121205\n",
      "MAE Percent:  16.16801748839069\n",
      "Iteration:  3\n",
      "y_pred:  [0.121205] y_test:  [[0.]]\n",
      "TRAIN: [ 0  1  2  4  5  6  7  8  9 10 11 12 13 14 15 16 17 18 19 20 21 22 23 24\n",
      " 25 26 27 28 29 30 31 32 33 34 35 36 37 38 39 40 41 42 43 44 45 46 47 48\n",
      " 49 50 51 52 53 54 55 56 57 58 59 60 61 62 63 64 65 66 67 68 69 70 71 72\n",
      " 73 74 75 76 77 78 79 80 81 82 83 84 85 86 87 88 89 90] TEST: [3]\n"
     ]
    },
    {
     "name": "stderr",
     "output_type": "stream",
     "text": [
      "C:\\ProgramData\\Anaconda3\\lib\\site-packages\\ipykernel_launcher.py:209: DataConversionWarning: A column-vector y was passed when a 1d array was expected. Please change the shape of y to (n_samples,), for example using ravel().\n",
      "C:\\ProgramData\\Anaconda3\\lib\\site-packages\\ipykernel_launcher.py:209: DataConversionWarning: A column-vector y was passed when a 1d array was expected. Please change the shape of y to (n_samples,), for example using ravel().\n"
     ]
    },
    {
     "name": "stdout",
     "output_type": "stream",
     "text": [
      "Mean Absolute Error: 0.14625029999999983\n",
      "RMSE: 0.14625029999999983\n",
      "MAE Percent:  19.508909765128358\n",
      "Iteration:  4\n",
      "y_pred:  [0.6367497] y_test:  [[0.783]]\n",
      "TRAIN: [ 0  1  2  3  5  6  7  8  9 10 11 12 13 14 15 16 17 18 19 20 21 22 23 24\n",
      " 25 26 27 28 29 30 31 32 33 34 35 36 37 38 39 40 41 42 43 44 45 46 47 48\n",
      " 49 50 51 52 53 54 55 56 57 58 59 60 61 62 63 64 65 66 67 68 69 70 71 72\n",
      " 73 74 75 76 77 78 79 80 81 82 83 84 85 86 87 88 89 90] TEST: [4]\n",
      "Mean Absolute Error: 0.03438000000000041\n",
      "RMSE: 0.03438000000000041\n",
      "MAE Percent:  4.586085072817777\n",
      "Iteration:  5\n",
      "y_pred:  [0.88262] y_test:  [[0.917]]\n",
      "TRAIN: [ 0  1  2  3  4  6  7  8  9 10 11 12 13 14 15 16 17 18 19 20 21 22 23 24\n",
      " 25 26 27 28 29 30 31 32 33 34 35 36 37 38 39 40 41 42 43 44 45 46 47 48\n",
      " 49 50 51 52 53 54 55 56 57 58 59 60 61 62 63 64 65 66 67 68 69 70 71 72\n",
      " 73 74 75 76 77 78 79 80 81 82 83 84 85 86 87 88 89 90] TEST: [5]\n"
     ]
    },
    {
     "name": "stderr",
     "output_type": "stream",
     "text": [
      "C:\\ProgramData\\Anaconda3\\lib\\site-packages\\ipykernel_launcher.py:209: DataConversionWarning: A column-vector y was passed when a 1d array was expected. Please change the shape of y to (n_samples,), for example using ravel().\n",
      "C:\\ProgramData\\Anaconda3\\lib\\site-packages\\ipykernel_launcher.py:209: DataConversionWarning: A column-vector y was passed when a 1d array was expected. Please change the shape of y to (n_samples,), for example using ravel().\n"
     ]
    },
    {
     "name": "stdout",
     "output_type": "stream",
     "text": [
      "Mean Absolute Error: 0.09537199999999993\n",
      "RMSE: 0.09537199999999993\n",
      "MAE Percent:  12.722050772680962\n",
      "Iteration:  6\n",
      "y_pred:  [0.181772] y_test:  [[0.0864]]\n",
      "TRAIN: [ 0  1  2  3  4  5  7  8  9 10 11 12 13 14 15 16 17 18 19 20 21 22 23 24\n",
      " 25 26 27 28 29 30 31 32 33 34 35 36 37 38 39 40 41 42 43 44 45 46 47 48\n",
      " 49 50 51 52 53 54 55 56 57 58 59 60 61 62 63 64 65 66 67 68 69 70 71 72\n",
      " 73 74 75 76 77 78 79 80 81 82 83 84 85 86 87 88 89 90] TEST: [6]\n",
      "Mean Absolute Error: 0.13346069999999965\n",
      "RMSE: 0.13346069999999965\n",
      "MAE Percent:  17.80285410348466\n",
      "Iteration:  7\n",
      "y_pred:  [1.2324607] y_test:  [[1.099]]\n",
      "TRAIN: [ 0  1  2  3  4  5  6  8  9 10 11 12 13 14 15 16 17 18 19 20 21 22 23 24\n",
      " 25 26 27 28 29 30 31 32 33 34 35 36 37 38 39 40 41 42 43 44 45 46 47 48\n",
      " 49 50 51 52 53 54 55 56 57 58 59 60 61 62 63 64 65 66 67 68 69 70 71 72\n",
      " 73 74 75 76 77 78 79 80 81 82 83 84 85 86 87 88 89 90] TEST: [7]\n"
     ]
    },
    {
     "name": "stderr",
     "output_type": "stream",
     "text": [
      "C:\\ProgramData\\Anaconda3\\lib\\site-packages\\ipykernel_launcher.py:209: DataConversionWarning: A column-vector y was passed when a 1d array was expected. Please change the shape of y to (n_samples,), for example using ravel().\n",
      "C:\\ProgramData\\Anaconda3\\lib\\site-packages\\ipykernel_launcher.py:209: DataConversionWarning: A column-vector y was passed when a 1d array was expected. Please change the shape of y to (n_samples,), for example using ravel().\n"
     ]
    },
    {
     "name": "stdout",
     "output_type": "stream",
     "text": [
      "Mean Absolute Error: 0.15984399999999965\n",
      "RMSE: 0.15984399999999965\n",
      "MAE Percent:  21.322227527035324\n",
      "Iteration:  8\n",
      "y_pred:  [1.326844] y_test:  [[1.167]]\n",
      "TRAIN: [ 0  1  2  3  4  5  6  7  9 10 11 12 13 14 15 16 17 18 19 20 21 22 23 24\n",
      " 25 26 27 28 29 30 31 32 33 34 35 36 37 38 39 40 41 42 43 44 45 46 47 48\n",
      " 49 50 51 52 53 54 55 56 57 58 59 60 61 62 63 64 65 66 67 68 69 70 71 72\n",
      " 73 74 75 76 77 78 79 80 81 82 83 84 85 86 87 88 89 90] TEST: [8]\n",
      "Mean Absolute Error: 0.03577240000000015\n",
      "RMSE: 0.03577240000000015\n",
      "MAE Percent:  4.771822852206671\n",
      "Iteration:  9\n",
      "y_pred:  [0.4662724] y_test:  [[0.4305]]\n",
      "TRAIN: [ 0  1  2  3  4  5  6  7  8 10 11 12 13 14 15 16 17 18 19 20 21 22 23 24\n",
      " 25 26 27 28 29 30 31 32 33 34 35 36 37 38 39 40 41 42 43 44 45 46 47 48\n",
      " 49 50 51 52 53 54 55 56 57 58 59 60 61 62 63 64 65 66 67 68 69 70 71 72\n",
      " 73 74 75 76 77 78 79 80 81 82 83 84 85 86 87 88 89 90] TEST: [9]\n"
     ]
    },
    {
     "name": "stderr",
     "output_type": "stream",
     "text": [
      "C:\\ProgramData\\Anaconda3\\lib\\site-packages\\ipykernel_launcher.py:209: DataConversionWarning: A column-vector y was passed when a 1d array was expected. Please change the shape of y to (n_samples,), for example using ravel().\n",
      "C:\\ProgramData\\Anaconda3\\lib\\site-packages\\ipykernel_launcher.py:209: DataConversionWarning: A column-vector y was passed when a 1d array was expected. Please change the shape of y to (n_samples,), for example using ravel().\n"
     ]
    },
    {
     "name": "stdout",
     "output_type": "stream",
     "text": [
      "Mean Absolute Error: 0.3489207000000003\n",
      "RMSE: 0.3489207000000003\n",
      "MAE Percent:  46.543921287583245\n",
      "Iteration:  10\n",
      "y_pred:  [0.8859207] y_test:  [[0.537]]\n",
      "TRAIN: [ 0  1  2  3  4  5  6  7  8  9 11 12 13 14 15 16 17 18 19 20 21 22 23 24\n",
      " 25 26 27 28 29 30 31 32 33 34 35 36 37 38 39 40 41 42 43 44 45 46 47 48\n",
      " 49 50 51 52 53 54 55 56 57 58 59 60 61 62 63 64 65 66 67 68 69 70 71 72\n",
      " 73 74 75 76 77 78 79 80 81 82 83 84 85 86 87 88 89 90] TEST: [10]\n",
      "Mean Absolute Error: 0.11494299999999989\n",
      "RMSE: 0.11494299999999989\n",
      "MAE Percent:  15.332704378268962\n",
      "Iteration:  11\n",
      "y_pred:  [0.217943] y_test:  [[0.103]]\n",
      "TRAIN: [ 0  1  2  3  4  5  6  7  8  9 10 12 13 14 15 16 17 18 19 20 21 22 23 24\n",
      " 25 26 27 28 29 30 31 32 33 34 35 36 37 38 39 40 41 42 43 44 45 46 47 48\n",
      " 49 50 51 52 53 54 55 56 57 58 59 60 61 62 63 64 65 66 67 68 69 70 71 72\n",
      " 73 74 75 76 77 78 79 80 81 82 83 84 85 86 87 88 89 90] TEST: [11]\n"
     ]
    },
    {
     "name": "stderr",
     "output_type": "stream",
     "text": [
      "C:\\ProgramData\\Anaconda3\\lib\\site-packages\\ipykernel_launcher.py:209: DataConversionWarning: A column-vector y was passed when a 1d array was expected. Please change the shape of y to (n_samples,), for example using ravel().\n",
      "C:\\ProgramData\\Anaconda3\\lib\\site-packages\\ipykernel_launcher.py:209: DataConversionWarning: A column-vector y was passed when a 1d array was expected. Please change the shape of y to (n_samples,), for example using ravel().\n"
     ]
    },
    {
     "name": "stdout",
     "output_type": "stream",
     "text": [
      "Mean Absolute Error: 0.12506459999999997\n",
      "RMSE: 0.12506459999999997\n",
      "MAE Percent:  16.682864898136103\n",
      "Iteration:  12\n",
      "y_pred:  [0.9459354] y_test:  [[1.071]]\n",
      "TRAIN: [ 0  1  2  3  4  5  6  7  8  9 10 11 13 14 15 16 17 18 19 20 21 22 23 24\n",
      " 25 26 27 28 29 30 31 32 33 34 35 36 37 38 39 40 41 42 43 44 45 46 47 48\n",
      " 49 50 51 52 53 54 55 56 57 58 59 60 61 62 63 64 65 66 67 68 69 70 71 72\n",
      " 73 74 75 76 77 78 79 80 81 82 83 84 85 86 87 88 89 90] TEST: [12]\n",
      "Mean Absolute Error: 0.08773000000000053\n",
      "RMSE: 0.08773000000000053\n",
      "MAE Percent:  11.702653968536975\n",
      "Iteration:  13\n",
      "y_pred:  [1.31773] y_test:  [[1.23]]\n",
      "TRAIN: [ 0  1  2  3  4  5  6  7  8  9 10 11 12 14 15 16 17 18 19 20 21 22 23 24\n",
      " 25 26 27 28 29 30 31 32 33 34 35 36 37 38 39 40 41 42 43 44 45 46 47 48\n",
      " 49 50 51 52 53 54 55 56 57 58 59 60 61 62 63 64 65 66 67 68 69 70 71 72\n",
      " 73 74 75 76 77 78 79 80 81 82 83 84 85 86 87 88 89 90] TEST: [13]\n"
     ]
    },
    {
     "name": "stderr",
     "output_type": "stream",
     "text": [
      "C:\\ProgramData\\Anaconda3\\lib\\site-packages\\ipykernel_launcher.py:209: DataConversionWarning: A column-vector y was passed when a 1d array was expected. Please change the shape of y to (n_samples,), for example using ravel().\n",
      "C:\\ProgramData\\Anaconda3\\lib\\site-packages\\ipykernel_launcher.py:209: DataConversionWarning: A column-vector y was passed when a 1d array was expected. Please change the shape of y to (n_samples,), for example using ravel().\n"
     ]
    },
    {
     "name": "stdout",
     "output_type": "stream",
     "text": [
      "Mean Absolute Error: 0.08686020000000005\n",
      "RMSE: 0.08686020000000005\n",
      "MAE Percent:  11.58662788371036\n",
      "Iteration:  14\n",
      "y_pred:  [0.9291398] y_test:  [[1.016]]\n",
      "TRAIN: [ 0  1  2  3  4  5  6  7  8  9 10 11 12 13 15 16 17 18 19 20 21 22 23 24\n",
      " 25 26 27 28 29 30 31 32 33 34 35 36 37 38 39 40 41 42 43 44 45 46 47 48\n",
      " 49 50 51 52 53 54 55 56 57 58 59 60 61 62 63 64 65 66 67 68 69 70 71 72\n",
      " 73 74 75 76 77 78 79 80 81 82 83 84 85 86 87 88 89 90] TEST: [14]\n",
      "Mean Absolute Error: 0.05059200000000019\n",
      "RMSE: 0.05059200000000019\n",
      "MAE Percent:  6.748668295636855\n",
      "Iteration:  15\n",
      "y_pred:  [0.275408] y_test:  [[0.326]]\n",
      "TRAIN: [ 0  1  2  3  4  5  6  7  8  9 10 11 12 13 14 16 17 18 19 20 21 22 23 24\n",
      " 25 26 27 28 29 30 31 32 33 34 35 36 37 38 39 40 41 42 43 44 45 46 47 48\n",
      " 49 50 51 52 53 54 55 56 57 58 59 60 61 62 63 64 65 66 67 68 69 70 71 72\n",
      " 73 74 75 76 77 78 79 80 81 82 83 84 85 86 87 88 89 90] TEST: [15]\n"
     ]
    },
    {
     "name": "stderr",
     "output_type": "stream",
     "text": [
      "C:\\ProgramData\\Anaconda3\\lib\\site-packages\\ipykernel_launcher.py:209: DataConversionWarning: A column-vector y was passed when a 1d array was expected. Please change the shape of y to (n_samples,), for example using ravel().\n",
      "C:\\ProgramData\\Anaconda3\\lib\\site-packages\\ipykernel_launcher.py:209: DataConversionWarning: A column-vector y was passed when a 1d array was expected. Please change the shape of y to (n_samples,), for example using ravel().\n"
     ]
    },
    {
     "name": "stdout",
     "output_type": "stream",
     "text": [
      "Mean Absolute Error: 0.13741969999999926\n",
      "RMSE: 0.13741969999999926\n",
      "MAE Percent:  18.330960874958873\n",
      "Iteration:  16\n",
      "y_pred:  [1.3184197] y_test:  [[1.181]]\n",
      "TRAIN: [ 0  1  2  3  4  5  6  7  8  9 10 11 12 13 14 15 17 18 19 20 21 22 23 24\n",
      " 25 26 27 28 29 30 31 32 33 34 35 36 37 38 39 40 41 42 43 44 45 46 47 48\n",
      " 49 50 51 52 53 54 55 56 57 58 59 60 61 62 63 64 65 66 67 68 69 70 71 72\n",
      " 73 74 75 76 77 78 79 80 81 82 83 84 85 86 87 88 89 90] TEST: [16]\n",
      "Mean Absolute Error: 0.138368\n",
      "RMSE: 0.138368\n",
      "MAE Percent:  18.45745838730781\n",
      "Iteration:  17\n",
      "y_pred:  [0.138368] y_test:  [[0.]]\n",
      "TRAIN: [ 0  1  2  3  4  5  6  7  8  9 10 11 12 13 14 15 16 18 19 20 21 22 23 24\n",
      " 25 26 27 28 29 30 31 32 33 34 35 36 37 38 39 40 41 42 43 44 45 46 47 48\n",
      " 49 50 51 52 53 54 55 56 57 58 59 60 61 62 63 64 65 66 67 68 69 70 71 72\n",
      " 73 74 75 76 77 78 79 80 81 82 83 84 85 86 87 88 89 90] TEST: [17]\n"
     ]
    },
    {
     "name": "stderr",
     "output_type": "stream",
     "text": [
      "C:\\ProgramData\\Anaconda3\\lib\\site-packages\\ipykernel_launcher.py:209: DataConversionWarning: A column-vector y was passed when a 1d array was expected. Please change the shape of y to (n_samples,), for example using ravel().\n",
      "C:\\ProgramData\\Anaconda3\\lib\\site-packages\\ipykernel_launcher.py:209: DataConversionWarning: A column-vector y was passed when a 1d array was expected. Please change the shape of y to (n_samples,), for example using ravel().\n"
     ]
    },
    {
     "name": "stdout",
     "output_type": "stream",
     "text": [
      "Mean Absolute Error: 0.3247554999999996\n",
      "RMSE: 0.3247554999999996\n",
      "MAE Percent:  43.320429053678126\n",
      "Iteration:  18\n",
      "y_pred:  [0.5327555] y_test:  [[0.208]]\n",
      "TRAIN: [ 0  1  2  3  4  5  6  7  8  9 10 11 12 13 14 15 16 17 19 20 21 22 23 24\n",
      " 25 26 27 28 29 30 31 32 33 34 35 36 37 38 39 40 41 42 43 44 45 46 47 48\n",
      " 49 50 51 52 53 54 55 56 57 58 59 60 61 62 63 64 65 66 67 68 69 70 71 72\n",
      " 73 74 75 76 77 78 79 80 81 82 83 84 85 86 87 88 89 90] TEST: [18]\n",
      "Mean Absolute Error: 0.09285500000000002\n",
      "RMSE: 0.09285500000000002\n",
      "MAE Percent:  12.386298122061945\n",
      "Iteration:  19\n",
      "y_pred:  [0.092855] y_test:  [[0.]]\n",
      "TRAIN: [ 0  1  2  3  4  5  6  7  8  9 10 11 12 13 14 15 16 17 18 20 21 22 23 24\n",
      " 25 26 27 28 29 30 31 32 33 34 35 36 37 38 39 40 41 42 43 44 45 46 47 48\n",
      " 49 50 51 52 53 54 55 56 57 58 59 60 61 62 63 64 65 66 67 68 69 70 71 72\n",
      " 73 74 75 76 77 78 79 80 81 82 83 84 85 86 87 88 89 90] TEST: [19]\n"
     ]
    },
    {
     "name": "stderr",
     "output_type": "stream",
     "text": [
      "C:\\ProgramData\\Anaconda3\\lib\\site-packages\\ipykernel_launcher.py:209: DataConversionWarning: A column-vector y was passed when a 1d array was expected. Please change the shape of y to (n_samples,), for example using ravel().\n",
      "C:\\ProgramData\\Anaconda3\\lib\\site-packages\\ipykernel_launcher.py:209: DataConversionWarning: A column-vector y was passed when a 1d array was expected. Please change the shape of y to (n_samples,), for example using ravel().\n"
     ]
    },
    {
     "name": "stdout",
     "output_type": "stream",
     "text": [
      "Mean Absolute Error: 0.007914000000001531\n",
      "RMSE: 0.007914000000001531\n",
      "MAE Percent:  1.0556799670240393\n",
      "Iteration:  20\n",
      "y_pred:  [1.539086] y_test:  [[1.547]]\n",
      "TRAIN: [ 0  1  2  3  4  5  6  7  8  9 10 11 12 13 14 15 16 17 18 19 21 22 23 24\n",
      " 25 26 27 28 29 30 31 32 33 34 35 36 37 38 39 40 41 42 43 44 45 46 47 48\n",
      " 49 50 51 52 53 54 55 56 57 58 59 60 61 62 63 64 65 66 67 68 69 70 71 72\n",
      " 73 74 75 76 77 78 79 80 81 82 83 84 85 86 87 88 89 90] TEST: [20]\n",
      "Mean Absolute Error: 0.2604486000000002\n",
      "RMSE: 0.2604486000000002\n",
      "MAE Percent:  34.7422756456159\n",
      "Iteration:  21\n",
      "y_pred:  [0.4105514] y_test:  [[0.671]]\n",
      "TRAIN: [ 0  1  2  3  4  5  6  7  8  9 10 11 12 13 14 15 16 17 18 19 20 22 23 24\n",
      " 25 26 27 28 29 30 31 32 33 34 35 36 37 38 39 40 41 42 43 44 45 46 47 48\n",
      " 49 50 51 52 53 54 55 56 57 58 59 60 61 62 63 64 65 66 67 68 69 70 71 72\n",
      " 73 74 75 76 77 78 79 80 81 82 83 84 85 86 87 88 89 90] TEST: [21]\n"
     ]
    },
    {
     "name": "stderr",
     "output_type": "stream",
     "text": [
      "C:\\ProgramData\\Anaconda3\\lib\\site-packages\\ipykernel_launcher.py:209: DataConversionWarning: A column-vector y was passed when a 1d array was expected. Please change the shape of y to (n_samples,), for example using ravel().\n",
      "C:\\ProgramData\\Anaconda3\\lib\\site-packages\\ipykernel_launcher.py:209: DataConversionWarning: A column-vector y was passed when a 1d array was expected. Please change the shape of y to (n_samples,), for example using ravel().\n"
     ]
    },
    {
     "name": "stdout",
     "output_type": "stream",
     "text": [
      "Mean Absolute Error: 0.07935069999999991\n",
      "RMSE: 0.07935069999999991\n",
      "MAE Percent:  10.584905782072042\n",
      "Iteration:  22\n",
      "y_pred:  [0.2453507] y_test:  [[0.166]]\n",
      "TRAIN: [ 0  1  2  3  4  5  6  7  8  9 10 11 12 13 14 15 16 17 18 19 20 21 23 24\n",
      " 25 26 27 28 29 30 31 32 33 34 35 36 37 38 39 40 41 42 43 44 45 46 47 48\n",
      " 49 50 51 52 53 54 55 56 57 58 59 60 61 62 63 64 65 66 67 68 69 70 71 72\n",
      " 73 74 75 76 77 78 79 80 81 82 83 84 85 86 87 88 89 90] TEST: [22]\n",
      "Mean Absolute Error: 0.024473999999999996\n",
      "RMSE: 0.024473999999999996\n",
      "MAE Percent:  3.2646842952920565\n",
      "Iteration:  23\n",
      "y_pred:  [0.945526] y_test:  [[0.97]]\n",
      "TRAIN: [ 0  1  2  3  4  5  6  7  8  9 10 11 12 13 14 15 16 17 18 19 20 21 22 24\n",
      " 25 26 27 28 29 30 31 32 33 34 35 36 37 38 39 40 41 42 43 44 45 46 47 48\n",
      " 49 50 51 52 53 54 55 56 57 58 59 60 61 62 63 64 65 66 67 68 69 70 71 72\n",
      " 73 74 75 76 77 78 79 80 81 82 83 84 85 86 87 88 89 90] TEST: [23]\n"
     ]
    },
    {
     "name": "stderr",
     "output_type": "stream",
     "text": [
      "C:\\ProgramData\\Anaconda3\\lib\\site-packages\\ipykernel_launcher.py:209: DataConversionWarning: A column-vector y was passed when a 1d array was expected. Please change the shape of y to (n_samples,), for example using ravel().\n",
      "C:\\ProgramData\\Anaconda3\\lib\\site-packages\\ipykernel_launcher.py:209: DataConversionWarning: A column-vector y was passed when a 1d array was expected. Please change the shape of y to (n_samples,), for example using ravel().\n"
     ]
    },
    {
     "name": "stdout",
     "output_type": "stream",
     "text": [
      "Mean Absolute Error: 0.051467999999999986\n",
      "RMSE: 0.051467999999999986\n",
      "MAE Percent:  6.865521423146668\n",
      "Iteration:  24\n",
      "y_pred:  [0.051468] y_test:  [[0.]]\n",
      "TRAIN: [ 0  1  2  3  4  5  6  7  8  9 10 11 12 13 14 15 16 17 18 19 20 21 22 23\n",
      " 25 26 27 28 29 30 31 32 33 34 35 36 37 38 39 40 41 42 43 44 45 46 47 48\n",
      " 49 50 51 52 53 54 55 56 57 58 59 60 61 62 63 64 65 66 67 68 69 70 71 72\n",
      " 73 74 75 76 77 78 79 80 81 82 83 84 85 86 87 88 89 90] TEST: [24]\n",
      "Mean Absolute Error: 0.03575300000000023\n",
      "RMSE: 0.03575300000000023\n",
      "MAE Percent:  4.769235008971876\n",
      "Iteration:  25\n",
      "y_pred:  [0.160247] y_test:  [[0.196]]\n",
      "TRAIN: [ 0  1  2  3  4  5  6  7  8  9 10 11 12 13 14 15 16 17 18 19 20 21 22 23\n",
      " 24 26 27 28 29 30 31 32 33 34 35 36 37 38 39 40 41 42 43 44 45 46 47 48\n",
      " 49 50 51 52 53 54 55 56 57 58 59 60 61 62 63 64 65 66 67 68 69 70 71 72\n",
      " 73 74 75 76 77 78 79 80 81 82 83 84 85 86 87 88 89 90] TEST: [25]\n"
     ]
    },
    {
     "name": "stderr",
     "output_type": "stream",
     "text": [
      "C:\\ProgramData\\Anaconda3\\lib\\site-packages\\ipykernel_launcher.py:209: DataConversionWarning: A column-vector y was passed when a 1d array was expected. Please change the shape of y to (n_samples,), for example using ravel().\n",
      "C:\\ProgramData\\Anaconda3\\lib\\site-packages\\ipykernel_launcher.py:209: DataConversionWarning: A column-vector y was passed when a 1d array was expected. Please change the shape of y to (n_samples,), for example using ravel().\n"
     ]
    },
    {
     "name": "stdout",
     "output_type": "stream",
     "text": [
      "Mean Absolute Error: 0.04432859999999994\n",
      "RMSE: 0.04432859999999994\n",
      "MAE Percent:  5.91316843394146\n",
      "Iteration:  26\n",
      "y_pred:  [0.9196714] y_test:  [[0.964]]\n",
      "TRAIN: [ 0  1  2  3  4  5  6  7  8  9 10 11 12 13 14 15 16 17 18 19 20 21 22 23\n",
      " 24 25 27 28 29 30 31 32 33 34 35 36 37 38 39 40 41 42 43 44 45 46 47 48\n",
      " 49 50 51 52 53 54 55 56 57 58 59 60 61 62 63 64 65 66 67 68 69 70 71 72\n",
      " 73 74 75 76 77 78 79 80 81 82 83 84 85 86 87 88 89 90] TEST: [26]\n",
      "Mean Absolute Error: 0.04482500000000006\n",
      "RMSE: 0.04482500000000006\n",
      "MAE Percent:  5.979385206197053\n",
      "Iteration:  27\n",
      "y_pred:  [0.299825] y_test:  [[0.255]]\n",
      "TRAIN: [ 0  1  2  3  4  5  6  7  8  9 10 11 12 13 14 15 16 17 18 19 20 21 22 23\n",
      " 24 25 26 28 29 30 31 32 33 34 35 36 37 38 39 40 41 42 43 44 45 46 47 48\n",
      " 49 50 51 52 53 54 55 56 57 58 59 60 61 62 63 64 65 66 67 68 69 70 71 72\n",
      " 73 74 75 76 77 78 79 80 81 82 83 84 85 86 87 88 89 90] TEST: [27]\n"
     ]
    },
    {
     "name": "stderr",
     "output_type": "stream",
     "text": [
      "C:\\ProgramData\\Anaconda3\\lib\\site-packages\\ipykernel_launcher.py:209: DataConversionWarning: A column-vector y was passed when a 1d array was expected. Please change the shape of y to (n_samples,), for example using ravel().\n",
      "C:\\ProgramData\\Anaconda3\\lib\\site-packages\\ipykernel_launcher.py:209: DataConversionWarning: A column-vector y was passed when a 1d array was expected. Please change the shape of y to (n_samples,), for example using ravel().\n"
     ]
    },
    {
     "name": "stdout",
     "output_type": "stream",
     "text": [
      "Mean Absolute Error: 0.12433700000000047\n",
      "RMSE: 0.12433700000000047\n",
      "MAE Percent:  16.58580743743279\n",
      "Iteration:  28\n",
      "y_pred:  [0.912337] y_test:  [[0.788]]\n",
      "TRAIN: [ 0  1  2  3  4  5  6  7  8  9 10 11 12 13 14 15 16 17 18 19 20 21 22 23\n",
      " 24 25 26 27 29 30 31 32 33 34 35 36 37 38 39 40 41 42 43 44 45 46 47 48\n",
      " 49 50 51 52 53 54 55 56 57 58 59 60 61 62 63 64 65 66 67 68 69 70 71 72\n",
      " 73 74 75 76 77 78 79 80 81 82 83 84 85 86 87 88 89 90] TEST: [28]\n",
      "Mean Absolute Error: 0.17739800000000028\n",
      "RMSE: 0.17739800000000028\n",
      "MAE Percent:  23.66382547259219\n",
      "Iteration:  29\n",
      "y_pred:  [0.482602] y_test:  [[0.66]]\n",
      "TRAIN: [ 0  1  2  3  4  5  6  7  8  9 10 11 12 13 14 15 16 17 18 19 20 21 22 23\n",
      " 24 25 26 27 28 30 31 32 33 34 35 36 37 38 39 40 41 42 43 44 45 46 47 48\n",
      " 49 50 51 52 53 54 55 56 57 58 59 60 61 62 63 64 65 66 67 68 69 70 71 72\n",
      " 73 74 75 76 77 78 79 80 81 82 83 84 85 86 87 88 89 90] TEST: [29]\n"
     ]
    },
    {
     "name": "stderr",
     "output_type": "stream",
     "text": [
      "C:\\ProgramData\\Anaconda3\\lib\\site-packages\\ipykernel_launcher.py:209: DataConversionWarning: A column-vector y was passed when a 1d array was expected. Please change the shape of y to (n_samples,), for example using ravel().\n",
      "C:\\ProgramData\\Anaconda3\\lib\\site-packages\\ipykernel_launcher.py:209: DataConversionWarning: A column-vector y was passed when a 1d array was expected. Please change the shape of y to (n_samples,), for example using ravel().\n"
     ]
    },
    {
     "name": "stdout",
     "output_type": "stream",
     "text": [
      "Mean Absolute Error: 0.0519169999999991\n",
      "RMSE: 0.0519169999999991\n",
      "MAE Percent:  6.925415320694403\n",
      "Iteration:  30\n",
      "y_pred:  [1.486917] y_test:  [[1.435]]\n",
      "TRAIN: [ 0  1  2  3  4  5  6  7  8  9 10 11 12 13 14 15 16 17 18 19 20 21 22 23\n",
      " 24 25 26 27 28 29 31 32 33 34 35 36 37 38 39 40 41 42 43 44 45 46 47 48\n",
      " 49 50 51 52 53 54 55 56 57 58 59 60 61 62 63 64 65 66 67 68 69 70 71 72\n",
      " 73 74 75 76 77 78 79 80 81 82 83 84 85 86 87 88 89 90] TEST: [30]\n",
      "Mean Absolute Error: 0.24082219999999976\n",
      "RMSE: 0.24082219999999976\n",
      "MAE Percent:  32.12423201347071\n",
      "Iteration:  31\n",
      "y_pred:  [0.8681778] y_test:  [[1.109]]\n",
      "TRAIN: [ 0  1  2  3  4  5  6  7  8  9 10 11 12 13 14 15 16 17 18 19 20 21 22 23\n",
      " 24 25 26 27 28 29 30 32 33 34 35 36 37 38 39 40 41 42 43 44 45 46 47 48\n",
      " 49 50 51 52 53 54 55 56 57 58 59 60 61 62 63 64 65 66 67 68 69 70 71 72\n",
      " 73 74 75 76 77 78 79 80 81 82 83 84 85 86 87 88 89 90] TEST: [31]\n"
     ]
    },
    {
     "name": "stderr",
     "output_type": "stream",
     "text": [
      "C:\\ProgramData\\Anaconda3\\lib\\site-packages\\ipykernel_launcher.py:209: DataConversionWarning: A column-vector y was passed when a 1d array was expected. Please change the shape of y to (n_samples,), for example using ravel().\n",
      "C:\\ProgramData\\Anaconda3\\lib\\site-packages\\ipykernel_launcher.py:209: DataConversionWarning: A column-vector y was passed when a 1d array was expected. Please change the shape of y to (n_samples,), for example using ravel().\n"
     ]
    },
    {
     "name": "stdout",
     "output_type": "stream",
     "text": [
      "Mean Absolute Error: 0.5049491999999997\n",
      "RMSE: 0.5049491999999997\n",
      "MAE Percent:  67.35718407944296\n",
      "Iteration:  32\n",
      "y_pred:  [0.8950508] y_test:  [[1.4]]\n",
      "TRAIN: [ 0  1  2  3  4  5  6  7  8  9 10 11 12 13 14 15 16 17 18 19 20 21 22 23\n",
      " 24 25 26 27 28 29 30 31 33 34 35 36 37 38 39 40 41 42 43 44 45 46 47 48\n",
      " 49 50 51 52 53 54 55 56 57 58 59 60 61 62 63 64 65 66 67 68 69 70 71 72\n",
      " 73 74 75 76 77 78 79 80 81 82 83 84 85 86 87 88 89 90] TEST: [32]\n",
      "Mean Absolute Error: 0.7930960000000005\n",
      "RMSE: 0.7930960000000005\n",
      "MAE Percent:  105.79423289445742\n",
      "Iteration:  33\n",
      "y_pred:  [1.378904] y_test:  [[2.172]]\n",
      "TRAIN: [ 0  1  2  3  4  5  6  7  8  9 10 11 12 13 14 15 16 17 18 19 20 21 22 23\n",
      " 24 25 26 27 28 29 30 31 32 34 35 36 37 38 39 40 41 42 43 44 45 46 47 48\n",
      " 49 50 51 52 53 54 55 56 57 58 59 60 61 62 63 64 65 66 67 68 69 70 71 72\n",
      " 73 74 75 76 77 78 79 80 81 82 83 84 85 86 87 88 89 90] TEST: [33]\n"
     ]
    },
    {
     "name": "stderr",
     "output_type": "stream",
     "text": [
      "C:\\ProgramData\\Anaconda3\\lib\\site-packages\\ipykernel_launcher.py:209: DataConversionWarning: A column-vector y was passed when a 1d array was expected. Please change the shape of y to (n_samples,), for example using ravel().\n",
      "C:\\ProgramData\\Anaconda3\\lib\\site-packages\\ipykernel_launcher.py:209: DataConversionWarning: A column-vector y was passed when a 1d array was expected. Please change the shape of y to (n_samples,), for example using ravel().\n"
     ]
    },
    {
     "name": "stdout",
     "output_type": "stream",
     "text": [
      "Mean Absolute Error: 0.2713949000000002\n",
      "RMSE: 0.2713949000000002\n",
      "MAE Percent:  36.20244618175856\n",
      "Iteration:  34\n",
      "y_pred:  [0.6536051] y_test:  [[0.925]]\n",
      "TRAIN: [ 0  1  2  3  4  5  6  7  8  9 10 11 12 13 14 15 16 17 18 19 20 21 22 23\n",
      " 24 25 26 27 28 29 30 31 32 33 35 36 37 38 39 40 41 42 43 44 45 46 47 48\n",
      " 49 50 51 52 53 54 55 56 57 58 59 60 61 62 63 64 65 66 67 68 69 70 71 72\n",
      " 73 74 75 76 77 78 79 80 81 82 83 84 85 86 87 88 89 90] TEST: [34]\n",
      "Mean Absolute Error: 0.10058199999999992\n",
      "RMSE: 0.10058199999999992\n",
      "MAE Percent:  13.417033414605928\n",
      "Iteration:  35\n",
      "y_pred:  [0.246582] y_test:  [[0.146]]\n",
      "TRAIN: [ 0  1  2  3  4  5  6  7  8  9 10 11 12 13 14 15 16 17 18 19 20 21 22 23\n",
      " 24 25 26 27 28 29 30 31 32 33 34 36 37 38 39 40 41 42 43 44 45 46 47 48\n",
      " 49 50 51 52 53 54 55 56 57 58 59 60 61 62 63 64 65 66 67 68 69 70 71 72\n",
      " 73 74 75 76 77 78 79 80 81 82 83 84 85 86 87 88 89 90] TEST: [35]\n"
     ]
    },
    {
     "name": "stderr",
     "output_type": "stream",
     "text": [
      "C:\\ProgramData\\Anaconda3\\lib\\site-packages\\ipykernel_launcher.py:209: DataConversionWarning: A column-vector y was passed when a 1d array was expected. Please change the shape of y to (n_samples,), for example using ravel().\n",
      "C:\\ProgramData\\Anaconda3\\lib\\site-packages\\ipykernel_launcher.py:209: DataConversionWarning: A column-vector y was passed when a 1d array was expected. Please change the shape of y to (n_samples,), for example using ravel().\n"
     ]
    },
    {
     "name": "stdout",
     "output_type": "stream",
     "text": [
      "Mean Absolute Error: 0.03969600000000004\n",
      "RMSE: 0.03969600000000004\n",
      "MAE Percent:  5.295207476747309\n",
      "Iteration:  36\n",
      "y_pred:  [0.096804] y_test:  [[0.1365]]\n",
      "TRAIN: [ 0  1  2  3  4  5  6  7  8  9 10 11 12 13 14 15 16 17 18 19 20 21 22 23\n",
      " 24 25 26 27 28 29 30 31 32 33 34 35 37 38 39 40 41 42 43 44 45 46 47 48\n",
      " 49 50 51 52 53 54 55 56 57 58 59 60 61 62 63 64 65 66 67 68 69 70 71 72\n",
      " 73 74 75 76 77 78 79 80 81 82 83 84 85 86 87 88 89 90] TEST: [36]\n",
      "Mean Absolute Error: 0.21379209999999965\n",
      "RMSE: 0.21379209999999965\n",
      "MAE Percent:  28.51857936289564\n",
      "Iteration:  37\n",
      "y_pred:  [0.4775921] y_test:  [[0.2638]]\n",
      "TRAIN: [ 0  1  2  3  4  5  6  7  8  9 10 11 12 13 14 15 16 17 18 19 20 21 22 23\n",
      " 24 25 26 27 28 29 30 31 32 33 34 35 36 38 39 40 41 42 43 44 45 46 47 48\n",
      " 49 50 51 52 53 54 55 56 57 58 59 60 61 62 63 64 65 66 67 68 69 70 71 72\n",
      " 73 74 75 76 77 78 79 80 81 82 83 84 85 86 87 88 89 90] TEST: [37]\n"
     ]
    },
    {
     "name": "stderr",
     "output_type": "stream",
     "text": [
      "C:\\ProgramData\\Anaconda3\\lib\\site-packages\\ipykernel_launcher.py:209: DataConversionWarning: A column-vector y was passed when a 1d array was expected. Please change the shape of y to (n_samples,), for example using ravel().\n",
      "C:\\ProgramData\\Anaconda3\\lib\\site-packages\\ipykernel_launcher.py:209: DataConversionWarning: A column-vector y was passed when a 1d array was expected. Please change the shape of y to (n_samples,), for example using ravel().\n"
     ]
    },
    {
     "name": "stdout",
     "output_type": "stream",
     "text": [
      "Mean Absolute Error: 0.014223999999999903\n",
      "RMSE: 0.014223999999999903\n",
      "MAE Percent:  1.8973959882419673\n",
      "Iteration:  38\n",
      "y_pred:  [0.173824] y_test:  [[0.1596]]\n",
      "TRAIN: [ 0  1  2  3  4  5  6  7  8  9 10 11 12 13 14 15 16 17 18 19 20 21 22 23\n",
      " 24 25 26 27 28 29 30 31 32 33 34 35 36 37 39 40 41 42 43 44 45 46 47 48\n",
      " 49 50 51 52 53 54 55 56 57 58 59 60 61 62 63 64 65 66 67 68 69 70 71 72\n",
      " 73 74 75 76 77 78 79 80 81 82 83 84 85 86 87 88 89 90] TEST: [38]\n",
      "Mean Absolute Error: 0.17212009999999978\n",
      "RMSE: 0.17212009999999978\n",
      "MAE Percent:  22.959785379345334\n",
      "Iteration:  39\n",
      "y_pred:  [0.8291201] y_test:  [[0.657]]\n",
      "TRAIN: [ 0  1  2  3  4  5  6  7  8  9 10 11 12 13 14 15 16 17 18 19 20 21 22 23\n",
      " 24 25 26 27 28 29 30 31 32 33 34 35 36 37 38 40 41 42 43 44 45 46 47 48\n",
      " 49 50 51 52 53 54 55 56 57 58 59 60 61 62 63 64 65 66 67 68 69 70 71 72\n",
      " 73 74 75 76 77 78 79 80 81 82 83 84 85 86 87 88 89 90] TEST: [39]\n"
     ]
    },
    {
     "name": "stderr",
     "output_type": "stream",
     "text": [
      "C:\\ProgramData\\Anaconda3\\lib\\site-packages\\ipykernel_launcher.py:209: DataConversionWarning: A column-vector y was passed when a 1d array was expected. Please change the shape of y to (n_samples,), for example using ravel().\n",
      "C:\\ProgramData\\Anaconda3\\lib\\site-packages\\ipykernel_launcher.py:209: DataConversionWarning: A column-vector y was passed when a 1d array was expected. Please change the shape of y to (n_samples,), for example using ravel().\n"
     ]
    },
    {
     "name": "stdout",
     "output_type": "stream",
     "text": [
      "Mean Absolute Error: 0.0009153000000006184\n",
      "RMSE: 0.0009153000000006184\n",
      "MAE Percent:  0.122095510970125\n",
      "Iteration:  40\n",
      "y_pred:  [1.3390847] y_test:  [[1.34]]\n",
      "TRAIN: [ 0  1  2  3  4  5  6  7  8  9 10 11 12 13 14 15 16 17 18 19 20 21 22 23\n",
      " 24 25 26 27 28 29 30 31 32 33 34 35 36 37 38 39 41 42 43 44 45 46 47 48\n",
      " 49 50 51 52 53 54 55 56 57 58 59 60 61 62 63 64 65 66 67 68 69 70 71 72\n",
      " 73 74 75 76 77 78 79 80 81 82 83 84 85 86 87 88 89 90] TEST: [40]\n",
      "Mean Absolute Error: 0.2599830000000002\n",
      "RMSE: 0.2599830000000002\n",
      "MAE Percent:  34.680167407980534\n",
      "Iteration:  41\n",
      "y_pred:  [1.236983] y_test:  [[0.977]]\n",
      "TRAIN: [ 0  1  2  3  4  5  6  7  8  9 10 11 12 13 14 15 16 17 18 19 20 21 22 23\n",
      " 24 25 26 27 28 29 30 31 32 33 34 35 36 37 38 39 40 42 43 44 45 46 47 48\n",
      " 49 50 51 52 53 54 55 56 57 58 59 60 61 62 63 64 65 66 67 68 69 70 71 72\n",
      " 73 74 75 76 77 78 79 80 81 82 83 84 85 86 87 88 89 90] TEST: [41]\n"
     ]
    },
    {
     "name": "stderr",
     "output_type": "stream",
     "text": [
      "C:\\ProgramData\\Anaconda3\\lib\\site-packages\\ipykernel_launcher.py:209: DataConversionWarning: A column-vector y was passed when a 1d array was expected. Please change the shape of y to (n_samples,), for example using ravel().\n",
      "C:\\ProgramData\\Anaconda3\\lib\\site-packages\\ipykernel_launcher.py:209: DataConversionWarning: A column-vector y was passed when a 1d array was expected. Please change the shape of y to (n_samples,), for example using ravel().\n"
     ]
    },
    {
     "name": "stdout",
     "output_type": "stream",
     "text": [
      "Mean Absolute Error: 0.13723439999999992\n",
      "RMSE: 0.13723439999999992\n",
      "MAE Percent:  18.306242970247123\n",
      "Iteration:  42\n",
      "y_pred:  [0.4532344] y_test:  [[0.316]]\n",
      "TRAIN: [ 0  1  2  3  4  5  6  7  8  9 10 11 12 13 14 15 16 17 18 19 20 21 22 23\n",
      " 24 25 26 27 28 29 30 31 32 33 34 35 36 37 38 39 40 41 43 44 45 46 47 48\n",
      " 49 50 51 52 53 54 55 56 57 58 59 60 61 62 63 64 65 66 67 68 69 70 71 72\n",
      " 73 74 75 76 77 78 79 80 81 82 83 84 85 86 87 88 89 90] TEST: [42]\n",
      "Mean Absolute Error: 0.871632\n",
      "RMSE: 0.871632\n",
      "MAE Percent:  116.27046260006564\n",
      "Iteration:  43\n",
      "y_pred:  [0.256368] y_test:  [[1.128]]\n",
      "TRAIN: [ 0  1  2  3  4  5  6  7  8  9 10 11 12 13 14 15 16 17 18 19 20 21 22 23\n",
      " 24 25 26 27 28 29 30 31 32 33 34 35 36 37 38 39 40 41 42 44 45 46 47 48\n",
      " 49 50 51 52 53 54 55 56 57 58 59 60 61 62 63 64 65 66 67 68 69 70 71 72\n",
      " 73 74 75 76 77 78 79 80 81 82 83 84 85 86 87 88 89 90] TEST: [43]\n"
     ]
    },
    {
     "name": "stderr",
     "output_type": "stream",
     "text": [
      "C:\\ProgramData\\Anaconda3\\lib\\site-packages\\ipykernel_launcher.py:209: DataConversionWarning: A column-vector y was passed when a 1d array was expected. Please change the shape of y to (n_samples,), for example using ravel().\n",
      "C:\\ProgramData\\Anaconda3\\lib\\site-packages\\ipykernel_launcher.py:209: DataConversionWarning: A column-vector y was passed when a 1d array was expected. Please change the shape of y to (n_samples,), for example using ravel().\n"
     ]
    },
    {
     "name": "stdout",
     "output_type": "stream",
     "text": [
      "Mean Absolute Error: 0.04219609999999996\n",
      "RMSE: 0.04219609999999996\n",
      "MAE Percent:  5.628705769084458\n",
      "Iteration:  44\n",
      "y_pred:  [0.8058039] y_test:  [[0.848]]\n",
      "TRAIN: [ 0  1  2  3  4  5  6  7  8  9 10 11 12 13 14 15 16 17 18 19 20 21 22 23\n",
      " 24 25 26 27 28 29 30 31 32 33 34 35 36 37 38 39 40 41 42 43 45 46 47 48\n",
      " 49 50 51 52 53 54 55 56 57 58 59 60 61 62 63 64 65 66 67 68 69 70 71 72\n",
      " 73 74 75 76 77 78 79 80 81 82 83 84 85 86 87 88 89 90] TEST: [44]\n",
      "Mean Absolute Error: 0.12763229999999992\n",
      "RMSE: 0.12763229999999992\n",
      "MAE Percent:  17.02538062360073\n",
      "Iteration:  45\n",
      "y_pred:  [0.8643677] y_test:  [[0.992]]\n",
      "TRAIN: [ 0  1  2  3  4  5  6  7  8  9 10 11 12 13 14 15 16 17 18 19 20 21 22 23\n",
      " 24 25 26 27 28 29 30 31 32 33 34 35 36 37 38 39 40 41 42 43 44 46 47 48\n",
      " 49 50 51 52 53 54 55 56 57 58 59 60 61 62 63 64 65 66 67 68 69 70 71 72\n",
      " 73 74 75 76 77 78 79 80 81 82 83 84 85 86 87 88 89 90] TEST: [45]\n"
     ]
    },
    {
     "name": "stderr",
     "output_type": "stream",
     "text": [
      "C:\\ProgramData\\Anaconda3\\lib\\site-packages\\ipykernel_launcher.py:209: DataConversionWarning: A column-vector y was passed when a 1d array was expected. Please change the shape of y to (n_samples,), for example using ravel().\n",
      "C:\\ProgramData\\Anaconda3\\lib\\site-packages\\ipykernel_launcher.py:209: DataConversionWarning: A column-vector y was passed when a 1d array was expected. Please change the shape of y to (n_samples,), for example using ravel().\n"
     ]
    },
    {
     "name": "stdout",
     "output_type": "stream",
     "text": [
      "Mean Absolute Error: 0.03402900000000009\n",
      "RMSE: 0.03402900000000009\n",
      "MAE Percent:  4.539263785425092\n",
      "Iteration:  46\n",
      "y_pred:  [0.743999] y_test:  [[0.70997]]\n",
      "TRAIN: [ 0  1  2  3  4  5  6  7  8  9 10 11 12 13 14 15 16 17 18 19 20 21 22 23\n",
      " 24 25 26 27 28 29 30 31 32 33 34 35 36 37 38 39 40 41 42 43 44 45 47 48\n",
      " 49 50 51 52 53 54 55 56 57 58 59 60 61 62 63 64 65 66 67 68 69 70 71 72\n",
      " 73 74 75 76 77 78 79 80 81 82 83 84 85 86 87 88 89 90] TEST: [46]\n",
      "Mean Absolute Error: 0.07537590000000005\n",
      "RMSE: 0.07537590000000005\n",
      "MAE Percent:  10.054691385695218\n",
      "Iteration:  47\n",
      "y_pred:  [0.8416241] y_test:  [[0.917]]\n",
      "TRAIN: [ 0  1  2  3  4  5  6  7  8  9 10 11 12 13 14 15 16 17 18 19 20 21 22 23\n",
      " 24 25 26 27 28 29 30 31 32 33 34 35 36 37 38 39 40 41 42 43 44 45 46 48\n",
      " 49 50 51 52 53 54 55 56 57 58 59 60 61 62 63 64 65 66 67 68 69 70 71 72\n",
      " 73 74 75 76 77 78 79 80 81 82 83 84 85 86 87 88 89 90] TEST: [47]\n"
     ]
    },
    {
     "name": "stderr",
     "output_type": "stream",
     "text": [
      "C:\\ProgramData\\Anaconda3\\lib\\site-packages\\ipykernel_launcher.py:209: DataConversionWarning: A column-vector y was passed when a 1d array was expected. Please change the shape of y to (n_samples,), for example using ravel().\n",
      "C:\\ProgramData\\Anaconda3\\lib\\site-packages\\ipykernel_launcher.py:209: DataConversionWarning: A column-vector y was passed when a 1d array was expected. Please change the shape of y to (n_samples,), for example using ravel().\n"
     ]
    },
    {
     "name": "stdout",
     "output_type": "stream",
     "text": [
      "Mean Absolute Error: 0.11961799999999995\n",
      "RMSE: 0.11961799999999995\n",
      "MAE Percent:  15.95632124026498\n",
      "Iteration:  48\n",
      "y_pred:  [0.251618] y_test:  [[0.132]]\n",
      "TRAIN: [ 0  1  2  3  4  5  6  7  8  9 10 11 12 13 14 15 16 17 18 19 20 21 22 23\n",
      " 24 25 26 27 28 29 30 31 32 33 34 35 36 37 38 39 40 41 42 43 44 45 46 47\n",
      " 49 50 51 52 53 54 55 56 57 58 59 60 61 62 63 64 65 66 67 68 69 70 71 72\n",
      " 73 74 75 76 77 78 79 80 81 82 83 84 85 86 87 88 89 90] TEST: [48]\n",
      "Mean Absolute Error: 0.6180379999999996\n",
      "RMSE: 0.6180379999999996\n",
      "MAE Percent:  82.4425493378161\n",
      "Iteration:  49\n",
      "y_pred:  [1.857038] y_test:  [[1.239]]\n",
      "TRAIN: [ 0  1  2  3  4  5  6  7  8  9 10 11 12 13 14 15 16 17 18 19 20 21 22 23\n",
      " 24 25 26 27 28 29 30 31 32 33 34 35 36 37 38 39 40 41 42 43 44 45 46 47\n",
      " 48 50 51 52 53 54 55 56 57 58 59 60 61 62 63 64 65 66 67 68 69 70 71 72\n",
      " 73 74 75 76 77 78 79 80 81 82 83 84 85 86 87 88 89 90] TEST: [49]\n"
     ]
    },
    {
     "name": "stderr",
     "output_type": "stream",
     "text": [
      "C:\\ProgramData\\Anaconda3\\lib\\site-packages\\ipykernel_launcher.py:209: DataConversionWarning: A column-vector y was passed when a 1d array was expected. Please change the shape of y to (n_samples,), for example using ravel().\n",
      "C:\\ProgramData\\Anaconda3\\lib\\site-packages\\ipykernel_launcher.py:209: DataConversionWarning: A column-vector y was passed when a 1d array was expected. Please change the shape of y to (n_samples,), for example using ravel().\n"
     ]
    },
    {
     "name": "stdout",
     "output_type": "stream",
     "text": [
      "Mean Absolute Error: 0.8466799999999988\n",
      "RMSE: 0.8466799999999988\n",
      "MAE Percent:  112.94201598177148\n",
      "Iteration:  50\n",
      "y_pred:  [1.73068] y_test:  [[0.884]]\n",
      "TRAIN: [ 0  1  2  3  4  5  6  7  8  9 10 11 12 13 14 15 16 17 18 19 20 21 22 23\n",
      " 24 25 26 27 28 29 30 31 32 33 34 35 36 37 38 39 40 41 42 43 44 45 46 47\n",
      " 48 49 51 52 53 54 55 56 57 58 59 60 61 62 63 64 65 66 67 68 69 70 71 72\n",
      " 73 74 75 76 77 78 79 80 81 82 83 84 85 86 87 88 89 90] TEST: [50]\n",
      "Mean Absolute Error: 0.18518700000000132\n",
      "RMSE: 0.18518700000000132\n",
      "MAE Percent:  24.702831191969214\n",
      "Iteration:  51\n",
      "y_pred:  [1.485813] y_test:  [[1.671]]\n",
      "TRAIN: [ 0  1  2  3  4  5  6  7  8  9 10 11 12 13 14 15 16 17 18 19 20 21 22 23\n",
      " 24 25 26 27 28 29 30 31 32 33 34 35 36 37 38 39 40 41 42 43 44 45 46 47\n",
      " 48 49 50 52 53 54 55 56 57 58 59 60 61 62 63 64 65 66 67 68 69 70 71 72\n",
      " 73 74 75 76 77 78 79 80 81 82 83 84 85 86 87 88 89 90] TEST: [51]\n"
     ]
    },
    {
     "name": "stderr",
     "output_type": "stream",
     "text": [
      "C:\\ProgramData\\Anaconda3\\lib\\site-packages\\ipykernel_launcher.py:209: DataConversionWarning: A column-vector y was passed when a 1d array was expected. Please change the shape of y to (n_samples,), for example using ravel().\n",
      "C:\\ProgramData\\Anaconda3\\lib\\site-packages\\ipykernel_launcher.py:209: DataConversionWarning: A column-vector y was passed when a 1d array was expected. Please change the shape of y to (n_samples,), for example using ravel().\n"
     ]
    },
    {
     "name": "stdout",
     "output_type": "stream",
     "text": [
      "Mean Absolute Error: 0.564425700000001\n",
      "RMSE: 0.564425700000001\n",
      "MAE Percent:  75.29099120083474\n",
      "Iteration:  52\n",
      "y_pred:  [1.0484257] y_test:  [[0.484]]\n",
      "TRAIN: [ 0  1  2  3  4  5  6  7  8  9 10 11 12 13 14 15 16 17 18 19 20 21 22 23\n",
      " 24 25 26 27 28 29 30 31 32 33 34 35 36 37 38 39 40 41 42 43 44 45 46 47\n",
      " 48 49 50 51 53 54 55 56 57 58 59 60 61 62 63 64 65 66 67 68 69 70 71 72\n",
      " 73 74 75 76 77 78 79 80 81 82 83 84 85 86 87 88 89 90] TEST: [52]\n",
      "Mean Absolute Error: 0.19372670000000008\n",
      "RMSE: 0.19372670000000008\n",
      "MAE Percent:  25.841975773014468\n",
      "Iteration:  53\n",
      "y_pred:  [0.3445267] y_test:  [[0.1508]]\n",
      "TRAIN: [ 0  1  2  3  4  5  6  7  8  9 10 11 12 13 14 15 16 17 18 19 20 21 22 23\n",
      " 24 25 26 27 28 29 30 31 32 33 34 35 36 37 38 39 40 41 42 43 44 45 46 47\n",
      " 48 49 50 51 52 54 55 56 57 58 59 60 61 62 63 64 65 66 67 68 69 70 71 72\n",
      " 73 74 75 76 77 78 79 80 81 82 83 84 85 86 87 88 89 90] TEST: [53]\n"
     ]
    },
    {
     "name": "stderr",
     "output_type": "stream",
     "text": [
      "C:\\ProgramData\\Anaconda3\\lib\\site-packages\\ipykernel_launcher.py:209: DataConversionWarning: A column-vector y was passed when a 1d array was expected. Please change the shape of y to (n_samples,), for example using ravel().\n",
      "C:\\ProgramData\\Anaconda3\\lib\\site-packages\\ipykernel_launcher.py:209: DataConversionWarning: A column-vector y was passed when a 1d array was expected. Please change the shape of y to (n_samples,), for example using ravel().\n"
     ]
    },
    {
     "name": "stdout",
     "output_type": "stream",
     "text": [
      "Mean Absolute Error: 0.7747999999999993\n",
      "RMSE: 0.7747999999999993\n",
      "MAE Percent:  103.35365661486817\n",
      "Iteration:  54\n",
      "y_pred:  [1.7686] y_test:  [[0.9938]]\n",
      "TRAIN: [ 0  1  2  3  4  5  6  7  8  9 10 11 12 13 14 15 16 17 18 19 20 21 22 23\n",
      " 24 25 26 27 28 29 30 31 32 33 34 35 36 37 38 39 40 41 42 43 44 45 46 47\n",
      " 48 49 50 51 52 53 55 56 57 58 59 60 61 62 63 64 65 66 67 68 69 70 71 72\n",
      " 73 74 75 76 77 78 79 80 81 82 83 84 85 86 87 88 89 90] TEST: [54]\n",
      "Mean Absolute Error: 0.11069800000000063\n",
      "RMSE: 0.11069800000000063\n",
      "MAE Percent:  14.766446928178564\n",
      "Iteration:  55\n",
      "y_pred:  [1.340698] y_test:  [[1.23]]\n",
      "TRAIN: [ 0  1  2  3  4  5  6  7  8  9 10 11 12 13 14 15 16 17 18 19 20 21 22 23\n",
      " 24 25 26 27 28 29 30 31 32 33 34 35 36 37 38 39 40 41 42 43 44 45 46 47\n",
      " 48 49 50 51 52 53 54 56 57 58 59 60 61 62 63 64 65 66 67 68 69 70 71 72\n",
      " 73 74 75 76 77 78 79 80 81 82 83 84 85 86 87 88 89 90] TEST: [55]\n"
     ]
    },
    {
     "name": "stderr",
     "output_type": "stream",
     "text": [
      "C:\\ProgramData\\Anaconda3\\lib\\site-packages\\ipykernel_launcher.py:209: DataConversionWarning: A column-vector y was passed when a 1d array was expected. Please change the shape of y to (n_samples,), for example using ravel().\n",
      "C:\\ProgramData\\Anaconda3\\lib\\site-packages\\ipykernel_launcher.py:209: DataConversionWarning: A column-vector y was passed when a 1d array was expected. Please change the shape of y to (n_samples,), for example using ravel().\n"
     ]
    },
    {
     "name": "stdout",
     "output_type": "stream",
     "text": [
      "Mean Absolute Error: 0.4195560000000004\n",
      "RMSE: 0.4195560000000004\n",
      "MAE Percent:  55.96624516611733\n",
      "Iteration:  56\n",
      "y_pred:  [1.341556] y_test:  [[0.922]]\n",
      "TRAIN: [ 0  1  2  3  4  5  6  7  8  9 10 11 12 13 14 15 16 17 18 19 20 21 22 23\n",
      " 24 25 26 27 28 29 30 31 32 33 34 35 36 37 38 39 40 41 42 43 44 45 46 47\n",
      " 48 49 50 51 52 53 54 55 57 58 59 60 61 62 63 64 65 66 67 68 69 70 71 72\n",
      " 73 74 75 76 77 78 79 80 81 82 83 84 85 86 87 88 89 90] TEST: [56]\n",
      "Mean Absolute Error: 0.05039800000000011\n",
      "RMSE: 0.05039800000000011\n",
      "MAE Percent:  6.7227898632887735\n",
      "Iteration:  57\n",
      "y_pred:  [0.275602] y_test:  [[0.326]]\n",
      "TRAIN: [ 0  1  2  3  4  5  6  7  8  9 10 11 12 13 14 15 16 17 18 19 20 21 22 23\n",
      " 24 25 26 27 28 29 30 31 32 33 34 35 36 37 38 39 40 41 42 43 44 45 46 47\n",
      " 48 49 50 51 52 53 54 55 56 58 59 60 61 62 63 64 65 66 67 68 69 70 71 72\n",
      " 73 74 75 76 77 78 79 80 81 82 83 84 85 86 87 88 89 90] TEST: [57]\n"
     ]
    },
    {
     "name": "stderr",
     "output_type": "stream",
     "text": [
      "C:\\ProgramData\\Anaconda3\\lib\\site-packages\\ipykernel_launcher.py:209: DataConversionWarning: A column-vector y was passed when a 1d array was expected. Please change the shape of y to (n_samples,), for example using ravel().\n",
      "C:\\ProgramData\\Anaconda3\\lib\\site-packages\\ipykernel_launcher.py:209: DataConversionWarning: A column-vector y was passed when a 1d array was expected. Please change the shape of y to (n_samples,), for example using ravel().\n"
     ]
    },
    {
     "name": "stdout",
     "output_type": "stream",
     "text": [
      "Mean Absolute Error: 0.1727939999999999\n",
      "RMSE: 0.1727939999999999\n",
      "MAE Percent:  23.049679583259596\n",
      "Iteration:  58\n",
      "y_pred:  [1.538794] y_test:  [[1.366]]\n",
      "TRAIN: [ 0  1  2  3  4  5  6  7  8  9 10 11 12 13 14 15 16 17 18 19 20 21 22 23\n",
      " 24 25 26 27 28 29 30 31 32 33 34 35 36 37 38 39 40 41 42 43 44 45 46 47\n",
      " 48 49 50 51 52 53 54 55 56 57 59 60 61 62 63 64 65 66 67 68 69 70 71 72\n",
      " 73 74 75 76 77 78 79 80 81 82 83 84 85 86 87 88 89 90] TEST: [58]\n",
      "Mean Absolute Error: 0.10535899999999997\n",
      "RMSE: 0.10535899999999997\n",
      "MAE Percent:  14.054256462681858\n",
      "Iteration:  59\n",
      "y_pred:  [0.105359] y_test:  [[0.]]\n",
      "TRAIN: [ 0  1  2  3  4  5  6  7  8  9 10 11 12 13 14 15 16 17 18 19 20 21 22 23\n",
      " 24 25 26 27 28 29 30 31 32 33 34 35 36 37 38 39 40 41 42 43 44 45 46 47\n",
      " 48 49 50 51 52 53 54 55 56 57 58 60 61 62 63 64 65 66 67 68 69 70 71 72\n",
      " 73 74 75 76 77 78 79 80 81 82 83 84 85 86 87 88 89 90] TEST: [59]\n"
     ]
    },
    {
     "name": "stderr",
     "output_type": "stream",
     "text": [
      "C:\\ProgramData\\Anaconda3\\lib\\site-packages\\ipykernel_launcher.py:209: DataConversionWarning: A column-vector y was passed when a 1d array was expected. Please change the shape of y to (n_samples,), for example using ravel().\n",
      "C:\\ProgramData\\Anaconda3\\lib\\site-packages\\ipykernel_launcher.py:209: DataConversionWarning: A column-vector y was passed when a 1d array was expected. Please change the shape of y to (n_samples,), for example using ravel().\n"
     ]
    },
    {
     "name": "stdout",
     "output_type": "stream",
     "text": [
      "Mean Absolute Error: 0.6999499999999992\n",
      "RMSE: 0.6999499999999992\n",
      "MAE Percent:  93.3691171238732\n",
      "Iteration:  60\n",
      "y_pred:  [1.27195] y_test:  [[0.572]]\n",
      "TRAIN: [ 0  1  2  3  4  5  6  7  8  9 10 11 12 13 14 15 16 17 18 19 20 21 22 23\n",
      " 24 25 26 27 28 29 30 31 32 33 34 35 36 37 38 39 40 41 42 43 44 45 46 47\n",
      " 48 49 50 51 52 53 54 55 56 57 58 59 61 62 63 64 65 66 67 68 69 70 71 72\n",
      " 73 74 75 76 77 78 79 80 81 82 83 84 85 86 87 88 89 90] TEST: [60]\n",
      "Mean Absolute Error: 0.3883747000000005\n",
      "RMSE: 0.3883747000000005\n",
      "MAE Percent:  51.80684742088608\n",
      "Iteration:  61\n",
      "y_pred:  [0.7693747] y_test:  [[0.381]]\n",
      "TRAIN: [ 0  1  2  3  4  5  6  7  8  9 10 11 12 13 14 15 16 17 18 19 20 21 22 23\n",
      " 24 25 26 27 28 29 30 31 32 33 34 35 36 37 38 39 40 41 42 43 44 45 46 47\n",
      " 48 49 50 51 52 53 54 55 56 57 58 59 60 62 63 64 65 66 67 68 69 70 71 72\n",
      " 73 74 75 76 77 78 79 80 81 82 83 84 85 86 87 88 89 90] TEST: [61]\n"
     ]
    },
    {
     "name": "stderr",
     "output_type": "stream",
     "text": [
      "C:\\ProgramData\\Anaconda3\\lib\\site-packages\\ipykernel_launcher.py:209: DataConversionWarning: A column-vector y was passed when a 1d array was expected. Please change the shape of y to (n_samples,), for example using ravel().\n",
      "C:\\ProgramData\\Anaconda3\\lib\\site-packages\\ipykernel_launcher.py:209: DataConversionWarning: A column-vector y was passed when a 1d array was expected. Please change the shape of y to (n_samples,), for example using ravel().\n"
     ]
    },
    {
     "name": "stdout",
     "output_type": "stream",
     "text": [
      "Mean Absolute Error: 0.12915599999999983\n",
      "RMSE: 0.12915599999999983\n",
      "MAE Percent:  17.228633032718\n",
      "Iteration:  62\n",
      "y_pred:  [0.254156] y_test:  [[0.125]]\n",
      "TRAIN: [ 0  1  2  3  4  5  6  7  8  9 10 11 12 13 14 15 16 17 18 19 20 21 22 23\n",
      " 24 25 26 27 28 29 30 31 32 33 34 35 36 37 38 39 40 41 42 43 44 45 46 47\n",
      " 48 49 50 51 52 53 54 55 56 57 58 59 60 61 63 64 65 66 67 68 69 70 71 72\n",
      " 73 74 75 76 77 78 79 80 81 82 83 84 85 86 87 88 89 90] TEST: [62]\n",
      "Mean Absolute Error: 0.6116880000000011\n",
      "RMSE: 0.6116880000000011\n",
      "MAE Percent:  81.59549755735112\n",
      "Iteration:  63\n",
      "y_pred:  [1.409312] y_test:  [[2.021]]\n",
      "TRAIN: [ 0  1  2  3  4  5  6  7  8  9 10 11 12 13 14 15 16 17 18 19 20 21 22 23\n",
      " 24 25 26 27 28 29 30 31 32 33 34 35 36 37 38 39 40 41 42 43 44 45 46 47\n",
      " 48 49 50 51 52 53 54 55 56 57 58 59 60 61 62 64 65 66 67 68 69 70 71 72\n",
      " 73 74 75 76 77 78 79 80 81 82 83 84 85 86 87 88 89 90] TEST: [63]\n"
     ]
    },
    {
     "name": "stderr",
     "output_type": "stream",
     "text": [
      "C:\\ProgramData\\Anaconda3\\lib\\site-packages\\ipykernel_launcher.py:209: DataConversionWarning: A column-vector y was passed when a 1d array was expected. Please change the shape of y to (n_samples,), for example using ravel().\n",
      "C:\\ProgramData\\Anaconda3\\lib\\site-packages\\ipykernel_launcher.py:209: DataConversionWarning: A column-vector y was passed when a 1d array was expected. Please change the shape of y to (n_samples,), for example using ravel().\n"
     ]
    },
    {
     "name": "stdout",
     "output_type": "stream",
     "text": [
      "Mean Absolute Error: 0.5822271999999998\n",
      "RMSE: 0.5822271999999998\n",
      "MAE Percent:  77.66560415673234\n",
      "Iteration:  64\n",
      "y_pred:  [0.6847728] y_test:  [[1.267]]\n",
      "TRAIN: [ 0  1  2  3  4  5  6  7  8  9 10 11 12 13 14 15 16 17 18 19 20 21 22 23\n",
      " 24 25 26 27 28 29 30 31 32 33 34 35 36 37 38 39 40 41 42 43 44 45 46 47\n",
      " 48 49 50 51 52 53 54 55 56 57 58 59 60 61 62 63 65 66 67 68 69 70 71 72\n",
      " 73 74 75 76 77 78 79 80 81 82 83 84 85 86 87 88 89 90] TEST: [64]\n",
      "Mean Absolute Error: 0.17280980000000024\n",
      "RMSE: 0.17280980000000024\n",
      "MAE Percent:  23.05178720816222\n",
      "Iteration:  65\n",
      "y_pred:  [0.5178902] y_test:  [[0.6907]]\n",
      "TRAIN: [ 0  1  2  3  4  5  6  7  8  9 10 11 12 13 14 15 16 17 18 19 20 21 22 23\n",
      " 24 25 26 27 28 29 30 31 32 33 34 35 36 37 38 39 40 41 42 43 44 45 46 47\n",
      " 48 49 50 51 52 53 54 55 56 57 58 59 60 61 62 63 64 66 67 68 69 70 71 72\n",
      " 73 74 75 76 77 78 79 80 81 82 83 84 85 86 87 88 89 90] TEST: [65]\n"
     ]
    },
    {
     "name": "stderr",
     "output_type": "stream",
     "text": [
      "C:\\ProgramData\\Anaconda3\\lib\\site-packages\\ipykernel_launcher.py:209: DataConversionWarning: A column-vector y was passed when a 1d array was expected. Please change the shape of y to (n_samples,), for example using ravel().\n",
      "C:\\ProgramData\\Anaconda3\\lib\\site-packages\\ipykernel_launcher.py:209: DataConversionWarning: A column-vector y was passed when a 1d array was expected. Please change the shape of y to (n_samples,), for example using ravel().\n"
     ]
    },
    {
     "name": "stdout",
     "output_type": "stream",
     "text": [
      "Mean Absolute Error: 0.05326100000000045\n",
      "RMSE: 0.05326100000000045\n",
      "MAE Percent:  7.104696831394612\n",
      "Iteration:  66\n",
      "y_pred:  [0.993961] y_test:  [[0.9407]]\n",
      "TRAIN: [ 0  1  2  3  4  5  6  7  8  9 10 11 12 13 14 15 16 17 18 19 20 21 22 23\n",
      " 24 25 26 27 28 29 30 31 32 33 34 35 36 37 38 39 40 41 42 43 44 45 46 47\n",
      " 48 49 50 51 52 53 54 55 56 57 58 59 60 61 62 63 64 65 67 68 69 70 71 72\n",
      " 73 74 75 76 77 78 79 80 81 82 83 84 85 86 87 88 89 90] TEST: [66]\n",
      "Mean Absolute Error: 0.04819499999999993\n",
      "RMSE: 0.04819499999999993\n",
      "MAE Percent:  6.428922922758866\n",
      "Iteration:  67\n",
      "y_pred:  [0.146795] y_test:  [[0.0986]]\n",
      "TRAIN: [ 0  1  2  3  4  5  6  7  8  9 10 11 12 13 14 15 16 17 18 19 20 21 22 23\n",
      " 24 25 26 27 28 29 30 31 32 33 34 35 36 37 38 39 40 41 42 43 44 45 46 47\n",
      " 48 49 50 51 52 53 54 55 56 57 58 59 60 61 62 63 64 65 66 68 69 70 71 72\n",
      " 73 74 75 76 77 78 79 80 81 82 83 84 85 86 87 88 89 90] TEST: [67]\n"
     ]
    },
    {
     "name": "stderr",
     "output_type": "stream",
     "text": [
      "C:\\ProgramData\\Anaconda3\\lib\\site-packages\\ipykernel_launcher.py:209: DataConversionWarning: A column-vector y was passed when a 1d array was expected. Please change the shape of y to (n_samples,), for example using ravel().\n",
      "C:\\ProgramData\\Anaconda3\\lib\\site-packages\\ipykernel_launcher.py:209: DataConversionWarning: A column-vector y was passed when a 1d array was expected. Please change the shape of y to (n_samples,), for example using ravel().\n"
     ]
    },
    {
     "name": "stdout",
     "output_type": "stream",
     "text": [
      "Mean Absolute Error: 0.192446\n",
      "RMSE: 0.192446\n",
      "MAE Percent:  25.671138101322843\n",
      "Iteration:  68\n",
      "y_pred:  [0.192446] y_test:  [[0.]]\n",
      "TRAIN: [ 0  1  2  3  4  5  6  7  8  9 10 11 12 13 14 15 16 17 18 19 20 21 22 23\n",
      " 24 25 26 27 28 29 30 31 32 33 34 35 36 37 38 39 40 41 42 43 44 45 46 47\n",
      " 48 49 50 51 52 53 54 55 56 57 58 59 60 61 62 63 64 65 66 67 69 70 71 72\n",
      " 73 74 75 76 77 78 79 80 81 82 83 84 85 86 87 88 89 90] TEST: [68]\n",
      "Mean Absolute Error: 0.027772000000000296\n",
      "RMSE: 0.027772000000000296\n",
      "MAE Percent:  3.7046176452092827\n",
      "Iteration:  69\n",
      "y_pred:  [0.168228] y_test:  [[0.196]]\n",
      "TRAIN: [ 0  1  2  3  4  5  6  7  8  9 10 11 12 13 14 15 16 17 18 19 20 21 22 23\n",
      " 24 25 26 27 28 29 30 31 32 33 34 35 36 37 38 39 40 41 42 43 44 45 46 47\n",
      " 48 49 50 51 52 53 54 55 56 57 58 59 60 61 62 63 64 65 66 67 68 70 71 72\n",
      " 73 74 75 76 77 78 79 80 81 82 83 84 85 86 87 88 89 90] TEST: [69]\n"
     ]
    },
    {
     "name": "stderr",
     "output_type": "stream",
     "text": [
      "C:\\ProgramData\\Anaconda3\\lib\\site-packages\\ipykernel_launcher.py:209: DataConversionWarning: A column-vector y was passed when a 1d array was expected. Please change the shape of y to (n_samples,), for example using ravel().\n",
      "C:\\ProgramData\\Anaconda3\\lib\\site-packages\\ipykernel_launcher.py:209: DataConversionWarning: A column-vector y was passed when a 1d array was expected. Please change the shape of y to (n_samples,), for example using ravel().\n"
     ]
    },
    {
     "name": "stdout",
     "output_type": "stream",
     "text": [
      "Mean Absolute Error: 0.2965621000000004\n",
      "RMSE: 0.2965621000000004\n",
      "MAE Percent:  39.55959918480158\n",
      "Iteration:  70\n",
      "y_pred:  [0.6284379] y_test:  [[0.925]]\n",
      "TRAIN: [ 0  1  2  3  4  5  6  7  8  9 10 11 12 13 14 15 16 17 18 19 20 21 22 23\n",
      " 24 25 26 27 28 29 30 31 32 33 34 35 36 37 38 39 40 41 42 43 44 45 46 47\n",
      " 48 49 50 51 52 53 54 55 56 57 58 59 60 61 62 63 64 65 66 67 68 69 71 72\n",
      " 73 74 75 76 77 78 79 80 81 82 83 84 85 86 87 88 89 90] TEST: [70]\n",
      "Mean Absolute Error: 0.037569000000000075\n",
      "RMSE: 0.037569000000000075\n",
      "MAE Percent:  5.011478478786775\n",
      "Iteration:  71\n",
      "y_pred:  [0.306431] y_test:  [[0.344]]\n",
      "TRAIN: [ 0  1  2  3  4  5  6  7  8  9 10 11 12 13 14 15 16 17 18 19 20 21 22 23\n",
      " 24 25 26 27 28 29 30 31 32 33 34 35 36 37 38 39 40 41 42 43 44 45 46 47\n",
      " 48 49 50 51 52 53 54 55 56 57 58 59 60 61 62 63 64 65 66 67 68 69 70 72\n",
      " 73 74 75 76 77 78 79 80 81 82 83 84 85 86 87 88 89 90] TEST: [71]\n"
     ]
    },
    {
     "name": "stderr",
     "output_type": "stream",
     "text": [
      "C:\\ProgramData\\Anaconda3\\lib\\site-packages\\ipykernel_launcher.py:209: DataConversionWarning: A column-vector y was passed when a 1d array was expected. Please change the shape of y to (n_samples,), for example using ravel().\n",
      "C:\\ProgramData\\Anaconda3\\lib\\site-packages\\ipykernel_launcher.py:209: DataConversionWarning: A column-vector y was passed when a 1d array was expected. Please change the shape of y to (n_samples,), for example using ravel().\n"
     ]
    },
    {
     "name": "stdout",
     "output_type": "stream",
     "text": [
      "Mean Absolute Error: 0.016278000000000015\n",
      "RMSE: 0.016278000000000015\n",
      "MAE Percent:  2.1713872255767\n",
      "Iteration:  72\n",
      "y_pred:  [0.272278] y_test:  [[0.256]]\n",
      "TRAIN: [ 0  1  2  3  4  5  6  7  8  9 10 11 12 13 14 15 16 17 18 19 20 21 22 23\n",
      " 24 25 26 27 28 29 30 31 32 33 34 35 36 37 38 39 40 41 42 43 44 45 46 47\n",
      " 48 49 50 51 52 53 54 55 56 57 58 59 60 61 62 63 64 65 66 67 68 69 70 71\n",
      " 73 74 75 76 77 78 79 80 81 82 83 84 85 86 87 88 89 90] TEST: [72]\n",
      "Mean Absolute Error: 0.11216499999999907\n",
      "RMSE: 0.11216499999999907\n",
      "MAE Percent:  14.96213589856299\n",
      "Iteration:  73\n",
      "y_pred:  [0.881865] y_test:  [[0.7697]]\n",
      "TRAIN: [ 0  1  2  3  4  5  6  7  8  9 10 11 12 13 14 15 16 17 18 19 20 21 22 23\n",
      " 24 25 26 27 28 29 30 31 32 33 34 35 36 37 38 39 40 41 42 43 44 45 46 47\n",
      " 48 49 50 51 52 53 54 55 56 57 58 59 60 61 62 63 64 65 66 67 68 69 70 71\n",
      " 72 74 75 76 77 78 79 80 81 82 83 84 85 86 87 88 89 90] TEST: [73]\n"
     ]
    },
    {
     "name": "stderr",
     "output_type": "stream",
     "text": [
      "C:\\ProgramData\\Anaconda3\\lib\\site-packages\\ipykernel_launcher.py:209: DataConversionWarning: A column-vector y was passed when a 1d array was expected. Please change the shape of y to (n_samples,), for example using ravel().\n",
      "C:\\ProgramData\\Anaconda3\\lib\\site-packages\\ipykernel_launcher.py:209: DataConversionWarning: A column-vector y was passed when a 1d array was expected. Please change the shape of y to (n_samples,), for example using ravel().\n"
     ]
    },
    {
     "name": "stdout",
     "output_type": "stream",
     "text": [
      "Mean Absolute Error: 0.066671700000001\n",
      "RMSE: 0.066671700000001\n",
      "MAE Percent:  8.893603494746536\n",
      "Iteration:  74\n",
      "y_pred:  [1.0156717] y_test:  [[0.949]]\n",
      "TRAIN: [ 0  1  2  3  4  5  6  7  8  9 10 11 12 13 14 15 16 17 18 19 20 21 22 23\n",
      " 24 25 26 27 28 29 30 31 32 33 34 35 36 37 38 39 40 41 42 43 44 45 46 47\n",
      " 48 49 50 51 52 53 54 55 56 57 58 59 60 61 62 63 64 65 66 67 68 69 70 71\n",
      " 72 73 75 76 77 78 79 80 81 82 83 84 85 86 87 88 89 90] TEST: [74]\n",
      "Mean Absolute Error: 0.468700000000001\n",
      "RMSE: 0.468700000000001\n",
      "MAE Percent:  62.521758977011956\n",
      "Iteration:  75\n",
      "y_pred:  [1.5513] y_test:  [[2.02]]\n",
      "TRAIN: [ 0  1  2  3  4  5  6  7  8  9 10 11 12 13 14 15 16 17 18 19 20 21 22 23\n",
      " 24 25 26 27 28 29 30 31 32 33 34 35 36 37 38 39 40 41 42 43 44 45 46 47\n",
      " 48 49 50 51 52 53 54 55 56 57 58 59 60 61 62 63 64 65 66 67 68 69 70 71\n",
      " 72 73 74 76 77 78 79 80 81 82 83 84 85 86 87 88 89 90] TEST: [75]\n"
     ]
    },
    {
     "name": "stderr",
     "output_type": "stream",
     "text": [
      "C:\\ProgramData\\Anaconda3\\lib\\site-packages\\ipykernel_launcher.py:209: DataConversionWarning: A column-vector y was passed when a 1d array was expected. Please change the shape of y to (n_samples,), for example using ravel().\n",
      "C:\\ProgramData\\Anaconda3\\lib\\site-packages\\ipykernel_launcher.py:209: DataConversionWarning: A column-vector y was passed when a 1d array was expected. Please change the shape of y to (n_samples,), for example using ravel().\n"
     ]
    },
    {
     "name": "stdout",
     "output_type": "stream",
     "text": [
      "Mean Absolute Error: 0.1681256000000002\n",
      "RMSE: 0.1681256000000002\n",
      "MAE Percent:  22.426943121539388\n",
      "Iteration:  76\n",
      "y_pred:  [0.7151256] y_test:  [[0.547]]\n",
      "TRAIN: [ 0  1  2  3  4  5  6  7  8  9 10 11 12 13 14 15 16 17 18 19 20 21 22 23\n",
      " 24 25 26 27 28 29 30 31 32 33 34 35 36 37 38 39 40 41 42 43 44 45 46 47\n",
      " 48 49 50 51 52 53 54 55 56 57 58 59 60 61 62 63 64 65 66 67 68 69 70 71\n",
      " 72 73 74 75 77 78 79 80 81 82 83 84 85 86 87 88 89 90] TEST: [76]\n",
      "Mean Absolute Error: 0.0577690000000004\n",
      "RMSE: 0.0577690000000004\n",
      "MAE Percent:  7.706036898534288\n",
      "Iteration:  77\n",
      "y_pred:  [1.252231] y_test:  [[1.31]]\n",
      "TRAIN: [ 0  1  2  3  4  5  6  7  8  9 10 11 12 13 14 15 16 17 18 19 20 21 22 23\n",
      " 24 25 26 27 28 29 30 31 32 33 34 35 36 37 38 39 40 41 42 43 44 45 46 47\n",
      " 48 49 50 51 52 53 54 55 56 57 58 59 60 61 62 63 64 65 66 67 68 69 70 71\n",
      " 72 73 74 75 76 78 79 80 81 82 83 84 85 86 87 88 89 90] TEST: [77]\n"
     ]
    },
    {
     "name": "stderr",
     "output_type": "stream",
     "text": [
      "C:\\ProgramData\\Anaconda3\\lib\\site-packages\\ipykernel_launcher.py:209: DataConversionWarning: A column-vector y was passed when a 1d array was expected. Please change the shape of y to (n_samples,), for example using ravel().\n",
      "C:\\ProgramData\\Anaconda3\\lib\\site-packages\\ipykernel_launcher.py:209: DataConversionWarning: A column-vector y was passed when a 1d array was expected. Please change the shape of y to (n_samples,), for example using ravel().\n"
     ]
    },
    {
     "name": "stdout",
     "output_type": "stream",
     "text": [
      "Mean Absolute Error: 0.2237240000000001\n",
      "RMSE: 0.2237240000000001\n",
      "MAE Percent:  29.843435044533813\n",
      "Iteration:  78\n",
      "y_pred:  [0.206176] y_test:  [[0.4299]]\n",
      "TRAIN: [ 0  1  2  3  4  5  6  7  8  9 10 11 12 13 14 15 16 17 18 19 20 21 22 23\n",
      " 24 25 26 27 28 29 30 31 32 33 34 35 36 37 38 39 40 41 42 43 44 45 46 47\n",
      " 48 49 50 51 52 53 54 55 56 57 58 59 60 61 62 63 64 65 66 67 68 69 70 71\n",
      " 72 73 74 75 76 77 79 80 81 82 83 84 85 86 87 88 89 90] TEST: [78]\n",
      "Mean Absolute Error: 0.07496199999999997\n",
      "RMSE: 0.07496199999999997\n",
      "MAE Percent:  9.999479616886617\n",
      "Iteration:  79\n",
      "y_pred:  [0.074962] y_test:  [[0.]]\n",
      "TRAIN: [ 0  1  2  3  4  5  6  7  8  9 10 11 12 13 14 15 16 17 18 19 20 21 22 23\n",
      " 24 25 26 27 28 29 30 31 32 33 34 35 36 37 38 39 40 41 42 43 44 45 46 47\n",
      " 48 49 50 51 52 53 54 55 56 57 58 59 60 61 62 63 64 65 66 67 68 69 70 71\n",
      " 72 73 74 75 76 77 78 80 81 82 83 84 85 86 87 88 89 90] TEST: [79]\n"
     ]
    },
    {
     "name": "stderr",
     "output_type": "stream",
     "text": [
      "C:\\ProgramData\\Anaconda3\\lib\\site-packages\\ipykernel_launcher.py:209: DataConversionWarning: A column-vector y was passed when a 1d array was expected. Please change the shape of y to (n_samples,), for example using ravel().\n",
      "C:\\ProgramData\\Anaconda3\\lib\\site-packages\\ipykernel_launcher.py:209: DataConversionWarning: A column-vector y was passed when a 1d array was expected. Please change the shape of y to (n_samples,), for example using ravel().\n"
     ]
    },
    {
     "name": "stdout",
     "output_type": "stream",
     "text": [
      "Mean Absolute Error: 0.05144270000000006\n",
      "RMSE: 0.05144270000000006\n",
      "MAE Percent:  6.862146555422935\n",
      "Iteration:  80\n",
      "y_pred:  [0.3274427] y_test:  [[0.276]]\n",
      "TRAIN: [ 0  1  2  3  4  5  6  7  8  9 10 11 12 13 14 15 16 17 18 19 20 21 22 23\n",
      " 24 25 26 27 28 29 30 31 32 33 34 35 36 37 38 39 40 41 42 43 44 45 46 47\n",
      " 48 49 50 51 52 53 54 55 56 57 58 59 60 61 62 63 64 65 66 67 68 69 70 71\n",
      " 72 73 74 75 76 77 78 79 81 82 83 84 85 86 87 88 89 90] TEST: [80]\n",
      "Mean Absolute Error: 0.18356499999999998\n",
      "RMSE: 0.18356499999999998\n",
      "MAE Percent:  24.486466154502182\n",
      "Iteration:  81\n",
      "y_pred:  [1.390565] y_test:  [[1.207]]\n",
      "TRAIN: [ 0  1  2  3  4  5  6  7  8  9 10 11 12 13 14 15 16 17 18 19 20 21 22 23\n",
      " 24 25 26 27 28 29 30 31 32 33 34 35 36 37 38 39 40 41 42 43 44 45 46 47\n",
      " 48 49 50 51 52 53 54 55 56 57 58 59 60 61 62 63 64 65 66 67 68 69 70 71\n",
      " 72 73 74 75 76 77 78 79 80 82 83 84 85 86 87 88 89 90] TEST: [81]\n"
     ]
    },
    {
     "name": "stderr",
     "output_type": "stream",
     "text": [
      "C:\\ProgramData\\Anaconda3\\lib\\site-packages\\ipykernel_launcher.py:209: DataConversionWarning: A column-vector y was passed when a 1d array was expected. Please change the shape of y to (n_samples,), for example using ravel().\n",
      "C:\\ProgramData\\Anaconda3\\lib\\site-packages\\ipykernel_launcher.py:209: DataConversionWarning: A column-vector y was passed when a 1d array was expected. Please change the shape of y to (n_samples,), for example using ravel().\n"
     ]
    },
    {
     "name": "stdout",
     "output_type": "stream",
     "text": [
      "Mean Absolute Error: 1.1254500000000012\n",
      "RMSE: 1.1254500000000012\n",
      "MAE Percent:  150.1282561140986\n",
      "Iteration:  82\n",
      "y_pred:  [1.39855] y_test:  [[2.524]]\n",
      "TRAIN: [ 0  1  2  3  4  5  6  7  8  9 10 11 12 13 14 15 16 17 18 19 20 21 22 23\n",
      " 24 25 26 27 28 29 30 31 32 33 34 35 36 37 38 39 40 41 42 43 44 45 46 47\n",
      " 48 49 50 51 52 53 54 55 56 57 58 59 60 61 62 63 64 65 66 67 68 69 70 71\n",
      " 72 73 74 75 76 77 78 79 80 81 83 84 85 86 87 88 89 90] TEST: [82]\n",
      "Mean Absolute Error: 0.6675040000000001\n",
      "RMSE: 0.6675040000000001\n",
      "MAE Percent:  89.04101601064926\n",
      "Iteration:  83\n",
      "y_pred:  [1.395496] y_test:  [[2.063]]\n",
      "TRAIN: [ 0  1  2  3  4  5  6  7  8  9 10 11 12 13 14 15 16 17 18 19 20 21 22 23\n",
      " 24 25 26 27 28 29 30 31 32 33 34 35 36 37 38 39 40 41 42 43 44 45 46 47\n",
      " 48 49 50 51 52 53 54 55 56 57 58 59 60 61 62 63 64 65 66 67 68 69 70 71\n",
      " 72 73 74 75 76 77 78 79 80 81 82 84 85 86 87 88 89 90] TEST: [83]\n"
     ]
    },
    {
     "name": "stderr",
     "output_type": "stream",
     "text": [
      "C:\\ProgramData\\Anaconda3\\lib\\site-packages\\ipykernel_launcher.py:209: DataConversionWarning: A column-vector y was passed when a 1d array was expected. Please change the shape of y to (n_samples,), for example using ravel().\n",
      "C:\\ProgramData\\Anaconda3\\lib\\site-packages\\ipykernel_launcher.py:209: DataConversionWarning: A column-vector y was passed when a 1d array was expected. Please change the shape of y to (n_samples,), for example using ravel().\n"
     ]
    },
    {
     "name": "stdout",
     "output_type": "stream",
     "text": [
      "Mean Absolute Error: 0.2659025\n",
      "RMSE: 0.2659025\n",
      "MAE Percent:  35.469793079549575\n",
      "Iteration:  84\n",
      "y_pred:  [0.6489025] y_test:  [[0.383]]\n",
      "TRAIN: [ 0  1  2  3  4  5  6  7  8  9 10 11 12 13 14 15 16 17 18 19 20 21 22 23\n",
      " 24 25 26 27 28 29 30 31 32 33 34 35 36 37 38 39 40 41 42 43 44 45 46 47\n",
      " 48 49 50 51 52 53 54 55 56 57 58 59 60 61 62 63 64 65 66 67 68 69 70 71\n",
      " 72 73 74 75 76 77 78 79 80 81 82 83 85 86 87 88 89 90] TEST: [84]\n",
      "Mean Absolute Error: 0.06437299999999997\n",
      "RMSE: 0.06437299999999997\n",
      "MAE Percent:  8.586970750218008\n",
      "Iteration:  85\n",
      "y_pred:  [0.064373] y_test:  [[0.]]\n",
      "TRAIN: [ 0  1  2  3  4  5  6  7  8  9 10 11 12 13 14 15 16 17 18 19 20 21 22 23\n",
      " 24 25 26 27 28 29 30 31 32 33 34 35 36 37 38 39 40 41 42 43 44 45 46 47\n",
      " 48 49 50 51 52 53 54 55 56 57 58 59 60 61 62 63 64 65 66 67 68 69 70 71\n",
      " 72 73 74 75 76 77 78 79 80 81 82 83 84 86 87 88 89 90] TEST: [85]\n"
     ]
    },
    {
     "name": "stderr",
     "output_type": "stream",
     "text": [
      "C:\\ProgramData\\Anaconda3\\lib\\site-packages\\ipykernel_launcher.py:209: DataConversionWarning: A column-vector y was passed when a 1d array was expected. Please change the shape of y to (n_samples,), for example using ravel().\n",
      "C:\\ProgramData\\Anaconda3\\lib\\site-packages\\ipykernel_launcher.py:209: DataConversionWarning: A column-vector y was passed when a 1d array was expected. Please change the shape of y to (n_samples,), for example using ravel().\n"
     ]
    },
    {
     "name": "stdout",
     "output_type": "stream",
     "text": [
      "Mean Absolute Error: 0.15495270000000005\n",
      "RMSE: 0.15495270000000005\n",
      "MAE Percent:  20.66975754691108\n",
      "Iteration:  86\n",
      "y_pred:  [0.4219527] y_test:  [[0.267]]\n",
      "TRAIN: [ 0  1  2  3  4  5  6  7  8  9 10 11 12 13 14 15 16 17 18 19 20 21 22 23\n",
      " 24 25 26 27 28 29 30 31 32 33 34 35 36 37 38 39 40 41 42 43 44 45 46 47\n",
      " 48 49 50 51 52 53 54 55 56 57 58 59 60 61 62 63 64 65 66 67 68 69 70 71\n",
      " 72 73 74 75 76 77 78 79 80 81 82 83 84 85 87 88 89 90] TEST: [86]\n",
      "Mean Absolute Error: 0.23526199999999986\n",
      "RMSE: 0.23526199999999986\n",
      "MAE Percent:  31.382534799338053\n",
      "Iteration:  87\n",
      "y_pred:  [1.034738] y_test:  [[1.27]]\n",
      "TRAIN: [ 0  1  2  3  4  5  6  7  8  9 10 11 12 13 14 15 16 17 18 19 20 21 22 23\n",
      " 24 25 26 27 28 29 30 31 32 33 34 35 36 37 38 39 40 41 42 43 44 45 46 47\n",
      " 48 49 50 51 52 53 54 55 56 57 58 59 60 61 62 63 64 65 66 67 68 69 70 71\n",
      " 72 73 74 75 76 77 78 79 80 81 82 83 84 85 86 88 89 90] TEST: [87]\n"
     ]
    },
    {
     "name": "stderr",
     "output_type": "stream",
     "text": [
      "C:\\ProgramData\\Anaconda3\\lib\\site-packages\\ipykernel_launcher.py:209: DataConversionWarning: A column-vector y was passed when a 1d array was expected. Please change the shape of y to (n_samples,), for example using ravel().\n",
      "C:\\ProgramData\\Anaconda3\\lib\\site-packages\\ipykernel_launcher.py:209: DataConversionWarning: A column-vector y was passed when a 1d array was expected. Please change the shape of y to (n_samples,), for example using ravel().\n"
     ]
    },
    {
     "name": "stdout",
     "output_type": "stream",
     "text": [
      "Mean Absolute Error: 0.03205300000000001\n",
      "RMSE: 0.03205300000000001\n",
      "MAE Percent:  4.275677278622062\n",
      "Iteration:  88\n",
      "y_pred:  [0.064947] y_test:  [[0.097]]\n",
      "TRAIN: [ 0  1  2  3  4  5  6  7  8  9 10 11 12 13 14 15 16 17 18 19 20 21 22 23\n",
      " 24 25 26 27 28 29 30 31 32 33 34 35 36 37 38 39 40 41 42 43 44 45 46 47\n",
      " 48 49 50 51 52 53 54 55 56 57 58 59 60 61 62 63 64 65 66 67 68 69 70 71\n",
      " 72 73 74 75 76 77 78 79 80 81 82 83 84 85 86 87 89 90] TEST: [88]\n",
      "Mean Absolute Error: 0.1606746\n",
      "RMSE: 0.1606746\n",
      "MAE Percent:  21.433024567799837\n",
      "Iteration:  89\n",
      "y_pred:  [0.9713254] y_test:  [[1.132]]\n",
      "TRAIN: [ 0  1  2  3  4  5  6  7  8  9 10 11 12 13 14 15 16 17 18 19 20 21 22 23\n",
      " 24 25 26 27 28 29 30 31 32 33 34 35 36 37 38 39 40 41 42 43 44 45 46 47\n",
      " 48 49 50 51 52 53 54 55 56 57 58 59 60 61 62 63 64 65 66 67 68 69 70 71\n",
      " 72 73 74 75 76 77 78 79 80 81 82 83 84 85 86 87 88 90] TEST: [89]\n"
     ]
    },
    {
     "name": "stderr",
     "output_type": "stream",
     "text": [
      "C:\\ProgramData\\Anaconda3\\lib\\site-packages\\ipykernel_launcher.py:209: DataConversionWarning: A column-vector y was passed when a 1d array was expected. Please change the shape of y to (n_samples,), for example using ravel().\n",
      "C:\\ProgramData\\Anaconda3\\lib\\site-packages\\ipykernel_launcher.py:209: DataConversionWarning: A column-vector y was passed when a 1d array was expected. Please change the shape of y to (n_samples,), for example using ravel().\n"
     ]
    },
    {
     "name": "stdout",
     "output_type": "stream",
     "text": [
      "Mean Absolute Error: 0.08296500000000107\n",
      "RMSE: 0.08296500000000107\n",
      "MAE Percent:  11.067031648235231\n",
      "Iteration:  90\n",
      "y_pred:  [1.484035] y_test:  [[1.567]]\n",
      "TRAIN: [ 0  1  2  3  4  5  6  7  8  9 10 11 12 13 14 15 16 17 18 19 20 21 22 23\n",
      " 24 25 26 27 28 29 30 31 32 33 34 35 36 37 38 39 40 41 42 43 44 45 46 47\n",
      " 48 49 50 51 52 53 54 55 56 57 58 59 60 61 62 63 64 65 66 67 68 69 70 71\n",
      " 72 73 74 75 76 77 78 79 80 81 82 83 84 85 86 87 88 89] TEST: [90]\n",
      "Mean Absolute Error: 0.35922900000000024\n",
      "RMSE: 0.35922900000000024\n",
      "MAE Percent:  47.918986463735855\n",
      "Iteration:  91\n",
      "y_pred:  [1.233771] y_test:  [[1.593]]\n",
      "RMSE: [3.856466e-01 9.063567e-01 1.212050e-01 1.462503e-01 3.438000e-02\n",
      " 9.537200e-02 1.334607e-01 1.598440e-01 3.577240e-02 3.489207e-01\n",
      " 1.149430e-01 1.250646e-01 8.773000e-02 8.686020e-02 5.059200e-02\n",
      " 1.374197e-01 1.383680e-01 3.247555e-01 9.285500e-02 7.914000e-03\n",
      " 2.604486e-01 7.935070e-02 2.447400e-02 5.146800e-02 3.575300e-02\n",
      " 4.432860e-02 4.482500e-02 1.243370e-01 1.773980e-01 5.191700e-02\n",
      " 2.408222e-01 5.049492e-01 7.930960e-01 2.713949e-01 1.005820e-01\n",
      " 3.969600e-02 2.137921e-01 1.422400e-02 1.721201e-01 9.153000e-04\n",
      " 2.599830e-01 1.372344e-01 8.716320e-01 4.219610e-02 1.276323e-01\n",
      " 3.402900e-02 7.537590e-02 1.196180e-01 6.180380e-01 8.466800e-01\n",
      " 1.851870e-01 5.644257e-01 1.937267e-01 7.748000e-01 1.106980e-01\n",
      " 4.195560e-01 5.039800e-02 1.727940e-01 1.053590e-01 6.999500e-01\n",
      " 3.883747e-01 1.291560e-01 6.116880e-01 5.822272e-01 1.728098e-01\n",
      " 5.326100e-02 4.819500e-02 1.924460e-01 2.777200e-02 2.965621e-01\n",
      " 3.756900e-02 1.627800e-02 1.121650e-01 6.667170e-02 4.687000e-01\n",
      " 1.681256e-01 5.776900e-02 2.237240e-01 7.496200e-02 5.144270e-02\n",
      " 1.835650e-01 1.125450e+00 6.675040e-01 2.659025e-01 6.437300e-02\n",
      " 1.549527e-01 2.352620e-01 3.205300e-02 1.606746e-01 8.296500e-02\n",
      " 3.592290e-01]\n",
      "MAE: [3.856466e-01 9.063567e-01 1.212050e-01 1.462503e-01 3.438000e-02\n",
      " 9.537200e-02 1.334607e-01 1.598440e-01 3.577240e-02 3.489207e-01\n",
      " 1.149430e-01 1.250646e-01 8.773000e-02 8.686020e-02 5.059200e-02\n",
      " 1.374197e-01 1.383680e-01 3.247555e-01 9.285500e-02 7.914000e-03\n",
      " 2.604486e-01 7.935070e-02 2.447400e-02 5.146800e-02 3.575300e-02\n",
      " 4.432860e-02 4.482500e-02 1.243370e-01 1.773980e-01 5.191700e-02\n",
      " 2.408222e-01 5.049492e-01 7.930960e-01 2.713949e-01 1.005820e-01\n",
      " 3.969600e-02 2.137921e-01 1.422400e-02 1.721201e-01 9.153000e-04\n",
      " 2.599830e-01 1.372344e-01 8.716320e-01 4.219610e-02 1.276323e-01\n",
      " 3.402900e-02 7.537590e-02 1.196180e-01 6.180380e-01 8.466800e-01\n",
      " 1.851870e-01 5.644257e-01 1.937267e-01 7.748000e-01 1.106980e-01\n",
      " 4.195560e-01 5.039800e-02 1.727940e-01 1.053590e-01 6.999500e-01\n",
      " 3.883747e-01 1.291560e-01 6.116880e-01 5.822272e-01 1.728098e-01\n",
      " 5.326100e-02 4.819500e-02 1.924460e-01 2.777200e-02 2.965621e-01\n",
      " 3.756900e-02 1.627800e-02 1.121650e-01 6.667170e-02 4.687000e-01\n",
      " 1.681256e-01 5.776900e-02 2.237240e-01 7.496200e-02 5.144270e-02\n",
      " 1.835650e-01 1.125450e+00 6.675040e-01 2.659025e-01 6.437300e-02\n",
      " 1.549527e-01 2.352620e-01 3.205300e-02 1.606746e-01 8.296500e-02\n",
      " 3.592290e-01]\n",
      "MAE Percent: [5.14429353e+01 1.20902529e+02 1.61680175e+01 1.95089098e+01\n",
      " 4.58608507e+00 1.27220508e+01 1.78028541e+01 2.13222275e+01\n",
      " 4.77182285e+00 4.65439213e+01 1.53327044e+01 1.66828649e+01\n",
      " 1.17026540e+01 1.15866279e+01 6.74866830e+00 1.83309609e+01\n",
      " 1.84574584e+01 4.33204291e+01 1.23862981e+01 1.05567997e+00\n",
      " 3.47422756e+01 1.05849058e+01 3.26468430e+00 6.86552142e+00\n",
      " 4.76923501e+00 5.91316843e+00 5.97938521e+00 1.65858074e+01\n",
      " 2.36638255e+01 6.92541532e+00 3.21242320e+01 6.73571841e+01\n",
      " 1.05794233e+02 3.62024462e+01 1.34170334e+01 5.29520748e+00\n",
      " 2.85185794e+01 1.89739599e+00 2.29597854e+01 1.22095511e-01\n",
      " 3.46801674e+01 1.83062430e+01 1.16270463e+02 5.62870577e+00\n",
      " 1.70253806e+01 4.53926379e+00 1.00546914e+01 1.59563212e+01\n",
      " 8.24425493e+01 1.12942016e+02 2.47028312e+01 7.52909912e+01\n",
      " 2.58419758e+01 1.03353657e+02 1.47664469e+01 5.59662452e+01\n",
      " 6.72278986e+00 2.30496796e+01 1.40542565e+01 9.33691171e+01\n",
      " 5.18068474e+01 1.72286330e+01 8.15954976e+01 7.76656042e+01\n",
      " 2.30517872e+01 7.10469683e+00 6.42892292e+00 2.56711381e+01\n",
      " 3.70461765e+00 3.95595992e+01 5.01147848e+00 2.17138723e+00\n",
      " 1.49621359e+01 8.89360349e+00 6.25217590e+01 2.24269431e+01\n",
      " 7.70603690e+00 2.98434350e+01 9.99947962e+00 6.86214656e+00\n",
      " 2.44864662e+01 1.50128256e+02 8.90410160e+01 3.54697931e+01\n",
      " 8.58697075e+00 2.06697575e+01 3.13825348e+01 4.27567728e+00\n",
      " 2.14330246e+01 1.10670316e+01 4.79189865e+01]\n",
      "Average RMSE: 0.22308510769230783 +- 0.23944469757875347\n",
      "Average MAE: 0.22308510769230783 +- 0.23944469757875347\n",
      "Average MAE Percent: 29.758210656068258 +- 31.940481481421614\n",
      "5\n",
      "    Sub_ID Sub_Type  Cut_Off_Time  FIM  FIM_M  BBS  MWT10_SSV  MWT10_FV  \\\n",
      "834   CVA2   CVA_AD           120   85     56   38      0.595     0.771   \n",
      "835   CVA4   CVA_AD           120   44     24    3      0.000     0.000   \n",
      "836   CVA5   CVA_AD           120   62     34    6      0.000     0.000   \n",
      "837   CVA6   CVA_AD           120   57     35   16      0.783     0.000   \n",
      "838   CVA9   CVA_AD           120   71     49   37      0.917     1.166   \n",
      "..     ...      ...           ...  ...    ...  ...        ...       ...   \n",
      "920  CVA51   CVA_DC           120   89     59   37      1.270     2.149   \n",
      "921  CVA52   CVA_DC           120   61     40    4      0.097     0.000   \n",
      "922  CVA53   CVA_DC           120   90     64   38      1.132     1.591   \n",
      "923  CVA54   CVA_DC           120   94     66   44      1.567     2.258   \n",
      "924  CVA55   CVA_DC           120  120     89   51      1.593     2.992   \n",
      "\n",
      "         MWT6      TUG  ...  DLS_L_Acc_z_PSD_mean  DLS_L_Acc_z_PSD_std  \\\n",
      "834  193.1210  26.9930  ...              0.002632             0.002837   \n",
      "835  233.0196   0.0000  ...              0.001878             0.005541   \n",
      "836   23.0000   0.0000  ...              0.000922             0.004190   \n",
      "837  124.9700  47.5180  ...              0.001891             0.002734   \n",
      "838  152.4600  26.3015  ...              0.002023             0.002391   \n",
      "..        ...      ...  ...                   ...                  ...   \n",
      "920  273.7600  16.6300  ...              0.002799             0.002565   \n",
      "921   10.5500   0.0000  ...              0.000494             0.001826   \n",
      "922  228.8800  19.7830  ...              0.002717             0.003530   \n",
      "923  345.3400  12.1980  ...              0.001778             0.003660   \n",
      "924  295.8850   8.5103  ...              0.002046             0.004230   \n",
      "\n",
      "     DLS_L_Acc_z_PSD_skew  DLS_L_Acc_z_PSD_kurtosis  DLS_L_Acc_norm_DAmp  \\\n",
      "834             38.482202               2389.123896             2.046740   \n",
      "835             65.206423               4978.423068             2.134251   \n",
      "836             56.011452               3766.428967             1.841007   \n",
      "837             52.247620               3675.391060             1.916633   \n",
      "838             16.746425                635.773186             1.973524   \n",
      "..                    ...                       ...                  ...   \n",
      "920             21.016757               1035.520523             2.080264   \n",
      "921             62.694025               4709.090140             1.827743   \n",
      "922             44.863545               3011.513622             2.051814   \n",
      "923             50.851446               3526.410255             2.127712   \n",
      "924             50.617479               3537.372605             2.439073   \n",
      "\n",
      "     DLS_L_Acc_norm_DFreq  DLS_L_Acc_norm_PSD_mean  DLS_L_Acc_norm_PSD_std  \\\n",
      "834                     0                 0.009871                0.046234   \n",
      "835                     0                 0.008549                0.048625   \n",
      "836                     0                 0.007237                0.041433   \n",
      "837                     0                 0.011014                0.043267   \n",
      "838                     0                 0.006372                0.044897   \n",
      "..                    ...                      ...                     ...   \n",
      "920                     0                 0.009124                0.046938   \n",
      "921                     0                 0.003570                0.041213   \n",
      "922                     0                 0.009359                0.046848   \n",
      "923                     0                 0.007847                0.049031   \n",
      "924                     0                 0.011891                0.057090   \n",
      "\n",
      "     DLS_L_Acc_norm_PSD_skew  DLS_L_Acc_norm_PSD_kurtosis  \n",
      "834                41.878625                  1840.650045  \n",
      "835                40.942697                  1784.681883  \n",
      "836                42.457686                  1874.787826  \n",
      "837                41.834890                  1838.631809  \n",
      "838                41.212871                  1800.809773  \n",
      "..                       ...                          ...  \n",
      "920                42.084302                  1852.424196  \n",
      "921                42.475125                  1875.439819  \n",
      "922                40.603674                  1765.360487  \n",
      "923                39.654678                  1707.467910  \n",
      "924                37.776882                  1596.790520  \n",
      "\n",
      "[91 rows x 352 columns]\n",
      "TRAIN: [ 1  2  3  4  5  6  7  8  9 10 11 12 13 14 15 16 17 18 19 20 21 22 23 24\n",
      " 25 26 27 28 29 30 31 32 33 34 35 36 37 38 39 40 41 42 43 44 45 46 47 48\n",
      " 49 50 51 52 53 54 55 56 57 58 59 60 61 62 63 64 65 66 67 68 69 70 71 72\n",
      " 73 74 75 76 77 78 79 80 81 82 83 84 85 86 87 88 89 90] TEST: [0]\n"
     ]
    },
    {
     "name": "stderr",
     "output_type": "stream",
     "text": [
      "C:\\ProgramData\\Anaconda3\\lib\\site-packages\\ipykernel_launcher.py:209: DataConversionWarning: A column-vector y was passed when a 1d array was expected. Please change the shape of y to (n_samples,), for example using ravel().\n",
      "C:\\ProgramData\\Anaconda3\\lib\\site-packages\\ipykernel_launcher.py:209: DataConversionWarning: A column-vector y was passed when a 1d array was expected. Please change the shape of y to (n_samples,), for example using ravel().\n"
     ]
    },
    {
     "name": "stdout",
     "output_type": "stream",
     "text": [
      "Mean Absolute Error: 0.38115330000000036\n",
      "RMSE: 0.38115330000000036\n",
      "MAE Percent:  50.84355612522445\n",
      "Iteration:  1\n",
      "y_pred:  [0.9761533] y_test:  [[0.595]]\n",
      "TRAIN: [ 0  2  3  4  5  6  7  8  9 10 11 12 13 14 15 16 17 18 19 20 21 22 23 24\n",
      " 25 26 27 28 29 30 31 32 33 34 35 36 37 38 39 40 41 42 43 44 45 46 47 48\n",
      " 49 50 51 52 53 54 55 56 57 58 59 60 61 62 63 64 65 66 67 68 69 70 71 72\n",
      " 73 74 75 76 77 78 79 80 81 82 83 84 85 86 87 88 89 90] TEST: [1]\n",
      "Mean Absolute Error: 0.9252727000000002\n",
      "RMSE: 0.9252727000000002\n",
      "MAE Percent:  123.42580912611261\n",
      "Iteration:  2\n",
      "y_pred:  [0.9252727] y_test:  [[0.]]\n",
      "TRAIN: [ 0  1  3  4  5  6  7  8  9 10 11 12 13 14 15 16 17 18 19 20 21 22 23 24\n",
      " 25 26 27 28 29 30 31 32 33 34 35 36 37 38 39 40 41 42 43 44 45 46 47 48\n",
      " 49 50 51 52 53 54 55 56 57 58 59 60 61 62 63 64 65 66 67 68 69 70 71 72\n",
      " 73 74 75 76 77 78 79 80 81 82 83 84 85 86 87 88 89 90] TEST: [2]\n"
     ]
    },
    {
     "name": "stderr",
     "output_type": "stream",
     "text": [
      "C:\\ProgramData\\Anaconda3\\lib\\site-packages\\ipykernel_launcher.py:209: DataConversionWarning: A column-vector y was passed when a 1d array was expected. Please change the shape of y to (n_samples,), for example using ravel().\n",
      "C:\\ProgramData\\Anaconda3\\lib\\site-packages\\ipykernel_launcher.py:209: DataConversionWarning: A column-vector y was passed when a 1d array was expected. Please change the shape of y to (n_samples,), for example using ravel().\n"
     ]
    },
    {
     "name": "stdout",
     "output_type": "stream",
     "text": [
      "Mean Absolute Error: 0.10772999999999996\n",
      "RMSE: 0.10772999999999996\n",
      "MAE Percent:  14.370533592049245\n",
      "Iteration:  3\n",
      "y_pred:  [0.10773] y_test:  [[0.]]\n",
      "TRAIN: [ 0  1  2  4  5  6  7  8  9 10 11 12 13 14 15 16 17 18 19 20 21 22 23 24\n",
      " 25 26 27 28 29 30 31 32 33 34 35 36 37 38 39 40 41 42 43 44 45 46 47 48\n",
      " 49 50 51 52 53 54 55 56 57 58 59 60 61 62 63 64 65 66 67 68 69 70 71 72\n",
      " 73 74 75 76 77 78 79 80 81 82 83 84 85 86 87 88 89 90] TEST: [3]\n",
      "Mean Absolute Error: 0.10881700000000016\n",
      "RMSE: 0.10881700000000016\n",
      "MAE Percent:  14.515532849587167\n",
      "Iteration:  4\n",
      "y_pred:  [0.674183] y_test:  [[0.783]]\n",
      "TRAIN: [ 0  1  2  3  5  6  7  8  9 10 11 12 13 14 15 16 17 18 19 20 21 22 23 24\n",
      " 25 26 27 28 29 30 31 32 33 34 35 36 37 38 39 40 41 42 43 44 45 46 47 48\n",
      " 49 50 51 52 53 54 55 56 57 58 59 60 61 62 63 64 65 66 67 68 69 70 71 72\n",
      " 73 74 75 76 77 78 79 80 81 82 83 84 85 86 87 88 89 90] TEST: [4]\n"
     ]
    },
    {
     "name": "stderr",
     "output_type": "stream",
     "text": [
      "C:\\ProgramData\\Anaconda3\\lib\\site-packages\\ipykernel_launcher.py:209: DataConversionWarning: A column-vector y was passed when a 1d array was expected. Please change the shape of y to (n_samples,), for example using ravel().\n",
      "C:\\ProgramData\\Anaconda3\\lib\\site-packages\\ipykernel_launcher.py:209: DataConversionWarning: A column-vector y was passed when a 1d array was expected. Please change the shape of y to (n_samples,), for example using ravel().\n"
     ]
    },
    {
     "name": "stdout",
     "output_type": "stream",
     "text": [
      "Mean Absolute Error: 0.06346829999999992\n",
      "RMSE: 0.06346829999999992\n",
      "MAE Percent:  8.46628921544842\n",
      "Iteration:  5\n",
      "y_pred:  [0.8535317] y_test:  [[0.917]]\n",
      "TRAIN: [ 0  1  2  3  4  6  7  8  9 10 11 12 13 14 15 16 17 18 19 20 21 22 23 24\n",
      " 25 26 27 28 29 30 31 32 33 34 35 36 37 38 39 40 41 42 43 44 45 46 47 48\n",
      " 49 50 51 52 53 54 55 56 57 58 59 60 61 62 63 64 65 66 67 68 69 70 71 72\n",
      " 73 74 75 76 77 78 79 80 81 82 83 84 85 86 87 88 89 90] TEST: [5]\n",
      "Mean Absolute Error: 0.191441\n",
      "RMSE: 0.191441\n",
      "MAE Percent:  25.53707715024135\n",
      "Iteration:  6\n",
      "y_pred:  [0.277841] y_test:  [[0.0864]]\n",
      "TRAIN: [ 0  1  2  3  4  5  7  8  9 10 11 12 13 14 15 16 17 18 19 20 21 22 23 24\n",
      " 25 26 27 28 29 30 31 32 33 34 35 36 37 38 39 40 41 42 43 44 45 46 47 48\n",
      " 49 50 51 52 53 54 55 56 57 58 59 60 61 62 63 64 65 66 67 68 69 70 71 72\n",
      " 73 74 75 76 77 78 79 80 81 82 83 84 85 86 87 88 89 90] TEST: [6]\n"
     ]
    },
    {
     "name": "stderr",
     "output_type": "stream",
     "text": [
      "C:\\ProgramData\\Anaconda3\\lib\\site-packages\\ipykernel_launcher.py:209: DataConversionWarning: A column-vector y was passed when a 1d array was expected. Please change the shape of y to (n_samples,), for example using ravel().\n",
      "C:\\ProgramData\\Anaconda3\\lib\\site-packages\\ipykernel_launcher.py:209: DataConversionWarning: A column-vector y was passed when a 1d array was expected. Please change the shape of y to (n_samples,), for example using ravel().\n"
     ]
    },
    {
     "name": "stdout",
     "output_type": "stream",
     "text": [
      "Mean Absolute Error: 0.18295199999999978\n",
      "RMSE: 0.18295199999999978\n",
      "MAE Percent:  24.404695644041503\n",
      "Iteration:  7\n",
      "y_pred:  [1.281952] y_test:  [[1.099]]\n",
      "TRAIN: [ 0  1  2  3  4  5  6  8  9 10 11 12 13 14 15 16 17 18 19 20 21 22 23 24\n",
      " 25 26 27 28 29 30 31 32 33 34 35 36 37 38 39 40 41 42 43 44 45 46 47 48\n",
      " 49 50 51 52 53 54 55 56 57 58 59 60 61 62 63 64 65 66 67 68 69 70 71 72\n",
      " 73 74 75 76 77 78 79 80 81 82 83 84 85 86 87 88 89 90] TEST: [7]\n",
      "Mean Absolute Error: 0.15066699999999988\n",
      "RMSE: 0.15066699999999988\n",
      "MAE Percent:  20.098070961786714\n",
      "Iteration:  8\n",
      "y_pred:  [1.317667] y_test:  [[1.167]]\n",
      "TRAIN: [ 0  1  2  3  4  5  6  7  9 10 11 12 13 14 15 16 17 18 19 20 21 22 23 24\n",
      " 25 26 27 28 29 30 31 32 33 34 35 36 37 38 39 40 41 42 43 44 45 46 47 48\n",
      " 49 50 51 52 53 54 55 56 57 58 59 60 61 62 63 64 65 66 67 68 69 70 71 72\n",
      " 73 74 75 76 77 78 79 80 81 82 83 84 85 86 87 88 89 90] TEST: [8]\n"
     ]
    },
    {
     "name": "stderr",
     "output_type": "stream",
     "text": [
      "C:\\ProgramData\\Anaconda3\\lib\\site-packages\\ipykernel_launcher.py:209: DataConversionWarning: A column-vector y was passed when a 1d array was expected. Please change the shape of y to (n_samples,), for example using ravel().\n",
      "C:\\ProgramData\\Anaconda3\\lib\\site-packages\\ipykernel_launcher.py:209: DataConversionWarning: A column-vector y was passed when a 1d array was expected. Please change the shape of y to (n_samples,), for example using ravel().\n"
     ]
    },
    {
     "name": "stdout",
     "output_type": "stream",
     "text": [
      "Mean Absolute Error: 0.14226499999999948\n",
      "RMSE: 0.14226499999999948\n",
      "MAE Percent:  18.977294731949122\n",
      "Iteration:  9\n",
      "y_pred:  [0.572765] y_test:  [[0.4305]]\n",
      "TRAIN: [ 0  1  2  3  4  5  6  7  8 10 11 12 13 14 15 16 17 18 19 20 21 22 23 24\n",
      " 25 26 27 28 29 30 31 32 33 34 35 36 37 38 39 40 41 42 43 44 45 46 47 48\n",
      " 49 50 51 52 53 54 55 56 57 58 59 60 61 62 63 64 65 66 67 68 69 70 71 72\n",
      " 73 74 75 76 77 78 79 80 81 82 83 84 85 86 87 88 89 90] TEST: [9]\n",
      "Mean Absolute Error: 0.3420265\n",
      "RMSE: 0.3420265\n",
      "MAE Percent:  45.62427650256227\n",
      "Iteration:  10\n",
      "y_pred:  [0.8790265] y_test:  [[0.537]]\n",
      "TRAIN: [ 0  1  2  3  4  5  6  7  8  9 11 12 13 14 15 16 17 18 19 20 21 22 23 24\n",
      " 25 26 27 28 29 30 31 32 33 34 35 36 37 38 39 40 41 42 43 44 45 46 47 48\n",
      " 49 50 51 52 53 54 55 56 57 58 59 60 61 62 63 64 65 66 67 68 69 70 71 72\n",
      " 73 74 75 76 77 78 79 80 81 82 83 84 85 86 87 88 89 90] TEST: [10]\n"
     ]
    },
    {
     "name": "stderr",
     "output_type": "stream",
     "text": [
      "C:\\ProgramData\\Anaconda3\\lib\\site-packages\\ipykernel_launcher.py:209: DataConversionWarning: A column-vector y was passed when a 1d array was expected. Please change the shape of y to (n_samples,), for example using ravel().\n",
      "C:\\ProgramData\\Anaconda3\\lib\\site-packages\\ipykernel_launcher.py:209: DataConversionWarning: A column-vector y was passed when a 1d array was expected. Please change the shape of y to (n_samples,), for example using ravel().\n"
     ]
    },
    {
     "name": "stdout",
     "output_type": "stream",
     "text": [
      "Mean Absolute Error: 0.10796799999999991\n",
      "RMSE: 0.10796799999999991\n",
      "MAE Percent:  14.402281359569036\n",
      "Iteration:  11\n",
      "y_pred:  [0.210968] y_test:  [[0.103]]\n",
      "TRAIN: [ 0  1  2  3  4  5  6  7  8  9 10 12 13 14 15 16 17 18 19 20 21 22 23 24\n",
      " 25 26 27 28 29 30 31 32 33 34 35 36 37 38 39 40 41 42 43 44 45 46 47 48\n",
      " 49 50 51 52 53 54 55 56 57 58 59 60 61 62 63 64 65 66 67 68 69 70 71 72\n",
      " 73 74 75 76 77 78 79 80 81 82 83 84 85 86 87 88 89 90] TEST: [11]\n",
      "Mean Absolute Error: 0.03494659999999983\n",
      "RMSE: 0.03494659999999983\n",
      "MAE Percent:  4.661666102551804\n",
      "Iteration:  12\n",
      "y_pred:  [1.0360534] y_test:  [[1.071]]\n",
      "TRAIN: [ 0  1  2  3  4  5  6  7  8  9 10 11 13 14 15 16 17 18 19 20 21 22 23 24\n",
      " 25 26 27 28 29 30 31 32 33 34 35 36 37 38 39 40 41 42 43 44 45 46 47 48\n",
      " 49 50 51 52 53 54 55 56 57 58 59 60 61 62 63 64 65 66 67 68 69 70 71 72\n",
      " 73 74 75 76 77 78 79 80 81 82 83 84 85 86 87 88 89 90] TEST: [12]\n"
     ]
    },
    {
     "name": "stderr",
     "output_type": "stream",
     "text": [
      "C:\\ProgramData\\Anaconda3\\lib\\site-packages\\ipykernel_launcher.py:209: DataConversionWarning: A column-vector y was passed when a 1d array was expected. Please change the shape of y to (n_samples,), for example using ravel().\n",
      "C:\\ProgramData\\Anaconda3\\lib\\site-packages\\ipykernel_launcher.py:209: DataConversionWarning: A column-vector y was passed when a 1d array was expected. Please change the shape of y to (n_samples,), for example using ravel().\n"
     ]
    },
    {
     "name": "stdout",
     "output_type": "stream",
     "text": [
      "Mean Absolute Error: 0.04756500000000008\n",
      "RMSE: 0.04756500000000008\n",
      "MAE Percent:  6.344884714618247\n",
      "Iteration:  13\n",
      "y_pred:  [1.277565] y_test:  [[1.23]]\n",
      "TRAIN: [ 0  1  2  3  4  5  6  7  8  9 10 11 12 14 15 16 17 18 19 20 21 22 23 24\n",
      " 25 26 27 28 29 30 31 32 33 34 35 36 37 38 39 40 41 42 43 44 45 46 47 48\n",
      " 49 50 51 52 53 54 55 56 57 58 59 60 61 62 63 64 65 66 67 68 69 70 71 72\n",
      " 73 74 75 76 77 78 79 80 81 82 83 84 85 86 87 88 89 90] TEST: [13]\n",
      "Mean Absolute Error: 0.00574900000000067\n",
      "RMSE: 0.00574900000000067\n",
      "MAE Percent:  0.7668819977787131\n",
      "Iteration:  14\n",
      "y_pred:  [1.021749] y_test:  [[1.016]]\n",
      "TRAIN: [ 0  1  2  3  4  5  6  7  8  9 10 11 12 13 15 16 17 18 19 20 21 22 23 24\n",
      " 25 26 27 28 29 30 31 32 33 34 35 36 37 38 39 40 41 42 43 44 45 46 47 48\n",
      " 49 50 51 52 53 54 55 56 57 58 59 60 61 62 63 64 65 66 67 68 69 70 71 72\n",
      " 73 74 75 76 77 78 79 80 81 82 83 84 85 86 87 88 89 90] TEST: [14]\n"
     ]
    },
    {
     "name": "stderr",
     "output_type": "stream",
     "text": [
      "C:\\ProgramData\\Anaconda3\\lib\\site-packages\\ipykernel_launcher.py:209: DataConversionWarning: A column-vector y was passed when a 1d array was expected. Please change the shape of y to (n_samples,), for example using ravel().\n",
      "C:\\ProgramData\\Anaconda3\\lib\\site-packages\\ipykernel_launcher.py:209: DataConversionWarning: A column-vector y was passed when a 1d array was expected. Please change the shape of y to (n_samples,), for example using ravel().\n"
     ]
    },
    {
     "name": "stdout",
     "output_type": "stream",
     "text": [
      "Mean Absolute Error: 0.049245000000000205\n",
      "RMSE: 0.049245000000000205\n",
      "MAE Percent:  6.5689866029933\n",
      "Iteration:  15\n",
      "y_pred:  [0.276755] y_test:  [[0.326]]\n",
      "TRAIN: [ 0  1  2  3  4  5  6  7  8  9 10 11 12 13 14 16 17 18 19 20 21 22 23 24\n",
      " 25 26 27 28 29 30 31 32 33 34 35 36 37 38 39 40 41 42 43 44 45 46 47 48\n",
      " 49 50 51 52 53 54 55 56 57 58 59 60 61 62 63 64 65 66 67 68 69 70 71 72\n",
      " 73 74 75 76 77 78 79 80 81 82 83 84 85 86 87 88 89 90] TEST: [15]\n",
      "Mean Absolute Error: 0.2972059999999992\n",
      "RMSE: 0.2972059999999992\n",
      "MAE Percent:  39.6454915692804\n",
      "Iteration:  16\n",
      "y_pred:  [1.478206] y_test:  [[1.181]]\n",
      "TRAIN: [ 0  1  2  3  4  5  6  7  8  9 10 11 12 13 14 15 17 18 19 20 21 22 23 24\n",
      " 25 26 27 28 29 30 31 32 33 34 35 36 37 38 39 40 41 42 43 44 45 46 47 48\n",
      " 49 50 51 52 53 54 55 56 57 58 59 60 61 62 63 64 65 66 67 68 69 70 71 72\n",
      " 73 74 75 76 77 78 79 80 81 82 83 84 85 86 87 88 89 90] TEST: [16]\n"
     ]
    },
    {
     "name": "stderr",
     "output_type": "stream",
     "text": [
      "C:\\ProgramData\\Anaconda3\\lib\\site-packages\\ipykernel_launcher.py:209: DataConversionWarning: A column-vector y was passed when a 1d array was expected. Please change the shape of y to (n_samples,), for example using ravel().\n",
      "C:\\ProgramData\\Anaconda3\\lib\\site-packages\\ipykernel_launcher.py:209: DataConversionWarning: A column-vector y was passed when a 1d array was expected. Please change the shape of y to (n_samples,), for example using ravel().\n"
     ]
    },
    {
     "name": "stdout",
     "output_type": "stream",
     "text": [
      "Mean Absolute Error: 0.08237199999999997\n",
      "RMSE: 0.08237199999999997\n",
      "MAE Percent:  10.987929017397944\n",
      "Iteration:  17\n",
      "y_pred:  [0.082372] y_test:  [[0.]]\n",
      "TRAIN: [ 0  1  2  3  4  5  6  7  8  9 10 11 12 13 14 15 16 18 19 20 21 22 23 24\n",
      " 25 26 27 28 29 30 31 32 33 34 35 36 37 38 39 40 41 42 43 44 45 46 47 48\n",
      " 49 50 51 52 53 54 55 56 57 58 59 60 61 62 63 64 65 66 67 68 69 70 71 72\n",
      " 73 74 75 76 77 78 79 80 81 82 83 84 85 86 87 88 89 90] TEST: [17]\n",
      "Mean Absolute Error: 0.2839560999999995\n",
      "RMSE: 0.2839560999999995\n",
      "MAE Percent:  37.878034658101626\n",
      "Iteration:  18\n",
      "y_pred:  [0.4919561] y_test:  [[0.208]]\n",
      "TRAIN: [ 0  1  2  3  4  5  6  7  8  9 10 11 12 13 14 15 16 17 19 20 21 22 23 24\n",
      " 25 26 27 28 29 30 31 32 33 34 35 36 37 38 39 40 41 42 43 44 45 46 47 48\n",
      " 49 50 51 52 53 54 55 56 57 58 59 60 61 62 63 64 65 66 67 68 69 70 71 72\n",
      " 73 74 75 76 77 78 79 80 81 82 83 84 85 86 87 88 89 90] TEST: [18]\n"
     ]
    },
    {
     "name": "stderr",
     "output_type": "stream",
     "text": [
      "C:\\ProgramData\\Anaconda3\\lib\\site-packages\\ipykernel_launcher.py:209: DataConversionWarning: A column-vector y was passed when a 1d array was expected. Please change the shape of y to (n_samples,), for example using ravel().\n",
      "C:\\ProgramData\\Anaconda3\\lib\\site-packages\\ipykernel_launcher.py:209: DataConversionWarning: A column-vector y was passed when a 1d array was expected. Please change the shape of y to (n_samples,), for example using ravel().\n"
     ]
    },
    {
     "name": "stdout",
     "output_type": "stream",
     "text": [
      "Mean Absolute Error: 0.1922259999999999\n",
      "RMSE: 0.1922259999999999\n",
      "MAE Percent:  25.641791425464195\n",
      "Iteration:  19\n",
      "y_pred:  [0.192226] y_test:  [[0.]]\n",
      "TRAIN: [ 0  1  2  3  4  5  6  7  8  9 10 11 12 13 14 15 16 17 18 20 21 22 23 24\n",
      " 25 26 27 28 29 30 31 32 33 34 35 36 37 38 39 40 41 42 43 44 45 46 47 48\n",
      " 49 50 51 52 53 54 55 56 57 58 59 60 61 62 63 64 65 66 67 68 69 70 71 72\n",
      " 73 74 75 76 77 78 79 80 81 82 83 84 85 86 87 88 89 90] TEST: [19]\n",
      "Mean Absolute Error: 0.025436999999999488\n",
      "RMSE: 0.025436999999999488\n",
      "MAE Percent:  3.393142699164108\n",
      "Iteration:  20\n",
      "y_pred:  [1.572437] y_test:  [[1.547]]\n",
      "TRAIN: [ 0  1  2  3  4  5  6  7  8  9 10 11 12 13 14 15 16 17 18 19 21 22 23 24\n",
      " 25 26 27 28 29 30 31 32 33 34 35 36 37 38 39 40 41 42 43 44 45 46 47 48\n",
      " 49 50 51 52 53 54 55 56 57 58 59 60 61 62 63 64 65 66 67 68 69 70 71 72\n",
      " 73 74 75 76 77 78 79 80 81 82 83 84 85 86 87 88 89 90] TEST: [20]\n"
     ]
    },
    {
     "name": "stderr",
     "output_type": "stream",
     "text": [
      "C:\\ProgramData\\Anaconda3\\lib\\site-packages\\ipykernel_launcher.py:209: DataConversionWarning: A column-vector y was passed when a 1d array was expected. Please change the shape of y to (n_samples,), for example using ravel().\n",
      "C:\\ProgramData\\Anaconda3\\lib\\site-packages\\ipykernel_launcher.py:209: DataConversionWarning: A column-vector y was passed when a 1d array was expected. Please change the shape of y to (n_samples,), for example using ravel().\n"
     ]
    },
    {
     "name": "stdout",
     "output_type": "stream",
     "text": [
      "Mean Absolute Error: 0.35884199999999994\n",
      "RMSE: 0.35884199999999994\n",
      "MAE Percent:  47.86736299302085\n",
      "Iteration:  21\n",
      "y_pred:  [0.312158] y_test:  [[0.671]]\n",
      "TRAIN: [ 0  1  2  3  4  5  6  7  8  9 10 11 12 13 14 15 16 17 18 19 20 22 23 24\n",
      " 25 26 27 28 29 30 31 32 33 34 35 36 37 38 39 40 41 42 43 44 45 46 47 48\n",
      " 49 50 51 52 53 54 55 56 57 58 59 60 61 62 63 64 65 66 67 68 69 70 71 72\n",
      " 73 74 75 76 77 78 79 80 81 82 83 84 85 86 87 88 89 90] TEST: [21]\n",
      "Mean Absolute Error: 0.06645600000000015\n",
      "RMSE: 0.06645600000000015\n",
      "MAE Percent:  8.864830413006842\n",
      "Iteration:  22\n",
      "y_pred:  [0.232456] y_test:  [[0.166]]\n",
      "TRAIN: [ 0  1  2  3  4  5  6  7  8  9 10 11 12 13 14 15 16 17 18 19 20 21 23 24\n",
      " 25 26 27 28 29 30 31 32 33 34 35 36 37 38 39 40 41 42 43 44 45 46 47 48\n",
      " 49 50 51 52 53 54 55 56 57 58 59 60 61 62 63 64 65 66 67 68 69 70 71 72\n",
      " 73 74 75 76 77 78 79 80 81 82 83 84 85 86 87 88 89 90] TEST: [22]\n"
     ]
    },
    {
     "name": "stderr",
     "output_type": "stream",
     "text": [
      "C:\\ProgramData\\Anaconda3\\lib\\site-packages\\ipykernel_launcher.py:209: DataConversionWarning: A column-vector y was passed when a 1d array was expected. Please change the shape of y to (n_samples,), for example using ravel().\n",
      "C:\\ProgramData\\Anaconda3\\lib\\site-packages\\ipykernel_launcher.py:209: DataConversionWarning: A column-vector y was passed when a 1d array was expected. Please change the shape of y to (n_samples,), for example using ravel().\n"
     ]
    },
    {
     "name": "stdout",
     "output_type": "stream",
     "text": [
      "Mean Absolute Error: 0.0030570000000003095\n",
      "RMSE: 0.0030570000000003095\n",
      "MAE Percent:  0.40778540045390327\n",
      "Iteration:  23\n",
      "y_pred:  [0.966943] y_test:  [[0.97]]\n",
      "TRAIN: [ 0  1  2  3  4  5  6  7  8  9 10 11 12 13 14 15 16 17 18 19 20 21 22 24\n",
      " 25 26 27 28 29 30 31 32 33 34 35 36 37 38 39 40 41 42 43 44 45 46 47 48\n",
      " 49 50 51 52 53 54 55 56 57 58 59 60 61 62 63 64 65 66 67 68 69 70 71 72\n",
      " 73 74 75 76 77 78 79 80 81 82 83 84 85 86 87 88 89 90] TEST: [23]\n",
      "Mean Absolute Error: 0.06346300000000002\n",
      "RMSE: 0.06346300000000002\n",
      "MAE Percent:  8.465582227348202\n",
      "Iteration:  24\n",
      "y_pred:  [0.063463] y_test:  [[0.]]\n",
      "TRAIN: [ 0  1  2  3  4  5  6  7  8  9 10 11 12 13 14 15 16 17 18 19 20 21 22 23\n",
      " 25 26 27 28 29 30 31 32 33 34 35 36 37 38 39 40 41 42 43 44 45 46 47 48\n",
      " 49 50 51 52 53 54 55 56 57 58 59 60 61 62 63 64 65 66 67 68 69 70 71 72\n",
      " 73 74 75 76 77 78 79 80 81 82 83 84 85 86 87 88 89 90] TEST: [24]\n"
     ]
    },
    {
     "name": "stderr",
     "output_type": "stream",
     "text": [
      "C:\\ProgramData\\Anaconda3\\lib\\site-packages\\ipykernel_launcher.py:209: DataConversionWarning: A column-vector y was passed when a 1d array was expected. Please change the shape of y to (n_samples,), for example using ravel().\n",
      "C:\\ProgramData\\Anaconda3\\lib\\site-packages\\ipykernel_launcher.py:209: DataConversionWarning: A column-vector y was passed when a 1d array was expected. Please change the shape of y to (n_samples,), for example using ravel().\n"
     ]
    },
    {
     "name": "stdout",
     "output_type": "stream",
     "text": [
      "Mean Absolute Error: 0.044764000000000276\n",
      "RMSE: 0.044764000000000276\n",
      "MAE Percent:  5.971248173345368\n",
      "Iteration:  25\n",
      "y_pred:  [0.151236] y_test:  [[0.196]]\n",
      "TRAIN: [ 0  1  2  3  4  5  6  7  8  9 10 11 12 13 14 15 16 17 18 19 20 21 22 23\n",
      " 24 26 27 28 29 30 31 32 33 34 35 36 37 38 39 40 41 42 43 44 45 46 47 48\n",
      " 49 50 51 52 53 54 55 56 57 58 59 60 61 62 63 64 65 66 67 68 69 70 71 72\n",
      " 73 74 75 76 77 78 79 80 81 82 83 84 85 86 87 88 89 90] TEST: [25]\n",
      "Mean Absolute Error: 0.0941122999999997\n",
      "RMSE: 0.0941122999999997\n",
      "MAE Percent:  12.554014374594006\n",
      "Iteration:  26\n",
      "y_pred:  [0.8698877] y_test:  [[0.964]]\n",
      "TRAIN: [ 0  1  2  3  4  5  6  7  8  9 10 11 12 13 14 15 16 17 18 19 20 21 22 23\n",
      " 24 25 27 28 29 30 31 32 33 34 35 36 37 38 39 40 41 42 43 44 45 46 47 48\n",
      " 49 50 51 52 53 54 55 56 57 58 59 60 61 62 63 64 65 66 67 68 69 70 71 72\n",
      " 73 74 75 76 77 78 79 80 81 82 83 84 85 86 87 88 89 90] TEST: [26]\n"
     ]
    },
    {
     "name": "stderr",
     "output_type": "stream",
     "text": [
      "C:\\ProgramData\\Anaconda3\\lib\\site-packages\\ipykernel_launcher.py:209: DataConversionWarning: A column-vector y was passed when a 1d array was expected. Please change the shape of y to (n_samples,), for example using ravel().\n",
      "C:\\ProgramData\\Anaconda3\\lib\\site-packages\\ipykernel_launcher.py:209: DataConversionWarning: A column-vector y was passed when a 1d array was expected. Please change the shape of y to (n_samples,), for example using ravel().\n"
     ]
    },
    {
     "name": "stdout",
     "output_type": "stream",
     "text": [
      "Mean Absolute Error: 0.056118999999999974\n",
      "RMSE: 0.056118999999999974\n",
      "MAE Percent:  7.485936829594462\n",
      "Iteration:  27\n",
      "y_pred:  [0.311119] y_test:  [[0.255]]\n",
      "TRAIN: [ 0  1  2  3  4  5  6  7  8  9 10 11 12 13 14 15 16 17 18 19 20 21 22 23\n",
      " 24 25 26 28 29 30 31 32 33 34 35 36 37 38 39 40 41 42 43 44 45 46 47 48\n",
      " 49 50 51 52 53 54 55 56 57 58 59 60 61 62 63 64 65 66 67 68 69 70 71 72\n",
      " 73 74 75 76 77 78 79 80 81 82 83 84 85 86 87 88 89 90] TEST: [27]\n",
      "Mean Absolute Error: 0.1325970000000004\n",
      "RMSE: 0.1325970000000004\n",
      "MAE Percent:  17.68764172194338\n",
      "Iteration:  28\n",
      "y_pred:  [0.920597] y_test:  [[0.788]]\n",
      "TRAIN: [ 0  1  2  3  4  5  6  7  8  9 10 11 12 13 14 15 16 17 18 19 20 21 22 23\n",
      " 24 25 26 27 29 30 31 32 33 34 35 36 37 38 39 40 41 42 43 44 45 46 47 48\n",
      " 49 50 51 52 53 54 55 56 57 58 59 60 61 62 63 64 65 66 67 68 69 70 71 72\n",
      " 73 74 75 76 77 78 79 80 81 82 83 84 85 86 87 88 89 90] TEST: [28]\n"
     ]
    },
    {
     "name": "stderr",
     "output_type": "stream",
     "text": [
      "C:\\ProgramData\\Anaconda3\\lib\\site-packages\\ipykernel_launcher.py:209: DataConversionWarning: A column-vector y was passed when a 1d array was expected. Please change the shape of y to (n_samples,), for example using ravel().\n",
      "C:\\ProgramData\\Anaconda3\\lib\\site-packages\\ipykernel_launcher.py:209: DataConversionWarning: A column-vector y was passed when a 1d array was expected. Please change the shape of y to (n_samples,), for example using ravel().\n"
     ]
    },
    {
     "name": "stdout",
     "output_type": "stream",
     "text": [
      "Mean Absolute Error: 0.16552760000000027\n",
      "RMSE: 0.16552760000000027\n",
      "MAE Percent:  22.080385558445144\n",
      "Iteration:  29\n",
      "y_pred:  [0.4944724] y_test:  [[0.66]]\n",
      "TRAIN: [ 0  1  2  3  4  5  6  7  8  9 10 11 12 13 14 15 16 17 18 19 20 21 22 23\n",
      " 24 25 26 27 28 30 31 32 33 34 35 36 37 38 39 40 41 42 43 44 45 46 47 48\n",
      " 49 50 51 52 53 54 55 56 57 58 59 60 61 62 63 64 65 66 67 68 69 70 71 72\n",
      " 73 74 75 76 77 78 79 80 81 82 83 84 85 86 87 88 89 90] TEST: [29]\n",
      "Mean Absolute Error: 0.0029079999999992445\n",
      "RMSE: 0.0029079999999992445\n",
      "MAE Percent:  0.38790969725859425\n",
      "Iteration:  30\n",
      "y_pred:  [1.437908] y_test:  [[1.435]]\n",
      "TRAIN: [ 0  1  2  3  4  5  6  7  8  9 10 11 12 13 14 15 16 17 18 19 20 21 22 23\n",
      " 24 25 26 27 28 29 31 32 33 34 35 36 37 38 39 40 41 42 43 44 45 46 47 48\n",
      " 49 50 51 52 53 54 55 56 57 58 59 60 61 62 63 64 65 66 67 68 69 70 71 72\n",
      " 73 74 75 76 77 78 79 80 81 82 83 84 85 86 87 88 89 90] TEST: [30]\n"
     ]
    },
    {
     "name": "stderr",
     "output_type": "stream",
     "text": [
      "C:\\ProgramData\\Anaconda3\\lib\\site-packages\\ipykernel_launcher.py:209: DataConversionWarning: A column-vector y was passed when a 1d array was expected. Please change the shape of y to (n_samples,), for example using ravel().\n",
      "C:\\ProgramData\\Anaconda3\\lib\\site-packages\\ipykernel_launcher.py:209: DataConversionWarning: A column-vector y was passed when a 1d array was expected. Please change the shape of y to (n_samples,), for example using ravel().\n"
     ]
    },
    {
     "name": "stdout",
     "output_type": "stream",
     "text": [
      "Mean Absolute Error: 0.2437855999999997\n",
      "RMSE: 0.2437855999999997\n",
      "MAE Percent:  32.51953173728653\n",
      "Iteration:  31\n",
      "y_pred:  [0.8652144] y_test:  [[1.109]]\n",
      "TRAIN: [ 0  1  2  3  4  5  6  7  8  9 10 11 12 13 14 15 16 17 18 19 20 21 22 23\n",
      " 24 25 26 27 28 29 30 32 33 34 35 36 37 38 39 40 41 42 43 44 45 46 47 48\n",
      " 49 50 51 52 53 54 55 56 57 58 59 60 61 62 63 64 65 66 67 68 69 70 71 72\n",
      " 73 74 75 76 77 78 79 80 81 82 83 84 85 86 87 88 89 90] TEST: [31]\n",
      "Mean Absolute Error: 0.5219711999999996\n",
      "RMSE: 0.5219711999999996\n",
      "MAE Percent:  69.62781642701431\n",
      "Iteration:  32\n",
      "y_pred:  [0.8780288] y_test:  [[1.4]]\n",
      "TRAIN: [ 0  1  2  3  4  5  6  7  8  9 10 11 12 13 14 15 16 17 18 19 20 21 22 23\n",
      " 24 25 26 27 28 29 30 31 33 34 35 36 37 38 39 40 41 42 43 44 45 46 47 48\n",
      " 49 50 51 52 53 54 55 56 57 58 59 60 61 62 63 64 65 66 67 68 69 70 71 72\n",
      " 73 74 75 76 77 78 79 80 81 82 83 84 85 86 87 88 89 90] TEST: [32]\n"
     ]
    },
    {
     "name": "stderr",
     "output_type": "stream",
     "text": [
      "C:\\ProgramData\\Anaconda3\\lib\\site-packages\\ipykernel_launcher.py:209: DataConversionWarning: A column-vector y was passed when a 1d array was expected. Please change the shape of y to (n_samples,), for example using ravel().\n",
      "C:\\ProgramData\\Anaconda3\\lib\\site-packages\\ipykernel_launcher.py:209: DataConversionWarning: A column-vector y was passed when a 1d array was expected. Please change the shape of y to (n_samples,), for example using ravel().\n"
     ]
    },
    {
     "name": "stdout",
     "output_type": "stream",
     "text": [
      "Mean Absolute Error: 0.7579940000000005\n",
      "RMSE: 0.7579940000000005\n",
      "MAE Percent:  101.1118373672309\n",
      "Iteration:  33\n",
      "y_pred:  [1.414006] y_test:  [[2.172]]\n",
      "TRAIN: [ 0  1  2  3  4  5  6  7  8  9 10 11 12 13 14 15 16 17 18 19 20 21 22 23\n",
      " 24 25 26 27 28 29 30 31 32 34 35 36 37 38 39 40 41 42 43 44 45 46 47 48\n",
      " 49 50 51 52 53 54 55 56 57 58 59 60 61 62 63 64 65 66 67 68 69 70 71 72\n",
      " 73 74 75 76 77 78 79 80 81 82 83 84 85 86 87 88 89 90] TEST: [33]\n",
      "Mean Absolute Error: 0.23145960000000043\n",
      "RMSE: 0.23145960000000043\n",
      "MAE Percent:  30.875317525315964\n",
      "Iteration:  34\n",
      "y_pred:  [0.6935404] y_test:  [[0.925]]\n",
      "TRAIN: [ 0  1  2  3  4  5  6  7  8  9 10 11 12 13 14 15 16 17 18 19 20 21 22 23\n",
      " 24 25 26 27 28 29 30 31 32 33 35 36 37 38 39 40 41 42 43 44 45 46 47 48\n",
      " 49 50 51 52 53 54 55 56 57 58 59 60 61 62 63 64 65 66 67 68 69 70 71 72\n",
      " 73 74 75 76 77 78 79 80 81 82 83 84 85 86 87 88 89 90] TEST: [34]\n"
     ]
    },
    {
     "name": "stderr",
     "output_type": "stream",
     "text": [
      "C:\\ProgramData\\Anaconda3\\lib\\site-packages\\ipykernel_launcher.py:209: DataConversionWarning: A column-vector y was passed when a 1d array was expected. Please change the shape of y to (n_samples,), for example using ravel().\n",
      "C:\\ProgramData\\Anaconda3\\lib\\site-packages\\ipykernel_launcher.py:209: DataConversionWarning: A column-vector y was passed when a 1d array was expected. Please change the shape of y to (n_samples,), for example using ravel().\n"
     ]
    },
    {
     "name": "stdout",
     "output_type": "stream",
     "text": [
      "Mean Absolute Error: 0.12525670000000003\n",
      "RMSE: 0.12525670000000003\n",
      "MAE Percent:  16.708489881919945\n",
      "Iteration:  35\n",
      "y_pred:  [0.2712567] y_test:  [[0.146]]\n",
      "TRAIN: [ 0  1  2  3  4  5  6  7  8  9 10 11 12 13 14 15 16 17 18 19 20 21 22 23\n",
      " 24 25 26 27 28 29 30 31 32 33 34 36 37 38 39 40 41 42 43 44 45 46 47 48\n",
      " 49 50 51 52 53 54 55 56 57 58 59 60 61 62 63 64 65 66 67 68 69 70 71 72\n",
      " 73 74 75 76 77 78 79 80 81 82 83 84 85 86 87 88 89 90] TEST: [35]\n",
      "Mean Absolute Error: 0.04559800000000003\n",
      "RMSE: 0.04559800000000003\n",
      "MAE Percent:  6.0824987536458\n",
      "Iteration:  36\n",
      "y_pred:  [0.090902] y_test:  [[0.1365]]\n",
      "TRAIN: [ 0  1  2  3  4  5  6  7  8  9 10 11 12 13 14 15 16 17 18 19 20 21 22 23\n",
      " 24 25 26 27 28 29 30 31 32 33 34 35 37 38 39 40 41 42 43 44 45 46 47 48\n",
      " 49 50 51 52 53 54 55 56 57 58 59 60 61 62 63 64 65 66 67 68 69 70 71 72\n",
      " 73 74 75 76 77 78 79 80 81 82 83 84 85 86 87 88 89 90] TEST: [36]\n"
     ]
    },
    {
     "name": "stderr",
     "output_type": "stream",
     "text": [
      "C:\\ProgramData\\Anaconda3\\lib\\site-packages\\ipykernel_launcher.py:209: DataConversionWarning: A column-vector y was passed when a 1d array was expected. Please change the shape of y to (n_samples,), for example using ravel().\n",
      "C:\\ProgramData\\Anaconda3\\lib\\site-packages\\ipykernel_launcher.py:209: DataConversionWarning: A column-vector y was passed when a 1d array was expected. Please change the shape of y to (n_samples,), for example using ravel().\n"
     ]
    },
    {
     "name": "stdout",
     "output_type": "stream",
     "text": [
      "Mean Absolute Error: 0.1975034999999999\n",
      "RMSE: 0.1975034999999999\n",
      "MAE Percent:  26.34577816111851\n",
      "Iteration:  37\n",
      "y_pred:  [0.4613035] y_test:  [[0.2638]]\n",
      "TRAIN: [ 0  1  2  3  4  5  6  7  8  9 10 11 12 13 14 15 16 17 18 19 20 21 22 23\n",
      " 24 25 26 27 28 29 30 31 32 33 34 35 36 38 39 40 41 42 43 44 45 46 47 48\n",
      " 49 50 51 52 53 54 55 56 57 58 59 60 61 62 63 64 65 66 67 68 69 70 71 72\n",
      " 73 74 75 76 77 78 79 80 81 82 83 84 85 86 87 88 89 90] TEST: [37]\n",
      "Mean Absolute Error: 0.0626739999999999\n",
      "RMSE: 0.0626739999999999\n",
      "MAE Percent:  8.360334376200623\n",
      "Iteration:  38\n",
      "y_pred:  [0.222274] y_test:  [[0.1596]]\n",
      "TRAIN: [ 0  1  2  3  4  5  6  7  8  9 10 11 12 13 14 15 16 17 18 19 20 21 22 23\n",
      " 24 25 26 27 28 29 30 31 32 33 34 35 36 37 39 40 41 42 43 44 45 46 47 48\n",
      " 49 50 51 52 53 54 55 56 57 58 59 60 61 62 63 64 65 66 67 68 69 70 71 72\n",
      " 73 74 75 76 77 78 79 80 81 82 83 84 85 86 87 88 89 90] TEST: [38]\n"
     ]
    },
    {
     "name": "stderr",
     "output_type": "stream",
     "text": [
      "C:\\ProgramData\\Anaconda3\\lib\\site-packages\\ipykernel_launcher.py:209: DataConversionWarning: A column-vector y was passed when a 1d array was expected. Please change the shape of y to (n_samples,), for example using ravel().\n",
      "C:\\ProgramData\\Anaconda3\\lib\\site-packages\\ipykernel_launcher.py:209: DataConversionWarning: A column-vector y was passed when a 1d array was expected. Please change the shape of y to (n_samples,), for example using ravel().\n"
     ]
    },
    {
     "name": "stdout",
     "output_type": "stream",
     "text": [
      "Mean Absolute Error: 0.1097760999999996\n",
      "RMSE: 0.1097760999999996\n",
      "MAE Percent:  14.643471016932628\n",
      "Iteration:  39\n",
      "y_pred:  [0.7667761] y_test:  [[0.657]]\n",
      "TRAIN: [ 0  1  2  3  4  5  6  7  8  9 10 11 12 13 14 15 16 17 18 19 20 21 22 23\n",
      " 24 25 26 27 28 29 30 31 32 33 34 35 36 37 38 40 41 42 43 44 45 46 47 48\n",
      " 49 50 51 52 53 54 55 56 57 58 59 60 61 62 63 64 65 66 67 68 69 70 71 72\n",
      " 73 74 75 76 77 78 79 80 81 82 83 84 85 86 87 88 89 90] TEST: [39]\n",
      "Mean Absolute Error: 0.07767299999999966\n",
      "RMSE: 0.07767299999999966\n",
      "MAE Percent:  10.361110699853675\n",
      "Iteration:  40\n",
      "y_pred:  [1.262327] y_test:  [[1.34]]\n",
      "TRAIN: [ 0  1  2  3  4  5  6  7  8  9 10 11 12 13 14 15 16 17 18 19 20 21 22 23\n",
      " 24 25 26 27 28 29 30 31 32 33 34 35 36 37 38 39 41 42 43 44 45 46 47 48\n",
      " 49 50 51 52 53 54 55 56 57 58 59 60 61 62 63 64 65 66 67 68 69 70 71 72\n",
      " 73 74 75 76 77 78 79 80 81 82 83 84 85 86 87 88 89 90] TEST: [40]\n"
     ]
    },
    {
     "name": "stderr",
     "output_type": "stream",
     "text": [
      "C:\\ProgramData\\Anaconda3\\lib\\site-packages\\ipykernel_launcher.py:209: DataConversionWarning: A column-vector y was passed when a 1d array was expected. Please change the shape of y to (n_samples,), for example using ravel().\n",
      "C:\\ProgramData\\Anaconda3\\lib\\site-packages\\ipykernel_launcher.py:209: DataConversionWarning: A column-vector y was passed when a 1d array was expected. Please change the shape of y to (n_samples,), for example using ravel().\n"
     ]
    },
    {
     "name": "stdout",
     "output_type": "stream",
     "text": [
      "Mean Absolute Error: 0.27915940000000006\n",
      "RMSE: 0.27915940000000006\n",
      "MAE Percent:  37.23818374859662\n",
      "Iteration:  41\n",
      "y_pred:  [1.2561594] y_test:  [[0.977]]\n",
      "TRAIN: [ 0  1  2  3  4  5  6  7  8  9 10 11 12 13 14 15 16 17 18 19 20 21 22 23\n",
      " 24 25 26 27 28 29 30 31 32 33 34 35 36 37 38 39 40 42 43 44 45 46 47 48\n",
      " 49 50 51 52 53 54 55 56 57 58 59 60 61 62 63 64 65 66 67 68 69 70 71 72\n",
      " 73 74 75 76 77 78 79 80 81 82 83 84 85 86 87 88 89 90] TEST: [41]\n",
      "Mean Absolute Error: 0.1546898\n",
      "RMSE: 0.1546898\n",
      "MAE Percent:  20.63468826926\n",
      "Iteration:  42\n",
      "y_pred:  [0.4706898] y_test:  [[0.316]]\n",
      "TRAIN: [ 0  1  2  3  4  5  6  7  8  9 10 11 12 13 14 15 16 17 18 19 20 21 22 23\n",
      " 24 25 26 27 28 29 30 31 32 33 34 35 36 37 38 39 40 41 43 44 45 46 47 48\n",
      " 49 50 51 52 53 54 55 56 57 58 59 60 61 62 63 64 65 66 67 68 69 70 71 72\n",
      " 73 74 75 76 77 78 79 80 81 82 83 84 85 86 87 88 89 90] TEST: [42]\n"
     ]
    },
    {
     "name": "stderr",
     "output_type": "stream",
     "text": [
      "C:\\ProgramData\\Anaconda3\\lib\\site-packages\\ipykernel_launcher.py:209: DataConversionWarning: A column-vector y was passed when a 1d array was expected. Please change the shape of y to (n_samples,), for example using ravel().\n",
      "C:\\ProgramData\\Anaconda3\\lib\\site-packages\\ipykernel_launcher.py:209: DataConversionWarning: A column-vector y was passed when a 1d array was expected. Please change the shape of y to (n_samples,), for example using ravel().\n"
     ]
    },
    {
     "name": "stdout",
     "output_type": "stream",
     "text": [
      "Mean Absolute Error: 0.889002\n",
      "RMSE: 0.889002\n",
      "MAE Percent:  118.5875160530861\n",
      "Iteration:  43\n",
      "y_pred:  [0.238998] y_test:  [[1.128]]\n",
      "TRAIN: [ 0  1  2  3  4  5  6  7  8  9 10 11 12 13 14 15 16 17 18 19 20 21 22 23\n",
      " 24 25 26 27 28 29 30 31 32 33 34 35 36 37 38 39 40 41 42 44 45 46 47 48\n",
      " 49 50 51 52 53 54 55 56 57 58 59 60 61 62 63 64 65 66 67 68 69 70 71 72\n",
      " 73 74 75 76 77 78 79 80 81 82 83 84 85 86 87 88 89 90] TEST: [43]\n",
      "Mean Absolute Error: 0.010961400000000565\n",
      "RMSE: 0.010961400000000565\n",
      "MAE Percent:  1.4621847852584866\n",
      "Iteration:  44\n",
      "y_pred:  [0.8589614] y_test:  [[0.848]]\n",
      "TRAIN: [ 0  1  2  3  4  5  6  7  8  9 10 11 12 13 14 15 16 17 18 19 20 21 22 23\n",
      " 24 25 26 27 28 29 30 31 32 33 34 35 36 37 38 39 40 41 42 43 45 46 47 48\n",
      " 49 50 51 52 53 54 55 56 57 58 59 60 61 62 63 64 65 66 67 68 69 70 71 72\n",
      " 73 74 75 76 77 78 79 80 81 82 83 84 85 86 87 88 89 90] TEST: [44]\n"
     ]
    },
    {
     "name": "stderr",
     "output_type": "stream",
     "text": [
      "C:\\ProgramData\\Anaconda3\\lib\\site-packages\\ipykernel_launcher.py:209: DataConversionWarning: A column-vector y was passed when a 1d array was expected. Please change the shape of y to (n_samples,), for example using ravel().\n",
      "C:\\ProgramData\\Anaconda3\\lib\\site-packages\\ipykernel_launcher.py:209: DataConversionWarning: A column-vector y was passed when a 1d array was expected. Please change the shape of y to (n_samples,), for example using ravel().\n"
     ]
    },
    {
     "name": "stdout",
     "output_type": "stream",
     "text": [
      "Mean Absolute Error: 0.07299800000000023\n",
      "RMSE: 0.07299800000000023\n",
      "MAE Percent:  9.737493837857741\n",
      "Iteration:  45\n",
      "y_pred:  [0.919002] y_test:  [[0.992]]\n",
      "TRAIN: [ 0  1  2  3  4  5  6  7  8  9 10 11 12 13 14 15 16 17 18 19 20 21 22 23\n",
      " 24 25 26 27 28 29 30 31 32 33 34 35 36 37 38 39 40 41 42 43 44 46 47 48\n",
      " 49 50 51 52 53 54 55 56 57 58 59 60 61 62 63 64 65 66 67 68 69 70 71 72\n",
      " 73 74 75 76 77 78 79 80 81 82 83 84 85 86 87 88 89 90] TEST: [45]\n",
      "Mean Absolute Error: 0.07603099999999974\n",
      "RMSE: 0.07603099999999974\n",
      "MAE Percent:  10.142077782763323\n",
      "Iteration:  46\n",
      "y_pred:  [0.633939] y_test:  [[0.70997]]\n",
      "TRAIN: [ 0  1  2  3  4  5  6  7  8  9 10 11 12 13 14 15 16 17 18 19 20 21 22 23\n",
      " 24 25 26 27 28 29 30 31 32 33 34 35 36 37 38 39 40 41 42 43 44 45 47 48\n",
      " 49 50 51 52 53 54 55 56 57 58 59 60 61 62 63 64 65 66 67 68 69 70 71 72\n",
      " 73 74 75 76 77 78 79 80 81 82 83 84 85 86 87 88 89 90] TEST: [46]\n"
     ]
    },
    {
     "name": "stderr",
     "output_type": "stream",
     "text": [
      "C:\\ProgramData\\Anaconda3\\lib\\site-packages\\ipykernel_launcher.py:209: DataConversionWarning: A column-vector y was passed when a 1d array was expected. Please change the shape of y to (n_samples,), for example using ravel().\n",
      "C:\\ProgramData\\Anaconda3\\lib\\site-packages\\ipykernel_launcher.py:209: DataConversionWarning: A column-vector y was passed when a 1d array was expected. Please change the shape of y to (n_samples,), for example using ravel().\n"
     ]
    },
    {
     "name": "stdout",
     "output_type": "stream",
     "text": [
      "Mean Absolute Error: 0.02525500000000047\n",
      "RMSE: 0.02525500000000047\n",
      "MAE Percent:  3.3688649945902776\n",
      "Iteration:  47\n",
      "y_pred:  [0.891745] y_test:  [[0.917]]\n",
      "TRAIN: [ 0  1  2  3  4  5  6  7  8  9 10 11 12 13 14 15 16 17 18 19 20 21 22 23\n",
      " 24 25 26 27 28 29 30 31 32 33 34 35 36 37 38 39 40 41 42 43 44 45 46 48\n",
      " 49 50 51 52 53 54 55 56 57 58 59 60 61 62 63 64 65 66 67 68 69 70 71 72\n",
      " 73 74 75 76 77 78 79 80 81 82 83 84 85 86 87 88 89 90] TEST: [47]\n",
      "Mean Absolute Error: 0.17427399999999993\n",
      "RMSE: 0.17427399999999993\n",
      "MAE Percent:  23.247102675399518\n",
      "Iteration:  48\n",
      "y_pred:  [0.306274] y_test:  [[0.132]]\n",
      "TRAIN: [ 0  1  2  3  4  5  6  7  8  9 10 11 12 13 14 15 16 17 18 19 20 21 22 23\n",
      " 24 25 26 27 28 29 30 31 32 33 34 35 36 37 38 39 40 41 42 43 44 45 46 47\n",
      " 49 50 51 52 53 54 55 56 57 58 59 60 61 62 63 64 65 66 67 68 69 70 71 72\n",
      " 73 74 75 76 77 78 79 80 81 82 83 84 85 86 87 88 89 90] TEST: [48]\n"
     ]
    },
    {
     "name": "stderr",
     "output_type": "stream",
     "text": [
      "C:\\ProgramData\\Anaconda3\\lib\\site-packages\\ipykernel_launcher.py:209: DataConversionWarning: A column-vector y was passed when a 1d array was expected. Please change the shape of y to (n_samples,), for example using ravel().\n",
      "C:\\ProgramData\\Anaconda3\\lib\\site-packages\\ipykernel_launcher.py:209: DataConversionWarning: A column-vector y was passed when a 1d array was expected. Please change the shape of y to (n_samples,), for example using ravel().\n"
     ]
    },
    {
     "name": "stdout",
     "output_type": "stream",
     "text": [
      "Mean Absolute Error: 0.5719660000000002\n",
      "RMSE: 0.5719660000000002\n",
      "MAE Percent:  76.29682183709315\n",
      "Iteration:  49\n",
      "y_pred:  [1.810966] y_test:  [[1.239]]\n",
      "TRAIN: [ 0  1  2  3  4  5  6  7  8  9 10 11 12 13 14 15 16 17 18 19 20 21 22 23\n",
      " 24 25 26 27 28 29 30 31 32 33 34 35 36 37 38 39 40 41 42 43 44 45 46 47\n",
      " 48 50 51 52 53 54 55 56 57 58 59 60 61 62 63 64 65 66 67 68 69 70 71 72\n",
      " 73 74 75 76 77 78 79 80 81 82 83 84 85 86 87 88 89 90] TEST: [49]\n",
      "Mean Absolute Error: 0.878345999999999\n",
      "RMSE: 0.878345999999999\n",
      "MAE Percent:  117.1660697896786\n",
      "Iteration:  50\n",
      "y_pred:  [1.762346] y_test:  [[0.884]]\n",
      "TRAIN: [ 0  1  2  3  4  5  6  7  8  9 10 11 12 13 14 15 16 17 18 19 20 21 22 23\n",
      " 24 25 26 27 28 29 30 31 32 33 34 35 36 37 38 39 40 41 42 43 44 45 46 47\n",
      " 48 49 51 52 53 54 55 56 57 58 59 60 61 62 63 64 65 66 67 68 69 70 71 72\n",
      " 73 74 75 76 77 78 79 80 81 82 83 84 85 86 87 88 89 90] TEST: [50]\n"
     ]
    },
    {
     "name": "stderr",
     "output_type": "stream",
     "text": [
      "C:\\ProgramData\\Anaconda3\\lib\\site-packages\\ipykernel_launcher.py:209: DataConversionWarning: A column-vector y was passed when a 1d array was expected. Please change the shape of y to (n_samples,), for example using ravel().\n",
      "C:\\ProgramData\\Anaconda3\\lib\\site-packages\\ipykernel_launcher.py:209: DataConversionWarning: A column-vector y was passed when a 1d array was expected. Please change the shape of y to (n_samples,), for example using ravel().\n"
     ]
    },
    {
     "name": "stdout",
     "output_type": "stream",
     "text": [
      "Mean Absolute Error: 0.21418800000000182\n",
      "RMSE: 0.21418800000000182\n",
      "MAE Percent:  28.571390040043354\n",
      "Iteration:  51\n",
      "y_pred:  [1.456812] y_test:  [[1.671]]\n",
      "TRAIN: [ 0  1  2  3  4  5  6  7  8  9 10 11 12 13 14 15 16 17 18 19 20 21 22 23\n",
      " 24 25 26 27 28 29 30 31 32 33 34 35 36 37 38 39 40 41 42 43 44 45 46 47\n",
      " 48 49 50 52 53 54 55 56 57 58 59 60 61 62 63 64 65 66 67 68 69 70 71 72\n",
      " 73 74 75 76 77 78 79 80 81 82 83 84 85 86 87 88 89 90] TEST: [51]\n",
      "Mean Absolute Error: 0.6342390000000002\n",
      "RMSE: 0.6342390000000002\n",
      "MAE Percent:  84.60366522684237\n",
      "Iteration:  52\n",
      "y_pred:  [1.118239] y_test:  [[0.484]]\n",
      "TRAIN: [ 0  1  2  3  4  5  6  7  8  9 10 11 12 13 14 15 16 17 18 19 20 21 22 23\n",
      " 24 25 26 27 28 29 30 31 32 33 34 35 36 37 38 39 40 41 42 43 44 45 46 47\n",
      " 48 49 50 51 53 54 55 56 57 58 59 60 61 62 63 64 65 66 67 68 69 70 71 72\n",
      " 73 74 75 76 77 78 79 80 81 82 83 84 85 86 87 88 89 90] TEST: [52]\n"
     ]
    },
    {
     "name": "stderr",
     "output_type": "stream",
     "text": [
      "C:\\ProgramData\\Anaconda3\\lib\\site-packages\\ipykernel_launcher.py:209: DataConversionWarning: A column-vector y was passed when a 1d array was expected. Please change the shape of y to (n_samples,), for example using ravel().\n",
      "C:\\ProgramData\\Anaconda3\\lib\\site-packages\\ipykernel_launcher.py:209: DataConversionWarning: A column-vector y was passed when a 1d array was expected. Please change the shape of y to (n_samples,), for example using ravel().\n"
     ]
    },
    {
     "name": "stdout",
     "output_type": "stream",
     "text": [
      "Mean Absolute Error: 0.23381939999999996\n",
      "RMSE: 0.23381939999999996\n",
      "MAE Percent:  31.19010064209412\n",
      "Iteration:  53\n",
      "y_pred:  [0.3846194] y_test:  [[0.1508]]\n",
      "TRAIN: [ 0  1  2  3  4  5  6  7  8  9 10 11 12 13 14 15 16 17 18 19 20 21 22 23\n",
      " 24 25 26 27 28 29 30 31 32 33 34 35 36 37 38 39 40 41 42 43 44 45 46 47\n",
      " 48 49 50 51 52 54 55 56 57 58 59 60 61 62 63 64 65 66 67 68 69 70 71 72\n",
      " 73 74 75 76 77 78 79 80 81 82 83 84 85 86 87 88 89 90] TEST: [53]\n",
      "Mean Absolute Error: 0.7956296999999999\n",
      "RMSE: 0.7956296999999999\n",
      "MAE Percent:  106.13221322456201\n",
      "Iteration:  54\n",
      "y_pred:  [1.7894297] y_test:  [[0.9938]]\n",
      "TRAIN: [ 0  1  2  3  4  5  6  7  8  9 10 11 12 13 14 15 16 17 18 19 20 21 22 23\n",
      " 24 25 26 27 28 29 30 31 32 33 34 35 36 37 38 39 40 41 42 43 44 45 46 47\n",
      " 48 49 50 51 52 53 55 56 57 58 59 60 61 62 63 64 65 66 67 68 69 70 71 72\n",
      " 73 74 75 76 77 78 79 80 81 82 83 84 85 86 87 88 89 90] TEST: [54]\n"
     ]
    },
    {
     "name": "stderr",
     "output_type": "stream",
     "text": [
      "C:\\ProgramData\\Anaconda3\\lib\\site-packages\\ipykernel_launcher.py:209: DataConversionWarning: A column-vector y was passed when a 1d array was expected. Please change the shape of y to (n_samples,), for example using ravel().\n",
      "C:\\ProgramData\\Anaconda3\\lib\\site-packages\\ipykernel_launcher.py:209: DataConversionWarning: A column-vector y was passed when a 1d array was expected. Please change the shape of y to (n_samples,), for example using ravel().\n"
     ]
    },
    {
     "name": "stdout",
     "output_type": "stream",
     "text": [
      "Mean Absolute Error: 0.11687000000000047\n",
      "RMSE: 0.11687000000000047\n",
      "MAE Percent:  15.589754579994455\n",
      "Iteration:  55\n",
      "y_pred:  [1.34687] y_test:  [[1.23]]\n",
      "TRAIN: [ 0  1  2  3  4  5  6  7  8  9 10 11 12 13 14 15 16 17 18 19 20 21 22 23\n",
      " 24 25 26 27 28 29 30 31 32 33 34 35 36 37 38 39 40 41 42 43 44 45 46 47\n",
      " 48 49 50 51 52 53 54 56 57 58 59 60 61 62 63 64 65 66 67 68 69 70 71 72\n",
      " 73 74 75 76 77 78 79 80 81 82 83 84 85 86 87 88 89 90] TEST: [55]\n",
      "Mean Absolute Error: 0.4719979999999996\n",
      "RMSE: 0.4719979999999996\n",
      "MAE Percent:  62.961692326928954\n",
      "Iteration:  56\n",
      "y_pred:  [1.393998] y_test:  [[0.922]]\n",
      "TRAIN: [ 0  1  2  3  4  5  6  7  8  9 10 11 12 13 14 15 16 17 18 19 20 21 22 23\n",
      " 24 25 26 27 28 29 30 31 32 33 34 35 36 37 38 39 40 41 42 43 44 45 46 47\n",
      " 48 49 50 51 52 53 54 55 57 58 59 60 61 62 63 64 65 66 67 68 69 70 71 72\n",
      " 73 74 75 76 77 78 79 80 81 82 83 84 85 86 87 88 89 90] TEST: [56]\n"
     ]
    },
    {
     "name": "stderr",
     "output_type": "stream",
     "text": [
      "C:\\ProgramData\\Anaconda3\\lib\\site-packages\\ipykernel_launcher.py:209: DataConversionWarning: A column-vector y was passed when a 1d array was expected. Please change the shape of y to (n_samples,), for example using ravel().\n",
      "C:\\ProgramData\\Anaconda3\\lib\\site-packages\\ipykernel_launcher.py:209: DataConversionWarning: A column-vector y was passed when a 1d array was expected. Please change the shape of y to (n_samples,), for example using ravel().\n"
     ]
    },
    {
     "name": "stdout",
     "output_type": "stream",
     "text": [
      "Mean Absolute Error: 0.06700400000000029\n",
      "RMSE: 0.06700400000000029\n",
      "MAE Percent:  8.937930314691098\n",
      "Iteration:  57\n",
      "y_pred:  [0.258996] y_test:  [[0.326]]\n",
      "TRAIN: [ 0  1  2  3  4  5  6  7  8  9 10 11 12 13 14 15 16 17 18 19 20 21 22 23\n",
      " 24 25 26 27 28 29 30 31 32 33 34 35 36 37 38 39 40 41 42 43 44 45 46 47\n",
      " 48 49 50 51 52 53 54 55 56 58 59 60 61 62 63 64 65 66 67 68 69 70 71 72\n",
      " 73 74 75 76 77 78 79 80 81 82 83 84 85 86 87 88 89 90] TEST: [57]\n",
      "Mean Absolute Error: 0.08629199999999915\n",
      "RMSE: 0.08629199999999915\n",
      "MAE Percent:  11.510833423606252\n",
      "Iteration:  58\n",
      "y_pred:  [1.452292] y_test:  [[1.366]]\n",
      "TRAIN: [ 0  1  2  3  4  5  6  7  8  9 10 11 12 13 14 15 16 17 18 19 20 21 22 23\n",
      " 24 25 26 27 28 29 30 31 32 33 34 35 36 37 38 39 40 41 42 43 44 45 46 47\n",
      " 48 49 50 51 52 53 54 55 56 57 59 60 61 62 63 64 65 66 67 68 69 70 71 72\n",
      " 73 74 75 76 77 78 79 80 81 82 83 84 85 86 87 88 89 90] TEST: [58]\n"
     ]
    },
    {
     "name": "stderr",
     "output_type": "stream",
     "text": [
      "C:\\ProgramData\\Anaconda3\\lib\\site-packages\\ipykernel_launcher.py:209: DataConversionWarning: A column-vector y was passed when a 1d array was expected. Please change the shape of y to (n_samples,), for example using ravel().\n",
      "C:\\ProgramData\\Anaconda3\\lib\\site-packages\\ipykernel_launcher.py:209: DataConversionWarning: A column-vector y was passed when a 1d array was expected. Please change the shape of y to (n_samples,), for example using ravel().\n"
     ]
    },
    {
     "name": "stdout",
     "output_type": "stream",
     "text": [
      "Mean Absolute Error: 0.06007899999999997\n",
      "RMSE: 0.06007899999999997\n",
      "MAE Percent:  8.014176995049906\n",
      "Iteration:  59\n",
      "y_pred:  [0.060079] y_test:  [[0.]]\n",
      "TRAIN: [ 0  1  2  3  4  5  6  7  8  9 10 11 12 13 14 15 16 17 18 19 20 21 22 23\n",
      " 24 25 26 27 28 29 30 31 32 33 34 35 36 37 38 39 40 41 42 43 44 45 46 47\n",
      " 48 49 50 51 52 53 54 55 56 57 58 60 61 62 63 64 65 66 67 68 69 70 71 72\n",
      " 73 74 75 76 77 78 79 80 81 82 83 84 85 86 87 88 89 90] TEST: [59]\n",
      "Mean Absolute Error: 0.7126386999999996\n",
      "RMSE: 0.7126386999999996\n",
      "MAE Percent:  95.06171333281632\n",
      "Iteration:  60\n",
      "y_pred:  [1.2846387] y_test:  [[0.572]]\n",
      "TRAIN: [ 0  1  2  3  4  5  6  7  8  9 10 11 12 13 14 15 16 17 18 19 20 21 22 23\n",
      " 24 25 26 27 28 29 30 31 32 33 34 35 36 37 38 39 40 41 42 43 44 45 46 47\n",
      " 48 49 50 51 52 53 54 55 56 57 58 59 61 62 63 64 65 66 67 68 69 70 71 72\n",
      " 73 74 75 76 77 78 79 80 81 82 83 84 85 86 87 88 89 90] TEST: [60]\n"
     ]
    },
    {
     "name": "stderr",
     "output_type": "stream",
     "text": [
      "C:\\ProgramData\\Anaconda3\\lib\\site-packages\\ipykernel_launcher.py:209: DataConversionWarning: A column-vector y was passed when a 1d array was expected. Please change the shape of y to (n_samples,), for example using ravel().\n",
      "C:\\ProgramData\\Anaconda3\\lib\\site-packages\\ipykernel_launcher.py:209: DataConversionWarning: A column-vector y was passed when a 1d array was expected. Please change the shape of y to (n_samples,), for example using ravel().\n"
     ]
    },
    {
     "name": "stdout",
     "output_type": "stream",
     "text": [
      "Mean Absolute Error: 0.3634926999999998\n",
      "RMSE: 0.3634926999999998\n",
      "MAE Percent:  48.48773838127427\n",
      "Iteration:  61\n",
      "y_pred:  [0.7444927] y_test:  [[0.381]]\n",
      "TRAIN: [ 0  1  2  3  4  5  6  7  8  9 10 11 12 13 14 15 16 17 18 19 20 21 22 23\n",
      " 24 25 26 27 28 29 30 31 32 33 34 35 36 37 38 39 40 41 42 43 44 45 46 47\n",
      " 48 49 50 51 52 53 54 55 56 57 58 59 60 62 63 64 65 66 67 68 69 70 71 72\n",
      " 73 74 75 76 77 78 79 80 81 82 83 84 85 86 87 88 89 90] TEST: [61]\n",
      "Mean Absolute Error: 0.13048299999999996\n",
      "RMSE: 0.13048299999999996\n",
      "MAE Percent:  17.405646845738065\n",
      "Iteration:  62\n",
      "y_pred:  [0.255483] y_test:  [[0.125]]\n",
      "TRAIN: [ 0  1  2  3  4  5  6  7  8  9 10 11 12 13 14 15 16 17 18 19 20 21 22 23\n",
      " 24 25 26 27 28 29 30 31 32 33 34 35 36 37 38 39 40 41 42 43 44 45 46 47\n",
      " 48 49 50 51 52 53 54 55 56 57 58 59 60 61 63 64 65 66 67 68 69 70 71 72\n",
      " 73 74 75 76 77 78 79 80 81 82 83 84 85 86 87 88 89 90] TEST: [62]\n"
     ]
    },
    {
     "name": "stderr",
     "output_type": "stream",
     "text": [
      "C:\\ProgramData\\Anaconda3\\lib\\site-packages\\ipykernel_launcher.py:209: DataConversionWarning: A column-vector y was passed when a 1d array was expected. Please change the shape of y to (n_samples,), for example using ravel().\n",
      "C:\\ProgramData\\Anaconda3\\lib\\site-packages\\ipykernel_launcher.py:209: DataConversionWarning: A column-vector y was passed when a 1d array was expected. Please change the shape of y to (n_samples,), for example using ravel().\n"
     ]
    },
    {
     "name": "stdout",
     "output_type": "stream",
     "text": [
      "Mean Absolute Error: 0.6828620000000001\n",
      "RMSE: 0.6828620000000001\n",
      "MAE Percent:  91.08968077354437\n",
      "Iteration:  63\n",
      "y_pred:  [1.338138] y_test:  [[2.021]]\n",
      "TRAIN: [ 0  1  2  3  4  5  6  7  8  9 10 11 12 13 14 15 16 17 18 19 20 21 22 23\n",
      " 24 25 26 27 28 29 30 31 32 33 34 35 36 37 38 39 40 41 42 43 44 45 46 47\n",
      " 48 49 50 51 52 53 54 55 56 57 58 59 60 61 62 64 65 66 67 68 69 70 71 72\n",
      " 73 74 75 76 77 78 79 80 81 82 83 84 85 86 87 88 89 90] TEST: [63]\n",
      "Mean Absolute Error: 0.5892403000000004\n",
      "RMSE: 0.5892403000000004\n",
      "MAE Percent:  78.60110948611513\n",
      "Iteration:  64\n",
      "y_pred:  [0.6777597] y_test:  [[1.267]]\n",
      "TRAIN: [ 0  1  2  3  4  5  6  7  8  9 10 11 12 13 14 15 16 17 18 19 20 21 22 23\n",
      " 24 25 26 27 28 29 30 31 32 33 34 35 36 37 38 39 40 41 42 43 44 45 46 47\n",
      " 48 49 50 51 52 53 54 55 56 57 58 59 60 61 62 63 65 66 67 68 69 70 71 72\n",
      " 73 74 75 76 77 78 79 80 81 82 83 84 85 86 87 88 89 90] TEST: [64]\n"
     ]
    },
    {
     "name": "stderr",
     "output_type": "stream",
     "text": [
      "C:\\ProgramData\\Anaconda3\\lib\\site-packages\\ipykernel_launcher.py:209: DataConversionWarning: A column-vector y was passed when a 1d array was expected. Please change the shape of y to (n_samples,), for example using ravel().\n",
      "C:\\ProgramData\\Anaconda3\\lib\\site-packages\\ipykernel_launcher.py:209: DataConversionWarning: A column-vector y was passed when a 1d array was expected. Please change the shape of y to (n_samples,), for example using ravel().\n"
     ]
    },
    {
     "name": "stdout",
     "output_type": "stream",
     "text": [
      "Mean Absolute Error: 0.17948030000000004\n",
      "RMSE: 0.17948030000000004\n",
      "MAE Percent:  23.941591759594147\n",
      "Iteration:  65\n",
      "y_pred:  [0.5112197] y_test:  [[0.6907]]\n",
      "TRAIN: [ 0  1  2  3  4  5  6  7  8  9 10 11 12 13 14 15 16 17 18 19 20 21 22 23\n",
      " 24 25 26 27 28 29 30 31 32 33 34 35 36 37 38 39 40 41 42 43 44 45 46 47\n",
      " 48 49 50 51 52 53 54 55 56 57 58 59 60 61 62 63 64 66 67 68 69 70 71 72\n",
      " 73 74 75 76 77 78 79 80 81 82 83 84 85 86 87 88 89 90] TEST: [65]\n",
      "Mean Absolute Error: 0.035411000000000414\n",
      "RMSE: 0.035411000000000414\n",
      "MAE Percent:  4.723614267409839\n",
      "Iteration:  66\n",
      "y_pred:  [0.905289] y_test:  [[0.9407]]\n",
      "TRAIN: [ 0  1  2  3  4  5  6  7  8  9 10 11 12 13 14 15 16 17 18 19 20 21 22 23\n",
      " 24 25 26 27 28 29 30 31 32 33 34 35 36 37 38 39 40 41 42 43 44 45 46 47\n",
      " 48 49 50 51 52 53 54 55 56 57 58 59 60 61 62 63 64 65 67 68 69 70 71 72\n",
      " 73 74 75 76 77 78 79 80 81 82 83 84 85 86 87 88 89 90] TEST: [66]\n"
     ]
    },
    {
     "name": "stderr",
     "output_type": "stream",
     "text": [
      "C:\\ProgramData\\Anaconda3\\lib\\site-packages\\ipykernel_launcher.py:209: DataConversionWarning: A column-vector y was passed when a 1d array was expected. Please change the shape of y to (n_samples,), for example using ravel().\n",
      "C:\\ProgramData\\Anaconda3\\lib\\site-packages\\ipykernel_launcher.py:209: DataConversionWarning: A column-vector y was passed when a 1d array was expected. Please change the shape of y to (n_samples,), for example using ravel().\n"
     ]
    },
    {
     "name": "stdout",
     "output_type": "stream",
     "text": [
      "Mean Absolute Error: 0.08281099999999994\n",
      "RMSE: 0.08281099999999994\n",
      "MAE Percent:  11.046488975134034\n",
      "Iteration:  67\n",
      "y_pred:  [0.181411] y_test:  [[0.0986]]\n",
      "TRAIN: [ 0  1  2  3  4  5  6  7  8  9 10 11 12 13 14 15 16 17 18 19 20 21 22 23\n",
      " 24 25 26 27 28 29 30 31 32 33 34 35 36 37 38 39 40 41 42 43 44 45 46 47\n",
      " 48 49 50 51 52 53 54 55 56 57 58 59 60 61 62 63 64 65 66 68 69 70 71 72\n",
      " 73 74 75 76 77 78 79 80 81 82 83 84 85 86 87 88 89 90] TEST: [67]\n",
      "Mean Absolute Error: 0.09420000000000005\n",
      "RMSE: 0.09420000000000005\n",
      "MAE Percent:  12.565713026743152\n",
      "Iteration:  68\n",
      "y_pred:  [0.0942] y_test:  [[0.]]\n",
      "TRAIN: [ 0  1  2  3  4  5  6  7  8  9 10 11 12 13 14 15 16 17 18 19 20 21 22 23\n",
      " 24 25 26 27 28 29 30 31 32 33 34 35 36 37 38 39 40 41 42 43 44 45 46 47\n",
      " 48 49 50 51 52 53 54 55 56 57 58 59 60 61 62 63 64 65 66 67 69 70 71 72\n",
      " 73 74 75 76 77 78 79 80 81 82 83 84 85 86 87 88 89 90] TEST: [68]\n"
     ]
    },
    {
     "name": "stderr",
     "output_type": "stream",
     "text": [
      "C:\\ProgramData\\Anaconda3\\lib\\site-packages\\ipykernel_launcher.py:209: DataConversionWarning: A column-vector y was passed when a 1d array was expected. Please change the shape of y to (n_samples,), for example using ravel().\n",
      "C:\\ProgramData\\Anaconda3\\lib\\site-packages\\ipykernel_launcher.py:209: DataConversionWarning: A column-vector y was passed when a 1d array was expected. Please change the shape of y to (n_samples,), for example using ravel().\n"
     ]
    },
    {
     "name": "stdout",
     "output_type": "stream",
     "text": [
      "Mean Absolute Error: 0.04050400000000032\n",
      "RMSE: 0.04050400000000032\n",
      "MAE Percent:  5.4029898135372445\n",
      "Iteration:  69\n",
      "y_pred:  [0.155496] y_test:  [[0.196]]\n",
      "TRAIN: [ 0  1  2  3  4  5  6  7  8  9 10 11 12 13 14 15 16 17 18 19 20 21 22 23\n",
      " 24 25 26 27 28 29 30 31 32 33 34 35 36 37 38 39 40 41 42 43 44 45 46 47\n",
      " 48 49 50 51 52 53 54 55 56 57 58 59 60 61 62 63 64 65 66 67 68 70 71 72\n",
      " 73 74 75 76 77 78 79 80 81 82 83 84 85 86 87 88 89 90] TEST: [69]\n",
      "Mean Absolute Error: 0.29415590000000025\n",
      "RMSE: 0.29415590000000025\n",
      "MAE Percent:  39.23862658729679\n",
      "Iteration:  70\n",
      "y_pred:  [0.6308441] y_test:  [[0.925]]\n",
      "TRAIN: [ 0  1  2  3  4  5  6  7  8  9 10 11 12 13 14 15 16 17 18 19 20 21 22 23\n",
      " 24 25 26 27 28 29 30 31 32 33 34 35 36 37 38 39 40 41 42 43 44 45 46 47\n",
      " 48 49 50 51 52 53 54 55 56 57 58 59 60 61 62 63 64 65 66 67 68 69 71 72\n",
      " 73 74 75 76 77 78 79 80 81 82 83 84 85 86 87 88 89 90] TEST: [70]\n"
     ]
    },
    {
     "name": "stderr",
     "output_type": "stream",
     "text": [
      "C:\\ProgramData\\Anaconda3\\lib\\site-packages\\ipykernel_launcher.py:209: DataConversionWarning: A column-vector y was passed when a 1d array was expected. Please change the shape of y to (n_samples,), for example using ravel().\n",
      "C:\\ProgramData\\Anaconda3\\lib\\site-packages\\ipykernel_launcher.py:209: DataConversionWarning: A column-vector y was passed when a 1d array was expected. Please change the shape of y to (n_samples,), for example using ravel().\n"
     ]
    },
    {
     "name": "stdout",
     "output_type": "stream",
     "text": [
      "Mean Absolute Error: 0.0035830000000000584\n",
      "RMSE: 0.0035830000000000584\n",
      "MAE Percent:  0.4779506345522445\n",
      "Iteration:  71\n",
      "y_pred:  [0.340417] y_test:  [[0.344]]\n",
      "TRAIN: [ 0  1  2  3  4  5  6  7  8  9 10 11 12 13 14 15 16 17 18 19 20 21 22 23\n",
      " 24 25 26 27 28 29 30 31 32 33 34 35 36 37 38 39 40 41 42 43 44 45 46 47\n",
      " 48 49 50 51 52 53 54 55 56 57 58 59 60 61 62 63 64 65 66 67 68 69 70 72\n",
      " 73 74 75 76 77 78 79 80 81 82 83 84 85 86 87 88 89 90] TEST: [71]\n",
      "Mean Absolute Error: 0.007970000000000088\n",
      "RMSE: 0.007970000000000088\n",
      "MAE Percent:  1.0631500299696814\n",
      "Iteration:  72\n",
      "y_pred:  [0.26397] y_test:  [[0.256]]\n",
      "TRAIN: [ 0  1  2  3  4  5  6  7  8  9 10 11 12 13 14 15 16 17 18 19 20 21 22 23\n",
      " 24 25 26 27 28 29 30 31 32 33 34 35 36 37 38 39 40 41 42 43 44 45 46 47\n",
      " 48 49 50 51 52 53 54 55 56 57 58 59 60 61 62 63 64 65 66 67 68 69 70 71\n",
      " 73 74 75 76 77 78 79 80 81 82 83 84 85 86 87 88 89 90] TEST: [72]\n"
     ]
    },
    {
     "name": "stderr",
     "output_type": "stream",
     "text": [
      "C:\\ProgramData\\Anaconda3\\lib\\site-packages\\ipykernel_launcher.py:209: DataConversionWarning: A column-vector y was passed when a 1d array was expected. Please change the shape of y to (n_samples,), for example using ravel().\n",
      "C:\\ProgramData\\Anaconda3\\lib\\site-packages\\ipykernel_launcher.py:209: DataConversionWarning: A column-vector y was passed when a 1d array was expected. Please change the shape of y to (n_samples,), for example using ravel().\n"
     ]
    },
    {
     "name": "stdout",
     "output_type": "stream",
     "text": [
      "Mean Absolute Error: 0.21584969999999903\n",
      "RMSE: 0.21584969999999903\n",
      "MAE Percent:  28.79305081856251\n",
      "Iteration:  73\n",
      "y_pred:  [0.9855497] y_test:  [[0.7697]]\n",
      "TRAIN: [ 0  1  2  3  4  5  6  7  8  9 10 11 12 13 14 15 16 17 18 19 20 21 22 23\n",
      " 24 25 26 27 28 29 30 31 32 33 34 35 36 37 38 39 40 41 42 43 44 45 46 47\n",
      " 48 49 50 51 52 53 54 55 56 57 58 59 60 61 62 63 64 65 66 67 68 69 70 71\n",
      " 72 74 75 76 77 78 79 80 81 82 83 84 85 86 87 88 89 90] TEST: [73]\n",
      "Mean Absolute Error: 0.13916410000000012\n",
      "RMSE: 0.13916410000000012\n",
      "MAE Percent:  18.563653335721735\n",
      "Iteration:  74\n",
      "y_pred:  [1.0881641] y_test:  [[0.949]]\n",
      "TRAIN: [ 0  1  2  3  4  5  6  7  8  9 10 11 12 13 14 15 16 17 18 19 20 21 22 23\n",
      " 24 25 26 27 28 29 30 31 32 33 34 35 36 37 38 39 40 41 42 43 44 45 46 47\n",
      " 48 49 50 51 52 53 54 55 56 57 58 59 60 61 62 63 64 65 66 67 68 69 70 71\n",
      " 72 73 75 76 77 78 79 80 81 82 83 84 85 86 87 88 89 90] TEST: [74]\n"
     ]
    },
    {
     "name": "stderr",
     "output_type": "stream",
     "text": [
      "C:\\ProgramData\\Anaconda3\\lib\\site-packages\\ipykernel_launcher.py:209: DataConversionWarning: A column-vector y was passed when a 1d array was expected. Please change the shape of y to (n_samples,), for example using ravel().\n",
      "C:\\ProgramData\\Anaconda3\\lib\\site-packages\\ipykernel_launcher.py:209: DataConversionWarning: A column-vector y was passed when a 1d array was expected. Please change the shape of y to (n_samples,), for example using ravel().\n"
     ]
    },
    {
     "name": "stdout",
     "output_type": "stream",
     "text": [
      "Mean Absolute Error: 0.4745240000000006\n",
      "RMSE: 0.4745240000000006\n",
      "MAE Percent:  63.298645523378696\n",
      "Iteration:  75\n",
      "y_pred:  [1.545476] y_test:  [[2.02]]\n",
      "TRAIN: [ 0  1  2  3  4  5  6  7  8  9 10 11 12 13 14 15 16 17 18 19 20 21 22 23\n",
      " 24 25 26 27 28 29 30 31 32 33 34 35 36 37 38 39 40 41 42 43 44 45 46 47\n",
      " 48 49 50 51 52 53 54 55 56 57 58 59 60 61 62 63 64 65 66 67 68 69 70 71\n",
      " 72 73 74 76 77 78 79 80 81 82 83 84 85 86 87 88 89 90] TEST: [75]\n",
      "Mean Absolute Error: 0.09679090000000024\n",
      "RMSE: 0.09679090000000024\n",
      "MAE Percent:  12.911323492571086\n",
      "Iteration:  76\n",
      "y_pred:  [0.6437909] y_test:  [[0.547]]\n",
      "TRAIN: [ 0  1  2  3  4  5  6  7  8  9 10 11 12 13 14 15 16 17 18 19 20 21 22 23\n",
      " 24 25 26 27 28 29 30 31 32 33 34 35 36 37 38 39 40 41 42 43 44 45 46 47\n",
      " 48 49 50 51 52 53 54 55 56 57 58 59 60 61 62 63 64 65 66 67 68 69 70 71\n",
      " 72 73 74 75 77 78 79 80 81 82 83 84 85 86 87 88 89 90] TEST: [76]\n"
     ]
    },
    {
     "name": "stderr",
     "output_type": "stream",
     "text": [
      "C:\\ProgramData\\Anaconda3\\lib\\site-packages\\ipykernel_launcher.py:209: DataConversionWarning: A column-vector y was passed when a 1d array was expected. Please change the shape of y to (n_samples,), for example using ravel().\n",
      "C:\\ProgramData\\Anaconda3\\lib\\site-packages\\ipykernel_launcher.py:209: DataConversionWarning: A column-vector y was passed when a 1d array was expected. Please change the shape of y to (n_samples,), for example using ravel().\n"
     ]
    },
    {
     "name": "stdout",
     "output_type": "stream",
     "text": [
      "Mean Absolute Error: 0.1098989999999993\n",
      "RMSE: 0.1098989999999993\n",
      "MAE Percent:  14.65986513721907\n",
      "Iteration:  77\n",
      "y_pred:  [1.200101] y_test:  [[1.31]]\n",
      "TRAIN: [ 0  1  2  3  4  5  6  7  8  9 10 11 12 13 14 15 16 17 18 19 20 21 22 23\n",
      " 24 25 26 27 28 29 30 31 32 33 34 35 36 37 38 39 40 41 42 43 44 45 46 47\n",
      " 48 49 50 51 52 53 54 55 56 57 58 59 60 61 62 63 64 65 66 67 68 69 70 71\n",
      " 72 73 74 75 76 78 79 80 81 82 83 84 85 86 87 88 89 90] TEST: [77]\n",
      "Mean Absolute Error: 0.20454\n",
      "RMSE: 0.20454\n",
      "MAE Percent:  27.284404909660758\n",
      "Iteration:  78\n",
      "y_pred:  [0.22536] y_test:  [[0.4299]]\n",
      "TRAIN: [ 0  1  2  3  4  5  6  7  8  9 10 11 12 13 14 15 16 17 18 19 20 21 22 23\n",
      " 24 25 26 27 28 29 30 31 32 33 34 35 36 37 38 39 40 41 42 43 44 45 46 47\n",
      " 48 49 50 51 52 53 54 55 56 57 58 59 60 61 62 63 64 65 66 67 68 69 70 71\n",
      " 72 73 74 75 76 77 79 80 81 82 83 84 85 86 87 88 89 90] TEST: [78]\n"
     ]
    },
    {
     "name": "stderr",
     "output_type": "stream",
     "text": [
      "C:\\ProgramData\\Anaconda3\\lib\\site-packages\\ipykernel_launcher.py:209: DataConversionWarning: A column-vector y was passed when a 1d array was expected. Please change the shape of y to (n_samples,), for example using ravel().\n",
      "C:\\ProgramData\\Anaconda3\\lib\\site-packages\\ipykernel_launcher.py:209: DataConversionWarning: A column-vector y was passed when a 1d array was expected. Please change the shape of y to (n_samples,), for example using ravel().\n"
     ]
    },
    {
     "name": "stdout",
     "output_type": "stream",
     "text": [
      "Mean Absolute Error: 0.07170199999999997\n",
      "RMSE: 0.07170199999999997\n",
      "MAE Percent:  9.564615238254106\n",
      "Iteration:  79\n",
      "y_pred:  [0.071702] y_test:  [[0.]]\n",
      "TRAIN: [ 0  1  2  3  4  5  6  7  8  9 10 11 12 13 14 15 16 17 18 19 20 21 22 23\n",
      " 24 25 26 27 28 29 30 31 32 33 34 35 36 37 38 39 40 41 42 43 44 45 46 47\n",
      " 48 49 50 51 52 53 54 55 56 57 58 59 60 61 62 63 64 65 66 67 68 69 70 71\n",
      " 72 73 74 75 76 77 78 80 81 82 83 84 85 86 87 88 89 90] TEST: [79]\n",
      "Mean Absolute Error: 0.0421474\n",
      "RMSE: 0.0421474\n",
      "MAE Percent:  5.622209482201212\n",
      "Iteration:  80\n",
      "y_pred:  [0.3181474] y_test:  [[0.276]]\n",
      "TRAIN: [ 0  1  2  3  4  5  6  7  8  9 10 11 12 13 14 15 16 17 18 19 20 21 22 23\n",
      " 24 25 26 27 28 29 30 31 32 33 34 35 36 37 38 39 40 41 42 43 44 45 46 47\n",
      " 48 49 50 51 52 53 54 55 56 57 58 59 60 61 62 63 64 65 66 67 68 69 70 71\n",
      " 72 73 74 75 76 77 78 79 81 82 83 84 85 86 87 88 89 90] TEST: [80]\n"
     ]
    },
    {
     "name": "stderr",
     "output_type": "stream",
     "text": [
      "C:\\ProgramData\\Anaconda3\\lib\\site-packages\\ipykernel_launcher.py:209: DataConversionWarning: A column-vector y was passed when a 1d array was expected. Please change the shape of y to (n_samples,), for example using ravel().\n",
      "C:\\ProgramData\\Anaconda3\\lib\\site-packages\\ipykernel_launcher.py:209: DataConversionWarning: A column-vector y was passed when a 1d array was expected. Please change the shape of y to (n_samples,), for example using ravel().\n"
     ]
    },
    {
     "name": "stdout",
     "output_type": "stream",
     "text": [
      "Mean Absolute Error: 0.20053999999999883\n",
      "RMSE: 0.20053999999999883\n",
      "MAE Percent:  26.75082898495813\n",
      "Iteration:  81\n",
      "y_pred:  [1.40754] y_test:  [[1.207]]\n",
      "TRAIN: [ 0  1  2  3  4  5  6  7  8  9 10 11 12 13 14 15 16 17 18 19 20 21 22 23\n",
      " 24 25 26 27 28 29 30 31 32 33 34 35 36 37 38 39 40 41 42 43 44 45 46 47\n",
      " 48 49 50 51 52 53 54 55 56 57 58 59 60 61 62 63 64 65 66 67 68 69 70 71\n",
      " 72 73 74 75 76 77 78 79 80 82 83 84 85 86 87 88 89 90] TEST: [81]\n",
      "Mean Absolute Error: 1.089026000000001\n",
      "RMSE: 1.089026000000001\n",
      "MAE Percent:  145.26951374375793\n",
      "Iteration:  82\n",
      "y_pred:  [1.434974] y_test:  [[2.524]]\n",
      "TRAIN: [ 0  1  2  3  4  5  6  7  8  9 10 11 12 13 14 15 16 17 18 19 20 21 22 23\n",
      " 24 25 26 27 28 29 30 31 32 33 34 35 36 37 38 39 40 41 42 43 44 45 46 47\n",
      " 48 49 50 51 52 53 54 55 56 57 58 59 60 61 62 63 64 65 66 67 68 69 70 71\n",
      " 72 73 74 75 76 77 78 79 80 81 83 84 85 86 87 88 89 90] TEST: [82]\n"
     ]
    },
    {
     "name": "stderr",
     "output_type": "stream",
     "text": [
      "C:\\ProgramData\\Anaconda3\\lib\\site-packages\\ipykernel_launcher.py:209: DataConversionWarning: A column-vector y was passed when a 1d array was expected. Please change the shape of y to (n_samples,), for example using ravel().\n",
      "C:\\ProgramData\\Anaconda3\\lib\\site-packages\\ipykernel_launcher.py:209: DataConversionWarning: A column-vector y was passed when a 1d array was expected. Please change the shape of y to (n_samples,), for example using ravel().\n"
     ]
    },
    {
     "name": "stdout",
     "output_type": "stream",
     "text": [
      "Mean Absolute Error: 0.738346\n",
      "RMSE: 0.738346\n",
      "MAE Percent:  98.4909124250923\n",
      "Iteration:  83\n",
      "y_pred:  [1.324654] y_test:  [[2.063]]\n",
      "TRAIN: [ 0  1  2  3  4  5  6  7  8  9 10 11 12 13 14 15 16 17 18 19 20 21 22 23\n",
      " 24 25 26 27 28 29 30 31 32 33 34 35 36 37 38 39 40 41 42 43 44 45 46 47\n",
      " 48 49 50 51 52 53 54 55 56 57 58 59 60 61 62 63 64 65 66 67 68 69 70 71\n",
      " 72 73 74 75 76 77 78 79 80 81 82 84 85 86 87 88 89 90] TEST: [83]\n",
      "Mean Absolute Error: 0.21725520000000026\n",
      "RMSE: 0.21725520000000026\n",
      "MAE Percent:  28.980536059105\n",
      "Iteration:  84\n",
      "y_pred:  [0.6002552] y_test:  [[0.383]]\n",
      "TRAIN: [ 0  1  2  3  4  5  6  7  8  9 10 11 12 13 14 15 16 17 18 19 20 21 22 23\n",
      " 24 25 26 27 28 29 30 31 32 33 34 35 36 37 38 39 40 41 42 43 44 45 46 47\n",
      " 48 49 50 51 52 53 54 55 56 57 58 59 60 61 62 63 64 65 66 67 68 69 70 71\n",
      " 72 73 74 75 76 77 78 79 80 81 82 83 85 86 87 88 89 90] TEST: [84]\n"
     ]
    },
    {
     "name": "stderr",
     "output_type": "stream",
     "text": [
      "C:\\ProgramData\\Anaconda3\\lib\\site-packages\\ipykernel_launcher.py:209: DataConversionWarning: A column-vector y was passed when a 1d array was expected. Please change the shape of y to (n_samples,), for example using ravel().\n",
      "C:\\ProgramData\\Anaconda3\\lib\\site-packages\\ipykernel_launcher.py:209: DataConversionWarning: A column-vector y was passed when a 1d array was expected. Please change the shape of y to (n_samples,), for example using ravel().\n"
     ]
    },
    {
     "name": "stdout",
     "output_type": "stream",
     "text": [
      "Mean Absolute Error: 0.12109899999999998\n",
      "RMSE: 0.12109899999999998\n",
      "MAE Percent:  16.153877726386074\n",
      "Iteration:  85\n",
      "y_pred:  [0.121099] y_test:  [[0.]]\n",
      "TRAIN: [ 0  1  2  3  4  5  6  7  8  9 10 11 12 13 14 15 16 17 18 19 20 21 22 23\n",
      " 24 25 26 27 28 29 30 31 32 33 34 35 36 37 38 39 40 41 42 43 44 45 46 47\n",
      " 48 49 50 51 52 53 54 55 56 57 58 59 60 61 62 63 64 65 66 67 68 69 70 71\n",
      " 72 73 74 75 76 77 78 79 80 81 82 83 84 86 87 88 89 90] TEST: [85]\n",
      "Mean Absolute Error: 0.06977799999999984\n",
      "RMSE: 0.06977799999999984\n",
      "MAE Percent:  9.307965218472201\n",
      "Iteration:  86\n",
      "y_pred:  [0.336778] y_test:  [[0.267]]\n",
      "TRAIN: [ 0  1  2  3  4  5  6  7  8  9 10 11 12 13 14 15 16 17 18 19 20 21 22 23\n",
      " 24 25 26 27 28 29 30 31 32 33 34 35 36 37 38 39 40 41 42 43 44 45 46 47\n",
      " 48 49 50 51 52 53 54 55 56 57 58 59 60 61 62 63 64 65 66 67 68 69 70 71\n",
      " 72 73 74 75 76 77 78 79 80 81 82 83 84 85 87 88 89 90] TEST: [86]\n"
     ]
    },
    {
     "name": "stderr",
     "output_type": "stream",
     "text": [
      "C:\\ProgramData\\Anaconda3\\lib\\site-packages\\ipykernel_launcher.py:209: DataConversionWarning: A column-vector y was passed when a 1d array was expected. Please change the shape of y to (n_samples,), for example using ravel().\n",
      "C:\\ProgramData\\Anaconda3\\lib\\site-packages\\ipykernel_launcher.py:209: DataConversionWarning: A column-vector y was passed when a 1d array was expected. Please change the shape of y to (n_samples,), for example using ravel().\n"
     ]
    },
    {
     "name": "stdout",
     "output_type": "stream",
     "text": [
      "Mean Absolute Error: 0.3152589999999993\n",
      "RMSE: 0.3152589999999993\n",
      "MAE Percent:  42.053653111443836\n",
      "Iteration:  87\n",
      "y_pred:  [0.954741] y_test:  [[1.27]]\n",
      "TRAIN: [ 0  1  2  3  4  5  6  7  8  9 10 11 12 13 14 15 16 17 18 19 20 21 22 23\n",
      " 24 25 26 27 28 29 30 31 32 33 34 35 36 37 38 39 40 41 42 43 44 45 46 47\n",
      " 48 49 50 51 52 53 54 55 56 57 58 59 60 61 62 63 64 65 66 67 68 69 70 71\n",
      " 72 73 74 75 76 77 78 79 80 81 82 83 84 85 86 88 89 90] TEST: [87]\n",
      "Mean Absolute Error: 0.024022000000000016\n",
      "RMSE: 0.024022000000000016\n",
      "MAE Percent:  3.20439021580068\n",
      "Iteration:  88\n",
      "y_pred:  [0.072978] y_test:  [[0.097]]\n",
      "TRAIN: [ 0  1  2  3  4  5  6  7  8  9 10 11 12 13 14 15 16 17 18 19 20 21 22 23\n",
      " 24 25 26 27 28 29 30 31 32 33 34 35 36 37 38 39 40 41 42 43 44 45 46 47\n",
      " 48 49 50 51 52 53 54 55 56 57 58 59 60 61 62 63 64 65 66 67 68 69 70 71\n",
      " 72 73 74 75 76 77 78 79 80 81 82 83 84 85 86 87 89 90] TEST: [88]\n"
     ]
    },
    {
     "name": "stderr",
     "output_type": "stream",
     "text": [
      "C:\\ProgramData\\Anaconda3\\lib\\site-packages\\ipykernel_launcher.py:209: DataConversionWarning: A column-vector y was passed when a 1d array was expected. Please change the shape of y to (n_samples,), for example using ravel().\n",
      "C:\\ProgramData\\Anaconda3\\lib\\site-packages\\ipykernel_launcher.py:209: DataConversionWarning: A column-vector y was passed when a 1d array was expected. Please change the shape of y to (n_samples,), for example using ravel().\n"
     ]
    },
    {
     "name": "stdout",
     "output_type": "stream",
     "text": [
      "Mean Absolute Error: 0.060784999999999645\n",
      "RMSE: 0.060784999999999645\n",
      "MAE Percent:  8.108353145759848\n",
      "Iteration:  89\n",
      "y_pred:  [1.071215] y_test:  [[1.132]]\n",
      "TRAIN: [ 0  1  2  3  4  5  6  7  8  9 10 11 12 13 14 15 16 17 18 19 20 21 22 23\n",
      " 24 25 26 27 28 29 30 31 32 33 34 35 36 37 38 39 40 41 42 43 44 45 46 47\n",
      " 48 49 50 51 52 53 54 55 56 57 58 59 60 61 62 63 64 65 66 67 68 69 70 71\n",
      " 72 73 74 75 76 77 78 79 80 81 82 83 84 85 86 87 88 90] TEST: [89]\n",
      "Mean Absolute Error: 0.17783299999999946\n",
      "RMSE: 0.17783299999999946\n",
      "MAE Percent:  23.721851854403475\n",
      "Iteration:  90\n",
      "y_pred:  [1.389167] y_test:  [[1.567]]\n",
      "TRAIN: [ 0  1  2  3  4  5  6  7  8  9 10 11 12 13 14 15 16 17 18 19 20 21 22 23\n",
      " 24 25 26 27 28 29 30 31 32 33 34 35 36 37 38 39 40 41 42 43 44 45 46 47\n",
      " 48 49 50 51 52 53 54 55 56 57 58 59 60 61 62 63 64 65 66 67 68 69 70 71\n",
      " 72 73 74 75 76 77 78 79 80 81 82 83 84 85 86 87 88 89] TEST: [90]\n"
     ]
    },
    {
     "name": "stderr",
     "output_type": "stream",
     "text": [
      "C:\\ProgramData\\Anaconda3\\lib\\site-packages\\ipykernel_launcher.py:209: DataConversionWarning: A column-vector y was passed when a 1d array was expected. Please change the shape of y to (n_samples,), for example using ravel().\n",
      "C:\\ProgramData\\Anaconda3\\lib\\site-packages\\ipykernel_launcher.py:209: DataConversionWarning: A column-vector y was passed when a 1d array was expected. Please change the shape of y to (n_samples,), for example using ravel().\n"
     ]
    },
    {
     "name": "stdout",
     "output_type": "stream",
     "text": [
      "Mean Absolute Error: 0.3697259999999998\n",
      "RMSE: 0.3697259999999998\n",
      "MAE Percent:  49.31922308413624\n",
      "Iteration:  91\n",
      "y_pred:  [1.223274] y_test:  [[1.593]]\n",
      "RMSE: [0.3811533 0.9252727 0.10773   0.108817  0.0634683 0.191441  0.182952\n",
      " 0.150667  0.142265  0.3420265 0.107968  0.0349466 0.047565  0.005749\n",
      " 0.049245  0.297206  0.082372  0.2839561 0.192226  0.025437  0.358842\n",
      " 0.066456  0.003057  0.063463  0.044764  0.0941123 0.056119  0.132597\n",
      " 0.1655276 0.002908  0.2437856 0.5219712 0.757994  0.2314596 0.1252567\n",
      " 0.045598  0.1975035 0.062674  0.1097761 0.077673  0.2791594 0.1546898\n",
      " 0.889002  0.0109614 0.072998  0.076031  0.025255  0.174274  0.571966\n",
      " 0.878346  0.214188  0.634239  0.2338194 0.7956297 0.11687   0.471998\n",
      " 0.067004  0.086292  0.060079  0.7126387 0.3634927 0.130483  0.682862\n",
      " 0.5892403 0.1794803 0.035411  0.082811  0.0942    0.040504  0.2941559\n",
      " 0.003583  0.00797   0.2158497 0.1391641 0.474524  0.0967909 0.109899\n",
      " 0.20454   0.071702  0.0421474 0.20054   1.089026  0.738346  0.2172552\n",
      " 0.121099  0.069778  0.315259  0.024022  0.060785  0.177833  0.369726 ]\n",
      "MAE: [0.3811533 0.9252727 0.10773   0.108817  0.0634683 0.191441  0.182952\n",
      " 0.150667  0.142265  0.3420265 0.107968  0.0349466 0.047565  0.005749\n",
      " 0.049245  0.297206  0.082372  0.2839561 0.192226  0.025437  0.358842\n",
      " 0.066456  0.003057  0.063463  0.044764  0.0941123 0.056119  0.132597\n",
      " 0.1655276 0.002908  0.2437856 0.5219712 0.757994  0.2314596 0.1252567\n",
      " 0.045598  0.1975035 0.062674  0.1097761 0.077673  0.2791594 0.1546898\n",
      " 0.889002  0.0109614 0.072998  0.076031  0.025255  0.174274  0.571966\n",
      " 0.878346  0.214188  0.634239  0.2338194 0.7956297 0.11687   0.471998\n",
      " 0.067004  0.086292  0.060079  0.7126387 0.3634927 0.130483  0.682862\n",
      " 0.5892403 0.1794803 0.035411  0.082811  0.0942    0.040504  0.2941559\n",
      " 0.003583  0.00797   0.2158497 0.1391641 0.474524  0.0967909 0.109899\n",
      " 0.20454   0.071702  0.0421474 0.20054   1.089026  0.738346  0.2172552\n",
      " 0.121099  0.069778  0.315259  0.024022  0.060785  0.177833  0.369726 ]\n",
      "MAE Percent: [ 50.84355613 123.42580913  14.37053359  14.51553285   8.46628922\n",
      "  25.53707715  24.40469564  20.09807096  18.97729473  45.6242765\n",
      "  14.40228136   4.6616661    6.34488471   0.766882     6.5689866\n",
      "  39.64549157  10.98792902  37.87803466  25.64179143   3.3931427\n",
      "  47.86736299   8.86483041   0.4077854    8.46558223   5.97124817\n",
      "  12.55401437   7.48593683  17.68764172  22.08038556   0.3879097\n",
      "  32.51953174  69.62781643 101.11183737  30.87531753  16.70848988\n",
      "   6.08249875  26.34577816   8.36033438  14.64347102  10.3611107\n",
      "  37.23818375  20.63468827 118.58751605   1.46218479   9.73749384\n",
      "  10.14207778   3.36886499  23.24710268  76.29682184 117.16606979\n",
      "  28.57139004  84.60366523  31.19010064 106.13221322  15.58975458\n",
      "  62.96169233   8.93793031  11.51083342   8.014177    95.06171333\n",
      "  48.48773838  17.40564685  91.08968077  78.60110949  23.94159176\n",
      "   4.72361427  11.04648898  12.56571303   5.40298981  39.23862659\n",
      "   0.47795063   1.06315003  28.79305082  18.56365334  63.29864552\n",
      "  12.91132349  14.65986514  27.28440491   9.56461524   5.62220948\n",
      "  26.75082898 145.26951374  98.49091243  28.98053606  16.15387773\n",
      "   9.30796522  42.05365311   3.20439022   8.10835315  23.72185185\n",
      "  49.31922308]\n",
      "Average RMSE: 0.22914198901098898 +- 0.24465879008027994\n",
      "Average MAE: 0.22914198901098898 +- 0.24465879008027994\n",
      "Average MAE Percent: 30.56616216867537 +- 32.63601003841816\n",
      "6\n",
      "     Sub_ID Sub_Type  Cut_Off_Time  FIM  FIM_M  BBS  MWT10_SSV  MWT10_FV  \\\n",
      "973    CVA2   CVA_AD           180   85     56   38      0.595     0.771   \n",
      "974    CVA4   CVA_AD           180   44     24    3      0.000     0.000   \n",
      "975    CVA5   CVA_AD           180   62     34    6      0.000     0.000   \n",
      "976    CVA6   CVA_AD           180   57     35   16      0.783     0.000   \n",
      "977    CVA9   CVA_AD           180   71     49   37      0.917     1.166   \n",
      "...     ...      ...           ...  ...    ...  ...        ...       ...   \n",
      "1059  CVA51   CVA_DC           180   89     59   37      1.270     2.149   \n",
      "1060  CVA52   CVA_DC           180   61     40    4      0.097     0.000   \n",
      "1061  CVA53   CVA_DC           180   90     64   38      1.132     1.591   \n",
      "1062  CVA54   CVA_DC           180   94     66   44      1.567     2.258   \n",
      "1063  CVA55   CVA_DC           180  120     89   51      1.593     2.992   \n",
      "\n",
      "          MWT6      TUG  ...  DLS_L_Acc_z_PSD_mean  DLS_L_Acc_z_PSD_std  \\\n",
      "973   193.1210  26.9930  ...              0.002632             0.002837   \n",
      "974   233.0196   0.0000  ...              0.001878             0.005541   \n",
      "975    23.0000   0.0000  ...              0.000922             0.004190   \n",
      "976   124.9700  47.5180  ...              0.001891             0.002734   \n",
      "977   152.4600  26.3015  ...              0.002023             0.002391   \n",
      "...        ...      ...  ...                   ...                  ...   \n",
      "1059  273.7600  16.6300  ...              0.002799             0.002565   \n",
      "1060   10.5500   0.0000  ...              0.000494             0.001826   \n",
      "1061  228.8800  19.7830  ...              0.002717             0.003530   \n",
      "1062  345.3400  12.1980  ...              0.001778             0.003660   \n",
      "1063  295.8850   8.5103  ...              0.002046             0.004230   \n",
      "\n",
      "      DLS_L_Acc_z_PSD_skew  DLS_L_Acc_z_PSD_kurtosis  DLS_L_Acc_norm_DAmp  \\\n",
      "973              38.482202               2389.123896             1.536735   \n",
      "974              65.206423               4978.423068             1.613876   \n",
      "975              56.011452               3766.428967             1.379930   \n",
      "976              52.247620               3675.391060             1.442003   \n",
      "977              16.746425                635.773186             1.483355   \n",
      "...                    ...                       ...                  ...   \n",
      "1059             21.016757               1035.520523             1.599366   \n",
      "1060             62.694025               4709.090140             1.372049   \n",
      "1061             44.863545               3011.513622             1.540181   \n",
      "1062             50.851446               3526.410255             1.591854   \n",
      "1063             50.617479               3537.372605             1.814559   \n",
      "\n",
      "      DLS_L_Acc_norm_DFreq  DLS_L_Acc_norm_PSD_mean  DLS_L_Acc_norm_PSD_std  \\\n",
      "973                      0                 0.006229                0.026638   \n",
      "974                      0                 0.005252                0.028297   \n",
      "975                      0                 0.004121                0.023816   \n",
      "976                      0                 0.006872                0.025004   \n",
      "977                      0                 0.003651                0.025919   \n",
      "...                    ...                      ...                     ...   \n",
      "1059                     0                 0.005593                0.027696   \n",
      "1060                     0                 0.002310                0.023703   \n",
      "1061                     0                 0.005538                0.027035   \n",
      "1062                     0                 0.004470                0.028194   \n",
      "1063                     0                 0.007015                0.032738   \n",
      "\n",
      "      DLS_L_Acc_norm_PSD_skew  DLS_L_Acc_norm_PSD_kurtosis  \n",
      "973                 49.521514                  2727.730696  \n",
      "974                 48.041183                  2615.550237  \n",
      "975                 50.210726                  2782.319196  \n",
      "976                 49.215706                  2710.987628  \n",
      "977                 48.553496                  2656.685942  \n",
      "...                       ...                          ...  \n",
      "1059                49.734290                  2743.296510  \n",
      "1060                50.345834                  2789.068443  \n",
      "1061                47.688309                  2595.432689  \n",
      "1062                46.612345                  2512.049720  \n",
      "1063                44.019932                  2323.279035  \n",
      "\n",
      "[91 rows x 352 columns]\n",
      "TRAIN: [ 1  2  3  4  5  6  7  8  9 10 11 12 13 14 15 16 17 18 19 20 21 22 23 24\n",
      " 25 26 27 28 29 30 31 32 33 34 35 36 37 38 39 40 41 42 43 44 45 46 47 48\n",
      " 49 50 51 52 53 54 55 56 57 58 59 60 61 62 63 64 65 66 67 68 69 70 71 72\n",
      " 73 74 75 76 77 78 79 80 81 82 83 84 85 86 87 88 89 90] TEST: [0]\n",
      "Mean Absolute Error: 0.2729708999999999\n",
      "RMSE: 0.2729708999999999\n",
      "MAE Percent:  36.4126750960913\n",
      "Iteration:  1\n",
      "y_pred:  [0.8679709] y_test:  [[0.595]]\n",
      "TRAIN: [ 0  2  3  4  5  6  7  8  9 10 11 12 13 14 15 16 17 18 19 20 21 22 23 24\n",
      " 25 26 27 28 29 30 31 32 33 34 35 36 37 38 39 40 41 42 43 44 45 46 47 48\n",
      " 49 50 51 52 53 54 55 56 57 58 59 60 61 62 63 64 65 66 67 68 69 70 71 72\n",
      " 73 74 75 76 77 78 79 80 81 82 83 84 85 86 87 88 89 90] TEST: [1]\n"
     ]
    },
    {
     "name": "stderr",
     "output_type": "stream",
     "text": [
      "C:\\ProgramData\\Anaconda3\\lib\\site-packages\\ipykernel_launcher.py:209: DataConversionWarning: A column-vector y was passed when a 1d array was expected. Please change the shape of y to (n_samples,), for example using ravel().\n",
      "C:\\ProgramData\\Anaconda3\\lib\\site-packages\\ipykernel_launcher.py:209: DataConversionWarning: A column-vector y was passed when a 1d array was expected. Please change the shape of y to (n_samples,), for example using ravel().\n"
     ]
    },
    {
     "name": "stdout",
     "output_type": "stream",
     "text": [
      "Mean Absolute Error: 1.0606144000000004\n",
      "RMSE: 1.0606144000000004\n",
      "MAE Percent:  141.47957730818868\n",
      "Iteration:  2\n",
      "y_pred:  [1.0606144] y_test:  [[0.]]\n",
      "TRAIN: [ 0  1  3  4  5  6  7  8  9 10 11 12 13 14 15 16 17 18 19 20 21 22 23 24\n",
      " 25 26 27 28 29 30 31 32 33 34 35 36 37 38 39 40 41 42 43 44 45 46 47 48\n",
      " 49 50 51 52 53 54 55 56 57 58 59 60 61 62 63 64 65 66 67 68 69 70 71 72\n",
      " 73 74 75 76 77 78 79 80 81 82 83 84 85 86 87 88 89 90] TEST: [2]\n",
      "Mean Absolute Error: 0.20742799999999992\n",
      "RMSE: 0.20742799999999992\n",
      "MAE Percent:  27.669646727295934\n",
      "Iteration:  3\n",
      "y_pred:  [0.207428] y_test:  [[0.]]\n",
      "TRAIN: [ 0  1  2  4  5  6  7  8  9 10 11 12 13 14 15 16 17 18 19 20 21 22 23 24\n",
      " 25 26 27 28 29 30 31 32 33 34 35 36 37 38 39 40 41 42 43 44 45 46 47 48\n",
      " 49 50 51 52 53 54 55 56 57 58 59 60 61 62 63 64 65 66 67 68 69 70 71 72\n",
      " 73 74 75 76 77 78 79 80 81 82 83 84 85 86 87 88 89 90] TEST: [3]\n"
     ]
    },
    {
     "name": "stderr",
     "output_type": "stream",
     "text": [
      "C:\\ProgramData\\Anaconda3\\lib\\site-packages\\ipykernel_launcher.py:209: DataConversionWarning: A column-vector y was passed when a 1d array was expected. Please change the shape of y to (n_samples,), for example using ravel().\n",
      "C:\\ProgramData\\Anaconda3\\lib\\site-packages\\ipykernel_launcher.py:209: DataConversionWarning: A column-vector y was passed when a 1d array was expected. Please change the shape of y to (n_samples,), for example using ravel().\n"
     ]
    },
    {
     "name": "stdout",
     "output_type": "stream",
     "text": [
      "Mean Absolute Error: 0.17616530000000008\n",
      "RMSE: 0.17616530000000008\n",
      "MAE Percent:  23.49939071199698\n",
      "Iteration:  4\n",
      "y_pred:  [0.6068347] y_test:  [[0.783]]\n",
      "TRAIN: [ 0  1  2  3  5  6  7  8  9 10 11 12 13 14 15 16 17 18 19 20 21 22 23 24\n",
      " 25 26 27 28 29 30 31 32 33 34 35 36 37 38 39 40 41 42 43 44 45 46 47 48\n",
      " 49 50 51 52 53 54 55 56 57 58 59 60 61 62 63 64 65 66 67 68 69 70 71 72\n",
      " 73 74 75 76 77 78 79 80 81 82 83 84 85 86 87 88 89 90] TEST: [4]\n",
      "Mean Absolute Error: 0.01072260000000036\n",
      "RMSE: 0.01072260000000036\n",
      "MAE Percent:  1.4303303025537217\n",
      "Iteration:  5\n",
      "y_pred:  [0.9062774] y_test:  [[0.917]]\n",
      "TRAIN: [ 0  1  2  3  4  6  7  8  9 10 11 12 13 14 15 16 17 18 19 20 21 22 23 24\n",
      " 25 26 27 28 29 30 31 32 33 34 35 36 37 38 39 40 41 42 43 44 45 46 47 48\n",
      " 49 50 51 52 53 54 55 56 57 58 59 60 61 62 63 64 65 66 67 68 69 70 71 72\n",
      " 73 74 75 76 77 78 79 80 81 82 83 84 85 86 87 88 89 90] TEST: [5]\n"
     ]
    },
    {
     "name": "stderr",
     "output_type": "stream",
     "text": [
      "C:\\ProgramData\\Anaconda3\\lib\\site-packages\\ipykernel_launcher.py:209: DataConversionWarning: A column-vector y was passed when a 1d array was expected. Please change the shape of y to (n_samples,), for example using ravel().\n",
      "C:\\ProgramData\\Anaconda3\\lib\\site-packages\\ipykernel_launcher.py:209: DataConversionWarning: A column-vector y was passed when a 1d array was expected. Please change the shape of y to (n_samples,), for example using ravel().\n"
     ]
    },
    {
     "name": "stdout",
     "output_type": "stream",
     "text": [
      "Mean Absolute Error: 0.10494299999999984\n",
      "RMSE: 0.10494299999999984\n",
      "MAE Percent:  13.998764566512783\n",
      "Iteration:  6\n",
      "y_pred:  [0.191343] y_test:  [[0.0864]]\n",
      "TRAIN: [ 0  1  2  3  4  5  7  8  9 10 11 12 13 14 15 16 17 18 19 20 21 22 23 24\n",
      " 25 26 27 28 29 30 31 32 33 34 35 36 37 38 39 40 41 42 43 44 45 46 47 48\n",
      " 49 50 51 52 53 54 55 56 57 58 59 60 61 62 63 64 65 66 67 68 69 70 71 72\n",
      " 73 74 75 76 77 78 79 80 81 82 83 84 85 86 87 88 89 90] TEST: [6]\n",
      "Mean Absolute Error: 0.17612800000000028\n",
      "RMSE: 0.17612800000000028\n",
      "MAE Percent:  23.49441511649916\n",
      "Iteration:  7\n",
      "y_pred:  [1.275128] y_test:  [[1.099]]\n",
      "TRAIN: [ 0  1  2  3  4  5  6  8  9 10 11 12 13 14 15 16 17 18 19 20 21 22 23 24\n",
      " 25 26 27 28 29 30 31 32 33 34 35 36 37 38 39 40 41 42 43 44 45 46 47 48\n",
      " 49 50 51 52 53 54 55 56 57 58 59 60 61 62 63 64 65 66 67 68 69 70 71 72\n",
      " 73 74 75 76 77 78 79 80 81 82 83 84 85 86 87 88 89 90] TEST: [7]\n"
     ]
    },
    {
     "name": "stderr",
     "output_type": "stream",
     "text": [
      "C:\\ProgramData\\Anaconda3\\lib\\site-packages\\ipykernel_launcher.py:209: DataConversionWarning: A column-vector y was passed when a 1d array was expected. Please change the shape of y to (n_samples,), for example using ravel().\n",
      "C:\\ProgramData\\Anaconda3\\lib\\site-packages\\ipykernel_launcher.py:209: DataConversionWarning: A column-vector y was passed when a 1d array was expected. Please change the shape of y to (n_samples,), for example using ravel().\n"
     ]
    },
    {
     "name": "stdout",
     "output_type": "stream",
     "text": [
      "Mean Absolute Error: 0.23516599999999954\n",
      "RMSE: 0.23516599999999954\n",
      "MAE Percent:  31.36972897714515\n",
      "Iteration:  8\n",
      "y_pred:  [1.402166] y_test:  [[1.167]]\n",
      "TRAIN: [ 0  1  2  3  4  5  6  7  9 10 11 12 13 14 15 16 17 18 19 20 21 22 23 24\n",
      " 25 26 27 28 29 30 31 32 33 34 35 36 37 38 39 40 41 42 43 44 45 46 47 48\n",
      " 49 50 51 52 53 54 55 56 57 58 59 60 61 62 63 64 65 66 67 68 69 70 71 72\n",
      " 73 74 75 76 77 78 79 80 81 82 83 84 85 86 87 88 89 90] TEST: [8]\n",
      "Mean Absolute Error: 0.08755560000000018\n",
      "RMSE: 0.08755560000000018\n",
      "MAE Percent:  11.6793900582199\n",
      "Iteration:  9\n",
      "y_pred:  [0.3429444] y_test:  [[0.4305]]\n",
      "TRAIN: [ 0  1  2  3  4  5  6  7  8 10 11 12 13 14 15 16 17 18 19 20 21 22 23 24\n",
      " 25 26 27 28 29 30 31 32 33 34 35 36 37 38 39 40 41 42 43 44 45 46 47 48\n",
      " 49 50 51 52 53 54 55 56 57 58 59 60 61 62 63 64 65 66 67 68 69 70 71 72\n",
      " 73 74 75 76 77 78 79 80 81 82 83 84 85 86 87 88 89 90] TEST: [9]\n"
     ]
    },
    {
     "name": "stderr",
     "output_type": "stream",
     "text": [
      "C:\\ProgramData\\Anaconda3\\lib\\site-packages\\ipykernel_launcher.py:209: DataConversionWarning: A column-vector y was passed when a 1d array was expected. Please change the shape of y to (n_samples,), for example using ravel().\n",
      "C:\\ProgramData\\Anaconda3\\lib\\site-packages\\ipykernel_launcher.py:209: DataConversionWarning: A column-vector y was passed when a 1d array was expected. Please change the shape of y to (n_samples,), for example using ravel().\n"
     ]
    },
    {
     "name": "stdout",
     "output_type": "stream",
     "text": [
      "Mean Absolute Error: 0.4039756999999998\n",
      "RMSE: 0.4039756999999998\n",
      "MAE Percent:  53.887926921206784\n",
      "Iteration:  10\n",
      "y_pred:  [0.9409757] y_test:  [[0.537]]\n",
      "TRAIN: [ 0  1  2  3  4  5  6  7  8  9 11 12 13 14 15 16 17 18 19 20 21 22 23 24\n",
      " 25 26 27 28 29 30 31 32 33 34 35 36 37 38 39 40 41 42 43 44 45 46 47 48\n",
      " 49 50 51 52 53 54 55 56 57 58 59 60 61 62 63 64 65 66 67 68 69 70 71 72\n",
      " 73 74 75 76 77 78 79 80 81 82 83 84 85 86 87 88 89 90] TEST: [10]\n",
      "Mean Absolute Error: 0.06203299999999988\n",
      "RMSE: 0.06203299999999988\n",
      "MAE Percent:  8.274828834267051\n",
      "Iteration:  11\n",
      "y_pred:  [0.165033] y_test:  [[0.103]]\n",
      "TRAIN: [ 0  1  2  3  4  5  6  7  8  9 10 12 13 14 15 16 17 18 19 20 21 22 23 24\n",
      " 25 26 27 28 29 30 31 32 33 34 35 36 37 38 39 40 41 42 43 44 45 46 47 48\n",
      " 49 50 51 52 53 54 55 56 57 58 59 60 61 62 63 64 65 66 67 68 69 70 71 72\n",
      " 73 74 75 76 77 78 79 80 81 82 83 84 85 86 87 88 89 90] TEST: [11]\n"
     ]
    },
    {
     "name": "stderr",
     "output_type": "stream",
     "text": [
      "C:\\ProgramData\\Anaconda3\\lib\\site-packages\\ipykernel_launcher.py:209: DataConversionWarning: A column-vector y was passed when a 1d array was expected. Please change the shape of y to (n_samples,), for example using ravel().\n",
      "C:\\ProgramData\\Anaconda3\\lib\\site-packages\\ipykernel_launcher.py:209: DataConversionWarning: A column-vector y was passed when a 1d array was expected. Please change the shape of y to (n_samples,), for example using ravel().\n"
     ]
    },
    {
     "name": "stdout",
     "output_type": "stream",
     "text": [
      "Mean Absolute Error: 0.06297170000000074\n",
      "RMSE: 0.06297170000000074\n",
      "MAE Percent:  8.400045764396717\n",
      "Iteration:  12\n",
      "y_pred:  [1.1339717] y_test:  [[1.071]]\n",
      "TRAIN: [ 0  1  2  3  4  5  6  7  8  9 10 11 13 14 15 16 17 18 19 20 21 22 23 24\n",
      " 25 26 27 28 29 30 31 32 33 34 35 36 37 38 39 40 41 42 43 44 45 46 47 48\n",
      " 49 50 51 52 53 54 55 56 57 58 59 60 61 62 63 64 65 66 67 68 69 70 71 72\n",
      " 73 74 75 76 77 78 79 80 81 82 83 84 85 86 87 88 89 90] TEST: [12]\n",
      "Mean Absolute Error: 0.03711600000000037\n",
      "RMSE: 0.03711600000000037\n",
      "MAE Percent:  4.95105100531426\n",
      "Iteration:  13\n",
      "y_pred:  [1.267116] y_test:  [[1.23]]\n",
      "TRAIN: [ 0  1  2  3  4  5  6  7  8  9 10 11 12 14 15 16 17 18 19 20 21 22 23 24\n",
      " 25 26 27 28 29 30 31 32 33 34 35 36 37 38 39 40 41 42 43 44 45 46 47 48\n",
      " 49 50 51 52 53 54 55 56 57 58 59 60 61 62 63 64 65 66 67 68 69 70 71 72\n",
      " 73 74 75 76 77 78 79 80 81 82 83 84 85 86 87 88 89 90] TEST: [13]\n"
     ]
    },
    {
     "name": "stderr",
     "output_type": "stream",
     "text": [
      "C:\\ProgramData\\Anaconda3\\lib\\site-packages\\ipykernel_launcher.py:209: DataConversionWarning: A column-vector y was passed when a 1d array was expected. Please change the shape of y to (n_samples,), for example using ravel().\n",
      "C:\\ProgramData\\Anaconda3\\lib\\site-packages\\ipykernel_launcher.py:209: DataConversionWarning: A column-vector y was passed when a 1d array was expected. Please change the shape of y to (n_samples,), for example using ravel().\n"
     ]
    },
    {
     "name": "stdout",
     "output_type": "stream",
     "text": [
      "Mean Absolute Error: 0.03906599999999971\n",
      "RMSE: 0.03906599999999971\n",
      "MAE Percent:  5.211169268606626\n",
      "Iteration:  14\n",
      "y_pred:  [0.976934] y_test:  [[1.016]]\n",
      "TRAIN: [ 0  1  2  3  4  5  6  7  8  9 10 11 12 13 15 16 17 18 19 20 21 22 23 24\n",
      " 25 26 27 28 29 30 31 32 33 34 35 36 37 38 39 40 41 42 43 44 45 46 47 48\n",
      " 49 50 51 52 53 54 55 56 57 58 59 60 61 62 63 64 65 66 67 68 69 70 71 72\n",
      " 73 74 75 76 77 78 79 80 81 82 83 84 85 86 87 88 89 90] TEST: [14]\n",
      "Mean Absolute Error: 0.016069000000000222\n",
      "RMSE: 0.016069000000000222\n",
      "MAE Percent:  2.143507883511024\n",
      "Iteration:  15\n",
      "y_pred:  [0.309931] y_test:  [[0.326]]\n",
      "TRAIN: [ 0  1  2  3  4  5  6  7  8  9 10 11 12 13 14 16 17 18 19 20 21 22 23 24\n",
      " 25 26 27 28 29 30 31 32 33 34 35 36 37 38 39 40 41 42 43 44 45 46 47 48\n",
      " 49 50 51 52 53 54 55 56 57 58 59 60 61 62 63 64 65 66 67 68 69 70 71 72\n",
      " 73 74 75 76 77 78 79 80 81 82 83 84 85 86 87 88 89 90] TEST: [15]\n"
     ]
    },
    {
     "name": "stderr",
     "output_type": "stream",
     "text": [
      "C:\\ProgramData\\Anaconda3\\lib\\site-packages\\ipykernel_launcher.py:209: DataConversionWarning: A column-vector y was passed when a 1d array was expected. Please change the shape of y to (n_samples,), for example using ravel().\n",
      "C:\\ProgramData\\Anaconda3\\lib\\site-packages\\ipykernel_launcher.py:209: DataConversionWarning: A column-vector y was passed when a 1d array was expected. Please change the shape of y to (n_samples,), for example using ravel().\n"
     ]
    },
    {
     "name": "stdout",
     "output_type": "stream",
     "text": [
      "Mean Absolute Error: 0.22074599999999922\n",
      "RMSE: 0.22074599999999922\n",
      "MAE Percent:  29.446187768592708\n",
      "Iteration:  16\n",
      "y_pred:  [1.401746] y_test:  [[1.181]]\n",
      "TRAIN: [ 0  1  2  3  4  5  6  7  8  9 10 11 12 13 14 15 17 18 19 20 21 22 23 24\n",
      " 25 26 27 28 29 30 31 32 33 34 35 36 37 38 39 40 41 42 43 44 45 46 47 48\n",
      " 49 50 51 52 53 54 55 56 57 58 59 60 61 62 63 64 65 66 67 68 69 70 71 72\n",
      " 73 74 75 76 77 78 79 80 81 82 83 84 85 86 87 88 89 90] TEST: [16]\n",
      "Mean Absolute Error: 0.22187099999999985\n",
      "RMSE: 0.22187099999999985\n",
      "MAE Percent:  29.596255997415362\n",
      "Iteration:  17\n",
      "y_pred:  [0.221871] y_test:  [[0.]]\n",
      "TRAIN: [ 0  1  2  3  4  5  6  7  8  9 10 11 12 13 14 15 16 18 19 20 21 22 23 24\n",
      " 25 26 27 28 29 30 31 32 33 34 35 36 37 38 39 40 41 42 43 44 45 46 47 48\n",
      " 49 50 51 52 53 54 55 56 57 58 59 60 61 62 63 64 65 66 67 68 69 70 71 72\n",
      " 73 74 75 76 77 78 79 80 81 82 83 84 85 86 87 88 89 90] TEST: [17]\n"
     ]
    },
    {
     "name": "stderr",
     "output_type": "stream",
     "text": [
      "C:\\ProgramData\\Anaconda3\\lib\\site-packages\\ipykernel_launcher.py:209: DataConversionWarning: A column-vector y was passed when a 1d array was expected. Please change the shape of y to (n_samples,), for example using ravel().\n",
      "C:\\ProgramData\\Anaconda3\\lib\\site-packages\\ipykernel_launcher.py:209: DataConversionWarning: A column-vector y was passed when a 1d array was expected. Please change the shape of y to (n_samples,), for example using ravel().\n"
     ]
    },
    {
     "name": "stdout",
     "output_type": "stream",
     "text": [
      "Mean Absolute Error: 0.3211089999999996\n",
      "RMSE: 0.3211089999999996\n",
      "MAE Percent:  42.834007901321236\n",
      "Iteration:  18\n",
      "y_pred:  [0.529109] y_test:  [[0.208]]\n",
      "TRAIN: [ 0  1  2  3  4  5  6  7  8  9 10 11 12 13 14 15 16 17 19 20 21 22 23 24\n",
      " 25 26 27 28 29 30 31 32 33 34 35 36 37 38 39 40 41 42 43 44 45 46 47 48\n",
      " 49 50 51 52 53 54 55 56 57 58 59 60 61 62 63 64 65 66 67 68 69 70 71 72\n",
      " 73 74 75 76 77 78 79 80 81 82 83 84 85 86 87 88 89 90] TEST: [18]\n",
      "Mean Absolute Error: 0.1609739999999999\n",
      "RMSE: 0.1609739999999999\n",
      "MAE Percent:  21.472962725763804\n",
      "Iteration:  19\n",
      "y_pred:  [0.160974] y_test:  [[0.]]\n",
      "TRAIN: [ 0  1  2  3  4  5  6  7  8  9 10 11 12 13 14 15 16 17 18 20 21 22 23 24\n",
      " 25 26 27 28 29 30 31 32 33 34 35 36 37 38 39 40 41 42 43 44 45 46 47 48\n",
      " 49 50 51 52 53 54 55 56 57 58 59 60 61 62 63 64 65 66 67 68 69 70 71 72\n",
      " 73 74 75 76 77 78 79 80 81 82 83 84 85 86 87 88 89 90] TEST: [19]\n"
     ]
    },
    {
     "name": "stderr",
     "output_type": "stream",
     "text": [
      "C:\\ProgramData\\Anaconda3\\lib\\site-packages\\ipykernel_launcher.py:209: DataConversionWarning: A column-vector y was passed when a 1d array was expected. Please change the shape of y to (n_samples,), for example using ravel().\n",
      "C:\\ProgramData\\Anaconda3\\lib\\site-packages\\ipykernel_launcher.py:209: DataConversionWarning: A column-vector y was passed when a 1d array was expected. Please change the shape of y to (n_samples,), for example using ravel().\n"
     ]
    },
    {
     "name": "stdout",
     "output_type": "stream",
     "text": [
      "Mean Absolute Error: 0.11249699999999963\n",
      "RMSE: 0.11249699999999963\n",
      "MAE Percent:  15.006422700313369\n",
      "Iteration:  20\n",
      "y_pred:  [1.659497] y_test:  [[1.547]]\n",
      "TRAIN: [ 0  1  2  3  4  5  6  7  8  9 10 11 12 13 14 15 16 17 18 19 21 22 23 24\n",
      " 25 26 27 28 29 30 31 32 33 34 35 36 37 38 39 40 41 42 43 44 45 46 47 48\n",
      " 49 50 51 52 53 54 55 56 57 58 59 60 61 62 63 64 65 66 67 68 69 70 71 72\n",
      " 73 74 75 76 77 78 79 80 81 82 83 84 85 86 87 88 89 90] TEST: [20]\n",
      "Mean Absolute Error: 0.5155963000000001\n",
      "RMSE: 0.5155963000000001\n",
      "MAE Percent:  68.77744313641794\n",
      "Iteration:  21\n",
      "y_pred:  [0.1554037] y_test:  [[0.671]]\n",
      "TRAIN: [ 0  1  2  3  4  5  6  7  8  9 10 11 12 13 14 15 16 17 18 19 20 22 23 24\n",
      " 25 26 27 28 29 30 31 32 33 34 35 36 37 38 39 40 41 42 43 44 45 46 47 48\n",
      " 49 50 51 52 53 54 55 56 57 58 59 60 61 62 63 64 65 66 67 68 69 70 71 72\n",
      " 73 74 75 76 77 78 79 80 81 82 83 84 85 86 87 88 89 90] TEST: [21]\n"
     ]
    },
    {
     "name": "stderr",
     "output_type": "stream",
     "text": [
      "C:\\ProgramData\\Anaconda3\\lib\\site-packages\\ipykernel_launcher.py:209: DataConversionWarning: A column-vector y was passed when a 1d array was expected. Please change the shape of y to (n_samples,), for example using ravel().\n",
      "C:\\ProgramData\\Anaconda3\\lib\\site-packages\\ipykernel_launcher.py:209: DataConversionWarning: A column-vector y was passed when a 1d array was expected. Please change the shape of y to (n_samples,), for example using ravel().\n"
     ]
    },
    {
     "name": "stdout",
     "output_type": "stream",
     "text": [
      "Mean Absolute Error: 0.04407399999999995\n",
      "RMSE: 0.04407399999999995\n",
      "MAE Percent:  5.879206326334149\n",
      "Iteration:  22\n",
      "y_pred:  [0.210074] y_test:  [[0.166]]\n",
      "TRAIN: [ 0  1  2  3  4  5  6  7  8  9 10 11 12 13 14 15 16 17 18 19 20 21 23 24\n",
      " 25 26 27 28 29 30 31 32 33 34 35 36 37 38 39 40 41 42 43 44 45 46 47 48\n",
      " 49 50 51 52 53 54 55 56 57 58 59 60 61 62 63 64 65 66 67 68 69 70 71 72\n",
      " 73 74 75 76 77 78 79 80 81 82 83 84 85 86 87 88 89 90] TEST: [22]\n",
      "Mean Absolute Error: 0.0029409999999997494\n",
      "RMSE: 0.0029409999999997494\n",
      "MAE Percent:  0.39231169863745696\n",
      "Iteration:  23\n",
      "y_pred:  [0.972941] y_test:  [[0.97]]\n",
      "TRAIN: [ 0  1  2  3  4  5  6  7  8  9 10 11 12 13 14 15 16 17 18 19 20 21 22 24\n",
      " 25 26 27 28 29 30 31 32 33 34 35 36 37 38 39 40 41 42 43 44 45 46 47 48\n",
      " 49 50 51 52 53 54 55 56 57 58 59 60 61 62 63 64 65 66 67 68 69 70 71 72\n",
      " 73 74 75 76 77 78 79 80 81 82 83 84 85 86 87 88 89 90] TEST: [23]\n"
     ]
    },
    {
     "name": "stderr",
     "output_type": "stream",
     "text": [
      "C:\\ProgramData\\Anaconda3\\lib\\site-packages\\ipykernel_launcher.py:209: DataConversionWarning: A column-vector y was passed when a 1d array was expected. Please change the shape of y to (n_samples,), for example using ravel().\n",
      "C:\\ProgramData\\Anaconda3\\lib\\site-packages\\ipykernel_launcher.py:209: DataConversionWarning: A column-vector y was passed when a 1d array was expected. Please change the shape of y to (n_samples,), for example using ravel().\n"
     ]
    },
    {
     "name": "stdout",
     "output_type": "stream",
     "text": [
      "Mean Absolute Error: 0.14140799999999995\n",
      "RMSE: 0.14140799999999995\n",
      "MAE Percent:  18.86297609008168\n",
      "Iteration:  24\n",
      "y_pred:  [0.141408] y_test:  [[0.]]\n",
      "TRAIN: [ 0  1  2  3  4  5  6  7  8  9 10 11 12 13 14 15 16 17 18 19 20 21 22 23\n",
      " 25 26 27 28 29 30 31 32 33 34 35 36 37 38 39 40 41 42 43 44 45 46 47 48\n",
      " 49 50 51 52 53 54 55 56 57 58 59 60 61 62 63 64 65 66 67 68 69 70 71 72\n",
      " 73 74 75 76 77 78 79 80 81 82 83 84 85 86 87 88 89 90] TEST: [24]\n",
      "Mean Absolute Error: 0.03750800000000029\n",
      "RMSE: 0.03750800000000029\n",
      "MAE Percent:  5.003341445935091\n",
      "Iteration:  25\n",
      "y_pred:  [0.158492] y_test:  [[0.196]]\n",
      "TRAIN: [ 0  1  2  3  4  5  6  7  8  9 10 11 12 13 14 15 16 17 18 19 20 21 22 23\n",
      " 24 26 27 28 29 30 31 32 33 34 35 36 37 38 39 40 41 42 43 44 45 46 47 48\n",
      " 49 50 51 52 53 54 55 56 57 58 59 60 61 62 63 64 65 66 67 68 69 70 71 72\n",
      " 73 74 75 76 77 78 79 80 81 82 83 84 85 86 87 88 89 90] TEST: [25]\n"
     ]
    },
    {
     "name": "stderr",
     "output_type": "stream",
     "text": [
      "C:\\ProgramData\\Anaconda3\\lib\\site-packages\\ipykernel_launcher.py:209: DataConversionWarning: A column-vector y was passed when a 1d array was expected. Please change the shape of y to (n_samples,), for example using ravel().\n",
      "C:\\ProgramData\\Anaconda3\\lib\\site-packages\\ipykernel_launcher.py:209: DataConversionWarning: A column-vector y was passed when a 1d array was expected. Please change the shape of y to (n_samples,), for example using ravel().\n"
     ]
    },
    {
     "name": "stdout",
     "output_type": "stream",
     "text": [
      "Mean Absolute Error: 0.044704399999999755\n",
      "RMSE: 0.044704399999999755\n",
      "MAE Percent:  5.963297892067232\n",
      "Iteration:  26\n",
      "y_pred:  [1.0087044] y_test:  [[0.964]]\n",
      "TRAIN: [ 0  1  2  3  4  5  6  7  8  9 10 11 12 13 14 15 16 17 18 19 20 21 22 23\n",
      " 24 25 27 28 29 30 31 32 33 34 35 36 37 38 39 40 41 42 43 44 45 46 47 48\n",
      " 49 50 51 52 53 54 55 56 57 58 59 60 61 62 63 64 65 66 67 68 69 70 71 72\n",
      " 73 74 75 76 77 78 79 80 81 82 83 84 85 86 87 88 89 90] TEST: [26]\n",
      "Mean Absolute Error: 0.07469240000000005\n",
      "RMSE: 0.07469240000000005\n",
      "MAE Percent:  9.963516599561682\n",
      "Iteration:  27\n",
      "y_pred:  [0.3296924] y_test:  [[0.255]]\n",
      "TRAIN: [ 0  1  2  3  4  5  6  7  8  9 10 11 12 13 14 15 16 17 18 19 20 21 22 23\n",
      " 24 25 26 28 29 30 31 32 33 34 35 36 37 38 39 40 41 42 43 44 45 46 47 48\n",
      " 49 50 51 52 53 54 55 56 57 58 59 60 61 62 63 64 65 66 67 68 69 70 71 72\n",
      " 73 74 75 76 77 78 79 80 81 82 83 84 85 86 87 88 89 90] TEST: [27]\n"
     ]
    },
    {
     "name": "stderr",
     "output_type": "stream",
     "text": [
      "C:\\ProgramData\\Anaconda3\\lib\\site-packages\\ipykernel_launcher.py:209: DataConversionWarning: A column-vector y was passed when a 1d array was expected. Please change the shape of y to (n_samples,), for example using ravel().\n",
      "C:\\ProgramData\\Anaconda3\\lib\\site-packages\\ipykernel_launcher.py:209: DataConversionWarning: A column-vector y was passed when a 1d array was expected. Please change the shape of y to (n_samples,), for example using ravel().\n"
     ]
    },
    {
     "name": "stdout",
     "output_type": "stream",
     "text": [
      "Mean Absolute Error: 0.20134900000000056\n",
      "RMSE: 0.20134900000000056\n",
      "MAE Percent:  26.858744715729436\n",
      "Iteration:  28\n",
      "y_pred:  [0.989349] y_test:  [[0.788]]\n",
      "TRAIN: [ 0  1  2  3  4  5  6  7  8  9 10 11 12 13 14 15 16 17 18 19 20 21 22 23\n",
      " 24 25 26 27 29 30 31 32 33 34 35 36 37 38 39 40 41 42 43 44 45 46 47 48\n",
      " 49 50 51 52 53 54 55 56 57 58 59 60 61 62 63 64 65 66 67 68 69 70 71 72\n",
      " 73 74 75 76 77 78 79 80 81 82 83 84 85 86 87 88 89 90] TEST: [28]\n",
      "Mean Absolute Error: 0.2554340000000003\n",
      "RMSE: 0.2554340000000003\n",
      "MAE Percent:  34.07335818761267\n",
      "Iteration:  29\n",
      "y_pred:  [0.404566] y_test:  [[0.66]]\n",
      "TRAIN: [ 0  1  2  3  4  5  6  7  8  9 10 11 12 13 14 15 16 17 18 19 20 21 22 23\n",
      " 24 25 26 27 28 30 31 32 33 34 35 36 37 38 39 40 41 42 43 44 45 46 47 48\n",
      " 49 50 51 52 53 54 55 56 57 58 59 60 61 62 63 64 65 66 67 68 69 70 71 72\n",
      " 73 74 75 76 77 78 79 80 81 82 83 84 85 86 87 88 89 90] TEST: [29]\n"
     ]
    },
    {
     "name": "stderr",
     "output_type": "stream",
     "text": [
      "C:\\ProgramData\\Anaconda3\\lib\\site-packages\\ipykernel_launcher.py:209: DataConversionWarning: A column-vector y was passed when a 1d array was expected. Please change the shape of y to (n_samples,), for example using ravel().\n",
      "C:\\ProgramData\\Anaconda3\\lib\\site-packages\\ipykernel_launcher.py:209: DataConversionWarning: A column-vector y was passed when a 1d array was expected. Please change the shape of y to (n_samples,), for example using ravel().\n"
     ]
    },
    {
     "name": "stdout",
     "output_type": "stream",
     "text": [
      "Mean Absolute Error: 0.04259000000000035\n",
      "RMSE: 0.04259000000000035\n",
      "MAE Percent:  5.681249658269587\n",
      "Iteration:  30\n",
      "y_pred:  [1.39241] y_test:  [[1.435]]\n",
      "TRAIN: [ 0  1  2  3  4  5  6  7  8  9 10 11 12 13 14 15 16 17 18 19 20 21 22 23\n",
      " 24 25 26 27 28 29 31 32 33 34 35 36 37 38 39 40 41 42 43 44 45 46 47 48\n",
      " 49 50 51 52 53 54 55 56 57 58 59 60 61 62 63 64 65 66 67 68 69 70 71 72\n",
      " 73 74 75 76 77 78 79 80 81 82 83 84 85 86 87 88 89 90] TEST: [30]\n",
      "Mean Absolute Error: 0.25346259999999976\n",
      "RMSE: 0.25346259999999976\n",
      "MAE Percent:  33.81038529312298\n",
      "Iteration:  31\n",
      "y_pred:  [0.8555374] y_test:  [[1.109]]\n",
      "TRAIN: [ 0  1  2  3  4  5  6  7  8  9 10 11 12 13 14 15 16 17 18 19 20 21 22 23\n",
      " 24 25 26 27 28 29 30 32 33 34 35 36 37 38 39 40 41 42 43 44 45 46 47 48\n",
      " 49 50 51 52 53 54 55 56 57 58 59 60 61 62 63 64 65 66 67 68 69 70 71 72\n",
      " 73 74 75 76 77 78 79 80 81 82 83 84 85 86 87 88 89 90] TEST: [31]\n"
     ]
    },
    {
     "name": "stderr",
     "output_type": "stream",
     "text": [
      "C:\\ProgramData\\Anaconda3\\lib\\site-packages\\ipykernel_launcher.py:209: DataConversionWarning: A column-vector y was passed when a 1d array was expected. Please change the shape of y to (n_samples,), for example using ravel().\n",
      "C:\\ProgramData\\Anaconda3\\lib\\site-packages\\ipykernel_launcher.py:209: DataConversionWarning: A column-vector y was passed when a 1d array was expected. Please change the shape of y to (n_samples,), for example using ravel().\n"
     ]
    },
    {
     "name": "stdout",
     "output_type": "stream",
     "text": [
      "Mean Absolute Error: 0.5160195999999997\n",
      "RMSE: 0.5160195999999997\n",
      "MAE Percent:  68.83390880864951\n",
      "Iteration:  32\n",
      "y_pred:  [0.8839804] y_test:  [[1.4]]\n",
      "TRAIN: [ 0  1  2  3  4  5  6  7  8  9 10 11 12 13 14 15 16 17 18 19 20 21 22 23\n",
      " 24 25 26 27 28 29 30 31 33 34 35 36 37 38 39 40 41 42 43 44 45 46 47 48\n",
      " 49 50 51 52 53 54 55 56 57 58 59 60 61 62 63 64 65 66 67 68 69 70 71 72\n",
      " 73 74 75 76 77 78 79 80 81 82 83 84 85 86 87 88 89 90] TEST: [32]\n",
      "Mean Absolute Error: 0.7987070000000003\n",
      "RMSE: 0.7987070000000003\n",
      "MAE Percent:  106.5427065228338\n",
      "Iteration:  33\n",
      "y_pred:  [1.373293] y_test:  [[2.172]]\n",
      "TRAIN: [ 0  1  2  3  4  5  6  7  8  9 10 11 12 13 14 15 16 17 18 19 20 21 22 23\n",
      " 24 25 26 27 28 29 30 31 32 34 35 36 37 38 39 40 41 42 43 44 45 46 47 48\n",
      " 49 50 51 52 53 54 55 56 57 58 59 60 61 62 63 64 65 66 67 68 69 70 71 72\n",
      " 73 74 75 76 77 78 79 80 81 82 83 84 85 86 87 88 89 90] TEST: [33]\n"
     ]
    },
    {
     "name": "stderr",
     "output_type": "stream",
     "text": [
      "C:\\ProgramData\\Anaconda3\\lib\\site-packages\\ipykernel_launcher.py:209: DataConversionWarning: A column-vector y was passed when a 1d array was expected. Please change the shape of y to (n_samples,), for example using ravel().\n",
      "C:\\ProgramData\\Anaconda3\\lib\\site-packages\\ipykernel_launcher.py:209: DataConversionWarning: A column-vector y was passed when a 1d array was expected. Please change the shape of y to (n_samples,), for example using ravel().\n"
     ]
    },
    {
     "name": "stdout",
     "output_type": "stream",
     "text": [
      "Mean Absolute Error: 0.3620462\n",
      "RMSE: 0.3620462\n",
      "MAE Percent:  48.29478398750376\n",
      "Iteration:  34\n",
      "y_pred:  [0.5629538] y_test:  [[0.925]]\n",
      "TRAIN: [ 0  1  2  3  4  5  6  7  8  9 10 11 12 13 14 15 16 17 18 19 20 21 22 23\n",
      " 24 25 26 27 28 29 30 31 32 33 35 36 37 38 39 40 41 42 43 44 45 46 47 48\n",
      " 49 50 51 52 53 54 55 56 57 58 59 60 61 62 63 64 65 66 67 68 69 70 71 72\n",
      " 73 74 75 76 77 78 79 80 81 82 83 84 85 86 87 88 89 90] TEST: [34]\n",
      "Mean Absolute Error: 0.09145399999999987\n",
      "RMSE: 0.09145399999999987\n",
      "MAE Percent:  12.199413154434884\n",
      "Iteration:  35\n",
      "y_pred:  [0.237454] y_test:  [[0.146]]\n",
      "TRAIN: [ 0  1  2  3  4  5  6  7  8  9 10 11 12 13 14 15 16 17 18 19 20 21 22 23\n",
      " 24 25 26 27 28 29 30 31 32 33 34 36 37 38 39 40 41 42 43 44 45 46 47 48\n",
      " 49 50 51 52 53 54 55 56 57 58 59 60 61 62 63 64 65 66 67 68 69 70 71 72\n",
      " 73 74 75 76 77 78 79 80 81 82 83 84 85 86 87 88 89 90] TEST: [35]\n"
     ]
    },
    {
     "name": "stderr",
     "output_type": "stream",
     "text": [
      "C:\\ProgramData\\Anaconda3\\lib\\site-packages\\ipykernel_launcher.py:209: DataConversionWarning: A column-vector y was passed when a 1d array was expected. Please change the shape of y to (n_samples,), for example using ravel().\n",
      "C:\\ProgramData\\Anaconda3\\lib\\site-packages\\ipykernel_launcher.py:209: DataConversionWarning: A column-vector y was passed when a 1d array was expected. Please change the shape of y to (n_samples,), for example using ravel().\n"
     ]
    },
    {
     "name": "stdout",
     "output_type": "stream",
     "text": [
      "Mean Absolute Error: 0.006470000000000059\n",
      "RMSE: 0.006470000000000059\n",
      "MAE Percent:  0.8630590582062516\n",
      "Iteration:  36\n",
      "y_pred:  [0.13003] y_test:  [[0.1365]]\n",
      "TRAIN: [ 0  1  2  3  4  5  6  7  8  9 10 11 12 13 14 15 16 17 18 19 20 21 22 23\n",
      " 24 25 26 27 28 29 30 31 32 33 34 35 37 38 39 40 41 42 43 44 45 46 47 48\n",
      " 49 50 51 52 53 54 55 56 57 58 59 60 61 62 63 64 65 66 67 68 69 70 71 72\n",
      " 73 74 75 76 77 78 79 80 81 82 83 84 85 86 87 88 89 90] TEST: [36]\n",
      "Mean Absolute Error: 0.21372349999999996\n",
      "RMSE: 0.21372349999999996\n",
      "MAE Percent:  28.509428535787034\n",
      "Iteration:  37\n",
      "y_pred:  [0.4775235] y_test:  [[0.2638]]\n",
      "TRAIN: [ 0  1  2  3  4  5  6  7  8  9 10 11 12 13 14 15 16 17 18 19 20 21 22 23\n",
      " 24 25 26 27 28 29 30 31 32 33 34 35 36 38 39 40 41 42 43 44 45 46 47 48\n",
      " 49 50 51 52 53 54 55 56 57 58 59 60 61 62 63 64 65 66 67 68 69 70 71 72\n",
      " 73 74 75 76 77 78 79 80 81 82 83 84 85 86 87 88 89 90] TEST: [37]\n"
     ]
    },
    {
     "name": "stderr",
     "output_type": "stream",
     "text": [
      "C:\\ProgramData\\Anaconda3\\lib\\site-packages\\ipykernel_launcher.py:209: DataConversionWarning: A column-vector y was passed when a 1d array was expected. Please change the shape of y to (n_samples,), for example using ravel().\n",
      "C:\\ProgramData\\Anaconda3\\lib\\site-packages\\ipykernel_launcher.py:209: DataConversionWarning: A column-vector y was passed when a 1d array was expected. Please change the shape of y to (n_samples,), for example using ravel().\n"
     ]
    },
    {
     "name": "stdout",
     "output_type": "stream",
     "text": [
      "Mean Absolute Error: 0.01697599999999988\n",
      "RMSE: 0.01697599999999988\n",
      "MAE Percent:  2.2644962244372633\n",
      "Iteration:  38\n",
      "y_pred:  [0.176576] y_test:  [[0.1596]]\n",
      "TRAIN: [ 0  1  2  3  4  5  6  7  8  9 10 11 12 13 14 15 16 17 18 19 20 21 22 23\n",
      " 24 25 26 27 28 29 30 31 32 33 34 35 36 37 39 40 41 42 43 44 45 46 47 48\n",
      " 49 50 51 52 53 54 55 56 57 58 59 60 61 62 63 64 65 66 67 68 69 70 71 72\n",
      " 73 74 75 76 77 78 79 80 81 82 83 84 85 86 87 88 89 90] TEST: [38]\n",
      "Mean Absolute Error: 0.19808409999999987\n",
      "RMSE: 0.19808409999999987\n",
      "MAE Percent:  26.423226706589077\n",
      "Iteration:  39\n",
      "y_pred:  [0.8550841] y_test:  [[0.657]]\n",
      "TRAIN: [ 0  1  2  3  4  5  6  7  8  9 10 11 12 13 14 15 16 17 18 19 20 21 22 23\n",
      " 24 25 26 27 28 29 30 31 32 33 34 35 36 37 38 40 41 42 43 44 45 46 47 48\n",
      " 49 50 51 52 53 54 55 56 57 58 59 60 61 62 63 64 65 66 67 68 69 70 71 72\n",
      " 73 74 75 76 77 78 79 80 81 82 83 84 85 86 87 88 89 90] TEST: [39]\n"
     ]
    },
    {
     "name": "stderr",
     "output_type": "stream",
     "text": [
      "C:\\ProgramData\\Anaconda3\\lib\\site-packages\\ipykernel_launcher.py:209: DataConversionWarning: A column-vector y was passed when a 1d array was expected. Please change the shape of y to (n_samples,), for example using ravel().\n",
      "C:\\ProgramData\\Anaconda3\\lib\\site-packages\\ipykernel_launcher.py:209: DataConversionWarning: A column-vector y was passed when a 1d array was expected. Please change the shape of y to (n_samples,), for example using ravel().\n"
     ]
    },
    {
     "name": "stdout",
     "output_type": "stream",
     "text": [
      "Mean Absolute Error: 0.1205719999999999\n",
      "RMSE: 0.1205719999999999\n",
      "MAE Percent:  16.083579098306515\n",
      "Iteration:  40\n",
      "y_pred:  [1.219428] y_test:  [[1.34]]\n",
      "TRAIN: [ 0  1  2  3  4  5  6  7  8  9 10 11 12 13 14 15 16 17 18 19 20 21 22 23\n",
      " 24 25 26 27 28 29 30 31 32 33 34 35 36 37 38 39 41 42 43 44 45 46 47 48\n",
      " 49 50 51 52 53 54 55 56 57 58 59 60 61 62 63 64 65 66 67 68 69 70 71 72\n",
      " 73 74 75 76 77 78 79 80 81 82 83 84 85 86 87 88 89 90] TEST: [40]\n",
      "Mean Absolute Error: 0.3210179999999999\n",
      "RMSE: 0.3210179999999999\n",
      "MAE Percent:  42.8218690490343\n",
      "Iteration:  41\n",
      "y_pred:  [1.298018] y_test:  [[0.977]]\n",
      "TRAIN: [ 0  1  2  3  4  5  6  7  8  9 10 11 12 13 14 15 16 17 18 19 20 21 22 23\n",
      " 24 25 26 27 28 29 30 31 32 33 34 35 36 37 38 39 40 42 43 44 45 46 47 48\n",
      " 49 50 51 52 53 54 55 56 57 58 59 60 61 62 63 64 65 66 67 68 69 70 71 72\n",
      " 73 74 75 76 77 78 79 80 81 82 83 84 85 86 87 88 89 90] TEST: [41]\n"
     ]
    },
    {
     "name": "stderr",
     "output_type": "stream",
     "text": [
      "C:\\ProgramData\\Anaconda3\\lib\\site-packages\\ipykernel_launcher.py:209: DataConversionWarning: A column-vector y was passed when a 1d array was expected. Please change the shape of y to (n_samples,), for example using ravel().\n",
      "C:\\ProgramData\\Anaconda3\\lib\\site-packages\\ipykernel_launcher.py:209: DataConversionWarning: A column-vector y was passed when a 1d array was expected. Please change the shape of y to (n_samples,), for example using ravel().\n"
     ]
    },
    {
     "name": "stdout",
     "output_type": "stream",
     "text": [
      "Mean Absolute Error: 0.15857419999999967\n",
      "RMSE: 0.15857419999999967\n",
      "MAE Percent:  21.152843849738527\n",
      "Iteration:  42\n",
      "y_pred:  [0.4745742] y_test:  [[0.316]]\n",
      "TRAIN: [ 0  1  2  3  4  5  6  7  8  9 10 11 12 13 14 15 16 17 18 19 20 21 22 23\n",
      " 24 25 26 27 28 29 30 31 32 33 34 35 36 37 38 39 40 41 43 44 45 46 47 48\n",
      " 49 50 51 52 53 54 55 56 57 58 59 60 61 62 63 64 65 66 67 68 69 70 71 72\n",
      " 73 74 75 76 77 78 79 80 81 82 83 84 85 86 87 88 89 90] TEST: [42]\n",
      "Mean Absolute Error: 0.9115009999999999\n",
      "RMSE: 0.9115009999999999\n",
      "MAE Percent:  121.5887472355563\n",
      "Iteration:  43\n",
      "y_pred:  [0.216499] y_test:  [[1.128]]\n",
      "TRAIN: [ 0  1  2  3  4  5  6  7  8  9 10 11 12 13 14 15 16 17 18 19 20 21 22 23\n",
      " 24 25 26 27 28 29 30 31 32 33 34 35 36 37 38 39 40 41 42 44 45 46 47 48\n",
      " 49 50 51 52 53 54 55 56 57 58 59 60 61 62 63 64 65 66 67 68 69 70 71 72\n",
      " 73 74 75 76 77 78 79 80 81 82 83 84 85 86 87 88 89 90] TEST: [43]\n"
     ]
    },
    {
     "name": "stderr",
     "output_type": "stream",
     "text": [
      "C:\\ProgramData\\Anaconda3\\lib\\site-packages\\ipykernel_launcher.py:209: DataConversionWarning: A column-vector y was passed when a 1d array was expected. Please change the shape of y to (n_samples,), for example using ravel().\n",
      "C:\\ProgramData\\Anaconda3\\lib\\site-packages\\ipykernel_launcher.py:209: DataConversionWarning: A column-vector y was passed when a 1d array was expected. Please change the shape of y to (n_samples,), for example using ravel().\n"
     ]
    },
    {
     "name": "stdout",
     "output_type": "stream",
     "text": [
      "Mean Absolute Error: 0.0295821000000005\n",
      "RMSE: 0.0295821000000005\n",
      "MAE Percent:  3.9460740905352947\n",
      "Iteration:  44\n",
      "y_pred:  [0.8775821] y_test:  [[0.848]]\n",
      "TRAIN: [ 0  1  2  3  4  5  6  7  8  9 10 11 12 13 14 15 16 17 18 19 20 21 22 23\n",
      " 24 25 26 27 28 29 30 31 32 33 34 35 36 37 38 39 40 41 42 43 45 46 47 48\n",
      " 49 50 51 52 53 54 55 56 57 58 59 60 61 62 63 64 65 66 67 68 69 70 71 72\n",
      " 73 74 75 76 77 78 79 80 81 82 83 84 85 86 87 88 89 90] TEST: [44]\n",
      "Mean Absolute Error: 0.09847330000000021\n",
      "RMSE: 0.09847330000000021\n",
      "MAE Percent:  13.13574552650094\n",
      "Iteration:  45\n",
      "y_pred:  [0.8935267] y_test:  [[0.992]]\n",
      "TRAIN: [ 0  1  2  3  4  5  6  7  8  9 10 11 12 13 14 15 16 17 18 19 20 21 22 23\n",
      " 24 25 26 27 28 29 30 31 32 33 34 35 36 37 38 39 40 41 42 43 44 46 47 48\n",
      " 49 50 51 52 53 54 55 56 57 58 59 60 61 62 63 64 65 66 67 68 69 70 71 72\n",
      " 73 74 75 76 77 78 79 80 81 82 83 84 85 86 87 88 89 90] TEST: [45]\n"
     ]
    },
    {
     "name": "stderr",
     "output_type": "stream",
     "text": [
      "C:\\ProgramData\\Anaconda3\\lib\\site-packages\\ipykernel_launcher.py:209: DataConversionWarning: A column-vector y was passed when a 1d array was expected. Please change the shape of y to (n_samples,), for example using ravel().\n",
      "C:\\ProgramData\\Anaconda3\\lib\\site-packages\\ipykernel_launcher.py:209: DataConversionWarning: A column-vector y was passed when a 1d array was expected. Please change the shape of y to (n_samples,), for example using ravel().\n"
     ]
    },
    {
     "name": "stdout",
     "output_type": "stream",
     "text": [
      "Mean Absolute Error: 0.05016599999999982\n",
      "RMSE: 0.05016599999999982\n",
      "MAE Percent:  6.691842459655993\n",
      "Iteration:  46\n",
      "y_pred:  [0.659804] y_test:  [[0.70997]]\n",
      "TRAIN: [ 0  1  2  3  4  5  6  7  8  9 10 11 12 13 14 15 16 17 18 19 20 21 22 23\n",
      " 24 25 26 27 28 29 30 31 32 33 34 35 36 37 38 39 40 41 42 43 44 45 47 48\n",
      " 49 50 51 52 53 54 55 56 57 58 59 60 61 62 63 64 65 66 67 68 69 70 71 72\n",
      " 73 74 75 76 77 78 79 80 81 82 83 84 85 86 87 88 89 90] TEST: [46]\n",
      "Mean Absolute Error: 0.0230779999999996\n",
      "RMSE: 0.0230779999999996\n",
      "MAE Percent:  3.0784662975708423\n",
      "Iteration:  47\n",
      "y_pred:  [0.940078] y_test:  [[0.917]]\n",
      "TRAIN: [ 0  1  2  3  4  5  6  7  8  9 10 11 12 13 14 15 16 17 18 19 20 21 22 23\n",
      " 24 25 26 27 28 29 30 31 32 33 34 35 36 37 38 39 40 41 42 43 44 45 46 48\n",
      " 49 50 51 52 53 54 55 56 57 58 59 60 61 62 63 64 65 66 67 68 69 70 71 72\n",
      " 73 74 75 76 77 78 79 80 81 82 83 84 85 86 87 88 89 90] TEST: [47]\n"
     ]
    },
    {
     "name": "stderr",
     "output_type": "stream",
     "text": [
      "C:\\ProgramData\\Anaconda3\\lib\\site-packages\\ipykernel_launcher.py:209: DataConversionWarning: A column-vector y was passed when a 1d array was expected. Please change the shape of y to (n_samples,), for example using ravel().\n",
      "C:\\ProgramData\\Anaconda3\\lib\\site-packages\\ipykernel_launcher.py:209: DataConversionWarning: A column-vector y was passed when a 1d array was expected. Please change the shape of y to (n_samples,), for example using ravel().\n"
     ]
    },
    {
     "name": "stdout",
     "output_type": "stream",
     "text": [
      "Mean Absolute Error: 0.19261299999999998\n",
      "RMSE: 0.19261299999999998\n",
      "MAE Percent:  25.693414896179167\n",
      "Iteration:  48\n",
      "y_pred:  [0.324613] y_test:  [[0.132]]\n",
      "TRAIN: [ 0  1  2  3  4  5  6  7  8  9 10 11 12 13 14 15 16 17 18 19 20 21 22 23\n",
      " 24 25 26 27 28 29 30 31 32 33 34 35 36 37 38 39 40 41 42 43 44 45 46 47\n",
      " 49 50 51 52 53 54 55 56 57 58 59 60 61 62 63 64 65 66 67 68 69 70 71 72\n",
      " 73 74 75 76 77 78 79 80 81 82 83 84 85 86 87 88 89 90] TEST: [48]\n",
      "Mean Absolute Error: 0.5121919999999989\n",
      "RMSE: 0.5121919999999989\n",
      "MAE Percent:  68.32333000630162\n",
      "Iteration:  49\n",
      "y_pred:  [1.751192] y_test:  [[1.239]]\n",
      "TRAIN: [ 0  1  2  3  4  5  6  7  8  9 10 11 12 13 14 15 16 17 18 19 20 21 22 23\n",
      " 24 25 26 27 28 29 30 31 32 33 34 35 36 37 38 39 40 41 42 43 44 45 46 47\n",
      " 48 50 51 52 53 54 55 56 57 58 59 60 61 62 63 64 65 66 67 68 69 70 71 72\n",
      " 73 74 75 76 77 78 79 80 81 82 83 84 85 86 87 88 89 90] TEST: [49]\n"
     ]
    },
    {
     "name": "stderr",
     "output_type": "stream",
     "text": [
      "C:\\ProgramData\\Anaconda3\\lib\\site-packages\\ipykernel_launcher.py:209: DataConversionWarning: A column-vector y was passed when a 1d array was expected. Please change the shape of y to (n_samples,), for example using ravel().\n",
      "C:\\ProgramData\\Anaconda3\\lib\\site-packages\\ipykernel_launcher.py:209: DataConversionWarning: A column-vector y was passed when a 1d array was expected. Please change the shape of y to (n_samples,), for example using ravel().\n"
     ]
    },
    {
     "name": "stdout",
     "output_type": "stream",
     "text": [
      "Mean Absolute Error: 0.8748259999999985\n",
      "RMSE: 0.8748259999999985\n",
      "MAE Percent:  116.69652297594038\n",
      "Iteration:  50\n",
      "y_pred:  [1.758826] y_test:  [[0.884]]\n",
      "TRAIN: [ 0  1  2  3  4  5  6  7  8  9 10 11 12 13 14 15 16 17 18 19 20 21 22 23\n",
      " 24 25 26 27 28 29 30 31 32 33 34 35 36 37 38 39 40 41 42 43 44 45 46 47\n",
      " 48 49 51 52 53 54 55 56 57 58 59 60 61 62 63 64 65 66 67 68 69 70 71 72\n",
      " 73 74 75 76 77 78 79 80 81 82 83 84 85 86 87 88 89 90] TEST: [50]\n",
      "Mean Absolute Error: 0.2238320000000007\n",
      "RMSE: 0.2238320000000007\n",
      "MAE Percent:  29.85784159450086\n",
      "Iteration:  51\n",
      "y_pred:  [1.447168] y_test:  [[1.671]]\n",
      "TRAIN: [ 0  1  2  3  4  5  6  7  8  9 10 11 12 13 14 15 16 17 18 19 20 21 22 23\n",
      " 24 25 26 27 28 29 30 31 32 33 34 35 36 37 38 39 40 41 42 43 44 45 46 47\n",
      " 48 49 50 52 53 54 55 56 57 58 59 60 61 62 63 64 65 66 67 68 69 70 71 72\n",
      " 73 74 75 76 77 78 79 80 81 82 83 84 85 86 87 88 89 90] TEST: [51]\n"
     ]
    },
    {
     "name": "stderr",
     "output_type": "stream",
     "text": [
      "C:\\ProgramData\\Anaconda3\\lib\\site-packages\\ipykernel_launcher.py:209: DataConversionWarning: A column-vector y was passed when a 1d array was expected. Please change the shape of y to (n_samples,), for example using ravel().\n",
      "C:\\ProgramData\\Anaconda3\\lib\\site-packages\\ipykernel_launcher.py:209: DataConversionWarning: A column-vector y was passed when a 1d array was expected. Please change the shape of y to (n_samples,), for example using ravel().\n"
     ]
    },
    {
     "name": "stdout",
     "output_type": "stream",
     "text": [
      "Mean Absolute Error: 0.6759270000000006\n",
      "RMSE: 0.6759270000000006\n",
      "MAE Percent:  90.16459351409154\n",
      "Iteration:  52\n",
      "y_pred:  [1.159927] y_test:  [[0.484]]\n",
      "TRAIN: [ 0  1  2  3  4  5  6  7  8  9 10 11 12 13 14 15 16 17 18 19 20 21 22 23\n",
      " 24 25 26 27 28 29 30 31 32 33 34 35 36 37 38 39 40 41 42 43 44 45 46 47\n",
      " 48 49 50 51 53 54 55 56 57 58 59 60 61 62 63 64 65 66 67 68 69 70 71 72\n",
      " 73 74 75 76 77 78 79 80 81 82 83 84 85 86 87 88 89 90] TEST: [52]\n",
      "Mean Absolute Error: 0.14287600000000011\n",
      "RMSE: 0.14287600000000011\n",
      "MAE Percent:  19.05879845444751\n",
      "Iteration:  53\n",
      "y_pred:  [0.293676] y_test:  [[0.1508]]\n",
      "TRAIN: [ 0  1  2  3  4  5  6  7  8  9 10 11 12 13 14 15 16 17 18 19 20 21 22 23\n",
      " 24 25 26 27 28 29 30 31 32 33 34 35 36 37 38 39 40 41 42 43 44 45 46 47\n",
      " 48 49 50 51 52 54 55 56 57 58 59 60 61 62 63 64 65 66 67 68 69 70 71 72\n",
      " 73 74 75 76 77 78 79 80 81 82 83 84 85 86 87 88 89 90] TEST: [53]\n"
     ]
    },
    {
     "name": "stderr",
     "output_type": "stream",
     "text": [
      "C:\\ProgramData\\Anaconda3\\lib\\site-packages\\ipykernel_launcher.py:209: DataConversionWarning: A column-vector y was passed when a 1d array was expected. Please change the shape of y to (n_samples,), for example using ravel().\n",
      "C:\\ProgramData\\Anaconda3\\lib\\site-packages\\ipykernel_launcher.py:209: DataConversionWarning: A column-vector y was passed when a 1d array was expected. Please change the shape of y to (n_samples,), for example using ravel().\n"
     ]
    },
    {
     "name": "stdout",
     "output_type": "stream",
     "text": [
      "Mean Absolute Error: 0.6845099999999991\n",
      "RMSE: 0.6845099999999991\n",
      "MAE Percent:  91.30951405452166\n",
      "Iteration:  54\n",
      "y_pred:  [1.67831] y_test:  [[0.9938]]\n",
      "TRAIN: [ 0  1  2  3  4  5  6  7  8  9 10 11 12 13 14 15 16 17 18 19 20 21 22 23\n",
      " 24 25 26 27 28 29 30 31 32 33 34 35 36 37 38 39 40 41 42 43 44 45 46 47\n",
      " 48 49 50 51 52 53 55 56 57 58 59 60 61 62 63 64 65 66 67 68 69 70 71 72\n",
      " 73 74 75 76 77 78 79 80 81 82 83 84 85 86 87 88 89 90] TEST: [54]\n",
      "Mean Absolute Error: 0.06363000000000052\n",
      "RMSE: 0.06363000000000052\n",
      "MAE Percent:  8.487859022204598\n",
      "Iteration:  55\n",
      "y_pred:  [1.29363] y_test:  [[1.23]]\n",
      "TRAIN: [ 0  1  2  3  4  5  6  7  8  9 10 11 12 13 14 15 16 17 18 19 20 21 22 23\n",
      " 24 25 26 27 28 29 30 31 32 33 34 35 36 37 38 39 40 41 42 43 44 45 46 47\n",
      " 48 49 50 51 52 53 54 56 57 58 59 60 61 62 63 64 65 66 67 68 69 70 71 72\n",
      " 73 74 75 76 77 78 79 80 81 82 83 84 85 86 87 88 89 90] TEST: [55]\n"
     ]
    },
    {
     "name": "stderr",
     "output_type": "stream",
     "text": [
      "C:\\ProgramData\\Anaconda3\\lib\\site-packages\\ipykernel_launcher.py:209: DataConversionWarning: A column-vector y was passed when a 1d array was expected. Please change the shape of y to (n_samples,), for example using ravel().\n",
      "C:\\ProgramData\\Anaconda3\\lib\\site-packages\\ipykernel_launcher.py:209: DataConversionWarning: A column-vector y was passed when a 1d array was expected. Please change the shape of y to (n_samples,), for example using ravel().\n"
     ]
    },
    {
     "name": "stdout",
     "output_type": "stream",
     "text": [
      "Mean Absolute Error: 0.393992\n",
      "RMSE: 0.393992\n",
      "MAE Percent:  52.55616143134381\n",
      "Iteration:  56\n",
      "y_pred:  [1.315992] y_test:  [[0.922]]\n",
      "TRAIN: [ 0  1  2  3  4  5  6  7  8  9 10 11 12 13 14 15 16 17 18 19 20 21 22 23\n",
      " 24 25 26 27 28 29 30 31 32 33 34 35 36 37 38 39 40 41 42 43 44 45 46 47\n",
      " 48 49 50 51 52 53 54 55 57 58 59 60 61 62 63 64 65 66 67 68 69 70 71 72\n",
      " 73 74 75 76 77 78 79 80 81 82 83 84 85 86 87 88 89 90] TEST: [56]\n",
      "Mean Absolute Error: 0.030262000000000233\n",
      "RMSE: 0.030262000000000233\n",
      "MAE Percent:  4.036768658336562\n",
      "Iteration:  57\n",
      "y_pred:  [0.295738] y_test:  [[0.326]]\n",
      "TRAIN: [ 0  1  2  3  4  5  6  7  8  9 10 11 12 13 14 15 16 17 18 19 20 21 22 23\n",
      " 24 25 26 27 28 29 30 31 32 33 34 35 36 37 38 39 40 41 42 43 44 45 46 47\n",
      " 48 49 50 51 52 53 54 55 56 58 59 60 61 62 63 64 65 66 67 68 69 70 71 72\n",
      " 73 74 75 76 77 78 79 80 81 82 83 84 85 86 87 88 89 90] TEST: [57]\n"
     ]
    },
    {
     "name": "stderr",
     "output_type": "stream",
     "text": [
      "C:\\ProgramData\\Anaconda3\\lib\\site-packages\\ipykernel_launcher.py:209: DataConversionWarning: A column-vector y was passed when a 1d array was expected. Please change the shape of y to (n_samples,), for example using ravel().\n",
      "C:\\ProgramData\\Anaconda3\\lib\\site-packages\\ipykernel_launcher.py:209: DataConversionWarning: A column-vector y was passed when a 1d array was expected. Please change the shape of y to (n_samples,), for example using ravel().\n"
     ]
    },
    {
     "name": "stdout",
     "output_type": "stream",
     "text": [
      "Mean Absolute Error: 0.1220960000000002\n",
      "RMSE: 0.1220960000000002\n",
      "MAE Percent:  16.286871525618192\n",
      "Iteration:  58\n",
      "y_pred:  [1.488096] y_test:  [[1.366]]\n",
      "TRAIN: [ 0  1  2  3  4  5  6  7  8  9 10 11 12 13 14 15 16 17 18 19 20 21 22 23\n",
      " 24 25 26 27 28 29 30 31 32 33 34 35 36 37 38 39 40 41 42 43 44 45 46 47\n",
      " 48 49 50 51 52 53 54 55 56 57 59 60 61 62 63 64 65 66 67 68 69 70 71 72\n",
      " 73 74 75 76 77 78 79 80 81 82 83 84 85 86 87 88 89 90] TEST: [58]\n",
      "Mean Absolute Error: 0.10340499999999997\n",
      "RMSE: 0.10340499999999997\n",
      "MAE Percent:  13.7936046234647\n",
      "Iteration:  59\n",
      "y_pred:  [0.103405] y_test:  [[0.]]\n",
      "TRAIN: [ 0  1  2  3  4  5  6  7  8  9 10 11 12 13 14 15 16 17 18 19 20 21 22 23\n",
      " 24 25 26 27 28 29 30 31 32 33 34 35 36 37 38 39 40 41 42 43 44 45 46 47\n",
      " 48 49 50 51 52 53 54 55 56 57 58 60 61 62 63 64 65 66 67 68 69 70 71 72\n",
      " 73 74 75 76 77 78 79 80 81 82 83 84 85 86 87 88 89 90] TEST: [59]\n"
     ]
    },
    {
     "name": "stderr",
     "output_type": "stream",
     "text": [
      "C:\\ProgramData\\Anaconda3\\lib\\site-packages\\ipykernel_launcher.py:209: DataConversionWarning: A column-vector y was passed when a 1d array was expected. Please change the shape of y to (n_samples,), for example using ravel().\n",
      "C:\\ProgramData\\Anaconda3\\lib\\site-packages\\ipykernel_launcher.py:209: DataConversionWarning: A column-vector y was passed when a 1d array was expected. Please change the shape of y to (n_samples,), for example using ravel().\n"
     ]
    },
    {
     "name": "stdout",
     "output_type": "stream",
     "text": [
      "Mean Absolute Error: 0.7705869999999995\n",
      "RMSE: 0.7705869999999995\n",
      "MAE Percent:  102.79166777217532\n",
      "Iteration:  60\n",
      "y_pred:  [1.342587] y_test:  [[0.572]]\n",
      "TRAIN: [ 0  1  2  3  4  5  6  7  8  9 10 11 12 13 14 15 16 17 18 19 20 21 22 23\n",
      " 24 25 26 27 28 29 30 31 32 33 34 35 36 37 38 39 40 41 42 43 44 45 46 47\n",
      " 48 49 50 51 52 53 54 55 56 57 58 59 61 62 63 64 65 66 67 68 69 70 71 72\n",
      " 73 74 75 76 77 78 79 80 81 82 83 84 85 86 87 88 89 90] TEST: [60]\n",
      "Mean Absolute Error: 0.4198396999999998\n",
      "RMSE: 0.4198396999999998\n",
      "MAE Percent:  56.00408903857678\n",
      "Iteration:  61\n",
      "y_pred:  [0.8008397] y_test:  [[0.381]]\n",
      "TRAIN: [ 0  1  2  3  4  5  6  7  8  9 10 11 12 13 14 15 16 17 18 19 20 21 22 23\n",
      " 24 25 26 27 28 29 30 31 32 33 34 35 36 37 38 39 40 41 42 43 44 45 46 47\n",
      " 48 49 50 51 52 53 54 55 56 57 58 59 60 62 63 64 65 66 67 68 69 70 71 72\n",
      " 73 74 75 76 77 78 79 80 81 82 83 84 85 86 87 88 89 90] TEST: [61]\n"
     ]
    },
    {
     "name": "stderr",
     "output_type": "stream",
     "text": [
      "C:\\ProgramData\\Anaconda3\\lib\\site-packages\\ipykernel_launcher.py:209: DataConversionWarning: A column-vector y was passed when a 1d array was expected. Please change the shape of y to (n_samples,), for example using ravel().\n",
      "C:\\ProgramData\\Anaconda3\\lib\\site-packages\\ipykernel_launcher.py:209: DataConversionWarning: A column-vector y was passed when a 1d array was expected. Please change the shape of y to (n_samples,), for example using ravel().\n"
     ]
    },
    {
     "name": "stdout",
     "output_type": "stream",
     "text": [
      "Mean Absolute Error: 0.12365899999999994\n",
      "RMSE: 0.12365899999999994\n",
      "MAE Percent:  16.495366318195646\n",
      "Iteration:  62\n",
      "y_pred:  [0.248659] y_test:  [[0.125]]\n",
      "TRAIN: [ 0  1  2  3  4  5  6  7  8  9 10 11 12 13 14 15 16 17 18 19 20 21 22 23\n",
      " 24 25 26 27 28 29 30 31 32 33 34 35 36 37 38 39 40 41 42 43 44 45 46 47\n",
      " 48 49 50 51 52 53 54 55 56 57 58 59 60 61 63 64 65 66 67 68 69 70 71 72\n",
      " 73 74 75 76 77 78 79 80 81 82 83 84 85 86 87 88 89 90] TEST: [62]\n",
      "Mean Absolute Error: 0.6873840000000007\n",
      "RMSE: 0.6873840000000007\n",
      "MAE Percent:  91.6928883564206\n",
      "Iteration:  63\n",
      "y_pred:  [1.333616] y_test:  [[2.021]]\n",
      "TRAIN: [ 0  1  2  3  4  5  6  7  8  9 10 11 12 13 14 15 16 17 18 19 20 21 22 23\n",
      " 24 25 26 27 28 29 30 31 32 33 34 35 36 37 38 39 40 41 42 43 44 45 46 47\n",
      " 48 49 50 51 52 53 54 55 56 57 58 59 60 61 62 64 65 66 67 68 69 70 71 72\n",
      " 73 74 75 76 77 78 79 80 81 82 83 84 85 86 87 88 89 90] TEST: [63]\n"
     ]
    },
    {
     "name": "stderr",
     "output_type": "stream",
     "text": [
      "C:\\ProgramData\\Anaconda3\\lib\\site-packages\\ipykernel_launcher.py:209: DataConversionWarning: A column-vector y was passed when a 1d array was expected. Please change the shape of y to (n_samples,), for example using ravel().\n",
      "C:\\ProgramData\\Anaconda3\\lib\\site-packages\\ipykernel_launcher.py:209: DataConversionWarning: A column-vector y was passed when a 1d array was expected. Please change the shape of y to (n_samples,), for example using ravel().\n"
     ]
    },
    {
     "name": "stdout",
     "output_type": "stream",
     "text": [
      "Mean Absolute Error: 0.7584792000000004\n",
      "RMSE: 0.7584792000000004\n",
      "MAE Percent:  101.17656012689731\n",
      "Iteration:  64\n",
      "y_pred:  [0.5085208] y_test:  [[1.267]]\n",
      "TRAIN: [ 0  1  2  3  4  5  6  7  8  9 10 11 12 13 14 15 16 17 18 19 20 21 22 23\n",
      " 24 25 26 27 28 29 30 31 32 33 34 35 36 37 38 39 40 41 42 43 44 45 46 47\n",
      " 48 49 50 51 52 53 54 55 56 57 58 59 60 61 62 63 65 66 67 68 69 70 71 72\n",
      " 73 74 75 76 77 78 79 80 81 82 83 84 85 86 87 88 89 90] TEST: [64]\n",
      "Mean Absolute Error: 0.07865100000000036\n",
      "RMSE: 0.07865100000000036\n",
      "MAE Percent:  10.491570013443523\n",
      "Iteration:  65\n",
      "y_pred:  [0.612049] y_test:  [[0.6907]]\n",
      "TRAIN: [ 0  1  2  3  4  5  6  7  8  9 10 11 12 13 14 15 16 17 18 19 20 21 22 23\n",
      " 24 25 26 27 28 29 30 31 32 33 34 35 36 37 38 39 40 41 42 43 44 45 46 47\n",
      " 48 49 50 51 52 53 54 55 56 57 58 59 60 61 62 63 64 66 67 68 69 70 71 72\n",
      " 73 74 75 76 77 78 79 80 81 82 83 84 85 86 87 88 89 90] TEST: [65]\n"
     ]
    },
    {
     "name": "stderr",
     "output_type": "stream",
     "text": [
      "C:\\ProgramData\\Anaconda3\\lib\\site-packages\\ipykernel_launcher.py:209: DataConversionWarning: A column-vector y was passed when a 1d array was expected. Please change the shape of y to (n_samples,), for example using ravel().\n",
      "C:\\ProgramData\\Anaconda3\\lib\\site-packages\\ipykernel_launcher.py:209: DataConversionWarning: A column-vector y was passed when a 1d array was expected. Please change the shape of y to (n_samples,), for example using ravel().\n"
     ]
    },
    {
     "name": "stdout",
     "output_type": "stream",
     "text": [
      "Mean Absolute Error: 0.015768299999999402\n",
      "RMSE: 0.015768299999999402\n",
      "MAE Percent:  2.103396313371406\n",
      "Iteration:  66\n",
      "y_pred:  [0.9249317] y_test:  [[0.9407]]\n",
      "TRAIN: [ 0  1  2  3  4  5  6  7  8  9 10 11 12 13 14 15 16 17 18 19 20 21 22 23\n",
      " 24 25 26 27 28 29 30 31 32 33 34 35 36 37 38 39 40 41 42 43 44 45 46 47\n",
      " 48 49 50 51 52 53 54 55 56 57 58 59 60 61 62 63 64 65 67 68 69 70 71 72\n",
      " 73 74 75 76 77 78 79 80 81 82 83 84 85 86 87 88 89 90] TEST: [66]\n",
      "Mean Absolute Error: 0.003449999999999981\n",
      "RMSE: 0.003449999999999981\n",
      "MAE Percent:  0.4602092350558771\n",
      "Iteration:  67\n",
      "y_pred:  [0.10205] y_test:  [[0.0986]]\n",
      "TRAIN: [ 0  1  2  3  4  5  6  7  8  9 10 11 12 13 14 15 16 17 18 19 20 21 22 23\n",
      " 24 25 26 27 28 29 30 31 32 33 34 35 36 37 38 39 40 41 42 43 44 45 46 47\n",
      " 48 49 50 51 52 53 54 55 56 57 58 59 60 61 62 63 64 65 66 68 69 70 71 72\n",
      " 73 74 75 76 77 78 79 80 81 82 83 84 85 86 87 88 89 90] TEST: [67]\n"
     ]
    },
    {
     "name": "stderr",
     "output_type": "stream",
     "text": [
      "C:\\ProgramData\\Anaconda3\\lib\\site-packages\\ipykernel_launcher.py:209: DataConversionWarning: A column-vector y was passed when a 1d array was expected. Please change the shape of y to (n_samples,), for example using ravel().\n",
      "C:\\ProgramData\\Anaconda3\\lib\\site-packages\\ipykernel_launcher.py:209: DataConversionWarning: A column-vector y was passed when a 1d array was expected. Please change the shape of y to (n_samples,), for example using ravel().\n"
     ]
    },
    {
     "name": "stdout",
     "output_type": "stream",
     "text": [
      "Mean Absolute Error: 0.21763400000000008\n",
      "RMSE: 0.21763400000000008\n",
      "MAE Percent:  29.031065699174302\n",
      "Iteration:  68\n",
      "y_pred:  [0.217634] y_test:  [[0.]]\n",
      "TRAIN: [ 0  1  2  3  4  5  6  7  8  9 10 11 12 13 14 15 16 17 18 19 20 21 22 23\n",
      " 24 25 26 27 28 29 30 31 32 33 34 35 36 37 38 39 40 41 42 43 44 45 46 47\n",
      " 48 49 50 51 52 53 54 55 56 57 58 59 60 61 62 63 64 65 66 67 69 70 71 72\n",
      " 73 74 75 76 77 78 79 80 81 82 83 84 85 86 87 88 89 90] TEST: [68]\n",
      "Mean Absolute Error: 0.03518500000000027\n",
      "RMSE: 0.03518500000000027\n",
      "MAE Percent:  4.69346722766413\n",
      "Iteration:  69\n",
      "y_pred:  [0.160815] y_test:  [[0.196]]\n",
      "TRAIN: [ 0  1  2  3  4  5  6  7  8  9 10 11 12 13 14 15 16 17 18 19 20 21 22 23\n",
      " 24 25 26 27 28 29 30 31 32 33 34 35 36 37 38 39 40 41 42 43 44 45 46 47\n",
      " 48 49 50 51 52 53 54 55 56 57 58 59 60 61 62 63 64 65 66 67 68 70 71 72\n",
      " 73 74 75 76 77 78 79 80 81 82 83 84 85 86 87 88 89 90] TEST: [69]\n"
     ]
    },
    {
     "name": "stderr",
     "output_type": "stream",
     "text": [
      "C:\\ProgramData\\Anaconda3\\lib\\site-packages\\ipykernel_launcher.py:209: DataConversionWarning: A column-vector y was passed when a 1d array was expected. Please change the shape of y to (n_samples,), for example using ravel().\n",
      "C:\\ProgramData\\Anaconda3\\lib\\site-packages\\ipykernel_launcher.py:209: DataConversionWarning: A column-vector y was passed when a 1d array was expected. Please change the shape of y to (n_samples,), for example using ravel().\n"
     ]
    },
    {
     "name": "stdout",
     "output_type": "stream",
     "text": [
      "Mean Absolute Error: 0.15268610000000005\n",
      "RMSE: 0.15268610000000005\n",
      "MAE Percent:  20.367406749178425\n",
      "Iteration:  70\n",
      "y_pred:  [0.7723139] y_test:  [[0.925]]\n",
      "TRAIN: [ 0  1  2  3  4  5  6  7  8  9 10 11 12 13 14 15 16 17 18 19 20 21 22 23\n",
      " 24 25 26 27 28 29 30 31 32 33 34 35 36 37 38 39 40 41 42 43 44 45 46 47\n",
      " 48 49 50 51 52 53 54 55 56 57 58 59 60 61 62 63 64 65 66 67 68 69 71 72\n",
      " 73 74 75 76 77 78 79 80 81 82 83 84 85 86 87 88 89 90] TEST: [70]\n",
      "Mean Absolute Error: 0.017697400000000196\n",
      "RMSE: 0.017697400000000196\n",
      "MAE Percent:  2.3607266424573954\n",
      "Iteration:  71\n",
      "y_pred:  [0.3616974] y_test:  [[0.344]]\n",
      "TRAIN: [ 0  1  2  3  4  5  6  7  8  9 10 11 12 13 14 15 16 17 18 19 20 21 22 23\n",
      " 24 25 26 27 28 29 30 31 32 33 34 35 36 37 38 39 40 41 42 43 44 45 46 47\n",
      " 48 49 50 51 52 53 54 55 56 57 58 59 60 61 62 63 64 65 66 67 68 69 70 72\n",
      " 73 74 75 76 77 78 79 80 81 82 83 84 85 86 87 88 89 90] TEST: [71]\n"
     ]
    },
    {
     "name": "stderr",
     "output_type": "stream",
     "text": [
      "C:\\ProgramData\\Anaconda3\\lib\\site-packages\\ipykernel_launcher.py:209: DataConversionWarning: A column-vector y was passed when a 1d array was expected. Please change the shape of y to (n_samples,), for example using ravel().\n",
      "C:\\ProgramData\\Anaconda3\\lib\\site-packages\\ipykernel_launcher.py:209: DataConversionWarning: A column-vector y was passed when a 1d array was expected. Please change the shape of y to (n_samples,), for example using ravel().\n"
     ]
    },
    {
     "name": "stdout",
     "output_type": "stream",
     "text": [
      "Mean Absolute Error: 0.023531999999999886\n",
      "RMSE: 0.023531999999999886\n",
      "MAE Percent:  3.1390271650246104\n",
      "Iteration:  72\n",
      "y_pred:  [0.232468] y_test:  [[0.256]]\n",
      "TRAIN: [ 0  1  2  3  4  5  6  7  8  9 10 11 12 13 14 15 16 17 18 19 20 21 22 23\n",
      " 24 25 26 27 28 29 30 31 32 33 34 35 36 37 38 39 40 41 42 43 44 45 46 47\n",
      " 48 49 50 51 52 53 54 55 56 57 58 59 60 61 62 63 64 65 66 67 68 69 70 71\n",
      " 73 74 75 76 77 78 79 80 81 82 83 84 85 86 87 88 89 90] TEST: [72]\n",
      "Mean Absolute Error: 0.07398169999999982\n",
      "RMSE: 0.07398169999999982\n",
      "MAE Percent:  9.86871349714014\n",
      "Iteration:  73\n",
      "y_pred:  [0.8436817] y_test:  [[0.7697]]\n",
      "TRAIN: [ 0  1  2  3  4  5  6  7  8  9 10 11 12 13 14 15 16 17 18 19 20 21 22 23\n",
      " 24 25 26 27 28 29 30 31 32 33 34 35 36 37 38 39 40 41 42 43 44 45 46 47\n",
      " 48 49 50 51 52 53 54 55 56 57 58 59 60 61 62 63 64 65 66 67 68 69 70 71\n",
      " 72 74 75 76 77 78 79 80 81 82 83 84 85 86 87 88 89 90] TEST: [73]\n"
     ]
    },
    {
     "name": "stderr",
     "output_type": "stream",
     "text": [
      "C:\\ProgramData\\Anaconda3\\lib\\site-packages\\ipykernel_launcher.py:209: DataConversionWarning: A column-vector y was passed when a 1d array was expected. Please change the shape of y to (n_samples,), for example using ravel().\n",
      "C:\\ProgramData\\Anaconda3\\lib\\site-packages\\ipykernel_launcher.py:209: DataConversionWarning: A column-vector y was passed when a 1d array was expected. Please change the shape of y to (n_samples,), for example using ravel().\n"
     ]
    },
    {
     "name": "stdout",
     "output_type": "stream",
     "text": [
      "Mean Absolute Error: 0.08696539999999975\n",
      "RMSE: 0.08696539999999975\n",
      "MAE Percent:  11.600660930529994\n",
      "Iteration:  74\n",
      "y_pred:  [1.0359654] y_test:  [[0.949]]\n",
      "TRAIN: [ 0  1  2  3  4  5  6  7  8  9 10 11 12 13 14 15 16 17 18 19 20 21 22 23\n",
      " 24 25 26 27 28 29 30 31 32 33 34 35 36 37 38 39 40 41 42 43 44 45 46 47\n",
      " 48 49 50 51 52 53 54 55 56 57 58 59 60 61 62 63 64 65 66 67 68 69 70 71\n",
      " 72 73 75 76 77 78 79 80 81 82 83 84 85 86 87 88 89 90] TEST: [74]\n",
      "Mean Absolute Error: 0.5337280000000004\n",
      "RMSE: 0.5337280000000004\n",
      "MAE Percent:  71.19610278489992\n",
      "Iteration:  75\n",
      "y_pred:  [1.486272] y_test:  [[2.02]]\n",
      "TRAIN: [ 0  1  2  3  4  5  6  7  8  9 10 11 12 13 14 15 16 17 18 19 20 21 22 23\n",
      " 24 25 26 27 28 29 30 31 32 33 34 35 36 37 38 39 40 41 42 43 44 45 46 47\n",
      " 48 49 50 51 52 53 54 55 56 57 58 59 60 61 62 63 64 65 66 67 68 69 70 71\n",
      " 72 73 74 76 77 78 79 80 81 82 83 84 85 86 87 88 89 90] TEST: [75]\n"
     ]
    },
    {
     "name": "stderr",
     "output_type": "stream",
     "text": [
      "C:\\ProgramData\\Anaconda3\\lib\\site-packages\\ipykernel_launcher.py:209: DataConversionWarning: A column-vector y was passed when a 1d array was expected. Please change the shape of y to (n_samples,), for example using ravel().\n",
      "C:\\ProgramData\\Anaconda3\\lib\\site-packages\\ipykernel_launcher.py:209: DataConversionWarning: A column-vector y was passed when a 1d array was expected. Please change the shape of y to (n_samples,), for example using ravel().\n"
     ]
    },
    {
     "name": "stdout",
     "output_type": "stream",
     "text": [
      "Mean Absolute Error: 0.0859751999999997\n",
      "RMSE: 0.0859751999999997\n",
      "MAE Percent:  11.46857421036989\n",
      "Iteration:  76\n",
      "y_pred:  [0.6329752] y_test:  [[0.547]]\n",
      "TRAIN: [ 0  1  2  3  4  5  6  7  8  9 10 11 12 13 14 15 16 17 18 19 20 21 22 23\n",
      " 24 25 26 27 28 29 30 31 32 33 34 35 36 37 38 39 40 41 42 43 44 45 46 47\n",
      " 48 49 50 51 52 53 54 55 56 57 58 59 60 61 62 63 64 65 66 67 68 69 70 71\n",
      " 72 73 74 75 77 78 79 80 81 82 83 84 85 86 87 88 89 90] TEST: [76]\n",
      "Mean Absolute Error: 0.17138699999999973\n",
      "RMSE: 0.17138699999999973\n",
      "MAE Percent:  22.861994251745482\n",
      "Iteration:  77\n",
      "y_pred:  [1.138613] y_test:  [[1.31]]\n",
      "TRAIN: [ 0  1  2  3  4  5  6  7  8  9 10 11 12 13 14 15 16 17 18 19 20 21 22 23\n",
      " 24 25 26 27 28 29 30 31 32 33 34 35 36 37 38 39 40 41 42 43 44 45 46 47\n",
      " 48 49 50 51 52 53 54 55 56 57 58 59 60 61 62 63 64 65 66 67 68 69 70 71\n",
      " 72 73 74 75 76 78 79 80 81 82 83 84 85 86 87 88 89 90] TEST: [77]\n"
     ]
    },
    {
     "name": "stderr",
     "output_type": "stream",
     "text": [
      "C:\\ProgramData\\Anaconda3\\lib\\site-packages\\ipykernel_launcher.py:209: DataConversionWarning: A column-vector y was passed when a 1d array was expected. Please change the shape of y to (n_samples,), for example using ravel().\n",
      "C:\\ProgramData\\Anaconda3\\lib\\site-packages\\ipykernel_launcher.py:209: DataConversionWarning: A column-vector y was passed when a 1d array was expected. Please change the shape of y to (n_samples,), for example using ravel().\n"
     ]
    },
    {
     "name": "stdout",
     "output_type": "stream",
     "text": [
      "Mean Absolute Error: 0.285443\n",
      "RMSE: 0.285443\n",
      "MAE Percent:  38.07637816871172\n",
      "Iteration:  78\n",
      "y_pred:  [0.144457] y_test:  [[0.4299]]\n",
      "TRAIN: [ 0  1  2  3  4  5  6  7  8  9 10 11 12 13 14 15 16 17 18 19 20 21 22 23\n",
      " 24 25 26 27 28 29 30 31 32 33 34 35 36 37 38 39 40 41 42 43 44 45 46 47\n",
      " 48 49 50 51 52 53 54 55 56 57 58 59 60 61 62 63 64 65 66 67 68 69 70 71\n",
      " 72 73 74 75 76 77 79 80 81 82 83 84 85 86 87 88 89 90] TEST: [78]\n",
      "Mean Absolute Error: 0.18780599999999992\n",
      "RMSE: 0.18780599999999992\n",
      "MAE Percent:  25.05219002866797\n",
      "Iteration:  79\n",
      "y_pred:  [0.187806] y_test:  [[0.]]\n",
      "TRAIN: [ 0  1  2  3  4  5  6  7  8  9 10 11 12 13 14 15 16 17 18 19 20 21 22 23\n",
      " 24 25 26 27 28 29 30 31 32 33 34 35 36 37 38 39 40 41 42 43 44 45 46 47\n",
      " 48 49 50 51 52 53 54 55 56 57 58 59 60 61 62 63 64 65 66 67 68 69 70 71\n",
      " 72 73 74 75 76 77 78 80 81 82 83 84 85 86 87 88 89 90] TEST: [79]\n"
     ]
    },
    {
     "name": "stderr",
     "output_type": "stream",
     "text": [
      "C:\\ProgramData\\Anaconda3\\lib\\site-packages\\ipykernel_launcher.py:209: DataConversionWarning: A column-vector y was passed when a 1d array was expected. Please change the shape of y to (n_samples,), for example using ravel().\n",
      "C:\\ProgramData\\Anaconda3\\lib\\site-packages\\ipykernel_launcher.py:209: DataConversionWarning: A column-vector y was passed when a 1d array was expected. Please change the shape of y to (n_samples,), for example using ravel().\n"
     ]
    },
    {
     "name": "stdout",
     "output_type": "stream",
     "text": [
      "Mean Absolute Error: 0.05254169999999997\n",
      "RMSE: 0.05254169999999997\n",
      "MAE Percent:  7.0087465407349265\n",
      "Iteration:  80\n",
      "y_pred:  [0.3285417] y_test:  [[0.276]]\n",
      "TRAIN: [ 0  1  2  3  4  5  6  7  8  9 10 11 12 13 14 15 16 17 18 19 20 21 22 23\n",
      " 24 25 26 27 28 29 30 31 32 33 34 35 36 37 38 39 40 41 42 43 44 45 46 47\n",
      " 48 49 50 51 52 53 54 55 56 57 58 59 60 61 62 63 64 65 66 67 68 69 70 71\n",
      " 72 73 74 75 76 77 78 79 81 82 83 84 85 86 87 88 89 90] TEST: [80]\n",
      "Mean Absolute Error: 0.21023999999999932\n",
      "RMSE: 0.21023999999999932\n",
      "MAE Percent:  28.044750602361685\n",
      "Iteration:  81\n",
      "y_pred:  [1.41724] y_test:  [[1.207]]\n",
      "TRAIN: [ 0  1  2  3  4  5  6  7  8  9 10 11 12 13 14 15 16 17 18 19 20 21 22 23\n",
      " 24 25 26 27 28 29 30 31 32 33 34 35 36 37 38 39 40 41 42 43 44 45 46 47\n",
      " 48 49 50 51 52 53 54 55 56 57 58 59 60 61 62 63 64 65 66 67 68 69 70 71\n",
      " 72 73 74 75 76 77 78 79 80 82 83 84 85 86 87 88 89 90] TEST: [81]\n"
     ]
    },
    {
     "name": "stderr",
     "output_type": "stream",
     "text": [
      "C:\\ProgramData\\Anaconda3\\lib\\site-packages\\ipykernel_launcher.py:209: DataConversionWarning: A column-vector y was passed when a 1d array was expected. Please change the shape of y to (n_samples,), for example using ravel().\n",
      "C:\\ProgramData\\Anaconda3\\lib\\site-packages\\ipykernel_launcher.py:209: DataConversionWarning: A column-vector y was passed when a 1d array was expected. Please change the shape of y to (n_samples,), for example using ravel().\n"
     ]
    },
    {
     "name": "stdout",
     "output_type": "stream",
     "text": [
      "Mean Absolute Error: 1.051394000000001\n",
      "RMSE: 1.051394000000001\n",
      "MAE Percent:  140.2496314441571\n",
      "Iteration:  82\n",
      "y_pred:  [1.472606] y_test:  [[2.524]]\n",
      "TRAIN: [ 0  1  2  3  4  5  6  7  8  9 10 11 12 13 14 15 16 17 18 19 20 21 22 23\n",
      " 24 25 26 27 28 29 30 31 32 33 34 35 36 37 38 39 40 41 42 43 44 45 46 47\n",
      " 48 49 50 51 52 53 54 55 56 57 58 59 60 61 62 63 64 65 66 67 68 69 70 71\n",
      " 72 73 74 75 76 77 78 79 80 81 83 84 85 86 87 88 89 90] TEST: [82]\n",
      "Mean Absolute Error: 0.7073480000000001\n",
      "RMSE: 0.7073480000000001\n",
      "MAE Percent:  94.35596579661055\n",
      "Iteration:  83\n",
      "y_pred:  [1.355652] y_test:  [[2.063]]\n",
      "TRAIN: [ 0  1  2  3  4  5  6  7  8  9 10 11 12 13 14 15 16 17 18 19 20 21 22 23\n",
      " 24 25 26 27 28 29 30 31 32 33 34 35 36 37 38 39 40 41 42 43 44 45 46 47\n",
      " 48 49 50 51 52 53 54 55 56 57 58 59 60 61 62 63 64 65 66 67 68 69 70 71\n",
      " 72 73 74 75 76 77 78 79 80 81 82 84 85 86 87 88 89 90] TEST: [83]\n"
     ]
    },
    {
     "name": "stderr",
     "output_type": "stream",
     "text": [
      "C:\\ProgramData\\Anaconda3\\lib\\site-packages\\ipykernel_launcher.py:209: DataConversionWarning: A column-vector y was passed when a 1d array was expected. Please change the shape of y to (n_samples,), for example using ravel().\n",
      "C:\\ProgramData\\Anaconda3\\lib\\site-packages\\ipykernel_launcher.py:209: DataConversionWarning: A column-vector y was passed when a 1d array was expected. Please change the shape of y to (n_samples,), for example using ravel().\n"
     ]
    },
    {
     "name": "stdout",
     "output_type": "stream",
     "text": [
      "Mean Absolute Error: 0.2558635000000001\n",
      "RMSE: 0.2558635000000001\n",
      "MAE Percent:  34.13065090252756\n",
      "Iteration:  84\n",
      "y_pred:  [0.6388635] y_test:  [[0.383]]\n",
      "TRAIN: [ 0  1  2  3  4  5  6  7  8  9 10 11 12 13 14 15 16 17 18 19 20 21 22 23\n",
      " 24 25 26 27 28 29 30 31 32 33 34 35 36 37 38 39 40 41 42 43 44 45 46 47\n",
      " 48 49 50 51 52 53 54 55 56 57 58 59 60 61 62 63 64 65 66 67 68 69 70 71\n",
      " 72 73 74 75 76 77 78 79 80 81 82 83 85 86 87 88 89 90] TEST: [84]\n",
      "Mean Absolute Error: 0.23523899999999986\n",
      "RMSE: 0.23523899999999986\n",
      "MAE Percent:  31.37946673777102\n",
      "Iteration:  85\n",
      "y_pred:  [0.235239] y_test:  [[0.]]\n",
      "TRAIN: [ 0  1  2  3  4  5  6  7  8  9 10 11 12 13 14 15 16 17 18 19 20 21 22 23\n",
      " 24 25 26 27 28 29 30 31 32 33 34 35 36 37 38 39 40 41 42 43 44 45 46 47\n",
      " 48 49 50 51 52 53 54 55 56 57 58 59 60 61 62 63 64 65 66 67 68 69 70 71\n",
      " 72 73 74 75 76 77 78 79 80 81 82 83 84 86 87 88 89 90] TEST: [85]\n"
     ]
    },
    {
     "name": "stderr",
     "output_type": "stream",
     "text": [
      "C:\\ProgramData\\Anaconda3\\lib\\site-packages\\ipykernel_launcher.py:209: DataConversionWarning: A column-vector y was passed when a 1d array was expected. Please change the shape of y to (n_samples,), for example using ravel().\n",
      "C:\\ProgramData\\Anaconda3\\lib\\site-packages\\ipykernel_launcher.py:209: DataConversionWarning: A column-vector y was passed when a 1d array was expected. Please change the shape of y to (n_samples,), for example using ravel().\n"
     ]
    },
    {
     "name": "stdout",
     "output_type": "stream",
     "text": [
      "Mean Absolute Error: 0.010669299999999993\n",
      "RMSE: 0.010669299999999993\n",
      "MAE Percent:  1.4232204033570124\n",
      "Iteration:  86\n",
      "y_pred:  [0.2563307] y_test:  [[0.267]]\n",
      "TRAIN: [ 0  1  2  3  4  5  6  7  8  9 10 11 12 13 14 15 16 17 18 19 20 21 22 23\n",
      " 24 25 26 27 28 29 30 31 32 33 34 35 36 37 38 39 40 41 42 43 44 45 46 47\n",
      " 48 49 50 51 52 53 54 55 56 57 58 59 60 61 62 63 64 65 66 67 68 69 70 71\n",
      " 72 73 74 75 76 77 78 79 80 81 82 83 84 85 87 88 89 90] TEST: [86]\n",
      "Mean Absolute Error: 0.12392029999999998\n",
      "RMSE: 0.12392029999999998\n",
      "MAE Percent:  16.530222165476843\n",
      "Iteration:  87\n",
      "y_pred:  [1.1460797] y_test:  [[1.27]]\n",
      "TRAIN: [ 0  1  2  3  4  5  6  7  8  9 10 11 12 13 14 15 16 17 18 19 20 21 22 23\n",
      " 24 25 26 27 28 29 30 31 32 33 34 35 36 37 38 39 40 41 42 43 44 45 46 47\n",
      " 48 49 50 51 52 53 54 55 56 57 58 59 60 61 62 63 64 65 66 67 68 69 70 71\n",
      " 72 73 74 75 76 77 78 79 80 81 82 83 84 85 86 88 89 90] TEST: [87]\n"
     ]
    },
    {
     "name": "stderr",
     "output_type": "stream",
     "text": [
      "C:\\ProgramData\\Anaconda3\\lib\\site-packages\\ipykernel_launcher.py:209: DataConversionWarning: A column-vector y was passed when a 1d array was expected. Please change the shape of y to (n_samples,), for example using ravel().\n",
      "C:\\ProgramData\\Anaconda3\\lib\\site-packages\\ipykernel_launcher.py:209: DataConversionWarning: A column-vector y was passed when a 1d array was expected. Please change the shape of y to (n_samples,), for example using ravel().\n"
     ]
    },
    {
     "name": "stdout",
     "output_type": "stream",
     "text": [
      "Mean Absolute Error: 0.002795000000000006\n",
      "RMSE: 0.002795000000000006\n",
      "MAE Percent:  0.37283617738585106\n",
      "Iteration:  88\n",
      "y_pred:  [0.099795] y_test:  [[0.097]]\n",
      "TRAIN: [ 0  1  2  3  4  5  6  7  8  9 10 11 12 13 14 15 16 17 18 19 20 21 22 23\n",
      " 24 25 26 27 28 29 30 31 32 33 34 35 36 37 38 39 40 41 42 43 44 45 46 47\n",
      " 48 49 50 51 52 53 54 55 56 57 58 59 60 61 62 63 64 65 66 67 68 69 70 71\n",
      " 72 73 74 75 76 77 78 79 80 81 82 83 84 85 86 87 89 90] TEST: [88]\n",
      "Mean Absolute Error: 0.08734360000000008\n",
      "RMSE: 0.08734360000000008\n",
      "MAE Percent:  11.651110534210655\n",
      "Iteration:  89\n",
      "y_pred:  [1.0446564] y_test:  [[1.132]]\n",
      "TRAIN: [ 0  1  2  3  4  5  6  7  8  9 10 11 12 13 14 15 16 17 18 19 20 21 22 23\n",
      " 24 25 26 27 28 29 30 31 32 33 34 35 36 37 38 39 40 41 42 43 44 45 46 47\n",
      " 48 49 50 51 52 53 54 55 56 57 58 59 60 61 62 63 64 65 66 67 68 69 70 71\n",
      " 72 73 74 75 76 77 78 79 80 81 82 83 84 85 86 87 88 90] TEST: [89]\n"
     ]
    },
    {
     "name": "stderr",
     "output_type": "stream",
     "text": [
      "C:\\ProgramData\\Anaconda3\\lib\\site-packages\\ipykernel_launcher.py:209: DataConversionWarning: A column-vector y was passed when a 1d array was expected. Please change the shape of y to (n_samples,), for example using ravel().\n",
      "C:\\ProgramData\\Anaconda3\\lib\\site-packages\\ipykernel_launcher.py:209: DataConversionWarning: A column-vector y was passed when a 1d array was expected. Please change the shape of y to (n_samples,), for example using ravel().\n"
     ]
    },
    {
     "name": "stdout",
     "output_type": "stream",
     "text": [
      "Mean Absolute Error: 0.12086200000000069\n",
      "RMSE: 0.12086200000000069\n",
      "MAE Percent:  16.12226335284755\n",
      "Iteration:  90\n",
      "y_pred:  [1.446138] y_test:  [[1.567]]\n",
      "TRAIN: [ 0  1  2  3  4  5  6  7  8  9 10 11 12 13 14 15 16 17 18 19 20 21 22 23\n",
      " 24 25 26 27 28 29 30 31 32 33 34 35 36 37 38 39 40 41 42 43 44 45 46 47\n",
      " 48 49 50 51 52 53 54 55 56 57 58 59 60 61 62 63 64 65 66 67 68 69 70 71\n",
      " 72 73 74 75 76 77 78 79 80 81 82 83 84 85 86 87 88 89] TEST: [90]\n",
      "Mean Absolute Error: 0.4287729999999996\n",
      "RMSE: 0.4287729999999996\n",
      "MAE Percent:  57.1957374906129\n",
      "Iteration:  91\n",
      "y_pred:  [1.164227] y_test:  [[1.593]]\n",
      "RMSE: [0.2729709 1.0606144 0.207428  0.1761653 0.0107226 0.104943  0.176128\n",
      " 0.235166  0.0875556 0.4039757 0.062033  0.0629717 0.037116  0.039066\n",
      " 0.016069  0.220746  0.221871  0.321109  0.160974  0.112497  0.5155963\n",
      " 0.044074  0.002941  0.141408  0.037508  0.0447044 0.0746924 0.201349\n",
      " 0.255434  0.04259   0.2534626 0.5160196 0.798707  0.3620462 0.091454\n",
      " 0.00647   0.2137235 0.016976  0.1980841 0.120572  0.321018  0.1585742\n",
      " 0.911501  0.0295821 0.0984733 0.050166  0.023078  0.192613  0.512192\n",
      " 0.874826  0.223832  0.675927  0.142876  0.68451   0.06363   0.393992\n",
      " 0.030262  0.122096  0.103405  0.770587  0.4198397 0.123659  0.687384\n",
      " 0.7584792 0.078651  0.0157683 0.00345   0.217634  0.035185  0.1526861\n",
      " 0.0176974 0.023532  0.0739817 0.0869654 0.533728  0.0859752 0.171387\n",
      " 0.285443  0.187806  0.0525417 0.21024   1.051394  0.707348  0.2558635\n",
      " 0.235239  0.0106693 0.1239203 0.002795  0.0873436 0.120862  0.428773 ]\n",
      "MAE: [0.2729709 1.0606144 0.207428  0.1761653 0.0107226 0.104943  0.176128\n",
      " 0.235166  0.0875556 0.4039757 0.062033  0.0629717 0.037116  0.039066\n",
      " 0.016069  0.220746  0.221871  0.321109  0.160974  0.112497  0.5155963\n",
      " 0.044074  0.002941  0.141408  0.037508  0.0447044 0.0746924 0.201349\n",
      " 0.255434  0.04259   0.2534626 0.5160196 0.798707  0.3620462 0.091454\n",
      " 0.00647   0.2137235 0.016976  0.1980841 0.120572  0.321018  0.1585742\n",
      " 0.911501  0.0295821 0.0984733 0.050166  0.023078  0.192613  0.512192\n",
      " 0.874826  0.223832  0.675927  0.142876  0.68451   0.06363   0.393992\n",
      " 0.030262  0.122096  0.103405  0.770587  0.4198397 0.123659  0.687384\n",
      " 0.7584792 0.078651  0.0157683 0.00345   0.217634  0.035185  0.1526861\n",
      " 0.0176974 0.023532  0.0739817 0.0869654 0.533728  0.0859752 0.171387\n",
      " 0.285443  0.187806  0.0525417 0.21024   1.051394  0.707348  0.2558635\n",
      " 0.235239  0.0106693 0.1239203 0.002795  0.0873436 0.120862  0.428773 ]\n",
      "MAE Percent: [ 36.4126751  141.47957731  27.66964673  23.49939071   1.4303303\n",
      "  13.99876457  23.49441512  31.36972898  11.67939006  53.88792692\n",
      "   8.27482883   8.40004576   4.95105101   5.21116927   2.14350788\n",
      "  29.44618777  29.596256    42.8340079   21.47296273  15.0064227\n",
      "  68.77744314   5.87920633   0.3923117   18.86297609   5.00334145\n",
      "   5.96329789   9.9635166   26.85874472  34.07335819   5.68124966\n",
      "  33.81038529  68.83390881 106.54270652  48.29478399  12.19941315\n",
      "   0.86305906  28.50942854   2.26449622  26.42322671  16.0835791\n",
      "  42.82186905  21.15284385 121.58874724   3.94607409  13.13574553\n",
      "   6.69184246   3.0784663   25.6934149   68.32333001 116.69652298\n",
      "  29.85784159  90.16459351  19.05879845  91.30951405   8.48785902\n",
      "  52.55616143   4.03676866  16.28687153  13.79360462 102.79166777\n",
      "  56.00408904  16.49536632  91.69288836 101.17656013  10.49157001\n",
      "   2.10339631   0.46020924  29.0310657    4.69346723  20.36740675\n",
      "   2.36072664   3.13902717   9.8687135   11.60066093  71.19610278\n",
      "  11.46857421  22.86199425  38.07637817  25.05219003   7.00874654\n",
      "  28.0447506  140.24963144  94.3559658   34.1306509   31.37946674\n",
      "   1.4232204   16.53022217   0.37283618  11.65111053  16.12226335\n",
      "  57.19573749]\n",
      "Average RMSE: 0.23689358571428568 +- 0.25410271379276755\n",
      "Average MAE: 0.23689358571428568 +- 0.25410271379276755\n",
      "Average MAE Percent: 31.60017851339591 +- 33.895772620345696\n",
      "7\n",
      "     Sub_ID Sub_Type  Cut_Off_Time  FIM  FIM_M  BBS  MWT10_SSV  MWT10_FV  \\\n",
      "1112   CVA2   CVA_AD           240   85     56   38      0.595     0.771   \n",
      "1113   CVA4   CVA_AD           240   44     24    3      0.000     0.000   \n",
      "1114   CVA5   CVA_AD           240   62     34    6      0.000     0.000   \n",
      "1115   CVA6   CVA_AD           240   57     35   16      0.783     0.000   \n",
      "1116   CVA9   CVA_AD           240   71     49   37      0.917     1.166   \n",
      "...     ...      ...           ...  ...    ...  ...        ...       ...   \n",
      "1198  CVA51   CVA_DC           240   89     59   37      1.270     2.149   \n",
      "1199  CVA52   CVA_DC           240   61     40    4      0.097     0.000   \n",
      "1200  CVA53   CVA_DC           240   90     64   38      1.132     1.591   \n",
      "1201  CVA54   CVA_DC           240   94     66   44      1.567     2.258   \n",
      "1202  CVA55   CVA_DC           240  120     89   51      1.593     2.992   \n",
      "\n",
      "          MWT6      TUG  ...  DLS_L_Acc_z_PSD_mean  DLS_L_Acc_z_PSD_std  \\\n",
      "1112  193.1210  26.9930  ...              0.002632             0.002837   \n",
      "1113  233.0196   0.0000  ...              0.001878             0.005541   \n",
      "1114   23.0000   0.0000  ...              0.000922             0.004190   \n",
      "1115  124.9700  47.5180  ...              0.001891             0.002734   \n",
      "1116  152.4600  26.3015  ...              0.002023             0.002391   \n",
      "...        ...      ...  ...                   ...                  ...   \n",
      "1198  273.7600  16.6300  ...              0.002799             0.002565   \n",
      "1199   10.5500   0.0000  ...              0.000494             0.001826   \n",
      "1200  228.8800  19.7830  ...              0.002717             0.003530   \n",
      "1201  345.3400  12.1980  ...              0.001778             0.003660   \n",
      "1202  295.8850   8.5103  ...              0.002046             0.004230   \n",
      "\n",
      "      DLS_L_Acc_z_PSD_skew  DLS_L_Acc_z_PSD_kurtosis  DLS_L_Acc_norm_DAmp  \\\n",
      "1112             38.482202               2389.123896             2.052890   \n",
      "1113             65.206423               4978.423068             2.146381   \n",
      "1114             56.011452               3766.428967             1.845387   \n",
      "1115             52.247620               3675.391060             1.927382   \n",
      "1116             16.746425                635.773186             1.977378   \n",
      "...                    ...                       ...                  ...   \n",
      "1198             21.016757               1035.520523             2.158080   \n",
      "1199             62.694025               4709.090140             1.828586   \n",
      "1200             44.863545               3011.513622             2.060167   \n",
      "1201             50.851446               3526.410255             2.116010   \n",
      "1202             50.617479               3537.372605             2.408528   \n",
      "\n",
      "      DLS_L_Acc_norm_DFreq  DLS_L_Acc_norm_PSD_mean  DLS_L_Acc_norm_PSD_std  \\\n",
      "1112                     0                 0.007316                0.032864   \n",
      "1113                     0                 0.006161                0.034689   \n",
      "1114                     0                 0.004636                0.029425   \n",
      "1115                     0                 0.007808                0.030874   \n",
      "1116                     0                 0.003968                0.031868   \n",
      "...                    ...                      ...                     ...   \n",
      "1198                     0                 0.006389                0.034515   \n",
      "1199                     0                 0.002416                0.029177   \n",
      "1200                     0                 0.006468                0.033362   \n",
      "1201                     0                 0.005114                0.034451   \n",
      "1202                     0                 0.007877                0.039964   \n",
      "\n",
      "      DLS_L_Acc_norm_PSD_skew  DLS_L_Acc_norm_PSD_kurtosis  \n",
      "1112                59.051373                  3666.076679  \n",
      "1113                57.549205                  3539.524828  \n",
      "1114                59.945958                  3740.661340  \n",
      "1115                58.844791                  3649.769279  \n",
      "1116                58.170353                  3591.505741  \n",
      "...                       ...                          ...  \n",
      "1198                59.338000                  3689.188317  \n",
      "1199                60.051241                  3748.588052  \n",
      "1200                57.139260                  3507.253286  \n",
      "1201                56.391903                  3442.752988  \n",
      "1202                53.218233                  3180.778428  \n",
      "\n",
      "[91 rows x 352 columns]\n",
      "TRAIN: [ 1  2  3  4  5  6  7  8  9 10 11 12 13 14 15 16 17 18 19 20 21 22 23 24\n",
      " 25 26 27 28 29 30 31 32 33 34 35 36 37 38 39 40 41 42 43 44 45 46 47 48\n",
      " 49 50 51 52 53 54 55 56 57 58 59 60 61 62 63 64 65 66 67 68 69 70 71 72\n",
      " 73 74 75 76 77 78 79 80 81 82 83 84 85 86 87 88 89 90] TEST: [0]\n"
     ]
    },
    {
     "name": "stderr",
     "output_type": "stream",
     "text": [
      "C:\\ProgramData\\Anaconda3\\lib\\site-packages\\ipykernel_launcher.py:209: DataConversionWarning: A column-vector y was passed when a 1d array was expected. Please change the shape of y to (n_samples,), for example using ravel().\n",
      "C:\\ProgramData\\Anaconda3\\lib\\site-packages\\ipykernel_launcher.py:209: DataConversionWarning: A column-vector y was passed when a 1d array was expected. Please change the shape of y to (n_samples,), for example using ravel().\n"
     ]
    },
    {
     "name": "stdout",
     "output_type": "stream",
     "text": [
      "Mean Absolute Error: 0.5499050999999999\n",
      "RMSE: 0.5499050999999999\n",
      "MAE Percent:  73.35403055777593\n",
      "Iteration:  1\n",
      "y_pred:  [1.1449051] y_test:  [[0.595]]\n",
      "TRAIN: [ 0  2  3  4  5  6  7  8  9 10 11 12 13 14 15 16 17 18 19 20 21 22 23 24\n",
      " 25 26 27 28 29 30 31 32 33 34 35 36 37 38 39 40 41 42 43 44 45 46 47 48\n",
      " 49 50 51 52 53 54 55 56 57 58 59 60 61 62 63 64 65 66 67 68 69 70 71 72\n",
      " 73 74 75 76 77 78 79 80 81 82 83 84 85 86 87 88 89 90] TEST: [1]\n",
      "Mean Absolute Error: 1.0416334000000005\n",
      "RMSE: 1.0416334000000005\n",
      "MAE Percent:  138.9476261514943\n",
      "Iteration:  2\n",
      "y_pred:  [1.0416334] y_test:  [[0.]]\n",
      "TRAIN: [ 0  1  3  4  5  6  7  8  9 10 11 12 13 14 15 16 17 18 19 20 21 22 23 24\n",
      " 25 26 27 28 29 30 31 32 33 34 35 36 37 38 39 40 41 42 43 44 45 46 47 48\n",
      " 49 50 51 52 53 54 55 56 57 58 59 60 61 62 63 64 65 66 67 68 69 70 71 72\n",
      " 73 74 75 76 77 78 79 80 81 82 83 84 85 86 87 88 89 90] TEST: [2]\n"
     ]
    },
    {
     "name": "stderr",
     "output_type": "stream",
     "text": [
      "C:\\ProgramData\\Anaconda3\\lib\\site-packages\\ipykernel_launcher.py:209: DataConversionWarning: A column-vector y was passed when a 1d array was expected. Please change the shape of y to (n_samples,), for example using ravel().\n",
      "C:\\ProgramData\\Anaconda3\\lib\\site-packages\\ipykernel_launcher.py:209: DataConversionWarning: A column-vector y was passed when a 1d array was expected. Please change the shape of y to (n_samples,), for example using ravel().\n"
     ]
    },
    {
     "name": "stdout",
     "output_type": "stream",
     "text": [
      "Mean Absolute Error: 0.20497699999999988\n",
      "RMSE: 0.20497699999999988\n",
      "MAE Percent:  27.342698079434484\n",
      "Iteration:  3\n",
      "y_pred:  [0.204977] y_test:  [[0.]]\n",
      "TRAIN: [ 0  1  2  4  5  6  7  8  9 10 11 12 13 14 15 16 17 18 19 20 21 22 23 24\n",
      " 25 26 27 28 29 30 31 32 33 34 35 36 37 38 39 40 41 42 43 44 45 46 47 48\n",
      " 49 50 51 52 53 54 55 56 57 58 59 60 61 62 63 64 65 66 67 68 69 70 71 72\n",
      " 73 74 75 76 77 78 79 80 81 82 83 84 85 86 87 88 89 90] TEST: [3]\n",
      "Mean Absolute Error: 0.19561929999999994\n",
      "RMSE: 0.19561929999999994\n",
      "MAE Percent:  26.09443722178742\n",
      "Iteration:  4\n",
      "y_pred:  [0.5873807] y_test:  [[0.783]]\n",
      "TRAIN: [ 0  1  2  3  5  6  7  8  9 10 11 12 13 14 15 16 17 18 19 20 21 22 23 24\n",
      " 25 26 27 28 29 30 31 32 33 34 35 36 37 38 39 40 41 42 43 44 45 46 47 48\n",
      " 49 50 51 52 53 54 55 56 57 58 59 60 61 62 63 64 65 66 67 68 69 70 71 72\n",
      " 73 74 75 76 77 78 79 80 81 82 83 84 85 86 87 88 89 90] TEST: [4]\n"
     ]
    },
    {
     "name": "stderr",
     "output_type": "stream",
     "text": [
      "C:\\ProgramData\\Anaconda3\\lib\\site-packages\\ipykernel_launcher.py:209: DataConversionWarning: A column-vector y was passed when a 1d array was expected. Please change the shape of y to (n_samples,), for example using ravel().\n",
      "C:\\ProgramData\\Anaconda3\\lib\\site-packages\\ipykernel_launcher.py:209: DataConversionWarning: A column-vector y was passed when a 1d array was expected. Please change the shape of y to (n_samples,), for example using ravel().\n"
     ]
    },
    {
     "name": "stdout",
     "output_type": "stream",
     "text": [
      "Mean Absolute Error: 0.003909799999999186\n",
      "RMSE: 0.003909799999999186\n",
      "MAE Percent:  0.5215437876003198\n",
      "Iteration:  5\n",
      "y_pred:  [0.9209098] y_test:  [[0.917]]\n",
      "TRAIN: [ 0  1  2  3  4  6  7  8  9 10 11 12 13 14 15 16 17 18 19 20 21 22 23 24\n",
      " 25 26 27 28 29 30 31 32 33 34 35 36 37 38 39 40 41 42 43 44 45 46 47 48\n",
      " 49 50 51 52 53 54 55 56 57 58 59 60 61 62 63 64 65 66 67 68 69 70 71 72\n",
      " 73 74 75 76 77 78 79 80 81 82 83 84 85 86 87 88 89 90] TEST: [5]\n",
      "Mean Absolute Error: 0.0803829999999999\n",
      "RMSE: 0.0803829999999999\n",
      "MAE Percent:  10.72260838883963\n",
      "Iteration:  6\n",
      "y_pred:  [0.166783] y_test:  [[0.0864]]\n",
      "TRAIN: [ 0  1  2  3  4  5  7  8  9 10 11 12 13 14 15 16 17 18 19 20 21 22 23 24\n",
      " 25 26 27 28 29 30 31 32 33 34 35 36 37 38 39 40 41 42 43 44 45 46 47 48\n",
      " 49 50 51 52 53 54 55 56 57 58 59 60 61 62 63 64 65 66 67 68 69 70 71 72\n",
      " 73 74 75 76 77 78 79 80 81 82 83 84 85 86 87 88 89 90] TEST: [6]\n"
     ]
    },
    {
     "name": "stderr",
     "output_type": "stream",
     "text": [
      "C:\\ProgramData\\Anaconda3\\lib\\site-packages\\ipykernel_launcher.py:209: DataConversionWarning: A column-vector y was passed when a 1d array was expected. Please change the shape of y to (n_samples,), for example using ravel().\n",
      "C:\\ProgramData\\Anaconda3\\lib\\site-packages\\ipykernel_launcher.py:209: DataConversionWarning: A column-vector y was passed when a 1d array was expected. Please change the shape of y to (n_samples,), for example using ravel().\n"
     ]
    },
    {
     "name": "stdout",
     "output_type": "stream",
     "text": [
      "Mean Absolute Error: 0.27249199999999973\n",
      "RMSE: 0.27249199999999973\n",
      "MAE Percent:  36.34879271850627\n",
      "Iteration:  7\n",
      "y_pred:  [1.371492] y_test:  [[1.099]]\n",
      "TRAIN: [ 0  1  2  3  4  5  6  8  9 10 11 12 13 14 15 16 17 18 19 20 21 22 23 24\n",
      " 25 26 27 28 29 30 31 32 33 34 35 36 37 38 39 40 41 42 43 44 45 46 47 48\n",
      " 49 50 51 52 53 54 55 56 57 58 59 60 61 62 63 64 65 66 67 68 69 70 71 72\n",
      " 73 74 75 76 77 78 79 80 81 82 83 84 85 86 87 88 89 90] TEST: [7]\n",
      "Mean Absolute Error: 0.16906599999999972\n",
      "RMSE: 0.16906599999999972\n",
      "MAE Percent:  22.552386821436873\n",
      "Iteration:  8\n",
      "y_pred:  [1.336066] y_test:  [[1.167]]\n",
      "TRAIN: [ 0  1  2  3  4  5  6  7  9 10 11 12 13 14 15 16 17 18 19 20 21 22 23 24\n",
      " 25 26 27 28 29 30 31 32 33 34 35 36 37 38 39 40 41 42 43 44 45 46 47 48\n",
      " 49 50 51 52 53 54 55 56 57 58 59 60 61 62 63 64 65 66 67 68 69 70 71 72\n",
      " 73 74 75 76 77 78 79 80 81 82 83 84 85 86 87 88 89 90] TEST: [8]\n"
     ]
    },
    {
     "name": "stderr",
     "output_type": "stream",
     "text": [
      "C:\\ProgramData\\Anaconda3\\lib\\site-packages\\ipykernel_launcher.py:209: DataConversionWarning: A column-vector y was passed when a 1d array was expected. Please change the shape of y to (n_samples,), for example using ravel().\n",
      "C:\\ProgramData\\Anaconda3\\lib\\site-packages\\ipykernel_launcher.py:209: DataConversionWarning: A column-vector y was passed when a 1d array was expected. Please change the shape of y to (n_samples,), for example using ravel().\n"
     ]
    },
    {
     "name": "stdout",
     "output_type": "stream",
     "text": [
      "Mean Absolute Error: 0.15626800000000002\n",
      "RMSE: 0.15626800000000002\n",
      "MAE Percent:  20.845210650351365\n",
      "Iteration:  9\n",
      "y_pred:  [0.274232] y_test:  [[0.4305]]\n",
      "TRAIN: [ 0  1  2  3  4  5  6  7  8 10 11 12 13 14 15 16 17 18 19 20 21 22 23 24\n",
      " 25 26 27 28 29 30 31 32 33 34 35 36 37 38 39 40 41 42 43 44 45 46 47 48\n",
      " 49 50 51 52 53 54 55 56 57 58 59 60 61 62 63 64 65 66 67 68 69 70 71 72\n",
      " 73 74 75 76 77 78 79 80 81 82 83 84 85 86 87 88 89 90] TEST: [9]\n",
      "Mean Absolute Error: 0.4079138000000001\n",
      "RMSE: 0.4079138000000001\n",
      "MAE Percent:  54.413245758474524\n",
      "Iteration:  10\n",
      "y_pred:  [0.9449138] y_test:  [[0.537]]\n",
      "TRAIN: [ 0  1  2  3  4  5  6  7  8  9 11 12 13 14 15 16 17 18 19 20 21 22 23 24\n",
      " 25 26 27 28 29 30 31 32 33 34 35 36 37 38 39 40 41 42 43 44 45 46 47 48\n",
      " 49 50 51 52 53 54 55 56 57 58 59 60 61 62 63 64 65 66 67 68 69 70 71 72\n",
      " 73 74 75 76 77 78 79 80 81 82 83 84 85 86 87 88 89 90] TEST: [10]\n"
     ]
    },
    {
     "name": "stderr",
     "output_type": "stream",
     "text": [
      "C:\\ProgramData\\Anaconda3\\lib\\site-packages\\ipykernel_launcher.py:209: DataConversionWarning: A column-vector y was passed when a 1d array was expected. Please change the shape of y to (n_samples,), for example using ravel().\n",
      "C:\\ProgramData\\Anaconda3\\lib\\site-packages\\ipykernel_launcher.py:209: DataConversionWarning: A column-vector y was passed when a 1d array was expected. Please change the shape of y to (n_samples,), for example using ravel().\n"
     ]
    },
    {
     "name": "stdout",
     "output_type": "stream",
     "text": [
      "Mean Absolute Error: 0.05688099999999986\n",
      "RMSE: 0.05688099999999986\n",
      "MAE Percent:  7.587583043250268\n",
      "Iteration:  11\n",
      "y_pred:  [0.159881] y_test:  [[0.103]]\n",
      "TRAIN: [ 0  1  2  3  4  5  6  7  8  9 10 12 13 14 15 16 17 18 19 20 21 22 23 24\n",
      " 25 26 27 28 29 30 31 32 33 34 35 36 37 38 39 40 41 42 43 44 45 46 47 48\n",
      " 49 50 51 52 53 54 55 56 57 58 59 60 61 62 63 64 65 66 67 68 69 70 71 72\n",
      " 73 74 75 76 77 78 79 80 81 82 83 84 85 86 87 88 89 90] TEST: [11]\n",
      "Mean Absolute Error: 0.03011199999999903\n",
      "RMSE: 0.03011199999999903\n",
      "MAE Percent:  4.0167595611600575\n",
      "Iteration:  12\n",
      "y_pred:  [1.040888] y_test:  [[1.071]]\n",
      "TRAIN: [ 0  1  2  3  4  5  6  7  8  9 10 11 13 14 15 16 17 18 19 20 21 22 23 24\n",
      " 25 26 27 28 29 30 31 32 33 34 35 36 37 38 39 40 41 42 43 44 45 46 47 48\n",
      " 49 50 51 52 53 54 55 56 57 58 59 60 61 62 63 64 65 66 67 68 69 70 71 72\n",
      " 73 74 75 76 77 78 79 80 81 82 83 84 85 86 87 88 89 90] TEST: [12]\n"
     ]
    },
    {
     "name": "stderr",
     "output_type": "stream",
     "text": [
      "C:\\ProgramData\\Anaconda3\\lib\\site-packages\\ipykernel_launcher.py:209: DataConversionWarning: A column-vector y was passed when a 1d array was expected. Please change the shape of y to (n_samples,), for example using ravel().\n",
      "C:\\ProgramData\\Anaconda3\\lib\\site-packages\\ipykernel_launcher.py:209: DataConversionWarning: A column-vector y was passed when a 1d array was expected. Please change the shape of y to (n_samples,), for example using ravel().\n"
     ]
    },
    {
     "name": "stdout",
     "output_type": "stream",
     "text": [
      "Mean Absolute Error: 0.05037800000000048\n",
      "RMSE: 0.05037800000000048\n",
      "MAE Percent:  6.720121983665312\n",
      "Iteration:  13\n",
      "y_pred:  [1.280378] y_test:  [[1.23]]\n",
      "TRAIN: [ 0  1  2  3  4  5  6  7  8  9 10 11 12 14 15 16 17 18 19 20 21 22 23 24\n",
      " 25 26 27 28 29 30 31 32 33 34 35 36 37 38 39 40 41 42 43 44 45 46 47 48\n",
      " 49 50 51 52 53 54 55 56 57 58 59 60 61 62 63 64 65 66 67 68 69 70 71 72\n",
      " 73 74 75 76 77 78 79 80 81 82 83 84 85 86 87 88 89 90] TEST: [13]\n",
      "Mean Absolute Error: 0.020155000000000034\n",
      "RMSE: 0.020155000000000034\n",
      "MAE Percent:  2.688555690594571\n",
      "Iteration:  14\n",
      "y_pred:  [0.995845] y_test:  [[1.016]]\n",
      "TRAIN: [ 0  1  2  3  4  5  6  7  8  9 10 11 12 13 15 16 17 18 19 20 21 22 23 24\n",
      " 25 26 27 28 29 30 31 32 33 34 35 36 37 38 39 40 41 42 43 44 45 46 47 48\n",
      " 49 50 51 52 53 54 55 56 57 58 59 60 61 62 63 64 65 66 67 68 69 70 71 72\n",
      " 73 74 75 76 77 78 79 80 81 82 83 84 85 86 87 88 89 90] TEST: [14]\n"
     ]
    },
    {
     "name": "stderr",
     "output_type": "stream",
     "text": [
      "C:\\ProgramData\\Anaconda3\\lib\\site-packages\\ipykernel_launcher.py:209: DataConversionWarning: A column-vector y was passed when a 1d array was expected. Please change the shape of y to (n_samples,), for example using ravel().\n",
      "C:\\ProgramData\\Anaconda3\\lib\\site-packages\\ipykernel_launcher.py:209: DataConversionWarning: A column-vector y was passed when a 1d array was expected. Please change the shape of y to (n_samples,), for example using ravel().\n"
     ]
    },
    {
     "name": "stdout",
     "output_type": "stream",
     "text": [
      "Mean Absolute Error: 0.08572700000000016\n",
      "RMSE: 0.08572700000000016\n",
      "MAE Percent:  11.435465824242165\n",
      "Iteration:  15\n",
      "y_pred:  [0.240273] y_test:  [[0.326]]\n",
      "TRAIN: [ 0  1  2  3  4  5  6  7  8  9 10 11 12 13 14 16 17 18 19 20 21 22 23 24\n",
      " 25 26 27 28 29 30 31 32 33 34 35 36 37 38 39 40 41 42 43 44 45 46 47 48\n",
      " 49 50 51 52 53 54 55 56 57 58 59 60 61 62 63 64 65 66 67 68 69 70 71 72\n",
      " 73 74 75 76 77 78 79 80 81 82 83 84 85 86 87 88 89 90] TEST: [15]\n",
      "Mean Absolute Error: 0.33179769999999875\n",
      "RMSE: 0.33179769999999875\n",
      "MAE Percent:  44.25981614791294\n",
      "Iteration:  16\n",
      "y_pred:  [1.5127977] y_test:  [[1.181]]\n",
      "TRAIN: [ 0  1  2  3  4  5  6  7  8  9 10 11 12 13 14 15 17 18 19 20 21 22 23 24\n",
      " 25 26 27 28 29 30 31 32 33 34 35 36 37 38 39 40 41 42 43 44 45 46 47 48\n",
      " 49 50 51 52 53 54 55 56 57 58 59 60 61 62 63 64 65 66 67 68 69 70 71 72\n",
      " 73 74 75 76 77 78 79 80 81 82 83 84 85 86 87 88 89 90] TEST: [16]\n"
     ]
    },
    {
     "name": "stderr",
     "output_type": "stream",
     "text": [
      "C:\\ProgramData\\Anaconda3\\lib\\site-packages\\ipykernel_launcher.py:209: DataConversionWarning: A column-vector y was passed when a 1d array was expected. Please change the shape of y to (n_samples,), for example using ravel().\n",
      "C:\\ProgramData\\Anaconda3\\lib\\site-packages\\ipykernel_launcher.py:209: DataConversionWarning: A column-vector y was passed when a 1d array was expected. Please change the shape of y to (n_samples,), for example using ravel().\n"
     ]
    },
    {
     "name": "stdout",
     "output_type": "stream",
     "text": [
      "Mean Absolute Error: 0.11519399999999996\n",
      "RMSE: 0.11519399999999996\n",
      "MAE Percent:  15.366186267544052\n",
      "Iteration:  17\n",
      "y_pred:  [0.115194] y_test:  [[0.]]\n",
      "TRAIN: [ 0  1  2  3  4  5  6  7  8  9 10 11 12 13 14 15 16 18 19 20 21 22 23 24\n",
      " 25 26 27 28 29 30 31 32 33 34 35 36 37 38 39 40 41 42 43 44 45 46 47 48\n",
      " 49 50 51 52 53 54 55 56 57 58 59 60 61 62 63 64 65 66 67 68 69 70 71 72\n",
      " 73 74 75 76 77 78 79 80 81 82 83 84 85 86 87 88 89 90] TEST: [17]\n",
      "Mean Absolute Error: 0.42261679999999985\n",
      "RMSE: 0.42261679999999985\n",
      "MAE Percent:  56.37453746369959\n",
      "Iteration:  18\n",
      "y_pred:  [0.6306168] y_test:  [[0.208]]\n",
      "TRAIN: [ 0  1  2  3  4  5  6  7  8  9 10 11 12 13 14 15 16 17 19 20 21 22 23 24\n",
      " 25 26 27 28 29 30 31 32 33 34 35 36 37 38 39 40 41 42 43 44 45 46 47 48\n",
      " 49 50 51 52 53 54 55 56 57 58 59 60 61 62 63 64 65 66 67 68 69 70 71 72\n",
      " 73 74 75 76 77 78 79 80 81 82 83 84 85 86 87 88 89 90] TEST: [18]\n"
     ]
    },
    {
     "name": "stderr",
     "output_type": "stream",
     "text": [
      "C:\\ProgramData\\Anaconda3\\lib\\site-packages\\ipykernel_launcher.py:209: DataConversionWarning: A column-vector y was passed when a 1d array was expected. Please change the shape of y to (n_samples,), for example using ravel().\n",
      "C:\\ProgramData\\Anaconda3\\lib\\site-packages\\ipykernel_launcher.py:209: DataConversionWarning: A column-vector y was passed when a 1d array was expected. Please change the shape of y to (n_samples,), for example using ravel().\n"
     ]
    },
    {
     "name": "stdout",
     "output_type": "stream",
     "text": [
      "Mean Absolute Error: 0.16458499999999993\n",
      "RMSE: 0.16458499999999993\n",
      "MAE Percent:  21.95464839178896\n",
      "Iteration:  19\n",
      "y_pred:  [0.164585] y_test:  [[0.]]\n",
      "TRAIN: [ 0  1  2  3  4  5  6  7  8  9 10 11 12 13 14 15 16 17 18 20 21 22 23 24\n",
      " 25 26 27 28 29 30 31 32 33 34 35 36 37 38 39 40 41 42 43 44 45 46 47 48\n",
      " 49 50 51 52 53 54 55 56 57 58 59 60 61 62 63 64 65 66 67 68 69 70 71 72\n",
      " 73 74 75 76 77 78 79 80 81 82 83 84 85 86 87 88 89 90] TEST: [19]\n",
      "Mean Absolute Error: 0.07263799999999931\n",
      "RMSE: 0.07263799999999931\n",
      "MAE Percent:  9.689472004634396\n",
      "Iteration:  20\n",
      "y_pred:  [1.619638] y_test:  [[1.547]]\n",
      "TRAIN: [ 0  1  2  3  4  5  6  7  8  9 10 11 12 13 14 15 16 17 18 19 21 22 23 24\n",
      " 25 26 27 28 29 30 31 32 33 34 35 36 37 38 39 40 41 42 43 44 45 46 47 48\n",
      " 49 50 51 52 53 54 55 56 57 58 59 60 61 62 63 64 65 66 67 68 69 70 71 72\n",
      " 73 74 75 76 77 78 79 80 81 82 83 84 85 86 87 88 89 90] TEST: [20]\n"
     ]
    },
    {
     "name": "stderr",
     "output_type": "stream",
     "text": [
      "C:\\ProgramData\\Anaconda3\\lib\\site-packages\\ipykernel_launcher.py:209: DataConversionWarning: A column-vector y was passed when a 1d array was expected. Please change the shape of y to (n_samples,), for example using ravel().\n",
      "C:\\ProgramData\\Anaconda3\\lib\\site-packages\\ipykernel_launcher.py:209: DataConversionWarning: A column-vector y was passed when a 1d array was expected. Please change the shape of y to (n_samples,), for example using ravel().\n"
     ]
    },
    {
     "name": "stdout",
     "output_type": "stream",
     "text": [
      "Mean Absolute Error: 0.5304010000000001\n",
      "RMSE: 0.5304010000000001\n",
      "MAE Percent:  70.7523010095286\n",
      "Iteration:  21\n",
      "y_pred:  [0.140599] y_test:  [[0.671]]\n",
      "TRAIN: [ 0  1  2  3  4  5  6  7  8  9 10 11 12 13 14 15 16 17 18 19 20 22 23 24\n",
      " 25 26 27 28 29 30 31 32 33 34 35 36 37 38 39 40 41 42 43 44 45 46 47 48\n",
      " 49 50 51 52 53 54 55 56 57 58 59 60 61 62 63 64 65 66 67 68 69 70 71 72\n",
      " 73 74 75 76 77 78 79 80 81 82 83 84 85 86 87 88 89 90] TEST: [21]\n",
      "Mean Absolute Error: 0.02024869999999998\n",
      "RMSE: 0.02024869999999998\n",
      "MAE Percent:  2.7010547066307193\n",
      "Iteration:  22\n",
      "y_pred:  [0.1862487] y_test:  [[0.166]]\n",
      "TRAIN: [ 0  1  2  3  4  5  6  7  8  9 10 11 12 13 14 15 16 17 18 19 20 21 23 24\n",
      " 25 26 27 28 29 30 31 32 33 34 35 36 37 38 39 40 41 42 43 44 45 46 47 48\n",
      " 49 50 51 52 53 54 55 56 57 58 59 60 61 62 63 64 65 66 67 68 69 70 71 72\n",
      " 73 74 75 76 77 78 79 80 81 82 83 84 85 86 87 88 89 90] TEST: [22]\n"
     ]
    },
    {
     "name": "stderr",
     "output_type": "stream",
     "text": [
      "C:\\ProgramData\\Anaconda3\\lib\\site-packages\\ipykernel_launcher.py:209: DataConversionWarning: A column-vector y was passed when a 1d array was expected. Please change the shape of y to (n_samples,), for example using ravel().\n",
      "C:\\ProgramData\\Anaconda3\\lib\\site-packages\\ipykernel_launcher.py:209: DataConversionWarning: A column-vector y was passed when a 1d array was expected. Please change the shape of y to (n_samples,), for example using ravel().\n"
     ]
    },
    {
     "name": "stdout",
     "output_type": "stream",
     "text": [
      "Mean Absolute Error: 0.018488000000000504\n",
      "RMSE: 0.018488000000000504\n",
      "MAE Percent:  2.4661879239748794\n",
      "Iteration:  23\n",
      "y_pred:  [0.988488] y_test:  [[0.97]]\n",
      "TRAIN: [ 0  1  2  3  4  5  6  7  8  9 10 11 12 13 14 15 16 17 18 19 20 21 22 24\n",
      " 25 26 27 28 29 30 31 32 33 34 35 36 37 38 39 40 41 42 43 44 45 46 47 48\n",
      " 49 50 51 52 53 54 55 56 57 58 59 60 61 62 63 64 65 66 67 68 69 70 71 72\n",
      " 73 74 75 76 77 78 79 80 81 82 83 84 85 86 87 88 89 90] TEST: [23]\n",
      "Mean Absolute Error: 0.11662499999999991\n",
      "RMSE: 0.11662499999999991\n",
      "MAE Percent:  15.557073054606352\n",
      "Iteration:  24\n",
      "y_pred:  [0.116625] y_test:  [[0.]]\n",
      "TRAIN: [ 0  1  2  3  4  5  6  7  8  9 10 11 12 13 14 15 16 17 18 19 20 21 22 23\n",
      " 25 26 27 28 29 30 31 32 33 34 35 36 37 38 39 40 41 42 43 44 45 46 47 48\n",
      " 49 50 51 52 53 54 55 56 57 58 59 60 61 62 63 64 65 66 67 68 69 70 71 72\n",
      " 73 74 75 76 77 78 79 80 81 82 83 84 85 86 87 88 89 90] TEST: [24]\n"
     ]
    },
    {
     "name": "stderr",
     "output_type": "stream",
     "text": [
      "C:\\ProgramData\\Anaconda3\\lib\\site-packages\\ipykernel_launcher.py:209: DataConversionWarning: A column-vector y was passed when a 1d array was expected. Please change the shape of y to (n_samples,), for example using ravel().\n",
      "C:\\ProgramData\\Anaconda3\\lib\\site-packages\\ipykernel_launcher.py:209: DataConversionWarning: A column-vector y was passed when a 1d array was expected. Please change the shape of y to (n_samples,), for example using ravel().\n"
     ]
    },
    {
     "name": "stdout",
     "output_type": "stream",
     "text": [
      "Mean Absolute Error: 0.036781000000000286\n",
      "RMSE: 0.036781000000000286\n",
      "MAE Percent:  4.906364021620417\n",
      "Iteration:  25\n",
      "y_pred:  [0.159219] y_test:  [[0.196]]\n",
      "TRAIN: [ 0  1  2  3  4  5  6  7  8  9 10 11 12 13 14 15 16 17 18 19 20 21 22 23\n",
      " 24 26 27 28 29 30 31 32 33 34 35 36 37 38 39 40 41 42 43 44 45 46 47 48\n",
      " 49 50 51 52 53 54 55 56 57 58 59 60 61 62 63 64 65 66 67 68 69 70 71 72\n",
      " 73 74 75 76 77 78 79 80 81 82 83 84 85 86 87 88 89 90] TEST: [25]\n",
      "Mean Absolute Error: 0.028402200000000044\n",
      "RMSE: 0.028402200000000044\n",
      "MAE Percent:  3.7886825321461233\n",
      "Iteration:  26\n",
      "y_pred:  [0.9355978] y_test:  [[0.964]]\n",
      "TRAIN: [ 0  1  2  3  4  5  6  7  8  9 10 11 12 13 14 15 16 17 18 19 20 21 22 23\n",
      " 24 25 27 28 29 30 31 32 33 34 35 36 37 38 39 40 41 42 43 44 45 46 47 48\n",
      " 49 50 51 52 53 54 55 56 57 58 59 60 61 62 63 64 65 66 67 68 69 70 71 72\n",
      " 73 74 75 76 77 78 79 80 81 82 83 84 85 86 87 88 89 90] TEST: [26]\n"
     ]
    },
    {
     "name": "stderr",
     "output_type": "stream",
     "text": [
      "C:\\ProgramData\\Anaconda3\\lib\\site-packages\\ipykernel_launcher.py:209: DataConversionWarning: A column-vector y was passed when a 1d array was expected. Please change the shape of y to (n_samples,), for example using ravel().\n",
      "C:\\ProgramData\\Anaconda3\\lib\\site-packages\\ipykernel_launcher.py:209: DataConversionWarning: A column-vector y was passed when a 1d array was expected. Please change the shape of y to (n_samples,), for example using ravel().\n"
     ]
    },
    {
     "name": "stdout",
     "output_type": "stream",
     "text": [
      "Mean Absolute Error: 0.1080799999999999\n",
      "RMSE: 0.1080799999999999\n",
      "MAE Percent:  14.417221485460702\n",
      "Iteration:  27\n",
      "y_pred:  [0.36308] y_test:  [[0.255]]\n",
      "TRAIN: [ 0  1  2  3  4  5  6  7  8  9 10 11 12 13 14 15 16 17 18 19 20 21 22 23\n",
      " 24 25 26 28 29 30 31 32 33 34 35 36 37 38 39 40 41 42 43 44 45 46 47 48\n",
      " 49 50 51 52 53 54 55 56 57 58 59 60 61 62 63 64 65 66 67 68 69 70 71 72\n",
      " 73 74 75 76 77 78 79 80 81 82 83 84 85 86 87 88 89 90] TEST: [27]\n",
      "Mean Absolute Error: 0.14028000000000018\n",
      "RMSE: 0.14028000000000018\n",
      "MAE Percent:  18.712507679315614\n",
      "Iteration:  28\n",
      "y_pred:  [0.92828] y_test:  [[0.788]]\n",
      "TRAIN: [ 0  1  2  3  4  5  6  7  8  9 10 11 12 13 14 15 16 17 18 19 20 21 22 23\n",
      " 24 25 26 27 29 30 31 32 33 34 35 36 37 38 39 40 41 42 43 44 45 46 47 48\n",
      " 49 50 51 52 53 54 55 56 57 58 59 60 61 62 63 64 65 66 67 68 69 70 71 72\n",
      " 73 74 75 76 77 78 79 80 81 82 83 84 85 86 87 88 89 90] TEST: [28]\n"
     ]
    },
    {
     "name": "stderr",
     "output_type": "stream",
     "text": [
      "C:\\ProgramData\\Anaconda3\\lib\\site-packages\\ipykernel_launcher.py:209: DataConversionWarning: A column-vector y was passed when a 1d array was expected. Please change the shape of y to (n_samples,), for example using ravel().\n",
      "C:\\ProgramData\\Anaconda3\\lib\\site-packages\\ipykernel_launcher.py:209: DataConversionWarning: A column-vector y was passed when a 1d array was expected. Please change the shape of y to (n_samples,), for example using ravel().\n"
     ]
    },
    {
     "name": "stdout",
     "output_type": "stream",
     "text": [
      "Mean Absolute Error: 0.19975600000000016\n",
      "RMSE: 0.19975600000000016\n",
      "MAE Percent:  26.646248103716623\n",
      "Iteration:  29\n",
      "y_pred:  [0.460244] y_test:  [[0.66]]\n",
      "TRAIN: [ 0  1  2  3  4  5  6  7  8  9 10 11 12 13 14 15 16 17 18 19 20 21 22 23\n",
      " 24 25 26 27 28 30 31 32 33 34 35 36 37 38 39 40 41 42 43 44 45 46 47 48\n",
      " 49 50 51 52 53 54 55 56 57 58 59 60 61 62 63 64 65 66 67 68 69 70 71 72\n",
      " 73 74 75 76 77 78 79 80 81 82 83 84 85 86 87 88 89 90] TEST: [29]\n",
      "Mean Absolute Error: 0.04158799999999907\n",
      "RMSE: 0.04158799999999907\n",
      "MAE Percent:  5.547588889131448\n",
      "Iteration:  30\n",
      "y_pred:  [1.476588] y_test:  [[1.435]]\n",
      "TRAIN: [ 0  1  2  3  4  5  6  7  8  9 10 11 12 13 14 15 16 17 18 19 20 21 22 23\n",
      " 24 25 26 27 28 29 31 32 33 34 35 36 37 38 39 40 41 42 43 44 45 46 47 48\n",
      " 49 50 51 52 53 54 55 56 57 58 59 60 61 62 63 64 65 66 67 68 69 70 71 72\n",
      " 73 74 75 76 77 78 79 80 81 82 83 84 85 86 87 88 89 90] TEST: [30]\n"
     ]
    },
    {
     "name": "stderr",
     "output_type": "stream",
     "text": [
      "C:\\ProgramData\\Anaconda3\\lib\\site-packages\\ipykernel_launcher.py:209: DataConversionWarning: A column-vector y was passed when a 1d array was expected. Please change the shape of y to (n_samples,), for example using ravel().\n",
      "C:\\ProgramData\\Anaconda3\\lib\\site-packages\\ipykernel_launcher.py:209: DataConversionWarning: A column-vector y was passed when a 1d array was expected. Please change the shape of y to (n_samples,), for example using ravel().\n"
     ]
    },
    {
     "name": "stdout",
     "output_type": "stream",
     "text": [
      "Mean Absolute Error: 0.31252080000000004\n",
      "RMSE: 0.31252080000000004\n",
      "MAE Percent:  41.68839371218886\n",
      "Iteration:  31\n",
      "y_pred:  [0.7964792] y_test:  [[1.109]]\n",
      "TRAIN: [ 0  1  2  3  4  5  6  7  8  9 10 11 12 13 14 15 16 17 18 19 20 21 22 23\n",
      " 24 25 26 27 28 29 30 32 33 34 35 36 37 38 39 40 41 42 43 44 45 46 47 48\n",
      " 49 50 51 52 53 54 55 56 57 58 59 60 61 62 63 64 65 66 67 68 69 70 71 72\n",
      " 73 74 75 76 77 78 79 80 81 82 83 84 85 86 87 88 89 90] TEST: [31]\n",
      "Mean Absolute Error: 0.5502218999999997\n",
      "RMSE: 0.5502218999999997\n",
      "MAE Percent:  73.39628977101233\n",
      "Iteration:  32\n",
      "y_pred:  [0.8497781] y_test:  [[1.4]]\n",
      "TRAIN: [ 0  1  2  3  4  5  6  7  8  9 10 11 12 13 14 15 16 17 18 19 20 21 22 23\n",
      " 24 25 26 27 28 29 30 31 33 34 35 36 37 38 39 40 41 42 43 44 45 46 47 48\n",
      " 49 50 51 52 53 54 55 56 57 58 59 60 61 62 63 64 65 66 67 68 69 70 71 72\n",
      " 73 74 75 76 77 78 79 80 81 82 83 84 85 86 87 88 89 90] TEST: [32]\n"
     ]
    },
    {
     "name": "stderr",
     "output_type": "stream",
     "text": [
      "C:\\ProgramData\\Anaconda3\\lib\\site-packages\\ipykernel_launcher.py:209: DataConversionWarning: A column-vector y was passed when a 1d array was expected. Please change the shape of y to (n_samples,), for example using ravel().\n",
      "C:\\ProgramData\\Anaconda3\\lib\\site-packages\\ipykernel_launcher.py:209: DataConversionWarning: A column-vector y was passed when a 1d array was expected. Please change the shape of y to (n_samples,), for example using ravel().\n"
     ]
    },
    {
     "name": "stdout",
     "output_type": "stream",
     "text": [
      "Mean Absolute Error: 0.6861780000000002\n",
      "RMSE: 0.6861780000000002\n",
      "MAE Percent:  91.53201521512274\n",
      "Iteration:  33\n",
      "y_pred:  [1.485822] y_test:  [[2.172]]\n",
      "TRAIN: [ 0  1  2  3  4  5  6  7  8  9 10 11 12 13 14 15 16 17 18 19 20 21 22 23\n",
      " 24 25 26 27 28 29 30 31 32 34 35 36 37 38 39 40 41 42 43 44 45 46 47 48\n",
      " 49 50 51 52 53 54 55 56 57 58 59 60 61 62 63 64 65 66 67 68 69 70 71 72\n",
      " 73 74 75 76 77 78 79 80 81 82 83 84 85 86 87 88 89 90] TEST: [33]\n",
      "Mean Absolute Error: 0.19066460000000052\n",
      "RMSE: 0.19066460000000052\n",
      "MAE Percent:  25.433510063256666\n",
      "Iteration:  34\n",
      "y_pred:  [0.7343354] y_test:  [[0.925]]\n",
      "TRAIN: [ 0  1  2  3  4  5  6  7  8  9 10 11 12 13 14 15 16 17 18 19 20 21 22 23\n",
      " 24 25 26 27 28 29 30 31 32 33 35 36 37 38 39 40 41 42 43 44 45 46 47 48\n",
      " 49 50 51 52 53 54 55 56 57 58 59 60 61 62 63 64 65 66 67 68 69 70 71 72\n",
      " 73 74 75 76 77 78 79 80 81 82 83 84 85 86 87 88 89 90] TEST: [34]\n"
     ]
    },
    {
     "name": "stderr",
     "output_type": "stream",
     "text": [
      "C:\\ProgramData\\Anaconda3\\lib\\site-packages\\ipykernel_launcher.py:209: DataConversionWarning: A column-vector y was passed when a 1d array was expected. Please change the shape of y to (n_samples,), for example using ravel().\n",
      "C:\\ProgramData\\Anaconda3\\lib\\site-packages\\ipykernel_launcher.py:209: DataConversionWarning: A column-vector y was passed when a 1d array was expected. Please change the shape of y to (n_samples,), for example using ravel().\n"
     ]
    },
    {
     "name": "stdout",
     "output_type": "stream",
     "text": [
      "Mean Absolute Error: 0.14984300000000003\n",
      "RMSE: 0.14984300000000003\n",
      "MAE Percent:  19.988154321298023\n",
      "Iteration:  35\n",
      "y_pred:  [0.295843] y_test:  [[0.146]]\n",
      "TRAIN: [ 0  1  2  3  4  5  6  7  8  9 10 11 12 13 14 15 16 17 18 19 20 21 22 23\n",
      " 24 25 26 27 28 29 30 31 32 33 34 36 37 38 39 40 41 42 43 44 45 46 47 48\n",
      " 49 50 51 52 53 54 55 56 57 58 59 60 61 62 63 64 65 66 67 68 69 70 71 72\n",
      " 73 74 75 76 77 78 79 80 81 82 83 84 85 86 87 88 89 90] TEST: [35]\n",
      "Mean Absolute Error: 0.016639999999999905\n",
      "RMSE: 0.016639999999999905\n",
      "MAE Percent:  2.2196758467622586\n",
      "Iteration:  36\n",
      "y_pred:  [0.15314] y_test:  [[0.1365]]\n",
      "TRAIN: [ 0  1  2  3  4  5  6  7  8  9 10 11 12 13 14 15 16 17 18 19 20 21 22 23\n",
      " 24 25 26 27 28 29 30 31 32 33 34 35 37 38 39 40 41 42 43 44 45 46 47 48\n",
      " 49 50 51 52 53 54 55 56 57 58 59 60 61 62 63 64 65 66 67 68 69 70 71 72\n",
      " 73 74 75 76 77 78 79 80 81 82 83 84 85 86 87 88 89 90] TEST: [36]\n"
     ]
    },
    {
     "name": "stderr",
     "output_type": "stream",
     "text": [
      "C:\\ProgramData\\Anaconda3\\lib\\site-packages\\ipykernel_launcher.py:209: DataConversionWarning: A column-vector y was passed when a 1d array was expected. Please change the shape of y to (n_samples,), for example using ravel().\n",
      "C:\\ProgramData\\Anaconda3\\lib\\site-packages\\ipykernel_launcher.py:209: DataConversionWarning: A column-vector y was passed when a 1d array was expected. Please change the shape of y to (n_samples,), for example using ravel().\n"
     ]
    },
    {
     "name": "stdout",
     "output_type": "stream",
     "text": [
      "Mean Absolute Error: 0.21103399999999983\n",
      "RMSE: 0.21103399999999983\n",
      "MAE Percent:  28.150665423415195\n",
      "Iteration:  37\n",
      "y_pred:  [0.474834] y_test:  [[0.2638]]\n",
      "TRAIN: [ 0  1  2  3  4  5  6  7  8  9 10 11 12 13 14 15 16 17 18 19 20 21 22 23\n",
      " 24 25 26 27 28 29 30 31 32 33 34 35 36 38 39 40 41 42 43 44 45 46 47 48\n",
      " 49 50 51 52 53 54 55 56 57 58 59 60 61 62 63 64 65 66 67 68 69 70 71 72\n",
      " 73 74 75 76 77 78 79 80 81 82 83 84 85 86 87 88 89 90] TEST: [37]\n",
      "Mean Absolute Error: 0.015579999999999844\n",
      "RMSE: 0.015579999999999844\n",
      "MAE Percent:  2.078278226716096\n",
      "Iteration:  38\n",
      "y_pred:  [0.17518] y_test:  [[0.1596]]\n",
      "TRAIN: [ 0  1  2  3  4  5  6  7  8  9 10 11 12 13 14 15 16 17 18 19 20 21 22 23\n",
      " 24 25 26 27 28 29 30 31 32 33 34 35 36 37 39 40 41 42 43 44 45 46 47 48\n",
      " 49 50 51 52 53 54 55 56 57 58 59 60 61 62 63 64 65 66 67 68 69 70 71 72\n",
      " 73 74 75 76 77 78 79 80 81 82 83 84 85 86 87 88 89 90] TEST: [38]\n"
     ]
    },
    {
     "name": "stderr",
     "output_type": "stream",
     "text": [
      "C:\\ProgramData\\Anaconda3\\lib\\site-packages\\ipykernel_launcher.py:209: DataConversionWarning: A column-vector y was passed when a 1d array was expected. Please change the shape of y to (n_samples,), for example using ravel().\n",
      "C:\\ProgramData\\Anaconda3\\lib\\site-packages\\ipykernel_launcher.py:209: DataConversionWarning: A column-vector y was passed when a 1d array was expected. Please change the shape of y to (n_samples,), for example using ravel().\n"
     ]
    },
    {
     "name": "stdout",
     "output_type": "stream",
     "text": [
      "Mean Absolute Error: 0.04488669999999961\n",
      "RMSE: 0.04488669999999961\n",
      "MAE Percent:  5.987615614835528\n",
      "Iteration:  39\n",
      "y_pred:  [0.7018867] y_test:  [[0.657]]\n",
      "TRAIN: [ 0  1  2  3  4  5  6  7  8  9 10 11 12 13 14 15 16 17 18 19 20 21 22 23\n",
      " 24 25 26 27 28 29 30 31 32 33 34 35 36 37 38 40 41 42 43 44 45 46 47 48\n",
      " 49 50 51 52 53 54 55 56 57 58 59 60 61 62 63 64 65 66 67 68 69 70 71 72\n",
      " 73 74 75 76 77 78 79 80 81 82 83 84 85 86 87 88 89 90] TEST: [39]\n",
      "Mean Absolute Error: 0.16346829999999946\n",
      "RMSE: 0.16346829999999946\n",
      "MAE Percent:  21.805687333010084\n",
      "Iteration:  40\n",
      "y_pred:  [1.1765317] y_test:  [[1.34]]\n",
      "TRAIN: [ 0  1  2  3  4  5  6  7  8  9 10 11 12 13 14 15 16 17 18 19 20 21 22 23\n",
      " 24 25 26 27 28 29 30 31 32 33 34 35 36 37 38 39 41 42 43 44 45 46 47 48\n",
      " 49 50 51 52 53 54 55 56 57 58 59 60 61 62 63 64 65 66 67 68 69 70 71 72\n",
      " 73 74 75 76 77 78 79 80 81 82 83 84 85 86 87 88 89 90] TEST: [40]\n"
     ]
    },
    {
     "name": "stderr",
     "output_type": "stream",
     "text": [
      "C:\\ProgramData\\Anaconda3\\lib\\site-packages\\ipykernel_launcher.py:209: DataConversionWarning: A column-vector y was passed when a 1d array was expected. Please change the shape of y to (n_samples,), for example using ravel().\n",
      "C:\\ProgramData\\Anaconda3\\lib\\site-packages\\ipykernel_launcher.py:209: DataConversionWarning: A column-vector y was passed when a 1d array was expected. Please change the shape of y to (n_samples,), for example using ravel().\n"
     ]
    },
    {
     "name": "stdout",
     "output_type": "stream",
     "text": [
      "Mean Absolute Error: 0.28680300000000003\n",
      "RMSE: 0.28680300000000003\n",
      "MAE Percent:  38.25779398311057\n",
      "Iteration:  41\n",
      "y_pred:  [1.263803] y_test:  [[0.977]]\n",
      "TRAIN: [ 0  1  2  3  4  5  6  7  8  9 10 11 12 13 14 15 16 17 18 19 20 21 22 23\n",
      " 24 25 26 27 28 29 30 31 32 33 34 35 36 37 38 39 40 42 43 44 45 46 47 48\n",
      " 49 50 51 52 53 54 55 56 57 58 59 60 61 62 63 64 65 66 67 68 69 70 71 72\n",
      " 73 74 75 76 77 78 79 80 81 82 83 84 85 86 87 88 89 90] TEST: [41]\n",
      "Mean Absolute Error: 0.1834161000000002\n",
      "RMSE: 0.1834161000000002\n",
      "MAE Percent:  24.466603790705165\n",
      "Iteration:  42\n",
      "y_pred:  [0.4994161] y_test:  [[0.316]]\n",
      "TRAIN: [ 0  1  2  3  4  5  6  7  8  9 10 11 12 13 14 15 16 17 18 19 20 21 22 23\n",
      " 24 25 26 27 28 29 30 31 32 33 34 35 36 37 38 39 40 41 43 44 45 46 47 48\n",
      " 49 50 51 52 53 54 55 56 57 58 59 60 61 62 63 64 65 66 67 68 69 70 71 72\n",
      " 73 74 75 76 77 78 79 80 81 82 83 84 85 86 87 88 89 90] TEST: [42]\n"
     ]
    },
    {
     "name": "stderr",
     "output_type": "stream",
     "text": [
      "C:\\ProgramData\\Anaconda3\\lib\\site-packages\\ipykernel_launcher.py:209: DataConversionWarning: A column-vector y was passed when a 1d array was expected. Please change the shape of y to (n_samples,), for example using ravel().\n",
      "C:\\ProgramData\\Anaconda3\\lib\\site-packages\\ipykernel_launcher.py:209: DataConversionWarning: A column-vector y was passed when a 1d array was expected. Please change the shape of y to (n_samples,), for example using ravel().\n"
     ]
    },
    {
     "name": "stdout",
     "output_type": "stream",
     "text": [
      "Mean Absolute Error: 0.810619\n",
      "RMSE: 0.810619\n",
      "MAE Percent:  108.1316956265977\n",
      "Iteration:  43\n",
      "y_pred:  [0.317381] y_test:  [[1.128]]\n",
      "TRAIN: [ 0  1  2  3  4  5  6  7  8  9 10 11 12 13 14 15 16 17 18 19 20 21 22 23\n",
      " 24 25 26 27 28 29 30 31 32 33 34 35 36 37 38 39 40 41 42 44 45 46 47 48\n",
      " 49 50 51 52 53 54 55 56 57 58 59 60 61 62 63 64 65 66 67 68 69 70 71 72\n",
      " 73 74 75 76 77 78 79 80 81 82 83 84 85 86 87 88 89 90] TEST: [43]\n",
      "Mean Absolute Error: 0.07259749999999965\n",
      "RMSE: 0.07259749999999965\n",
      "MAE Percent:  9.68406954839683\n",
      "Iteration:  44\n",
      "y_pred:  [0.7754025] y_test:  [[0.848]]\n",
      "TRAIN: [ 0  1  2  3  4  5  6  7  8  9 10 11 12 13 14 15 16 17 18 19 20 21 22 23\n",
      " 24 25 26 27 28 29 30 31 32 33 34 35 36 37 38 39 40 41 42 43 45 46 47 48\n",
      " 49 50 51 52 53 54 55 56 57 58 59 60 61 62 63 64 65 66 67 68 69 70 71 72\n",
      " 73 74 75 76 77 78 79 80 81 82 83 84 85 86 87 88 89 90] TEST: [44]\n"
     ]
    },
    {
     "name": "stderr",
     "output_type": "stream",
     "text": [
      "C:\\ProgramData\\Anaconda3\\lib\\site-packages\\ipykernel_launcher.py:209: DataConversionWarning: A column-vector y was passed when a 1d array was expected. Please change the shape of y to (n_samples,), for example using ravel().\n",
      "C:\\ProgramData\\Anaconda3\\lib\\site-packages\\ipykernel_launcher.py:209: DataConversionWarning: A column-vector y was passed when a 1d array was expected. Please change the shape of y to (n_samples,), for example using ravel().\n"
     ]
    },
    {
     "name": "stdout",
     "output_type": "stream",
     "text": [
      "Mean Absolute Error: 0.04030590000000034\n",
      "RMSE: 0.04030590000000034\n",
      "MAE Percent:  5.376564465866358\n",
      "Iteration:  45\n",
      "y_pred:  [0.9516941] y_test:  [[0.992]]\n",
      "TRAIN: [ 0  1  2  3  4  5  6  7  8  9 10 11 12 13 14 15 16 17 18 19 20 21 22 23\n",
      " 24 25 26 27 28 29 30 31 32 33 34 35 36 37 38 39 40 41 42 43 44 46 47 48\n",
      " 49 50 51 52 53 54 55 56 57 58 59 60 61 62 63 64 65 66 67 68 69 70 71 72\n",
      " 73 74 75 76 77 78 79 80 81 82 83 84 85 86 87 88 89 90] TEST: [45]\n",
      "Mean Absolute Error: 0.027109999999999412\n",
      "RMSE: 0.027109999999999412\n",
      "MAE Percent:  3.616310829670906\n",
      "Iteration:  46\n",
      "y_pred:  [0.68286] y_test:  [[0.70997]]\n",
      "TRAIN: [ 0  1  2  3  4  5  6  7  8  9 10 11 12 13 14 15 16 17 18 19 20 21 22 23\n",
      " 24 25 26 27 28 29 30 31 32 33 34 35 36 37 38 39 40 41 42 43 44 45 47 48\n",
      " 49 50 51 52 53 54 55 56 57 58 59 60 61 62 63 64 65 66 67 68 69 70 71 72\n",
      " 73 74 75 76 77 78 79 80 81 82 83 84 85 86 87 88 89 90] TEST: [46]\n"
     ]
    },
    {
     "name": "stderr",
     "output_type": "stream",
     "text": [
      "C:\\ProgramData\\Anaconda3\\lib\\site-packages\\ipykernel_launcher.py:209: DataConversionWarning: A column-vector y was passed when a 1d array was expected. Please change the shape of y to (n_samples,), for example using ravel().\n",
      "C:\\ProgramData\\Anaconda3\\lib\\site-packages\\ipykernel_launcher.py:209: DataConversionWarning: A column-vector y was passed when a 1d array was expected. Please change the shape of y to (n_samples,), for example using ravel().\n"
     ]
    },
    {
     "name": "stdout",
     "output_type": "stream",
     "text": [
      "Mean Absolute Error: 0.010951699999999898\n",
      "RMSE: 0.010951699999999898\n",
      "MAE Percent:  1.460890863640994\n",
      "Iteration:  47\n",
      "y_pred:  [0.9279517] y_test:  [[0.917]]\n",
      "TRAIN: [ 0  1  2  3  4  5  6  7  8  9 10 11 12 13 14 15 16 17 18 19 20 21 22 23\n",
      " 24 25 26 27 28 29 30 31 32 33 34 35 36 37 38 39 40 41 42 43 44 45 46 48\n",
      " 49 50 51 52 53 54 55 56 57 58 59 60 61 62 63 64 65 66 67 68 69 70 71 72\n",
      " 73 74 75 76 77 78 79 80 81 82 83 84 85 86 87 88 89 90] TEST: [47]\n",
      "Mean Absolute Error: 0.151623\n",
      "RMSE: 0.151623\n",
      "MAE Percent:  20.22559560779062\n",
      "Iteration:  48\n",
      "y_pred:  [0.283623] y_test:  [[0.132]]\n",
      "TRAIN: [ 0  1  2  3  4  5  6  7  8  9 10 11 12 13 14 15 16 17 18 19 20 21 22 23\n",
      " 24 25 26 27 28 29 30 31 32 33 34 35 36 37 38 39 40 41 42 43 44 45 46 47\n",
      " 49 50 51 52 53 54 55 56 57 58 59 60 61 62 63 64 65 66 67 68 69 70 71 72\n",
      " 73 74 75 76 77 78 79 80 81 82 83 84 85 86 87 88 89 90] TEST: [48]\n"
     ]
    },
    {
     "name": "stderr",
     "output_type": "stream",
     "text": [
      "C:\\ProgramData\\Anaconda3\\lib\\site-packages\\ipykernel_launcher.py:209: DataConversionWarning: A column-vector y was passed when a 1d array was expected. Please change the shape of y to (n_samples,), for example using ravel().\n",
      "C:\\ProgramData\\Anaconda3\\lib\\site-packages\\ipykernel_launcher.py:209: DataConversionWarning: A column-vector y was passed when a 1d array was expected. Please change the shape of y to (n_samples,), for example using ravel().\n"
     ]
    },
    {
     "name": "stdout",
     "output_type": "stream",
     "text": [
      "Mean Absolute Error: 0.45736\n",
      "RMSE: 0.45736\n",
      "MAE Percent:  61.009071230480316\n",
      "Iteration:  49\n",
      "y_pred:  [1.69636] y_test:  [[1.239]]\n",
      "TRAIN: [ 0  1  2  3  4  5  6  7  8  9 10 11 12 13 14 15 16 17 18 19 20 21 22 23\n",
      " 24 25 26 27 28 29 30 31 32 33 34 35 36 37 38 39 40 41 42 43 44 45 46 47\n",
      " 48 50 51 52 53 54 55 56 57 58 59 60 61 62 63 64 65 66 67 68 69 70 71 72\n",
      " 73 74 75 76 77 78 79 80 81 82 83 84 85 86 87 88 89 90] TEST: [49]\n",
      "Mean Absolute Error: 0.7712659999999982\n",
      "RMSE: 0.7712659999999982\n",
      "MAE Percent:  102.8822422853934\n",
      "Iteration:  50\n",
      "y_pred:  [1.655266] y_test:  [[0.884]]\n",
      "TRAIN: [ 0  1  2  3  4  5  6  7  8  9 10 11 12 13 14 15 16 17 18 19 20 21 22 23\n",
      " 24 25 26 27 28 29 30 31 32 33 34 35 36 37 38 39 40 41 42 43 44 45 46 47\n",
      " 48 49 51 52 53 54 55 56 57 58 59 60 61 62 63 64 65 66 67 68 69 70 71 72\n",
      " 73 74 75 76 77 78 79 80 81 82 83 84 85 86 87 88 89 90] TEST: [50]\n"
     ]
    },
    {
     "name": "stderr",
     "output_type": "stream",
     "text": [
      "C:\\ProgramData\\Anaconda3\\lib\\site-packages\\ipykernel_launcher.py:209: DataConversionWarning: A column-vector y was passed when a 1d array was expected. Please change the shape of y to (n_samples,), for example using ravel().\n",
      "C:\\ProgramData\\Anaconda3\\lib\\site-packages\\ipykernel_launcher.py:209: DataConversionWarning: A column-vector y was passed when a 1d array was expected. Please change the shape of y to (n_samples,), for example using ravel().\n"
     ]
    },
    {
     "name": "stdout",
     "output_type": "stream",
     "text": [
      "Mean Absolute Error: 0.19461600000000145\n",
      "RMSE: 0.19461600000000145\n",
      "MAE Percent:  25.96060304047413\n",
      "Iteration:  51\n",
      "y_pred:  [1.476384] y_test:  [[1.671]]\n",
      "TRAIN: [ 0  1  2  3  4  5  6  7  8  9 10 11 12 13 14 15 16 17 18 19 20 21 22 23\n",
      " 24 25 26 27 28 29 30 31 32 33 34 35 36 37 38 39 40 41 42 43 44 45 46 47\n",
      " 48 49 50 52 53 54 55 56 57 58 59 60 61 62 63 64 65 66 67 68 69 70 71 72\n",
      " 73 74 75 76 77 78 79 80 81 82 83 84 85 86 87 88 89 90] TEST: [51]\n",
      "Mean Absolute Error: 0.6227410999999998\n",
      "RMSE: 0.6227410999999998\n",
      "MAE Percent:  83.06991457068318\n",
      "Iteration:  52\n",
      "y_pred:  [1.1067411] y_test:  [[0.484]]\n",
      "TRAIN: [ 0  1  2  3  4  5  6  7  8  9 10 11 12 13 14 15 16 17 18 19 20 21 22 23\n",
      " 24 25 26 27 28 29 30 31 32 33 34 35 36 37 38 39 40 41 42 43 44 45 46 47\n",
      " 48 49 50 51 53 54 55 56 57 58 59 60 61 62 63 64 65 66 67 68 69 70 71 72\n",
      " 73 74 75 76 77 78 79 80 81 82 83 84 85 86 87 88 89 90] TEST: [52]\n"
     ]
    },
    {
     "name": "stderr",
     "output_type": "stream",
     "text": [
      "C:\\ProgramData\\Anaconda3\\lib\\site-packages\\ipykernel_launcher.py:209: DataConversionWarning: A column-vector y was passed when a 1d array was expected. Please change the shape of y to (n_samples,), for example using ravel().\n",
      "C:\\ProgramData\\Anaconda3\\lib\\site-packages\\ipykernel_launcher.py:209: DataConversionWarning: A column-vector y was passed when a 1d array was expected. Please change the shape of y to (n_samples,), for example using ravel().\n"
     ]
    },
    {
     "name": "stdout",
     "output_type": "stream",
     "text": [
      "Mean Absolute Error: 0.07112800000000011\n",
      "RMSE: 0.07112800000000011\n",
      "MAE Percent:  9.48804709305932\n",
      "Iteration:  53\n",
      "y_pred:  [0.221928] y_test:  [[0.1508]]\n",
      "TRAIN: [ 0  1  2  3  4  5  6  7  8  9 10 11 12 13 14 15 16 17 18 19 20 21 22 23\n",
      " 24 25 26 27 28 29 30 31 32 33 34 35 36 37 38 39 40 41 42 43 44 45 46 47\n",
      " 48 49 50 51 52 54 55 56 57 58 59 60 61 62 63 64 65 66 67 68 69 70 71 72\n",
      " 73 74 75 76 77 78 79 80 81 82 83 84 85 86 87 88 89 90] TEST: [53]\n",
      "Mean Absolute Error: 0.7942300000000007\n",
      "RMSE: 0.7942300000000007\n",
      "MAE Percent:  105.94550166911061\n",
      "Iteration:  54\n",
      "y_pred:  [1.78803] y_test:  [[0.9938]]\n",
      "TRAIN: [ 0  1  2  3  4  5  6  7  8  9 10 11 12 13 14 15 16 17 18 19 20 21 22 23\n",
      " 24 25 26 27 28 29 30 31 32 33 34 35 36 37 38 39 40 41 42 43 44 45 46 47\n",
      " 48 49 50 51 52 53 55 56 57 58 59 60 61 62 63 64 65 66 67 68 69 70 71 72\n",
      " 73 74 75 76 77 78 79 80 81 82 83 84 85 86 87 88 89 90] TEST: [54]\n"
     ]
    },
    {
     "name": "stderr",
     "output_type": "stream",
     "text": [
      "C:\\ProgramData\\Anaconda3\\lib\\site-packages\\ipykernel_launcher.py:209: DataConversionWarning: A column-vector y was passed when a 1d array was expected. Please change the shape of y to (n_samples,), for example using ravel().\n",
      "C:\\ProgramData\\Anaconda3\\lib\\site-packages\\ipykernel_launcher.py:209: DataConversionWarning: A column-vector y was passed when a 1d array was expected. Please change the shape of y to (n_samples,), for example using ravel().\n"
     ]
    },
    {
     "name": "stdout",
     "output_type": "stream",
     "text": [
      "Mean Absolute Error: 0.08445800000000059\n",
      "RMSE: 0.08445800000000059\n",
      "MAE Percent:  11.266188862130361\n",
      "Iteration:  55\n",
      "y_pred:  [1.314458] y_test:  [[1.23]]\n",
      "TRAIN: [ 0  1  2  3  4  5  6  7  8  9 10 11 12 13 14 15 16 17 18 19 20 21 22 23\n",
      " 24 25 26 27 28 29 30 31 32 33 34 35 36 37 38 39 40 41 42 43 44 45 46 47\n",
      " 48 49 50 51 52 53 54 56 57 58 59 60 61 62 63 64 65 66 67 68 69 70 71 72\n",
      " 73 74 75 76 77 78 79 80 81 82 83 84 85 86 87 88 89 90] TEST: [55]\n",
      "Mean Absolute Error: 0.4085659999999999\n",
      "RMSE: 0.4085659999999999\n",
      "MAE Percent:  54.50024531299723\n",
      "Iteration:  56\n",
      "y_pred:  [1.330566] y_test:  [[0.922]]\n",
      "TRAIN: [ 0  1  2  3  4  5  6  7  8  9 10 11 12 13 14 15 16 17 18 19 20 21 22 23\n",
      " 24 25 26 27 28 29 30 31 32 33 34 35 36 37 38 39 40 41 42 43 44 45 46 47\n",
      " 48 49 50 51 52 53 54 55 57 58 59 60 61 62 63 64 65 66 67 68 69 70 71 72\n",
      " 73 74 75 76 77 78 79 80 81 82 83 84 85 86 87 88 89 90] TEST: [56]\n"
     ]
    },
    {
     "name": "stderr",
     "output_type": "stream",
     "text": [
      "C:\\ProgramData\\Anaconda3\\lib\\site-packages\\ipykernel_launcher.py:209: DataConversionWarning: A column-vector y was passed when a 1d array was expected. Please change the shape of y to (n_samples,), for example using ravel().\n",
      "C:\\ProgramData\\Anaconda3\\lib\\site-packages\\ipykernel_launcher.py:209: DataConversionWarning: A column-vector y was passed when a 1d array was expected. Please change the shape of y to (n_samples,), for example using ravel().\n"
     ]
    },
    {
     "name": "stdout",
     "output_type": "stream",
     "text": [
      "Mean Absolute Error: 0.09801200000000018\n",
      "RMSE: 0.09801200000000018\n",
      "MAE Percent:  13.074210882984625\n",
      "Iteration:  57\n",
      "y_pred:  [0.227988] y_test:  [[0.326]]\n",
      "TRAIN: [ 0  1  2  3  4  5  6  7  8  9 10 11 12 13 14 15 16 17 18 19 20 21 22 23\n",
      " 24 25 26 27 28 29 30 31 32 33 34 35 36 37 38 39 40 41 42 43 44 45 46 47\n",
      " 48 49 50 51 52 53 54 55 56 58 59 60 61 62 63 64 65 66 67 68 69 70 71 72\n",
      " 73 74 75 76 77 78 79 80 81 82 83 84 85 86 87 88 89 90] TEST: [57]\n",
      "Mean Absolute Error: 0.2436560000000001\n",
      "RMSE: 0.2436560000000001\n",
      "MAE Percent:  32.502243877326215\n",
      "Iteration:  58\n",
      "y_pred:  [1.609656] y_test:  [[1.366]]\n",
      "TRAIN: [ 0  1  2  3  4  5  6  7  8  9 10 11 12 13 14 15 16 17 18 19 20 21 22 23\n",
      " 24 25 26 27 28 29 30 31 32 33 34 35 36 37 38 39 40 41 42 43 44 45 46 47\n",
      " 48 49 50 51 52 53 54 55 56 57 59 60 61 62 63 64 65 66 67 68 69 70 71 72\n",
      " 73 74 75 76 77 78 79 80 81 82 83 84 85 86 87 88 89 90] TEST: [58]\n"
     ]
    },
    {
     "name": "stderr",
     "output_type": "stream",
     "text": [
      "C:\\ProgramData\\Anaconda3\\lib\\site-packages\\ipykernel_launcher.py:209: DataConversionWarning: A column-vector y was passed when a 1d array was expected. Please change the shape of y to (n_samples,), for example using ravel().\n",
      "C:\\ProgramData\\Anaconda3\\lib\\site-packages\\ipykernel_launcher.py:209: DataConversionWarning: A column-vector y was passed when a 1d array was expected. Please change the shape of y to (n_samples,), for example using ravel().\n"
     ]
    },
    {
     "name": "stdout",
     "output_type": "stream",
     "text": [
      "Mean Absolute Error: 0.09322799999999999\n",
      "RMSE: 0.09322799999999999\n",
      "MAE Percent:  12.436054077040447\n",
      "Iteration:  59\n",
      "y_pred:  [0.093228] y_test:  [[0.]]\n",
      "TRAIN: [ 0  1  2  3  4  5  6  7  8  9 10 11 12 13 14 15 16 17 18 19 20 21 22 23\n",
      " 24 25 26 27 28 29 30 31 32 33 34 35 36 37 38 39 40 41 42 43 44 45 46 47\n",
      " 48 49 50 51 52 53 54 55 56 57 58 60 61 62 63 64 65 66 67 68 69 70 71 72\n",
      " 73 74 75 76 77 78 79 80 81 82 83 84 85 86 87 88 89 90] TEST: [59]\n",
      "Mean Absolute Error: 0.6333246999999997\n",
      "RMSE: 0.6333246999999997\n",
      "MAE Percent:  84.48170310985343\n",
      "Iteration:  60\n",
      "y_pred:  [1.2053247] y_test:  [[0.572]]\n",
      "TRAIN: [ 0  1  2  3  4  5  6  7  8  9 10 11 12 13 14 15 16 17 18 19 20 21 22 23\n",
      " 24 25 26 27 28 29 30 31 32 33 34 35 36 37 38 39 40 41 42 43 44 45 46 47\n",
      " 48 49 50 51 52 53 54 55 56 57 58 59 61 62 63 64 65 66 67 68 69 70 71 72\n",
      " 73 74 75 76 77 78 79 80 81 82 83 84 85 86 87 88 89 90] TEST: [60]\n"
     ]
    },
    {
     "name": "stderr",
     "output_type": "stream",
     "text": [
      "C:\\ProgramData\\Anaconda3\\lib\\site-packages\\ipykernel_launcher.py:209: DataConversionWarning: A column-vector y was passed when a 1d array was expected. Please change the shape of y to (n_samples,), for example using ravel().\n",
      "C:\\ProgramData\\Anaconda3\\lib\\site-packages\\ipykernel_launcher.py:209: DataConversionWarning: A column-vector y was passed when a 1d array was expected. Please change the shape of y to (n_samples,), for example using ravel().\n"
     ]
    },
    {
     "name": "stdout",
     "output_type": "stream",
     "text": [
      "Mean Absolute Error: 0.3251837000000002\n",
      "RMSE: 0.3251837000000002\n",
      "MAE Percent:  43.3775483564176\n",
      "Iteration:  61\n",
      "y_pred:  [0.7061837] y_test:  [[0.381]]\n",
      "TRAIN: [ 0  1  2  3  4  5  6  7  8  9 10 11 12 13 14 15 16 17 18 19 20 21 22 23\n",
      " 24 25 26 27 28 29 30 31 32 33 34 35 36 37 38 39 40 41 42 43 44 45 46 47\n",
      " 48 49 50 51 52 53 54 55 56 57 58 59 60 62 63 64 65 66 67 68 69 70 71 72\n",
      " 73 74 75 76 77 78 79 80 81 82 83 84 85 86 87 88 89 90] TEST: [61]\n",
      "Mean Absolute Error: 0.036276999999999976\n",
      "RMSE: 0.036276999999999976\n",
      "MAE Percent:  4.839133455107865\n",
      "Iteration:  62\n",
      "y_pred:  [0.161277] y_test:  [[0.125]]\n",
      "TRAIN: [ 0  1  2  3  4  5  6  7  8  9 10 11 12 13 14 15 16 17 18 19 20 21 22 23\n",
      " 24 25 26 27 28 29 30 31 32 33 34 35 36 37 38 39 40 41 42 43 44 45 46 47\n",
      " 48 49 50 51 52 53 54 55 56 57 58 59 60 61 63 64 65 66 67 68 69 70 71 72\n",
      " 73 74 75 76 77 78 79 80 81 82 83 84 85 86 87 88 89 90] TEST: [62]\n"
     ]
    },
    {
     "name": "stderr",
     "output_type": "stream",
     "text": [
      "C:\\ProgramData\\Anaconda3\\lib\\site-packages\\ipykernel_launcher.py:209: DataConversionWarning: A column-vector y was passed when a 1d array was expected. Please change the shape of y to (n_samples,), for example using ravel().\n",
      "C:\\ProgramData\\Anaconda3\\lib\\site-packages\\ipykernel_launcher.py:209: DataConversionWarning: A column-vector y was passed when a 1d array was expected. Please change the shape of y to (n_samples,), for example using ravel().\n"
     ]
    },
    {
     "name": "stdout",
     "output_type": "stream",
     "text": [
      "Mean Absolute Error: 0.7206749999999995\n",
      "RMSE: 0.7206749999999995\n",
      "MAE Percent:  96.13370738373791\n",
      "Iteration:  63\n",
      "y_pred:  [1.300325] y_test:  [[2.021]]\n",
      "TRAIN: [ 0  1  2  3  4  5  6  7  8  9 10 11 12 13 14 15 16 17 18 19 20 21 22 23\n",
      " 24 25 26 27 28 29 30 31 32 33 34 35 36 37 38 39 40 41 42 43 44 45 46 47\n",
      " 48 49 50 51 52 53 54 55 56 57 58 59 60 61 62 64 65 66 67 68 69 70 71 72\n",
      " 73 74 75 76 77 78 79 80 81 82 83 84 85 86 87 88 89 90] TEST: [63]\n",
      "Mean Absolute Error: 0.7736242000000004\n",
      "RMSE: 0.7736242000000004\n",
      "MAE Percent:  103.19681197180203\n",
      "Iteration:  64\n",
      "y_pred:  [0.4933758] y_test:  [[1.267]]\n",
      "TRAIN: [ 0  1  2  3  4  5  6  7  8  9 10 11 12 13 14 15 16 17 18 19 20 21 22 23\n",
      " 24 25 26 27 28 29 30 31 32 33 34 35 36 37 38 39 40 41 42 43 44 45 46 47\n",
      " 48 49 50 51 52 53 54 55 56 57 58 59 60 61 62 63 65 66 67 68 69 70 71 72\n",
      " 73 74 75 76 77 78 79 80 81 82 83 84 85 86 87 88 89 90] TEST: [64]\n"
     ]
    },
    {
     "name": "stderr",
     "output_type": "stream",
     "text": [
      "C:\\ProgramData\\Anaconda3\\lib\\site-packages\\ipykernel_launcher.py:209: DataConversionWarning: A column-vector y was passed when a 1d array was expected. Please change the shape of y to (n_samples,), for example using ravel().\n",
      "C:\\ProgramData\\Anaconda3\\lib\\site-packages\\ipykernel_launcher.py:209: DataConversionWarning: A column-vector y was passed when a 1d array was expected. Please change the shape of y to (n_samples,), for example using ravel().\n"
     ]
    },
    {
     "name": "stdout",
     "output_type": "stream",
     "text": [
      "Mean Absolute Error: 0.10708720000000038\n",
      "RMSE: 0.10708720000000038\n",
      "MAE Percent:  14.284787940949615\n",
      "Iteration:  65\n",
      "y_pred:  [0.5836128] y_test:  [[0.6907]]\n",
      "TRAIN: [ 0  1  2  3  4  5  6  7  8  9 10 11 12 13 14 15 16 17 18 19 20 21 22 23\n",
      " 24 25 26 27 28 29 30 31 32 33 34 35 36 37 38 39 40 41 42 43 44 45 46 47\n",
      " 48 49 50 51 52 53 54 55 56 57 58 59 60 61 62 63 64 66 67 68 69 70 71 72\n",
      " 73 74 75 76 77 78 79 80 81 82 83 84 85 86 87 88 89 90] TEST: [65]\n",
      "Mean Absolute Error: 0.005744299999999591\n",
      "RMSE: 0.005744299999999591\n",
      "MAE Percent:  0.7662550460670439\n",
      "Iteration:  66\n",
      "y_pred:  [0.9349557] y_test:  [[0.9407]]\n",
      "TRAIN: [ 0  1  2  3  4  5  6  7  8  9 10 11 12 13 14 15 16 17 18 19 20 21 22 23\n",
      " 24 25 26 27 28 29 30 31 32 33 34 35 36 37 38 39 40 41 42 43 44 45 46 47\n",
      " 48 49 50 51 52 53 54 55 56 57 58 59 60 61 62 63 64 65 67 68 69 70 71 72\n",
      " 73 74 75 76 77 78 79 80 81 82 83 84 85 86 87 88 89 90] TEST: [66]\n"
     ]
    },
    {
     "name": "stderr",
     "output_type": "stream",
     "text": [
      "C:\\ProgramData\\Anaconda3\\lib\\site-packages\\ipykernel_launcher.py:209: DataConversionWarning: A column-vector y was passed when a 1d array was expected. Please change the shape of y to (n_samples,), for example using ravel().\n",
      "C:\\ProgramData\\Anaconda3\\lib\\site-packages\\ipykernel_launcher.py:209: DataConversionWarning: A column-vector y was passed when a 1d array was expected. Please change the shape of y to (n_samples,), for example using ravel().\n"
     ]
    },
    {
     "name": "stdout",
     "output_type": "stream",
     "text": [
      "Mean Absolute Error: 0.018210000000000004\n",
      "RMSE: 0.018210000000000004\n",
      "MAE Percent:  2.429104397207991\n",
      "Iteration:  67\n",
      "y_pred:  [0.08039] y_test:  [[0.0986]]\n",
      "TRAIN: [ 0  1  2  3  4  5  6  7  8  9 10 11 12 13 14 15 16 17 18 19 20 21 22 23\n",
      " 24 25 26 27 28 29 30 31 32 33 34 35 36 37 38 39 40 41 42 43 44 45 46 47\n",
      " 48 49 50 51 52 53 54 55 56 57 58 59 60 61 62 63 64 65 66 68 69 70 71 72\n",
      " 73 74 75 76 77 78 79 80 81 82 83 84 85 86 87 88 89 90] TEST: [67]\n",
      "Mean Absolute Error: 0.14636700000000002\n",
      "RMSE: 0.14636700000000002\n",
      "MAE Percent:  19.524476842731577\n",
      "Iteration:  68\n",
      "y_pred:  [0.146367] y_test:  [[0.]]\n",
      "TRAIN: [ 0  1  2  3  4  5  6  7  8  9 10 11 12 13 14 15 16 17 18 19 20 21 22 23\n",
      " 24 25 26 27 28 29 30 31 32 33 34 35 36 37 38 39 40 41 42 43 44 45 46 47\n",
      " 48 49 50 51 52 53 54 55 56 57 58 59 60 61 62 63 64 65 66 67 69 70 71 72\n",
      " 73 74 75 76 77 78 79 80 81 82 83 84 85 86 87 88 89 90] TEST: [68]\n"
     ]
    },
    {
     "name": "stderr",
     "output_type": "stream",
     "text": [
      "C:\\ProgramData\\Anaconda3\\lib\\site-packages\\ipykernel_launcher.py:209: DataConversionWarning: A column-vector y was passed when a 1d array was expected. Please change the shape of y to (n_samples,), for example using ravel().\n",
      "C:\\ProgramData\\Anaconda3\\lib\\site-packages\\ipykernel_launcher.py:209: DataConversionWarning: A column-vector y was passed when a 1d array was expected. Please change the shape of y to (n_samples,), for example using ravel().\n"
     ]
    },
    {
     "name": "stdout",
     "output_type": "stream",
     "text": [
      "Mean Absolute Error: 0.0377130000000003\n",
      "RMSE: 0.0377130000000003\n",
      "MAE Percent:  5.030687212076095\n",
      "Iteration:  69\n",
      "y_pred:  [0.158287] y_test:  [[0.196]]\n",
      "TRAIN: [ 0  1  2  3  4  5  6  7  8  9 10 11 12 13 14 15 16 17 18 19 20 21 22 23\n",
      " 24 25 26 27 28 29 30 31 32 33 34 35 36 37 38 39 40 41 42 43 44 45 46 47\n",
      " 48 49 50 51 52 53 54 55 56 57 58 59 60 61 62 63 64 65 66 67 68 70 71 72\n",
      " 73 74 75 76 77 78 79 80 81 82 83 84 85 86 87 88 89 90] TEST: [69]\n",
      "Mean Absolute Error: 0.1889542999999999\n",
      "RMSE: 0.1889542999999999\n",
      "MAE Percent:  25.205366337251927\n",
      "Iteration:  70\n",
      "y_pred:  [0.7360457] y_test:  [[0.925]]\n",
      "TRAIN: [ 0  1  2  3  4  5  6  7  8  9 10 11 12 13 14 15 16 17 18 19 20 21 22 23\n",
      " 24 25 26 27 28 29 30 31 32 33 34 35 36 37 38 39 40 41 42 43 44 45 46 47\n",
      " 48 49 50 51 52 53 54 55 56 57 58 59 60 61 62 63 64 65 66 67 68 69 71 72\n",
      " 73 74 75 76 77 78 79 80 81 82 83 84 85 86 87 88 89 90] TEST: [70]\n"
     ]
    },
    {
     "name": "stderr",
     "output_type": "stream",
     "text": [
      "C:\\ProgramData\\Anaconda3\\lib\\site-packages\\ipykernel_launcher.py:209: DataConversionWarning: A column-vector y was passed when a 1d array was expected. Please change the shape of y to (n_samples,), for example using ravel().\n",
      "C:\\ProgramData\\Anaconda3\\lib\\site-packages\\ipykernel_launcher.py:209: DataConversionWarning: A column-vector y was passed when a 1d array was expected. Please change the shape of y to (n_samples,), for example using ravel().\n"
     ]
    },
    {
     "name": "stdout",
     "output_type": "stream",
     "text": [
      "Mean Absolute Error: 0.0500412999999999\n",
      "RMSE: 0.0500412999999999\n",
      "MAE Percent:  6.675208230203404\n",
      "Iteration:  71\n",
      "y_pred:  [0.2939587] y_test:  [[0.344]]\n",
      "TRAIN: [ 0  1  2  3  4  5  6  7  8  9 10 11 12 13 14 15 16 17 18 19 20 21 22 23\n",
      " 24 25 26 27 28 29 30 31 32 33 34 35 36 37 38 39 40 41 42 43 44 45 46 47\n",
      " 48 49 50 51 52 53 54 55 56 57 58 59 60 61 62 63 64 65 66 67 68 69 70 72\n",
      " 73 74 75 76 77 78 79 80 81 82 83 84 85 86 87 88 89 90] TEST: [71]\n",
      "Mean Absolute Error: 0.05235799999999996\n",
      "RMSE: 0.05235799999999996\n",
      "MAE Percent:  6.984242066392963\n",
      "Iteration:  72\n",
      "y_pred:  [0.203642] y_test:  [[0.256]]\n",
      "TRAIN: [ 0  1  2  3  4  5  6  7  8  9 10 11 12 13 14 15 16 17 18 19 20 21 22 23\n",
      " 24 25 26 27 28 29 30 31 32 33 34 35 36 37 38 39 40 41 42 43 44 45 46 47\n",
      " 48 49 50 51 52 53 54 55 56 57 58 59 60 61 62 63 64 65 66 67 68 69 70 71\n",
      " 73 74 75 76 77 78 79 80 81 82 83 84 85 86 87 88 89 90] TEST: [72]\n"
     ]
    },
    {
     "name": "stderr",
     "output_type": "stream",
     "text": [
      "C:\\ProgramData\\Anaconda3\\lib\\site-packages\\ipykernel_launcher.py:209: DataConversionWarning: A column-vector y was passed when a 1d array was expected. Please change the shape of y to (n_samples,), for example using ravel().\n",
      "C:\\ProgramData\\Anaconda3\\lib\\site-packages\\ipykernel_launcher.py:209: DataConversionWarning: A column-vector y was passed when a 1d array was expected. Please change the shape of y to (n_samples,), for example using ravel().\n"
     ]
    },
    {
     "name": "stdout",
     "output_type": "stream",
     "text": [
      "Mean Absolute Error: 0.13324799999999948\n",
      "RMSE: 0.13324799999999948\n",
      "MAE Percent:  17.77448120368858\n",
      "Iteration:  73\n",
      "y_pred:  [0.902948] y_test:  [[0.7697]]\n",
      "TRAIN: [ 0  1  2  3  4  5  6  7  8  9 10 11 12 13 14 15 16 17 18 19 20 21 22 23\n",
      " 24 25 26 27 28 29 30 31 32 33 34 35 36 37 38 39 40 41 42 43 44 45 46 47\n",
      " 48 49 50 51 52 53 54 55 56 57 58 59 60 61 62 63 64 65 66 67 68 69 70 71\n",
      " 72 74 75 76 77 78 79 80 81 82 83 84 85 86 87 88 89 90] TEST: [73]\n",
      "Mean Absolute Error: 0.10721099999999972\n",
      "RMSE: 0.10721099999999972\n",
      "MAE Percent:  14.301302115819068\n",
      "Iteration:  74\n",
      "y_pred:  [1.056211] y_test:  [[0.949]]\n",
      "TRAIN: [ 0  1  2  3  4  5  6  7  8  9 10 11 12 13 14 15 16 17 18 19 20 21 22 23\n",
      " 24 25 26 27 28 29 30 31 32 33 34 35 36 37 38 39 40 41 42 43 44 45 46 47\n",
      " 48 49 50 51 52 53 54 55 56 57 58 59 60 61 62 63 64 65 66 67 68 69 70 71\n",
      " 72 73 75 76 77 78 79 80 81 82 83 84 85 86 87 88 89 90] TEST: [74]\n"
     ]
    },
    {
     "name": "stderr",
     "output_type": "stream",
     "text": [
      "C:\\ProgramData\\Anaconda3\\lib\\site-packages\\ipykernel_launcher.py:209: DataConversionWarning: A column-vector y was passed when a 1d array was expected. Please change the shape of y to (n_samples,), for example using ravel().\n",
      "C:\\ProgramData\\Anaconda3\\lib\\site-packages\\ipykernel_launcher.py:209: DataConversionWarning: A column-vector y was passed when a 1d array was expected. Please change the shape of y to (n_samples,), for example using ravel().\n"
     ]
    },
    {
     "name": "stdout",
     "output_type": "stream",
     "text": [
      "Mean Absolute Error: 0.542544000000001\n",
      "RMSE: 0.542544000000001\n",
      "MAE Percent:  72.37210412294424\n",
      "Iteration:  75\n",
      "y_pred:  [1.477456] y_test:  [[2.02]]\n",
      "TRAIN: [ 0  1  2  3  4  5  6  7  8  9 10 11 12 13 14 15 16 17 18 19 20 21 22 23\n",
      " 24 25 26 27 28 29 30 31 32 33 34 35 36 37 38 39 40 41 42 43 44 45 46 47\n",
      " 48 49 50 51 52 53 54 55 56 57 58 59 60 61 62 63 64 65 66 67 68 69 70 71\n",
      " 72 73 74 76 77 78 79 80 81 82 83 84 85 86 87 88 89 90] TEST: [75]\n",
      "Mean Absolute Error: 0.11791280000000026\n",
      "RMSE: 0.11791280000000026\n",
      "MAE Percent:  15.72885782356436\n",
      "Iteration:  76\n",
      "y_pred:  [0.6649128] y_test:  [[0.547]]\n",
      "TRAIN: [ 0  1  2  3  4  5  6  7  8  9 10 11 12 13 14 15 16 17 18 19 20 21 22 23\n",
      " 24 25 26 27 28 29 30 31 32 33 34 35 36 37 38 39 40 41 42 43 44 45 46 47\n",
      " 48 49 50 51 52 53 54 55 56 57 58 59 60 61 62 63 64 65 66 67 68 69 70 71\n",
      " 72 73 74 75 77 78 79 80 81 82 83 84 85 86 87 88 89 90] TEST: [76]\n"
     ]
    },
    {
     "name": "stderr",
     "output_type": "stream",
     "text": [
      "C:\\ProgramData\\Anaconda3\\lib\\site-packages\\ipykernel_launcher.py:209: DataConversionWarning: A column-vector y was passed when a 1d array was expected. Please change the shape of y to (n_samples,), for example using ravel().\n",
      "C:\\ProgramData\\Anaconda3\\lib\\site-packages\\ipykernel_launcher.py:209: DataConversionWarning: A column-vector y was passed when a 1d array was expected. Please change the shape of y to (n_samples,), for example using ravel().\n"
     ]
    },
    {
     "name": "stdout",
     "output_type": "stream",
     "text": [
      "Mean Absolute Error: 0.13499399999999984\n",
      "RMSE: 0.13499399999999984\n",
      "MAE Percent:  18.007387094821254\n",
      "Iteration:  77\n",
      "y_pred:  [1.175006] y_test:  [[1.31]]\n",
      "TRAIN: [ 0  1  2  3  4  5  6  7  8  9 10 11 12 13 14 15 16 17 18 19 20 21 22 23\n",
      " 24 25 26 27 28 29 30 31 32 33 34 35 36 37 38 39 40 41 42 43 44 45 46 47\n",
      " 48 49 50 51 52 53 54 55 56 57 58 59 60 61 62 63 64 65 66 67 68 69 70 71\n",
      " 72 73 74 75 76 78 79 80 81 82 83 84 85 86 87 88 89 90] TEST: [77]\n",
      "Mean Absolute Error: 0.177041\n",
      "RMSE: 0.177041\n",
      "MAE Percent:  23.61620382131246\n",
      "Iteration:  78\n",
      "y_pred:  [0.252859] y_test:  [[0.4299]]\n",
      "TRAIN: [ 0  1  2  3  4  5  6  7  8  9 10 11 12 13 14 15 16 17 18 19 20 21 22 23\n",
      " 24 25 26 27 28 29 30 31 32 33 34 35 36 37 38 39 40 41 42 43 44 45 46 47\n",
      " 48 49 50 51 52 53 54 55 56 57 58 59 60 61 62 63 64 65 66 67 68 69 70 71\n",
      " 72 73 74 75 76 77 79 80 81 82 83 84 85 86 87 88 89 90] TEST: [78]\n"
     ]
    },
    {
     "name": "stderr",
     "output_type": "stream",
     "text": [
      "C:\\ProgramData\\Anaconda3\\lib\\site-packages\\ipykernel_launcher.py:209: DataConversionWarning: A column-vector y was passed when a 1d array was expected. Please change the shape of y to (n_samples,), for example using ravel().\n",
      "C:\\ProgramData\\Anaconda3\\lib\\site-packages\\ipykernel_launcher.py:209: DataConversionWarning: A column-vector y was passed when a 1d array was expected. Please change the shape of y to (n_samples,), for example using ravel().\n"
     ]
    },
    {
     "name": "stdout",
     "output_type": "stream",
     "text": [
      "Mean Absolute Error: 0.15983099999999992\n",
      "RMSE: 0.15983099999999992\n",
      "MAE Percent:  21.320493405280075\n",
      "Iteration:  79\n",
      "y_pred:  [0.159831] y_test:  [[0.]]\n",
      "TRAIN: [ 0  1  2  3  4  5  6  7  8  9 10 11 12 13 14 15 16 17 18 19 20 21 22 23\n",
      " 24 25 26 27 28 29 30 31 32 33 34 35 36 37 38 39 40 41 42 43 44 45 46 47\n",
      " 48 49 50 51 52 53 54 55 56 57 58 59 60 61 62 63 64 65 66 67 68 69 70 71\n",
      " 72 73 74 75 76 77 78 80 81 82 83 84 85 86 87 88 89 90] TEST: [79]\n",
      "Mean Absolute Error: 0.020651999999999948\n",
      "RMSE: 0.020651999999999948\n",
      "MAE Percent:  2.754852499238841\n",
      "Iteration:  80\n",
      "y_pred:  [0.255348] y_test:  [[0.276]]\n",
      "TRAIN: [ 0  1  2  3  4  5  6  7  8  9 10 11 12 13 14 15 16 17 18 19 20 21 22 23\n",
      " 24 25 26 27 28 29 30 31 32 33 34 35 36 37 38 39 40 41 42 43 44 45 46 47\n",
      " 48 49 50 51 52 53 54 55 56 57 58 59 60 61 62 63 64 65 66 67 68 69 70 71\n",
      " 72 73 74 75 76 77 78 79 81 82 83 84 85 86 87 88 89 90] TEST: [80]\n"
     ]
    },
    {
     "name": "stderr",
     "output_type": "stream",
     "text": [
      "C:\\ProgramData\\Anaconda3\\lib\\site-packages\\ipykernel_launcher.py:209: DataConversionWarning: A column-vector y was passed when a 1d array was expected. Please change the shape of y to (n_samples,), for example using ravel().\n",
      "C:\\ProgramData\\Anaconda3\\lib\\site-packages\\ipykernel_launcher.py:209: DataConversionWarning: A column-vector y was passed when a 1d array was expected. Please change the shape of y to (n_samples,), for example using ravel().\n"
     ]
    },
    {
     "name": "stdout",
     "output_type": "stream",
     "text": [
      "Mean Absolute Error: 0.1535099999999998\n",
      "RMSE: 0.1535099999999998\n",
      "MAE Percent:  20.477310050268986\n",
      "Iteration:  81\n",
      "y_pred:  [1.36051] y_test:  [[1.207]]\n",
      "TRAIN: [ 0  1  2  3  4  5  6  7  8  9 10 11 12 13 14 15 16 17 18 19 20 21 22 23\n",
      " 24 25 26 27 28 29 30 31 32 33 34 35 36 37 38 39 40 41 42 43 44 45 46 47\n",
      " 48 49 50 51 52 53 54 55 56 57 58 59 60 61 62 63 64 65 66 67 68 69 70 71\n",
      " 72 73 74 75 76 77 78 79 80 82 83 84 85 86 87 88 89 90] TEST: [81]\n",
      "Mean Absolute Error: 1.0589340000000014\n",
      "RMSE: 1.0589340000000014\n",
      "MAE Percent:  141.25542206222127\n",
      "Iteration:  82\n",
      "y_pred:  [1.465066] y_test:  [[2.524]]\n",
      "TRAIN: [ 0  1  2  3  4  5  6  7  8  9 10 11 12 13 14 15 16 17 18 19 20 21 22 23\n",
      " 24 25 26 27 28 29 30 31 32 33 34 35 36 37 38 39 40 41 42 43 44 45 46 47\n",
      " 48 49 50 51 52 53 54 55 56 57 58 59 60 61 62 63 64 65 66 67 68 69 70 71\n",
      " 72 73 74 75 76 77 78 79 80 81 83 84 85 86 87 88 89 90] TEST: [82]\n"
     ]
    },
    {
     "name": "stderr",
     "output_type": "stream",
     "text": [
      "C:\\ProgramData\\Anaconda3\\lib\\site-packages\\ipykernel_launcher.py:209: DataConversionWarning: A column-vector y was passed when a 1d array was expected. Please change the shape of y to (n_samples,), for example using ravel().\n",
      "C:\\ProgramData\\Anaconda3\\lib\\site-packages\\ipykernel_launcher.py:209: DataConversionWarning: A column-vector y was passed when a 1d array was expected. Please change the shape of y to (n_samples,), for example using ravel().\n"
     ]
    },
    {
     "name": "stdout",
     "output_type": "stream",
     "text": [
      "Mean Absolute Error: 0.6811499999999999\n",
      "RMSE: 0.6811499999999999\n",
      "MAE Percent:  90.86131027777171\n",
      "Iteration:  83\n",
      "y_pred:  [1.38185] y_test:  [[2.063]]\n",
      "TRAIN: [ 0  1  2  3  4  5  6  7  8  9 10 11 12 13 14 15 16 17 18 19 20 21 22 23\n",
      " 24 25 26 27 28 29 30 31 32 33 34 35 36 37 38 39 40 41 42 43 44 45 46 47\n",
      " 48 49 50 51 52 53 54 55 56 57 58 59 60 61 62 63 64 65 66 67 68 69 70 71\n",
      " 72 73 74 75 76 77 78 79 80 81 82 84 85 86 87 88 89 90] TEST: [83]\n",
      "Mean Absolute Error: 0.2940101\n",
      "RMSE: 0.2940101\n",
      "MAE Percent:  39.21917774484135\n",
      "Iteration:  84\n",
      "y_pred:  [0.6770101] y_test:  [[0.383]]\n",
      "TRAIN: [ 0  1  2  3  4  5  6  7  8  9 10 11 12 13 14 15 16 17 18 19 20 21 22 23\n",
      " 24 25 26 27 28 29 30 31 32 33 34 35 36 37 38 39 40 41 42 43 44 45 46 47\n",
      " 48 49 50 51 52 53 54 55 56 57 58 59 60 61 62 63 64 65 66 67 68 69 70 71\n",
      " 72 73 74 75 76 77 78 79 80 81 82 83 85 86 87 88 89 90] TEST: [84]\n"
     ]
    },
    {
     "name": "stderr",
     "output_type": "stream",
     "text": [
      "C:\\ProgramData\\Anaconda3\\lib\\site-packages\\ipykernel_launcher.py:209: DataConversionWarning: A column-vector y was passed when a 1d array was expected. Please change the shape of y to (n_samples,), for example using ravel().\n",
      "C:\\ProgramData\\Anaconda3\\lib\\site-packages\\ipykernel_launcher.py:209: DataConversionWarning: A column-vector y was passed when a 1d array was expected. Please change the shape of y to (n_samples,), for example using ravel().\n"
     ]
    },
    {
     "name": "stdout",
     "output_type": "stream",
     "text": [
      "Mean Absolute Error: 0.2351969999999999\n",
      "RMSE: 0.2351969999999999\n",
      "MAE Percent:  31.373864190561644\n",
      "Iteration:  85\n",
      "y_pred:  [0.235197] y_test:  [[0.]]\n",
      "TRAIN: [ 0  1  2  3  4  5  6  7  8  9 10 11 12 13 14 15 16 17 18 19 20 21 22 23\n",
      " 24 25 26 27 28 29 30 31 32 33 34 35 36 37 38 39 40 41 42 43 44 45 46 47\n",
      " 48 49 50 51 52 53 54 55 56 57 58 59 60 61 62 63 64 65 66 67 68 69 70 71\n",
      " 72 73 74 75 76 77 78 79 80 81 82 83 84 86 87 88 89 90] TEST: [85]\n",
      "Mean Absolute Error: 0.002762000000000042\n",
      "RMSE: 0.002762000000000042\n",
      "MAE Percent:  0.3684341760070606\n",
      "Iteration:  86\n",
      "y_pred:  [0.264238] y_test:  [[0.267]]\n",
      "TRAIN: [ 0  1  2  3  4  5  6  7  8  9 10 11 12 13 14 15 16 17 18 19 20 21 22 23\n",
      " 24 25 26 27 28 29 30 31 32 33 34 35 36 37 38 39 40 41 42 43 44 45 46 47\n",
      " 48 49 50 51 52 53 54 55 56 57 58 59 60 61 62 63 64 65 66 67 68 69 70 71\n",
      " 72 73 74 75 76 77 78 79 80 81 82 83 84 85 87 88 89 90] TEST: [86]\n"
     ]
    },
    {
     "name": "stderr",
     "output_type": "stream",
     "text": [
      "C:\\ProgramData\\Anaconda3\\lib\\site-packages\\ipykernel_launcher.py:209: DataConversionWarning: A column-vector y was passed when a 1d array was expected. Please change the shape of y to (n_samples,), for example using ravel().\n",
      "C:\\ProgramData\\Anaconda3\\lib\\site-packages\\ipykernel_launcher.py:209: DataConversionWarning: A column-vector y was passed when a 1d array was expected. Please change the shape of y to (n_samples,), for example using ravel().\n"
     ]
    },
    {
     "name": "stdout",
     "output_type": "stream",
     "text": [
      "Mean Absolute Error: 0.05627530000000047\n",
      "RMSE: 0.05627530000000047\n",
      "MAE Percent:  7.506786308852279\n",
      "Iteration:  87\n",
      "y_pred:  [1.2137247] y_test:  [[1.27]]\n",
      "TRAIN: [ 0  1  2  3  4  5  6  7  8  9 10 11 12 13 14 15 16 17 18 19 20 21 22 23\n",
      " 24 25 26 27 28 29 30 31 32 33 34 35 36 37 38 39 40 41 42 43 44 45 46 47\n",
      " 48 49 50 51 52 53 54 55 56 57 58 59 60 61 62 63 64 65 66 67 68 69 70 71\n",
      " 72 73 74 75 76 77 78 79 80 81 82 83 84 85 86 88 89 90] TEST: [87]\n",
      "Mean Absolute Error: 0.04176400000000004\n",
      "RMSE: 0.04176400000000004\n",
      "MAE Percent:  5.571066229818485\n",
      "Iteration:  88\n",
      "y_pred:  [0.138764] y_test:  [[0.097]]\n",
      "TRAIN: [ 0  1  2  3  4  5  6  7  8  9 10 11 12 13 14 15 16 17 18 19 20 21 22 23\n",
      " 24 25 26 27 28 29 30 31 32 33 34 35 36 37 38 39 40 41 42 43 44 45 46 47\n",
      " 48 49 50 51 52 53 54 55 56 57 58 59 60 61 62 63 64 65 66 67 68 69 70 71\n",
      " 72 73 74 75 76 77 78 79 80 81 82 83 84 85 86 87 89 90] TEST: [88]\n"
     ]
    },
    {
     "name": "stderr",
     "output_type": "stream",
     "text": [
      "C:\\ProgramData\\Anaconda3\\lib\\site-packages\\ipykernel_launcher.py:209: DataConversionWarning: A column-vector y was passed when a 1d array was expected. Please change the shape of y to (n_samples,), for example using ravel().\n",
      "C:\\ProgramData\\Anaconda3\\lib\\site-packages\\ipykernel_launcher.py:209: DataConversionWarning: A column-vector y was passed when a 1d array was expected. Please change the shape of y to (n_samples,), for example using ravel().\n"
     ]
    },
    {
     "name": "stdout",
     "output_type": "stream",
     "text": [
      "Mean Absolute Error: 0.05788029999999966\n",
      "RMSE: 0.05788029999999966\n",
      "MAE Percent:  7.720883648639036\n",
      "Iteration:  89\n",
      "y_pred:  [1.0741197] y_test:  [[1.132]]\n",
      "TRAIN: [ 0  1  2  3  4  5  6  7  8  9 10 11 12 13 14 15 16 17 18 19 20 21 22 23\n",
      " 24 25 26 27 28 29 30 31 32 33 34 35 36 37 38 39 40 41 42 43 44 45 46 47\n",
      " 48 49 50 51 52 53 54 55 56 57 58 59 60 61 62 63 64 65 66 67 68 69 70 71\n",
      " 72 73 74 75 76 77 78 79 80 81 82 83 84 85 86 87 88 90] TEST: [89]\n",
      "Mean Absolute Error: 0.034264000000000294\n",
      "RMSE: 0.034264000000000294\n",
      "MAE Percent:  4.570611371001389\n",
      "Iteration:  90\n",
      "y_pred:  [1.532736] y_test:  [[1.567]]\n",
      "TRAIN: [ 0  1  2  3  4  5  6  7  8  9 10 11 12 13 14 15 16 17 18 19 20 21 22 23\n",
      " 24 25 26 27 28 29 30 31 32 33 34 35 36 37 38 39 40 41 42 43 44 45 46 47\n",
      " 48 49 50 51 52 53 54 55 56 57 58 59 60 61 62 63 64 65 66 67 68 69 70 71\n",
      " 72 73 74 75 76 77 78 79 80 81 82 83 84 85 86 87 88 89] TEST: [90]\n"
     ]
    },
    {
     "name": "stderr",
     "output_type": "stream",
     "text": [
      "C:\\ProgramData\\Anaconda3\\lib\\site-packages\\ipykernel_launcher.py:209: DataConversionWarning: A column-vector y was passed when a 1d array was expected. Please change the shape of y to (n_samples,), for example using ravel().\n",
      "C:\\ProgramData\\Anaconda3\\lib\\site-packages\\ipykernel_launcher.py:209: DataConversionWarning: A column-vector y was passed when a 1d array was expected. Please change the shape of y to (n_samples,), for example using ravel().\n"
     ]
    },
    {
     "name": "stdout",
     "output_type": "stream",
     "text": [
      "Mean Absolute Error: 0.3865342999999999\n",
      "RMSE: 0.3865342999999999\n",
      "MAE Percent:  51.56134913793039\n",
      "Iteration:  91\n",
      "y_pred:  [1.2064657] y_test:  [[1.593]]\n",
      "RMSE: [0.5499051 1.0416334 0.204977  0.1956193 0.0039098 0.080383  0.272492\n",
      " 0.169066  0.156268  0.4079138 0.056881  0.030112  0.050378  0.020155\n",
      " 0.085727  0.3317977 0.115194  0.4226168 0.164585  0.072638  0.530401\n",
      " 0.0202487 0.018488  0.116625  0.036781  0.0284022 0.10808   0.14028\n",
      " 0.199756  0.041588  0.3125208 0.5502219 0.686178  0.1906646 0.149843\n",
      " 0.01664   0.211034  0.01558   0.0448867 0.1634683 0.286803  0.1834161\n",
      " 0.810619  0.0725975 0.0403059 0.02711   0.0109517 0.151623  0.45736\n",
      " 0.771266  0.194616  0.6227411 0.071128  0.79423   0.084458  0.408566\n",
      " 0.098012  0.243656  0.093228  0.6333247 0.3251837 0.036277  0.720675\n",
      " 0.7736242 0.1070872 0.0057443 0.01821   0.146367  0.037713  0.1889543\n",
      " 0.0500413 0.052358  0.133248  0.107211  0.542544  0.1179128 0.134994\n",
      " 0.177041  0.159831  0.020652  0.15351   1.058934  0.68115   0.2940101\n",
      " 0.235197  0.002762  0.0562753 0.041764  0.0578803 0.034264  0.3865343]\n",
      "MAE: [0.5499051 1.0416334 0.204977  0.1956193 0.0039098 0.080383  0.272492\n",
      " 0.169066  0.156268  0.4079138 0.056881  0.030112  0.050378  0.020155\n",
      " 0.085727  0.3317977 0.115194  0.4226168 0.164585  0.072638  0.530401\n",
      " 0.0202487 0.018488  0.116625  0.036781  0.0284022 0.10808   0.14028\n",
      " 0.199756  0.041588  0.3125208 0.5502219 0.686178  0.1906646 0.149843\n",
      " 0.01664   0.211034  0.01558   0.0448867 0.1634683 0.286803  0.1834161\n",
      " 0.810619  0.0725975 0.0403059 0.02711   0.0109517 0.151623  0.45736\n",
      " 0.771266  0.194616  0.6227411 0.071128  0.79423   0.084458  0.408566\n",
      " 0.098012  0.243656  0.093228  0.6333247 0.3251837 0.036277  0.720675\n",
      " 0.7736242 0.1070872 0.0057443 0.01821   0.146367  0.037713  0.1889543\n",
      " 0.0500413 0.052358  0.133248  0.107211  0.542544  0.1179128 0.134994\n",
      " 0.177041  0.159831  0.020652  0.15351   1.058934  0.68115   0.2940101\n",
      " 0.235197  0.002762  0.0562753 0.041764  0.0578803 0.034264  0.3865343]\n",
      "MAE Percent: [ 73.35403056 138.94762615  27.34269808  26.09443722   0.52154379\n",
      "  10.72260839  36.34879272  22.55238682  20.84521065  54.41324576\n",
      "   7.58758304   4.01675956   6.72012198   2.68855569  11.43546582\n",
      "  44.25981615  15.36618627  56.37453746  21.95464839   9.689472\n",
      "  70.75230101   2.70105471   2.46618792  15.55707305   4.90636402\n",
      "   3.78868253  14.41722149  18.71250768  26.6462481    5.54758889\n",
      "  41.68839371  73.39628977  91.53201522  25.43351006  19.98815432\n",
      "   2.21967585  28.15066542   2.07827823   5.98761561  21.80568733\n",
      "  38.25779398  24.46660379 108.13169563   9.68406955   5.37656447\n",
      "   3.61631083   1.46089086  20.22559561  61.00907123 102.88224229\n",
      "  25.96060304  83.06991457   9.48804709 105.94550167  11.26618886\n",
      "  54.50024531  13.07421088  32.50224388  12.43605408  84.48170311\n",
      "  43.37754836   4.83913346  96.13370738 103.19681197  14.28478794\n",
      "   0.76625505   2.4291044   19.52447684   5.03068721  25.20536634\n",
      "   6.67520823   6.98424207  17.7744812   14.30130212  72.37210412\n",
      "  15.72885782  18.00738709  23.61620382  21.32049341   2.7548525\n",
      "  20.47731005 141.25542206  90.86131028  39.21917774  31.37386419\n",
      "   0.36843418   7.50678631   5.57106623   7.72088365   4.57061137\n",
      "  51.56134914]\n",
      "Average RMSE: 0.22997693296703298 +- 0.24859020312235403\n",
      "Average MAE: 0.22997693296703298 +- 0.24859020312235403\n",
      "Average MAE Percent: 30.67753866703059 +- 33.160436875746164\n",
      "8\n",
      "     Sub_ID Sub_Type  Cut_Off_Time  FIM  FIM_M  BBS  MWT10_SSV  MWT10_FV  \\\n",
      "1251   CVA2   CVA_AD           300   85     56   38      0.595     0.771   \n",
      "1252   CVA4   CVA_AD           300   44     24    3      0.000     0.000   \n",
      "1253   CVA5   CVA_AD           300   62     34    6      0.000     0.000   \n",
      "1254   CVA6   CVA_AD           300   57     35   16      0.783     0.000   \n",
      "1255   CVA9   CVA_AD           300   71     49   37      0.917     1.166   \n",
      "...     ...      ...           ...  ...    ...  ...        ...       ...   \n",
      "1337  CVA51   CVA_DC           300   89     59   37      1.270     2.149   \n",
      "1338  CVA52   CVA_DC           300   61     40    4      0.097     0.000   \n",
      "1339  CVA53   CVA_DC           300   90     64   38      1.132     1.591   \n",
      "1340  CVA54   CVA_DC           300   94     66   44      1.567     2.258   \n",
      "1341  CVA55   CVA_DC           300  120     89   51      1.593     2.992   \n",
      "\n",
      "          MWT6      TUG  ...  DLS_L_Acc_z_PSD_mean  DLS_L_Acc_z_PSD_std  \\\n",
      "1251  193.1210  26.9930  ...              0.002632             0.002837   \n",
      "1252  233.0196   0.0000  ...              0.001878             0.005541   \n",
      "1253   23.0000   0.0000  ...              0.000922             0.004190   \n",
      "1254  124.9700  47.5180  ...              0.001891             0.002734   \n",
      "1255  152.4600  26.3015  ...              0.002023             0.002391   \n",
      "...        ...      ...  ...                   ...                  ...   \n",
      "1337  273.7600  16.6300  ...              0.002799             0.002565   \n",
      "1338   10.5500   0.0000  ...              0.000494             0.001826   \n",
      "1339  228.8800  19.7830  ...              0.002717             0.003530   \n",
      "1340  345.3400  12.1980  ...              0.001778             0.003660   \n",
      "1341  295.8850   8.5103  ...              0.002046             0.004230   \n",
      "\n",
      "      DLS_L_Acc_z_PSD_skew  DLS_L_Acc_z_PSD_kurtosis  DLS_L_Acc_norm_DAmp  \\\n",
      "1251             38.482202               2389.123896             1.281516   \n",
      "1252             65.206423               4978.423068             1.349084   \n",
      "1253             56.011452               3766.428967             1.152838   \n",
      "1254             52.247620               3675.391060             1.203571   \n",
      "1255             16.746425                635.773186             1.224068   \n",
      "...                    ...                       ...                  ...   \n",
      "1337             21.016757               1035.520523             1.361712   \n",
      "1338             62.694025               4709.090140             1.142289   \n",
      "1339             44.863545               3011.513622             1.287588   \n",
      "1340             50.851446               3526.410255             1.318406   \n",
      "1341             50.617479               3537.372605             1.499240   \n",
      "\n",
      "      DLS_L_Acc_norm_DFreq  DLS_L_Acc_norm_PSD_mean  DLS_L_Acc_norm_PSD_std  \\\n",
      "1251                     0                 0.004011                0.016647   \n",
      "1252                     0                 0.003361                0.017737   \n",
      "1253                     0                 0.002484                0.014902   \n",
      "1254                     0                 0.004262                0.015648   \n",
      "1255                     0                 0.002059                0.016008   \n",
      "...                    ...                      ...                     ...   \n",
      "1337                     0                 0.003566                0.017671   \n",
      "1338                     0                 0.001271                0.014769   \n",
      "1339                     0                 0.003562                0.016960   \n",
      "1340                     0                 0.002764                0.017454   \n",
      "1341                     0                 0.004236                0.020347   \n",
      "\n",
      "      DLS_L_Acc_norm_PSD_skew  DLS_L_Acc_norm_PSD_kurtosis  \n",
      "1251                64.417664                  4607.473328  \n",
      "1252                62.342304                  4405.686378  \n",
      "1253                65.420397                  4707.772077  \n",
      "1254                64.046447                  4576.741715  \n",
      "1255                63.615569                  4522.456191  \n",
      "...                       ...                          ...  \n",
      "1337                64.835508                  4643.139224  \n",
      "1338                65.673058                  4728.291762  \n",
      "1339                61.796227                  4359.358482  \n",
      "1340                61.011528                  4282.175584  \n",
      "1341                56.596691                  3863.333044  \n",
      "\n",
      "[91 rows x 352 columns]\n",
      "TRAIN: [ 1  2  3  4  5  6  7  8  9 10 11 12 13 14 15 16 17 18 19 20 21 22 23 24\n",
      " 25 26 27 28 29 30 31 32 33 34 35 36 37 38 39 40 41 42 43 44 45 46 47 48\n",
      " 49 50 51 52 53 54 55 56 57 58 59 60 61 62 63 64 65 66 67 68 69 70 71 72\n",
      " 73 74 75 76 77 78 79 80 81 82 83 84 85 86 87 88 89 90] TEST: [0]\n",
      "Mean Absolute Error: 0.5269431999999998\n",
      "RMSE: 0.5269431999999998\n",
      "MAE Percent:  70.2910513014195\n",
      "Iteration:  1\n",
      "y_pred:  [1.1219432] y_test:  [[0.595]]\n",
      "TRAIN: [ 0  2  3  4  5  6  7  8  9 10 11 12 13 14 15 16 17 18 19 20 21 22 23 24\n",
      " 25 26 27 28 29 30 31 32 33 34 35 36 37 38 39 40 41 42 43 44 45 46 47 48\n",
      " 49 50 51 52 53 54 55 56 57 58 59 60 61 62 63 64 65 66 67 68 69 70 71 72\n",
      " 73 74 75 76 77 78 79 80 81 82 83 84 85 86 87 88 89 90] TEST: [1]\n"
     ]
    },
    {
     "name": "stderr",
     "output_type": "stream",
     "text": [
      "C:\\ProgramData\\Anaconda3\\lib\\site-packages\\ipykernel_launcher.py:209: DataConversionWarning: A column-vector y was passed when a 1d array was expected. Please change the shape of y to (n_samples,), for example using ravel().\n",
      "C:\\ProgramData\\Anaconda3\\lib\\site-packages\\ipykernel_launcher.py:209: DataConversionWarning: A column-vector y was passed when a 1d array was expected. Please change the shape of y to (n_samples,), for example using ravel().\n"
     ]
    },
    {
     "name": "stdout",
     "output_type": "stream",
     "text": [
      "Mean Absolute Error: 1.0451684000000008\n",
      "RMSE: 1.0451684000000008\n",
      "MAE Percent:  139.41917387495013\n",
      "Iteration:  2\n",
      "y_pred:  [1.0451684] y_test:  [[0.]]\n",
      "TRAIN: [ 0  1  3  4  5  6  7  8  9 10 11 12 13 14 15 16 17 18 19 20 21 22 23 24\n",
      " 25 26 27 28 29 30 31 32 33 34 35 36 37 38 39 40 41 42 43 44 45 46 47 48\n",
      " 49 50 51 52 53 54 55 56 57 58 59 60 61 62 63 64 65 66 67 68 69 70 71 72\n",
      " 73 74 75 76 77 78 79 80 81 82 83 84 85 86 87 88 89 90] TEST: [2]\n",
      "Mean Absolute Error: 0.26699299999999987\n",
      "RMSE: 0.26699299999999987\n",
      "MAE Percent:  35.61525921602156\n",
      "Iteration:  3\n",
      "y_pred:  [0.266993] y_test:  [[0.]]\n",
      "TRAIN: [ 0  1  2  4  5  6  7  8  9 10 11 12 13 14 15 16 17 18 19 20 21 22 23 24\n",
      " 25 26 27 28 29 30 31 32 33 34 35 36 37 38 39 40 41 42 43 44 45 46 47 48\n",
      " 49 50 51 52 53 54 55 56 57 58 59 60 61 62 63 64 65 66 67 68 69 70 71 72\n",
      " 73 74 75 76 77 78 79 80 81 82 83 84 85 86 87 88 89 90] TEST: [3]\n"
     ]
    },
    {
     "name": "stderr",
     "output_type": "stream",
     "text": [
      "C:\\ProgramData\\Anaconda3\\lib\\site-packages\\ipykernel_launcher.py:209: DataConversionWarning: A column-vector y was passed when a 1d array was expected. Please change the shape of y to (n_samples,), for example using ravel().\n",
      "C:\\ProgramData\\Anaconda3\\lib\\site-packages\\ipykernel_launcher.py:209: DataConversionWarning: A column-vector y was passed when a 1d array was expected. Please change the shape of y to (n_samples,), for example using ravel().\n"
     ]
    },
    {
     "name": "stdout",
     "output_type": "stream",
     "text": [
      "Mean Absolute Error: 0.26054100000000013\n",
      "RMSE: 0.26054100000000013\n",
      "MAE Percent:  34.75460124947652\n",
      "Iteration:  4\n",
      "y_pred:  [0.522459] y_test:  [[0.783]]\n",
      "TRAIN: [ 0  1  2  3  5  6  7  8  9 10 11 12 13 14 15 16 17 18 19 20 21 22 23 24\n",
      " 25 26 27 28 29 30 31 32 33 34 35 36 37 38 39 40 41 42 43 44 45 46 47 48\n",
      " 49 50 51 52 53 54 55 56 57 58 59 60 61 62 63 64 65 66 67 68 69 70 71 72\n",
      " 73 74 75 76 77 78 79 80 81 82 83 84 85 86 87 88 89 90] TEST: [4]\n",
      "Mean Absolute Error: 0.020805000000000184\n",
      "RMSE: 0.020805000000000184\n",
      "MAE Percent:  2.775261778358742\n",
      "Iteration:  5\n",
      "y_pred:  [0.896195] y_test:  [[0.917]]\n",
      "TRAIN: [ 0  1  2  3  4  6  7  8  9 10 11 12 13 14 15 16 17 18 19 20 21 22 23 24\n",
      " 25 26 27 28 29 30 31 32 33 34 35 36 37 38 39 40 41 42 43 44 45 46 47 48\n",
      " 49 50 51 52 53 54 55 56 57 58 59 60 61 62 63 64 65 66 67 68 69 70 71 72\n",
      " 73 74 75 76 77 78 79 80 81 82 83 84 85 86 87 88 89 90] TEST: [5]\n"
     ]
    },
    {
     "name": "stderr",
     "output_type": "stream",
     "text": [
      "C:\\ProgramData\\Anaconda3\\lib\\site-packages\\ipykernel_launcher.py:209: DataConversionWarning: A column-vector y was passed when a 1d array was expected. Please change the shape of y to (n_samples,), for example using ravel().\n",
      "C:\\ProgramData\\Anaconda3\\lib\\site-packages\\ipykernel_launcher.py:209: DataConversionWarning: A column-vector y was passed when a 1d array was expected. Please change the shape of y to (n_samples,), for example using ravel().\n"
     ]
    },
    {
     "name": "stdout",
     "output_type": "stream",
     "text": [
      "Mean Absolute Error: 0.058151999999999926\n",
      "RMSE: 0.058151999999999926\n",
      "MAE Percent:  7.757126793324486\n",
      "Iteration:  6\n",
      "y_pred:  [0.144552] y_test:  [[0.0864]]\n",
      "TRAIN: [ 0  1  2  3  4  5  7  8  9 10 11 12 13 14 15 16 17 18 19 20 21 22 23 24\n",
      " 25 26 27 28 29 30 31 32 33 34 35 36 37 38 39 40 41 42 43 44 45 46 47 48\n",
      " 49 50 51 52 53 54 55 56 57 58 59 60 61 62 63 64 65 66 67 68 69 70 71 72\n",
      " 73 74 75 76 77 78 79 80 81 82 83 84 85 86 87 88 89 90] TEST: [6]\n",
      "Mean Absolute Error: 0.26908399999999943\n",
      "RMSE: 0.26908399999999943\n",
      "MAE Percent:  35.894186030659725\n",
      "Iteration:  7\n",
      "y_pred:  [1.368084] y_test:  [[1.099]]\n",
      "TRAIN: [ 0  1  2  3  4  5  6  8  9 10 11 12 13 14 15 16 17 18 19 20 21 22 23 24\n",
      " 25 26 27 28 29 30 31 32 33 34 35 36 37 38 39 40 41 42 43 44 45 46 47 48\n",
      " 49 50 51 52 53 54 55 56 57 58 59 60 61 62 63 64 65 66 67 68 69 70 71 72\n",
      " 73 74 75 76 77 78 79 80 81 82 83 84 85 86 87 88 89 90] TEST: [7]\n"
     ]
    },
    {
     "name": "stderr",
     "output_type": "stream",
     "text": [
      "C:\\ProgramData\\Anaconda3\\lib\\site-packages\\ipykernel_launcher.py:209: DataConversionWarning: A column-vector y was passed when a 1d array was expected. Please change the shape of y to (n_samples,), for example using ravel().\n",
      "C:\\ProgramData\\Anaconda3\\lib\\site-packages\\ipykernel_launcher.py:209: DataConversionWarning: A column-vector y was passed when a 1d array was expected. Please change the shape of y to (n_samples,), for example using ravel().\n"
     ]
    },
    {
     "name": "stdout",
     "output_type": "stream",
     "text": [
      "Mean Absolute Error: 0.1867409999999996\n",
      "RMSE: 0.1867409999999996\n",
      "MAE Percent:  24.910125438715895\n",
      "Iteration:  8\n",
      "y_pred:  [1.353741] y_test:  [[1.167]]\n",
      "TRAIN: [ 0  1  2  3  4  5  6  7  9 10 11 12 13 14 15 16 17 18 19 20 21 22 23 24\n",
      " 25 26 27 28 29 30 31 32 33 34 35 36 37 38 39 40 41 42 43 44 45 46 47 48\n",
      " 49 50 51 52 53 54 55 56 57 58 59 60 61 62 63 64 65 66 67 68 69 70 71 72\n",
      " 73 74 75 76 77 78 79 80 81 82 83 84 85 86 87 88 89 90] TEST: [8]\n",
      "Mean Absolute Error: 0.14214900000000008\n",
      "RMSE: 0.14214900000000008\n",
      "MAE Percent:  18.961821030132832\n",
      "Iteration:  9\n",
      "y_pred:  [0.288351] y_test:  [[0.4305]]\n",
      "TRAIN: [ 0  1  2  3  4  5  6  7  8 10 11 12 13 14 15 16 17 18 19 20 21 22 23 24\n",
      " 25 26 27 28 29 30 31 32 33 34 35 36 37 38 39 40 41 42 43 44 45 46 47 48\n",
      " 49 50 51 52 53 54 55 56 57 58 59 60 61 62 63 64 65 66 67 68 69 70 71 72\n",
      " 73 74 75 76 77 78 79 80 81 82 83 84 85 86 87 88 89 90] TEST: [9]\n"
     ]
    },
    {
     "name": "stderr",
     "output_type": "stream",
     "text": [
      "C:\\ProgramData\\Anaconda3\\lib\\site-packages\\ipykernel_launcher.py:209: DataConversionWarning: A column-vector y was passed when a 1d array was expected. Please change the shape of y to (n_samples,), for example using ravel().\n",
      "C:\\ProgramData\\Anaconda3\\lib\\site-packages\\ipykernel_launcher.py:209: DataConversionWarning: A column-vector y was passed when a 1d array was expected. Please change the shape of y to (n_samples,), for example using ravel().\n"
     ]
    },
    {
     "name": "stdout",
     "output_type": "stream",
     "text": [
      "Mean Absolute Error: 0.3161111000000001\n",
      "RMSE: 0.3161111000000001\n",
      "MAE Percent:  42.167318122803685\n",
      "Iteration:  10\n",
      "y_pred:  [0.8531111] y_test:  [[0.537]]\n",
      "TRAIN: [ 0  1  2  3  4  5  6  7  8  9 11 12 13 14 15 16 17 18 19 20 21 22 23 24\n",
      " 25 26 27 28 29 30 31 32 33 34 35 36 37 38 39 40 41 42 43 44 45 46 47 48\n",
      " 49 50 51 52 53 54 55 56 57 58 59 60 61 62 63 64 65 66 67 68 69 70 71 72\n",
      " 73 74 75 76 77 78 79 80 81 82 83 84 85 86 87 88 89 90] TEST: [10]\n",
      "Mean Absolute Error: 0.04644599999999986\n",
      "RMSE: 0.04644599999999986\n",
      "MAE Percent:  6.195616849682701\n",
      "Iteration:  11\n",
      "y_pred:  [0.149446] y_test:  [[0.103]]\n",
      "TRAIN: [ 0  1  2  3  4  5  6  7  8  9 10 12 13 14 15 16 17 18 19 20 21 22 23 24\n",
      " 25 26 27 28 29 30 31 32 33 34 35 36 37 38 39 40 41 42 43 44 45 46 47 48\n",
      " 49 50 51 52 53 54 55 56 57 58 59 60 61 62 63 64 65 66 67 68 69 70 71 72\n",
      " 73 74 75 76 77 78 79 80 81 82 83 84 85 86 87 88 89 90] TEST: [11]\n"
     ]
    },
    {
     "name": "stderr",
     "output_type": "stream",
     "text": [
      "C:\\ProgramData\\Anaconda3\\lib\\site-packages\\ipykernel_launcher.py:209: DataConversionWarning: A column-vector y was passed when a 1d array was expected. Please change the shape of y to (n_samples,), for example using ravel().\n",
      "C:\\ProgramData\\Anaconda3\\lib\\site-packages\\ipykernel_launcher.py:209: DataConversionWarning: A column-vector y was passed when a 1d array was expected. Please change the shape of y to (n_samples,), for example using ravel().\n"
     ]
    },
    {
     "name": "stdout",
     "output_type": "stream",
     "text": [
      "Mean Absolute Error: 0.18292799999999976\n",
      "RMSE: 0.18292799999999976\n",
      "MAE Percent:  24.401494188493285\n",
      "Iteration:  12\n",
      "y_pred:  [0.888072] y_test:  [[1.071]]\n",
      "TRAIN: [ 0  1  2  3  4  5  6  7  8  9 10 11 13 14 15 16 17 18 19 20 21 22 23 24\n",
      " 25 26 27 28 29 30 31 32 33 34 35 36 37 38 39 40 41 42 43 44 45 46 47 48\n",
      " 49 50 51 52 53 54 55 56 57 58 59 60 61 62 63 64 65 66 67 68 69 70 71 72\n",
      " 73 74 75 76 77 78 79 80 81 82 83 84 85 86 87 88 89 90] TEST: [12]\n",
      "Mean Absolute Error: 0.061620000000000674\n",
      "RMSE: 0.061620000000000674\n",
      "MAE Percent:  8.219737120041627\n",
      "Iteration:  13\n",
      "y_pred:  [1.29162] y_test:  [[1.23]]\n",
      "TRAIN: [ 0  1  2  3  4  5  6  7  8  9 10 11 12 14 15 16 17 18 19 20 21 22 23 24\n",
      " 25 26 27 28 29 30 31 32 33 34 35 36 37 38 39 40 41 42 43 44 45 46 47 48\n",
      " 49 50 51 52 53 54 55 56 57 58 59 60 61 62 63 64 65 66 67 68 69 70 71 72\n",
      " 73 74 75 76 77 78 79 80 81 82 83 84 85 86 87 88 89 90] TEST: [13]\n"
     ]
    },
    {
     "name": "stderr",
     "output_type": "stream",
     "text": [
      "C:\\ProgramData\\Anaconda3\\lib\\site-packages\\ipykernel_launcher.py:209: DataConversionWarning: A column-vector y was passed when a 1d array was expected. Please change the shape of y to (n_samples,), for example using ravel().\n",
      "C:\\ProgramData\\Anaconda3\\lib\\site-packages\\ipykernel_launcher.py:209: DataConversionWarning: A column-vector y was passed when a 1d array was expected. Please change the shape of y to (n_samples,), for example using ravel().\n"
     ]
    },
    {
     "name": "stdout",
     "output_type": "stream",
     "text": [
      "Mean Absolute Error: 0.07387829999999973\n",
      "RMSE: 0.07387829999999973\n",
      "MAE Percent:  9.85492055948657\n",
      "Iteration:  14\n",
      "y_pred:  [0.9421217] y_test:  [[1.016]]\n",
      "TRAIN: [ 0  1  2  3  4  5  6  7  8  9 10 11 12 13 15 16 17 18 19 20 21 22 23 24\n",
      " 25 26 27 28 29 30 31 32 33 34 35 36 37 38 39 40 41 42 43 44 45 46 47 48\n",
      " 49 50 51 52 53 54 55 56 57 58 59 60 61 62 63 64 65 66 67 68 69 70 71 72\n",
      " 73 74 75 76 77 78 79 80 81 82 83 84 85 86 87 88 89 90] TEST: [14]\n",
      "Mean Absolute Error: 0.08404000000000014\n",
      "RMSE: 0.08404000000000014\n",
      "MAE Percent:  11.210430177998894\n",
      "Iteration:  15\n",
      "y_pred:  [0.24196] y_test:  [[0.326]]\n",
      "TRAIN: [ 0  1  2  3  4  5  6  7  8  9 10 11 12 13 14 16 17 18 19 20 21 22 23 24\n",
      " 25 26 27 28 29 30 31 32 33 34 35 36 37 38 39 40 41 42 43 44 45 46 47 48\n",
      " 49 50 51 52 53 54 55 56 57 58 59 60 61 62 63 64 65 66 67 68 69 70 71 72\n",
      " 73 74 75 76 77 78 79 80 81 82 83 84 85 86 87 88 89 90] TEST: [15]\n"
     ]
    },
    {
     "name": "stderr",
     "output_type": "stream",
     "text": [
      "C:\\ProgramData\\Anaconda3\\lib\\site-packages\\ipykernel_launcher.py:209: DataConversionWarning: A column-vector y was passed when a 1d array was expected. Please change the shape of y to (n_samples,), for example using ravel().\n",
      "C:\\ProgramData\\Anaconda3\\lib\\site-packages\\ipykernel_launcher.py:209: DataConversionWarning: A column-vector y was passed when a 1d array was expected. Please change the shape of y to (n_samples,), for example using ravel().\n"
     ]
    },
    {
     "name": "stdout",
     "output_type": "stream",
     "text": [
      "Mean Absolute Error: 0.17146999999999957\n",
      "RMSE: 0.17146999999999957\n",
      "MAE Percent:  22.873065952183037\n",
      "Iteration:  16\n",
      "y_pred:  [1.35247] y_test:  [[1.181]]\n",
      "TRAIN: [ 0  1  2  3  4  5  6  7  8  9 10 11 12 13 14 15 17 18 19 20 21 22 23 24\n",
      " 25 26 27 28 29 30 31 32 33 34 35 36 37 38 39 40 41 42 43 44 45 46 47 48\n",
      " 49 50 51 52 53 54 55 56 57 58 59 60 61 62 63 64 65 66 67 68 69 70 71 72\n",
      " 73 74 75 76 77 78 79 80 81 82 83 84 85 86 87 88 89 90] TEST: [16]\n",
      "Mean Absolute Error: 0.1864929999999999\n",
      "RMSE: 0.1864929999999999\n",
      "MAE Percent:  24.877043731384383\n",
      "Iteration:  17\n",
      "y_pred:  [0.186493] y_test:  [[0.]]\n",
      "TRAIN: [ 0  1  2  3  4  5  6  7  8  9 10 11 12 13 14 15 16 18 19 20 21 22 23 24\n",
      " 25 26 27 28 29 30 31 32 33 34 35 36 37 38 39 40 41 42 43 44 45 46 47 48\n",
      " 49 50 51 52 53 54 55 56 57 58 59 60 61 62 63 64 65 66 67 68 69 70 71 72\n",
      " 73 74 75 76 77 78 79 80 81 82 83 84 85 86 87 88 89 90] TEST: [17]\n"
     ]
    },
    {
     "name": "stderr",
     "output_type": "stream",
     "text": [
      "C:\\ProgramData\\Anaconda3\\lib\\site-packages\\ipykernel_launcher.py:209: DataConversionWarning: A column-vector y was passed when a 1d array was expected. Please change the shape of y to (n_samples,), for example using ravel().\n",
      "C:\\ProgramData\\Anaconda3\\lib\\site-packages\\ipykernel_launcher.py:209: DataConversionWarning: A column-vector y was passed when a 1d array was expected. Please change the shape of y to (n_samples,), for example using ravel().\n"
     ]
    },
    {
     "name": "stdout",
     "output_type": "stream",
     "text": [
      "Mean Absolute Error: 0.3838723999999996\n",
      "RMSE: 0.3838723999999996\n",
      "MAE Percent:  51.20626769943898\n",
      "Iteration:  18\n",
      "y_pred:  [0.5918724] y_test:  [[0.208]]\n",
      "TRAIN: [ 0  1  2  3  4  5  6  7  8  9 10 11 12 13 14 15 16 17 19 20 21 22 23 24\n",
      " 25 26 27 28 29 30 31 32 33 34 35 36 37 38 39 40 41 42 43 44 45 46 47 48\n",
      " 49 50 51 52 53 54 55 56 57 58 59 60 61 62 63 64 65 66 67 68 69 70 71 72\n",
      " 73 74 75 76 77 78 79 80 81 82 83 84 85 86 87 88 89 90] TEST: [18]\n",
      "Mean Absolute Error: 0.1638659999999999\n",
      "RMSE: 0.1638659999999999\n",
      "MAE Percent:  21.858738119323686\n",
      "Iteration:  19\n",
      "y_pred:  [0.163866] y_test:  [[0.]]\n",
      "TRAIN: [ 0  1  2  3  4  5  6  7  8  9 10 11 12 13 14 15 16 17 18 20 21 22 23 24\n",
      " 25 26 27 28 29 30 31 32 33 34 35 36 37 38 39 40 41 42 43 44 45 46 47 48\n",
      " 49 50 51 52 53 54 55 56 57 58 59 60 61 62 63 64 65 66 67 68 69 70 71 72\n",
      " 73 74 75 76 77 78 79 80 81 82 83 84 85 86 87 88 89 90] TEST: [19]\n"
     ]
    },
    {
     "name": "stderr",
     "output_type": "stream",
     "text": [
      "C:\\ProgramData\\Anaconda3\\lib\\site-packages\\ipykernel_launcher.py:209: DataConversionWarning: A column-vector y was passed when a 1d array was expected. Please change the shape of y to (n_samples,), for example using ravel().\n",
      "C:\\ProgramData\\Anaconda3\\lib\\site-packages\\ipykernel_launcher.py:209: DataConversionWarning: A column-vector y was passed when a 1d array was expected. Please change the shape of y to (n_samples,), for example using ravel().\n"
     ]
    },
    {
     "name": "stdout",
     "output_type": "stream",
     "text": [
      "Mean Absolute Error: 0.034295999999999216\n",
      "RMSE: 0.034295999999999216\n",
      "MAE Percent:  4.574879978398866\n",
      "Iteration:  20\n",
      "y_pred:  [1.581296] y_test:  [[1.547]]\n",
      "TRAIN: [ 0  1  2  3  4  5  6  7  8  9 10 11 12 13 14 15 16 17 18 19 21 22 23 24\n",
      " 25 26 27 28 29 30 31 32 33 34 35 36 37 38 39 40 41 42 43 44 45 46 47 48\n",
      " 49 50 51 52 53 54 55 56 57 58 59 60 61 62 63 64 65 66 67 68 69 70 71 72\n",
      " 73 74 75 76 77 78 79 80 81 82 83 84 85 86 87 88 89 90] TEST: [20]\n",
      "Mean Absolute Error: 0.35769100000000004\n",
      "RMSE: 0.35769100000000004\n",
      "MAE Percent:  47.713826520687725\n",
      "Iteration:  21\n",
      "y_pred:  [0.313309] y_test:  [[0.671]]\n",
      "TRAIN: [ 0  1  2  3  4  5  6  7  8  9 10 11 12 13 14 15 16 17 18 19 20 22 23 24\n",
      " 25 26 27 28 29 30 31 32 33 34 35 36 37 38 39 40 41 42 43 44 45 46 47 48\n",
      " 49 50 51 52 53 54 55 56 57 58 59 60 61 62 63 64 65 66 67 68 69 70 71 72\n",
      " 73 74 75 76 77 78 79 80 81 82 83 84 85 86 87 88 89 90] TEST: [21]\n"
     ]
    },
    {
     "name": "stderr",
     "output_type": "stream",
     "text": [
      "C:\\ProgramData\\Anaconda3\\lib\\site-packages\\ipykernel_launcher.py:209: DataConversionWarning: A column-vector y was passed when a 1d array was expected. Please change the shape of y to (n_samples,), for example using ravel().\n",
      "C:\\ProgramData\\Anaconda3\\lib\\site-packages\\ipykernel_launcher.py:209: DataConversionWarning: A column-vector y was passed when a 1d array was expected. Please change the shape of y to (n_samples,), for example using ravel().\n"
     ]
    },
    {
     "name": "stdout",
     "output_type": "stream",
     "text": [
      "Mean Absolute Error: 0.033018999999999965\n",
      "RMSE: 0.033018999999999965\n",
      "MAE Percent:  4.404535864437702\n",
      "Iteration:  22\n",
      "y_pred:  [0.132981] y_test:  [[0.166]]\n",
      "TRAIN: [ 0  1  2  3  4  5  6  7  8  9 10 11 12 13 14 15 16 17 18 19 20 21 23 24\n",
      " 25 26 27 28 29 30 31 32 33 34 35 36 37 38 39 40 41 42 43 44 45 46 47 48\n",
      " 49 50 51 52 53 54 55 56 57 58 59 60 61 62 63 64 65 66 67 68 69 70 71 72\n",
      " 73 74 75 76 77 78 79 80 81 82 83 84 85 86 87 88 89 90] TEST: [22]\n",
      "Mean Absolute Error: 0.03724990000000039\n",
      "RMSE: 0.03724990000000039\n",
      "MAE Percent:  4.968912459393678\n",
      "Iteration:  23\n",
      "y_pred:  [0.9327501] y_test:  [[0.97]]\n",
      "TRAIN: [ 0  1  2  3  4  5  6  7  8  9 10 11 12 13 14 15 16 17 18 19 20 21 22 24\n",
      " 25 26 27 28 29 30 31 32 33 34 35 36 37 38 39 40 41 42 43 44 45 46 47 48\n",
      " 49 50 51 52 53 54 55 56 57 58 59 60 61 62 63 64 65 66 67 68 69 70 71 72\n",
      " 73 74 75 76 77 78 79 80 81 82 83 84 85 86 87 88 89 90] TEST: [23]\n"
     ]
    },
    {
     "name": "stderr",
     "output_type": "stream",
     "text": [
      "C:\\ProgramData\\Anaconda3\\lib\\site-packages\\ipykernel_launcher.py:209: DataConversionWarning: A column-vector y was passed when a 1d array was expected. Please change the shape of y to (n_samples,), for example using ravel().\n",
      "C:\\ProgramData\\Anaconda3\\lib\\site-packages\\ipykernel_launcher.py:209: DataConversionWarning: A column-vector y was passed when a 1d array was expected. Please change the shape of y to (n_samples,), for example using ravel().\n"
     ]
    },
    {
     "name": "stdout",
     "output_type": "stream",
     "text": [
      "Mean Absolute Error: 0.07300499999999999\n",
      "RMSE: 0.07300499999999999\n",
      "MAE Percent:  9.738427595725938\n",
      "Iteration:  24\n",
      "y_pred:  [0.073005] y_test:  [[0.]]\n",
      "TRAIN: [ 0  1  2  3  4  5  6  7  8  9 10 11 12 13 14 15 16 17 18 19 20 21 22 23\n",
      " 25 26 27 28 29 30 31 32 33 34 35 36 37 38 39 40 41 42 43 44 45 46 47 48\n",
      " 49 50 51 52 53 54 55 56 57 58 59 60 61 62 63 64 65 66 67 68 69 70 71 72\n",
      " 73 74 75 76 77 78 79 80 81 82 83 84 85 86 87 88 89 90] TEST: [24]\n",
      "Mean Absolute Error: 0.05321800000000021\n",
      "RMSE: 0.05321800000000021\n",
      "MAE Percent:  7.098960890204029\n",
      "Iteration:  25\n",
      "y_pred:  [0.142782] y_test:  [[0.196]]\n",
      "TRAIN: [ 0  1  2  3  4  5  6  7  8  9 10 11 12 13 14 15 16 17 18 19 20 21 22 23\n",
      " 24 26 27 28 29 30 31 32 33 34 35 36 37 38 39 40 41 42 43 44 45 46 47 48\n",
      " 49 50 51 52 53 54 55 56 57 58 59 60 61 62 63 64 65 66 67 68 69 70 71 72\n",
      " 73 74 75 76 77 78 79 80 81 82 83 84 85 86 87 88 89 90] TEST: [25]\n"
     ]
    },
    {
     "name": "stderr",
     "output_type": "stream",
     "text": [
      "C:\\ProgramData\\Anaconda3\\lib\\site-packages\\ipykernel_launcher.py:209: DataConversionWarning: A column-vector y was passed when a 1d array was expected. Please change the shape of y to (n_samples,), for example using ravel().\n",
      "C:\\ProgramData\\Anaconda3\\lib\\site-packages\\ipykernel_launcher.py:209: DataConversionWarning: A column-vector y was passed when a 1d array was expected. Please change the shape of y to (n_samples,), for example using ravel().\n"
     ]
    },
    {
     "name": "stdout",
     "output_type": "stream",
     "text": [
      "Mean Absolute Error: 0.04094890000000018\n",
      "RMSE: 0.04094890000000018\n",
      "MAE Percent:  5.4623367957622575\n",
      "Iteration:  26\n",
      "y_pred:  [0.9230511] y_test:  [[0.964]]\n",
      "TRAIN: [ 0  1  2  3  4  5  6  7  8  9 10 11 12 13 14 15 16 17 18 19 20 21 22 23\n",
      " 24 25 27 28 29 30 31 32 33 34 35 36 37 38 39 40 41 42 43 44 45 46 47 48\n",
      " 49 50 51 52 53 54 55 56 57 58 59 60 61 62 63 64 65 66 67 68 69 70 71 72\n",
      " 73 74 75 76 77 78 79 80 81 82 83 84 85 86 87 88 89 90] TEST: [26]\n",
      "Mean Absolute Error: 0.04890469999999997\n",
      "RMSE: 0.04890469999999997\n",
      "MAE Percent:  6.523592631199206\n",
      "Iteration:  27\n",
      "y_pred:  [0.3039047] y_test:  [[0.255]]\n",
      "TRAIN: [ 0  1  2  3  4  5  6  7  8  9 10 11 12 13 14 15 16 17 18 19 20 21 22 23\n",
      " 24 25 26 28 29 30 31 32 33 34 35 36 37 38 39 40 41 42 43 44 45 46 47 48\n",
      " 49 50 51 52 53 54 55 56 57 58 59 60 61 62 63 64 65 66 67 68 69 70 71 72\n",
      " 73 74 75 76 77 78 79 80 81 82 83 84 85 86 87 88 89 90] TEST: [27]\n"
     ]
    },
    {
     "name": "stderr",
     "output_type": "stream",
     "text": [
      "C:\\ProgramData\\Anaconda3\\lib\\site-packages\\ipykernel_launcher.py:209: DataConversionWarning: A column-vector y was passed when a 1d array was expected. Please change the shape of y to (n_samples,), for example using ravel().\n",
      "C:\\ProgramData\\Anaconda3\\lib\\site-packages\\ipykernel_launcher.py:209: DataConversionWarning: A column-vector y was passed when a 1d array was expected. Please change the shape of y to (n_samples,), for example using ravel().\n"
     ]
    },
    {
     "name": "stdout",
     "output_type": "stream",
     "text": [
      "Mean Absolute Error: 0.1555830000000008\n",
      "RMSE: 0.1555830000000008\n",
      "MAE Percent:  20.75383577324617\n",
      "Iteration:  28\n",
      "y_pred:  [0.943583] y_test:  [[0.788]]\n",
      "TRAIN: [ 0  1  2  3  4  5  6  7  8  9 10 11 12 13 14 15 16 17 18 19 20 21 22 23\n",
      " 24 25 26 27 29 30 31 32 33 34 35 36 37 38 39 40 41 42 43 44 45 46 47 48\n",
      " 49 50 51 52 53 54 55 56 57 58 59 60 61 62 63 64 65 66 67 68 69 70 71 72\n",
      " 73 74 75 76 77 78 79 80 81 82 83 84 85 86 87 88 89 90] TEST: [28]\n",
      "Mean Absolute Error: 0.21059260000000019\n",
      "RMSE: 0.21059260000000019\n",
      "MAE Percent:  28.091785320124323\n",
      "Iteration:  29\n",
      "y_pred:  [0.4494074] y_test:  [[0.66]]\n",
      "TRAIN: [ 0  1  2  3  4  5  6  7  8  9 10 11 12 13 14 15 16 17 18 19 20 21 22 23\n",
      " 24 25 26 27 28 30 31 32 33 34 35 36 37 38 39 40 41 42 43 44 45 46 47 48\n",
      " 49 50 51 52 53 54 55 56 57 58 59 60 61 62 63 64 65 66 67 68 69 70 71 72\n",
      " 73 74 75 76 77 78 79 80 81 82 83 84 85 86 87 88 89 90] TEST: [29]\n"
     ]
    },
    {
     "name": "stderr",
     "output_type": "stream",
     "text": [
      "C:\\ProgramData\\Anaconda3\\lib\\site-packages\\ipykernel_launcher.py:209: DataConversionWarning: A column-vector y was passed when a 1d array was expected. Please change the shape of y to (n_samples,), for example using ravel().\n",
      "C:\\ProgramData\\Anaconda3\\lib\\site-packages\\ipykernel_launcher.py:209: DataConversionWarning: A column-vector y was passed when a 1d array was expected. Please change the shape of y to (n_samples,), for example using ravel().\n"
     ]
    },
    {
     "name": "stdout",
     "output_type": "stream",
     "text": [
      "Mean Absolute Error: 0.04183999999999943\n",
      "RMSE: 0.04183999999999943\n",
      "MAE Percent:  5.581204172387752\n",
      "Iteration:  30\n",
      "y_pred:  [1.47684] y_test:  [[1.435]]\n",
      "TRAIN: [ 0  1  2  3  4  5  6  7  8  9 10 11 12 13 14 15 16 17 18 19 20 21 22 23\n",
      " 24 25 26 27 28 29 31 32 33 34 35 36 37 38 39 40 41 42 43 44 45 46 47 48\n",
      " 49 50 51 52 53 54 55 56 57 58 59 60 61 62 63 64 65 66 67 68 69 70 71 72\n",
      " 73 74 75 76 77 78 79 80 81 82 83 84 85 86 87 88 89 90] TEST: [30]\n",
      "Mean Absolute Error: 0.21399670000000004\n",
      "RMSE: 0.21399670000000004\n",
      "MAE Percent:  28.545871771444226\n",
      "Iteration:  31\n",
      "y_pred:  [0.8950033] y_test:  [[1.109]]\n",
      "TRAIN: [ 0  1  2  3  4  5  6  7  8  9 10 11 12 13 14 15 16 17 18 19 20 21 22 23\n",
      " 24 25 26 27 28 29 30 32 33 34 35 36 37 38 39 40 41 42 43 44 45 46 47 48\n",
      " 49 50 51 52 53 54 55 56 57 58 59 60 61 62 63 64 65 66 67 68 69 70 71 72\n",
      " 73 74 75 76 77 78 79 80 81 82 83 84 85 86 87 88 89 90] TEST: [31]\n"
     ]
    },
    {
     "name": "stderr",
     "output_type": "stream",
     "text": [
      "C:\\ProgramData\\Anaconda3\\lib\\site-packages\\ipykernel_launcher.py:209: DataConversionWarning: A column-vector y was passed when a 1d array was expected. Please change the shape of y to (n_samples,), for example using ravel().\n",
      "C:\\ProgramData\\Anaconda3\\lib\\site-packages\\ipykernel_launcher.py:209: DataConversionWarning: A column-vector y was passed when a 1d array was expected. Please change the shape of y to (n_samples,), for example using ravel().\n"
     ]
    },
    {
     "name": "stdout",
     "output_type": "stream",
     "text": [
      "Mean Absolute Error: 0.5715927999999996\n",
      "RMSE: 0.5715927999999996\n",
      "MAE Percent:  76.24703920331831\n",
      "Iteration:  32\n",
      "y_pred:  [0.8284072] y_test:  [[1.4]]\n",
      "TRAIN: [ 0  1  2  3  4  5  6  7  8  9 10 11 12 13 14 15 16 17 18 19 20 21 22 23\n",
      " 24 25 26 27 28 29 30 31 33 34 35 36 37 38 39 40 41 42 43 44 45 46 47 48\n",
      " 49 50 51 52 53 54 55 56 57 58 59 60 61 62 63 64 65 66 67 68 69 70 71 72\n",
      " 73 74 75 76 77 78 79 80 81 82 83 84 85 86 87 88 89 90] TEST: [32]\n",
      "Mean Absolute Error: 0.7427420000000002\n",
      "RMSE: 0.7427420000000002\n",
      "MAE Percent:  99.07731236634037\n",
      "Iteration:  33\n",
      "y_pred:  [1.429258] y_test:  [[2.172]]\n",
      "TRAIN: [ 0  1  2  3  4  5  6  7  8  9 10 11 12 13 14 15 16 17 18 19 20 21 22 23\n",
      " 24 25 26 27 28 29 30 31 32 34 35 36 37 38 39 40 41 42 43 44 45 46 47 48\n",
      " 49 50 51 52 53 54 55 56 57 58 59 60 61 62 63 64 65 66 67 68 69 70 71 72\n",
      " 73 74 75 76 77 78 79 80 81 82 83 84 85 86 87 88 89 90] TEST: [33]\n"
     ]
    },
    {
     "name": "stderr",
     "output_type": "stream",
     "text": [
      "C:\\ProgramData\\Anaconda3\\lib\\site-packages\\ipykernel_launcher.py:209: DataConversionWarning: A column-vector y was passed when a 1d array was expected. Please change the shape of y to (n_samples,), for example using ravel().\n",
      "C:\\ProgramData\\Anaconda3\\lib\\site-packages\\ipykernel_launcher.py:209: DataConversionWarning: A column-vector y was passed when a 1d array was expected. Please change the shape of y to (n_samples,), for example using ravel().\n"
     ]
    },
    {
     "name": "stdout",
     "output_type": "stream",
     "text": [
      "Mean Absolute Error: 0.10977500000000029\n",
      "RMSE: 0.10977500000000029\n",
      "MAE Percent:  14.643324283553424\n",
      "Iteration:  34\n",
      "y_pred:  [0.815225] y_test:  [[0.925]]\n",
      "TRAIN: [ 0  1  2  3  4  5  6  7  8  9 10 11 12 13 14 15 16 17 18 19 20 21 22 23\n",
      " 24 25 26 27 28 29 30 31 32 33 35 36 37 38 39 40 41 42 43 44 45 46 47 48\n",
      " 49 50 51 52 53 54 55 56 57 58 59 60 61 62 63 64 65 66 67 68 69 70 71 72\n",
      " 73 74 75 76 77 78 79 80 81 82 83 84 85 86 87 88 89 90] TEST: [34]\n",
      "Mean Absolute Error: 0.12747499999999992\n",
      "RMSE: 0.12747499999999992\n",
      "MAE Percent:  17.004397750361804\n",
      "Iteration:  35\n",
      "y_pred:  [0.273475] y_test:  [[0.146]]\n",
      "TRAIN: [ 0  1  2  3  4  5  6  7  8  9 10 11 12 13 14 15 16 17 18 19 20 21 22 23\n",
      " 24 25 26 27 28 29 30 31 32 33 34 36 37 38 39 40 41 42 43 44 45 46 47 48\n",
      " 49 50 51 52 53 54 55 56 57 58 59 60 61 62 63 64 65 66 67 68 69 70 71 72\n",
      " 73 74 75 76 77 78 79 80 81 82 83 84 85 86 87 88 89 90] TEST: [35]\n"
     ]
    },
    {
     "name": "stderr",
     "output_type": "stream",
     "text": [
      "C:\\ProgramData\\Anaconda3\\lib\\site-packages\\ipykernel_launcher.py:209: DataConversionWarning: A column-vector y was passed when a 1d array was expected. Please change the shape of y to (n_samples,), for example using ravel().\n",
      "C:\\ProgramData\\Anaconda3\\lib\\site-packages\\ipykernel_launcher.py:209: DataConversionWarning: A column-vector y was passed when a 1d array was expected. Please change the shape of y to (n_samples,), for example using ravel().\n"
     ]
    },
    {
     "name": "stdout",
     "output_type": "stream",
     "text": [
      "Mean Absolute Error: 0.023025000000000073\n",
      "RMSE: 0.023025000000000073\n",
      "MAE Percent:  3.0713964165685974\n",
      "Iteration:  36\n",
      "y_pred:  [0.113475] y_test:  [[0.1365]]\n",
      "TRAIN: [ 0  1  2  3  4  5  6  7  8  9 10 11 12 13 14 15 16 17 18 19 20 21 22 23\n",
      " 24 25 26 27 28 29 30 31 32 33 34 35 37 38 39 40 41 42 43 44 45 46 47 48\n",
      " 49 50 51 52 53 54 55 56 57 58 59 60 61 62 63 64 65 66 67 68 69 70 71 72\n",
      " 73 74 75 76 77 78 79 80 81 82 83 84 85 86 87 88 89 90] TEST: [36]\n",
      "Mean Absolute Error: 0.2367061999999998\n",
      "RMSE: 0.2367061999999998\n",
      "MAE Percent:  31.575182386951873\n",
      "Iteration:  37\n",
      "y_pred:  [0.5005062] y_test:  [[0.2638]]\n",
      "TRAIN: [ 0  1  2  3  4  5  6  7  8  9 10 11 12 13 14 15 16 17 18 19 20 21 22 23\n",
      " 24 25 26 27 28 29 30 31 32 33 34 35 36 38 39 40 41 42 43 44 45 46 47 48\n",
      " 49 50 51 52 53 54 55 56 57 58 59 60 61 62 63 64 65 66 67 68 69 70 71 72\n",
      " 73 74 75 76 77 78 79 80 81 82 83 84 85 86 87 88 89 90] TEST: [37]\n"
     ]
    },
    {
     "name": "stderr",
     "output_type": "stream",
     "text": [
      "C:\\ProgramData\\Anaconda3\\lib\\site-packages\\ipykernel_launcher.py:209: DataConversionWarning: A column-vector y was passed when a 1d array was expected. Please change the shape of y to (n_samples,), for example using ravel().\n",
      "C:\\ProgramData\\Anaconda3\\lib\\site-packages\\ipykernel_launcher.py:209: DataConversionWarning: A column-vector y was passed when a 1d array was expected. Please change the shape of y to (n_samples,), for example using ravel().\n"
     ]
    },
    {
     "name": "stdout",
     "output_type": "stream",
     "text": [
      "Mean Absolute Error: 0.04175600000000003\n",
      "RMSE: 0.04175600000000003\n",
      "MAE Percent:  5.569999077969079\n",
      "Iteration:  38\n",
      "y_pred:  [0.117844] y_test:  [[0.1596]]\n",
      "TRAIN: [ 0  1  2  3  4  5  6  7  8  9 10 11 12 13 14 15 16 17 18 19 20 21 22 23\n",
      " 24 25 26 27 28 29 30 31 32 33 34 35 36 37 39 40 41 42 43 44 45 46 47 48\n",
      " 49 50 51 52 53 54 55 56 57 58 59 60 61 62 63 64 65 66 67 68 69 70 71 72\n",
      " 73 74 75 76 77 78 79 80 81 82 83 84 85 86 87 88 89 90] TEST: [38]\n",
      "Mean Absolute Error: 0.12434179999999995\n",
      "RMSE: 0.12434179999999995\n",
      "MAE Percent:  16.58644772854236\n",
      "Iteration:  39\n",
      "y_pred:  [0.7813418] y_test:  [[0.657]]\n",
      "TRAIN: [ 0  1  2  3  4  5  6  7  8  9 10 11 12 13 14 15 16 17 18 19 20 21 22 23\n",
      " 24 25 26 27 28 29 30 31 32 33 34 35 36 37 38 40 41 42 43 44 45 46 47 48\n",
      " 49 50 51 52 53 54 55 56 57 58 59 60 61 62 63 64 65 66 67 68 69 70 71 72\n",
      " 73 74 75 76 77 78 79 80 81 82 83 84 85 86 87 88 89 90] TEST: [39]\n"
     ]
    },
    {
     "name": "stderr",
     "output_type": "stream",
     "text": [
      "C:\\ProgramData\\Anaconda3\\lib\\site-packages\\ipykernel_launcher.py:209: DataConversionWarning: A column-vector y was passed when a 1d array was expected. Please change the shape of y to (n_samples,), for example using ravel().\n",
      "C:\\ProgramData\\Anaconda3\\lib\\site-packages\\ipykernel_launcher.py:209: DataConversionWarning: A column-vector y was passed when a 1d array was expected. Please change the shape of y to (n_samples,), for example using ravel().\n"
     ]
    },
    {
     "name": "stdout",
     "output_type": "stream",
     "text": [
      "Mean Absolute Error: 0.10521300000000045\n",
      "RMSE: 0.10521300000000045\n",
      "MAE Percent:  14.03478094143028\n",
      "Iteration:  40\n",
      "y_pred:  [1.234787] y_test:  [[1.34]]\n",
      "TRAIN: [ 0  1  2  3  4  5  6  7  8  9 10 11 12 13 14 15 16 17 18 19 20 21 22 23\n",
      " 24 25 26 27 28 29 30 31 32 33 34 35 36 37 38 39 41 42 43 44 45 46 47 48\n",
      " 49 50 51 52 53 54 55 56 57 58 59 60 61 62 63 64 65 66 67 68 69 70 71 72\n",
      " 73 74 75 76 77 78 79 80 81 82 83 84 85 86 87 88 89 90] TEST: [40]\n",
      "Mean Absolute Error: 0.39343199999999967\n",
      "RMSE: 0.39343199999999967\n",
      "MAE Percent:  52.48146080188542\n",
      "Iteration:  41\n",
      "y_pred:  [1.370432] y_test:  [[0.977]]\n",
      "TRAIN: [ 0  1  2  3  4  5  6  7  8  9 10 11 12 13 14 15 16 17 18 19 20 21 22 23\n",
      " 24 25 26 27 28 29 30 31 32 33 34 35 36 37 38 39 40 42 43 44 45 46 47 48\n",
      " 49 50 51 52 53 54 55 56 57 58 59 60 61 62 63 64 65 66 67 68 69 70 71 72\n",
      " 73 74 75 76 77 78 79 80 81 82 83 84 85 86 87 88 89 90] TEST: [41]\n"
     ]
    },
    {
     "name": "stderr",
     "output_type": "stream",
     "text": [
      "C:\\ProgramData\\Anaconda3\\lib\\site-packages\\ipykernel_launcher.py:209: DataConversionWarning: A column-vector y was passed when a 1d array was expected. Please change the shape of y to (n_samples,), for example using ravel().\n",
      "C:\\ProgramData\\Anaconda3\\lib\\site-packages\\ipykernel_launcher.py:209: DataConversionWarning: A column-vector y was passed when a 1d array was expected. Please change the shape of y to (n_samples,), for example using ravel().\n"
     ]
    },
    {
     "name": "stdout",
     "output_type": "stream",
     "text": [
      "Mean Absolute Error: 0.23907869999999992\n",
      "RMSE: 0.23907869999999992\n",
      "MAE Percent:  31.89165960729104\n",
      "Iteration:  42\n",
      "y_pred:  [0.5550787] y_test:  [[0.316]]\n",
      "TRAIN: [ 0  1  2  3  4  5  6  7  8  9 10 11 12 13 14 15 16 17 18 19 20 21 22 23\n",
      " 24 25 26 27 28 29 30 31 32 33 34 35 36 37 38 39 40 41 43 44 45 46 47 48\n",
      " 49 50 51 52 53 54 55 56 57 58 59 60 61 62 63 64 65 66 67 68 69 70 71 72\n",
      " 73 74 75 76 77 78 79 80 81 82 83 84 85 86 87 88 89 90] TEST: [42]\n",
      "Mean Absolute Error: 0.764493\n",
      "RMSE: 0.764493\n",
      "MAE Percent:  101.97876485089117\n",
      "Iteration:  43\n",
      "y_pred:  [0.363507] y_test:  [[1.128]]\n",
      "TRAIN: [ 0  1  2  3  4  5  6  7  8  9 10 11 12 13 14 15 16 17 18 19 20 21 22 23\n",
      " 24 25 26 27 28 29 30 31 32 33 34 35 36 37 38 39 40 41 42 44 45 46 47 48\n",
      " 49 50 51 52 53 54 55 56 57 58 59 60 61 62 63 64 65 66 67 68 69 70 71 72\n",
      " 73 74 75 76 77 78 79 80 81 82 83 84 85 86 87 88 89 90] TEST: [43]\n"
     ]
    },
    {
     "name": "stderr",
     "output_type": "stream",
     "text": [
      "C:\\ProgramData\\Anaconda3\\lib\\site-packages\\ipykernel_launcher.py:209: DataConversionWarning: A column-vector y was passed when a 1d array was expected. Please change the shape of y to (n_samples,), for example using ravel().\n",
      "C:\\ProgramData\\Anaconda3\\lib\\site-packages\\ipykernel_launcher.py:209: DataConversionWarning: A column-vector y was passed when a 1d array was expected. Please change the shape of y to (n_samples,), for example using ravel().\n"
     ]
    },
    {
     "name": "stdout",
     "output_type": "stream",
     "text": [
      "Mean Absolute Error: 0.030178100000000208\n",
      "RMSE: 0.030178100000000208\n",
      "MAE Percent:  4.025576903315923\n",
      "Iteration:  44\n",
      "y_pred:  [0.8781781] y_test:  [[0.848]]\n",
      "TRAIN: [ 0  1  2  3  4  5  6  7  8  9 10 11 12 13 14 15 16 17 18 19 20 21 22 23\n",
      " 24 25 26 27 28 29 30 31 32 33 34 35 36 37 38 39 40 41 42 43 45 46 47 48\n",
      " 49 50 51 52 53 54 55 56 57 58 59 60 61 62 63 64 65 66 67 68 69 70 71 72\n",
      " 73 74 75 76 77 78 79 80 81 82 83 84 85 86 87 88 89 90] TEST: [44]\n",
      "Mean Absolute Error: 0.12105060000000012\n",
      "RMSE: 0.12105060000000012\n",
      "MAE Percent:  16.14742145769719\n",
      "Iteration:  45\n",
      "y_pred:  [0.8709494] y_test:  [[0.992]]\n",
      "TRAIN: [ 0  1  2  3  4  5  6  7  8  9 10 11 12 13 14 15 16 17 18 19 20 21 22 23\n",
      " 24 25 26 27 28 29 30 31 32 33 34 35 36 37 38 39 40 41 42 43 44 46 47 48\n",
      " 49 50 51 52 53 54 55 56 57 58 59 60 61 62 63 64 65 66 67 68 69 70 71 72\n",
      " 73 74 75 76 77 78 79 80 81 82 83 84 85 86 87 88 89 90] TEST: [45]\n"
     ]
    },
    {
     "name": "stderr",
     "output_type": "stream",
     "text": [
      "C:\\ProgramData\\Anaconda3\\lib\\site-packages\\ipykernel_launcher.py:209: DataConversionWarning: A column-vector y was passed when a 1d array was expected. Please change the shape of y to (n_samples,), for example using ravel().\n",
      "C:\\ProgramData\\Anaconda3\\lib\\site-packages\\ipykernel_launcher.py:209: DataConversionWarning: A column-vector y was passed when a 1d array was expected. Please change the shape of y to (n_samples,), for example using ravel().\n"
     ]
    },
    {
     "name": "stdout",
     "output_type": "stream",
     "text": [
      "Mean Absolute Error: 0.0018220000000002123\n",
      "RMSE: 0.0018220000000002123\n",
      "MAE Percent:  0.243043833702003\n",
      "Iteration:  46\n",
      "y_pred:  [0.711792] y_test:  [[0.70997]]\n",
      "TRAIN: [ 0  1  2  3  4  5  6  7  8  9 10 11 12 13 14 15 16 17 18 19 20 21 22 23\n",
      " 24 25 26 27 28 29 30 31 32 33 34 35 36 37 38 39 40 41 42 43 44 45 47 48\n",
      " 49 50 51 52 53 54 55 56 57 58 59 60 61 62 63 64 65 66 67 68 69 70 71 72\n",
      " 73 74 75 76 77 78 79 80 81 82 83 84 85 86 87 88 89 90] TEST: [46]\n",
      "Mean Absolute Error: 0.024847900000000256\n",
      "RMSE: 0.024847900000000256\n",
      "MAE Percent:  3.3145603048536545\n",
      "Iteration:  47\n",
      "y_pred:  [0.8921521] y_test:  [[0.917]]\n",
      "TRAIN: [ 0  1  2  3  4  5  6  7  8  9 10 11 12 13 14 15 16 17 18 19 20 21 22 23\n",
      " 24 25 26 27 28 29 30 31 32 33 34 35 36 37 38 39 40 41 42 43 44 45 46 48\n",
      " 49 50 51 52 53 54 55 56 57 58 59 60 61 62 63 64 65 66 67 68 69 70 71 72\n",
      " 73 74 75 76 77 78 79 80 81 82 83 84 85 86 87 88 89 90] TEST: [47]\n"
     ]
    },
    {
     "name": "stderr",
     "output_type": "stream",
     "text": [
      "C:\\ProgramData\\Anaconda3\\lib\\site-packages\\ipykernel_launcher.py:209: DataConversionWarning: A column-vector y was passed when a 1d array was expected. Please change the shape of y to (n_samples,), for example using ravel().\n",
      "C:\\ProgramData\\Anaconda3\\lib\\site-packages\\ipykernel_launcher.py:209: DataConversionWarning: A column-vector y was passed when a 1d array was expected. Please change the shape of y to (n_samples,), for example using ravel().\n"
     ]
    },
    {
     "name": "stdout",
     "output_type": "stream",
     "text": [
      "Mean Absolute Error: 0.2219199999999999\n",
      "RMSE: 0.2219199999999999\n",
      "MAE Percent:  29.602792302492976\n",
      "Iteration:  48\n",
      "y_pred:  [0.35392] y_test:  [[0.132]]\n",
      "TRAIN: [ 0  1  2  3  4  5  6  7  8  9 10 11 12 13 14 15 16 17 18 19 20 21 22 23\n",
      " 24 25 26 27 28 29 30 31 32 33 34 35 36 37 38 39 40 41 42 43 44 45 46 47\n",
      " 49 50 51 52 53 54 55 56 57 58 59 60 61 62 63 64 65 66 67 68 69 70 71 72\n",
      " 73 74 75 76 77 78 79 80 81 82 83 84 85 86 87 88 89 90] TEST: [48]\n",
      "Mean Absolute Error: 0.5305440000000001\n",
      "RMSE: 0.5305440000000001\n",
      "MAE Percent:  70.77137634883671\n",
      "Iteration:  49\n",
      "y_pred:  [1.769544] y_test:  [[1.239]]\n",
      "TRAIN: [ 0  1  2  3  4  5  6  7  8  9 10 11 12 13 14 15 16 17 18 19 20 21 22 23\n",
      " 24 25 26 27 28 29 30 31 32 33 34 35 36 37 38 39 40 41 42 43 44 45 46 47\n",
      " 48 50 51 52 53 54 55 56 57 58 59 60 61 62 63 64 65 66 67 68 69 70 71 72\n",
      " 73 74 75 76 77 78 79 80 81 82 83 84 85 86 87 88 89 90] TEST: [49]\n"
     ]
    },
    {
     "name": "stderr",
     "output_type": "stream",
     "text": [
      "C:\\ProgramData\\Anaconda3\\lib\\site-packages\\ipykernel_launcher.py:209: DataConversionWarning: A column-vector y was passed when a 1d array was expected. Please change the shape of y to (n_samples,), for example using ravel().\n",
      "C:\\ProgramData\\Anaconda3\\lib\\site-packages\\ipykernel_launcher.py:209: DataConversionWarning: A column-vector y was passed when a 1d array was expected. Please change the shape of y to (n_samples,), for example using ravel().\n"
     ]
    },
    {
     "name": "stdout",
     "output_type": "stream",
     "text": [
      "Mean Absolute Error: 0.7912139999999992\n",
      "RMSE: 0.7912139999999992\n",
      "MAE Percent:  105.54318542188474\n",
      "Iteration:  50\n",
      "y_pred:  [1.675214] y_test:  [[0.884]]\n",
      "TRAIN: [ 0  1  2  3  4  5  6  7  8  9 10 11 12 13 14 15 16 17 18 19 20 21 22 23\n",
      " 24 25 26 27 28 29 30 31 32 33 34 35 36 37 38 39 40 41 42 43 44 45 46 47\n",
      " 48 49 51 52 53 54 55 56 57 58 59 60 61 62 63 64 65 66 67 68 69 70 71 72\n",
      " 73 74 75 76 77 78 79 80 81 82 83 84 85 86 87 88 89 90] TEST: [50]\n",
      "Mean Absolute Error: 0.16187100000000232\n",
      "RMSE: 0.16187100000000232\n",
      "MAE Percent:  21.592617126878654\n",
      "Iteration:  51\n",
      "y_pred:  [1.509129] y_test:  [[1.671]]\n",
      "TRAIN: [ 0  1  2  3  4  5  6  7  8  9 10 11 12 13 14 15 16 17 18 19 20 21 22 23\n",
      " 24 25 26 27 28 29 30 31 32 33 34 35 36 37 38 39 40 41 42 43 44 45 46 47\n",
      " 48 49 50 52 53 54 55 56 57 58 59 60 61 62 63 64 65 66 67 68 69 70 71 72\n",
      " 73 74 75 76 77 78 79 80 81 82 83 84 85 86 87 88 89 90] TEST: [51]\n"
     ]
    },
    {
     "name": "stderr",
     "output_type": "stream",
     "text": [
      "C:\\ProgramData\\Anaconda3\\lib\\site-packages\\ipykernel_launcher.py:209: DataConversionWarning: A column-vector y was passed when a 1d array was expected. Please change the shape of y to (n_samples,), for example using ravel().\n",
      "C:\\ProgramData\\Anaconda3\\lib\\site-packages\\ipykernel_launcher.py:209: DataConversionWarning: A column-vector y was passed when a 1d array was expected. Please change the shape of y to (n_samples,), for example using ravel().\n"
     ]
    },
    {
     "name": "stdout",
     "output_type": "stream",
     "text": [
      "Mean Absolute Error: 0.7126490000000003\n",
      "RMSE: 0.7126490000000003\n",
      "MAE Percent:  95.06308729082252\n",
      "Iteration:  52\n",
      "y_pred:  [1.196649] y_test:  [[0.484]]\n",
      "TRAIN: [ 0  1  2  3  4  5  6  7  8  9 10 11 12 13 14 15 16 17 18 19 20 21 22 23\n",
      " 24 25 26 27 28 29 30 31 32 33 34 35 36 37 38 39 40 41 42 43 44 45 46 47\n",
      " 48 49 50 51 53 54 55 56 57 58 59 60 61 62 63 64 65 66 67 68 69 70 71 72\n",
      " 73 74 75 76 77 78 79 80 81 82 83 84 85 86 87 88 89 90] TEST: [52]\n",
      "Mean Absolute Error: 0.1157450000000001\n",
      "RMSE: 0.1157450000000001\n",
      "MAE Percent:  15.439686351171837\n",
      "Iteration:  53\n",
      "y_pred:  [0.266545] y_test:  [[0.1508]]\n",
      "TRAIN: [ 0  1  2  3  4  5  6  7  8  9 10 11 12 13 14 15 16 17 18 19 20 21 22 23\n",
      " 24 25 26 27 28 29 30 31 32 33 34 35 36 37 38 39 40 41 42 43 44 45 46 47\n",
      " 48 49 50 51 52 54 55 56 57 58 59 60 61 62 63 64 65 66 67 68 69 70 71 72\n",
      " 73 74 75 76 77 78 79 80 81 82 83 84 85 86 87 88 89 90] TEST: [53]\n"
     ]
    },
    {
     "name": "stderr",
     "output_type": "stream",
     "text": [
      "C:\\ProgramData\\Anaconda3\\lib\\site-packages\\ipykernel_launcher.py:209: DataConversionWarning: A column-vector y was passed when a 1d array was expected. Please change the shape of y to (n_samples,), for example using ravel().\n",
      "C:\\ProgramData\\Anaconda3\\lib\\site-packages\\ipykernel_launcher.py:209: DataConversionWarning: A column-vector y was passed when a 1d array was expected. Please change the shape of y to (n_samples,), for example using ravel().\n"
     ]
    },
    {
     "name": "stdout",
     "output_type": "stream",
     "text": [
      "Mean Absolute Error: 0.8302096999999999\n",
      "RMSE: 0.8302096999999999\n",
      "MAE Percent:  110.74497709361486\n",
      "Iteration:  54\n",
      "y_pred:  [1.8240097] y_test:  [[0.9938]]\n",
      "TRAIN: [ 0  1  2  3  4  5  6  7  8  9 10 11 12 13 14 15 16 17 18 19 20 21 22 23\n",
      " 24 25 26 27 28 29 30 31 32 33 34 35 36 37 38 39 40 41 42 43 44 45 46 47\n",
      " 48 49 50 51 52 53 55 56 57 58 59 60 61 62 63 64 65 66 67 68 69 70 71 72\n",
      " 73 74 75 76 77 78 79 80 81 82 83 84 85 86 87 88 89 90] TEST: [54]\n",
      "Mean Absolute Error: 0.07529800000000031\n",
      "RMSE: 0.07529800000000031\n",
      "MAE Percent:  10.04429999456167\n",
      "Iteration:  55\n",
      "y_pred:  [1.305298] y_test:  [[1.23]]\n",
      "TRAIN: [ 0  1  2  3  4  5  6  7  8  9 10 11 12 13 14 15 16 17 18 19 20 21 22 23\n",
      " 24 25 26 27 28 29 30 31 32 33 34 35 36 37 38 39 40 41 42 43 44 45 46 47\n",
      " 48 49 50 51 52 53 54 56 57 58 59 60 61 62 63 64 65 66 67 68 69 70 71 72\n",
      " 73 74 75 76 77 78 79 80 81 82 83 84 85 86 87 88 89 90] TEST: [55]\n"
     ]
    },
    {
     "name": "stderr",
     "output_type": "stream",
     "text": [
      "C:\\ProgramData\\Anaconda3\\lib\\site-packages\\ipykernel_launcher.py:209: DataConversionWarning: A column-vector y was passed when a 1d array was expected. Please change the shape of y to (n_samples,), for example using ravel().\n",
      "C:\\ProgramData\\Anaconda3\\lib\\site-packages\\ipykernel_launcher.py:209: DataConversionWarning: A column-vector y was passed when a 1d array was expected. Please change the shape of y to (n_samples,), for example using ravel().\n"
     ]
    },
    {
     "name": "stdout",
     "output_type": "stream",
     "text": [
      "Mean Absolute Error: 0.3741799999999994\n",
      "RMSE: 0.3741799999999994\n",
      "MAE Percent:  49.9133598762924\n",
      "Iteration:  56\n",
      "y_pred:  [1.29618] y_test:  [[0.922]]\n",
      "TRAIN: [ 0  1  2  3  4  5  6  7  8  9 10 11 12 13 14 15 16 17 18 19 20 21 22 23\n",
      " 24 25 26 27 28 29 30 31 32 33 34 35 36 37 38 39 40 41 42 43 44 45 46 47\n",
      " 48 49 50 51 52 53 54 55 57 58 59 60 61 62 63 64 65 66 67 68 69 70 71 72\n",
      " 73 74 75 76 77 78 79 80 81 82 83 84 85 86 87 88 89 90] TEST: [56]\n",
      "Mean Absolute Error: 0.07817300000000019\n",
      "RMSE: 0.07817300000000019\n",
      "MAE Percent:  10.427807690441554\n",
      "Iteration:  57\n",
      "y_pred:  [0.247827] y_test:  [[0.326]]\n",
      "TRAIN: [ 0  1  2  3  4  5  6  7  8  9 10 11 12 13 14 15 16 17 18 19 20 21 22 23\n",
      " 24 25 26 27 28 29 30 31 32 33 34 35 36 37 38 39 40 41 42 43 44 45 46 47\n",
      " 48 49 50 51 52 53 54 55 56 58 59 60 61 62 63 64 65 66 67 68 69 70 71 72\n",
      " 73 74 75 76 77 78 79 80 81 82 83 84 85 86 87 88 89 90] TEST: [57]\n"
     ]
    },
    {
     "name": "stderr",
     "output_type": "stream",
     "text": [
      "C:\\ProgramData\\Anaconda3\\lib\\site-packages\\ipykernel_launcher.py:209: DataConversionWarning: A column-vector y was passed when a 1d array was expected. Please change the shape of y to (n_samples,), for example using ravel().\n",
      "C:\\ProgramData\\Anaconda3\\lib\\site-packages\\ipykernel_launcher.py:209: DataConversionWarning: A column-vector y was passed when a 1d array was expected. Please change the shape of y to (n_samples,), for example using ravel().\n"
     ]
    },
    {
     "name": "stdout",
     "output_type": "stream",
     "text": [
      "Mean Absolute Error: 0.1873159999999996\n",
      "RMSE: 0.1873159999999996\n",
      "MAE Percent:  24.98682697789187\n",
      "Iteration:  58\n",
      "y_pred:  [1.553316] y_test:  [[1.366]]\n",
      "TRAIN: [ 0  1  2  3  4  5  6  7  8  9 10 11 12 13 14 15 16 17 18 19 20 21 22 23\n",
      " 24 25 26 27 28 29 30 31 32 33 34 35 36 37 38 39 40 41 42 43 44 45 46 47\n",
      " 48 49 50 51 52 53 54 55 56 57 59 60 61 62 63 64 65 66 67 68 69 70 71 72\n",
      " 73 74 75 76 77 78 79 80 81 82 83 84 85 86 87 88 89 90] TEST: [58]\n",
      "Mean Absolute Error: 0.12442399999999997\n",
      "RMSE: 0.12442399999999997\n",
      "MAE Percent:  16.597412713795\n",
      "Iteration:  59\n",
      "y_pred:  [0.124424] y_test:  [[0.]]\n",
      "TRAIN: [ 0  1  2  3  4  5  6  7  8  9 10 11 12 13 14 15 16 17 18 19 20 21 22 23\n",
      " 24 25 26 27 28 29 30 31 32 33 34 35 36 37 38 39 40 41 42 43 44 45 46 47\n",
      " 48 49 50 51 52 53 54 55 56 57 58 60 61 62 63 64 65 66 67 68 69 70 71 72\n",
      " 73 74 75 76 77 78 79 80 81 82 83 84 85 86 87 88 89 90] TEST: [59]\n"
     ]
    },
    {
     "name": "stderr",
     "output_type": "stream",
     "text": [
      "C:\\ProgramData\\Anaconda3\\lib\\site-packages\\ipykernel_launcher.py:209: DataConversionWarning: A column-vector y was passed when a 1d array was expected. Please change the shape of y to (n_samples,), for example using ravel().\n",
      "C:\\ProgramData\\Anaconda3\\lib\\site-packages\\ipykernel_launcher.py:209: DataConversionWarning: A column-vector y was passed when a 1d array was expected. Please change the shape of y to (n_samples,), for example using ravel().\n"
     ]
    },
    {
     "name": "stdout",
     "output_type": "stream",
     "text": [
      "Mean Absolute Error: 0.4916821000000007\n",
      "RMSE: 0.4916821000000007\n",
      "MAE Percent:  65.58743279178806\n",
      "Iteration:  60\n",
      "y_pred:  [1.0636821] y_test:  [[0.572]]\n",
      "TRAIN: [ 0  1  2  3  4  5  6  7  8  9 10 11 12 13 14 15 16 17 18 19 20 21 22 23\n",
      " 24 25 26 27 28 29 30 31 32 33 34 35 36 37 38 39 40 41 42 43 44 45 46 47\n",
      " 48 49 50 51 52 53 54 55 56 57 58 59 61 62 63 64 65 66 67 68 69 70 71 72\n",
      " 73 74 75 76 77 78 79 80 81 82 83 84 85 86 87 88 89 90] TEST: [60]\n",
      "Mean Absolute Error: 0.3047158\n",
      "RMSE: 0.3047158\n",
      "MAE Percent:  40.64725368911316\n",
      "Iteration:  61\n",
      "y_pred:  [0.6857158] y_test:  [[0.381]]\n",
      "TRAIN: [ 0  1  2  3  4  5  6  7  8  9 10 11 12 13 14 15 16 17 18 19 20 21 22 23\n",
      " 24 25 26 27 28 29 30 31 32 33 34 35 36 37 38 39 40 41 42 43 44 45 46 47\n",
      " 48 49 50 51 52 53 54 55 56 57 58 59 60 62 63 64 65 66 67 68 69 70 71 72\n",
      " 73 74 75 76 77 78 79 80 81 82 83 84 85 86 87 88 89 90] TEST: [61]\n"
     ]
    },
    {
     "name": "stderr",
     "output_type": "stream",
     "text": [
      "C:\\ProgramData\\Anaconda3\\lib\\site-packages\\ipykernel_launcher.py:209: DataConversionWarning: A column-vector y was passed when a 1d array was expected. Please change the shape of y to (n_samples,), for example using ravel().\n",
      "C:\\ProgramData\\Anaconda3\\lib\\site-packages\\ipykernel_launcher.py:209: DataConversionWarning: A column-vector y was passed when a 1d array was expected. Please change the shape of y to (n_samples,), for example using ravel().\n"
     ]
    },
    {
     "name": "stdout",
     "output_type": "stream",
     "text": [
      "Mean Absolute Error: 0.025143000000000082\n",
      "RMSE: 0.025143000000000082\n",
      "MAE Percent:  3.353924868698556\n",
      "Iteration:  62\n",
      "y_pred:  [0.150143] y_test:  [[0.125]]\n",
      "TRAIN: [ 0  1  2  3  4  5  6  7  8  9 10 11 12 13 14 15 16 17 18 19 20 21 22 23\n",
      " 24 25 26 27 28 29 30 31 32 33 34 35 36 37 38 39 40 41 42 43 44 45 46 47\n",
      " 48 49 50 51 52 53 54 55 56 57 58 59 60 61 63 64 65 66 67 68 69 70 71 72\n",
      " 73 74 75 76 77 78 79 80 81 82 83 84 85 86 87 88 89 90] TEST: [62]\n",
      "Mean Absolute Error: 0.6542923000000005\n",
      "RMSE: 0.6542923000000005\n",
      "MAE Percent:  87.2786547495514\n",
      "Iteration:  63\n",
      "y_pred:  [1.3667077] y_test:  [[2.021]]\n",
      "TRAIN: [ 0  1  2  3  4  5  6  7  8  9 10 11 12 13 14 15 16 17 18 19 20 21 22 23\n",
      " 24 25 26 27 28 29 30 31 32 33 34 35 36 37 38 39 40 41 42 43 44 45 46 47\n",
      " 48 49 50 51 52 53 54 55 56 57 58 59 60 61 62 64 65 66 67 68 69 70 71 72\n",
      " 73 74 75 76 77 78 79 80 81 82 83 84 85 86 87 88 89 90] TEST: [63]\n"
     ]
    },
    {
     "name": "stderr",
     "output_type": "stream",
     "text": [
      "C:\\ProgramData\\Anaconda3\\lib\\site-packages\\ipykernel_launcher.py:209: DataConversionWarning: A column-vector y was passed when a 1d array was expected. Please change the shape of y to (n_samples,), for example using ravel().\n",
      "C:\\ProgramData\\Anaconda3\\lib\\site-packages\\ipykernel_launcher.py:209: DataConversionWarning: A column-vector y was passed when a 1d array was expected. Please change the shape of y to (n_samples,), for example using ravel().\n"
     ]
    },
    {
     "name": "stdout",
     "output_type": "stream",
     "text": [
      "Mean Absolute Error: 0.7125456000000004\n",
      "RMSE: 0.7125456000000004\n",
      "MAE Percent:  95.04929435316897\n",
      "Iteration:  64\n",
      "y_pred:  [0.5544544] y_test:  [[1.267]]\n",
      "TRAIN: [ 0  1  2  3  4  5  6  7  8  9 10 11 12 13 14 15 16 17 18 19 20 21 22 23\n",
      " 24 25 26 27 28 29 30 31 32 33 34 35 36 37 38 39 40 41 42 43 44 45 46 47\n",
      " 48 49 50 51 52 53 54 55 56 57 58 59 60 61 62 63 65 66 67 68 69 70 71 72\n",
      " 73 74 75 76 77 78 79 80 81 82 83 84 85 86 87 88 89 90] TEST: [64]\n",
      "Mean Absolute Error: 0.03802099999999986\n",
      "RMSE: 0.03802099999999986\n",
      "MAE Percent:  5.071772558278126\n",
      "Iteration:  65\n",
      "y_pred:  [0.652679] y_test:  [[0.6907]]\n",
      "TRAIN: [ 0  1  2  3  4  5  6  7  8  9 10 11 12 13 14 15 16 17 18 19 20 21 22 23\n",
      " 24 25 26 27 28 29 30 31 32 33 34 35 36 37 38 39 40 41 42 43 44 45 46 47\n",
      " 48 49 50 51 52 53 54 55 56 57 58 59 60 61 62 63 64 66 67 68 69 70 71 72\n",
      " 73 74 75 76 77 78 79 80 81 82 83 84 85 86 87 88 89 90] TEST: [65]\n"
     ]
    },
    {
     "name": "stderr",
     "output_type": "stream",
     "text": [
      "C:\\ProgramData\\Anaconda3\\lib\\site-packages\\ipykernel_launcher.py:209: DataConversionWarning: A column-vector y was passed when a 1d array was expected. Please change the shape of y to (n_samples,), for example using ravel().\n",
      "C:\\ProgramData\\Anaconda3\\lib\\site-packages\\ipykernel_launcher.py:209: DataConversionWarning: A column-vector y was passed when a 1d array was expected. Please change the shape of y to (n_samples,), for example using ravel().\n"
     ]
    },
    {
     "name": "stdout",
     "output_type": "stream",
     "text": [
      "Mean Absolute Error: 0.061340599999999634\n",
      "RMSE: 0.061340599999999634\n",
      "MAE Percent:  8.182466841701022\n",
      "Iteration:  66\n",
      "y_pred:  [0.8793594] y_test:  [[0.9407]]\n",
      "TRAIN: [ 0  1  2  3  4  5  6  7  8  9 10 11 12 13 14 15 16 17 18 19 20 21 22 23\n",
      " 24 25 26 27 28 29 30 31 32 33 34 35 36 37 38 39 40 41 42 43 44 45 46 47\n",
      " 48 49 50 51 52 53 54 55 56 57 58 59 60 61 62 63 64 65 67 68 69 70 71 72\n",
      " 73 74 75 76 77 78 79 80 81 82 83 84 85 86 87 88 89 90] TEST: [66]\n",
      "Mean Absolute Error: 0.028061000000000003\n",
      "RMSE: 0.028061000000000003\n",
      "MAE Percent:  3.743168505768997\n",
      "Iteration:  67\n",
      "y_pred:  [0.070539] y_test:  [[0.0986]]\n",
      "TRAIN: [ 0  1  2  3  4  5  6  7  8  9 10 11 12 13 14 15 16 17 18 19 20 21 22 23\n",
      " 24 25 26 27 28 29 30 31 32 33 34 35 36 37 38 39 40 41 42 43 44 45 46 47\n",
      " 48 49 50 51 52 53 54 55 56 57 58 59 60 61 62 63 64 65 66 68 69 70 71 72\n",
      " 73 74 75 76 77 78 79 80 81 82 83 84 85 86 87 88 89 90] TEST: [67]\n"
     ]
    },
    {
     "name": "stderr",
     "output_type": "stream",
     "text": [
      "C:\\ProgramData\\Anaconda3\\lib\\site-packages\\ipykernel_launcher.py:209: DataConversionWarning: A column-vector y was passed when a 1d array was expected. Please change the shape of y to (n_samples,), for example using ravel().\n",
      "C:\\ProgramData\\Anaconda3\\lib\\site-packages\\ipykernel_launcher.py:209: DataConversionWarning: A column-vector y was passed when a 1d array was expected. Please change the shape of y to (n_samples,), for example using ravel().\n"
     ]
    },
    {
     "name": "stdout",
     "output_type": "stream",
     "text": [
      "Mean Absolute Error: 0.17513099999999998\n",
      "RMSE: 0.17513099999999998\n",
      "MAE Percent:  23.361421317267027\n",
      "Iteration:  68\n",
      "y_pred:  [0.175131] y_test:  [[0.]]\n",
      "TRAIN: [ 0  1  2  3  4  5  6  7  8  9 10 11 12 13 14 15 16 17 18 19 20 21 22 23\n",
      " 24 25 26 27 28 29 30 31 32 33 34 35 36 37 38 39 40 41 42 43 44 45 46 47\n",
      " 48 49 50 51 52 53 54 55 56 57 58 59 60 61 62 63 64 65 66 67 69 70 71 72\n",
      " 73 74 75 76 77 78 79 80 81 82 83 84 85 86 87 88 89 90] TEST: [68]\n",
      "Mean Absolute Error: 0.04685800000000026\n",
      "RMSE: 0.04685800000000026\n",
      "MAE Percent:  6.25057516992711\n",
      "Iteration:  69\n",
      "y_pred:  [0.149142] y_test:  [[0.196]]\n",
      "TRAIN: [ 0  1  2  3  4  5  6  7  8  9 10 11 12 13 14 15 16 17 18 19 20 21 22 23\n",
      " 24 25 26 27 28 29 30 31 32 33 34 35 36 37 38 39 40 41 42 43 44 45 46 47\n",
      " 48 49 50 51 52 53 54 55 56 57 58 59 60 61 62 63 64 65 66 67 68 70 71 72\n",
      " 73 74 75 76 77 78 79 80 81 82 83 84 85 86 87 88 89 90] TEST: [69]\n"
     ]
    },
    {
     "name": "stderr",
     "output_type": "stream",
     "text": [
      "C:\\ProgramData\\Anaconda3\\lib\\site-packages\\ipykernel_launcher.py:209: DataConversionWarning: A column-vector y was passed when a 1d array was expected. Please change the shape of y to (n_samples,), for example using ravel().\n",
      "C:\\ProgramData\\Anaconda3\\lib\\site-packages\\ipykernel_launcher.py:209: DataConversionWarning: A column-vector y was passed when a 1d array was expected. Please change the shape of y to (n_samples,), for example using ravel().\n"
     ]
    },
    {
     "name": "stdout",
     "output_type": "stream",
     "text": [
      "Mean Absolute Error: 0.3252876\n",
      "RMSE: 0.3252876\n",
      "MAE Percent:  43.391407991061726\n",
      "Iteration:  70\n",
      "y_pred:  [0.5997124] y_test:  [[0.925]]\n",
      "TRAIN: [ 0  1  2  3  4  5  6  7  8  9 10 11 12 13 14 15 16 17 18 19 20 21 22 23\n",
      " 24 25 26 27 28 29 30 31 32 33 34 35 36 37 38 39 40 41 42 43 44 45 46 47\n",
      " 48 49 50 51 52 53 54 55 56 57 58 59 60 61 62 63 64 65 66 67 68 69 71 72\n",
      " 73 74 75 76 77 78 79 80 81 82 83 84 85 86 87 88 89 90] TEST: [70]\n",
      "Mean Absolute Error: 0.06941599999999992\n",
      "RMSE: 0.06941599999999992\n",
      "MAE Percent:  9.259676597286639\n",
      "Iteration:  71\n",
      "y_pred:  [0.274584] y_test:  [[0.344]]\n",
      "TRAIN: [ 0  1  2  3  4  5  6  7  8  9 10 11 12 13 14 15 16 17 18 19 20 21 22 23\n",
      " 24 25 26 27 28 29 30 31 32 33 34 35 36 37 38 39 40 41 42 43 44 45 46 47\n",
      " 48 49 50 51 52 53 54 55 56 57 58 59 60 61 62 63 64 65 66 67 68 69 70 72\n",
      " 73 74 75 76 77 78 79 80 81 82 83 84 85 86 87 88 89 90] TEST: [71]\n"
     ]
    },
    {
     "name": "stderr",
     "output_type": "stream",
     "text": [
      "C:\\ProgramData\\Anaconda3\\lib\\site-packages\\ipykernel_launcher.py:209: DataConversionWarning: A column-vector y was passed when a 1d array was expected. Please change the shape of y to (n_samples,), for example using ravel().\n",
      "C:\\ProgramData\\Anaconda3\\lib\\site-packages\\ipykernel_launcher.py:209: DataConversionWarning: A column-vector y was passed when a 1d array was expected. Please change the shape of y to (n_samples,), for example using ravel().\n"
     ]
    },
    {
     "name": "stdout",
     "output_type": "stream",
     "text": [
      "Mean Absolute Error: 0.0028710000000000124\n",
      "RMSE: 0.0028710000000000124\n",
      "MAE Percent:  0.38297411995519887\n",
      "Iteration:  72\n",
      "y_pred:  [0.258871] y_test:  [[0.256]]\n",
      "TRAIN: [ 0  1  2  3  4  5  6  7  8  9 10 11 12 13 14 15 16 17 18 19 20 21 22 23\n",
      " 24 25 26 27 28 29 30 31 32 33 34 35 36 37 38 39 40 41 42 43 44 45 46 47\n",
      " 48 49 50 51 52 53 54 55 56 57 58 59 60 61 62 63 64 65 66 67 68 69 70 71\n",
      " 73 74 75 76 77 78 79 80 81 82 83 84 85 86 87 88 89 90] TEST: [72]\n",
      "Mean Absolute Error: 0.13284269999999954\n",
      "RMSE: 0.13284269999999954\n",
      "MAE Percent:  17.720416623118112\n",
      "Iteration:  73\n",
      "y_pred:  [0.9025427] y_test:  [[0.7697]]\n",
      "TRAIN: [ 0  1  2  3  4  5  6  7  8  9 10 11 12 13 14 15 16 17 18 19 20 21 22 23\n",
      " 24 25 26 27 28 29 30 31 32 33 34 35 36 37 38 39 40 41 42 43 44 45 46 47\n",
      " 48 49 50 51 52 53 54 55 56 57 58 59 60 61 62 63 64 65 66 67 68 69 70 71\n",
      " 72 74 75 76 77 78 79 80 81 82 83 84 85 86 87 88 89 90] TEST: [73]\n"
     ]
    },
    {
     "name": "stderr",
     "output_type": "stream",
     "text": [
      "C:\\ProgramData\\Anaconda3\\lib\\site-packages\\ipykernel_launcher.py:209: DataConversionWarning: A column-vector y was passed when a 1d array was expected. Please change the shape of y to (n_samples,), for example using ravel().\n",
      "C:\\ProgramData\\Anaconda3\\lib\\site-packages\\ipykernel_launcher.py:209: DataConversionWarning: A column-vector y was passed when a 1d array was expected. Please change the shape of y to (n_samples,), for example using ravel().\n"
     ]
    },
    {
     "name": "stdout",
     "output_type": "stream",
     "text": [
      "Mean Absolute Error: 0.14609200000000033\n",
      "RMSE: 0.14609200000000033\n",
      "MAE Percent:  19.487793497908324\n",
      "Iteration:  74\n",
      "y_pred:  [1.095092] y_test:  [[0.949]]\n",
      "TRAIN: [ 0  1  2  3  4  5  6  7  8  9 10 11 12 13 14 15 16 17 18 19 20 21 22 23\n",
      " 24 25 26 27 28 29 30 31 32 33 34 35 36 37 38 39 40 41 42 43 44 45 46 47\n",
      " 48 49 50 51 52 53 54 55 56 57 58 59 60 61 62 63 64 65 66 67 68 69 70 71\n",
      " 72 73 75 76 77 78 79 80 81 82 83 84 85 86 87 88 89 90] TEST: [74]\n",
      "Mean Absolute Error: 0.5141220000000004\n",
      "RMSE: 0.5141220000000004\n",
      "MAE Percent:  68.58078038997077\n",
      "Iteration:  75\n",
      "y_pred:  [1.505878] y_test:  [[2.02]]\n",
      "TRAIN: [ 0  1  2  3  4  5  6  7  8  9 10 11 12 13 14 15 16 17 18 19 20 21 22 23\n",
      " 24 25 26 27 28 29 30 31 32 33 34 35 36 37 38 39 40 41 42 43 44 45 46 47\n",
      " 48 49 50 51 52 53 54 55 56 57 58 59 60 61 62 63 64 65 66 67 68 69 70 71\n",
      " 72 73 74 76 77 78 79 80 81 82 83 84 85 86 87 88 89 90] TEST: [75]\n"
     ]
    },
    {
     "name": "stderr",
     "output_type": "stream",
     "text": [
      "C:\\ProgramData\\Anaconda3\\lib\\site-packages\\ipykernel_launcher.py:209: DataConversionWarning: A column-vector y was passed when a 1d array was expected. Please change the shape of y to (n_samples,), for example using ravel().\n",
      "C:\\ProgramData\\Anaconda3\\lib\\site-packages\\ipykernel_launcher.py:209: DataConversionWarning: A column-vector y was passed when a 1d array was expected. Please change the shape of y to (n_samples,), for example using ravel().\n"
     ]
    },
    {
     "name": "stdout",
     "output_type": "stream",
     "text": [
      "Mean Absolute Error: 0.12498819999999966\n",
      "RMSE: 0.12498819999999966\n",
      "MAE Percent:  16.672673597974242\n",
      "Iteration:  76\n",
      "y_pred:  [0.6719882] y_test:  [[0.547]]\n",
      "TRAIN: [ 0  1  2  3  4  5  6  7  8  9 10 11 12 13 14 15 16 17 18 19 20 21 22 23\n",
      " 24 25 26 27 28 29 30 31 32 33 34 35 36 37 38 39 40 41 42 43 44 45 46 47\n",
      " 48 49 50 51 52 53 54 55 56 57 58 59 60 61 62 63 64 65 66 67 68 69 70 71\n",
      " 72 73 74 75 77 78 79 80 81 82 83 84 85 86 87 88 89 90] TEST: [76]\n",
      "Mean Absolute Error: 0.22495259999999995\n",
      "RMSE: 0.22495259999999995\n",
      "MAE Percent:  30.007322889806154\n",
      "Iteration:  77\n",
      "y_pred:  [1.0850474] y_test:  [[1.31]]\n",
      "TRAIN: [ 0  1  2  3  4  5  6  7  8  9 10 11 12 13 14 15 16 17 18 19 20 21 22 23\n",
      " 24 25 26 27 28 29 30 31 32 33 34 35 36 37 38 39 40 41 42 43 44 45 46 47\n",
      " 48 49 50 51 52 53 54 55 56 57 58 59 60 61 62 63 64 65 66 67 68 69 70 71\n",
      " 72 73 74 75 76 78 79 80 81 82 83 84 85 86 87 88 89 90] TEST: [77]\n"
     ]
    },
    {
     "name": "stderr",
     "output_type": "stream",
     "text": [
      "C:\\ProgramData\\Anaconda3\\lib\\site-packages\\ipykernel_launcher.py:209: DataConversionWarning: A column-vector y was passed when a 1d array was expected. Please change the shape of y to (n_samples,), for example using ravel().\n",
      "C:\\ProgramData\\Anaconda3\\lib\\site-packages\\ipykernel_launcher.py:209: DataConversionWarning: A column-vector y was passed when a 1d array was expected. Please change the shape of y to (n_samples,), for example using ravel().\n"
     ]
    },
    {
     "name": "stdout",
     "output_type": "stream",
     "text": [
      "Mean Absolute Error: 0.228675\n",
      "RMSE: 0.228675\n",
      "MAE Percent:  30.503868645334283\n",
      "Iteration:  78\n",
      "y_pred:  [0.201225] y_test:  [[0.4299]]\n",
      "TRAIN: [ 0  1  2  3  4  5  6  7  8  9 10 11 12 13 14 15 16 17 18 19 20 21 22 23\n",
      " 24 25 26 27 28 29 30 31 32 33 34 35 36 37 38 39 40 41 42 43 44 45 46 47\n",
      " 48 49 50 51 52 53 54 55 56 57 58 59 60 61 62 63 64 65 66 67 68 69 70 71\n",
      " 72 73 74 75 76 77 79 80 81 82 83 84 85 86 87 88 89 90] TEST: [78]\n",
      "Mean Absolute Error: 0.13165699999999994\n",
      "RMSE: 0.13165699999999994\n",
      "MAE Percent:  17.562251379638237\n",
      "Iteration:  79\n",
      "y_pred:  [0.131657] y_test:  [[0.]]\n",
      "TRAIN: [ 0  1  2  3  4  5  6  7  8  9 10 11 12 13 14 15 16 17 18 19 20 21 22 23\n",
      " 24 25 26 27 28 29 30 31 32 33 34 35 36 37 38 39 40 41 42 43 44 45 46 47\n",
      " 48 49 50 51 52 53 54 55 56 57 58 59 60 61 62 63 64 65 66 67 68 69 70 71\n",
      " 72 73 74 75 76 77 78 80 81 82 83 84 85 86 87 88 89 90] TEST: [79]\n"
     ]
    },
    {
     "name": "stderr",
     "output_type": "stream",
     "text": [
      "C:\\ProgramData\\Anaconda3\\lib\\site-packages\\ipykernel_launcher.py:209: DataConversionWarning: A column-vector y was passed when a 1d array was expected. Please change the shape of y to (n_samples,), for example using ravel().\n",
      "C:\\ProgramData\\Anaconda3\\lib\\site-packages\\ipykernel_launcher.py:209: DataConversionWarning: A column-vector y was passed when a 1d array was expected. Please change the shape of y to (n_samples,), for example using ravel().\n"
     ]
    },
    {
     "name": "stdout",
     "output_type": "stream",
     "text": [
      "Mean Absolute Error: 0.026529000000000025\n",
      "RMSE: 0.026529000000000025\n",
      "MAE Percent:  3.538808926607954\n",
      "Iteration:  80\n",
      "y_pred:  [0.302529] y_test:  [[0.276]]\n",
      "TRAIN: [ 0  1  2  3  4  5  6  7  8  9 10 11 12 13 14 15 16 17 18 19 20 21 22 23\n",
      " 24 25 26 27 28 29 30 31 32 33 34 35 36 37 38 39 40 41 42 43 44 45 46 47\n",
      " 48 49 50 51 52 53 54 55 56 57 58 59 60 61 62 63 64 65 66 67 68 69 70 71\n",
      " 72 73 74 75 76 77 78 79 81 82 83 84 85 86 87 88 89 90] TEST: [80]\n",
      "Mean Absolute Error: 0.1396679999999999\n",
      "RMSE: 0.1396679999999999\n",
      "MAE Percent:  18.6308705628361\n",
      "Iteration:  81\n",
      "y_pred:  [1.346668] y_test:  [[1.207]]\n",
      "TRAIN: [ 0  1  2  3  4  5  6  7  8  9 10 11 12 13 14 15 16 17 18 19 20 21 22 23\n",
      " 24 25 26 27 28 29 30 31 32 33 34 35 36 37 38 39 40 41 42 43 44 45 46 47\n",
      " 48 49 50 51 52 53 54 55 56 57 58 59 60 61 62 63 64 65 66 67 68 69 70 71\n",
      " 72 73 74 75 76 77 78 79 80 82 83 84 85 86 87 88 89 90] TEST: [81]\n"
     ]
    },
    {
     "name": "stderr",
     "output_type": "stream",
     "text": [
      "C:\\ProgramData\\Anaconda3\\lib\\site-packages\\ipykernel_launcher.py:209: DataConversionWarning: A column-vector y was passed when a 1d array was expected. Please change the shape of y to (n_samples,), for example using ravel().\n",
      "C:\\ProgramData\\Anaconda3\\lib\\site-packages\\ipykernel_launcher.py:209: DataConversionWarning: A column-vector y was passed when a 1d array was expected. Please change the shape of y to (n_samples,), for example using ravel().\n"
     ]
    },
    {
     "name": "stdout",
     "output_type": "stream",
     "text": [
      "Mean Absolute Error: 0.988450000000002\n",
      "RMSE: 0.988450000000002\n",
      "MAE Percent:  131.85328069303915\n",
      "Iteration:  82\n",
      "y_pred:  [1.53555] y_test:  [[2.524]]\n",
      "TRAIN: [ 0  1  2  3  4  5  6  7  8  9 10 11 12 13 14 15 16 17 18 19 20 21 22 23\n",
      " 24 25 26 27 28 29 30 31 32 33 34 35 36 37 38 39 40 41 42 43 44 45 46 47\n",
      " 48 49 50 51 52 53 54 55 56 57 58 59 60 61 62 63 64 65 66 67 68 69 70 71\n",
      " 72 73 74 75 76 77 78 79 80 81 83 84 85 86 87 88 89 90] TEST: [82]\n",
      "Mean Absolute Error: 0.6755780000000005\n",
      "RMSE: 0.6755780000000005\n",
      "MAE Percent:  90.11803901466124\n",
      "Iteration:  83\n",
      "y_pred:  [1.387422] y_test:  [[2.063]]\n",
      "TRAIN: [ 0  1  2  3  4  5  6  7  8  9 10 11 12 13 14 15 16 17 18 19 20 21 22 23\n",
      " 24 25 26 27 28 29 30 31 32 33 34 35 36 37 38 39 40 41 42 43 44 45 46 47\n",
      " 48 49 50 51 52 53 54 55 56 57 58 59 60 61 62 63 64 65 66 67 68 69 70 71\n",
      " 72 73 74 75 76 77 78 79 80 81 82 84 85 86 87 88 89 90] TEST: [83]\n"
     ]
    },
    {
     "name": "stderr",
     "output_type": "stream",
     "text": [
      "C:\\ProgramData\\Anaconda3\\lib\\site-packages\\ipykernel_launcher.py:209: DataConversionWarning: A column-vector y was passed when a 1d array was expected. Please change the shape of y to (n_samples,), for example using ravel().\n",
      "C:\\ProgramData\\Anaconda3\\lib\\site-packages\\ipykernel_launcher.py:209: DataConversionWarning: A column-vector y was passed when a 1d array was expected. Please change the shape of y to (n_samples,), for example using ravel().\n"
     ]
    },
    {
     "name": "stdout",
     "output_type": "stream",
     "text": [
      "Mean Absolute Error: 0.2509129999999998\n",
      "RMSE: 0.2509129999999998\n",
      "MAE Percent:  33.470283998717626\n",
      "Iteration:  84\n",
      "y_pred:  [0.633913] y_test:  [[0.383]]\n",
      "TRAIN: [ 0  1  2  3  4  5  6  7  8  9 10 11 12 13 14 15 16 17 18 19 20 21 22 23\n",
      " 24 25 26 27 28 29 30 31 32 33 34 35 36 37 38 39 40 41 42 43 44 45 46 47\n",
      " 48 49 50 51 52 53 54 55 56 57 58 59 60 61 62 63 64 65 66 67 68 69 70 71\n",
      " 72 73 74 75 76 77 78 79 80 81 82 83 85 86 87 88 89 90] TEST: [84]\n",
      "Mean Absolute Error: 0.2110390000000001\n",
      "RMSE: 0.2110390000000001\n",
      "MAE Percent:  28.151332393321105\n",
      "Iteration:  85\n",
      "y_pred:  [0.211039] y_test:  [[0.]]\n",
      "TRAIN: [ 0  1  2  3  4  5  6  7  8  9 10 11 12 13 14 15 16 17 18 19 20 21 22 23\n",
      " 24 25 26 27 28 29 30 31 32 33 34 35 36 37 38 39 40 41 42 43 44 45 46 47\n",
      " 48 49 50 51 52 53 54 55 56 57 58 59 60 61 62 63 64 65 66 67 68 69 70 71\n",
      " 72 73 74 75 76 77 78 79 80 81 82 83 84 86 87 88 89 90] TEST: [85]\n"
     ]
    },
    {
     "name": "stderr",
     "output_type": "stream",
     "text": [
      "C:\\ProgramData\\Anaconda3\\lib\\site-packages\\ipykernel_launcher.py:209: DataConversionWarning: A column-vector y was passed when a 1d array was expected. Please change the shape of y to (n_samples,), for example using ravel().\n",
      "C:\\ProgramData\\Anaconda3\\lib\\site-packages\\ipykernel_launcher.py:209: DataConversionWarning: A column-vector y was passed when a 1d array was expected. Please change the shape of y to (n_samples,), for example using ravel().\n"
     ]
    },
    {
     "name": "stdout",
     "output_type": "stream",
     "text": [
      "Mean Absolute Error: 0.060296000000000016\n",
      "RMSE: 0.060296000000000016\n",
      "MAE Percent:  8.043123488965023\n",
      "Iteration:  86\n",
      "y_pred:  [0.327296] y_test:  [[0.267]]\n",
      "TRAIN: [ 0  1  2  3  4  5  6  7  8  9 10 11 12 13 14 15 16 17 18 19 20 21 22 23\n",
      " 24 25 26 27 28 29 30 31 32 33 34 35 36 37 38 39 40 41 42 43 44 45 46 47\n",
      " 48 49 50 51 52 53 54 55 56 57 58 59 60 61 62 63 64 65 66 67 68 69 70 71\n",
      " 72 73 74 75 76 77 78 79 80 81 82 83 84 85 87 88 89 90] TEST: [86]\n",
      "Mean Absolute Error: 0.17410760000000014\n",
      "RMSE: 0.17410760000000014\n",
      "MAE Percent:  23.22490591693192\n",
      "Iteration:  87\n",
      "y_pred:  [1.0958924] y_test:  [[1.27]]\n",
      "TRAIN: [ 0  1  2  3  4  5  6  7  8  9 10 11 12 13 14 15 16 17 18 19 20 21 22 23\n",
      " 24 25 26 27 28 29 30 31 32 33 34 35 36 37 38 39 40 41 42 43 44 45 46 47\n",
      " 48 49 50 51 52 53 54 55 56 57 58 59 60 61 62 63 64 65 66 67 68 69 70 71\n",
      " 72 73 74 75 76 77 78 79 80 81 82 83 84 85 86 88 89 90] TEST: [87]\n"
     ]
    },
    {
     "name": "stderr",
     "output_type": "stream",
     "text": [
      "C:\\ProgramData\\Anaconda3\\lib\\site-packages\\ipykernel_launcher.py:209: DataConversionWarning: A column-vector y was passed when a 1d array was expected. Please change the shape of y to (n_samples,), for example using ravel().\n",
      "C:\\ProgramData\\Anaconda3\\lib\\site-packages\\ipykernel_launcher.py:209: DataConversionWarning: A column-vector y was passed when a 1d array was expected. Please change the shape of y to (n_samples,), for example using ravel().\n"
     ]
    },
    {
     "name": "stdout",
     "output_type": "stream",
     "text": [
      "Mean Absolute Error: 0.056689\n",
      "RMSE: 0.056689\n",
      "MAE Percent:  7.561971398864569\n",
      "Iteration:  88\n",
      "y_pred:  [0.153689] y_test:  [[0.097]]\n",
      "TRAIN: [ 0  1  2  3  4  5  6  7  8  9 10 11 12 13 14 15 16 17 18 19 20 21 22 23\n",
      " 24 25 26 27 28 29 30 31 32 33 34 35 36 37 38 39 40 41 42 43 44 45 46 47\n",
      " 48 49 50 51 52 53 54 55 56 57 58 59 60 61 62 63 64 65 66 67 68 69 70 71\n",
      " 72 73 74 75 76 77 78 79 80 81 82 83 84 85 86 87 89 90] TEST: [88]\n",
      "Mean Absolute Error: 0.10809219999999975\n",
      "RMSE: 0.10809219999999975\n",
      "MAE Percent:  14.418848892031026\n",
      "Iteration:  89\n",
      "y_pred:  [1.0239078] y_test:  [[1.132]]\n",
      "TRAIN: [ 0  1  2  3  4  5  6  7  8  9 10 11 12 13 14 15 16 17 18 19 20 21 22 23\n",
      " 24 25 26 27 28 29 30 31 32 33 34 35 36 37 38 39 40 41 42 43 44 45 46 47\n",
      " 48 49 50 51 52 53 54 55 56 57 58 59 60 61 62 63 64 65 66 67 68 69 70 71\n",
      " 72 73 74 75 76 77 78 79 80 81 82 83 84 85 86 87 88 90] TEST: [89]\n"
     ]
    },
    {
     "name": "stderr",
     "output_type": "stream",
     "text": [
      "C:\\ProgramData\\Anaconda3\\lib\\site-packages\\ipykernel_launcher.py:209: DataConversionWarning: A column-vector y was passed when a 1d array was expected. Please change the shape of y to (n_samples,), for example using ravel().\n",
      "C:\\ProgramData\\Anaconda3\\lib\\site-packages\\ipykernel_launcher.py:209: DataConversionWarning: A column-vector y was passed when a 1d array was expected. Please change the shape of y to (n_samples,), for example using ravel().\n"
     ]
    },
    {
     "name": "stdout",
     "output_type": "stream",
     "text": [
      "Mean Absolute Error: 0.20487499999999992\n",
      "RMSE: 0.20487499999999992\n",
      "MAE Percent:  27.32909189335458\n",
      "Iteration:  90\n",
      "y_pred:  [1.362125] y_test:  [[1.567]]\n",
      "TRAIN: [ 0  1  2  3  4  5  6  7  8  9 10 11 12 13 14 15 16 17 18 19 20 21 22 23\n",
      " 24 25 26 27 28 29 30 31 32 33 34 35 36 37 38 39 40 41 42 43 44 45 46 47\n",
      " 48 49 50 51 52 53 54 55 56 57 58 59 60 61 62 63 64 65 66 67 68 69 70 71\n",
      " 72 73 74 75 76 77 78 79 80 81 82 83 84 85 86 87 88 89] TEST: [90]\n",
      "Mean Absolute Error: 0.4215389999999999\n",
      "RMSE: 0.4215389999999999\n",
      "MAE Percent:  56.23076543078852\n",
      "Iteration:  91\n",
      "y_pred:  [1.171461] y_test:  [[1.593]]\n",
      "RMSE: [0.5269432 1.0451684 0.266993  0.260541  0.020805  0.058152  0.269084\n",
      " 0.186741  0.142149  0.3161111 0.046446  0.182928  0.06162   0.0738783\n",
      " 0.08404   0.17147   0.186493  0.3838724 0.163866  0.034296  0.357691\n",
      " 0.033019  0.0372499 0.073005  0.053218  0.0409489 0.0489047 0.155583\n",
      " 0.2105926 0.04184   0.2139967 0.5715928 0.742742  0.109775  0.127475\n",
      " 0.023025  0.2367062 0.041756  0.1243418 0.105213  0.393432  0.2390787\n",
      " 0.764493  0.0301781 0.1210506 0.001822  0.0248479 0.22192   0.530544\n",
      " 0.791214  0.161871  0.712649  0.115745  0.8302097 0.075298  0.37418\n",
      " 0.078173  0.187316  0.124424  0.4916821 0.3047158 0.025143  0.6542923\n",
      " 0.7125456 0.038021  0.0613406 0.028061  0.175131  0.046858  0.3252876\n",
      " 0.069416  0.002871  0.1328427 0.146092  0.514122  0.1249882 0.2249526\n",
      " 0.228675  0.131657  0.026529  0.139668  0.98845   0.675578  0.250913\n",
      " 0.211039  0.060296  0.1741076 0.056689  0.1080922 0.204875  0.421539 ]\n",
      "MAE: [0.5269432 1.0451684 0.266993  0.260541  0.020805  0.058152  0.269084\n",
      " 0.186741  0.142149  0.3161111 0.046446  0.182928  0.06162   0.0738783\n",
      " 0.08404   0.17147   0.186493  0.3838724 0.163866  0.034296  0.357691\n",
      " 0.033019  0.0372499 0.073005  0.053218  0.0409489 0.0489047 0.155583\n",
      " 0.2105926 0.04184   0.2139967 0.5715928 0.742742  0.109775  0.127475\n",
      " 0.023025  0.2367062 0.041756  0.1243418 0.105213  0.393432  0.2390787\n",
      " 0.764493  0.0301781 0.1210506 0.001822  0.0248479 0.22192   0.530544\n",
      " 0.791214  0.161871  0.712649  0.115745  0.8302097 0.075298  0.37418\n",
      " 0.078173  0.187316  0.124424  0.4916821 0.3047158 0.025143  0.6542923\n",
      " 0.7125456 0.038021  0.0613406 0.028061  0.175131  0.046858  0.3252876\n",
      " 0.069416  0.002871  0.1328427 0.146092  0.514122  0.1249882 0.2249526\n",
      " 0.228675  0.131657  0.026529  0.139668  0.98845   0.675578  0.250913\n",
      " 0.211039  0.060296  0.1741076 0.056689  0.1080922 0.204875  0.421539 ]\n",
      "MAE Percent: [ 70.2910513  139.41917387  35.61525922  34.75460125   2.77526178\n",
      "   7.75712679  35.89418603  24.91012544  18.96182103  42.16731812\n",
      "   6.19561685  24.40149419   8.21973712   9.85492056  11.21043018\n",
      "  22.87306595  24.87704373  51.2062677   21.85873812   4.57487998\n",
      "  47.71382652   4.40453586   4.96891246   9.7384276    7.09896089\n",
      "   5.4623368    6.52359263  20.75383577  28.09178532   5.58120417\n",
      "  28.54587177  76.2470392   99.07731237  14.64332428  17.00439775\n",
      "   3.07139642  31.57518239   5.56999908  16.58644773  14.03478094\n",
      "  52.4814608   31.89165961 101.97876485   4.0255769   16.14742146\n",
      "   0.24304383   3.3145603   29.6027923   70.77137635 105.54318542\n",
      "  21.59261713  95.06308729  15.43968635 110.74497709  10.04429999\n",
      "  49.91335988  10.42780769  24.98682698  16.59741271  65.58743279\n",
      "  40.64725369   3.35392487  87.27865475  95.04929435   5.07177256\n",
      "   8.18246684   3.74316851  23.36142132   6.25057517  43.39140799\n",
      "   9.2596766    0.38297412  17.72041662  19.4877935   68.58078039\n",
      "  16.6726736   30.00732289  30.50386865  17.56225138   3.53880893\n",
      "  18.63087056 131.85328069  90.11803901  33.470284    28.15133239\n",
      "   8.04312349  23.22490592   7.5619714   14.41884889  27.32909189\n",
      "  56.23076543]\n",
      "Average RMSE: 0.23478230000000008 +- 0.2382128439395892\n",
      "Average MAE: 0.23478230000000008 +- 0.2382128439395892\n",
      "Average MAE Percent: 31.318545706568134 +- 31.77615962026782\n",
      "9\n",
      "     Sub_ID Sub_Type  Cut_Off_Time  FIM  FIM_M  BBS  MWT10_SSV  MWT10_FV  \\\n",
      "1390   CVA2   CVA_AD           360   85     56   38      0.595     0.771   \n",
      "1391   CVA4   CVA_AD           360   44     24    3      0.000     0.000   \n",
      "1392   CVA5   CVA_AD           360   62     34    6      0.000     0.000   \n",
      "1393   CVA6   CVA_AD           360   57     35   16      0.783     0.000   \n",
      "1394   CVA9   CVA_AD           360   71     49   37      0.917     1.166   \n",
      "...     ...      ...           ...  ...    ...  ...        ...       ...   \n",
      "1476  CVA51   CVA_DC           360   89     59   37      1.270     2.149   \n",
      "1477  CVA52   CVA_DC           360   61     40    4      0.097     0.000   \n",
      "1478  CVA53   CVA_DC           360   90     64   38      1.132     1.591   \n",
      "1479  CVA54   CVA_DC           360   94     66   44      1.567     2.258   \n",
      "1480  CVA55   CVA_DC           360  120     89   51      1.593     2.992   \n",
      "\n",
      "          MWT6      TUG  ...  DLS_L_Acc_z_PSD_mean  DLS_L_Acc_z_PSD_std  \\\n",
      "1390  193.1210  26.9930  ...              0.002632             0.002837   \n",
      "1391  233.0196   0.0000  ...              0.001878             0.005541   \n",
      "1392   23.0000   0.0000  ...              0.000922             0.004190   \n",
      "1393  124.9700  47.5180  ...              0.001891             0.002734   \n",
      "1394  152.4600  26.3015  ...              0.002023             0.002391   \n",
      "...        ...      ...  ...                   ...                  ...   \n",
      "1476  273.7600  16.6300  ...              0.002799             0.002565   \n",
      "1477   10.5500   0.0000  ...              0.000494             0.001826   \n",
      "1478  228.8800  19.7830  ...              0.002717             0.003530   \n",
      "1479  345.3400  12.1980  ...              0.001778             0.003660   \n",
      "1480  295.8850   8.5103  ...              0.002046             0.004230   \n",
      "\n",
      "      DLS_L_Acc_z_PSD_skew  DLS_L_Acc_z_PSD_kurtosis  DLS_L_Acc_norm_DAmp  \\\n",
      "1390             38.482202               2389.123896             1.542076   \n",
      "1391             65.206423               4978.423068             1.631243   \n",
      "1392             56.011452               3766.428967             1.382668   \n",
      "1393             52.247620               3675.391060             1.446032   \n",
      "1394             16.746425                635.773186             1.458595   \n",
      "...                    ...                       ...                  ...   \n",
      "1476             21.016757               1035.520523             1.645463   \n",
      "1477             62.694025               4709.090140             1.370322   \n",
      "1478             44.863545               3011.513622             1.547320   \n",
      "1479             50.851446               3526.410255             1.580376   \n",
      "1480             50.617479               3537.372605             1.795456   \n",
      "\n",
      "      DLS_L_Acc_norm_DFreq  DLS_L_Acc_norm_PSD_mean  DLS_L_Acc_norm_PSD_std  \\\n",
      "1390                     0                 0.004502                0.018938   \n",
      "1391                     0                 0.003734                0.020297   \n",
      "1392                     0                 0.002574                0.016903   \n",
      "1393                     0                 0.004638                0.017782   \n",
      "1394                     0                 0.002234                0.018008   \n",
      "...                    ...                      ...                     ...   \n",
      "1476                     0                 0.004008                0.020195   \n",
      "1477                     0                 0.001384                0.016756   \n",
      "1478                     0                 0.003953                0.019258   \n",
      "1479                     0                 0.002997                0.019743   \n",
      "1480                     0                 0.004594                0.022987   \n",
      "\n",
      "      DLS_L_Acc_norm_PSD_skew  DLS_L_Acc_norm_PSD_kurtosis  \n",
      "1390                69.799307                  5433.294971  \n",
      "1391                67.300920                  5169.634206  \n",
      "1392                70.965538                  5555.563851  \n",
      "1393                69.398902                  5395.594887  \n",
      "1394                69.085247                  5353.720040  \n",
      "...                       ...                          ...  \n",
      "1476                70.193541                  5465.952605  \n",
      "1477                71.160837                  5572.236338  \n",
      "1478                67.144015                  5157.512588  \n",
      "1479                66.548805                  5093.709903  \n",
      "1480                61.820341                  4604.039159  \n",
      "\n",
      "[91 rows x 352 columns]\n",
      "TRAIN: [ 1  2  3  4  5  6  7  8  9 10 11 12 13 14 15 16 17 18 19 20 21 22 23 24\n",
      " 25 26 27 28 29 30 31 32 33 34 35 36 37 38 39 40 41 42 43 44 45 46 47 48\n",
      " 49 50 51 52 53 54 55 56 57 58 59 60 61 62 63 64 65 66 67 68 69 70 71 72\n",
      " 73 74 75 76 77 78 79 80 81 82 83 84 85 86 87 88 89 90] TEST: [0]\n"
     ]
    },
    {
     "name": "stderr",
     "output_type": "stream",
     "text": [
      "C:\\ProgramData\\Anaconda3\\lib\\site-packages\\ipykernel_launcher.py:209: DataConversionWarning: A column-vector y was passed when a 1d array was expected. Please change the shape of y to (n_samples,), for example using ravel().\n",
      "C:\\ProgramData\\Anaconda3\\lib\\site-packages\\ipykernel_launcher.py:209: DataConversionWarning: A column-vector y was passed when a 1d array was expected. Please change the shape of y to (n_samples,), for example using ravel().\n"
     ]
    },
    {
     "name": "stdout",
     "output_type": "stream",
     "text": [
      "Mean Absolute Error: 0.5042205\n",
      "RMSE: 0.5042205\n",
      "MAE Percent:  67.25997988536032\n",
      "Iteration:  1\n",
      "y_pred:  [1.0992205] y_test:  [[0.595]]\n",
      "TRAIN: [ 0  2  3  4  5  6  7  8  9 10 11 12 13 14 15 16 17 18 19 20 21 22 23 24\n",
      " 25 26 27 28 29 30 31 32 33 34 35 36 37 38 39 40 41 42 43 44 45 46 47 48\n",
      " 49 50 51 52 53 54 55 56 57 58 59 60 61 62 63 64 65 66 67 68 69 70 71 72\n",
      " 73 74 75 76 77 78 79 80 81 82 83 84 85 86 87 88 89 90] TEST: [1]\n",
      "Mean Absolute Error: 1.1194207\n",
      "RMSE: 1.1194207\n",
      "MAE Percent:  149.32398378339633\n",
      "Iteration:  2\n",
      "y_pred:  [1.1194207] y_test:  [[0.]]\n",
      "TRAIN: [ 0  1  3  4  5  6  7  8  9 10 11 12 13 14 15 16 17 18 19 20 21 22 23 24\n",
      " 25 26 27 28 29 30 31 32 33 34 35 36 37 38 39 40 41 42 43 44 45 46 47 48\n",
      " 49 50 51 52 53 54 55 56 57 58 59 60 61 62 63 64 65 66 67 68 69 70 71 72\n",
      " 73 74 75 76 77 78 79 80 81 82 83 84 85 86 87 88 89 90] TEST: [2]\n"
     ]
    },
    {
     "name": "stderr",
     "output_type": "stream",
     "text": [
      "C:\\ProgramData\\Anaconda3\\lib\\site-packages\\ipykernel_launcher.py:209: DataConversionWarning: A column-vector y was passed when a 1d array was expected. Please change the shape of y to (n_samples,), for example using ravel().\n",
      "C:\\ProgramData\\Anaconda3\\lib\\site-packages\\ipykernel_launcher.py:209: DataConversionWarning: A column-vector y was passed when a 1d array was expected. Please change the shape of y to (n_samples,), for example using ravel().\n"
     ]
    },
    {
     "name": "stdout",
     "output_type": "stream",
     "text": [
      "Mean Absolute Error: 0.17402299999999993\n",
      "RMSE: 0.17402299999999993\n",
      "MAE Percent:  23.213620786124437\n",
      "Iteration:  3\n",
      "y_pred:  [0.174023] y_test:  [[0.]]\n",
      "TRAIN: [ 0  1  2  4  5  6  7  8  9 10 11 12 13 14 15 16 17 18 19 20 21 22 23 24\n",
      " 25 26 27 28 29 30 31 32 33 34 35 36 37 38 39 40 41 42 43 44 45 46 47 48\n",
      " 49 50 51 52 53 54 55 56 57 58 59 60 61 62 63 64 65 66 67 68 69 70 71 72\n",
      " 73 74 75 76 77 78 79 80 81 82 83 84 85 86 87 88 89 90] TEST: [3]\n",
      "Mean Absolute Error: 0.18073600000000012\n",
      "RMSE: 0.18073600000000012\n",
      "MAE Percent:  24.10909458175638\n",
      "Iteration:  4\n",
      "y_pred:  [0.602264] y_test:  [[0.783]]\n",
      "TRAIN: [ 0  1  2  3  5  6  7  8  9 10 11 12 13 14 15 16 17 18 19 20 21 22 23 24\n",
      " 25 26 27 28 29 30 31 32 33 34 35 36 37 38 39 40 41 42 43 44 45 46 47 48\n",
      " 49 50 51 52 53 54 55 56 57 58 59 60 61 62 63 64 65 66 67 68 69 70 71 72\n",
      " 73 74 75 76 77 78 79 80 81 82 83 84 85 86 87 88 89 90] TEST: [4]\n"
     ]
    },
    {
     "name": "stderr",
     "output_type": "stream",
     "text": [
      "C:\\ProgramData\\Anaconda3\\lib\\site-packages\\ipykernel_launcher.py:209: DataConversionWarning: A column-vector y was passed when a 1d array was expected. Please change the shape of y to (n_samples,), for example using ravel().\n",
      "C:\\ProgramData\\Anaconda3\\lib\\site-packages\\ipykernel_launcher.py:209: DataConversionWarning: A column-vector y was passed when a 1d array was expected. Please change the shape of y to (n_samples,), for example using ravel().\n"
     ]
    },
    {
     "name": "stdout",
     "output_type": "stream",
     "text": [
      "Mean Absolute Error: 0.05105829999999978\n",
      "RMSE: 0.05105829999999978\n",
      "MAE Percent:  6.81086990905899\n",
      "Iteration:  5\n",
      "y_pred:  [0.8659417] y_test:  [[0.917]]\n",
      "TRAIN: [ 0  1  2  3  4  6  7  8  9 10 11 12 13 14 15 16 17 18 19 20 21 22 23 24\n",
      " 25 26 27 28 29 30 31 32 33 34 35 36 37 38 39 40 41 42 43 44 45 46 47 48\n",
      " 49 50 51 52 53 54 55 56 57 58 59 60 61 62 63 64 65 66 67 68 69 70 71 72\n",
      " 73 74 75 76 77 78 79 80 81 82 83 84 85 86 87 88 89 90] TEST: [5]\n",
      "Mean Absolute Error: 0.03153699999999991\n",
      "RMSE: 0.03153699999999991\n",
      "MAE Percent:  4.20684598433543\n",
      "Iteration:  6\n",
      "y_pred:  [0.117937] y_test:  [[0.0864]]\n",
      "TRAIN: [ 0  1  2  3  4  5  7  8  9 10 11 12 13 14 15 16 17 18 19 20 21 22 23 24\n",
      " 25 26 27 28 29 30 31 32 33 34 35 36 37 38 39 40 41 42 43 44 45 46 47 48\n",
      " 49 50 51 52 53 54 55 56 57 58 59 60 61 62 63 64 65 66 67 68 69 70 71 72\n",
      " 73 74 75 76 77 78 79 80 81 82 83 84 85 86 87 88 89 90] TEST: [6]\n"
     ]
    },
    {
     "name": "stderr",
     "output_type": "stream",
     "text": [
      "C:\\ProgramData\\Anaconda3\\lib\\site-packages\\ipykernel_launcher.py:209: DataConversionWarning: A column-vector y was passed when a 1d array was expected. Please change the shape of y to (n_samples,), for example using ravel().\n",
      "C:\\ProgramData\\Anaconda3\\lib\\site-packages\\ipykernel_launcher.py:209: DataConversionWarning: A column-vector y was passed when a 1d array was expected. Please change the shape of y to (n_samples,), for example using ravel().\n"
     ]
    },
    {
     "name": "stdout",
     "output_type": "stream",
     "text": [
      "Mean Absolute Error: 0.2740019999999992\n",
      "RMSE: 0.2740019999999992\n",
      "MAE Percent:  36.55021763008138\n",
      "Iteration:  7\n",
      "y_pred:  [1.373002] y_test:  [[1.099]]\n",
      "TRAIN: [ 0  1  2  3  4  5  6  8  9 10 11 12 13 14 15 16 17 18 19 20 21 22 23 24\n",
      " 25 26 27 28 29 30 31 32 33 34 35 36 37 38 39 40 41 42 43 44 45 46 47 48\n",
      " 49 50 51 52 53 54 55 56 57 58 59 60 61 62 63 64 65 66 67 68 69 70 71 72\n",
      " 73 74 75 76 77 78 79 80 81 82 83 84 85 86 87 88 89 90] TEST: [7]\n",
      "Mean Absolute Error: 0.13602799999999937\n",
      "RMSE: 0.13602799999999937\n",
      "MAE Percent:  18.145316471356786\n",
      "Iteration:  8\n",
      "y_pred:  [1.303028] y_test:  [[1.167]]\n",
      "TRAIN: [ 0  1  2  3  4  5  6  7  9 10 11 12 13 14 15 16 17 18 19 20 21 22 23 24\n",
      " 25 26 27 28 29 30 31 32 33 34 35 36 37 38 39 40 41 42 43 44 45 46 47 48\n",
      " 49 50 51 52 53 54 55 56 57 58 59 60 61 62 63 64 65 66 67 68 69 70 71 72\n",
      " 73 74 75 76 77 78 79 80 81 82 83 84 85 86 87 88 89 90] TEST: [8]\n"
     ]
    },
    {
     "name": "stderr",
     "output_type": "stream",
     "text": [
      "C:\\ProgramData\\Anaconda3\\lib\\site-packages\\ipykernel_launcher.py:209: DataConversionWarning: A column-vector y was passed when a 1d array was expected. Please change the shape of y to (n_samples,), for example using ravel().\n",
      "C:\\ProgramData\\Anaconda3\\lib\\site-packages\\ipykernel_launcher.py:209: DataConversionWarning: A column-vector y was passed when a 1d array was expected. Please change the shape of y to (n_samples,), for example using ravel().\n"
     ]
    },
    {
     "name": "stdout",
     "output_type": "stream",
     "text": [
      "Mean Absolute Error: 0.06881760000000026\n",
      "RMSE: 0.06881760000000026\n",
      "MAE Percent:  9.179853638951194\n",
      "Iteration:  9\n",
      "y_pred:  [0.3616824] y_test:  [[0.4305]]\n",
      "TRAIN: [ 0  1  2  3  4  5  6  7  8 10 11 12 13 14 15 16 17 18 19 20 21 22 23 24\n",
      " 25 26 27 28 29 30 31 32 33 34 35 36 37 38 39 40 41 42 43 44 45 46 47 48\n",
      " 49 50 51 52 53 54 55 56 57 58 59 60 61 62 63 64 65 66 67 68 69 70 71 72\n",
      " 73 74 75 76 77 78 79 80 81 82 83 84 85 86 87 88 89 90] TEST: [9]\n",
      "Mean Absolute Error: 0.1649210999999997\n",
      "RMSE: 0.1649210999999997\n",
      "MAE Percent:  21.999482108862058\n",
      "Iteration:  10\n",
      "y_pred:  [0.7019211] y_test:  [[0.537]]\n",
      "TRAIN: [ 0  1  2  3  4  5  6  7  8  9 11 12 13 14 15 16 17 18 19 20 21 22 23 24\n",
      " 25 26 27 28 29 30 31 32 33 34 35 36 37 38 39 40 41 42 43 44 45 46 47 48\n",
      " 49 50 51 52 53 54 55 56 57 58 59 60 61 62 63 64 65 66 67 68 69 70 71 72\n",
      " 73 74 75 76 77 78 79 80 81 82 83 84 85 86 87 88 89 90] TEST: [10]\n"
     ]
    },
    {
     "name": "stderr",
     "output_type": "stream",
     "text": [
      "C:\\ProgramData\\Anaconda3\\lib\\site-packages\\ipykernel_launcher.py:209: DataConversionWarning: A column-vector y was passed when a 1d array was expected. Please change the shape of y to (n_samples,), for example using ravel().\n",
      "C:\\ProgramData\\Anaconda3\\lib\\site-packages\\ipykernel_launcher.py:209: DataConversionWarning: A column-vector y was passed when a 1d array was expected. Please change the shape of y to (n_samples,), for example using ravel().\n"
     ]
    },
    {
     "name": "stdout",
     "output_type": "stream",
     "text": [
      "Mean Absolute Error: 0.08372999999999996\n",
      "RMSE: 0.08372999999999996\n",
      "MAE Percent:  11.16907804383443\n",
      "Iteration:  11\n",
      "y_pred:  [0.18673] y_test:  [[0.103]]\n",
      "TRAIN: [ 0  1  2  3  4  5  6  7  8  9 10 12 13 14 15 16 17 18 19 20 21 22 23 24\n",
      " 25 26 27 28 29 30 31 32 33 34 35 36 37 38 39 40 41 42 43 44 45 46 47 48\n",
      " 49 50 51 52 53 54 55 56 57 58 59 60 61 62 63 64 65 66 67 68 69 70 71 72\n",
      " 73 74 75 76 77 78 79 80 81 82 83 84 85 86 87 88 89 90] TEST: [11]\n",
      "Mean Absolute Error: 0.08670799999999979\n",
      "RMSE: 0.08670799999999979\n",
      "MAE Percent:  11.566325319775395\n",
      "Iteration:  12\n",
      "y_pred:  [0.984292] y_test:  [[1.071]]\n",
      "TRAIN: [ 0  1  2  3  4  5  6  7  8  9 10 11 13 14 15 16 17 18 19 20 21 22 23 24\n",
      " 25 26 27 28 29 30 31 32 33 34 35 36 37 38 39 40 41 42 43 44 45 46 47 48\n",
      " 49 50 51 52 53 54 55 56 57 58 59 60 61 62 63 64 65 66 67 68 69 70 71 72\n",
      " 73 74 75 76 77 78 79 80 81 82 83 84 85 86 87 88 89 90] TEST: [12]\n"
     ]
    },
    {
     "name": "stderr",
     "output_type": "stream",
     "text": [
      "C:\\ProgramData\\Anaconda3\\lib\\site-packages\\ipykernel_launcher.py:209: DataConversionWarning: A column-vector y was passed when a 1d array was expected. Please change the shape of y to (n_samples,), for example using ravel().\n",
      "C:\\ProgramData\\Anaconda3\\lib\\site-packages\\ipykernel_launcher.py:209: DataConversionWarning: A column-vector y was passed when a 1d array was expected. Please change the shape of y to (n_samples,), for example using ravel().\n"
     ]
    },
    {
     "name": "stdout",
     "output_type": "stream",
     "text": [
      "Mean Absolute Error: 0.059350000000000236\n",
      "RMSE: 0.059350000000000236\n",
      "MAE Percent:  7.916932782772918\n",
      "Iteration:  13\n",
      "y_pred:  [1.28935] y_test:  [[1.23]]\n",
      "TRAIN: [ 0  1  2  3  4  5  6  7  8  9 10 11 12 14 15 16 17 18 19 20 21 22 23 24\n",
      " 25 26 27 28 29 30 31 32 33 34 35 36 37 38 39 40 41 42 43 44 45 46 47 48\n",
      " 49 50 51 52 53 54 55 56 57 58 59 60 61 62 63 64 65 66 67 68 69 70 71 72\n",
      " 73 74 75 76 77 78 79 80 81 82 83 84 85 86 87 88 89 90] TEST: [13]\n",
      "Mean Absolute Error: 0.026359999999999717\n",
      "RMSE: 0.026359999999999717\n",
      "MAE Percent:  3.5162653437892337\n",
      "Iteration:  14\n",
      "y_pred:  [0.98964] y_test:  [[1.016]]\n",
      "TRAIN: [ 0  1  2  3  4  5  6  7  8  9 10 11 12 13 15 16 17 18 19 20 21 22 23 24\n",
      " 25 26 27 28 29 30 31 32 33 34 35 36 37 38 39 40 41 42 43 44 45 46 47 48\n",
      " 49 50 51 52 53 54 55 56 57 58 59 60 61 62 63 64 65 66 67 68 69 70 71 72\n",
      " 73 74 75 76 77 78 79 80 81 82 83 84 85 86 87 88 89 90] TEST: [14]\n"
     ]
    },
    {
     "name": "stderr",
     "output_type": "stream",
     "text": [
      "C:\\ProgramData\\Anaconda3\\lib\\site-packages\\ipykernel_launcher.py:209: DataConversionWarning: A column-vector y was passed when a 1d array was expected. Please change the shape of y to (n_samples,), for example using ravel().\n",
      "C:\\ProgramData\\Anaconda3\\lib\\site-packages\\ipykernel_launcher.py:209: DataConversionWarning: A column-vector y was passed when a 1d array was expected. Please change the shape of y to (n_samples,), for example using ravel().\n"
     ]
    },
    {
     "name": "stdout",
     "output_type": "stream",
     "text": [
      "Mean Absolute Error: 0.07288000000000017\n",
      "RMSE: 0.07288000000000017\n",
      "MAE Percent:  9.721753348079009\n",
      "Iteration:  15\n",
      "y_pred:  [0.25312] y_test:  [[0.326]]\n",
      "TRAIN: [ 0  1  2  3  4  5  6  7  8  9 10 11 12 13 14 16 17 18 19 20 21 22 23 24\n",
      " 25 26 27 28 29 30 31 32 33 34 35 36 37 38 39 40 41 42 43 44 45 46 47 48\n",
      " 49 50 51 52 53 54 55 56 57 58 59 60 61 62 63 64 65 66 67 68 69 70 71 72\n",
      " 73 74 75 76 77 78 79 80 81 82 83 84 85 86 87 88 89 90] TEST: [15]\n",
      "Mean Absolute Error: 0.29560999999999926\n",
      "RMSE: 0.29560999999999926\n",
      "MAE Percent:  39.43259477532413\n",
      "Iteration:  16\n",
      "y_pred:  [1.47661] y_test:  [[1.181]]\n",
      "TRAIN: [ 0  1  2  3  4  5  6  7  8  9 10 11 12 13 14 15 17 18 19 20 21 22 23 24\n",
      " 25 26 27 28 29 30 31 32 33 34 35 36 37 38 39 40 41 42 43 44 45 46 47 48\n",
      " 49 50 51 52 53 54 55 56 57 58 59 60 61 62 63 64 65 66 67 68 69 70 71 72\n",
      " 73 74 75 76 77 78 79 80 81 82 83 84 85 86 87 88 89 90] TEST: [16]\n"
     ]
    },
    {
     "name": "stderr",
     "output_type": "stream",
     "text": [
      "C:\\ProgramData\\Anaconda3\\lib\\site-packages\\ipykernel_launcher.py:209: DataConversionWarning: A column-vector y was passed when a 1d array was expected. Please change the shape of y to (n_samples,), for example using ravel().\n",
      "C:\\ProgramData\\Anaconda3\\lib\\site-packages\\ipykernel_launcher.py:209: DataConversionWarning: A column-vector y was passed when a 1d array was expected. Please change the shape of y to (n_samples,), for example using ravel().\n"
     ]
    },
    {
     "name": "stdout",
     "output_type": "stream",
     "text": [
      "Mean Absolute Error: 0.13902399999999993\n",
      "RMSE: 0.13902399999999993\n",
      "MAE Percent:  18.544964838959007\n",
      "Iteration:  17\n",
      "y_pred:  [0.139024] y_test:  [[0.]]\n",
      "TRAIN: [ 0  1  2  3  4  5  6  7  8  9 10 11 12 13 14 15 16 18 19 20 21 22 23 24\n",
      " 25 26 27 28 29 30 31 32 33 34 35 36 37 38 39 40 41 42 43 44 45 46 47 48\n",
      " 49 50 51 52 53 54 55 56 57 58 59 60 61 62 63 64 65 66 67 68 69 70 71 72\n",
      " 73 74 75 76 77 78 79 80 81 82 83 84 85 86 87 88 89 90] TEST: [17]\n",
      "Mean Absolute Error: 0.31771269999999935\n",
      "RMSE: 0.31771269999999935\n",
      "MAE Percent:  42.38096192305446\n",
      "Iteration:  18\n",
      "y_pred:  [0.5257127] y_test:  [[0.208]]\n",
      "TRAIN: [ 0  1  2  3  4  5  6  7  8  9 10 11 12 13 14 15 16 17 19 20 21 22 23 24\n",
      " 25 26 27 28 29 30 31 32 33 34 35 36 37 38 39 40 41 42 43 44 45 46 47 48\n",
      " 49 50 51 52 53 54 55 56 57 58 59 60 61 62 63 64 65 66 67 68 69 70 71 72\n",
      " 73 74 75 76 77 78 79 80 81 82 83 84 85 86 87 88 89 90] TEST: [18]\n"
     ]
    },
    {
     "name": "stderr",
     "output_type": "stream",
     "text": [
      "C:\\ProgramData\\Anaconda3\\lib\\site-packages\\ipykernel_launcher.py:209: DataConversionWarning: A column-vector y was passed when a 1d array was expected. Please change the shape of y to (n_samples,), for example using ravel().\n",
      "C:\\ProgramData\\Anaconda3\\lib\\site-packages\\ipykernel_launcher.py:209: DataConversionWarning: A column-vector y was passed when a 1d array was expected. Please change the shape of y to (n_samples,), for example using ravel().\n"
     ]
    },
    {
     "name": "stdout",
     "output_type": "stream",
     "text": [
      "Mean Absolute Error: 0.121897\n",
      "RMSE: 0.121897\n",
      "MAE Percent:  16.26032612336422\n",
      "Iteration:  19\n",
      "y_pred:  [0.121897] y_test:  [[0.]]\n",
      "TRAIN: [ 0  1  2  3  4  5  6  7  8  9 10 11 12 13 14 15 16 17 18 20 21 22 23 24\n",
      " 25 26 27 28 29 30 31 32 33 34 35 36 37 38 39 40 41 42 43 44 45 46 47 48\n",
      " 49 50 51 52 53 54 55 56 57 58 59 60 61 62 63 64 65 66 67 68 69 70 71 72\n",
      " 73 74 75 76 77 78 79 80 81 82 83 84 85 86 87 88 89 90] TEST: [19]\n",
      "Mean Absolute Error: 0.08233999999999919\n",
      "RMSE: 0.08233999999999919\n",
      "MAE Percent:  10.983660410000219\n",
      "Iteration:  20\n",
      "y_pred:  [1.62934] y_test:  [[1.547]]\n",
      "TRAIN: [ 0  1  2  3  4  5  6  7  8  9 10 11 12 13 14 15 16 17 18 19 21 22 23 24\n",
      " 25 26 27 28 29 30 31 32 33 34 35 36 37 38 39 40 41 42 43 44 45 46 47 48\n",
      " 49 50 51 52 53 54 55 56 57 58 59 60 61 62 63 64 65 66 67 68 69 70 71 72\n",
      " 73 74 75 76 77 78 79 80 81 82 83 84 85 86 87 88 89 90] TEST: [20]\n"
     ]
    },
    {
     "name": "stderr",
     "output_type": "stream",
     "text": [
      "C:\\ProgramData\\Anaconda3\\lib\\site-packages\\ipykernel_launcher.py:209: DataConversionWarning: A column-vector y was passed when a 1d array was expected. Please change the shape of y to (n_samples,), for example using ravel().\n",
      "C:\\ProgramData\\Anaconda3\\lib\\site-packages\\ipykernel_launcher.py:209: DataConversionWarning: A column-vector y was passed when a 1d array was expected. Please change the shape of y to (n_samples,), for example using ravel().\n"
     ]
    },
    {
     "name": "stdout",
     "output_type": "stream",
     "text": [
      "Mean Absolute Error: 0.37422930000000004\n",
      "RMSE: 0.37422930000000004\n",
      "MAE Percent:  49.91993619956443\n",
      "Iteration:  21\n",
      "y_pred:  [0.2967707] y_test:  [[0.671]]\n",
      "TRAIN: [ 0  1  2  3  4  5  6  7  8  9 10 11 12 13 14 15 16 17 18 19 20 22 23 24\n",
      " 25 26 27 28 29 30 31 32 33 34 35 36 37 38 39 40 41 42 43 44 45 46 47 48\n",
      " 49 50 51 52 53 54 55 56 57 58 59 60 61 62 63 64 65 66 67 68 69 70 71 72\n",
      " 73 74 75 76 77 78 79 80 81 82 83 84 85 86 87 88 89 90] TEST: [21]\n",
      "Mean Absolute Error: 0.03780399999999989\n",
      "RMSE: 0.03780399999999989\n",
      "MAE Percent:  5.042826064363021\n",
      "Iteration:  22\n",
      "y_pred:  [0.203804] y_test:  [[0.166]]\n",
      "TRAIN: [ 0  1  2  3  4  5  6  7  8  9 10 11 12 13 14 15 16 17 18 19 20 21 23 24\n",
      " 25 26 27 28 29 30 31 32 33 34 35 36 37 38 39 40 41 42 43 44 45 46 47 48\n",
      " 49 50 51 52 53 54 55 56 57 58 59 60 61 62 63 64 65 66 67 68 69 70 71 72\n",
      " 73 74 75 76 77 78 79 80 81 82 83 84 85 86 87 88 89 90] TEST: [22]\n"
     ]
    },
    {
     "name": "stderr",
     "output_type": "stream",
     "text": [
      "C:\\ProgramData\\Anaconda3\\lib\\site-packages\\ipykernel_launcher.py:209: DataConversionWarning: A column-vector y was passed when a 1d array was expected. Please change the shape of y to (n_samples,), for example using ravel().\n",
      "C:\\ProgramData\\Anaconda3\\lib\\site-packages\\ipykernel_launcher.py:209: DataConversionWarning: A column-vector y was passed when a 1d array was expected. Please change the shape of y to (n_samples,), for example using ravel().\n"
     ]
    },
    {
     "name": "stdout",
     "output_type": "stream",
     "text": [
      "Mean Absolute Error: 0.060024300000000474\n",
      "RMSE: 0.060024300000000474\n",
      "MAE Percent:  8.006880344279669\n",
      "Iteration:  23\n",
      "y_pred:  [0.9099757] y_test:  [[0.97]]\n",
      "TRAIN: [ 0  1  2  3  4  5  6  7  8  9 10 11 12 13 14 15 16 17 18 19 20 21 22 24\n",
      " 25 26 27 28 29 30 31 32 33 34 35 36 37 38 39 40 41 42 43 44 45 46 47 48\n",
      " 49 50 51 52 53 54 55 56 57 58 59 60 61 62 63 64 65 66 67 68 69 70 71 72\n",
      " 73 74 75 76 77 78 79 80 81 82 83 84 85 86 87 88 89 90] TEST: [23]\n",
      "Mean Absolute Error: 0.09813899999999998\n",
      "RMSE: 0.09813899999999998\n",
      "MAE Percent:  13.091151918593901\n",
      "Iteration:  24\n",
      "y_pred:  [0.098139] y_test:  [[0.]]\n",
      "TRAIN: [ 0  1  2  3  4  5  6  7  8  9 10 11 12 13 14 15 16 17 18 19 20 21 22 23\n",
      " 25 26 27 28 29 30 31 32 33 34 35 36 37 38 39 40 41 42 43 44 45 46 47 48\n",
      " 49 50 51 52 53 54 55 56 57 58 59 60 61 62 63 64 65 66 67 68 69 70 71 72\n",
      " 73 74 75 76 77 78 79 80 81 82 83 84 85 86 87 88 89 90] TEST: [24]\n"
     ]
    },
    {
     "name": "stderr",
     "output_type": "stream",
     "text": [
      "C:\\ProgramData\\Anaconda3\\lib\\site-packages\\ipykernel_launcher.py:209: DataConversionWarning: A column-vector y was passed when a 1d array was expected. Please change the shape of y to (n_samples,), for example using ravel().\n",
      "C:\\ProgramData\\Anaconda3\\lib\\site-packages\\ipykernel_launcher.py:209: DataConversionWarning: A column-vector y was passed when a 1d array was expected. Please change the shape of y to (n_samples,), for example using ravel().\n"
     ]
    },
    {
     "name": "stdout",
     "output_type": "stream",
     "text": [
      "Mean Absolute Error: 0.02945700000000029\n",
      "RMSE: 0.02945700000000029\n",
      "MAE Percent:  3.9293865034901967\n",
      "Iteration:  25\n",
      "y_pred:  [0.166543] y_test:  [[0.196]]\n",
      "TRAIN: [ 0  1  2  3  4  5  6  7  8  9 10 11 12 13 14 15 16 17 18 19 20 21 22 23\n",
      " 24 26 27 28 29 30 31 32 33 34 35 36 37 38 39 40 41 42 43 44 45 46 47 48\n",
      " 49 50 51 52 53 54 55 56 57 58 59 60 61 62 63 64 65 66 67 68 69 70 71 72\n",
      " 73 74 75 76 77 78 79 80 81 82 83 84 85 86 87 88 89 90] TEST: [25]\n",
      "Mean Absolute Error: 0.008269900000000163\n",
      "RMSE: 0.008269900000000163\n",
      "MAE Percent:  1.1031548849242592\n",
      "Iteration:  26\n",
      "y_pred:  [0.9557301] y_test:  [[0.964]]\n",
      "TRAIN: [ 0  1  2  3  4  5  6  7  8  9 10 11 12 13 14 15 16 17 18 19 20 21 22 23\n",
      " 24 25 27 28 29 30 31 32 33 34 35 36 37 38 39 40 41 42 43 44 45 46 47 48\n",
      " 49 50 51 52 53 54 55 56 57 58 59 60 61 62 63 64 65 66 67 68 69 70 71 72\n",
      " 73 74 75 76 77 78 79 80 81 82 83 84 85 86 87 88 89 90] TEST: [26]\n"
     ]
    },
    {
     "name": "stderr",
     "output_type": "stream",
     "text": [
      "C:\\ProgramData\\Anaconda3\\lib\\site-packages\\ipykernel_launcher.py:209: DataConversionWarning: A column-vector y was passed when a 1d array was expected. Please change the shape of y to (n_samples,), for example using ravel().\n",
      "C:\\ProgramData\\Anaconda3\\lib\\site-packages\\ipykernel_launcher.py:209: DataConversionWarning: A column-vector y was passed when a 1d array was expected. Please change the shape of y to (n_samples,), for example using ravel().\n"
     ]
    },
    {
     "name": "stdout",
     "output_type": "stream",
     "text": [
      "Mean Absolute Error: 0.0625480000000001\n",
      "RMSE: 0.0625480000000001\n",
      "MAE Percent:  8.343526734572523\n",
      "Iteration:  27\n",
      "y_pred:  [0.317548] y_test:  [[0.255]]\n",
      "TRAIN: [ 0  1  2  3  4  5  6  7  8  9 10 11 12 13 14 15 16 17 18 19 20 21 22 23\n",
      " 24 25 26 28 29 30 31 32 33 34 35 36 37 38 39 40 41 42 43 44 45 46 47 48\n",
      " 49 50 51 52 53 54 55 56 57 58 59 60 61 62 63 64 65 66 67 68 69 70 71 72\n",
      " 73 74 75 76 77 78 79 80 81 82 83 84 85 86 87 88 89 90] TEST: [27]\n",
      "Mean Absolute Error: 0.2060890000000002\n",
      "RMSE: 0.2060890000000002\n",
      "MAE Percent:  27.491032186501812\n",
      "Iteration:  28\n",
      "y_pred:  [0.994089] y_test:  [[0.788]]\n",
      "TRAIN: [ 0  1  2  3  4  5  6  7  8  9 10 11 12 13 14 15 16 17 18 19 20 21 22 23\n",
      " 24 25 26 27 29 30 31 32 33 34 35 36 37 38 39 40 41 42 43 44 45 46 47 48\n",
      " 49 50 51 52 53 54 55 56 57 58 59 60 61 62 63 64 65 66 67 68 69 70 71 72\n",
      " 73 74 75 76 77 78 79 80 81 82 83 84 85 86 87 88 89 90] TEST: [28]\n"
     ]
    },
    {
     "name": "stderr",
     "output_type": "stream",
     "text": [
      "C:\\ProgramData\\Anaconda3\\lib\\site-packages\\ipykernel_launcher.py:209: DataConversionWarning: A column-vector y was passed when a 1d array was expected. Please change the shape of y to (n_samples,), for example using ravel().\n",
      "C:\\ProgramData\\Anaconda3\\lib\\site-packages\\ipykernel_launcher.py:209: DataConversionWarning: A column-vector y was passed when a 1d array was expected. Please change the shape of y to (n_samples,), for example using ravel().\n"
     ]
    },
    {
     "name": "stdout",
     "output_type": "stream",
     "text": [
      "Mean Absolute Error: 0.25483900000000015\n",
      "RMSE: 0.25483900000000015\n",
      "MAE Percent:  33.993988768813146\n",
      "Iteration:  29\n",
      "y_pred:  [0.405161] y_test:  [[0.66]]\n",
      "TRAIN: [ 0  1  2  3  4  5  6  7  8  9 10 11 12 13 14 15 16 17 18 19 20 21 22 23\n",
      " 24 25 26 27 28 30 31 32 33 34 35 36 37 38 39 40 41 42 43 44 45 46 47 48\n",
      " 49 50 51 52 53 54 55 56 57 58 59 60 61 62 63 64 65 66 67 68 69 70 71 72\n",
      " 73 74 75 76 77 78 79 80 81 82 83 84 85 86 87 88 89 90] TEST: [29]\n",
      "Mean Absolute Error: 0.15025799999999956\n",
      "RMSE: 0.15025799999999956\n",
      "MAE Percent:  20.04351282348584\n",
      "Iteration:  30\n",
      "y_pred:  [1.585258] y_test:  [[1.435]]\n",
      "TRAIN: [ 0  1  2  3  4  5  6  7  8  9 10 11 12 13 14 15 16 17 18 19 20 21 22 23\n",
      " 24 25 26 27 28 29 31 32 33 34 35 36 37 38 39 40 41 42 43 44 45 46 47 48\n",
      " 49 50 51 52 53 54 55 56 57 58 59 60 61 62 63 64 65 66 67 68 69 70 71 72\n",
      " 73 74 75 76 77 78 79 80 81 82 83 84 85 86 87 88 89 90] TEST: [30]\n"
     ]
    },
    {
     "name": "stderr",
     "output_type": "stream",
     "text": [
      "C:\\ProgramData\\Anaconda3\\lib\\site-packages\\ipykernel_launcher.py:209: DataConversionWarning: A column-vector y was passed when a 1d array was expected. Please change the shape of y to (n_samples,), for example using ravel().\n",
      "C:\\ProgramData\\Anaconda3\\lib\\site-packages\\ipykernel_launcher.py:209: DataConversionWarning: A column-vector y was passed when a 1d array was expected. Please change the shape of y to (n_samples,), for example using ravel().\n"
     ]
    },
    {
     "name": "stdout",
     "output_type": "stream",
     "text": [
      "Mean Absolute Error: 0.23482790000000053\n",
      "RMSE: 0.23482790000000053\n",
      "MAE Percent:  31.324628472109804\n",
      "Iteration:  31\n",
      "y_pred:  [0.8741721] y_test:  [[1.109]]\n",
      "TRAIN: [ 0  1  2  3  4  5  6  7  8  9 10 11 12 13 14 15 16 17 18 19 20 21 22 23\n",
      " 24 25 26 27 28 29 30 32 33 34 35 36 37 38 39 40 41 42 43 44 45 46 47 48\n",
      " 49 50 51 52 53 54 55 56 57 58 59 60 61 62 63 64 65 66 67 68 69 70 71 72\n",
      " 73 74 75 76 77 78 79 80 81 82 83 84 85 86 87 88 89 90] TEST: [31]\n",
      "Mean Absolute Error: 0.46627649999999987\n",
      "RMSE: 0.46627649999999987\n",
      "MAE Percent:  62.19847866363269\n",
      "Iteration:  32\n",
      "y_pred:  [0.9337235] y_test:  [[1.4]]\n",
      "TRAIN: [ 0  1  2  3  4  5  6  7  8  9 10 11 12 13 14 15 16 17 18 19 20 21 22 23\n",
      " 24 25 26 27 28 29 30 31 33 34 35 36 37 38 39 40 41 42 43 44 45 46 47 48\n",
      " 49 50 51 52 53 54 55 56 57 58 59 60 61 62 63 64 65 66 67 68 69 70 71 72\n",
      " 73 74 75 76 77 78 79 80 81 82 83 84 85 86 87 88 89 90] TEST: [32]\n"
     ]
    },
    {
     "name": "stderr",
     "output_type": "stream",
     "text": [
      "C:\\ProgramData\\Anaconda3\\lib\\site-packages\\ipykernel_launcher.py:209: DataConversionWarning: A column-vector y was passed when a 1d array was expected. Please change the shape of y to (n_samples,), for example using ravel().\n",
      "C:\\ProgramData\\Anaconda3\\lib\\site-packages\\ipykernel_launcher.py:209: DataConversionWarning: A column-vector y was passed when a 1d array was expected. Please change the shape of y to (n_samples,), for example using ravel().\n"
     ]
    },
    {
     "name": "stdout",
     "output_type": "stream",
     "text": [
      "Mean Absolute Error: 0.6905820000000007\n",
      "RMSE: 0.6905820000000007\n",
      "MAE Percent:  92.11948230822023\n",
      "Iteration:  33\n",
      "y_pred:  [1.481418] y_test:  [[2.172]]\n",
      "TRAIN: [ 0  1  2  3  4  5  6  7  8  9 10 11 12 13 14 15 16 17 18 19 20 21 22 23\n",
      " 24 25 26 27 28 29 30 31 32 34 35 36 37 38 39 40 41 42 43 44 45 46 47 48\n",
      " 49 50 51 52 53 54 55 56 57 58 59 60 61 62 63 64 65 66 67 68 69 70 71 72\n",
      " 73 74 75 76 77 78 79 80 81 82 83 84 85 86 87 88 89 90] TEST: [33]\n",
      "Mean Absolute Error: 0.1867116000000003\n",
      "RMSE: 0.1867116000000003\n",
      "MAE Percent:  24.906203655669422\n",
      "Iteration:  34\n",
      "y_pred:  [0.7382884] y_test:  [[0.925]]\n",
      "TRAIN: [ 0  1  2  3  4  5  6  7  8  9 10 11 12 13 14 15 16 17 18 19 20 21 22 23\n",
      " 24 25 26 27 28 29 30 31 32 33 35 36 37 38 39 40 41 42 43 44 45 46 47 48\n",
      " 49 50 51 52 53 54 55 56 57 58 59 60 61 62 63 64 65 66 67 68 69 70 71 72\n",
      " 73 74 75 76 77 78 79 80 81 82 83 84 85 86 87 88 89 90] TEST: [34]\n"
     ]
    },
    {
     "name": "stderr",
     "output_type": "stream",
     "text": [
      "C:\\ProgramData\\Anaconda3\\lib\\site-packages\\ipykernel_launcher.py:209: DataConversionWarning: A column-vector y was passed when a 1d array was expected. Please change the shape of y to (n_samples,), for example using ravel().\n",
      "C:\\ProgramData\\Anaconda3\\lib\\site-packages\\ipykernel_launcher.py:209: DataConversionWarning: A column-vector y was passed when a 1d array was expected. Please change the shape of y to (n_samples,), for example using ravel().\n"
     ]
    },
    {
     "name": "stdout",
     "output_type": "stream",
     "text": [
      "Mean Absolute Error: 0.05956599999999995\n",
      "RMSE: 0.05956599999999995\n",
      "MAE Percent:  7.945745882706813\n",
      "Iteration:  35\n",
      "y_pred:  [0.205566] y_test:  [[0.146]]\n",
      "TRAIN: [ 0  1  2  3  4  5  6  7  8  9 10 11 12 13 14 15 16 17 18 19 20 21 22 23\n",
      " 24 25 26 27 28 29 30 31 32 33 34 36 37 38 39 40 41 42 43 44 45 46 47 48\n",
      " 49 50 51 52 53 54 55 56 57 58 59 60 61 62 63 64 65 66 67 68 69 70 71 72\n",
      " 73 74 75 76 77 78 79 80 81 82 83 84 85 86 87 88 89 90] TEST: [35]\n",
      "Mean Absolute Error: 0.018211000000000102\n",
      "RMSE: 0.018211000000000102\n",
      "MAE Percent:  2.42923779118918\n",
      "Iteration:  36\n",
      "y_pred:  [0.118289] y_test:  [[0.1365]]\n",
      "TRAIN: [ 0  1  2  3  4  5  6  7  8  9 10 11 12 13 14 15 16 17 18 19 20 21 22 23\n",
      " 24 25 26 27 28 29 30 31 32 33 34 35 37 38 39 40 41 42 43 44 45 46 47 48\n",
      " 49 50 51 52 53 54 55 56 57 58 59 60 61 62 63 64 65 66 67 68 69 70 71 72\n",
      " 73 74 75 76 77 78 79 80 81 82 83 84 85 86 87 88 89 90] TEST: [36]\n"
     ]
    },
    {
     "name": "stderr",
     "output_type": "stream",
     "text": [
      "C:\\ProgramData\\Anaconda3\\lib\\site-packages\\ipykernel_launcher.py:209: DataConversionWarning: A column-vector y was passed when a 1d array was expected. Please change the shape of y to (n_samples,), for example using ravel().\n",
      "C:\\ProgramData\\Anaconda3\\lib\\site-packages\\ipykernel_launcher.py:209: DataConversionWarning: A column-vector y was passed when a 1d array was expected. Please change the shape of y to (n_samples,), for example using ravel().\n"
     ]
    },
    {
     "name": "stdout",
     "output_type": "stream",
     "text": [
      "Mean Absolute Error: 0.2454100999999999\n",
      "RMSE: 0.2454100999999999\n",
      "MAE Percent:  32.73623025970634\n",
      "Iteration:  37\n",
      "y_pred:  [0.5092101] y_test:  [[0.2638]]\n",
      "TRAIN: [ 0  1  2  3  4  5  6  7  8  9 10 11 12 13 14 15 16 17 18 19 20 21 22 23\n",
      " 24 25 26 27 28 29 30 31 32 33 34 35 36 38 39 40 41 42 43 44 45 46 47 48\n",
      " 49 50 51 52 53 54 55 56 57 58 59 60 61 62 63 64 65 66 67 68 69 70 71 72\n",
      " 73 74 75 76 77 78 79 80 81 82 83 84 85 86 87 88 89 90] TEST: [37]\n",
      "Mean Absolute Error: 0.02531700000000006\n",
      "RMSE: 0.02531700000000006\n",
      "MAE Percent:  3.3771354214231106\n",
      "Iteration:  38\n",
      "y_pred:  [0.134283] y_test:  [[0.1596]]\n",
      "TRAIN: [ 0  1  2  3  4  5  6  7  8  9 10 11 12 13 14 15 16 17 18 19 20 21 22 23\n",
      " 24 25 26 27 28 29 30 31 32 33 34 35 36 37 39 40 41 42 43 44 45 46 47 48\n",
      " 49 50 51 52 53 54 55 56 57 58 59 60 61 62 63 64 65 66 67 68 69 70 71 72\n",
      " 73 74 75 76 77 78 79 80 81 82 83 84 85 86 87 88 89 90] TEST: [38]\n"
     ]
    },
    {
     "name": "stderr",
     "output_type": "stream",
     "text": [
      "C:\\ProgramData\\Anaconda3\\lib\\site-packages\\ipykernel_launcher.py:209: DataConversionWarning: A column-vector y was passed when a 1d array was expected. Please change the shape of y to (n_samples,), for example using ravel().\n",
      "C:\\ProgramData\\Anaconda3\\lib\\site-packages\\ipykernel_launcher.py:209: DataConversionWarning: A column-vector y was passed when a 1d array was expected. Please change the shape of y to (n_samples,), for example using ravel().\n"
     ]
    },
    {
     "name": "stdout",
     "output_type": "stream",
     "text": [
      "Mean Absolute Error: 0.1451136999999998\n",
      "RMSE: 0.1451136999999998\n",
      "MAE Percent:  19.357294166124145\n",
      "Iteration:  39\n",
      "y_pred:  [0.8021137] y_test:  [[0.657]]\n",
      "TRAIN: [ 0  1  2  3  4  5  6  7  8  9 10 11 12 13 14 15 16 17 18 19 20 21 22 23\n",
      " 24 25 26 27 28 29 30 31 32 33 34 35 36 37 38 40 41 42 43 44 45 46 47 48\n",
      " 49 50 51 52 53 54 55 56 57 58 59 60 61 62 63 64 65 66 67 68 69 70 71 72\n",
      " 73 74 75 76 77 78 79 80 81 82 83 84 85 86 87 88 89 90] TEST: [39]\n",
      "Mean Absolute Error: 0.17740100000000014\n",
      "RMSE: 0.17740100000000014\n",
      "MAE Percent:  23.664225654535702\n",
      "Iteration:  40\n",
      "y_pred:  [1.162599] y_test:  [[1.34]]\n",
      "TRAIN: [ 0  1  2  3  4  5  6  7  8  9 10 11 12 13 14 15 16 17 18 19 20 21 22 23\n",
      " 24 25 26 27 28 29 30 31 32 33 34 35 36 37 38 39 41 42 43 44 45 46 47 48\n",
      " 49 50 51 52 53 54 55 56 57 58 59 60 61 62 63 64 65 66 67 68 69 70 71 72\n",
      " 73 74 75 76 77 78 79 80 81 82 83 84 85 86 87 88 89 90] TEST: [40]\n"
     ]
    },
    {
     "name": "stderr",
     "output_type": "stream",
     "text": [
      "C:\\ProgramData\\Anaconda3\\lib\\site-packages\\ipykernel_launcher.py:209: DataConversionWarning: A column-vector y was passed when a 1d array was expected. Please change the shape of y to (n_samples,), for example using ravel().\n",
      "C:\\ProgramData\\Anaconda3\\lib\\site-packages\\ipykernel_launcher.py:209: DataConversionWarning: A column-vector y was passed when a 1d array was expected. Please change the shape of y to (n_samples,), for example using ravel().\n"
     ]
    },
    {
     "name": "stdout",
     "output_type": "stream",
     "text": [
      "Mean Absolute Error: 0.2845000000000012\n",
      "RMSE: 0.2845000000000012\n",
      "MAE Percent:  37.950587644463276\n",
      "Iteration:  41\n",
      "y_pred:  [1.2615] y_test:  [[0.977]]\n",
      "TRAIN: [ 0  1  2  3  4  5  6  7  8  9 10 11 12 13 14 15 16 17 18 19 20 21 22 23\n",
      " 24 25 26 27 28 29 30 31 32 33 34 35 36 37 38 39 40 42 43 44 45 46 47 48\n",
      " 49 50 51 52 53 54 55 56 57 58 59 60 61 62 63 64 65 66 67 68 69 70 71 72\n",
      " 73 74 75 76 77 78 79 80 81 82 83 84 85 86 87 88 89 90] TEST: [41]\n",
      "Mean Absolute Error: 0.2922349\n",
      "RMSE: 0.2922349\n",
      "MAE Percent:  38.9823767494584\n",
      "Iteration:  42\n",
      "y_pred:  [0.6082349] y_test:  [[0.316]]\n",
      "TRAIN: [ 0  1  2  3  4  5  6  7  8  9 10 11 12 13 14 15 16 17 18 19 20 21 22 23\n",
      " 24 25 26 27 28 29 30 31 32 33 34 35 36 37 38 39 40 41 43 44 45 46 47 48\n",
      " 49 50 51 52 53 54 55 56 57 58 59 60 61 62 63 64 65 66 67 68 69 70 71 72\n",
      " 73 74 75 76 77 78 79 80 81 82 83 84 85 86 87 88 89 90] TEST: [42]\n"
     ]
    },
    {
     "name": "stderr",
     "output_type": "stream",
     "text": [
      "C:\\ProgramData\\Anaconda3\\lib\\site-packages\\ipykernel_launcher.py:209: DataConversionWarning: A column-vector y was passed when a 1d array was expected. Please change the shape of y to (n_samples,), for example using ravel().\n",
      "C:\\ProgramData\\Anaconda3\\lib\\site-packages\\ipykernel_launcher.py:209: DataConversionWarning: A column-vector y was passed when a 1d array was expected. Please change the shape of y to (n_samples,), for example using ravel().\n"
     ]
    },
    {
     "name": "stdout",
     "output_type": "stream",
     "text": [
      "Mean Absolute Error: 0.8477809999999999\n",
      "RMSE: 0.8477809999999999\n",
      "MAE Percent:  113.08888275504599\n",
      "Iteration:  43\n",
      "y_pred:  [0.280219] y_test:  [[1.128]]\n",
      "TRAIN: [ 0  1  2  3  4  5  6  7  8  9 10 11 12 13 14 15 16 17 18 19 20 21 22 23\n",
      " 24 25 26 27 28 29 30 31 32 33 34 35 36 37 38 39 40 41 42 44 45 46 47 48\n",
      " 49 50 51 52 53 54 55 56 57 58 59 60 61 62 63 64 65 66 67 68 69 70 71 72\n",
      " 73 74 75 76 77 78 79 80 81 82 83 84 85 86 87 88 89 90] TEST: [43]\n",
      "Mean Absolute Error: 0.07100389999999979\n",
      "RMSE: 0.07100389999999979\n",
      "MAE Percent:  9.471492899995383\n",
      "Iteration:  44\n",
      "y_pred:  [0.7769961] y_test:  [[0.848]]\n",
      "TRAIN: [ 0  1  2  3  4  5  6  7  8  9 10 11 12 13 14 15 16 17 18 19 20 21 22 23\n",
      " 24 25 26 27 28 29 30 31 32 33 34 35 36 37 38 39 40 41 42 43 45 46 47 48\n",
      " 49 50 51 52 53 54 55 56 57 58 59 60 61 62 63 64 65 66 67 68 69 70 71 72\n",
      " 73 74 75 76 77 78 79 80 81 82 83 84 85 86 87 88 89 90] TEST: [44]\n"
     ]
    },
    {
     "name": "stderr",
     "output_type": "stream",
     "text": [
      "C:\\ProgramData\\Anaconda3\\lib\\site-packages\\ipykernel_launcher.py:209: DataConversionWarning: A column-vector y was passed when a 1d array was expected. Please change the shape of y to (n_samples,), for example using ravel().\n",
      "C:\\ProgramData\\Anaconda3\\lib\\site-packages\\ipykernel_launcher.py:209: DataConversionWarning: A column-vector y was passed when a 1d array was expected. Please change the shape of y to (n_samples,), for example using ravel().\n"
     ]
    },
    {
     "name": "stdout",
     "output_type": "stream",
     "text": [
      "Mean Absolute Error: 0.20464760000000004\n",
      "RMSE: 0.20464760000000004\n",
      "MAE Percent:  27.298758102035258\n",
      "Iteration:  45\n",
      "y_pred:  [0.7873524] y_test:  [[0.992]]\n",
      "TRAIN: [ 0  1  2  3  4  5  6  7  8  9 10 11 12 13 14 15 16 17 18 19 20 21 22 23\n",
      " 24 25 26 27 28 29 30 31 32 33 34 35 36 37 38 39 40 41 42 43 44 46 47 48\n",
      " 49 50 51 52 53 54 55 56 57 58 59 60 61 62 63 64 65 66 67 68 69 70 71 72\n",
      " 73 74 75 76 77 78 79 80 81 82 83 84 85 86 87 88 89 90] TEST: [45]\n",
      "Mean Absolute Error: 0.1057570000000001\n",
      "RMSE: 0.1057570000000001\n",
      "MAE Percent:  14.107347267189772\n",
      "Iteration:  46\n",
      "y_pred:  [0.815727] y_test:  [[0.70997]]\n",
      "TRAIN: [ 0  1  2  3  4  5  6  7  8  9 10 11 12 13 14 15 16 17 18 19 20 21 22 23\n",
      " 24 25 26 27 28 29 30 31 32 33 34 35 36 37 38 39 40 41 42 43 44 45 47 48\n",
      " 49 50 51 52 53 54 55 56 57 58 59 60 61 62 63 64 65 66 67 68 69 70 71 72\n",
      " 73 74 75 76 77 78 79 80 81 82 83 84 85 86 87 88 89 90] TEST: [46]\n"
     ]
    },
    {
     "name": "stderr",
     "output_type": "stream",
     "text": [
      "C:\\ProgramData\\Anaconda3\\lib\\site-packages\\ipykernel_launcher.py:209: DataConversionWarning: A column-vector y was passed when a 1d array was expected. Please change the shape of y to (n_samples,), for example using ravel().\n",
      "C:\\ProgramData\\Anaconda3\\lib\\site-packages\\ipykernel_launcher.py:209: DataConversionWarning: A column-vector y was passed when a 1d array was expected. Please change the shape of y to (n_samples,), for example using ravel().\n"
     ]
    },
    {
     "name": "stdout",
     "output_type": "stream",
     "text": [
      "Mean Absolute Error: 0.04497529999999994\n",
      "RMSE: 0.04497529999999994\n",
      "MAE Percent:  5.999434321567732\n",
      "Iteration:  47\n",
      "y_pred:  [0.8720247] y_test:  [[0.917]]\n",
      "TRAIN: [ 0  1  2  3  4  5  6  7  8  9 10 11 12 13 14 15 16 17 18 19 20 21 22 23\n",
      " 24 25 26 27 28 29 30 31 32 33 34 35 36 37 38 39 40 41 42 43 44 45 46 48\n",
      " 49 50 51 52 53 54 55 56 57 58 59 60 61 62 63 64 65 66 67 68 69 70 71 72\n",
      " 73 74 75 76 77 78 79 80 81 82 83 84 85 86 87 88 89 90] TEST: [47]\n",
      "Mean Absolute Error: 0.143094\n",
      "RMSE: 0.143094\n",
      "MAE Percent:  19.087878342343778\n",
      "Iteration:  48\n",
      "y_pred:  [0.275094] y_test:  [[0.132]]\n",
      "TRAIN: [ 0  1  2  3  4  5  6  7  8  9 10 11 12 13 14 15 16 17 18 19 20 21 22 23\n",
      " 24 25 26 27 28 29 30 31 32 33 34 35 36 37 38 39 40 41 42 43 44 45 46 47\n",
      " 49 50 51 52 53 54 55 56 57 58 59 60 61 62 63 64 65 66 67 68 69 70 71 72\n",
      " 73 74 75 76 77 78 79 80 81 82 83 84 85 86 87 88 89 90] TEST: [48]\n"
     ]
    },
    {
     "name": "stderr",
     "output_type": "stream",
     "text": [
      "C:\\ProgramData\\Anaconda3\\lib\\site-packages\\ipykernel_launcher.py:209: DataConversionWarning: A column-vector y was passed when a 1d array was expected. Please change the shape of y to (n_samples,), for example using ravel().\n",
      "C:\\ProgramData\\Anaconda3\\lib\\site-packages\\ipykernel_launcher.py:209: DataConversionWarning: A column-vector y was passed when a 1d array was expected. Please change the shape of y to (n_samples,), for example using ravel().\n"
     ]
    },
    {
     "name": "stdout",
     "output_type": "stream",
     "text": [
      "Mean Absolute Error: 0.5913759999999995\n",
      "RMSE: 0.5913759999999995\n",
      "MAE Percent:  78.88599901171177\n",
      "Iteration:  49\n",
      "y_pred:  [1.830376] y_test:  [[1.239]]\n",
      "TRAIN: [ 0  1  2  3  4  5  6  7  8  9 10 11 12 13 14 15 16 17 18 19 20 21 22 23\n",
      " 24 25 26 27 28 29 30 31 32 33 34 35 36 37 38 39 40 41 42 43 44 45 46 47\n",
      " 48 50 51 52 53 54 55 56 57 58 59 60 61 62 63 64 65 66 67 68 69 70 71 72\n",
      " 73 74 75 76 77 78 79 80 81 82 83 84 85 86 87 88 89 90] TEST: [49]\n",
      "Mean Absolute Error: 0.8431559999999994\n",
      "RMSE: 0.8431559999999994\n",
      "MAE Percent:  112.47193559210868\n",
      "Iteration:  50\n",
      "y_pred:  [1.727156] y_test:  [[0.884]]\n",
      "TRAIN: [ 0  1  2  3  4  5  6  7  8  9 10 11 12 13 14 15 16 17 18 19 20 21 22 23\n",
      " 24 25 26 27 28 29 30 31 32 33 34 35 36 37 38 39 40 41 42 43 44 45 46 47\n",
      " 48 49 51 52 53 54 55 56 57 58 59 60 61 62 63 64 65 66 67 68 69 70 71 72\n",
      " 73 74 75 76 77 78 79 80 81 82 83 84 85 86 87 88 89 90] TEST: [50]\n"
     ]
    },
    {
     "name": "stderr",
     "output_type": "stream",
     "text": [
      "C:\\ProgramData\\Anaconda3\\lib\\site-packages\\ipykernel_launcher.py:209: DataConversionWarning: A column-vector y was passed when a 1d array was expected. Please change the shape of y to (n_samples,), for example using ravel().\n",
      "C:\\ProgramData\\Anaconda3\\lib\\site-packages\\ipykernel_launcher.py:209: DataConversionWarning: A column-vector y was passed when a 1d array was expected. Please change the shape of y to (n_samples,), for example using ravel().\n"
     ]
    },
    {
     "name": "stdout",
     "output_type": "stream",
     "text": [
      "Mean Absolute Error: 0.2313320000000012\n",
      "RMSE: 0.2313320000000012\n",
      "MAE Percent:  30.858296453318058\n",
      "Iteration:  51\n",
      "y_pred:  [1.439668] y_test:  [[1.671]]\n",
      "TRAIN: [ 0  1  2  3  4  5  6  7  8  9 10 11 12 13 14 15 16 17 18 19 20 21 22 23\n",
      " 24 25 26 27 28 29 30 31 32 33 34 35 36 37 38 39 40 41 42 43 44 45 46 47\n",
      " 48 49 50 52 53 54 55 56 57 58 59 60 61 62 63 64 65 66 67 68 69 70 71 72\n",
      " 73 74 75 76 77 78 79 80 81 82 83 84 85 86 87 88 89 90] TEST: [51]\n",
      "Mean Absolute Error: 0.7315971000000008\n",
      "RMSE: 0.7315971000000008\n",
      "MAE Percent:  97.5906497855363\n",
      "Iteration:  52\n",
      "y_pred:  [1.2155971] y_test:  [[0.484]]\n",
      "TRAIN: [ 0  1  2  3  4  5  6  7  8  9 10 11 12 13 14 15 16 17 18 19 20 21 22 23\n",
      " 24 25 26 27 28 29 30 31 32 33 34 35 36 37 38 39 40 41 42 43 44 45 46 47\n",
      " 48 49 50 51 53 54 55 56 57 58 59 60 61 62 63 64 65 66 67 68 69 70 71 72\n",
      " 73 74 75 76 77 78 79 80 81 82 83 84 85 86 87 88 89 90] TEST: [52]\n"
     ]
    },
    {
     "name": "stderr",
     "output_type": "stream",
     "text": [
      "C:\\ProgramData\\Anaconda3\\lib\\site-packages\\ipykernel_launcher.py:209: DataConversionWarning: A column-vector y was passed when a 1d array was expected. Please change the shape of y to (n_samples,), for example using ravel().\n",
      "C:\\ProgramData\\Anaconda3\\lib\\site-packages\\ipykernel_launcher.py:209: DataConversionWarning: A column-vector y was passed when a 1d array was expected. Please change the shape of y to (n_samples,), for example using ravel().\n"
     ]
    },
    {
     "name": "stdout",
     "output_type": "stream",
     "text": [
      "Mean Absolute Error: 0.07730000000000001\n",
      "RMSE: 0.07730000000000001\n",
      "MAE Percent:  10.311354744875215\n",
      "Iteration:  53\n",
      "y_pred:  [0.2281] y_test:  [[0.1508]]\n",
      "TRAIN: [ 0  1  2  3  4  5  6  7  8  9 10 11 12 13 14 15 16 17 18 19 20 21 22 23\n",
      " 24 25 26 27 28 29 30 31 32 33 34 35 36 37 38 39 40 41 42 43 44 45 46 47\n",
      " 48 49 50 51 52 54 55 56 57 58 59 60 61 62 63 64 65 66 67 68 69 70 71 72\n",
      " 73 74 75 76 77 78 79 80 81 82 83 84 85 86 87 88 89 90] TEST: [53]\n",
      "Mean Absolute Error: 0.7017599999999997\n",
      "RMSE: 0.7017599999999997\n",
      "MAE Percent:  93.61056022980114\n",
      "Iteration:  54\n",
      "y_pred:  [1.69556] y_test:  [[0.9938]]\n",
      "TRAIN: [ 0  1  2  3  4  5  6  7  8  9 10 11 12 13 14 15 16 17 18 19 20 21 22 23\n",
      " 24 25 26 27 28 29 30 31 32 33 34 35 36 37 38 39 40 41 42 43 44 45 46 47\n",
      " 48 49 50 51 52 53 55 56 57 58 59 60 61 62 63 64 65 66 67 68 69 70 71 72\n",
      " 73 74 75 76 77 78 79 80 81 82 83 84 85 86 87 88 89 90] TEST: [54]\n"
     ]
    },
    {
     "name": "stderr",
     "output_type": "stream",
     "text": [
      "C:\\ProgramData\\Anaconda3\\lib\\site-packages\\ipykernel_launcher.py:209: DataConversionWarning: A column-vector y was passed when a 1d array was expected. Please change the shape of y to (n_samples,), for example using ravel().\n",
      "C:\\ProgramData\\Anaconda3\\lib\\site-packages\\ipykernel_launcher.py:209: DataConversionWarning: A column-vector y was passed when a 1d array was expected. Please change the shape of y to (n_samples,), for example using ravel().\n"
     ]
    },
    {
     "name": "stdout",
     "output_type": "stream",
     "text": [
      "Mean Absolute Error: 0.06458600000000003\n",
      "RMSE: 0.06458600000000003\n",
      "MAE Percent:  8.615383668208421\n",
      "Iteration:  55\n",
      "y_pred:  [1.294586] y_test:  [[1.23]]\n",
      "TRAIN: [ 0  1  2  3  4  5  6  7  8  9 10 11 12 13 14 15 16 17 18 19 20 21 22 23\n",
      " 24 25 26 27 28 29 30 31 32 33 34 35 36 37 38 39 40 41 42 43 44 45 46 47\n",
      " 48 49 50 51 52 53 54 56 57 58 59 60 61 62 63 64 65 66 67 68 69 70 71 72\n",
      " 73 74 75 76 77 78 79 80 81 82 83 84 85 86 87 88 89 90] TEST: [55]\n",
      "Mean Absolute Error: 0.464671999999999\n",
      "RMSE: 0.464671999999999\n",
      "MAE Percent:  61.98444802083629\n",
      "Iteration:  56\n",
      "y_pred:  [1.386672] y_test:  [[0.922]]\n",
      "TRAIN: [ 0  1  2  3  4  5  6  7  8  9 10 11 12 13 14 15 16 17 18 19 20 21 22 23\n",
      " 24 25 26 27 28 29 30 31 32 33 34 35 36 37 38 39 40 41 42 43 44 45 46 47\n",
      " 48 49 50 51 52 53 54 55 57 58 59 60 61 62 63 64 65 66 67 68 69 70 71 72\n",
      " 73 74 75 76 77 78 79 80 81 82 83 84 85 86 87 88 89 90] TEST: [56]\n"
     ]
    },
    {
     "name": "stderr",
     "output_type": "stream",
     "text": [
      "C:\\ProgramData\\Anaconda3\\lib\\site-packages\\ipykernel_launcher.py:209: DataConversionWarning: A column-vector y was passed when a 1d array was expected. Please change the shape of y to (n_samples,), for example using ravel().\n",
      "C:\\ProgramData\\Anaconda3\\lib\\site-packages\\ipykernel_launcher.py:209: DataConversionWarning: A column-vector y was passed when a 1d array was expected. Please change the shape of y to (n_samples,), for example using ravel().\n"
     ]
    },
    {
     "name": "stdout",
     "output_type": "stream",
     "text": [
      "Mean Absolute Error: 0.07387900000000014\n",
      "RMSE: 0.07387900000000014\n",
      "MAE Percent:  9.855013935273448\n",
      "Iteration:  57\n",
      "y_pred:  [0.252121] y_test:  [[0.326]]\n",
      "TRAIN: [ 0  1  2  3  4  5  6  7  8  9 10 11 12 13 14 15 16 17 18 19 20 21 22 23\n",
      " 24 25 26 27 28 29 30 31 32 33 34 35 36 37 38 39 40 41 42 43 44 45 46 47\n",
      " 48 49 50 51 52 53 54 55 56 58 59 60 61 62 63 64 65 66 67 68 69 70 71 72\n",
      " 73 74 75 76 77 78 79 80 81 82 83 84 85 86 87 88 89 90] TEST: [57]\n",
      "Mean Absolute Error: 0.42362599999999895\n",
      "RMSE: 0.42362599999999895\n",
      "MAE Percent:  56.5091586695019\n",
      "Iteration:  58\n",
      "y_pred:  [1.789626] y_test:  [[1.366]]\n",
      "TRAIN: [ 0  1  2  3  4  5  6  7  8  9 10 11 12 13 14 15 16 17 18 19 20 21 22 23\n",
      " 24 25 26 27 28 29 30 31 32 33 34 35 36 37 38 39 40 41 42 43 44 45 46 47\n",
      " 48 49 50 51 52 53 54 55 56 57 59 60 61 62 63 64 65 66 67 68 69 70 71 72\n",
      " 73 74 75 76 77 78 79 80 81 82 83 84 85 86 87 88 89 90] TEST: [58]\n"
     ]
    },
    {
     "name": "stderr",
     "output_type": "stream",
     "text": [
      "C:\\ProgramData\\Anaconda3\\lib\\site-packages\\ipykernel_launcher.py:209: DataConversionWarning: A column-vector y was passed when a 1d array was expected. Please change the shape of y to (n_samples,), for example using ravel().\n",
      "C:\\ProgramData\\Anaconda3\\lib\\site-packages\\ipykernel_launcher.py:209: DataConversionWarning: A column-vector y was passed when a 1d array was expected. Please change the shape of y to (n_samples,), for example using ravel().\n"
     ]
    },
    {
     "name": "stdout",
     "output_type": "stream",
     "text": [
      "Mean Absolute Error: 0.07846999999999998\n",
      "RMSE: 0.07846999999999998\n",
      "MAE Percent:  10.467425702850687\n",
      "Iteration:  59\n",
      "y_pred:  [0.07847] y_test:  [[0.]]\n",
      "TRAIN: [ 0  1  2  3  4  5  6  7  8  9 10 11 12 13 14 15 16 17 18 19 20 21 22 23\n",
      " 24 25 26 27 28 29 30 31 32 33 34 35 36 37 38 39 40 41 42 43 44 45 46 47\n",
      " 48 49 50 51 52 53 54 55 56 57 58 60 61 62 63 64 65 66 67 68 69 70 71 72\n",
      " 73 74 75 76 77 78 79 80 81 82 83 84 85 86 87 88 89 90] TEST: [59]\n",
      "Mean Absolute Error: 0.6239961000000003\n",
      "RMSE: 0.6239961000000003\n",
      "MAE Percent:  83.23732401705864\n",
      "Iteration:  60\n",
      "y_pred:  [1.1959961] y_test:  [[0.572]]\n",
      "TRAIN: [ 0  1  2  3  4  5  6  7  8  9 10 11 12 13 14 15 16 17 18 19 20 21 22 23\n",
      " 24 25 26 27 28 29 30 31 32 33 34 35 36 37 38 39 40 41 42 43 44 45 46 47\n",
      " 48 49 50 51 52 53 54 55 56 57 58 59 61 62 63 64 65 66 67 68 69 70 71 72\n",
      " 73 74 75 76 77 78 79 80 81 82 83 84 85 86 87 88 89 90] TEST: [60]\n"
     ]
    },
    {
     "name": "stderr",
     "output_type": "stream",
     "text": [
      "C:\\ProgramData\\Anaconda3\\lib\\site-packages\\ipykernel_launcher.py:209: DataConversionWarning: A column-vector y was passed when a 1d array was expected. Please change the shape of y to (n_samples,), for example using ravel().\n",
      "C:\\ProgramData\\Anaconda3\\lib\\site-packages\\ipykernel_launcher.py:209: DataConversionWarning: A column-vector y was passed when a 1d array was expected. Please change the shape of y to (n_samples,), for example using ravel().\n"
     ]
    },
    {
     "name": "stdout",
     "output_type": "stream",
     "text": [
      "Mean Absolute Error: 0.2874636999999999\n",
      "RMSE: 0.2874636999999999\n",
      "MAE Percent:  38.34592738647328\n",
      "Iteration:  61\n",
      "y_pred:  [0.6684637] y_test:  [[0.381]]\n",
      "TRAIN: [ 0  1  2  3  4  5  6  7  8  9 10 11 12 13 14 15 16 17 18 19 20 21 22 23\n",
      " 24 25 26 27 28 29 30 31 32 33 34 35 36 37 38 39 40 41 42 43 44 45 46 47\n",
      " 48 49 50 51 52 53 54 55 56 57 58 59 60 62 63 64 65 66 67 68 69 70 71 72\n",
      " 73 74 75 76 77 78 79 80 81 82 83 84 85 86 87 88 89 90] TEST: [61]\n",
      "Mean Absolute Error: 0.047761\n",
      "RMSE: 0.047761\n",
      "MAE Percent:  6.371029934928657\n",
      "Iteration:  62\n",
      "y_pred:  [0.172761] y_test:  [[0.125]]\n",
      "TRAIN: [ 0  1  2  3  4  5  6  7  8  9 10 11 12 13 14 15 16 17 18 19 20 21 22 23\n",
      " 24 25 26 27 28 29 30 31 32 33 34 35 36 37 38 39 40 41 42 43 44 45 46 47\n",
      " 48 49 50 51 52 53 54 55 56 57 58 59 60 61 63 64 65 66 67 68 69 70 71 72\n",
      " 73 74 75 76 77 78 79 80 81 82 83 84 85 86 87 88 89 90] TEST: [62]\n"
     ]
    },
    {
     "name": "stderr",
     "output_type": "stream",
     "text": [
      "C:\\ProgramData\\Anaconda3\\lib\\site-packages\\ipykernel_launcher.py:209: DataConversionWarning: A column-vector y was passed when a 1d array was expected. Please change the shape of y to (n_samples,), for example using ravel().\n",
      "C:\\ProgramData\\Anaconda3\\lib\\site-packages\\ipykernel_launcher.py:209: DataConversionWarning: A column-vector y was passed when a 1d array was expected. Please change the shape of y to (n_samples,), for example using ravel().\n"
     ]
    },
    {
     "name": "stdout",
     "output_type": "stream",
     "text": [
      "Mean Absolute Error: 0.6902700000000006\n",
      "RMSE: 0.6902700000000006\n",
      "MAE Percent:  92.07786338609341\n",
      "Iteration:  63\n",
      "y_pred:  [1.33073] y_test:  [[2.021]]\n",
      "TRAIN: [ 0  1  2  3  4  5  6  7  8  9 10 11 12 13 14 15 16 17 18 19 20 21 22 23\n",
      " 24 25 26 27 28 29 30 31 32 33 34 35 36 37 38 39 40 41 42 43 44 45 46 47\n",
      " 48 49 50 51 52 53 54 55 56 57 58 59 60 61 62 64 65 66 67 68 69 70 71 72\n",
      " 73 74 75 76 77 78 79 80 81 82 83 84 85 86 87 88 89 90] TEST: [63]\n",
      "Mean Absolute Error: 0.7804579000000003\n",
      "RMSE: 0.7804579000000003\n",
      "MAE Percent:  104.10838642096184\n",
      "Iteration:  64\n",
      "y_pred:  [0.4865421] y_test:  [[1.267]]\n",
      "TRAIN: [ 0  1  2  3  4  5  6  7  8  9 10 11 12 13 14 15 16 17 18 19 20 21 22 23\n",
      " 24 25 26 27 28 29 30 31 32 33 34 35 36 37 38 39 40 41 42 43 44 45 46 47\n",
      " 48 49 50 51 52 53 54 55 56 57 58 59 60 61 62 63 65 66 67 68 69 70 71 72\n",
      " 73 74 75 76 77 78 79 80 81 82 83 84 85 86 87 88 89 90] TEST: [64]\n"
     ]
    },
    {
     "name": "stderr",
     "output_type": "stream",
     "text": [
      "C:\\ProgramData\\Anaconda3\\lib\\site-packages\\ipykernel_launcher.py:209: DataConversionWarning: A column-vector y was passed when a 1d array was expected. Please change the shape of y to (n_samples,), for example using ravel().\n",
      "C:\\ProgramData\\Anaconda3\\lib\\site-packages\\ipykernel_launcher.py:209: DataConversionWarning: A column-vector y was passed when a 1d array was expected. Please change the shape of y to (n_samples,), for example using ravel().\n"
     ]
    },
    {
     "name": "stdout",
     "output_type": "stream",
     "text": [
      "Mean Absolute Error: 0.009049399999999763\n",
      "RMSE: 0.009049399999999763\n",
      "MAE Percent:  1.2071354932505993\n",
      "Iteration:  65\n",
      "y_pred:  [0.6997494] y_test:  [[0.6907]]\n",
      "TRAIN: [ 0  1  2  3  4  5  6  7  8  9 10 11 12 13 14 15 16 17 18 19 20 21 22 23\n",
      " 24 25 26 27 28 29 30 31 32 33 34 35 36 37 38 39 40 41 42 43 44 45 46 47\n",
      " 48 49 50 51 52 53 54 55 56 57 58 59 60 61 62 63 64 66 67 68 69 70 71 72\n",
      " 73 74 75 76 77 78 79 80 81 82 83 84 85 86 87 88 89 90] TEST: [65]\n",
      "Mean Absolute Error: 0.08171629999999985\n",
      "RMSE: 0.08171629999999985\n",
      "MAE Percent:  10.900462583941074\n",
      "Iteration:  66\n",
      "y_pred:  [0.8589837] y_test:  [[0.9407]]\n",
      "TRAIN: [ 0  1  2  3  4  5  6  7  8  9 10 11 12 13 14 15 16 17 18 19 20 21 22 23\n",
      " 24 25 26 27 28 29 30 31 32 33 34 35 36 37 38 39 40 41 42 43 44 45 46 47\n",
      " 48 49 50 51 52 53 54 55 56 57 58 59 60 61 62 63 64 65 67 68 69 70 71 72\n",
      " 73 74 75 76 77 78 79 80 81 82 83 84 85 86 87 88 89 90] TEST: [66]\n"
     ]
    },
    {
     "name": "stderr",
     "output_type": "stream",
     "text": [
      "C:\\ProgramData\\Anaconda3\\lib\\site-packages\\ipykernel_launcher.py:209: DataConversionWarning: A column-vector y was passed when a 1d array was expected. Please change the shape of y to (n_samples,), for example using ravel().\n",
      "C:\\ProgramData\\Anaconda3\\lib\\site-packages\\ipykernel_launcher.py:209: DataConversionWarning: A column-vector y was passed when a 1d array was expected. Please change the shape of y to (n_samples,), for example using ravel().\n"
     ]
    },
    {
     "name": "stdout",
     "output_type": "stream",
     "text": [
      "Mean Absolute Error: 0.019674999999999984\n",
      "RMSE: 0.019674999999999984\n",
      "MAE Percent:  2.6245265796302677\n",
      "Iteration:  67\n",
      "y_pred:  [0.118275] y_test:  [[0.0986]]\n",
      "TRAIN: [ 0  1  2  3  4  5  6  7  8  9 10 11 12 13 14 15 16 17 18 19 20 21 22 23\n",
      " 24 25 26 27 28 29 30 31 32 33 34 35 36 37 38 39 40 41 42 43 44 45 46 47\n",
      " 48 49 50 51 52 53 54 55 56 57 58 59 60 61 62 63 64 65 66 68 69 70 71 72\n",
      " 73 74 75 76 77 78 79 80 81 82 83 84 85 86 87 88 89 90] TEST: [67]\n",
      "Mean Absolute Error: 0.16194600000000003\n",
      "RMSE: 0.16194600000000003\n",
      "MAE Percent:  21.602621675466523\n",
      "Iteration:  68\n",
      "y_pred:  [0.161946] y_test:  [[0.]]\n",
      "TRAIN: [ 0  1  2  3  4  5  6  7  8  9 10 11 12 13 14 15 16 17 18 19 20 21 22 23\n",
      " 24 25 26 27 28 29 30 31 32 33 34 35 36 37 38 39 40 41 42 43 44 45 46 47\n",
      " 48 49 50 51 52 53 54 55 56 57 58 59 60 61 62 63 64 65 66 67 69 70 71 72\n",
      " 73 74 75 76 77 78 79 80 81 82 83 84 85 86 87 88 89 90] TEST: [68]\n"
     ]
    },
    {
     "name": "stderr",
     "output_type": "stream",
     "text": [
      "C:\\ProgramData\\Anaconda3\\lib\\site-packages\\ipykernel_launcher.py:209: DataConversionWarning: A column-vector y was passed when a 1d array was expected. Please change the shape of y to (n_samples,), for example using ravel().\n",
      "C:\\ProgramData\\Anaconda3\\lib\\site-packages\\ipykernel_launcher.py:209: DataConversionWarning: A column-vector y was passed when a 1d array was expected. Please change the shape of y to (n_samples,), for example using ravel().\n"
     ]
    },
    {
     "name": "stdout",
     "output_type": "stream",
     "text": [
      "Mean Absolute Error: 0.05145100000000019\n",
      "RMSE: 0.05145100000000019\n",
      "MAE Percent:  6.86325372546671\n",
      "Iteration:  69\n",
      "y_pred:  [0.144549] y_test:  [[0.196]]\n",
      "TRAIN: [ 0  1  2  3  4  5  6  7  8  9 10 11 12 13 14 15 16 17 18 19 20 21 22 23\n",
      " 24 25 26 27 28 29 30 31 32 33 34 35 36 37 38 39 40 41 42 43 44 45 46 47\n",
      " 48 49 50 51 52 53 54 55 56 57 58 59 60 61 62 63 64 65 66 67 68 70 71 72\n",
      " 73 74 75 76 77 78 79 80 81 82 83 84 85 86 87 88 89 90] TEST: [69]\n",
      "Mean Absolute Error: 0.24336680000000033\n",
      "RMSE: 0.24336680000000033\n",
      "MAE Percent:  32.46366633797026\n",
      "Iteration:  70\n",
      "y_pred:  [0.6816332] y_test:  [[0.925]]\n",
      "TRAIN: [ 0  1  2  3  4  5  6  7  8  9 10 11 12 13 14 15 16 17 18 19 20 21 22 23\n",
      " 24 25 26 27 28 29 30 31 32 33 34 35 36 37 38 39 40 41 42 43 44 45 46 47\n",
      " 48 49 50 51 52 53 54 55 56 57 58 59 60 61 62 63 64 65 66 67 68 69 71 72\n",
      " 73 74 75 76 77 78 79 80 81 82 83 84 85 86 87 88 89 90] TEST: [70]\n"
     ]
    },
    {
     "name": "stderr",
     "output_type": "stream",
     "text": [
      "C:\\ProgramData\\Anaconda3\\lib\\site-packages\\ipykernel_launcher.py:209: DataConversionWarning: A column-vector y was passed when a 1d array was expected. Please change the shape of y to (n_samples,), for example using ravel().\n",
      "C:\\ProgramData\\Anaconda3\\lib\\site-packages\\ipykernel_launcher.py:209: DataConversionWarning: A column-vector y was passed when a 1d array was expected. Please change the shape of y to (n_samples,), for example using ravel().\n"
     ]
    },
    {
     "name": "stdout",
     "output_type": "stream",
     "text": [
      "Mean Absolute Error: 0.03678429999999999\n",
      "RMSE: 0.03678429999999999\n",
      "MAE Percent:  4.906804221758257\n",
      "Iteration:  71\n",
      "y_pred:  [0.3072157] y_test:  [[0.344]]\n",
      "TRAIN: [ 0  1  2  3  4  5  6  7  8  9 10 11 12 13 14 15 16 17 18 19 20 21 22 23\n",
      " 24 25 26 27 28 29 30 31 32 33 34 35 36 37 38 39 40 41 42 43 44 45 46 47\n",
      " 48 49 50 51 52 53 54 55 56 57 58 59 60 61 62 63 64 65 66 67 68 69 70 72\n",
      " 73 74 75 76 77 78 79 80 81 82 83 84 85 86 87 88 89 90] TEST: [71]\n",
      "Mean Absolute Error: 0.002673999999999954\n",
      "RMSE: 0.002673999999999954\n",
      "MAE Percent:  0.3566955056635945\n",
      "Iteration:  72\n",
      "y_pred:  [0.258674] y_test:  [[0.256]]\n",
      "TRAIN: [ 0  1  2  3  4  5  6  7  8  9 10 11 12 13 14 15 16 17 18 19 20 21 22 23\n",
      " 24 25 26 27 28 29 30 31 32 33 34 35 36 37 38 39 40 41 42 43 44 45 46 47\n",
      " 48 49 50 51 52 53 54 55 56 57 58 59 60 61 62 63 64 65 66 67 68 69 70 71\n",
      " 73 74 75 76 77 78 79 80 81 82 83 84 85 86 87 88 89 90] TEST: [72]\n"
     ]
    },
    {
     "name": "stderr",
     "output_type": "stream",
     "text": [
      "C:\\ProgramData\\Anaconda3\\lib\\site-packages\\ipykernel_launcher.py:209: DataConversionWarning: A column-vector y was passed when a 1d array was expected. Please change the shape of y to (n_samples,), for example using ravel().\n",
      "C:\\ProgramData\\Anaconda3\\lib\\site-packages\\ipykernel_launcher.py:209: DataConversionWarning: A column-vector y was passed when a 1d array was expected. Please change the shape of y to (n_samples,), for example using ravel().\n"
     ]
    },
    {
     "name": "stdout",
     "output_type": "stream",
     "text": [
      "Mean Absolute Error: 0.13922269999999948\n",
      "RMSE: 0.13922269999999948\n",
      "MAE Percent:  18.57147022301854\n",
      "Iteration:  73\n",
      "y_pred:  [0.9089227] y_test:  [[0.7697]]\n",
      "TRAIN: [ 0  1  2  3  4  5  6  7  8  9 10 11 12 13 14 15 16 17 18 19 20 21 22 23\n",
      " 24 25 26 27 28 29 30 31 32 33 34 35 36 37 38 39 40 41 42 43 44 45 46 47\n",
      " 48 49 50 51 52 53 54 55 56 57 58 59 60 61 62 63 64 65 66 67 68 69 70 71\n",
      " 72 74 75 76 77 78 79 80 81 82 83 84 85 86 87 88 89 90] TEST: [73]\n",
      "Mean Absolute Error: 0.1972617999999997\n",
      "RMSE: 0.1972617999999997\n",
      "MAE Percent:  26.31353683586834\n",
      "Iteration:  74\n",
      "y_pred:  [1.1462618] y_test:  [[0.949]]\n",
      "TRAIN: [ 0  1  2  3  4  5  6  7  8  9 10 11 12 13 14 15 16 17 18 19 20 21 22 23\n",
      " 24 25 26 27 28 29 30 31 32 33 34 35 36 37 38 39 40 41 42 43 44 45 46 47\n",
      " 48 49 50 51 52 53 54 55 56 57 58 59 60 61 62 63 64 65 66 67 68 69 70 71\n",
      " 72 73 75 76 77 78 79 80 81 82 83 84 85 86 87 88 89 90] TEST: [74]\n"
     ]
    },
    {
     "name": "stderr",
     "output_type": "stream",
     "text": [
      "C:\\ProgramData\\Anaconda3\\lib\\site-packages\\ipykernel_launcher.py:209: DataConversionWarning: A column-vector y was passed when a 1d array was expected. Please change the shape of y to (n_samples,), for example using ravel().\n",
      "C:\\ProgramData\\Anaconda3\\lib\\site-packages\\ipykernel_launcher.py:209: DataConversionWarning: A column-vector y was passed when a 1d array was expected. Please change the shape of y to (n_samples,), for example using ravel().\n"
     ]
    },
    {
     "name": "stdout",
     "output_type": "stream",
     "text": [
      "Mean Absolute Error: 0.5235140000000003\n",
      "RMSE: 0.5235140000000003\n",
      "MAE Percent:  69.83361666117214\n",
      "Iteration:  75\n",
      "y_pred:  [1.496486] y_test:  [[2.02]]\n",
      "TRAIN: [ 0  1  2  3  4  5  6  7  8  9 10 11 12 13 14 15 16 17 18 19 20 21 22 23\n",
      " 24 25 26 27 28 29 30 31 32 33 34 35 36 37 38 39 40 41 42 43 44 45 46 47\n",
      " 48 49 50 51 52 53 54 55 56 57 58 59 60 61 62 63 64 65 66 67 68 69 70 71\n",
      " 72 73 74 76 77 78 79 80 81 82 83 84 85 86 87 88 89 90] TEST: [75]\n",
      "Mean Absolute Error: 0.11771549999999975\n",
      "RMSE: 0.11771549999999975\n",
      "MAE Percent:  15.702539191078344\n",
      "Iteration:  76\n",
      "y_pred:  [0.6647155] y_test:  [[0.547]]\n",
      "TRAIN: [ 0  1  2  3  4  5  6  7  8  9 10 11 12 13 14 15 16 17 18 19 20 21 22 23\n",
      " 24 25 26 27 28 29 30 31 32 33 34 35 36 37 38 39 40 41 42 43 44 45 46 47\n",
      " 48 49 50 51 52 53 54 55 56 57 58 59 60 61 62 63 64 65 66 67 68 69 70 71\n",
      " 72 73 74 75 77 78 79 80 81 82 83 84 85 86 87 88 89 90] TEST: [76]\n"
     ]
    },
    {
     "name": "stderr",
     "output_type": "stream",
     "text": [
      "C:\\ProgramData\\Anaconda3\\lib\\site-packages\\ipykernel_launcher.py:209: DataConversionWarning: A column-vector y was passed when a 1d array was expected. Please change the shape of y to (n_samples,), for example using ravel().\n",
      "C:\\ProgramData\\Anaconda3\\lib\\site-packages\\ipykernel_launcher.py:209: DataConversionWarning: A column-vector y was passed when a 1d array was expected. Please change the shape of y to (n_samples,), for example using ravel().\n"
     ]
    },
    {
     "name": "stdout",
     "output_type": "stream",
     "text": [
      "Mean Absolute Error: 0.25828129999999994\n",
      "RMSE: 0.25828129999999994\n",
      "MAE Percent:  34.45317087021395\n",
      "Iteration:  77\n",
      "y_pred:  [1.0517187] y_test:  [[1.31]]\n",
      "TRAIN: [ 0  1  2  3  4  5  6  7  8  9 10 11 12 13 14 15 16 17 18 19 20 21 22 23\n",
      " 24 25 26 27 28 29 30 31 32 33 34 35 36 37 38 39 40 41 42 43 44 45 46 47\n",
      " 48 49 50 51 52 53 54 55 56 57 58 59 60 61 62 63 64 65 66 67 68 69 70 71\n",
      " 72 73 74 75 76 78 79 80 81 82 83 84 85 86 87 88 89 90] TEST: [77]\n",
      "Mean Absolute Error: 0.20172399999999993\n",
      "RMSE: 0.20172399999999993\n",
      "MAE Percent:  26.908767458670212\n",
      "Iteration:  78\n",
      "y_pred:  [0.228176] y_test:  [[0.4299]]\n",
      "TRAIN: [ 0  1  2  3  4  5  6  7  8  9 10 11 12 13 14 15 16 17 18 19 20 21 22 23\n",
      " 24 25 26 27 28 29 30 31 32 33 34 35 36 37 38 39 40 41 42 43 44 45 46 47\n",
      " 48 49 50 51 52 53 54 55 56 57 58 59 60 61 62 63 64 65 66 67 68 69 70 71\n",
      " 72 73 74 75 76 77 79 80 81 82 83 84 85 86 87 88 89 90] TEST: [78]\n"
     ]
    },
    {
     "name": "stderr",
     "output_type": "stream",
     "text": [
      "C:\\ProgramData\\Anaconda3\\lib\\site-packages\\ipykernel_launcher.py:209: DataConversionWarning: A column-vector y was passed when a 1d array was expected. Please change the shape of y to (n_samples,), for example using ravel().\n",
      "C:\\ProgramData\\Anaconda3\\lib\\site-packages\\ipykernel_launcher.py:209: DataConversionWarning: A column-vector y was passed when a 1d array was expected. Please change the shape of y to (n_samples,), for example using ravel().\n"
     ]
    },
    {
     "name": "stdout",
     "output_type": "stream",
     "text": [
      "Mean Absolute Error: 0.09907699999999998\n",
      "RMSE: 0.09907699999999998\n",
      "MAE Percent:  13.216275472936632\n",
      "Iteration:  79\n",
      "y_pred:  [0.099077] y_test:  [[0.]]\n",
      "TRAIN: [ 0  1  2  3  4  5  6  7  8  9 10 11 12 13 14 15 16 17 18 19 20 21 22 23\n",
      " 24 25 26 27 28 29 30 31 32 33 34 35 36 37 38 39 40 41 42 43 44 45 46 47\n",
      " 48 49 50 51 52 53 54 55 56 57 58 59 60 61 62 63 64 65 66 67 68 69 70 71\n",
      " 72 73 74 75 76 77 78 80 81 82 83 84 85 86 87 88 89 90] TEST: [79]\n",
      "Mean Absolute Error: 0.014064000000000076\n",
      "RMSE: 0.014064000000000076\n",
      "MAE Percent:  1.8760529512538915\n",
      "Iteration:  80\n",
      "y_pred:  [0.261936] y_test:  [[0.276]]\n",
      "TRAIN: [ 0  1  2  3  4  5  6  7  8  9 10 11 12 13 14 15 16 17 18 19 20 21 22 23\n",
      " 24 25 26 27 28 29 30 31 32 33 34 35 36 37 38 39 40 41 42 43 44 45 46 47\n",
      " 48 49 50 51 52 53 54 55 56 57 58 59 60 61 62 63 64 65 66 67 68 69 70 71\n",
      " 72 73 74 75 76 77 78 79 81 82 83 84 85 86 87 88 89 90] TEST: [80]\n"
     ]
    },
    {
     "name": "stderr",
     "output_type": "stream",
     "text": [
      "C:\\ProgramData\\Anaconda3\\lib\\site-packages\\ipykernel_launcher.py:209: DataConversionWarning: A column-vector y was passed when a 1d array was expected. Please change the shape of y to (n_samples,), for example using ravel().\n",
      "C:\\ProgramData\\Anaconda3\\lib\\site-packages\\ipykernel_launcher.py:209: DataConversionWarning: A column-vector y was passed when a 1d array was expected. Please change the shape of y to (n_samples,), for example using ravel().\n"
     ]
    },
    {
     "name": "stdout",
     "output_type": "stream",
     "text": [
      "Mean Absolute Error: 0.2001299999999988\n",
      "RMSE: 0.2001299999999988\n",
      "MAE Percent:  26.696137452676126\n",
      "Iteration:  81\n",
      "y_pred:  [1.40713] y_test:  [[1.207]]\n",
      "TRAIN: [ 0  1  2  3  4  5  6  7  8  9 10 11 12 13 14 15 16 17 18 19 20 21 22 23\n",
      " 24 25 26 27 28 29 30 31 32 33 34 35 36 37 38 39 40 41 42 43 44 45 46 47\n",
      " 48 49 50 51 52 53 54 55 56 57 58 59 60 61 62 63 64 65 66 67 68 69 70 71\n",
      " 72 73 74 75 76 77 78 79 80 82 83 84 85 86 87 88 89 90] TEST: [81]\n",
      "Mean Absolute Error: 0.9732160000000014\n",
      "RMSE: 0.9732160000000014\n",
      "MAE Percent:  129.82115678380976\n",
      "Iteration:  82\n",
      "y_pred:  [1.550784] y_test:  [[2.524]]\n",
      "TRAIN: [ 0  1  2  3  4  5  6  7  8  9 10 11 12 13 14 15 16 17 18 19 20 21 22 23\n",
      " 24 25 26 27 28 29 30 31 32 33 34 35 36 37 38 39 40 41 42 43 44 45 46 47\n",
      " 48 49 50 51 52 53 54 55 56 57 58 59 60 61 62 63 64 65 66 67 68 69 70 71\n",
      " 72 73 74 75 76 77 78 79 80 81 83 84 85 86 87 88 89 90] TEST: [82]\n"
     ]
    },
    {
     "name": "stderr",
     "output_type": "stream",
     "text": [
      "C:\\ProgramData\\Anaconda3\\lib\\site-packages\\ipykernel_launcher.py:209: DataConversionWarning: A column-vector y was passed when a 1d array was expected. Please change the shape of y to (n_samples,), for example using ravel().\n",
      "C:\\ProgramData\\Anaconda3\\lib\\site-packages\\ipykernel_launcher.py:209: DataConversionWarning: A column-vector y was passed when a 1d array was expected. Please change the shape of y to (n_samples,), for example using ravel().\n"
     ]
    },
    {
     "name": "stdout",
     "output_type": "stream",
     "text": [
      "Mean Absolute Error: 0.719112\n",
      "RMSE: 0.719112\n",
      "MAE Percent:  95.92521259116049\n",
      "Iteration:  83\n",
      "y_pred:  [1.343888] y_test:  [[2.063]]\n",
      "TRAIN: [ 0  1  2  3  4  5  6  7  8  9 10 11 12 13 14 15 16 17 18 19 20 21 22 23\n",
      " 24 25 26 27 28 29 30 31 32 33 34 35 36 37 38 39 40 41 42 43 44 45 46 47\n",
      " 48 49 50 51 52 53 54 55 56 57 58 59 60 61 62 63 64 65 66 67 68 69 70 71\n",
      " 72 73 74 75 76 77 78 79 80 81 82 84 85 86 87 88 89 90] TEST: [83]\n",
      "Mean Absolute Error: 0.10634879999999991\n",
      "RMSE: 0.10634879999999991\n",
      "MAE Percent:  14.186289825249476\n",
      "Iteration:  84\n",
      "y_pred:  [0.4893488] y_test:  [[0.383]]\n",
      "TRAIN: [ 0  1  2  3  4  5  6  7  8  9 10 11 12 13 14 15 16 17 18 19 20 21 22 23\n",
      " 24 25 26 27 28 29 30 31 32 33 34 35 36 37 38 39 40 41 42 43 44 45 46 47\n",
      " 48 49 50 51 52 53 54 55 56 57 58 59 60 61 62 63 64 65 66 67 68 69 70 71\n",
      " 72 73 74 75 76 77 78 79 80 81 82 83 85 86 87 88 89 90] TEST: [84]\n"
     ]
    },
    {
     "name": "stderr",
     "output_type": "stream",
     "text": [
      "C:\\ProgramData\\Anaconda3\\lib\\site-packages\\ipykernel_launcher.py:209: DataConversionWarning: A column-vector y was passed when a 1d array was expected. Please change the shape of y to (n_samples,), for example using ravel().\n",
      "C:\\ProgramData\\Anaconda3\\lib\\site-packages\\ipykernel_launcher.py:209: DataConversionWarning: A column-vector y was passed when a 1d array was expected. Please change the shape of y to (n_samples,), for example using ravel().\n"
     ]
    },
    {
     "name": "stdout",
     "output_type": "stream",
     "text": [
      "Mean Absolute Error: 0.21108000000000007\n",
      "RMSE: 0.21108000000000007\n",
      "MAE Percent:  28.156801546549303\n",
      "Iteration:  85\n",
      "y_pred:  [0.21108] y_test:  [[0.]]\n",
      "TRAIN: [ 0  1  2  3  4  5  6  7  8  9 10 11 12 13 14 15 16 17 18 19 20 21 22 23\n",
      " 24 25 26 27 28 29 30 31 32 33 34 35 36 37 38 39 40 41 42 43 44 45 46 47\n",
      " 48 49 50 51 52 53 54 55 56 57 58 59 60 61 62 63 64 65 66 67 68 69 70 71\n",
      " 72 73 74 75 76 77 78 79 80 81 82 83 84 86 87 88 89 90] TEST: [85]\n",
      "Mean Absolute Error: 0.1408609999999999\n",
      "RMSE: 0.1408609999999999\n",
      "MAE Percent:  18.790009582378612\n",
      "Iteration:  86\n",
      "y_pred:  [0.407861] y_test:  [[0.267]]\n",
      "TRAIN: [ 0  1  2  3  4  5  6  7  8  9 10 11 12 13 14 15 16 17 18 19 20 21 22 23\n",
      " 24 25 26 27 28 29 30 31 32 33 34 35 36 37 38 39 40 41 42 43 44 45 46 47\n",
      " 48 49 50 51 52 53 54 55 56 57 58 59 60 61 62 63 64 65 66 67 68 69 70 71\n",
      " 72 73 74 75 76 77 78 79 80 81 82 83 84 85 87 88 89 90] TEST: [86]\n"
     ]
    },
    {
     "name": "stderr",
     "output_type": "stream",
     "text": [
      "C:\\ProgramData\\Anaconda3\\lib\\site-packages\\ipykernel_launcher.py:209: DataConversionWarning: A column-vector y was passed when a 1d array was expected. Please change the shape of y to (n_samples,), for example using ravel().\n",
      "C:\\ProgramData\\Anaconda3\\lib\\site-packages\\ipykernel_launcher.py:209: DataConversionWarning: A column-vector y was passed when a 1d array was expected. Please change the shape of y to (n_samples,), for example using ravel().\n"
     ]
    },
    {
     "name": "stdout",
     "output_type": "stream",
     "text": [
      "Mean Absolute Error: 0.03498030000000041\n",
      "RMSE: 0.03498030000000041\n",
      "MAE Percent:  4.666161479717499\n",
      "Iteration:  87\n",
      "y_pred:  [1.2350197] y_test:  [[1.27]]\n",
      "TRAIN: [ 0  1  2  3  4  5  6  7  8  9 10 11 12 13 14 15 16 17 18 19 20 21 22 23\n",
      " 24 25 26 27 28 29 30 31 32 33 34 35 36 37 38 39 40 41 42 43 44 45 46 47\n",
      " 48 49 50 51 52 53 54 55 56 57 58 59 60 61 62 63 64 65 66 67 68 69 70 71\n",
      " 72 73 74 75 76 77 78 79 80 81 82 83 84 85 86 88 89 90] TEST: [87]\n",
      "Mean Absolute Error: 0.02230300000000003\n",
      "RMSE: 0.02230300000000003\n",
      "MAE Percent:  2.9750859621597963\n",
      "Iteration:  88\n",
      "y_pred:  [0.119303] y_test:  [[0.097]]\n",
      "TRAIN: [ 0  1  2  3  4  5  6  7  8  9 10 11 12 13 14 15 16 17 18 19 20 21 22 23\n",
      " 24 25 26 27 28 29 30 31 32 33 34 35 36 37 38 39 40 41 42 43 44 45 46 47\n",
      " 48 49 50 51 52 53 54 55 56 57 58 59 60 61 62 63 64 65 66 67 68 69 70 71\n",
      " 72 73 74 75 76 77 78 79 80 81 82 83 84 85 86 87 89 90] TEST: [88]\n"
     ]
    },
    {
     "name": "stderr",
     "output_type": "stream",
     "text": [
      "C:\\ProgramData\\Anaconda3\\lib\\site-packages\\ipykernel_launcher.py:209: DataConversionWarning: A column-vector y was passed when a 1d array was expected. Please change the shape of y to (n_samples,), for example using ravel().\n",
      "C:\\ProgramData\\Anaconda3\\lib\\site-packages\\ipykernel_launcher.py:209: DataConversionWarning: A column-vector y was passed when a 1d array was expected. Please change the shape of y to (n_samples,), for example using ravel().\n"
     ]
    },
    {
     "name": "stdout",
     "output_type": "stream",
     "text": [
      "Mean Absolute Error: 0.11553919999999951\n",
      "RMSE: 0.11553919999999951\n",
      "MAE Percent:  15.412233869845815\n",
      "Iteration:  89\n",
      "y_pred:  [1.0164608] y_test:  [[1.132]]\n",
      "TRAIN: [ 0  1  2  3  4  5  6  7  8  9 10 11 12 13 14 15 16 17 18 19 20 21 22 23\n",
      " 24 25 26 27 28 29 30 31 32 33 34 35 36 37 38 39 40 41 42 43 44 45 46 47\n",
      " 48 49 50 51 52 53 54 55 56 57 58 59 60 61 62 63 64 65 66 67 68 69 70 71\n",
      " 72 73 74 75 76 77 78 79 80 81 82 83 84 85 86 87 88 90] TEST: [89]\n",
      "Mean Absolute Error: 0.1197320000000004\n",
      "RMSE: 0.1197320000000004\n",
      "MAE Percent:  15.97152815411906\n",
      "Iteration:  90\n",
      "y_pred:  [1.447268] y_test:  [[1.567]]\n",
      "TRAIN: [ 0  1  2  3  4  5  6  7  8  9 10 11 12 13 14 15 16 17 18 19 20 21 22 23\n",
      " 24 25 26 27 28 29 30 31 32 33 34 35 36 37 38 39 40 41 42 43 44 45 46 47\n",
      " 48 49 50 51 52 53 54 55 56 57 58 59 60 61 62 63 64 65 66 67 68 69 70 71\n",
      " 72 73 74 75 76 77 78 79 80 81 82 83 84 85 86 87 88 89] TEST: [90]\n"
     ]
    },
    {
     "name": "stderr",
     "output_type": "stream",
     "text": [
      "C:\\ProgramData\\Anaconda3\\lib\\site-packages\\ipykernel_launcher.py:209: DataConversionWarning: A column-vector y was passed when a 1d array was expected. Please change the shape of y to (n_samples,), for example using ravel().\n",
      "C:\\ProgramData\\Anaconda3\\lib\\site-packages\\ipykernel_launcher.py:209: DataConversionWarning: A column-vector y was passed when a 1d array was expected. Please change the shape of y to (n_samples,), for example using ravel().\n"
     ]
    },
    {
     "name": "stdout",
     "output_type": "stream",
     "text": [
      "Mean Absolute Error: 0.4721222999999999\n",
      "RMSE: 0.4721222999999999\n",
      "MAE Percent:  62.97827319878911\n",
      "Iteration:  91\n",
      "y_pred:  [1.1208777] y_test:  [[1.593]]\n",
      "RMSE: [0.5042205 1.1194207 0.174023  0.180736  0.0510583 0.031537  0.274002\n",
      " 0.136028  0.0688176 0.1649211 0.08373   0.086708  0.05935   0.02636\n",
      " 0.07288   0.29561   0.139024  0.3177127 0.121897  0.08234   0.3742293\n",
      " 0.037804  0.0600243 0.098139  0.029457  0.0082699 0.062548  0.206089\n",
      " 0.254839  0.150258  0.2348279 0.4662765 0.690582  0.1867116 0.059566\n",
      " 0.018211  0.2454101 0.025317  0.1451137 0.177401  0.2845    0.2922349\n",
      " 0.847781  0.0710039 0.2046476 0.105757  0.0449753 0.143094  0.591376\n",
      " 0.843156  0.231332  0.7315971 0.0773    0.70176   0.064586  0.464672\n",
      " 0.073879  0.423626  0.07847   0.6239961 0.2874637 0.047761  0.69027\n",
      " 0.7804579 0.0090494 0.0817163 0.019675  0.161946  0.051451  0.2433668\n",
      " 0.0367843 0.002674  0.1392227 0.1972618 0.523514  0.1177155 0.2582813\n",
      " 0.201724  0.099077  0.014064  0.20013   0.973216  0.719112  0.1063488\n",
      " 0.21108   0.140861  0.0349803 0.022303  0.1155392 0.119732  0.4721223]\n",
      "MAE: [0.5042205 1.1194207 0.174023  0.180736  0.0510583 0.031537  0.274002\n",
      " 0.136028  0.0688176 0.1649211 0.08373   0.086708  0.05935   0.02636\n",
      " 0.07288   0.29561   0.139024  0.3177127 0.121897  0.08234   0.3742293\n",
      " 0.037804  0.0600243 0.098139  0.029457  0.0082699 0.062548  0.206089\n",
      " 0.254839  0.150258  0.2348279 0.4662765 0.690582  0.1867116 0.059566\n",
      " 0.018211  0.2454101 0.025317  0.1451137 0.177401  0.2845    0.2922349\n",
      " 0.847781  0.0710039 0.2046476 0.105757  0.0449753 0.143094  0.591376\n",
      " 0.843156  0.231332  0.7315971 0.0773    0.70176   0.064586  0.464672\n",
      " 0.073879  0.423626  0.07847   0.6239961 0.2874637 0.047761  0.69027\n",
      " 0.7804579 0.0090494 0.0817163 0.019675  0.161946  0.051451  0.2433668\n",
      " 0.0367843 0.002674  0.1392227 0.1972618 0.523514  0.1177155 0.2582813\n",
      " 0.201724  0.099077  0.014064  0.20013   0.973216  0.719112  0.1063488\n",
      " 0.21108   0.140861  0.0349803 0.022303  0.1155392 0.119732  0.4721223]\n",
      "MAE Percent: [ 67.25997989 149.32398378  23.21362079  24.10909458   6.81086991\n",
      "   4.20684598  36.55021763  18.14531647   9.17985364  21.99948211\n",
      "  11.16907804  11.56632532   7.91693278   3.51626534   9.72175335\n",
      "  39.43259478  18.54496484  42.38096192  16.26032612  10.98366041\n",
      "  49.9199362    5.04282606   8.00688034  13.09115192   3.9293865\n",
      "   1.10315488   8.34352673  27.49103219  33.99398877  20.04351282\n",
      "  31.32462847  62.19847866  92.11948231  24.90620366   7.94574588\n",
      "   2.42923779  32.73623026   3.37713542  19.35729417  23.66422565\n",
      "  37.95058764  38.98237675 113.08888276   9.4714929   27.2987581\n",
      "  14.10734727   5.99943432  19.08787834  78.88599901 112.47193559\n",
      "  30.85829645  97.59064979  10.31135474  93.61056023   8.61538367\n",
      "  61.98444802   9.85501394  56.50915867  10.4674257   83.23732402\n",
      "  38.34592739   6.37102993  92.07786339 104.10838642   1.20713549\n",
      "  10.90046258   2.62452658  21.60262168   6.86325373  32.46366634\n",
      "   4.90680422   0.35669551  18.57147022  26.31353684  69.83361666\n",
      "  15.70253919  34.45317087  26.90876746  13.21627547   1.87605295\n",
      "  26.69613745 129.82115678  95.92521259  14.18628983  28.15680155\n",
      "  18.79000958   4.66616148   2.97508596  15.41223387  15.97152815\n",
      "  62.9782732 ]\n",
      "Average RMSE: 0.2362647736263736 +- 0.24676638466381712\n",
      "Average MAE: 0.2362647736263736 +- 0.24676638466381712\n",
      "Average MAE Percent: 31.51629876557795 +- 32.91715047062036\n",
      "10\n",
      "RMSE_COT_mean:  [0.21401509 0.21094808 0.21030121 0.21897165 0.22308511 0.22914199\n",
      " 0.23689359 0.22997693 0.2347823  0.23626477] +- [0.23136772 0.24377899 0.23821489 0.23754684 0.2394447  0.24465879\n",
      " 0.25410271 0.2485902  0.23821284 0.24676638]\n",
      "MAE_COT_mean:  [0.21401509 0.21094808 0.21030121 0.21897165 0.22308511 0.22914199\n",
      " 0.23689359 0.22997693 0.2347823  0.23626477] +- [0.23136772 0.24377899 0.23821489 0.23754684 0.2394447  0.24465879\n",
      " 0.25410271 0.2485902  0.23821284 0.24676638]\n",
      "MAEP_COT_mean:  [28.54832446 28.13920395 28.05291593 29.20950038 29.75821066 30.56616217\n",
      " 31.60017851 30.67753867 31.31854571 31.51629877] +- [30.86306135 32.51865011 31.77643241 31.68731806 31.94048148 32.63601004\n",
      " 33.89577262 33.16043688 31.77615962 32.91715047]\n"
     ]
    }
   ],
   "source": [
    "data = pd.read_csv(r\"C:\\Users\\sshin\\Desktop\\SYSHIN0228\\RERC_STARS_Sensor_Analysis\\Machine_Learning_6MWT\\Feature_Matrix_Automation_6MWT.csv\", sep=',')\n",
    "data = data.dropna()\n",
    "\n",
    "data_filter = data.query('Cut_Off_Time == 360')\n",
    "data_filter = data_filter.query('Sub_Type != \"HC\"')\n",
    "y = data_filter['MWT10_SSV'].values.reshape(-1,1)\n",
    "\n",
    "j = 0\n",
    "RMSE_COT_mean = np.zeros(10)\n",
    "RMSE_COT_std = np.zeros(10)\n",
    "MAE_COT_mean = np.zeros(10)\n",
    "MAE_COT_std = np.zeros(10)\n",
    "MAEP_COT_mean = np.zeros(10)\n",
    "MAEP_COT_std = np.zeros(10)\n",
    "y_pred_out = np.zeros((10,len(y)))\n",
    "y_test_out = np.zeros((10,len(y)))\n",
    "\n",
    "\n",
    "for n in [10, 20, 30, 60, 90, 120, 180, 240, 300, 360]:\n",
    "    data_filter = data.query('Cut_Off_Time == @n')\n",
    "    data_filter = data_filter.query('Sub_Type != \"HC\"')\n",
    "#     data_filter = data_filter.query('TUG != 0')\n",
    "    print(data_filter)\n",
    "\n",
    "   \n",
    "# # AoM only\n",
    "#     feature_df = data_filter[['AoM_Pel_tilt', 'AoM_Pel_ro', 'AoM_Pel_oblq', 'AoM_Pel_norm',\n",
    "#         'AoM_Ankle_US_x', 'AoM_Ankle_US_y', 'AoM_Ankle_US_z', 'AoM_Ankle_US_norm',\n",
    "#         'AoM_Ankle_AS_x', 'AoM_Ankle_AS_y', 'AoM_Ankle_AS_z', 'AoM_Ankle_US_norm'\n",
    "#         ]]\n",
    "    \n",
    "# # Gyro only\n",
    "#     feature_df = data_filter[['SC_Gyr_norm_mean', 'DLS_R_Gyr_norm_mean', 'DLS_L_Gyr_norm_mean',\n",
    "#         'SC_Gyr_norm_range', 'DLS_R_Gyr_norm_range', 'DLS_L_Gyr_norm_range',\n",
    "#         'SC_Gyr_norm_rms', 'DLS_R_Gyr_norm_rms', 'DLS_L_Gyr_norm_rms',\n",
    "#         'SC_Gyr_norm_std', 'DLS_R_Gyr_norm_std', 'DLS_L_Gyr_norm_std',\n",
    "#         'SC_Gyr_norm_skew', 'DLS_R_Gyr_norm_skew', 'DLS_L_Gyr_norm_skew',\n",
    "#         'SC_Gyr_norm_kurtosis', 'DLS_R_Gyr_norm_kurtosis', 'DLS_L_Gyr_norm_kurtosis',\n",
    "#         'SC_Gyr_norm_SamEn', 'DLS_R_Gyr_norm_SamEn', 'DLS_L_Gyr_norm_SamEn'\n",
    "#         ]]\n",
    "\n",
    "# # Acc only\n",
    "#     feature_df = data_filter[['SC_Acc_norm_mean', 'DLS_R_Acc_norm_mean', 'DLS_L_Acc_norm_mean',\n",
    "#         'SC_Acc_norm_range', 'DLS_R_Acc_norm_range', 'DLS_L_Acc_norm_range',\n",
    "#         'SC_Acc_norm_rms', 'DLS_R_Acc_norm_rms', 'DLS_L_Acc_norm_rms',\n",
    "#         'SC_Acc_norm_std', 'DLS_R_Acc_norm_std', 'DLS_L_Acc_norm_std',\n",
    "#         'SC_Acc_norm_skew', 'DLS_R_Acc_norm_skew', 'DLS_L_Acc_norm_skew',\n",
    "#         'SC_Acc_norm_kurtosis', 'DLS_R_Acc_norm_kurtosis', 'DLS_L_Acc_norm_kurtosis',\n",
    "#         'SC_Acc_norm_SamEn', 'DLS_R_Acc_norm_SamEn', 'DLS_L_Acc_norm_SamEn'\n",
    "#         ]]\n",
    "\n",
    "\n",
    "# # AoM + Gyro\n",
    "#     feature_df = data_filter[['AoM_Pel_tilt', 'AoM_Pel_ro', 'AoM_Pel_oblq', 'AoM_Pel_norm',\n",
    "#         'AoM_Ankle_US_x', 'AoM_Ankle_US_y', 'AoM_Ankle_US_z', 'AoM_Ankle_US_norm',\n",
    "#         'AoM_Ankle_AS_x', 'AoM_Ankle_AS_y', 'AoM_Ankle_AS_z', 'AoM_Ankle_US_norm',\n",
    "#         'SC_Gyr_norm_mean', 'DLS_R_Gyr_norm_mean', 'DLS_L_Gyr_norm_mean',\n",
    "#         'SC_Gyr_norm_range', 'DLS_R_Gyr_norm_range', 'DLS_L_Gyr_norm_range',\n",
    "#         'SC_Gyr_norm_rms', 'DLS_R_Gyr_norm_rms', 'DLS_L_Gyr_norm_rms',\n",
    "#         'SC_Gyr_norm_std', 'DLS_R_Gyr_norm_std', 'DLS_L_Gyr_norm_std',\n",
    "#         'SC_Gyr_norm_skew', 'DLS_R_Gyr_norm_skew', 'DLS_L_Gyr_norm_skew',\n",
    "#         'SC_Gyr_norm_kurtosis', 'DLS_R_Gyr_norm_kurtosis', 'DLS_L_Gyr_norm_kurtosis',\n",
    "#         'SC_Gyr_norm_SamEn', 'DLS_R_Gyr_norm_SamEn', 'DLS_L_Gyr_norm_SamEn'\n",
    "#         ]]\n",
    "    \n",
    "# # AoM + Acc\n",
    "#     feature_df = data_filter[['AoM_Pel_tilt', 'AoM_Pel_ro', 'AoM_Pel_oblq', 'AoM_Pel_norm',\n",
    "#         'AoM_Ankle_US_x', 'AoM_Ankle_US_y', 'AoM_Ankle_US_z', 'AoM_Ankle_US_norm',\n",
    "#         'AoM_Ankle_AS_x', 'AoM_Ankle_AS_y', 'AoM_Ankle_AS_z', 'AoM_Ankle_US_norm',\n",
    "#         'SC_Acc_norm_mean', 'DLS_R_Acc_norm_mean', 'DLS_L_Acc_norm_mean',\n",
    "#         'SC_Acc_norm_range', 'DLS_R_Acc_norm_range', 'DLS_L_Acc_norm_range',\n",
    "#         'SC_Acc_norm_rms', 'DLS_R_Acc_norm_rms', 'DLS_L_Acc_norm_rms',\n",
    "#         'SC_Acc_norm_std', 'DLS_R_Acc_norm_std', 'DLS_L_Acc_norm_std',\n",
    "#         'SC_Acc_norm_skew', 'DLS_R_Acc_norm_skew', 'DLS_L_Acc_norm_skew',\n",
    "#         'SC_Acc_norm_kurtosis', 'DLS_R_Acc_norm_kurtosis', 'DLS_L_Acc_norm_kurtosis',\n",
    "#         'SC_Acc_norm_SamEn', 'DLS_R_Acc_norm_SamEn', 'DLS_L_Acc_norm_SamEn'\n",
    "#         ]]\n",
    "\n",
    "# # # Gyro + Acc\n",
    "#     feature_df = data_filter[['SC_Gyr_norm_mean', 'DLS_R_Gyr_norm_mean', 'DLS_L_Gyr_norm_mean',\n",
    "#         'SC_Gyr_norm_range', 'DLS_R_Gyr_norm_range', 'DLS_L_Gyr_norm_range',\n",
    "#         'SC_Gyr_norm_rms', 'DLS_R_Gyr_norm_rms', 'DLS_L_Gyr_norm_rms',\n",
    "#         'SC_Gyr_norm_std', 'DLS_R_Gyr_norm_std', 'DLS_L_Gyr_norm_std',\n",
    "#         'SC_Gyr_norm_skew', 'DLS_R_Gyr_norm_skew', 'DLS_L_Gyr_norm_skew',\n",
    "#         'SC_Gyr_norm_kurtosis', 'DLS_R_Gyr_norm_kurtosis', 'DLS_L_Gyr_norm_kurtosis',\n",
    "#         'SC_Gyr_norm_SamEn', 'DLS_R_Gyr_norm_SamEn', 'DLS_L_Gyr_norm_SamEn',\n",
    "#         'SC_Acc_norm_mean', 'DLS_R_Acc_norm_mean', 'DLS_L_Acc_norm_mean',\n",
    "#         'SC_Acc_norm_range', 'DLS_R_Acc_norm_range', 'DLS_L_Acc_norm_range',\n",
    "#         'SC_Acc_norm_rms', 'DLS_R_Acc_norm_rms', 'DLS_L_Acc_norm_rms',\n",
    "#         'SC_Acc_norm_std', 'DLS_R_Acc_norm_std', 'DLS_L_Acc_norm_std',\n",
    "#         'SC_Acc_norm_skew', 'DLS_R_Acc_norm_skew', 'DLS_L_Acc_norm_skew',\n",
    "#         'SC_Acc_norm_kurtosis', 'DLS_R_Acc_norm_kurtosis', 'DLS_L_Acc_norm_kurtosis',\n",
    "#         'SC_Acc_norm_SamEn', 'DLS_R_Acc_norm_SamEn', 'DLS_L_Acc_norm_SamEn'\n",
    "#         ]]\n",
    "    \n",
    "\n",
    "# # AoM + Gyro + Acc\n",
    "    feature_df = data_filter[['AoM_Pel_tilt', 'AoM_Pel_ro', 'AoM_Pel_oblq', 'AoM_Pel_norm',\n",
    "        'AoM_Ankle_US_x', 'AoM_Ankle_US_y', 'AoM_Ankle_US_z', 'AoM_Ankle_US_norm',\n",
    "        'AoM_Ankle_AS_x', 'AoM_Ankle_AS_y', 'AoM_Ankle_AS_z', 'AoM_Ankle_US_norm',\n",
    "        'SC_Gyr_norm_mean', 'DLS_R_Gyr_norm_mean', 'DLS_L_Gyr_norm_mean',\n",
    "        'SC_Gyr_norm_range', 'DLS_R_Gyr_norm_range', 'DLS_L_Gyr_norm_range',\n",
    "        'SC_Gyr_norm_rms', 'DLS_R_Gyr_norm_rms', 'DLS_L_Gyr_norm_rms',\n",
    "        'SC_Gyr_norm_std', 'DLS_R_Gyr_norm_std', 'DLS_L_Gyr_norm_std',\n",
    "        'SC_Gyr_norm_skew', 'DLS_R_Gyr_norm_skew', 'DLS_L_Gyr_norm_skew',\n",
    "        'SC_Gyr_norm_kurtosis', 'DLS_R_Gyr_norm_kurtosis', 'DLS_L_Gyr_norm_kurtosis',\n",
    "        'SC_Gyr_norm_SamEn', 'DLS_R_Gyr_norm_SamEn', 'DLS_L_Gyr_norm_SamEn',\n",
    "        'SC_Acc_norm_mean', 'DLS_R_Acc_norm_mean', 'DLS_L_Acc_norm_mean',\n",
    "        'SC_Acc_norm_range', 'DLS_R_Acc_norm_range', 'DLS_L_Acc_norm_range',\n",
    "        'SC_Acc_norm_rms', 'DLS_R_Acc_norm_rms', 'DLS_L_Acc_norm_rms',\n",
    "        'SC_Acc_norm_std', 'DLS_R_Acc_norm_std', 'DLS_L_Acc_norm_std',\n",
    "        'SC_Acc_norm_skew', 'DLS_R_Acc_norm_skew', 'DLS_L_Acc_norm_skew',\n",
    "        'SC_Acc_norm_kurtosis', 'DLS_R_Acc_norm_kurtosis', 'DLS_L_Acc_norm_kurtosis',\n",
    "        'SC_Acc_norm_SamEn', 'DLS_R_Acc_norm_SamEn', 'DLS_L_Acc_norm_SamEn'\n",
    "        ]]\n",
    "\n",
    "    \n",
    "    #     # AoM + Sway Features\n",
    "#     feature_df = data_filter[['AoM_Pel_tilt', 'AoM_Pel_ro', 'AoM_Pel_oblq', 'AoM_Pel_norm',\n",
    "#         'AoM_Ankle_US_x', 'AoM_Ankle_US_y', 'AoM_Ankle_US_z', 'AoM_Ankle_US_norm',\n",
    "#         'AoM_Ankle_AS_x', 'AoM_Ankle_AS_y', 'AoM_Ankle_AS_z', 'AoM_Ankle_US_norm',\n",
    "#         'f50_ML', 'f50_AP', 'f95_ML', 'f95_AP', 'spectral_centroid_AP', 'spectral_centroid_ML',\n",
    "#         'max_accAP', 'max_accML', 'mean_accAP', 'mean_accAP', 'rms_AP', 'rms_ML', 'jerk_AP', 'jerk_ML',\n",
    "#         'mean_velAP', 'mean_velML', 'length_swayAPAcc', 'length_swayMLAcc',             \n",
    "#         ]]\n",
    "\n",
    "#     # # AoM + Gyro + Acc + Balance Sway\n",
    "#     feature_df = data_filter[['AoM_Pel_tilt', 'AoM_Pel_ro', 'AoM_Pel_oblq', 'AoM_Pel_norm',\n",
    "#         'AoM_Ankle_US_x', 'AoM_Ankle_US_y', 'AoM_Ankle_US_z', 'AoM_Ankle_US_norm',\n",
    "#         'AoM_Ankle_AS_x', 'AoM_Ankle_AS_y', 'AoM_Ankle_AS_z', 'AoM_Ankle_US_norm',\n",
    "#         'f50_ML', 'f50_AP', 'f95_ML', 'f95_AP', 'spectral_centroid_AP', 'spectral_centroid_ML',\n",
    "#         'max_accAP', 'max_accML', 'mean_accAP', 'mean_accAP', 'rms_AP', 'rms_ML', 'jerk_AP', 'jerk_ML',\n",
    "#         'mean_velAP', 'mean_velML', 'length_swayAPAcc', 'length_swayMLAcc',        \n",
    "#         'SC_Gyr_norm_mean', 'DLS_R_Gyr_norm_mean', 'DLS_L_Gyr_norm_mean',\n",
    "#         'SC_Gyr_norm_range', 'DLS_R_Gyr_norm_range', 'DLS_L_Gyr_norm_range',\n",
    "#         'SC_Gyr_norm_rms', 'DLS_R_Gyr_norm_rms', 'DLS_L_Gyr_norm_rms',\n",
    "#         'SC_Gyr_norm_std', 'DLS_R_Gyr_norm_std', 'DLS_L_Gyr_norm_std',\n",
    "#         'SC_Gyr_norm_skew', 'DLS_R_Gyr_norm_skew', 'DLS_L_Gyr_norm_skew',\n",
    "#         'SC_Gyr_norm_kurtosis', 'DLS_R_Gyr_norm_kurtosis', 'DLS_L_Gyr_norm_kurtosis',\n",
    "#         'SC_Gyr_norm_SamEn', 'DLS_R_Gyr_norm_SamEn', 'DLS_L_Gyr_norm_SamEn',\n",
    "#         'SC_Acc_norm_mean', 'DLS_R_Acc_norm_mean', 'DLS_L_Acc_norm_mean',\n",
    "#         'SC_Acc_norm_range', 'DLS_R_Acc_norm_range', 'DLS_L_Acc_norm_range',\n",
    "#         'SC_Acc_norm_rms', 'DLS_R_Acc_norm_rms', 'DLS_L_Acc_norm_rms',\n",
    "#         'SC_Acc_norm_std', 'DLS_R_Acc_norm_std', 'DLS_L_Acc_norm_std',\n",
    "#         'SC_Acc_norm_skew', 'DLS_R_Acc_norm_skew', 'DLS_L_Acc_norm_skew',\n",
    "#         'SC_Acc_norm_kurtosis', 'DLS_R_Acc_norm_kurtosis', 'DLS_L_Acc_norm_kurtosis',\n",
    "#         'SC_Acc_norm_SamEn', 'DLS_R_Acc_norm_SamEn', 'DLS_L_Acc_norm_SamEn'\n",
    "#         ]]\n",
    "\n",
    "# # Acc All\n",
    "#     feature_df = data_filter[[\n",
    "#         'SC_Acc_x_mean', 'DLS_R_Acc_x_mean', 'DLS_L_Acc_x_mean',\n",
    "#         'SC_Acc_y_mean', 'DLS_R_Acc_y_mean', 'DLS_L_Acc_y_mean',\n",
    "#         'SC_Acc_z_mean', 'DLS_R_Acc_z_mean', 'DLS_L_Acc_z_mean',\n",
    "#         'SC_Acc_norm_mean', 'DLS_R_Acc_norm_mean', 'DLS_L_Acc_norm_mean',\n",
    "#         'SC_Acc_x_range', 'DLS_R_Acc_x_range', 'DLS_L_Acc_x_range',\n",
    "#         'SC_Acc_y_range', 'DLS_R_Acc_y_range', 'DLS_L_Acc_y_range',\n",
    "#         'SC_Acc_z_range', 'DLS_R_Acc_z_range', 'DLS_L_Acc_z_range',\n",
    "#         'SC_Acc_norm_range', 'DLS_R_Acc_norm_range', 'DLS_L_Acc_norm_range',\n",
    "#         'SC_Acc_x_rms', 'DLS_R_Acc_x_rms', 'DLS_L_Acc_x_rms',\n",
    "#         'SC_Acc_y_rms', 'DLS_R_Acc_y_rms', 'DLS_L_Acc_y_rms',\n",
    "#         'SC_Acc_z_rms', 'DLS_R_Acc_z_rms', 'DLS_L_Acc_z_rms',\n",
    "#         'SC_Acc_norm_rms', 'DLS_R_Acc_norm_rms', 'DLS_L_Acc_norm_rms',\n",
    "#         'SC_Acc_x_std', 'DLS_R_Acc_x_std', 'DLS_L_Acc_x_std',        \n",
    "#         'SC_Acc_y_std', 'DLS_R_Acc_y_std', 'DLS_L_Acc_y_std',        \n",
    "#         'SC_Acc_z_std', 'DLS_R_Acc_z_std', 'DLS_L_Acc_z_std',        \n",
    "#         'SC_Acc_norm_std', 'DLS_R_Acc_norm_std', 'DLS_L_Acc_norm_std',\n",
    "#         'SC_Acc_x_skew', 'DLS_R_Acc_x_skew', 'DLS_L_Acc_x_skew',\n",
    "#         'SC_Acc_y_skew', 'DLS_R_Acc_y_skew', 'DLS_L_Acc_y_skew',\n",
    "#         'SC_Acc_z_skew', 'DLS_R_Acc_z_skew', 'DLS_L_Acc_z_skew',\n",
    "#         'SC_Acc_norm_skew', 'DLS_R_Acc_norm_skew', 'DLS_L_Acc_norm_skew',\n",
    "#         'SC_Acc_x_kurtosis', 'DLS_R_Acc_x_kurtosis', 'DLS_L_Acc_x_kurtosis',\n",
    "#         'SC_Acc_y_kurtosis', 'DLS_R_Acc_y_kurtosis', 'DLS_L_Acc_y_kurtosis',\n",
    "#         'SC_Acc_z_kurtosis', 'DLS_R_Acc_z_kurtosis', 'DLS_L_Acc_z_kurtosis',\n",
    "#         'SC_Acc_norm_kurtosis', 'DLS_R_Acc_norm_kurtosis', 'DLS_L_Acc_norm_kurtosis',\n",
    "#         'SC_Acc_x_SamEn', 'DLS_R_Acc_x_SamEn', 'DLS_L_Acc_x_SamEn',\n",
    "#         'SC_Acc_y_SamEn', 'DLS_R_Acc_y_SamEn', 'DLS_L_Acc_y_SamEn',\n",
    "#         'SC_Acc_z_SamEn', 'DLS_R_Acc_z_SamEn', 'DLS_L_Acc_z_SamEn',\n",
    "#         'SC_Acc_norm_SamEn', 'DLS_R_Acc_norm_SamEn', 'DLS_L_Acc_norm_SamEn'\n",
    "#         ]]\n",
    "\n",
    "\n",
    "    X = feature_df.values\n",
    "\n",
    "    y = data_filter['MWT10_SSV'].values.reshape(-1,1)\n",
    "    \n",
    "    \n",
    "    min_max_scaler = preprocessing.MinMaxScaler()\n",
    "    X_scale = min_max_scaler.fit_transform(X)\n",
    "    y_scale = min_max_scaler.fit_transform(y)          \n",
    "            \n",
    "\n",
    "    loo = LeaveOneOut()\n",
    "    loo.get_n_splits(X)\n",
    "    i = 0\n",
    "    RMSE = np.zeros((len(y)))\n",
    "    MAE = np.zeros((len(y)))\n",
    "    MAE_Percent = np.zeros((len(y)))\n",
    "\n",
    "    \n",
    "\n",
    "    for train_index, test_index in loo.split(X):\n",
    "        print(\"TRAIN:\", train_index, \"TEST:\", test_index)\n",
    "        X_train, X_test = X_scale[train_index], X_scale[test_index]\n",
    "        y_train, y_test = y_scale[train_index], y_scale[test_index]\n",
    "\n",
    "# #     Regression\n",
    "        regressor = RandomForestRegressor()\n",
    "        regressor.fit(X_train,y_train)\n",
    "\n",
    "        y_pred = regressor.predict(X_test)\n",
    "\n",
    "        y_pred_ = y_pred*(max(y)-min(y))+min(y)\n",
    "        y_test_ = y_test*(max(y)-min(y))+min(y)\n",
    "        \n",
    "        y_pred_out[j][i] = y_pred_\n",
    "        y_test_out[j][i] = y_test_\n",
    "\n",
    "\n",
    "        df = pd.DataFrame({'Actual': y_test_.flatten(), 'Predicted': y_pred_.flatten()})\n",
    "\n",
    "        print('Mean Absolute Error:', metrics.mean_absolute_error(y_test_, y_pred_))\n",
    "        print('RMSE:', np.sqrt(metrics.mean_squared_error(y_test_, y_pred_)))\n",
    "        print('MAE Percent: ',np.mean(np.abs(y_test_ - y_pred_) / np.mean(y)*100))\n",
    "\n",
    "        RMSE[i] = np.sqrt(metrics.mean_squared_error(y_test_, y_pred_))\n",
    "        MAE[i] = metrics.mean_absolute_error(y_test_, y_pred_)\n",
    "        MAE_Percent[i] = metrics.mean_absolute_error(y_test_, y_pred_) / np.mean(y)*100\n",
    "\n",
    "        i = i+1\n",
    "        print(\"Iteration: \", i)\n",
    "        print(\"y_pred: \", y_pred_, \"y_test: \",y_test_)\n",
    "        \n",
    "    print(\"RMSE:\", RMSE)\n",
    "    RMSE_mean = np.mean(RMSE)\n",
    "    RMSE_std = np.std(RMSE)\n",
    "\n",
    "    print(\"MAE:\", MAE)\n",
    "    MAE_mean = np.mean(MAE)\n",
    "    MAE_std = np.std(MAE)\n",
    "\n",
    "    print(\"MAE Percent:\", MAE_Percent)\n",
    "    MAE_Percent_mean = np.mean(MAE_Percent)\n",
    "    MAE_Percent_std = np.std(MAE_Percent)\n",
    "\n",
    "    print(\"Average RMSE:\",RMSE_mean, \"+-\", RMSE_std)\n",
    "    print(\"Average MAE:\",MAE_mean, \"+-\", MAE_std)\n",
    "    print(\"Average MAE Percent:\",MAE_Percent_mean, \"+-\", MAE_Percent_std)\n",
    "    \n",
    "    RMSE_COT_mean[j] = RMSE_mean\n",
    "    RMSE_COT_std[j] = RMSE_std\n",
    "    \n",
    "    MAE_COT_mean[j] = MAE_mean\n",
    "    MAE_COT_std[j] = MAE_std\n",
    "    \n",
    "    MAEP_COT_mean[j] = MAE_Percent_mean\n",
    "    MAEP_COT_std[j] = MAE_Percent_std\n",
    "    \n",
    "    \n",
    "    j = j+1\n",
    "    print(j)\n",
    "    \n",
    "    \n",
    "print('RMSE_COT_mean: ', RMSE_COT_mean, '+-', RMSE_COT_std)\n",
    "print('MAE_COT_mean: ', MAE_COT_mean, '+-', MAE_COT_std)\n",
    "print('MAEP_COT_mean: ', MAEP_COT_mean, '+-', MAEP_COT_std)\n",
    "\n",
    "\n",
    "MAE_save = pd.DataFrame({'RMSE_COT_mean':RMSE_COT_mean, 'RMSE_COT_std':RMSE_COT_std, \n",
    "                         'MAE_COT_mean':MAE_COT_mean, 'MAE_COT_std':MAE_COT_std, \n",
    "                         'MAEP_COT_mean':MAEP_COT_mean, 'MAEP_COT_std':MAEP_COT_std})\n",
    "\n",
    "y_save = pd.DataFrame({'Actual10': y_test_out[0], 'Pred10': y_pred_out[0],\n",
    "                       'Actual20': y_test_out[1], 'Pred20': y_pred_out[1],\n",
    "                       'Actual30': y_test_out[2], 'Pred30': y_pred_out[2],\n",
    "                       'Actual60': y_test_out[3], 'Pred60': y_pred_out[3],\n",
    "                       'Actual90': y_test_out[4], 'Pred90': y_pred_out[4],\n",
    "                       'Actual120': y_test_out[5], 'Pred120': y_pred_out[5],\n",
    "                       'Actual180': y_test_out[6], 'Pred180': y_pred_out[6],\n",
    "                       'Actual240': y_test_out[7], 'Pred240': y_pred_out[7],\n",
    "                       'Actual300': y_test_out[8], 'Pred300': y_pred_out[8],\n",
    "                       'Actual360': y_test_out[9], 'Pred360': y_pred_out[9]\n",
    "                      })\n",
    "\n",
    "SAVEPATH = Path(r'C:\\Users\\sshin\\Desktop\\SYSHIN0228\\RERC_STARS_Sensor_Analysis\\Machine_Learning_6MWT')\n",
    "# MAE_save.to_csv(SAVEPATH/'MWT10_RandomForest_All_6MWT.csv', index=False) \n",
    "# y_save.to_csv(SAVEPATH/'MWT10_RandomForest_All_6MWT_plot.csv', index=False)\n",
    "\n"
   ]
  },
  {
   "cell_type": "code",
   "execution_count": 50,
   "metadata": {
    "scrolled": true
   },
   "outputs": [
    {
     "name": "stdout",
     "output_type": "stream",
     "text": [
      "[[ 77.12166667  73.43833333  54.02666667  74.20833333  87.64\n",
      "   59.1         81.31666667  96.83833333  63.94833333  68.04333333\n",
      "   70.02833333  89.455      102.02        78.185       68.78666667\n",
      "   91.3225      57.53666667  69.874       60.75666667  94.65333333\n",
      "   69.26        68.96        74.12666667  61.805       77.414\n",
      "   80.99        62.74666667  78.58        72.6475      95.74\n",
      "   80.425       85.575       95.47166667  66.786       66.54666667\n",
      "   55.03666667  68.089       60.86666667  70.9675      82.155\n",
      "   85.76083333  68.49        62.166       74.93        70.715\n",
      "   75.39        74.81        56.07333333 101.3825      99.33\n",
      "   89.6625      82.19833333  66.11416667 102.355       77.555\n",
      "   99.44        63.275      103.575       52.72        76.71666667\n",
      "   65.465       64.01966667  82.265       72.042       75.46\n",
      "   73.725       66.627       58.852       63.09        72.59083333\n",
      "   67.34966667  62.69666667  80.572       69.69       106.51\n",
      "   63.186       87.14        67.71666667  53.4         61.765\n",
      "   77.43666667  95.62        95.4825      71.58        58.37\n",
      "   57.87333333  77.60416667  53.83333333  74.3175      86.96333333\n",
      "   83.52666667]\n",
      " [ 77.675       72.01833333  56.71333333  69.421       86.89\n",
      "   56.296       87.01        89.07333333  66.13        74.1\n",
      "   66.88        90.3575     102.86        84.13416667  65.56\n",
      "   91.15583333  55.005       72.58        60.888       94.53833333\n",
      "   69.805       71.795       76.55166667  60.58        81.27\n",
      "   78.53        58.03        78.365       68.64333333  89.5875\n",
      "   86.31        84.77        93.23833333  76.695       67.47\n",
      "   52.41        72.068       59.92        74.58333333  84.53\n",
      "   74.94        67.27        64.06        81.9385      68.79\n",
      "   82.595       74.15        50.52        98.585       99.01166667\n",
      "   85.85166667  79.9         73.81166667 102.77        78.87\n",
      "   90.245       56.08       108.08666667  57.27        81.06333333\n",
      "   73.577       67.88        79.00166667  73.065       67.98333333\n",
      "   72.07        56.50833333  63.89666667  65.42        69.93\n",
      "   65.25        61.81        73.09666667  77.805       97.25\n",
      "   77.731       80.75        63.30366667  52.915       60.29\n",
      "   88.77666667  99.2175      99.42        70.49933333  58.97\n",
      "   59.31666667  80.372       44.12        69.495       81.86166667\n",
      "   82.53583333]\n",
      " [ 77.809       69.9         61.53666667  71.82333333  88.555\n",
      "   56.25333333  83.06966667  84.54        65.48266667  78.915\n",
      "   67.47666667  90.93916667 101.53        83.498       64.47\n",
      "   88.4975      55.3         67.607       54.43166667  97.23\n",
      "   67.35833333  75.51033333  75.38133333  57.235       76.8775\n",
      "   76.495       64.2595      79.23        66.82233333  80.1725\n",
      "   81.32666667  86.1775      95.055       78.625       66.68166667\n",
      "   55.11        73.2025      53.975       78.15333333  82.05166667\n",
      "   80.68        67.918       62.92333333  80.376       69.16\n",
      "   81.40816667  72.64        52.09       106.61333333  97.1475\n",
      "   84.16666667  84.52666667  70.65        96.39        78.45\n",
      "  100.55916667  58.42       104.66        52.81        81.735\n",
      "   69.77666667  71.15333333  81.545       71.856       77.34933333\n",
      "   78.8975      56.51333333  67.71166667  61.312       65.91583333\n",
      "   62.99833333  61.44666667  68.75        69.515      104.37\n",
      "   80.22066667  83.71        64.66833333  53.445       62.70166667\n",
      "   85.30583333  98.225       95.305       80.25666667  58.07333333\n",
      "   62.52        82.453       46.77333333  77.62        85.8175\n",
      "   84.11      ]\n",
      " [ 80.4         71.46        56.69866667  64.57        85.19\n",
      "   59.58        84.00583333  89.93333333  64.73666667  84.39\n",
      "   70.21433333  84.32833333  99.59        79.47666667  66.91\n",
      "   94.80666667  60.445       68.14666667  54.46333333  95.42\n",
      "   67.5         75.409       76.676       62.89266667  79.4\n",
      "   80.135       65.846       72.3375      66.295       86.96166667\n",
      "   78.035       85.48666667  94.40583333  72.72        69.23\n",
      "   54.96        75.5725      56.273       73.38083333  83.6175\n",
      "   75.245       78.28333333  59.214       80.86833333  68.28\n",
      "   77.856       73.5         58.09066667 105.28        95.065\n",
      "   89.6925      82.92166667  69.59333333  97.19833333  81.48\n",
      "   95.15666667  59.38       107.26666667  49.67        85.4475\n",
      "   71.72333333  71.37333333  76.54        69.02        78.44333333\n",
      "   75.38        59.25        68.24333333  59.2         62.75333333\n",
      "   68.17866667  61.98        70.7         69.995      105.13833333\n",
      "   79.63        82.115       67.31866667  51.95        63.83333333\n",
      "   85.44555556  93.4        100.77        81.985       54.54666667\n",
      "   58.05        82.97        48.13666667  71.36        84.014\n",
      "   78.57      ]\n",
      " [ 78.93        66.9375      52.57666667  67.18        88.74\n",
      "   57.21        76.9325      93.94        61.588       89.07\n",
      "   64.85        79.9825     102.39        78.0425      67.92\n",
      "   96.05166667  56.70666667  74.83        54.281       96.47666667\n",
      "   66.775       73.55233333  82.73916667  57.42333333  78.01\n",
      "   66.6         65.26066667  76.24        67.645       84.33\n",
      "   75.835       86.7725      91.61        73.05        67.19916667\n",
      "   54.93066667  80.73        56.72733333  70.854       87.0175\n",
      "   87.23        81.84333333  62.77333333  80.4505      69.1625\n",
      "   73.0925      72.4         61.8        108.61       101.805\n",
      "   89.055       82.71583333  67.71        99.04083333  81.\n",
      "   96.60583333  57.33       108.22        52.20666667  84.29\n",
      "   70.6625      74.52        86.45        63.026       81.125\n",
      "   74.35583333  58.88        68.884       60.35        66.66\n",
      "   73.21733333  63.18133333  65.27        63.985      103.89\n",
      "   79.55916667  85.0175      64.733       55.74833333  67.43111111\n",
      "   89.6125      92.245       98.56833333  80.46333333  52.99833333\n",
      "   65.21733333  80.785       45.07666667  67.62        82.635\n",
      "   82.4075    ]\n",
      " [ 78.5525      67.06        51.325       71.082       86.06666667\n",
      "   56.58        82.32583333  94.95666667  64.1425      88.49333333\n",
      "   61.03333333  83.603      103.16        77.54        65.19\n",
      "   96.77583333  59.83333333  70.345       59.65333333  94.035\n",
      "   66.03        72.634       81.25916667  65.046       76.65\n",
      "   72.61333333  64.34        75.476       66.19        87.50583333\n",
      "   75.385       86.15666667  92.66833333  70.455       65.9625\n",
      "   55.96066667  76.01        57.35433333  69.025       84.315\n",
      "   79.79        79.20333333  64.          78.685       65.52\n",
      "   77.132       71.92        61.07833333 107.14       101.81\n",
      "   94.15166667  87.4675      64.78333333  93.60541667  79.86\n",
      "   93.86666667  55.01       103.19833333  55.18666667  81.88\n",
      "   65.37        78.445       87.1925      65.926       79.135\n",
      "   76.8465      59.121       64.54166667  61.63        64.15\n",
      "   69.435       64.39166667  67.665       68.42       106.1\n",
      "   79.61833333  85.725       62.78933333  54.15        64.28066667\n",
      "   87.99416667  93.14       103.81        80.055       58.02\n",
      "   64.2225      82.445       47.955       72.95        84.495\n",
      "   80.489     ]\n",
      " [ 78.605       71.756       53.73666667  70.          85.69\n",
      "   60.51666667  78.966       92.16416667  59.26666667  84.023\n",
      "   61.35766667  73.78333333 102.985       79.2         66.23\n",
      "   95.045       62.42333333  73.385       58.34        99.90666667\n",
      "   66.83        76.921       82.09916667  60.61733333  76.4\n",
      "   68.0985      62.21        76.88        67.57        91.5675\n",
      "   77.59        84.68666667  96.29166667  71.04        63.27\n",
      "   57.79166667  83.62        61.01666667  71.18766667  81.42333333\n",
      "   76.005       80.57666667  62.81        82.13133333  66.66\n",
      "   78.79        73.07        62.75066667 104.19       100.275\n",
      "   93.26166667  89.38916667  65.38833333 101.2         76.82\n",
      "   92.85166667  53.42       103.18666667  54.17166667  85.81\n",
      "   64.285       69.82166667  87.1         67.108       81.0625\n",
      "   72.01        58.87166667  61.92833333  59.17        64.59\n",
      "   71.83416667  62.87166667  71.035       69.6975     102.46\n",
      "   79.7275      85.53333333  64.07333333  54.865       65.93666667\n",
      "   89.86        94.43166667 103.79333333  78.117       56.61833333\n",
      "   60.065       85.8975      47.35        77.43        83.8625\n",
      "   82.3525    ]\n",
      " [ 76.56166667  77.075       55.69666667  69.83916667  86.08\n",
      "   56.53766667  86.84833333  93.85        62.84        84.495\n",
      "   60.15666667  82.065      101.63        81.40166667  62.22\n",
      "   94.11333333  62.01        70.315       56.86666667  99.52666667\n",
      "   60.44833333  71.87666667  79.45108333  60.18266667  79.552\n",
      "   76.1235      66.315       72.8         69.39666667  92.13166667\n",
      "   76.19833333  80.66        91.64333333  71.51        58.14333333\n",
      "   56.87083333  82.56333333  55.764       69.03        82.81\n",
      "   74.27        83.1         66.44        80.29583333  64.05\n",
      "   73.855       74.65        64.04766667 108.26        98.61\n",
      "   90.92        88.00666667  65.06366667 100.19083333  79.4\n",
      "   93.2325      53.51       101.42666667  51.89833333  84.138\n",
      "   64.5         63.61        85.775       68.49166667  81.13\n",
      "   69.5815      60.49        61.3475      60.51        61.925\n",
      "   73.93133333  65.45        66.77        70.24666667 103.76333333\n",
      "   80.168       86.28166667  62.465       52.705       66.02\n",
      "   89.06166667  95.69083333 104.79583333  79.31690476  54.135\n",
      "   57.92        85.71        48.40166667  77.11333333  82.46166667\n",
      "   81.38083333]\n",
      " [ 76.6625      80.535       52.31333333  70.98        85.79\n",
      "   57.978       84.42166667  93.1975      54.185       82.7375\n",
      "   66.785       77.43933333 100.23        78.0375      62.53\n",
      "   95.25166667  60.05166667  79.5475      59.06666667  96.32166667\n",
      "   67.87        67.68233333  79.228       58.61666667  74.04\n",
      "   72.835       66.185       78.13        69.65        93.0175\n",
      "   73.87        85.0315      91.805       71.04        72.06333333\n",
      "   58.67666667  81.3155      56.84        67.9675      85.65\n",
      "   74.345       82.11666667  61.56        75.72083333  63.22\n",
      "   76.34        72.48        64.75       109.87        97.93\n",
      "   92.36333333  87.06        63.685       95.68666667  77.23\n",
      "   89.79708333  53.01       102.31        53.17333333  80.715\n",
      "   69.855       65.636       88.33        69.1135      81.3175\n",
      "   70.71583333  60.45        56.99        58.375       64.3275\n",
      "   70.25        64.506       74.2925      73.76       103.66083333\n",
      "   79.41433333  82.37        60.74333333  51.88166667  63.97333333\n",
      "   90.14333333  95.76833333 102.46        75.73583333  61.45833333\n",
      "   65.73666667  87.055       48.89333333  80.895       84.19333333\n",
      "   78.24666667]\n",
      " [ 79.74        78.235       50.23        67.37        86.46\n",
      "   58.14766667  89.52166667  93.45166667  54.83        80.86\n",
      "   64.39566667  76.735      102.1         73.46        62.38\n",
      "   95.48333333  60.31666667  75.07        59.267      101.3925\n",
      "   62.615       68.92916667  76.72        54.8705      78.65\n",
      "   76.945       64.19        73.74        66.47        90.8325\n",
      "   75.84        83.8625      93.70666667  75.23        68.795\n",
      "   58.455       80.38        59.79        69.69        86.33333333\n",
      "   73.1         80.355       59.2         77.795       64.68\n",
      "   77.735       72.59        66.90833333 104.76        98.27916667\n",
      "   92.09666667  91.92416667  60.92        98.11333333  78.37\n",
      "   90.01        53.78       101.10333333  53.16        77.265\n",
      "   74.4825      64.83666667  86.3075      66.81        81.81\n",
      "   69.075       58.76833333  54.47333333  58.95        63.32066667\n",
      "   70.685       66.45        74.03        69.48       104.8375\n",
      "   79.36904762  73.85166667  61.25666667  49.12        64.36533333\n",
      "   90.71916667  98.43166667 103.36        80.222       60.21166667\n",
      "   61.71666667  85.295       46.095       76.87        86.15166667\n",
      "   80.21333333]]\n",
      "[[ 85.  44.  62.  57.  71.  42.  98.  88.  58.  81.  42.  57.  71.  63.\n",
      "   54.  80.  34.  76.  38.  79.  60.  53.  83.  30.  63.  72.  71.  41.\n",
      "   67.  86.  73.  32.  81.  54.  62.  55.  61.  42.  67.  54.  85.  71.\n",
      "   73.  97.  83.  78.  92.  61. 109. 120. 117.  87.  56.  95. 106.  78.\n",
      "   68. 103.  48.  80.  92.  75. 111.  72.  83. 103.  57.  46.  89.  99.\n",
      "   83.  84.  62.  89. 112.  80.  75.  66.  58. 109.  96. 100.  87.  89.\n",
      "   70.  79.  89.  61.  90.  94. 120.]\n",
      " [ 85.  44.  62.  57.  71.  42.  98.  88.  58.  81.  42.  57.  71.  63.\n",
      "   54.  80.  34.  76.  38.  79.  60.  53.  83.  30.  63.  72.  71.  41.\n",
      "   67.  86.  73.  32.  81.  54.  62.  55.  61.  42.  67.  54.  85.  71.\n",
      "   73.  97.  83.  78.  92.  61. 109. 120. 117.  87.  56.  95. 106.  78.\n",
      "   68. 103.  48.  80.  92.  75. 111.  72.  83. 103.  57.  46.  89.  99.\n",
      "   83.  84.  62.  89. 112.  80.  75.  66.  58. 109.  96. 100.  87.  89.\n",
      "   70.  79.  89.  61.  90.  94. 120.]\n",
      " [ 85.  44.  62.  57.  71.  42.  98.  88.  58.  81.  42.  57.  71.  63.\n",
      "   54.  80.  34.  76.  38.  79.  60.  53.  83.  30.  63.  72.  71.  41.\n",
      "   67.  86.  73.  32.  81.  54.  62.  55.  61.  42.  67.  54.  85.  71.\n",
      "   73.  97.  83.  78.  92.  61. 109. 120. 117.  87.  56.  95. 106.  78.\n",
      "   68. 103.  48.  80.  92.  75. 111.  72.  83. 103.  57.  46.  89.  99.\n",
      "   83.  84.  62.  89. 112.  80.  75.  66.  58. 109.  96. 100.  87.  89.\n",
      "   70.  79.  89.  61.  90.  94. 120.]\n",
      " [ 85.  44.  62.  57.  71.  42.  98.  88.  58.  81.  42.  57.  71.  63.\n",
      "   54.  80.  34.  76.  38.  79.  60.  53.  83.  30.  63.  72.  71.  41.\n",
      "   67.  86.  73.  32.  81.  54.  62.  55.  61.  42.  67.  54.  85.  71.\n",
      "   73.  97.  83.  78.  92.  61. 109. 120. 117.  87.  56.  95. 106.  78.\n",
      "   68. 103.  48.  80.  92.  75. 111.  72.  83. 103.  57.  46.  89.  99.\n",
      "   83.  84.  62.  89. 112.  80.  75.  66.  58. 109.  96. 100.  87.  89.\n",
      "   70.  79.  89.  61.  90.  94. 120.]\n",
      " [ 85.  44.  62.  57.  71.  42.  98.  88.  58.  81.  42.  57.  71.  63.\n",
      "   54.  80.  34.  76.  38.  79.  60.  53.  83.  30.  63.  72.  71.  41.\n",
      "   67.  86.  73.  32.  81.  54.  62.  55.  61.  42.  67.  54.  85.  71.\n",
      "   73.  97.  83.  78.  92.  61. 109. 120. 117.  87.  56.  95. 106.  78.\n",
      "   68. 103.  48.  80.  92.  75. 111.  72.  83. 103.  57.  46.  89.  99.\n",
      "   83.  84.  62.  89. 112.  80.  75.  66.  58. 109.  96. 100.  87.  89.\n",
      "   70.  79.  89.  61.  90.  94. 120.]\n",
      " [ 85.  44.  62.  57.  71.  42.  98.  88.  58.  81.  42.  57.  71.  63.\n",
      "   54.  80.  34.  76.  38.  79.  60.  53.  83.  30.  63.  72.  71.  41.\n",
      "   67.  86.  73.  32.  81.  54.  62.  55.  61.  42.  67.  54.  85.  71.\n",
      "   73.  97.  83.  78.  92.  61. 109. 120. 117.  87.  56.  95. 106.  78.\n",
      "   68. 103.  48.  80.  92.  75. 111.  72.  83. 103.  57.  46.  89.  99.\n",
      "   83.  84.  62.  89. 112.  80.  75.  66.  58. 109.  96. 100.  87.  89.\n",
      "   70.  79.  89.  61.  90.  94. 120.]\n",
      " [ 85.  44.  62.  57.  71.  42.  98.  88.  58.  81.  42.  57.  71.  63.\n",
      "   54.  80.  34.  76.  38.  79.  60.  53.  83.  30.  63.  72.  71.  41.\n",
      "   67.  86.  73.  32.  81.  54.  62.  55.  61.  42.  67.  54.  85.  71.\n",
      "   73.  97.  83.  78.  92.  61. 109. 120. 117.  87.  56.  95. 106.  78.\n",
      "   68. 103.  48.  80.  92.  75. 111.  72.  83. 103.  57.  46.  89.  99.\n",
      "   83.  84.  62.  89. 112.  80.  75.  66.  58. 109.  96. 100.  87.  89.\n",
      "   70.  79.  89.  61.  90.  94. 120.]\n",
      " [ 85.  44.  62.  57.  71.  42.  98.  88.  58.  81.  42.  57.  71.  63.\n",
      "   54.  80.  34.  76.  38.  79.  60.  53.  83.  30.  63.  72.  71.  41.\n",
      "   67.  86.  73.  32.  81.  54.  62.  55.  61.  42.  67.  54.  85.  71.\n",
      "   73.  97.  83.  78.  92.  61. 109. 120. 117.  87.  56.  95. 106.  78.\n",
      "   68. 103.  48.  80.  92.  75. 111.  72.  83. 103.  57.  46.  89.  99.\n",
      "   83.  84.  62.  89. 112.  80.  75.  66.  58. 109.  96. 100.  87.  89.\n",
      "   70.  79.  89.  61.  90.  94. 120.]\n",
      " [ 85.  44.  62.  57.  71.  42.  98.  88.  58.  81.  42.  57.  71.  63.\n",
      "   54.  80.  34.  76.  38.  79.  60.  53.  83.  30.  63.  72.  71.  41.\n",
      "   67.  86.  73.  32.  81.  54.  62.  55.  61.  42.  67.  54.  85.  71.\n",
      "   73.  97.  83.  78.  92.  61. 109. 120. 117.  87.  56.  95. 106.  78.\n",
      "   68. 103.  48.  80.  92.  75. 111.  72.  83. 103.  57.  46.  89.  99.\n",
      "   83.  84.  62.  89. 112.  80.  75.  66.  58. 109.  96. 100.  87.  89.\n",
      "   70.  79.  89.  61.  90.  94. 120.]\n",
      " [ 85.  44.  62.  57.  71.  42.  98.  88.  58.  81.  42.  57.  71.  63.\n",
      "   54.  80.  34.  76.  38.  79.  60.  53.  83.  30.  63.  72.  71.  41.\n",
      "   67.  86.  73.  32.  81.  54.  62.  55.  61.  42.  67.  54.  85.  71.\n",
      "   73.  97.  83.  78.  92.  61. 109. 120. 117.  87.  56.  95. 106.  78.\n",
      "   68. 103.  48.  80.  92.  75. 111.  72.  83. 103.  57.  46.  89.  99.\n",
      "   83.  84.  62.  89. 112.  80.  75.  66.  58. 109.  96. 100.  87.  89.\n",
      "   70.  79.  89.  61.  90.  94. 120.]]\n"
     ]
    },
    {
     "data": {
      "image/png": "[encoded data removed]",
      "text/plain": [
       "<Figure size 432x288 with 1 Axes>"
      ]
     },
     "metadata": {
      "needs_background": "light"
     },
     "output_type": "display_data"
    },
    {
     "data": {
      "image/png": "[encoded data removed]",
      "text/plain": [
       "<Figure size 432x288 with 1 Axes>"
      ]
     },
     "metadata": {
      "needs_background": "light"
     },
     "output_type": "display_data"
    },
    {
     "data": {
      "image/png": "[encoded data removed]",
      "text/plain": [
       "<Figure size 432x288 with 1 Axes>"
      ]
     },
     "metadata": {
      "needs_background": "light"
     },
     "output_type": "display_data"
    },
    {
     "data": {
      "image/png": "[encoded data removed]",
      "text/plain": [
       "<Figure size 432x288 with 1 Axes>"
      ]
     },
     "metadata": {
      "needs_background": "light"
     },
     "output_type": "display_data"
    }
   ],
   "source": [
    "print(y_pred_out)\n",
    "print(y_test_out)\n",
    "\n",
    "plt.title('Pred vs. Actual 10 sec')\n",
    "plt.plot(y_test_out[0],y_pred_out[0],'r*')\n",
    "plt.xlabel('Actual y')\n",
    "plt.ylabel('Predicted y')\n",
    "plt.show()\n",
    "\n",
    "plt.title('Pred vs. Actual 60 sec')\n",
    "plt.plot(y_test_out[3],y_pred_out[3],'r*')\n",
    "plt.xlabel('Actual y')\n",
    "plt.ylabel('Predicted y')\n",
    "plt.show()\n",
    "\n",
    "plt.title('Pred vs. Actual 120 sec')\n",
    "plt.plot(y_test_out[5],y_pred_out[5],'r*')\n",
    "plt.xlabel('Actual y')\n",
    "plt.ylabel('Predicted y')\n",
    "plt.show()\n",
    "\n",
    "plt.title('Pred vs. Actual 360 sec')\n",
    "plt.plot(y_test_out[9],y_pred_out[9],'r*')\n",
    "plt.xlabel('Actual y')\n",
    "plt.ylabel('Predicted y')\n",
    "plt.show()\n",
    "\n"
   ]
  },
  {
   "cell_type": "code",
   "execution_count": 51,
   "metadata": {
    "scrolled": true
   },
   "outputs": [
    {
     "name": "stdout",
     "output_type": "stream",
     "text": [
      "91\n"
     ]
    },
    {
     "data": {
      "text/html": [
       "<div>\n",
       "<style scoped>\n",
       "    .dataframe tbody tr th:only-of-type {\n",
       "        vertical-align: middle;\n",
       "    }\n",
       "\n",
       "    .dataframe tbody tr th {\n",
       "        vertical-align: top;\n",
       "    }\n",
       "\n",
       "    .dataframe thead th {\n",
       "        text-align: right;\n",
       "    }\n",
       "</style>\n",
       "<table border=\"1\" class=\"dataframe\">\n",
       "  <thead>\n",
       "    <tr style=\"text-align: right;\">\n",
       "      <th></th>\n",
       "      <th>Feature</th>\n",
       "      <th>Importance</th>\n",
       "    </tr>\n",
       "  </thead>\n",
       "  <tbody>\n",
       "    <tr>\n",
       "      <td>5</td>\n",
       "      <td>AoM_Ankle_US_y</td>\n",
       "      <td>0.089088</td>\n",
       "    </tr>\n",
       "    <tr>\n",
       "      <td>12</td>\n",
       "      <td>SC_Gyr_norm_mean</td>\n",
       "      <td>0.063515</td>\n",
       "    </tr>\n",
       "    <tr>\n",
       "      <td>20</td>\n",
       "      <td>DLS_L_Gyr_norm_rms</td>\n",
       "      <td>0.060257</td>\n",
       "    </tr>\n",
       "    <tr>\n",
       "      <td>3</td>\n",
       "      <td>AoM_Pel_norm</td>\n",
       "      <td>0.057981</td>\n",
       "    </tr>\n",
       "    <tr>\n",
       "      <td>2</td>\n",
       "      <td>AoM_Pel_oblq</td>\n",
       "      <td>0.054119</td>\n",
       "    </tr>\n",
       "    <tr>\n",
       "      <td>4</td>\n",
       "      <td>AoM_Ankle_US_x</td>\n",
       "      <td>0.040624</td>\n",
       "    </tr>\n",
       "    <tr>\n",
       "      <td>18</td>\n",
       "      <td>SC_Gyr_norm_rms</td>\n",
       "      <td>0.037682</td>\n",
       "    </tr>\n",
       "    <tr>\n",
       "      <td>15</td>\n",
       "      <td>SC_Gyr_norm_range</td>\n",
       "      <td>0.035655</td>\n",
       "    </tr>\n",
       "    <tr>\n",
       "      <td>10</td>\n",
       "      <td>AoM_Ankle_AS_z</td>\n",
       "      <td>0.033294</td>\n",
       "    </tr>\n",
       "    <tr>\n",
       "      <td>9</td>\n",
       "      <td>AoM_Ankle_AS_y</td>\n",
       "      <td>0.031168</td>\n",
       "    </tr>\n",
       "    <tr>\n",
       "      <td>29</td>\n",
       "      <td>DLS_L_Gyr_norm_kurtosis</td>\n",
       "      <td>0.026524</td>\n",
       "    </tr>\n",
       "    <tr>\n",
       "      <td>8</td>\n",
       "      <td>AoM_Ankle_AS_x</td>\n",
       "      <td>0.024955</td>\n",
       "    </tr>\n",
       "    <tr>\n",
       "      <td>49</td>\n",
       "      <td>DLS_R_Acc_norm_kurtosis</td>\n",
       "      <td>0.023593</td>\n",
       "    </tr>\n",
       "    <tr>\n",
       "      <td>14</td>\n",
       "      <td>DLS_L_Gyr_norm_mean</td>\n",
       "      <td>0.018697</td>\n",
       "    </tr>\n",
       "    <tr>\n",
       "      <td>16</td>\n",
       "      <td>DLS_R_Gyr_norm_range</td>\n",
       "      <td>0.016640</td>\n",
       "    </tr>\n",
       "    <tr>\n",
       "      <td>27</td>\n",
       "      <td>SC_Gyr_norm_kurtosis</td>\n",
       "      <td>0.015959</td>\n",
       "    </tr>\n",
       "    <tr>\n",
       "      <td>1</td>\n",
       "      <td>AoM_Pel_ro</td>\n",
       "      <td>0.015910</td>\n",
       "    </tr>\n",
       "    <tr>\n",
       "      <td>24</td>\n",
       "      <td>SC_Gyr_norm_skew</td>\n",
       "      <td>0.015865</td>\n",
       "    </tr>\n",
       "    <tr>\n",
       "      <td>28</td>\n",
       "      <td>DLS_R_Gyr_norm_kurtosis</td>\n",
       "      <td>0.015622</td>\n",
       "    </tr>\n",
       "    <tr>\n",
       "      <td>22</td>\n",
       "      <td>DLS_R_Gyr_norm_std</td>\n",
       "      <td>0.015355</td>\n",
       "    </tr>\n",
       "    <tr>\n",
       "      <td>50</td>\n",
       "      <td>DLS_L_Acc_norm_kurtosis</td>\n",
       "      <td>0.015288</td>\n",
       "    </tr>\n",
       "    <tr>\n",
       "      <td>45</td>\n",
       "      <td>SC_Acc_norm_skew</td>\n",
       "      <td>0.014319</td>\n",
       "    </tr>\n",
       "    <tr>\n",
       "      <td>17</td>\n",
       "      <td>DLS_L_Gyr_norm_range</td>\n",
       "      <td>0.014102</td>\n",
       "    </tr>\n",
       "    <tr>\n",
       "      <td>36</td>\n",
       "      <td>SC_Acc_norm_range</td>\n",
       "      <td>0.013943</td>\n",
       "    </tr>\n",
       "    <tr>\n",
       "      <td>21</td>\n",
       "      <td>SC_Gyr_norm_std</td>\n",
       "      <td>0.013302</td>\n",
       "    </tr>\n",
       "    <tr>\n",
       "      <td>0</td>\n",
       "      <td>AoM_Pel_tilt</td>\n",
       "      <td>0.012765</td>\n",
       "    </tr>\n",
       "    <tr>\n",
       "      <td>23</td>\n",
       "      <td>DLS_L_Gyr_norm_std</td>\n",
       "      <td>0.012723</td>\n",
       "    </tr>\n",
       "    <tr>\n",
       "      <td>48</td>\n",
       "      <td>SC_Acc_norm_kurtosis</td>\n",
       "      <td>0.012305</td>\n",
       "    </tr>\n",
       "    <tr>\n",
       "      <td>13</td>\n",
       "      <td>DLS_R_Gyr_norm_mean</td>\n",
       "      <td>0.012183</td>\n",
       "    </tr>\n",
       "    <tr>\n",
       "      <td>33</td>\n",
       "      <td>SC_Acc_norm_mean</td>\n",
       "      <td>0.012076</td>\n",
       "    </tr>\n",
       "    <tr>\n",
       "      <td>52</td>\n",
       "      <td>DLS_R_Acc_norm_SamEn</td>\n",
       "      <td>0.011935</td>\n",
       "    </tr>\n",
       "    <tr>\n",
       "      <td>46</td>\n",
       "      <td>DLS_R_Acc_norm_skew</td>\n",
       "      <td>0.010358</td>\n",
       "    </tr>\n",
       "    <tr>\n",
       "      <td>47</td>\n",
       "      <td>DLS_L_Acc_norm_skew</td>\n",
       "      <td>0.010348</td>\n",
       "    </tr>\n",
       "    <tr>\n",
       "      <td>42</td>\n",
       "      <td>SC_Acc_norm_std</td>\n",
       "      <td>0.009256</td>\n",
       "    </tr>\n",
       "    <tr>\n",
       "      <td>25</td>\n",
       "      <td>DLS_R_Gyr_norm_skew</td>\n",
       "      <td>0.009204</td>\n",
       "    </tr>\n",
       "    <tr>\n",
       "      <td>37</td>\n",
       "      <td>DLS_R_Acc_norm_range</td>\n",
       "      <td>0.009073</td>\n",
       "    </tr>\n",
       "    <tr>\n",
       "      <td>51</td>\n",
       "      <td>SC_Acc_norm_SamEn</td>\n",
       "      <td>0.008877</td>\n",
       "    </tr>\n",
       "    <tr>\n",
       "      <td>38</td>\n",
       "      <td>DLS_L_Acc_norm_range</td>\n",
       "      <td>0.008849</td>\n",
       "    </tr>\n",
       "    <tr>\n",
       "      <td>11</td>\n",
       "      <td>AoM_Ankle_US_norm</td>\n",
       "      <td>0.008733</td>\n",
       "    </tr>\n",
       "    <tr>\n",
       "      <td>7</td>\n",
       "      <td>AoM_Ankle_US_norm</td>\n",
       "      <td>0.008563</td>\n",
       "    </tr>\n",
       "    <tr>\n",
       "      <td>53</td>\n",
       "      <td>DLS_L_Acc_norm_SamEn</td>\n",
       "      <td>0.008399</td>\n",
       "    </tr>\n",
       "    <tr>\n",
       "      <td>39</td>\n",
       "      <td>SC_Acc_norm_rms</td>\n",
       "      <td>0.008318</td>\n",
       "    </tr>\n",
       "    <tr>\n",
       "      <td>30</td>\n",
       "      <td>SC_Gyr_norm_SamEn</td>\n",
       "      <td>0.008240</td>\n",
       "    </tr>\n",
       "    <tr>\n",
       "      <td>40</td>\n",
       "      <td>DLS_R_Acc_norm_rms</td>\n",
       "      <td>0.007533</td>\n",
       "    </tr>\n",
       "    <tr>\n",
       "      <td>31</td>\n",
       "      <td>DLS_R_Gyr_norm_SamEn</td>\n",
       "      <td>0.005890</td>\n",
       "    </tr>\n",
       "    <tr>\n",
       "      <td>32</td>\n",
       "      <td>DLS_L_Gyr_norm_SamEn</td>\n",
       "      <td>0.005846</td>\n",
       "    </tr>\n",
       "    <tr>\n",
       "      <td>43</td>\n",
       "      <td>DLS_R_Acc_norm_std</td>\n",
       "      <td>0.005776</td>\n",
       "    </tr>\n",
       "    <tr>\n",
       "      <td>26</td>\n",
       "      <td>DLS_L_Gyr_norm_skew</td>\n",
       "      <td>0.005457</td>\n",
       "    </tr>\n",
       "    <tr>\n",
       "      <td>35</td>\n",
       "      <td>DLS_L_Acc_norm_mean</td>\n",
       "      <td>0.005022</td>\n",
       "    </tr>\n",
       "    <tr>\n",
       "      <td>6</td>\n",
       "      <td>AoM_Ankle_US_z</td>\n",
       "      <td>0.004857</td>\n",
       "    </tr>\n",
       "    <tr>\n",
       "      <td>34</td>\n",
       "      <td>DLS_R_Acc_norm_mean</td>\n",
       "      <td>0.004259</td>\n",
       "    </tr>\n",
       "    <tr>\n",
       "      <td>19</td>\n",
       "      <td>DLS_R_Gyr_norm_rms</td>\n",
       "      <td>0.003897</td>\n",
       "    </tr>\n",
       "    <tr>\n",
       "      <td>44</td>\n",
       "      <td>DLS_L_Acc_norm_std</td>\n",
       "      <td>0.003453</td>\n",
       "    </tr>\n",
       "    <tr>\n",
       "      <td>41</td>\n",
       "      <td>DLS_L_Acc_norm_rms</td>\n",
       "      <td>0.002346</td>\n",
       "    </tr>\n",
       "  </tbody>\n",
       "</table>\n",
       "</div>"
      ],
      "text/plain": [
       "                    Feature  Importance\n",
       "5            AoM_Ankle_US_y    0.089088\n",
       "12         SC_Gyr_norm_mean    0.063515\n",
       "20       DLS_L_Gyr_norm_rms    0.060257\n",
       "3              AoM_Pel_norm    0.057981\n",
       "2              AoM_Pel_oblq    0.054119\n",
       "4            AoM_Ankle_US_x    0.040624\n",
       "18          SC_Gyr_norm_rms    0.037682\n",
       "15        SC_Gyr_norm_range    0.035655\n",
       "10           AoM_Ankle_AS_z    0.033294\n",
       "9            AoM_Ankle_AS_y    0.031168\n",
       "29  DLS_L_Gyr_norm_kurtosis    0.026524\n",
       "8            AoM_Ankle_AS_x    0.024955\n",
       "49  DLS_R_Acc_norm_kurtosis    0.023593\n",
       "14      DLS_L_Gyr_norm_mean    0.018697\n",
       "16     DLS_R_Gyr_norm_range    0.016640\n",
       "27     SC_Gyr_norm_kurtosis    0.015959\n",
       "1                AoM_Pel_ro    0.015910\n",
       "24         SC_Gyr_norm_skew    0.015865\n",
       "28  DLS_R_Gyr_norm_kurtosis    0.015622\n",
       "22       DLS_R_Gyr_norm_std    0.015355\n",
       "50  DLS_L_Acc_norm_kurtosis    0.015288\n",
       "45         SC_Acc_norm_skew    0.014319\n",
       "17     DLS_L_Gyr_norm_range    0.014102\n",
       "36        SC_Acc_norm_range    0.013943\n",
       "21          SC_Gyr_norm_std    0.013302\n",
       "0              AoM_Pel_tilt    0.012765\n",
       "23       DLS_L_Gyr_norm_std    0.012723\n",
       "48     SC_Acc_norm_kurtosis    0.012305\n",
       "13      DLS_R_Gyr_norm_mean    0.012183\n",
       "33         SC_Acc_norm_mean    0.012076\n",
       "52     DLS_R_Acc_norm_SamEn    0.011935\n",
       "46      DLS_R_Acc_norm_skew    0.010358\n",
       "47      DLS_L_Acc_norm_skew    0.010348\n",
       "42          SC_Acc_norm_std    0.009256\n",
       "25      DLS_R_Gyr_norm_skew    0.009204\n",
       "37     DLS_R_Acc_norm_range    0.009073\n",
       "51        SC_Acc_norm_SamEn    0.008877\n",
       "38     DLS_L_Acc_norm_range    0.008849\n",
       "11        AoM_Ankle_US_norm    0.008733\n",
       "7         AoM_Ankle_US_norm    0.008563\n",
       "53     DLS_L_Acc_norm_SamEn    0.008399\n",
       "39          SC_Acc_norm_rms    0.008318\n",
       "30        SC_Gyr_norm_SamEn    0.008240\n",
       "40       DLS_R_Acc_norm_rms    0.007533\n",
       "31     DLS_R_Gyr_norm_SamEn    0.005890\n",
       "32     DLS_L_Gyr_norm_SamEn    0.005846\n",
       "43       DLS_R_Acc_norm_std    0.005776\n",
       "26      DLS_L_Gyr_norm_skew    0.005457\n",
       "35      DLS_L_Acc_norm_mean    0.005022\n",
       "6            AoM_Ankle_US_z    0.004857\n",
       "34      DLS_R_Acc_norm_mean    0.004259\n",
       "19       DLS_R_Gyr_norm_rms    0.003897\n",
       "44       DLS_L_Acc_norm_std    0.003453\n",
       "41       DLS_L_Acc_norm_rms    0.002346"
      ]
     },
     "execution_count": 51,
     "metadata": {},
     "output_type": "execute_result"
    }
   ],
   "source": [
    "print(len(y))\n",
    "\n",
    "\n",
    "# feature_df = data_filter[['AoM_Pel_tilt', 'AoM_Pel_ro', 'AoM_Pel_oblq', 'AoM_Pel_norm',\n",
    "#     'AoM_Ankle_US_x', 'AoM_Ankle_US_y', 'AoM_Ankle_US_z', 'AoM_Ankle_US_norm',\n",
    "#     'AoM_Ankle_AS_x', 'AoM_Ankle_AS_y', 'AoM_Ankle_AS_z', 'AoM_Ankle_US_norm',\n",
    "#     'SC_Gyr_norm_mean', 'DLS_R_Gyr_norm_mean', 'DLS_L_Gyr_norm_mean',\n",
    "#     'SC_Gyr_norm_range', 'DLS_R_Gyr_norm_range', 'DLS_L_Gyr_norm_range',\n",
    "#     'SC_Gyr_norm_rms', 'DLS_R_Gyr_norm_rms', 'DLS_L_Gyr_norm_rms',\n",
    "#     'SC_Gyr_norm_std', 'DLS_R_Gyr_norm_std', 'DLS_L_Gyr_norm_std',\n",
    "#     'SC_Gyr_norm_skew', 'DLS_R_Gyr_norm_skew', 'DLS_L_Gyr_norm_skew',\n",
    "#     'SC_Gyr_norm_kurtosis', 'DLS_R_Gyr_norm_kurtosis', 'DLS_L_Gyr_norm_kurtosis',\n",
    "#     'SC_Gyr_norm_SamEn', 'DLS_R_Gyr_norm_SamEn', 'DLS_L_Gyr_norm_SamEn',\n",
    "#     'SC_Acc_norm_mean', 'DLS_R_Acc_norm_mean', 'DLS_L_Acc_norm_mean',\n",
    "#     'SC_Acc_norm_range', 'DLS_R_Acc_norm_range', 'DLS_L_Acc_norm_range',\n",
    "#     'SC_Acc_norm_rms', 'DLS_R_Acc_norm_rms', 'DLS_L_Acc_norm_rms',\n",
    "#     'SC_Acc_norm_std', 'DLS_R_Acc_norm_std', 'DLS_L_Acc_norm_std',\n",
    "#     'SC_Acc_norm_skew', 'DLS_R_Acc_norm_skew', 'DLS_L_Acc_norm_skew',\n",
    "#     'SC_Acc_norm_kurtosis', 'DLS_R_Acc_norm_kurtosis', 'DLS_L_Acc_norm_kurtosis',\n",
    "#     'SC_Acc_norm_SamEn', 'DLS_R_Acc_norm_SamEn', 'DLS_L_Acc_norm_SamEn'\n",
    "#     ]]\n",
    "\n",
    "feature_importance = pd.DataFrame({'Feature': feature_df.columns,\n",
    "                                   'Importance': regressor.feature_importances_})\n",
    "feature_importance.sort_values(by=['Importance'], ascending=False)\n",
    "\n"
   ]
  }
 ],
 "metadata": {
  "kernelspec": {
   "display_name": "Python 3",
   "language": "python",
   "name": "python3"
  },
  "language_info": {
   "codemirror_mode": {
    "name": "ipython",
    "version": 3
   },
   "file_extension": ".py",
   "mimetype": "text/x-python",
   "name": "python",
   "nbconvert_exporter": "python",
   "pygments_lexer": "ipython3",
   "version": "3.7.4"
  }
 },
 "nbformat": 4,
 "nbformat_minor": 2
}
